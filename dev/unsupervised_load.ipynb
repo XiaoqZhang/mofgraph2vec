{
 "cells": [
  {
   "cell_type": "code",
   "execution_count": 1,
   "metadata": {},
   "outputs": [],
   "source": [
    "%load_ext autoreload\n",
    "%autoreload 2"
   ]
  },
  {
   "cell_type": "code",
   "execution_count": 4,
   "metadata": {},
   "outputs": [],
   "source": [
    "from pymatgen.core.structure import Structure, Lattice\n",
    "from pymatgen.analysis.graphs import StructureGraph\n",
    "from pymatgen.analysis.local_env import CutOffDictNN\n",
    "from torch_geometric.data import Data\n",
    "import numpy as np\n",
    "from omegaconf import OmegaConf\n",
    "from mofgraph2vec.featurize.mof2doc import MOF2doc\n",
    "import pandas as pd\n",
    "from hydra.utils import instantiate\n",
    "from gensim.models.doc2vec import Doc2Vec"
   ]
  },
  {
   "cell_type": "code",
   "execution_count": 3,
   "metadata": {},
   "outputs": [],
   "source": [
    "df_vector = pd.read_csv(\"../data/embedding_example/embedding-h50rl5oi.csv\").set_index(\"type\")"
   ]
  },
  {
   "cell_type": "code",
   "execution_count": 4,
   "metadata": {},
   "outputs": [],
   "source": [
    "config = OmegaConf.load(\"../conf/config.yaml\")\n",
    "config.mof2vec_data = OmegaConf.load(\"../conf/mof2vec_data/data.yaml\")\n",
    "config.mof2vec_model = OmegaConf.load(\"../conf/mof2vec_model/gensim.yaml\")"
   ]
  },
  {
   "cell_type": "code",
   "execution_count": 5,
   "metadata": {},
   "outputs": [],
   "source": [
    "config.mof2vec_data.data.cif_path = [\"../data/cifs/rsm/\"]"
   ]
  },
  {
   "cell_type": "code",
   "execution_count": 6,
   "metadata": {},
   "outputs": [],
   "source": [
    "config.mof2vec_data.data.subsample = 0.005\n",
    "config.mof2vec_data.data.wl_step = 4"
   ]
  },
  {
   "cell_type": "code",
   "execution_count": 7,
   "metadata": {},
   "outputs": [],
   "source": [
    "doc = instantiate(config.mof2vec_data.data, seed=config.seed)"
   ]
  },
  {
   "cell_type": "code",
   "execution_count": 20,
   "metadata": {},
   "outputs": [
    {
     "name": "stderr",
     "output_type": "stream",
     "text": [
      "100%|██████████| 16/16 [00:00<00:00, 285.70it/s]\n"
     ]
    }
   ],
   "source": [
    "documents = doc.get_documents()"
   ]
  },
  {
   "cell_type": "code",
   "execution_count": null,
   "metadata": {},
   "outputs": [],
   "source": [
    "names = [d.tags[0] for d in documents]\n",
    "word_length = [len(d.words) for d in documents]"
   ]
  },
  {
   "cell_type": "code",
   "execution_count": null,
   "metadata": {},
   "outputs": [],
   "source": [
    "word_length_ordered = [l for _, l in sorted(zip(names, word_length))]"
   ]
  },
  {
   "cell_type": "code",
   "execution_count": null,
   "metadata": {},
   "outputs": [],
   "source": [
    "vector_length = np.sum(df_vector**2, axis=1)"
   ]
  },
  {
   "cell_type": "code",
   "execution_count": 9,
   "metadata": {},
   "outputs": [],
   "source": [
    "import matplotlib.pyplot as plt"
   ]
  },
  {
   "cell_type": "code",
   "execution_count": null,
   "metadata": {},
   "outputs": [],
   "source": [
    "plt.scatter(word_length_ordered, vector_length)\n",
    "plt.xlabel(\"MOF document length\")\n",
    "plt.ylabel(\"Embedded vector length\")"
   ]
  },
  {
   "cell_type": "code",
   "execution_count": null,
   "metadata": {},
   "outputs": [],
   "source": [
    "np.corrcoef(word_length_ordered, vector_length)"
   ]
  },
  {
   "cell_type": "code",
   "execution_count": 16,
   "metadata": {},
   "outputs": [],
   "source": [
    "from mofgraph2vec.utils.saving import save_embedding\n",
    "from hydra.utils import instantiate\n",
    "from gensim.models.doc2vec import Doc2Vec"
   ]
  },
  {
   "cell_type": "code",
   "execution_count": 22,
   "metadata": {},
   "outputs": [],
   "source": [
    "model = Doc2Vec(**config.mof2vec_model.gensim)\n",
    "model.build_vocab(documents)"
   ]
  },
  {
   "attachments": {},
   "cell_type": "markdown",
   "metadata": {},
   "source": [
    "# Load embedding model"
   ]
  },
  {
   "cell_type": "code",
   "execution_count": 11,
   "metadata": {},
   "outputs": [],
   "source": [
    "em_model = Doc2Vec.load(\"../experiments/workflow/wandb/offline-run-20230509_154052-ygb7sowe/tmp/embedding_model.pt\")"
   ]
  },
  {
   "cell_type": "code",
   "execution_count": 12,
   "metadata": {},
   "outputs": [
    {
     "data": {
      "text/plain": [
       "20375"
      ]
     },
     "execution_count": 12,
     "metadata": {},
     "output_type": "execute_result"
    }
   ],
   "source": [
    "em_model.corpus_count"
   ]
  },
  {
   "cell_type": "code",
   "execution_count": 13,
   "metadata": {},
   "outputs": [
    {
     "name": "stderr",
     "output_type": "stream",
     "text": [
      "/var/folders/gt/tsyp2wjd1ng0pkr1tf52kn600000gn/T/ipykernel_24774/2944465799.py:1: DeprecationWarning: Call to deprecated `docvecs` (The `docvecs` property has been renamed `dv`.).\n",
      "  em_model.docvecs.most_similar([\"qmof-8a95c27\"])\n"
     ]
    },
    {
     "data": {
      "text/plain": [
       "[('qmof-1c7a916', 0.9535780549049377),\n",
       " ('qmof-9c78145', 0.9474985003471375),\n",
       " ('qmof-3e7bd15', 0.8505899310112),\n",
       " ('qmof-22e7468', 0.7998324036598206),\n",
       " ('qmof-12380d1', 0.7977709174156189),\n",
       " ('qmof-e2f1ea2', 0.7808641195297241),\n",
       " ('qmof-c5d75d5', 0.7623779773712158),\n",
       " ('qmof-22ca4f8', 0.7604265809059143),\n",
       " ('qmof-f2fac68', 0.759960412979126),\n",
       " ('qmof-4a7bb80', 0.7523057460784912)]"
      ]
     },
     "execution_count": 13,
     "metadata": {},
     "output_type": "execute_result"
    }
   ],
   "source": [
    "em_model.docvecs.most_similar([\"qmof-8a95c27\"])"
   ]
  },
  {
   "cell_type": "code",
   "execution_count": null,
   "metadata": {},
   "outputs": [],
   "source": []
  }
 ],
 "metadata": {
  "kernelspec": {
   "display_name": "mofgraph2vec",
   "language": "python",
   "name": "python3"
  },
  "language_info": {
   "codemirror_mode": {
    "name": "ipython",
    "version": 3
   },
   "file_extension": ".py",
   "mimetype": "text/x-python",
   "name": "python",
   "nbconvert_exporter": "python",
   "pygments_lexer": "ipython3",
   "version": "3.8.16"
  },
  "orig_nbformat": 4,
  "vscode": {
   "interpreter": {
    "hash": "368a83da866b9402d886ea1b61fd69704c8f3d8a9de7c33a5da24e5026c853b5"
   }
  }
 },
 "nbformat": 4,
 "nbformat_minor": 2
}
