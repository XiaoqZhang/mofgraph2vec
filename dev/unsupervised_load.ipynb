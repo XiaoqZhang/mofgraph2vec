{
 "cells": [
  {
   "cell_type": "code",
   "execution_count": 1,
   "metadata": {},
   "outputs": [],
   "source": [
    "%load_ext autoreload\n",
    "%autoreload 2"
   ]
  },
  {
   "cell_type": "code",
   "execution_count": 27,
   "metadata": {},
   "outputs": [],
   "source": [
    "from pymatgen.core.structure import Structure, Lattice\n",
    "from pymatgen.analysis.graphs import StructureGraph\n",
    "from pymatgen.analysis.local_env import CutOffDictNN\n",
    "from torch_geometric.data import Data\n",
    "import numpy as np\n",
    "from omegaconf import OmegaConf\n",
    "from mofgraph2vec.featurize.mof2doc import MOF2doc\n",
    "import pandas as pd\n",
    "from hydra.utils import instantiate\n",
    "from gensim.models.doc2vec import Doc2Vec\n",
    "from tqdm import tqdm"
   ]
  },
  {
   "cell_type": "code",
   "execution_count": 3,
   "metadata": {},
   "outputs": [],
   "source": [
    "df_vector = pd.read_csv(\"../data/embedding_example/embedding-h50rl5oi.csv\").set_index(\"type\")"
   ]
  },
  {
   "cell_type": "code",
   "execution_count": 4,
   "metadata": {},
   "outputs": [],
   "source": [
    "config = OmegaConf.load(\"../conf/config.yaml\")\n",
    "config.mof2vec_data = OmegaConf.load(\"../conf/mof2vec_data/data.yaml\")\n",
    "config.mof2vec_model = OmegaConf.load(\"../conf/mof2vec_model/gensim.yaml\")"
   ]
  },
  {
   "cell_type": "code",
   "execution_count": 5,
   "metadata": {},
   "outputs": [],
   "source": [
    "config.mof2vec_data.data.cif_path = [\"../data/cifs/rsm/\"]"
   ]
  },
  {
   "cell_type": "code",
   "execution_count": 6,
   "metadata": {},
   "outputs": [],
   "source": [
    "config.mof2vec_data.data.subsample = 0.005\n",
    "config.mof2vec_data.data.wl_step = 4"
   ]
  },
  {
   "cell_type": "code",
   "execution_count": 7,
   "metadata": {},
   "outputs": [],
   "source": [
    "doc = instantiate(config.mof2vec_data.data, seed=config.seed)"
   ]
  },
  {
   "cell_type": "code",
   "execution_count": 20,
   "metadata": {},
   "outputs": [
    {
     "name": "stderr",
     "output_type": "stream",
     "text": [
      "100%|██████████| 16/16 [00:00<00:00, 285.70it/s]\n"
     ]
    }
   ],
   "source": [
    "documents = doc.get_documents()"
   ]
  },
  {
   "cell_type": "code",
   "execution_count": null,
   "metadata": {},
   "outputs": [],
   "source": [
    "names = [d.tags[0] for d in documents]\n",
    "word_length = [len(d.words) for d in documents]"
   ]
  },
  {
   "cell_type": "code",
   "execution_count": null,
   "metadata": {},
   "outputs": [],
   "source": [
    "word_length_ordered = [l for _, l in sorted(zip(names, word_length))]"
   ]
  },
  {
   "cell_type": "code",
   "execution_count": null,
   "metadata": {},
   "outputs": [],
   "source": [
    "vector_length = np.sum(df_vector**2, axis=1)"
   ]
  },
  {
   "cell_type": "code",
   "execution_count": 9,
   "metadata": {},
   "outputs": [],
   "source": [
    "import matplotlib.pyplot as plt"
   ]
  },
  {
   "cell_type": "code",
   "execution_count": null,
   "metadata": {},
   "outputs": [],
   "source": [
    "plt.scatter(word_length_ordered, vector_length)\n",
    "plt.xlabel(\"MOF document length\")\n",
    "plt.ylabel(\"Embedded vector length\")"
   ]
  },
  {
   "cell_type": "code",
   "execution_count": null,
   "metadata": {},
   "outputs": [],
   "source": [
    "np.corrcoef(word_length_ordered, vector_length)"
   ]
  },
  {
   "cell_type": "code",
   "execution_count": 16,
   "metadata": {},
   "outputs": [],
   "source": [
    "from mofgraph2vec.utils.saving import save_embedding\n",
    "from hydra.utils import instantiate\n",
    "from gensim.models.doc2vec import Doc2Vec"
   ]
  },
  {
   "cell_type": "code",
   "execution_count": 22,
   "metadata": {},
   "outputs": [],
   "source": [
    "model = Doc2Vec(**config.mof2vec_model.gensim)\n",
    "model.build_vocab(documents)"
   ]
  },
  {
   "attachments": {},
   "cell_type": "markdown",
   "metadata": {},
   "source": [
    "# Load embedding model"
   ]
  },
  {
   "cell_type": "code",
   "execution_count": 30,
   "metadata": {},
   "outputs": [],
   "source": [
    "import matplotlib.pyplot as plt \n",
    "from scipy import stats"
   ]
  },
  {
   "cell_type": "code",
   "execution_count": 8,
   "metadata": {},
   "outputs": [],
   "source": [
    "em_model = Doc2Vec.load(\"../experiments/workflow/wandb/offline-run-20230509_154052-ygb7sowe/tmp/embedding_model.pt\")"
   ]
  },
  {
   "cell_type": "code",
   "execution_count": 50,
   "metadata": {},
   "outputs": [],
   "source": [
    "em_model = Doc2Vec.load(\"../experiments/workflow/wandb/offline-run-20230511_222802-32gyt2yh/tmp/embedding_model.pt\")"
   ]
  },
  {
   "cell_type": "code",
   "execution_count": 51,
   "metadata": {},
   "outputs": [
    {
     "data": {
      "text/plain": [
       "3257"
      ]
     },
     "execution_count": 51,
     "metadata": {},
     "output_type": "execute_result"
    }
   ],
   "source": [
    "em_model.corpus_count"
   ]
  },
  {
   "cell_type": "code",
   "execution_count": 52,
   "metadata": {},
   "outputs": [],
   "source": [
    "df_rsm = pd.read_csv(\"../data/data.csv\")"
   ]
  },
  {
   "cell_type": "code",
   "execution_count": 60,
   "metadata": {},
   "outputs": [
    {
     "data": {
      "text/html": [
       "<div>\n",
       "<style scoped>\n",
       "    .dataframe tbody tr th:only-of-type {\n",
       "        vertical-align: middle;\n",
       "    }\n",
       "\n",
       "    .dataframe tbody tr th {\n",
       "        vertical-align: top;\n",
       "    }\n",
       "\n",
       "    .dataframe thead th {\n",
       "        text-align: right;\n",
       "    }\n",
       "</style>\n",
       "<table border=\"1\" class=\"dataframe\">\n",
       "  <thead>\n",
       "    <tr style=\"text-align: right;\">\n",
       "      <th></th>\n",
       "      <th>Unnamed: 0</th>\n",
       "      <th>in</th>\n",
       "      <th>ASA [m^2/cm^3]</th>\n",
       "      <th>CellV [A^3]</th>\n",
       "      <th>Df</th>\n",
       "      <th>Di</th>\n",
       "      <th>Dif</th>\n",
       "      <th>NASA [m^2/cm^3]</th>\n",
       "      <th>POAV [cm^3/g]</th>\n",
       "      <th>POAVF</th>\n",
       "      <th>...</th>\n",
       "      <th>CH4HPSTP</th>\n",
       "      <th>CH4LPSTP</th>\n",
       "      <th>cif.label</th>\n",
       "      <th>KH_CH4_molkgpa</th>\n",
       "      <th>KH_N2_molkgpa</th>\n",
       "      <th>log_selectivity</th>\n",
       "      <th>info.decorated_graph_hash</th>\n",
       "      <th>info.undecorated_graph_hash</th>\n",
       "      <th>info.decorated_scaffold_hash</th>\n",
       "      <th>info.undecorated_scaffold_hash</th>\n",
       "    </tr>\n",
       "  </thead>\n",
       "  <tbody>\n",
       "    <tr>\n",
       "      <th>0</th>\n",
       "      <td>3</td>\n",
       "      <td>8</td>\n",
       "      <td>2163.580</td>\n",
       "      <td>20019.00</td>\n",
       "      <td>7.83744</td>\n",
       "      <td>9.47418</td>\n",
       "      <td>9.45292</td>\n",
       "      <td>0.000000</td>\n",
       "      <td>1.074720</td>\n",
       "      <td>0.64186</td>\n",
       "      <td>...</td>\n",
       "      <td>294.894020</td>\n",
       "      <td>92.435013</td>\n",
       "      <td>RSM3975</td>\n",
       "      <td>1.168650e-05</td>\n",
       "      <td>4.160970e-06</td>\n",
       "      <td>0.449093</td>\n",
       "      <td>382517780dc5ab8eb8fa43295ce8bdf4</td>\n",
       "      <td>b49059acbd8c344ef658b5b181a142f5</td>\n",
       "      <td>25800f339ff3d43d2ddc5d1a59b4eeb4</td>\n",
       "      <td>08515bc3d51c5d80eafef0baa6e2b134</td>\n",
       "    </tr>\n",
       "    <tr>\n",
       "      <th>1</th>\n",
       "      <td>4</td>\n",
       "      <td>9</td>\n",
       "      <td>641.266</td>\n",
       "      <td>2633.04</td>\n",
       "      <td>4.14331</td>\n",
       "      <td>4.82084</td>\n",
       "      <td>4.80387</td>\n",
       "      <td>0.000000</td>\n",
       "      <td>0.136436</td>\n",
       "      <td>0.24024</td>\n",
       "      <td>...</td>\n",
       "      <td>122.892268</td>\n",
       "      <td>65.202487</td>\n",
       "      <td>RSM1828</td>\n",
       "      <td>1.770000e-08</td>\n",
       "      <td>7.416090e-08</td>\n",
       "      <td>NaN</td>\n",
       "      <td>a84c197bbfa5810808c44dc4ccfe11af</td>\n",
       "      <td>874ad4e1f85e1de8bd54bed65199e13a</td>\n",
       "      <td>b526ee2136f2d05af53b2bed85c5339d</td>\n",
       "      <td>b02ed13751c7be6d0f820f3e5f81b9b3</td>\n",
       "    </tr>\n",
       "    <tr>\n",
       "      <th>2</th>\n",
       "      <td>5</td>\n",
       "      <td>10</td>\n",
       "      <td>1603.800</td>\n",
       "      <td>15518.00</td>\n",
       "      <td>13.71867</td>\n",
       "      <td>18.80790</td>\n",
       "      <td>18.79960</td>\n",
       "      <td>0.888134</td>\n",
       "      <td>0.957188</td>\n",
       "      <td>0.64550</td>\n",
       "      <td>...</td>\n",
       "      <td>240.424018</td>\n",
       "      <td>75.790247</td>\n",
       "      <td>RSM4185</td>\n",
       "      <td>2.056460e-05</td>\n",
       "      <td>6.027810e-06</td>\n",
       "      <td>0.533550</td>\n",
       "      <td>45efa7c1e878af5ecbc618b706fc1136</td>\n",
       "      <td>bccd7095b8e6d26f8257ae674095d645</td>\n",
       "      <td>13cae2b9e4cfe2cfe9d05a9468ae4830</td>\n",
       "      <td>eb2900477384511abd851c626625231e</td>\n",
       "    </tr>\n",
       "    <tr>\n",
       "      <th>3</th>\n",
       "      <td>6</td>\n",
       "      <td>11</td>\n",
       "      <td>600.107</td>\n",
       "      <td>2602.59</td>\n",
       "      <td>4.06893</td>\n",
       "      <td>4.80529</td>\n",
       "      <td>4.80529</td>\n",
       "      <td>0.000000</td>\n",
       "      <td>0.133609</td>\n",
       "      <td>0.23884</td>\n",
       "      <td>...</td>\n",
       "      <td>121.218009</td>\n",
       "      <td>63.931260</td>\n",
       "      <td>RSM1824</td>\n",
       "      <td>3.899200e-06</td>\n",
       "      <td>1.174370e-06</td>\n",
       "      <td>0.522879</td>\n",
       "      <td>67abee315179d34012433698bf59a924</td>\n",
       "      <td>9fa41a3543983b720923f5ffb080b005</td>\n",
       "      <td>57a7b96939ec88db393126c63b0ed48d</td>\n",
       "      <td>0a8666fb6118b8149daf8d5e89321c93</td>\n",
       "    </tr>\n",
       "    <tr>\n",
       "      <th>4</th>\n",
       "      <td>10</td>\n",
       "      <td>15</td>\n",
       "      <td>498.734</td>\n",
       "      <td>2493.02</td>\n",
       "      <td>3.94356</td>\n",
       "      <td>4.70447</td>\n",
       "      <td>4.68752</td>\n",
       "      <td>0.000000</td>\n",
       "      <td>0.113502</td>\n",
       "      <td>0.21898</td>\n",
       "      <td>...</td>\n",
       "      <td>116.405076</td>\n",
       "      <td>63.089722</td>\n",
       "      <td>RSM1841</td>\n",
       "      <td>5.127200e-06</td>\n",
       "      <td>1.454260e-06</td>\n",
       "      <td>0.548749</td>\n",
       "      <td>3f69a0844ce43a2c27086353118d05ed</td>\n",
       "      <td>44a150af84481dfe02a60f89af03568c</td>\n",
       "      <td>8cd5110f581b241624b3544555208c56</td>\n",
       "      <td>9be47b63130f6c51d0ab9c1bf63e789e</td>\n",
       "    </tr>\n",
       "    <tr>\n",
       "      <th>...</th>\n",
       "      <td>...</td>\n",
       "      <td>...</td>\n",
       "      <td>...</td>\n",
       "      <td>...</td>\n",
       "      <td>...</td>\n",
       "      <td>...</td>\n",
       "      <td>...</td>\n",
       "      <td>...</td>\n",
       "      <td>...</td>\n",
       "      <td>...</td>\n",
       "      <td>...</td>\n",
       "      <td>...</td>\n",
       "      <td>...</td>\n",
       "      <td>...</td>\n",
       "      <td>...</td>\n",
       "      <td>...</td>\n",
       "      <td>...</td>\n",
       "      <td>...</td>\n",
       "      <td>...</td>\n",
       "      <td>...</td>\n",
       "      <td>...</td>\n",
       "    </tr>\n",
       "    <tr>\n",
       "      <th>3252</th>\n",
       "      <td>4610</td>\n",
       "      <td>9677</td>\n",
       "      <td>601.756</td>\n",
       "      <td>4479.64</td>\n",
       "      <td>4.08689</td>\n",
       "      <td>4.75984</td>\n",
       "      <td>4.75984</td>\n",
       "      <td>0.000000</td>\n",
       "      <td>0.163833</td>\n",
       "      <td>0.25402</td>\n",
       "      <td>...</td>\n",
       "      <td>188.408831</td>\n",
       "      <td>126.419233</td>\n",
       "      <td>RSM1618</td>\n",
       "      <td>2.490260e-05</td>\n",
       "      <td>3.365250e-06</td>\n",
       "      <td>0.868569</td>\n",
       "      <td>df97f8d55b270ccf87d6b5ef1d240b49</td>\n",
       "      <td>b9fbb38978dc92454d5f9dadc2d1f889</td>\n",
       "      <td>b7ce948b3839045aeca55c2b2b8c5831</td>\n",
       "      <td>04093fb5811c815186f3c99d9bf510d0</td>\n",
       "    </tr>\n",
       "    <tr>\n",
       "      <th>3253</th>\n",
       "      <td>4611</td>\n",
       "      <td>9679</td>\n",
       "      <td>1607.600</td>\n",
       "      <td>2134.77</td>\n",
       "      <td>7.69493</td>\n",
       "      <td>9.54888</td>\n",
       "      <td>9.54888</td>\n",
       "      <td>0.000000</td>\n",
       "      <td>0.661485</td>\n",
       "      <td>0.57334</td>\n",
       "      <td>...</td>\n",
       "      <td>259.054658</td>\n",
       "      <td>104.570872</td>\n",
       "      <td>RSM0984</td>\n",
       "      <td>1.156120e-05</td>\n",
       "      <td>3.589710e-06</td>\n",
       "      <td>0.509364</td>\n",
       "      <td>bcd37c930e2b58a516766833377a8c77</td>\n",
       "      <td>d7f19b4984eefc1dfe81e7e5d11a2c3c</td>\n",
       "      <td>3363bfcc7baaa3e433d11644fc5fa6ee</td>\n",
       "      <td>4cd3ef34cda4fc1a43dccccec19778b1</td>\n",
       "    </tr>\n",
       "    <tr>\n",
       "      <th>3254</th>\n",
       "      <td>4612</td>\n",
       "      <td>9681</td>\n",
       "      <td>416.131</td>\n",
       "      <td>1636.02</td>\n",
       "      <td>4.20115</td>\n",
       "      <td>4.73990</td>\n",
       "      <td>4.72096</td>\n",
       "      <td>0.000000</td>\n",
       "      <td>0.093092</td>\n",
       "      <td>0.16366</td>\n",
       "      <td>...</td>\n",
       "      <td>82.326216</td>\n",
       "      <td>71.472567</td>\n",
       "      <td>RSM1647</td>\n",
       "      <td>1.136910e-04</td>\n",
       "      <td>7.976930e-06</td>\n",
       "      <td>1.153723</td>\n",
       "      <td>f5a545a2d506d8424bfbbfd2917b9b9b</td>\n",
       "      <td>006d95bcc7ab668a21894bcb66e6b445</td>\n",
       "      <td>5a0a0630fef8a2bafe333d8fe4388354</td>\n",
       "      <td>ba67a8fe5b11dba57bc563a5d3b7a543</td>\n",
       "    </tr>\n",
       "    <tr>\n",
       "      <th>3255</th>\n",
       "      <td>4615</td>\n",
       "      <td>9685</td>\n",
       "      <td>0.000</td>\n",
       "      <td>2044.51</td>\n",
       "      <td>2.56035</td>\n",
       "      <td>4.18124</td>\n",
       "      <td>4.16282</td>\n",
       "      <td>35.643400</td>\n",
       "      <td>0.000000</td>\n",
       "      <td>0.00000</td>\n",
       "      <td>...</td>\n",
       "      <td>145.937629</td>\n",
       "      <td>90.328458</td>\n",
       "      <td>RSM1579</td>\n",
       "      <td>1.050080e-05</td>\n",
       "      <td>3.393710e-06</td>\n",
       "      <td>NaN</td>\n",
       "      <td>47335f2329fe60935ca636a63a0ebd48</td>\n",
       "      <td>70e36dc2a0dd36e20a761769501aa3f9</td>\n",
       "      <td>f0900a12ad6d994e6c6a490cedc50406</td>\n",
       "      <td>55501fe2ad68169f472605c0ab6f6cd2</td>\n",
       "    </tr>\n",
       "    <tr>\n",
       "      <th>3256</th>\n",
       "      <td>4616</td>\n",
       "      <td>9687</td>\n",
       "      <td>577.540</td>\n",
       "      <td>7721.76</td>\n",
       "      <td>4.68679</td>\n",
       "      <td>4.84155</td>\n",
       "      <td>4.83529</td>\n",
       "      <td>0.000000</td>\n",
       "      <td>0.139382</td>\n",
       "      <td>0.19576</td>\n",
       "      <td>...</td>\n",
       "      <td>106.701896</td>\n",
       "      <td>83.511160</td>\n",
       "      <td>RSM3442</td>\n",
       "      <td>2.044710e-05</td>\n",
       "      <td>2.399100e-06</td>\n",
       "      <td>0.929419</td>\n",
       "      <td>a7a90097d860e2433d1f6963b6367d76</td>\n",
       "      <td>7ad7dce149b51f8a00ece1343dcf82cd</td>\n",
       "      <td>432226f96b36c41414e2cd7cdc7626ca</td>\n",
       "      <td>7c7c92b15d6e0c29b9aaade09ed8bdda</td>\n",
       "    </tr>\n",
       "  </tbody>\n",
       "</table>\n",
       "<p>3257 rows × 353 columns</p>\n",
       "</div>"
      ],
      "text/plain": [
       "      Unnamed: 0    in  ASA [m^2/cm^3]  CellV [A^3]        Df        Di  \\\n",
       "0              3     8        2163.580     20019.00   7.83744   9.47418   \n",
       "1              4     9         641.266      2633.04   4.14331   4.82084   \n",
       "2              5    10        1603.800     15518.00  13.71867  18.80790   \n",
       "3              6    11         600.107      2602.59   4.06893   4.80529   \n",
       "4             10    15         498.734      2493.02   3.94356   4.70447   \n",
       "...          ...   ...             ...          ...       ...       ...   \n",
       "3252        4610  9677         601.756      4479.64   4.08689   4.75984   \n",
       "3253        4611  9679        1607.600      2134.77   7.69493   9.54888   \n",
       "3254        4612  9681         416.131      1636.02   4.20115   4.73990   \n",
       "3255        4615  9685           0.000      2044.51   2.56035   4.18124   \n",
       "3256        4616  9687         577.540      7721.76   4.68679   4.84155   \n",
       "\n",
       "           Dif  NASA [m^2/cm^3]  POAV [cm^3/g]    POAVF  ...    CH4HPSTP  \\\n",
       "0      9.45292         0.000000       1.074720  0.64186  ...  294.894020   \n",
       "1      4.80387         0.000000       0.136436  0.24024  ...  122.892268   \n",
       "2     18.79960         0.888134       0.957188  0.64550  ...  240.424018   \n",
       "3      4.80529         0.000000       0.133609  0.23884  ...  121.218009   \n",
       "4      4.68752         0.000000       0.113502  0.21898  ...  116.405076   \n",
       "...        ...              ...            ...      ...  ...         ...   \n",
       "3252   4.75984         0.000000       0.163833  0.25402  ...  188.408831   \n",
       "3253   9.54888         0.000000       0.661485  0.57334  ...  259.054658   \n",
       "3254   4.72096         0.000000       0.093092  0.16366  ...   82.326216   \n",
       "3255   4.16282        35.643400       0.000000  0.00000  ...  145.937629   \n",
       "3256   4.83529         0.000000       0.139382  0.19576  ...  106.701896   \n",
       "\n",
       "        CH4LPSTP  cif.label KH_CH4_molkgpa  KH_N2_molkgpa  log_selectivity  \\\n",
       "0      92.435013    RSM3975   1.168650e-05   4.160970e-06         0.449093   \n",
       "1      65.202487    RSM1828   1.770000e-08   7.416090e-08              NaN   \n",
       "2      75.790247    RSM4185   2.056460e-05   6.027810e-06         0.533550   \n",
       "3      63.931260    RSM1824   3.899200e-06   1.174370e-06         0.522879   \n",
       "4      63.089722    RSM1841   5.127200e-06   1.454260e-06         0.548749   \n",
       "...          ...        ...            ...            ...              ...   \n",
       "3252  126.419233    RSM1618   2.490260e-05   3.365250e-06         0.868569   \n",
       "3253  104.570872    RSM0984   1.156120e-05   3.589710e-06         0.509364   \n",
       "3254   71.472567    RSM1647   1.136910e-04   7.976930e-06         1.153723   \n",
       "3255   90.328458    RSM1579   1.050080e-05   3.393710e-06              NaN   \n",
       "3256   83.511160    RSM3442   2.044710e-05   2.399100e-06         0.929419   \n",
       "\n",
       "             info.decorated_graph_hash       info.undecorated_graph_hash  \\\n",
       "0     382517780dc5ab8eb8fa43295ce8bdf4  b49059acbd8c344ef658b5b181a142f5   \n",
       "1     a84c197bbfa5810808c44dc4ccfe11af  874ad4e1f85e1de8bd54bed65199e13a   \n",
       "2     45efa7c1e878af5ecbc618b706fc1136  bccd7095b8e6d26f8257ae674095d645   \n",
       "3     67abee315179d34012433698bf59a924  9fa41a3543983b720923f5ffb080b005   \n",
       "4     3f69a0844ce43a2c27086353118d05ed  44a150af84481dfe02a60f89af03568c   \n",
       "...                                ...                               ...   \n",
       "3252  df97f8d55b270ccf87d6b5ef1d240b49  b9fbb38978dc92454d5f9dadc2d1f889   \n",
       "3253  bcd37c930e2b58a516766833377a8c77  d7f19b4984eefc1dfe81e7e5d11a2c3c   \n",
       "3254  f5a545a2d506d8424bfbbfd2917b9b9b  006d95bcc7ab668a21894bcb66e6b445   \n",
       "3255  47335f2329fe60935ca636a63a0ebd48  70e36dc2a0dd36e20a761769501aa3f9   \n",
       "3256  a7a90097d860e2433d1f6963b6367d76  7ad7dce149b51f8a00ece1343dcf82cd   \n",
       "\n",
       "          info.decorated_scaffold_hash    info.undecorated_scaffold_hash  \n",
       "0     25800f339ff3d43d2ddc5d1a59b4eeb4  08515bc3d51c5d80eafef0baa6e2b134  \n",
       "1     b526ee2136f2d05af53b2bed85c5339d  b02ed13751c7be6d0f820f3e5f81b9b3  \n",
       "2     13cae2b9e4cfe2cfe9d05a9468ae4830  eb2900477384511abd851c626625231e  \n",
       "3     57a7b96939ec88db393126c63b0ed48d  0a8666fb6118b8149daf8d5e89321c93  \n",
       "4     8cd5110f581b241624b3544555208c56  9be47b63130f6c51d0ab9c1bf63e789e  \n",
       "...                                ...                               ...  \n",
       "3252  b7ce948b3839045aeca55c2b2b8c5831  04093fb5811c815186f3c99d9bf510d0  \n",
       "3253  3363bfcc7baaa3e433d11644fc5fa6ee  4cd3ef34cda4fc1a43dccccec19778b1  \n",
       "3254  5a0a0630fef8a2bafe333d8fe4388354  ba67a8fe5b11dba57bc563a5d3b7a543  \n",
       "3255  f0900a12ad6d994e6c6a490cedc50406  55501fe2ad68169f472605c0ab6f6cd2  \n",
       "3256  432226f96b36c41414e2cd7cdc7626ca  7c7c92b15d6e0c29b9aaade09ed8bdda  \n",
       "\n",
       "[3257 rows x 353 columns]"
      ]
     },
     "execution_count": 60,
     "metadata": {},
     "output_type": "execute_result"
    }
   ],
   "source": [
    "df_rsm"
   ]
  },
  {
   "cell_type": "code",
   "execution_count": 71,
   "metadata": {},
   "outputs": [
    {
     "name": "stderr",
     "output_type": "stream",
     "text": [
      "100%|██████████| 3257/3257 [00:06<00:00, 513.41it/s] \n"
     ]
    }
   ],
   "source": [
    "similarities = []\n",
    "task = \"total_SA_volumetric\"\n",
    "delta_dg = []\n",
    "for mof in tqdm(df_rsm[\"cif.label\"]):\n",
    "    sim_mof = em_model.dv.most_similar([mof])[0]\n",
    "    similarities.append(sim_mof[1])\n",
    "    delta_dg.append(np.abs(\n",
    "        df_rsm[df_rsm[\"cif.label\"]==mof][task].values - df_rsm[df_rsm[\"cif.label\"]==sim_mof[0]][task].values\n",
    "    )[0])\n",
    "    "
   ]
  },
  {
   "cell_type": "code",
   "execution_count": 72,
   "metadata": {},
   "outputs": [
    {
     "data": {
      "text/plain": [
       "SignificanceResult(statistic=-0.2274446754739588, pvalue=1.7473807408389753e-39)"
      ]
     },
     "execution_count": 72,
     "metadata": {},
     "output_type": "execute_result"
    }
   ],
   "source": [
    "res = stats.spearmanr(similarities, delta_dg)\n",
    "res"
   ]
  },
  {
   "cell_type": "code",
   "execution_count": 56,
   "metadata": {},
   "outputs": [
    {
     "data": {
      "text/plain": [
       "<matplotlib.collections.PathCollection at 0x2fa070520>"
      ]
     },
     "execution_count": 56,
     "metadata": {},
     "output_type": "execute_result"
    },
    {
     "data": {
      "image/png": "[encoded data removed]",
      "text/plain": [
       "<Figure size 640x480 with 1 Axes>"
      ]
     },
     "metadata": {},
     "output_type": "display_data"
    }
   ],
   "source": [
    "plt.scatter(similarities, delta_dg)"
   ]
  },
  {
   "cell_type": "code",
   "execution_count": 63,
   "metadata": {},
   "outputs": [],
   "source": [
    "#spearman_coef = []\n",
    "spearman_coef.append(res[0])"
   ]
  },
  {
   "cell_type": "code",
   "execution_count": 64,
   "metadata": {},
   "outputs": [
    {
     "data": {
      "text/plain": [
       "[-0.13929336287118646, -0.12474714217929886]"
      ]
     },
     "execution_count": 64,
     "metadata": {},
     "output_type": "execute_result"
    }
   ],
   "source": [
    "spearman_coef"
   ]
  },
  {
   "cell_type": "code",
   "execution_count": 9,
   "metadata": {},
   "outputs": [],
   "source": [
    "import os\n",
    "from moffragmentor import MOF\n",
    "\n",
    "mof = MOF.from_cif(\"../data/cifs/rsm/RSM0001.cif\")\n",
    "fragments = mof.fragment()\n"
   ]
  },
  {
   "cell_type": "code",
   "execution_count": 27,
   "metadata": {},
   "outputs": [],
   "source": [
    "from pymatgen.core import Structure"
   ]
  },
  {
   "cell_type": "code",
   "execution_count": 28,
   "metadata": {},
   "outputs": [],
   "source": [
    "struc = Structure.from_file(\"../data/cifs/rsm/RSM0001.cif\")"
   ]
  },
  {
   "cell_type": "code",
   "execution_count": 29,
   "metadata": {},
   "outputs": [
    {
     "data": {
      "text/plain": [
       "Comp: Gd1 H3 C3 O6"
      ]
     },
     "execution_count": 29,
     "metadata": {},
     "output_type": "execute_result"
    }
   ],
   "source": [
    "struc.composition"
   ]
  },
  {
   "cell_type": "code",
   "execution_count": null,
   "metadata": {},
   "outputs": [],
   "source": []
  }
 ],
 "metadata": {
  "kernelspec": {
   "display_name": "mofgraph2vec",
   "language": "python",
   "name": "python3"
  },
  "language_info": {
   "codemirror_mode": {
    "name": "ipython",
    "version": 3
   },
   "file_extension": ".py",
   "mimetype": "text/x-python",
   "name": "python",
   "nbconvert_exporter": "python",
   "pygments_lexer": "ipython3",
   "version": "3.8.16"
  },
  "orig_nbformat": 4,
  "vscode": {
   "interpreter": {
    "hash": "368a83da866b9402d886ea1b61fd69704c8f3d8a9de7c33a5da24e5026c853b5"
   }
  }
 },
 "nbformat": 4,
 "nbformat_minor": 2
}
