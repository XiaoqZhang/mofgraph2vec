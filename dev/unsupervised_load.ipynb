{
 "cells": [
  {
   "cell_type": "code",
   "execution_count": 1,
   "metadata": {},
   "outputs": [],
   "source": [
    "%load_ext autoreload\n",
    "%autoreload 2"
   ]
  },
  {
   "cell_type": "code",
   "execution_count": 2,
   "metadata": {},
   "outputs": [],
   "source": [
    "from pymatgen.core.structure import Structure, Lattice\n",
    "from pymatgen.analysis.graphs import StructureGraph\n",
    "from pymatgen.analysis.local_env import CutOffDictNN\n",
    "from torch_geometric.data import Data\n",
    "import numpy as np\n",
    "from omegaconf import OmegaConf\n",
    "from mofgraph2vec.featurize.mof2doc import MOF2doc\n",
    "import pandas as pd"
   ]
  },
  {
   "cell_type": "code",
   "execution_count": 3,
   "metadata": {},
   "outputs": [],
   "source": [
    "df_vector = pd.read_csv(\"../data/embedding_example/embedding-h50rl5oi.csv\").set_index(\"type\")"
   ]
  },
  {
   "cell_type": "code",
   "execution_count": 4,
   "metadata": {},
   "outputs": [],
   "source": [
    "config = OmegaConf.load(\"../conf/config.yaml\")\n",
    "config.mof2vec_data = OmegaConf.load(\"../conf/mof2vec_data/data.yaml\")\n",
    "config.mof2vec_model = OmegaConf.load(\"../conf/mof2vec_model/gensim.yaml\")"
   ]
  },
  {
   "cell_type": "code",
   "execution_count": 5,
   "metadata": {},
   "outputs": [],
   "source": [
    "config.mof2vec_data.data.cif_path = [\"../data/cifs/rsm/\"]"
   ]
  },
  {
   "cell_type": "code",
   "execution_count": 24,
   "metadata": {},
   "outputs": [],
   "source": [
    "config.mof2vec_data.data.subsample = 0.005\n",
    "config.mof2vec_data.data.wl_step = 4"
   ]
  },
  {
   "cell_type": "code",
   "execution_count": 25,
   "metadata": {},
   "outputs": [],
   "source": [
    "doc = MOF2doc(**config.mof2vec_data.data)"
   ]
  },
  {
   "cell_type": "code",
   "execution_count": 26,
   "metadata": {},
   "outputs": [
    {
     "name": "stderr",
     "output_type": "stream",
     "text": [
      "100%|██████████| 16/16 [00:00<00:00, 364.65it/s]\n"
     ]
    }
   ],
   "source": [
    "documents = doc.get_documents()"
   ]
  },
  {
   "cell_type": "code",
   "execution_count": 27,
   "metadata": {},
   "outputs": [
    {
     "data": {
      "text/plain": [
       "TaggedDocument(words=['Tb', 'H', 'H', 'H', 'C', 'C', 'C', 'O', 'O', 'O', 'O', 'O', 'O', 'Tb_O_O_O_O_O_O', 'H_C', 'H_C', 'H_C', 'C_H_O_O', 'C_H_O_O', 'C_H_O_O', 'O_C_Tb', 'O_C_Tb', 'O_C_Tb', 'O_C_Tb', 'O_C_Tb', 'O_C_Tb', 'Tb_O_O_O_O_O_O_O_C_Tb_O_C_Tb_O_C_Tb_O_C_Tb_O_C_Tb_O_C_Tb', 'H_C_C_H_O_O', 'H_C_C_H_O_O', 'H_C_C_H_O_O', 'C_H_O_O_H_C_O_C_Tb_O_C_Tb', 'C_H_O_O_H_C_O_C_Tb_O_C_Tb', 'C_H_O_O_H_C_O_C_Tb_O_C_Tb', 'O_C_Tb_C_H_O_O_Tb_O_O_O_O_O_O', 'O_C_Tb_C_H_O_O_Tb_O_O_O_O_O_O', 'O_C_Tb_C_H_O_O_Tb_O_O_O_O_O_O', 'O_C_Tb_C_H_O_O_Tb_O_O_O_O_O_O', 'O_C_Tb_C_H_O_O_Tb_O_O_O_O_O_O', 'O_C_Tb_C_H_O_O_Tb_O_O_O_O_O_O', 'Tb_O_O_O_O_O_O_O_C_Tb_O_C_Tb_O_C_Tb_O_C_Tb_O_C_Tb_O_C_Tb_O_C_Tb_C_H_O_O_Tb_O_O_O_O_O_O_O_C_Tb_C_H_O_O_Tb_O_O_O_O_O_O_O_C_Tb_C_H_O_O_Tb_O_O_O_O_O_O_O_C_Tb_C_H_O_O_Tb_O_O_O_O_O_O_O_C_Tb_C_H_O_O_Tb_O_O_O_O_O_O_O_C_Tb_C_H_O_O_Tb_O_O_O_O_O_O', 'H_C_C_H_O_O_C_H_O_O_H_C_O_C_Tb_O_C_Tb', 'H_C_C_H_O_O_C_H_O_O_H_C_O_C_Tb_O_C_Tb', 'H_C_C_H_O_O_C_H_O_O_H_C_O_C_Tb_O_C_Tb', 'C_H_O_O_H_C_O_C_Tb_O_C_Tb_H_C_C_H_O_O_O_C_Tb_C_H_O_O_Tb_O_O_O_O_O_O_O_C_Tb_C_H_O_O_Tb_O_O_O_O_O_O', 'C_H_O_O_H_C_O_C_Tb_O_C_Tb_H_C_C_H_O_O_O_C_Tb_C_H_O_O_Tb_O_O_O_O_O_O_O_C_Tb_C_H_O_O_Tb_O_O_O_O_O_O', 'C_H_O_O_H_C_O_C_Tb_O_C_Tb_H_C_C_H_O_O_O_C_Tb_C_H_O_O_Tb_O_O_O_O_O_O_O_C_Tb_C_H_O_O_Tb_O_O_O_O_O_O', 'O_C_Tb_C_H_O_O_Tb_O_O_O_O_O_O_C_H_O_O_H_C_O_C_Tb_O_C_Tb_Tb_O_O_O_O_O_O_O_C_Tb_O_C_Tb_O_C_Tb_O_C_Tb_O_C_Tb_O_C_Tb', 'O_C_Tb_C_H_O_O_Tb_O_O_O_O_O_O_C_H_O_O_H_C_O_C_Tb_O_C_Tb_Tb_O_O_O_O_O_O_O_C_Tb_O_C_Tb_O_C_Tb_O_C_Tb_O_C_Tb_O_C_Tb', 'O_C_Tb_C_H_O_O_Tb_O_O_O_O_O_O_C_H_O_O_H_C_O_C_Tb_O_C_Tb_Tb_O_O_O_O_O_O_O_C_Tb_O_C_Tb_O_C_Tb_O_C_Tb_O_C_Tb_O_C_Tb', 'O_C_Tb_C_H_O_O_Tb_O_O_O_O_O_O_C_H_O_O_H_C_O_C_Tb_O_C_Tb_Tb_O_O_O_O_O_O_O_C_Tb_O_C_Tb_O_C_Tb_O_C_Tb_O_C_Tb_O_C_Tb', 'O_C_Tb_C_H_O_O_Tb_O_O_O_O_O_O_C_H_O_O_H_C_O_C_Tb_O_C_Tb_Tb_O_O_O_O_O_O_O_C_Tb_O_C_Tb_O_C_Tb_O_C_Tb_O_C_Tb_O_C_Tb', 'O_C_Tb_C_H_O_O_Tb_O_O_O_O_O_O_C_H_O_O_H_C_O_C_Tb_O_C_Tb_Tb_O_O_O_O_O_O_O_C_Tb_O_C_Tb_O_C_Tb_O_C_Tb_O_C_Tb_O_C_Tb', 'Tb_O_O_O_O_O_O_O_C_Tb_O_C_Tb_O_C_Tb_O_C_Tb_O_C_Tb_O_C_Tb_O_C_Tb_C_H_O_O_Tb_O_O_O_O_O_O_O_C_Tb_C_H_O_O_Tb_O_O_O_O_O_O_O_C_Tb_C_H_O_O_Tb_O_O_O_O_O_O_O_C_Tb_C_H_O_O_Tb_O_O_O_O_O_O_O_C_Tb_C_H_O_O_Tb_O_O_O_O_O_O_O_C_Tb_C_H_O_O_Tb_O_O_O_O_O_O_O_C_Tb_C_H_O_O_Tb_O_O_O_O_O_O_C_H_O_O_H_C_O_C_Tb_O_C_Tb_Tb_O_O_O_O_O_O_O_C_Tb_O_C_Tb_O_C_Tb_O_C_Tb_O_C_Tb_O_C_Tb_O_C_Tb_C_H_O_O_Tb_O_O_O_O_O_O_C_H_O_O_H_C_O_C_Tb_O_C_Tb_Tb_O_O_O_O_O_O_O_C_Tb_O_C_Tb_O_C_Tb_O_C_Tb_O_C_Tb_O_C_Tb_O_C_Tb_C_H_O_O_Tb_O_O_O_O_O_O_C_H_O_O_H_C_O_C_Tb_O_C_Tb_Tb_O_O_O_O_O_O_O_C_Tb_O_C_Tb_O_C_Tb_O_C_Tb_O_C_Tb_O_C_Tb_O_C_Tb_C_H_O_O_Tb_O_O_O_O_O_O_C_H_O_O_H_C_O_C_Tb_O_C_Tb_Tb_O_O_O_O_O_O_O_C_Tb_O_C_Tb_O_C_Tb_O_C_Tb_O_C_Tb_O_C_Tb_O_C_Tb_C_H_O_O_Tb_O_O_O_O_O_O_C_H_O_O_H_C_O_C_Tb_O_C_Tb_Tb_O_O_O_O_O_O_O_C_Tb_O_C_Tb_O_C_Tb_O_C_Tb_O_C_Tb_O_C_Tb_O_C_Tb_C_H_O_O_Tb_O_O_O_O_O_O_C_H_O_O_H_C_O_C_Tb_O_C_Tb_Tb_O_O_O_O_O_O_O_C_Tb_O_C_Tb_O_C_Tb_O_C_Tb_O_C_Tb_O_C_Tb', 'H_C_C_H_O_O_C_H_O_O_H_C_O_C_Tb_O_C_Tb_C_H_O_O_H_C_O_C_Tb_O_C_Tb_H_C_C_H_O_O_O_C_Tb_C_H_O_O_Tb_O_O_O_O_O_O_O_C_Tb_C_H_O_O_Tb_O_O_O_O_O_O', 'H_C_C_H_O_O_C_H_O_O_H_C_O_C_Tb_O_C_Tb_C_H_O_O_H_C_O_C_Tb_O_C_Tb_H_C_C_H_O_O_O_C_Tb_C_H_O_O_Tb_O_O_O_O_O_O_O_C_Tb_C_H_O_O_Tb_O_O_O_O_O_O', 'H_C_C_H_O_O_C_H_O_O_H_C_O_C_Tb_O_C_Tb_C_H_O_O_H_C_O_C_Tb_O_C_Tb_H_C_C_H_O_O_O_C_Tb_C_H_O_O_Tb_O_O_O_O_O_O_O_C_Tb_C_H_O_O_Tb_O_O_O_O_O_O', 'C_H_O_O_H_C_O_C_Tb_O_C_Tb_H_C_C_H_O_O_O_C_Tb_C_H_O_O_Tb_O_O_O_O_O_O_O_C_Tb_C_H_O_O_Tb_O_O_O_O_O_O_H_C_C_H_O_O_C_H_O_O_H_C_O_C_Tb_O_C_Tb_O_C_Tb_C_H_O_O_Tb_O_O_O_O_O_O_C_H_O_O_H_C_O_C_Tb_O_C_Tb_Tb_O_O_O_O_O_O_O_C_Tb_O_C_Tb_O_C_Tb_O_C_Tb_O_C_Tb_O_C_Tb_O_C_Tb_C_H_O_O_Tb_O_O_O_O_O_O_C_H_O_O_H_C_O_C_Tb_O_C_Tb_Tb_O_O_O_O_O_O_O_C_Tb_O_C_Tb_O_C_Tb_O_C_Tb_O_C_Tb_O_C_Tb', 'C_H_O_O_H_C_O_C_Tb_O_C_Tb_H_C_C_H_O_O_O_C_Tb_C_H_O_O_Tb_O_O_O_O_O_O_O_C_Tb_C_H_O_O_Tb_O_O_O_O_O_O_H_C_C_H_O_O_C_H_O_O_H_C_O_C_Tb_O_C_Tb_O_C_Tb_C_H_O_O_Tb_O_O_O_O_O_O_C_H_O_O_H_C_O_C_Tb_O_C_Tb_Tb_O_O_O_O_O_O_O_C_Tb_O_C_Tb_O_C_Tb_O_C_Tb_O_C_Tb_O_C_Tb_O_C_Tb_C_H_O_O_Tb_O_O_O_O_O_O_C_H_O_O_H_C_O_C_Tb_O_C_Tb_Tb_O_O_O_O_O_O_O_C_Tb_O_C_Tb_O_C_Tb_O_C_Tb_O_C_Tb_O_C_Tb', 'C_H_O_O_H_C_O_C_Tb_O_C_Tb_H_C_C_H_O_O_O_C_Tb_C_H_O_O_Tb_O_O_O_O_O_O_O_C_Tb_C_H_O_O_Tb_O_O_O_O_O_O_H_C_C_H_O_O_C_H_O_O_H_C_O_C_Tb_O_C_Tb_O_C_Tb_C_H_O_O_Tb_O_O_O_O_O_O_C_H_O_O_H_C_O_C_Tb_O_C_Tb_Tb_O_O_O_O_O_O_O_C_Tb_O_C_Tb_O_C_Tb_O_C_Tb_O_C_Tb_O_C_Tb_O_C_Tb_C_H_O_O_Tb_O_O_O_O_O_O_C_H_O_O_H_C_O_C_Tb_O_C_Tb_Tb_O_O_O_O_O_O_O_C_Tb_O_C_Tb_O_C_Tb_O_C_Tb_O_C_Tb_O_C_Tb', 'O_C_Tb_C_H_O_O_Tb_O_O_O_O_O_O_C_H_O_O_H_C_O_C_Tb_O_C_Tb_Tb_O_O_O_O_O_O_O_C_Tb_O_C_Tb_O_C_Tb_O_C_Tb_O_C_Tb_O_C_Tb_C_H_O_O_H_C_O_C_Tb_O_C_Tb_H_C_C_H_O_O_O_C_Tb_C_H_O_O_Tb_O_O_O_O_O_O_O_C_Tb_C_H_O_O_Tb_O_O_O_O_O_O_Tb_O_O_O_O_O_O_O_C_Tb_O_C_Tb_O_C_Tb_O_C_Tb_O_C_Tb_O_C_Tb_O_C_Tb_C_H_O_O_Tb_O_O_O_O_O_O_O_C_Tb_C_H_O_O_Tb_O_O_O_O_O_O_O_C_Tb_C_H_O_O_Tb_O_O_O_O_O_O_O_C_Tb_C_H_O_O_Tb_O_O_O_O_O_O_O_C_Tb_C_H_O_O_Tb_O_O_O_O_O_O_O_C_Tb_C_H_O_O_Tb_O_O_O_O_O_O', 'O_C_Tb_C_H_O_O_Tb_O_O_O_O_O_O_C_H_O_O_H_C_O_C_Tb_O_C_Tb_Tb_O_O_O_O_O_O_O_C_Tb_O_C_Tb_O_C_Tb_O_C_Tb_O_C_Tb_O_C_Tb_C_H_O_O_H_C_O_C_Tb_O_C_Tb_H_C_C_H_O_O_O_C_Tb_C_H_O_O_Tb_O_O_O_O_O_O_O_C_Tb_C_H_O_O_Tb_O_O_O_O_O_O_Tb_O_O_O_O_O_O_O_C_Tb_O_C_Tb_O_C_Tb_O_C_Tb_O_C_Tb_O_C_Tb_O_C_Tb_C_H_O_O_Tb_O_O_O_O_O_O_O_C_Tb_C_H_O_O_Tb_O_O_O_O_O_O_O_C_Tb_C_H_O_O_Tb_O_O_O_O_O_O_O_C_Tb_C_H_O_O_Tb_O_O_O_O_O_O_O_C_Tb_C_H_O_O_Tb_O_O_O_O_O_O_O_C_Tb_C_H_O_O_Tb_O_O_O_O_O_O', 'O_C_Tb_C_H_O_O_Tb_O_O_O_O_O_O_C_H_O_O_H_C_O_C_Tb_O_C_Tb_Tb_O_O_O_O_O_O_O_C_Tb_O_C_Tb_O_C_Tb_O_C_Tb_O_C_Tb_O_C_Tb_C_H_O_O_H_C_O_C_Tb_O_C_Tb_H_C_C_H_O_O_O_C_Tb_C_H_O_O_Tb_O_O_O_O_O_O_O_C_Tb_C_H_O_O_Tb_O_O_O_O_O_O_Tb_O_O_O_O_O_O_O_C_Tb_O_C_Tb_O_C_Tb_O_C_Tb_O_C_Tb_O_C_Tb_O_C_Tb_C_H_O_O_Tb_O_O_O_O_O_O_O_C_Tb_C_H_O_O_Tb_O_O_O_O_O_O_O_C_Tb_C_H_O_O_Tb_O_O_O_O_O_O_O_C_Tb_C_H_O_O_Tb_O_O_O_O_O_O_O_C_Tb_C_H_O_O_Tb_O_O_O_O_O_O_O_C_Tb_C_H_O_O_Tb_O_O_O_O_O_O', 'O_C_Tb_C_H_O_O_Tb_O_O_O_O_O_O_C_H_O_O_H_C_O_C_Tb_O_C_Tb_Tb_O_O_O_O_O_O_O_C_Tb_O_C_Tb_O_C_Tb_O_C_Tb_O_C_Tb_O_C_Tb_C_H_O_O_H_C_O_C_Tb_O_C_Tb_H_C_C_H_O_O_O_C_Tb_C_H_O_O_Tb_O_O_O_O_O_O_O_C_Tb_C_H_O_O_Tb_O_O_O_O_O_O_Tb_O_O_O_O_O_O_O_C_Tb_O_C_Tb_O_C_Tb_O_C_Tb_O_C_Tb_O_C_Tb_O_C_Tb_C_H_O_O_Tb_O_O_O_O_O_O_O_C_Tb_C_H_O_O_Tb_O_O_O_O_O_O_O_C_Tb_C_H_O_O_Tb_O_O_O_O_O_O_O_C_Tb_C_H_O_O_Tb_O_O_O_O_O_O_O_C_Tb_C_H_O_O_Tb_O_O_O_O_O_O_O_C_Tb_C_H_O_O_Tb_O_O_O_O_O_O', 'O_C_Tb_C_H_O_O_Tb_O_O_O_O_O_O_C_H_O_O_H_C_O_C_Tb_O_C_Tb_Tb_O_O_O_O_O_O_O_C_Tb_O_C_Tb_O_C_Tb_O_C_Tb_O_C_Tb_O_C_Tb_C_H_O_O_H_C_O_C_Tb_O_C_Tb_H_C_C_H_O_O_O_C_Tb_C_H_O_O_Tb_O_O_O_O_O_O_O_C_Tb_C_H_O_O_Tb_O_O_O_O_O_O_Tb_O_O_O_O_O_O_O_C_Tb_O_C_Tb_O_C_Tb_O_C_Tb_O_C_Tb_O_C_Tb_O_C_Tb_C_H_O_O_Tb_O_O_O_O_O_O_O_C_Tb_C_H_O_O_Tb_O_O_O_O_O_O_O_C_Tb_C_H_O_O_Tb_O_O_O_O_O_O_O_C_Tb_C_H_O_O_Tb_O_O_O_O_O_O_O_C_Tb_C_H_O_O_Tb_O_O_O_O_O_O_O_C_Tb_C_H_O_O_Tb_O_O_O_O_O_O', 'O_C_Tb_C_H_O_O_Tb_O_O_O_O_O_O_C_H_O_O_H_C_O_C_Tb_O_C_Tb_Tb_O_O_O_O_O_O_O_C_Tb_O_C_Tb_O_C_Tb_O_C_Tb_O_C_Tb_O_C_Tb_C_H_O_O_H_C_O_C_Tb_O_C_Tb_H_C_C_H_O_O_O_C_Tb_C_H_O_O_Tb_O_O_O_O_O_O_O_C_Tb_C_H_O_O_Tb_O_O_O_O_O_O_Tb_O_O_O_O_O_O_O_C_Tb_O_C_Tb_O_C_Tb_O_C_Tb_O_C_Tb_O_C_Tb_O_C_Tb_C_H_O_O_Tb_O_O_O_O_O_O_O_C_Tb_C_H_O_O_Tb_O_O_O_O_O_O_O_C_Tb_C_H_O_O_Tb_O_O_O_O_O_O_O_C_Tb_C_H_O_O_Tb_O_O_O_O_O_O_O_C_Tb_C_H_O_O_Tb_O_O_O_O_O_O_O_C_Tb_C_H_O_O_Tb_O_O_O_O_O_O'], tags=['RSM0003'])"
      ]
     },
     "execution_count": 27,
     "metadata": {},
     "output_type": "execute_result"
    }
   ],
   "source": [
    "documents[0]"
   ]
  },
  {
   "cell_type": "code",
   "execution_count": null,
   "metadata": {},
   "outputs": [],
   "source": [
    "names = [d.tags[0] for d in documents]\n",
    "word_length = [len(d.words) for d in documents]"
   ]
  },
  {
   "cell_type": "code",
   "execution_count": null,
   "metadata": {},
   "outputs": [],
   "source": [
    "word_length_ordered = [l for _, l in sorted(zip(names, word_length))]"
   ]
  },
  {
   "cell_type": "code",
   "execution_count": null,
   "metadata": {},
   "outputs": [],
   "source": [
    "vector_length = np.sum(df_vector**2, axis=1)"
   ]
  },
  {
   "cell_type": "code",
   "execution_count": null,
   "metadata": {},
   "outputs": [],
   "source": [
    "import matplotlib.pyplot as plt"
   ]
  },
  {
   "cell_type": "code",
   "execution_count": null,
   "metadata": {},
   "outputs": [],
   "source": [
    "plt.scatter(word_length_ordered, vector_length)\n",
    "plt.xlabel(\"MOF document length\")\n",
    "plt.ylabel(\"Embedded vector length\")"
   ]
  },
  {
   "cell_type": "code",
   "execution_count": null,
   "metadata": {},
   "outputs": [],
   "source": [
    "np.corrcoef(word_length_ordered, vector_length)"
   ]
  },
  {
   "cell_type": "code",
   "execution_count": null,
   "metadata": {},
   "outputs": [],
   "source": [
    "\n"
   ]
  }
 ],
 "metadata": {
  "kernelspec": {
   "display_name": "mofgraph2vec",
   "language": "python",
   "name": "python3"
  },
  "language_info": {
   "codemirror_mode": {
    "name": "ipython",
    "version": 3
   },
   "file_extension": ".py",
   "mimetype": "text/x-python",
   "name": "python",
   "nbconvert_exporter": "python",
   "pygments_lexer": "ipython3",
   "version": "3.8.16"
  },
  "orig_nbformat": 4,
  "vscode": {
   "interpreter": {
    "hash": "368a83da866b9402d886ea1b61fd69704c8f3d8a9de7c33a5da24e5026c853b5"
   }
  }
 },
 "nbformat": 4,
 "nbformat_minor": 2
}
