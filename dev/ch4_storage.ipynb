{
 "cells": [
  {
   "cell_type": "code",
   "execution_count": 1,
   "metadata": {},
   "outputs": [
    {
     "name": "stderr",
     "output_type": "stream",
     "text": [
      "/Users/xiaoqi/opt/miniconda3/envs/mofgraph2vec/lib/python3.8/site-packages/umap/distances.py:1063: NumbaDeprecationWarning: The 'nopython' keyword argument was not supplied to the 'numba.jit' decorator. The implicit default value for this argument is currently False, but it will be changed to True in Numba 0.59.0. See https://numba.readthedocs.io/en/stable/reference/deprecation.html#deprecation-of-object-mode-fall-back-behaviour-when-using-jit for details.\n",
      "  @numba.jit()\n",
      "/Users/xiaoqi/opt/miniconda3/envs/mofgraph2vec/lib/python3.8/site-packages/umap/distances.py:1071: NumbaDeprecationWarning: The 'nopython' keyword argument was not supplied to the 'numba.jit' decorator. The implicit default value for this argument is currently False, but it will be changed to True in Numba 0.59.0. See https://numba.readthedocs.io/en/stable/reference/deprecation.html#deprecation-of-object-mode-fall-back-behaviour-when-using-jit for details.\n",
      "  @numba.jit()\n",
      "/Users/xiaoqi/opt/miniconda3/envs/mofgraph2vec/lib/python3.8/site-packages/umap/distances.py:1086: NumbaDeprecationWarning: The 'nopython' keyword argument was not supplied to the 'numba.jit' decorator. The implicit default value for this argument is currently False, but it will be changed to True in Numba 0.59.0. See https://numba.readthedocs.io/en/stable/reference/deprecation.html#deprecation-of-object-mode-fall-back-behaviour-when-using-jit for details.\n",
      "  @numba.jit()\n",
      "/Users/xiaoqi/opt/miniconda3/envs/mofgraph2vec/lib/python3.8/site-packages/umap/umap_.py:660: NumbaDeprecationWarning: The 'nopython' keyword argument was not supplied to the 'numba.jit' decorator. The implicit default value for this argument is currently False, but it will be changed to True in Numba 0.59.0. See https://numba.readthedocs.io/en/stable/reference/deprecation.html#deprecation-of-object-mode-fall-back-behaviour-when-using-jit for details.\n",
      "  @numba.jit()\n"
     ]
    }
   ],
   "source": [
    "import pandas as pd\n",
    "import numpy as np\n",
    "import random\n",
    "from gensim.models.doc2vec import Doc2Vec\n",
    "from mofgraph2vec.featurize.mof2doc import MOF2doc\n",
    "from sklearn.metrics.pairwise import cosine_similarity\n",
    "import matplotlib.pyplot as plt\n",
    "from scipy.stats import spearmanr\n",
    "import scipy.stats as ss\n",
    "\n",
    "import matplotlib as mpl\n",
    "mpl.rcParams[\"font.size\"] = 18"
   ]
  },
  {
   "cell_type": "code",
   "execution_count": 2,
   "metadata": {},
   "outputs": [],
   "source": [
    "df = pd.read_csv(\"../data/md-core-xq.csv\").set_index(\"info.name\")"
   ]
  },
  {
   "cell_type": "markdown",
   "metadata": {},
   "source": [
    "2005: offline-run-20230828_140847-804v5w59 (0.99702/0.36303) \\\n",
    "2006: offline-run-20230828_140512-by30t6df (0.99236/0.3689) \\\n",
    "2007: offline-run-20230828_140235-z7fg9qlr (0.97471/0.62817) \\\n",
    "2008: offline-run-20230828_140113-kdq418oj (0.96981/0.51121) \\\n",
    "2009: offline-run-20230828_135947-edducouk (0.94738/0.4292) \\\n",
    "2010: offline-run-20230828_135705-24n9b5v2 (0.92114/0.59706) \\\n",
    "2011: offline-run-20230828_135604-lpoaccgc (0.88867/0.62615) \\\n",
    "2012: offline-run-20230828_135213-ho8t8fek (0.84198/0.52042) \\\n",
    "2013: offline-run-20230828_124657-q8y9ldn5 (0.81389/0.42076) \\\n",
    "2014: offline-run-20230829_133546-ktcasehg (0.77532/0.40128) \\\n",
    "2015: offline-run-20230828_122317-3vc1832t (0.7516/0.46514)"
   ]
  },
  {
   "cell_type": "code",
   "execution_count": 3,
   "metadata": {},
   "outputs": [],
   "source": [
    "test_r2 = [0.36303, 0.3689, 0.62817, 0.51121, 0.4292, 0.59706, 0.62615, 0.52042, 0.42076, 0.40128, 0.46514]"
   ]
  },
  {
   "cell_type": "code",
   "execution_count": 4,
   "metadata": {},
   "outputs": [],
   "source": [
    "test_corpus_config = {\n",
    "  \"embed_label\": False,\n",
    "  \"label_path\": \"../../data/md-core-xq.csv\",\n",
    "  \"labels_to_embed\": [\"outputs.logKH_CO2\", \"outputs.logKH_CH4\"],\n",
    "  \"id_column\": \"info.name\",\n",
    "  \"wl_step\": 2,\n",
    "  \"n_components\": 2,\n",
    "  \"use_hash\": False,\n",
    "  \"writing_style\": \"paragraph\",\n",
    "  \"composition\": False,\n",
    "  \"mode\": \"all\",\n",
    "  \"embed_cif\": False\n",
    "}"
   ]
  },
  {
   "cell_type": "code",
   "execution_count": 5,
   "metadata": {},
   "outputs": [],
   "source": [
    "def cosine(a, b):\n",
    "    cos = np.dot(a, b) / (np.linalg.norm(a) * np.linalg.norm(b))\n",
    "    return cos"
   ]
  },
  {
   "cell_type": "code",
   "execution_count": 6,
   "metadata": {},
   "outputs": [],
   "source": [
    "def load_pretrained(model_path):\n",
    "    model = Doc2Vec.load(model_path)\n",
    "    co2_kh_vecs = [model.dv[\"outputs.xq.logKH_CO2_%s\" %i] for i in range(10)]\n",
    "    n2_kh_vecs= [model.dv[\"outputs.xq.logKH_N2_%s\" %i] for i in range(10)]\n",
    "    ch4_kh_vecs = [model.dv[\"outputs.logKH_CH4_%s\" %i] for i in range(10)]\n",
    "    ch4_lowp_vecs = [model.dv[\"outputs.pure_uptake_methane_298.00_580000_%s\" %i] for i in range(10)]\n",
    "    ch4_highp_vecs = [model.dv[\"outputs.pure_uptake_methane_298.00_6500000_%s\" %i] for i in range(10)]\n",
    "    \n",
    "    return model, co2_kh_vecs, n2_kh_vecs, ch4_kh_vecs, ch4_lowp_vecs, ch4_highp_vecs"
   ]
  },
  {
   "cell_type": "code",
   "execution_count": 7,
   "metadata": {},
   "outputs": [],
   "source": [
    "def get_test_data(test_cif_path, model):\n",
    "    test_corpus = {}\n",
    "    test_ds = MOF2doc(cif_path=test_cif_path, **test_corpus_config).get_documents()\n",
    "    for dp in test_ds:\n",
    "        if dp.tags[0] in list(df.index):\n",
    "            test_corpus.update(\n",
    "                {\n",
    "                    dp.tags[0]: model.infer_vector(dp.words, epochs=300)\n",
    "                }\n",
    "            )\n",
    "    return test_corpus"
   ]
  },
  {
   "cell_type": "code",
   "execution_count": 8,
   "metadata": {},
   "outputs": [],
   "source": [
    "def get_similarities(test_corpus, bench_vec):\n",
    "    test_cosine = {}\n",
    "    for key, vec in test_corpus.items():\n",
    "        test_cosine.update(\n",
    "            {   \n",
    "                key: [cosine(bench, vec) for bench in bench_vec]\n",
    "            }\n",
    "        )\n",
    "    return test_cosine"
   ]
  },
  {
   "cell_type": "code",
   "execution_count": 9,
   "metadata": {},
   "outputs": [],
   "source": [
    "def select_top_n(test_similarities, test_years, top_percent):\n",
    "    topn = int(len(test_similarities)*top_percent)\n",
    "    # recommendation from similarity\n",
    "    similarities = np.array([np.array(sim).mean() for _, sim in test_similarities.items()])\n",
    "    top_indices = similarities.argsort()[-topn:][::-1]\n",
    "    recommendations = []\n",
    "    for index in top_indices:\n",
    "        recommendations.append((list(test_similarities)[index], similarities[index]))\n",
    "\n",
    "    # topN from simulation\n",
    "    names = df[df[\"info.year\"].isin(test_years)][\"info.name\"].values\n",
    "    #simulations = df[df[\"info.year\"].isin(test_years)][recom_target].values\n",
    "    simu_ch4 = df[df[\"info.year\"].isin(test_years)][\"outputs.logKH_CH4\"].values\n",
    "    simu_co2 = df[df[\"info.year\"].isin(test_years)][\"outputs.logKH_CO2\"].values\n",
    "    simu_n2 = df[df[\"info.year\"].isin(test_years)][\"outputs.xq.logKH_N2\"].values\n",
    "    simulations = df[df[\"info.year\"].isin(test_years)][\"outputs.pure_uptake_methane_298.00_6500000\".values]\n",
    "    top_simulation = simulations.argsort()[-topn:][::-1]\n",
    "    true_top = []\n",
    "    top_names = []\n",
    "    for index in top_simulation:\n",
    "        true_top.append((names[index], simulations[index]))\n",
    "        top_names.append(names[index])\n",
    "    \n",
    "    # random selection \n",
    "    rand_acc_time = []\n",
    "    time = 0\n",
    "    while time < 5:\n",
    "        random_names = random.choices(names, k=topn)\n",
    "        true_or_false = [True if name in top_names else False for name in random_names]\n",
    "        rand_acc_time.append(sum(true_or_false)/len(true_or_false))\n",
    "        time += 1\n",
    "\n",
    "    true_or_false = [True if name in top_names else False for name, sim in recommendations]\n",
    "    recm_acc = sum(true_or_false)/len(true_or_false)\n",
    "\n",
    "    rand_acc = np.mean(rand_acc_time)\n",
    "\n",
    "    return recm_acc, rand_acc"
   ]
  },
  {
   "cell_type": "code",
   "execution_count": 10,
   "metadata": {},
   "outputs": [],
   "source": [
    "df[\"outputs.selectivity\"] = df['outputs.xq.logKH_CO2'].values - df['outputs.xq.logKH_N2'].values"
   ]
  },
  {
   "cell_type": "code",
   "execution_count": 11,
   "metadata": {},
   "outputs": [],
   "source": [
    "def cal_spearman(test_cosines):\n",
    "    test_sim = {name: np.mean(x) for name, x in test_cosines.items()}\n",
    "    model_v = [sim for i, sim in test_sim.items()]\n",
    "    simul_v = [df.loc[i, \"outputs.pure_uptake_methane_298.00_6500000\"] for i, sim in test_sim.items()]\n",
    "\n",
    "    return spearmanr(model_v, simul_v)[0]"
   ]
  },
  {
   "cell_type": "code",
   "execution_count": 12,
   "metadata": {},
   "outputs": [],
   "source": [
    "topP = 0.3"
   ]
  },
  {
   "cell_type": "code",
   "execution_count": 13,
   "metadata": {},
   "outputs": [
    {
     "name": "stderr",
     "output_type": "stream",
     "text": [
      " 50%|█████     | 31/62 [00:00<00:00, 303.72it/s]"
     ]
    },
    {
     "name": "stderr",
     "output_type": "stream",
     "text": [
      "100%|██████████| 62/62 [00:00<00:00, 349.11it/s]\n",
      "100%|██████████| 138/138 [00:00<00:00, 369.90it/s]\n",
      "100%|██████████| 223/223 [00:00<00:00, 469.45it/s]\n",
      "100%|██████████| 322/322 [00:00<00:00, 441.58it/s]\n",
      "100%|██████████| 452/452 [00:01<00:00, 421.34it/s]\n",
      "100%|██████████| 630/630 [00:01<00:00, 470.19it/s]\n",
      "100%|██████████| 838/838 [00:02<00:00, 390.91it/s]\n",
      "100%|██████████| 1064/1064 [00:02<00:00, 364.76it/s]\n",
      "100%|██████████| 1276/1276 [00:03<00:00, 375.45it/s]\n",
      "100%|██████████| 1517/1517 [00:04<00:00, 371.49it/s]\n",
      "100%|██████████| 1737/1737 [00:04<00:00, 354.15it/s]\n",
      "100%|██████████| 1837/1837 [00:05<00:00, 348.48it/s]\n"
     ]
    }
   ],
   "source": [
    "# cutoff 2005\n",
    "model_path = \"../experiments/workflow/wandb/offline-run-20230828_140847-804v5w59/tmp/embedding_model.pt\"\n",
    "model, co2_kh_vecs, n2_kh_vecs, ch4_kh_vecs, ch4_lowp_vecs, ch4_highp_vecs  = load_pretrained(model_path)\n",
    "\n",
    "bench_vecs = ch4_highp_vecs[-1] + ch4_highp_vecs[-2] + ch4_highp_vecs[-3]\n",
    "\"\"\"\n",
    "bench_vecs = [\n",
    "    co2_kh_vecs[-1] - n2_kh_vecs[-1],\n",
    "    co2_kh_vecs[-1] - n2_kh_vecs[-2],\n",
    "    co2_kh_vecs[-2] - n2_kh_vecs[-1],\n",
    "    co2_kh_vecs[-2] - n2_kh_vecs[-2],\n",
    "    co2_kh_vecs[-3] - n2_kh_vecs[-1],\n",
    "    co2_kh_vecs[-3] - n2_kh_vecs[-2],\n",
    "]\n",
    "\"\"\"\n",
    "sp_2005_sel = []\n",
    "for test_years in [\n",
    "    [2006], [2006, 2007], \n",
    "    [2006, 2007, 2008], [2006, 2007, 2008, 2009], \n",
    "    [2006, 2007, 2008, 2009, 2010], \n",
    "    [2006, 2007, 2008, 2009, 2010, 2011], \n",
    "    [2006, 2007, 2008, 2009, 2010, 2011, 2012], \n",
    "    [2006, 2007, 2008, 2009, 2010, 2011, 2012, 2013], \n",
    "    [2006, 2007, 2008, 2009, 2010, 2011, 2012, 2013, 2014], \n",
    "    [2006, 2007, 2008, 2009, 2010, 2011, 2012, 2013, 2014, 2015], \n",
    "    [2006, 2007, 2008, 2009, 2010, 2011, 2012, 2013, 2014, 2015, 2016], \n",
    "    [2006, 2007, 2008, 2009, 2010, 2011, 2012, 2013, 2014, 2015, 2016, 2017], \n",
    "]:\n",
    "    test_cif_dir = [\"../data/cifs/md_%s\" %year for year in test_years]\n",
    "    test_corpus =  get_test_data(test_cif_dir, model)\n",
    "    test_cosines = get_similarities(test_corpus, bench_vecs)\n",
    "    sp_2005_sel.append(cal_spearman(test_cosines))"
   ]
  },
  {
   "cell_type": "code",
   "execution_count": 15,
   "metadata": {},
   "outputs": [
    {
     "name": "stderr",
     "output_type": "stream",
     "text": [
      "100%|██████████| 76/76 [00:00<00:00, 367.88it/s]\n",
      "100%|██████████| 161/161 [00:00<00:00, 390.69it/s]\n",
      "100%|██████████| 260/260 [00:00<00:00, 313.50it/s]\n",
      "100%|██████████| 390/390 [00:00<00:00, 422.28it/s]\n",
      "100%|██████████| 568/568 [00:01<00:00, 422.10it/s]\n",
      "100%|██████████| 776/776 [00:01<00:00, 431.99it/s]\n",
      "100%|██████████| 1002/1002 [00:02<00:00, 417.13it/s]\n",
      "100%|██████████| 1214/1214 [00:03<00:00, 363.56it/s]\n",
      "100%|██████████| 1455/1455 [00:04<00:00, 359.29it/s]\n",
      "100%|██████████| 1675/1675 [00:05<00:00, 325.17it/s]\n",
      "100%|██████████| 1775/1775 [00:07<00:00, 226.02it/s]\n"
     ]
    }
   ],
   "source": [
    "# cutoff 2006\n",
    "model_path = \"../experiments/workflow/wandb/offline-run-20230828_140512-by30t6df/tmp/embedding_model.pt\"\n",
    "model, co2_kh_vecs, n2_kh_vecs, ch4_kh_vecs, ch4_lowp_vecs, ch4_highp_vecs  = load_pretrained(model_path)\n",
    "\n",
    "\"\"\"\n",
    "bench_vecs = [\n",
    "    co2_kh_vecs[-1] - n2_kh_vecs[-1],\n",
    "    co2_kh_vecs[-1] - n2_kh_vecs[-2],\n",
    "    co2_kh_vecs[-2] - n2_kh_vecs[-1],\n",
    "    co2_kh_vecs[-2] - n2_kh_vecs[-2],\n",
    "    co2_kh_vecs[-3] - n2_kh_vecs[-1],\n",
    "    co2_kh_vecs[-3] - n2_kh_vecs[-2],\n",
    "]\n",
    "\"\"\"\n",
    "sp_2006_sel = []\n",
    "for test_years in [\n",
    "    [2007], \n",
    "    [2007, 2008], [2007, 2008, 2009], \n",
    "    [2007, 2008, 2009, 2010], \n",
    "    [2007, 2008, 2009, 2010, 2011], \n",
    "    [2007, 2008, 2009, 2010, 2011, 2012], \n",
    "    [2007, 2008, 2009, 2010, 2011, 2012, 2013], \n",
    "    [2007, 2008, 2009, 2010, 2011, 2012, 2013, 2014], \n",
    "    [2007, 2008, 2009, 2010, 2011, 2012, 2013, 2014, 2015], \n",
    "    [2007, 2008, 2009, 2010, 2011, 2012, 2013, 2014, 2015, 2016], \n",
    "    [2007, 2008, 2009, 2010, 2011, 2012, 2013, 2014, 2015, 2016, 2017], \n",
    "]:\n",
    "    test_cif_dir = [\"../data/cifs/md_%s\" %year for year in test_years]\n",
    "    test_corpus =  get_test_data(test_cif_dir, model)\n",
    "    test_cosines = get_similarities(test_corpus, bench_vecs)\n",
    "    sp_2006_sel.append(cal_spearman(test_cosines))"
   ]
  },
  {
   "cell_type": "code",
   "execution_count": 16,
   "metadata": {},
   "outputs": [
    {
     "name": "stderr",
     "output_type": "stream",
     "text": [
      "100%|██████████| 85/85 [00:00<00:00, 166.16it/s]\n",
      "100%|██████████| 184/184 [00:00<00:00, 251.29it/s]\n",
      "100%|██████████| 314/314 [00:00<00:00, 393.49it/s]\n",
      "100%|██████████| 492/492 [00:01<00:00, 431.93it/s]\n",
      "100%|██████████| 700/700 [00:01<00:00, 427.46it/s]\n",
      "100%|██████████| 926/926 [00:02<00:00, 430.83it/s]\n",
      "100%|██████████| 1138/1138 [00:02<00:00, 420.33it/s]\n",
      "100%|██████████| 1379/1379 [00:03<00:00, 356.03it/s]\n",
      "100%|██████████| 1599/1599 [00:04<00:00, 331.19it/s]\n",
      "100%|██████████| 1699/1699 [00:05<00:00, 316.90it/s]\n"
     ]
    }
   ],
   "source": [
    "# cutoff 2007 \n",
    "model_path = \"../experiments/workflow/wandb/offline-run-20230828_140235-z7fg9qlr/tmp/embedding_model.pt\"\n",
    "model, co2_kh_vecs, n2_kh_vecs, ch4_kh_vecs, _, ch4_highp_vecs  = load_pretrained(model_path)\n",
    "bench_vecs = ch4_highp_vecs[-1] + ch4_highp_vecs[-2] + ch4_highp_vecs[-3]\n",
    "\"\"\"\n",
    "bench_vecs = [\n",
    "    co2_kh_vecs[-1] - n2_kh_vecs[-1],\n",
    "    co2_kh_vecs[-1] - n2_kh_vecs[-2],\n",
    "    co2_kh_vecs[-2] - n2_kh_vecs[-1],\n",
    "    co2_kh_vecs[-2] - n2_kh_vecs[-2],\n",
    "    co2_kh_vecs[-3] - n2_kh_vecs[-1],\n",
    "    co2_kh_vecs[-3] - n2_kh_vecs[-2],\n",
    "]\n",
    "\"\"\"\n",
    "sp_2007_sel = []\n",
    "for test_years in [\n",
    "    [2008], \n",
    "    [2008, 2009], [2008, 2009, 2010], \n",
    "    [2008, 2009, 2010, 2011], \n",
    "    [2008, 2009, 2010, 2011, 2012], \n",
    "    [2008, 2009, 2010, 2011, 2012, 2013], \n",
    "    [2008, 2009, 2010, 2011, 2012, 2013, 2014], \n",
    "    [2008, 2009, 2010, 2011, 2012, 2013, 2014, 2015], \n",
    "    [2008, 2009, 2010, 2011, 2012, 2013, 2014, 2015, 2016], \n",
    "    [2008, 2009, 2010, 2011, 2012, 2013, 2014, 2015, 2016, 2017], \n",
    "]:\n",
    "    test_cif_dir = [\"../data/cifs/md_%s\" %year for year in test_years]\n",
    "    test_corpus =  get_test_data(test_cif_dir, model)\n",
    "    test_cosines = get_similarities(test_corpus, bench_vecs)\n",
    "    sp_2007_sel.append(cal_spearman(test_cosines))"
   ]
  },
  {
   "cell_type": "code",
   "execution_count": 17,
   "metadata": {},
   "outputs": [
    {
     "name": "stderr",
     "output_type": "stream",
     "text": [
      "100%|██████████| 99/99 [00:00<00:00, 348.49it/s]\n",
      "100%|██████████| 229/229 [00:00<00:00, 349.47it/s]\n",
      "100%|██████████| 407/407 [00:00<00:00, 435.68it/s]\n",
      "100%|██████████| 615/615 [00:01<00:00, 414.98it/s]\n",
      "100%|██████████| 841/841 [00:01<00:00, 431.71it/s]\n",
      "100%|██████████| 1053/1053 [00:02<00:00, 385.21it/s]\n",
      "100%|██████████| 1294/1294 [00:03<00:00, 362.90it/s]\n",
      "100%|██████████| 1514/1514 [00:04<00:00, 361.32it/s]\n",
      "100%|██████████| 1614/1614 [00:05<00:00, 318.35it/s]\n"
     ]
    }
   ],
   "source": [
    "# cutoff 2008 \n",
    "model_path = \"../experiments/workflow/wandb/offline-run-20230828_140113-kdq418oj/tmp/embedding_model.pt\"\n",
    "model, co2_kh_vecs, n2_kh_vecs, ch4_kh_vecs, _, ch4_highp_vecs  = load_pretrained(model_path)\n",
    "bench_vecs = ch4_highp_vecs[-1] + ch4_highp_vecs[-2] + ch4_highp_vecs[-3]\n",
    "\"\"\"\n",
    "bench_vecs = [\n",
    "    co2_kh_vecs[-1] - n2_kh_vecs[-1],\n",
    "    co2_kh_vecs[-1] - n2_kh_vecs[-2],\n",
    "    co2_kh_vecs[-2] - n2_kh_vecs[-1],\n",
    "    co2_kh_vecs[-2] - n2_kh_vecs[-2],\n",
    "    co2_kh_vecs[-3] - n2_kh_vecs[-1],\n",
    "    co2_kh_vecs[-3] - n2_kh_vecs[-2],\n",
    "]\n",
    "\"\"\"\n",
    "sp_2008_sel = []\n",
    "for test_years in [\n",
    "    [2009], \n",
    "    [2009, 2010], [2009, 2010, 2011], \n",
    "    [2009, 2010, 2011, 2012], \n",
    "    [2009, 2010, 2011, 2012, 2013], \n",
    "    [2009, 2010, 2011, 2012, 2013, 2014], \n",
    "    [2009, 2010, 2011, 2012, 2013, 2014, 2015], \n",
    "    [2009, 2010, 2011, 2012, 2013, 2014, 2015, 2016], \n",
    "    [2009, 2010, 2011, 2012, 2013, 2014, 2015, 2016, 2017], \n",
    "]:\n",
    "    test_cif_dir = [\"../data/cifs/md_%s\" %year for year in test_years]\n",
    "    test_corpus =  get_test_data(test_cif_dir, model)\n",
    "    test_cosines = get_similarities(test_corpus, bench_vecs)\n",
    "    sp_2008_sel.append(cal_spearman(test_cosines))"
   ]
  },
  {
   "cell_type": "code",
   "execution_count": 18,
   "metadata": {},
   "outputs": [
    {
     "name": "stderr",
     "output_type": "stream",
     "text": [
      "100%|██████████| 130/130 [00:00<00:00, 438.10it/s]\n",
      "100%|██████████| 308/308 [00:00<00:00, 412.70it/s]\n",
      "100%|██████████| 516/516 [00:01<00:00, 446.78it/s]\n",
      "100%|██████████| 742/742 [00:01<00:00, 439.90it/s]\n",
      "100%|██████████| 954/954 [00:02<00:00, 380.95it/s]\n",
      "100%|██████████| 1195/1195 [00:03<00:00, 356.48it/s]\n",
      "100%|██████████| 1415/1415 [00:04<00:00, 342.71it/s]\n",
      "100%|██████████| 1515/1515 [00:04<00:00, 349.78it/s]\n"
     ]
    }
   ],
   "source": [
    "# cutoff 2009\n",
    "model_path = \"../experiments/workflow/wandb/offline-run-20230828_135947-edducouk/tmp/embedding_model.pt\"\n",
    "model, co2_kh_vecs, n2_kh_vecs, ch4_kh_vecs, _, ch4_highp_vecs  = load_pretrained(model_path)\n",
    "bench_vecs = ch4_highp_vecs[-1] + ch4_highp_vecs[-2] + ch4_highp_vecs[-3]\n",
    "\"\"\"\n",
    "bench_vecs = [\n",
    "    co2_kh_vecs[-1] - n2_kh_vecs[-1],\n",
    "    co2_kh_vecs[-1] - n2_kh_vecs[-2],\n",
    "    co2_kh_vecs[-2] - n2_kh_vecs[-1],\n",
    "    co2_kh_vecs[-2] - n2_kh_vecs[-2],\n",
    "    co2_kh_vecs[-3] - n2_kh_vecs[-1],\n",
    "    co2_kh_vecs[-3] - n2_kh_vecs[-2],\n",
    "]\n",
    "\"\"\"\n",
    "sp_2009_sel = []\n",
    "for test_years in [\n",
    "    [2010], \n",
    "    [2010, 2011], [2010, 2011, 2012], \n",
    "    [2010, 2011, 2012, 2013], \n",
    "    [2010, 2011, 2012, 2013, 2014], \n",
    "    [2010, 2011, 2012, 2013, 2014, 2015], \n",
    "    [2010, 2011, 2012, 2013, 2014, 2015, 2016], \n",
    "    [2010, 2011, 2012, 2013, 2014, 2015, 2016, 2017], \n",
    "]:\n",
    "    test_cif_dir = [\"../data/cifs/md_%s\" %year for year in test_years]\n",
    "    test_corpus =  get_test_data(test_cif_dir, model)\n",
    "    test_cosines = get_similarities(test_corpus, bench_vecs)\n",
    "    sp_2009_sel.append(cal_spearman(test_cosines))"
   ]
  },
  {
   "cell_type": "code",
   "execution_count": 19,
   "metadata": {},
   "outputs": [
    {
     "name": "stderr",
     "output_type": "stream",
     "text": [
      "  0%|          | 0/178 [00:00<?, ?it/s]"
     ]
    },
    {
     "name": "stderr",
     "output_type": "stream",
     "text": [
      "100%|██████████| 178/178 [00:00<00:00, 321.75it/s]\n",
      "100%|██████████| 386/386 [00:00<00:00, 434.58it/s]\n",
      "100%|██████████| 612/612 [00:01<00:00, 442.65it/s]\n",
      "100%|██████████| 824/824 [00:02<00:00, 387.84it/s]\n",
      "100%|██████████| 1065/1065 [00:02<00:00, 381.36it/s]\n",
      "100%|██████████| 1285/1285 [00:03<00:00, 375.33it/s]\n",
      "100%|██████████| 1385/1385 [00:04<00:00, 345.34it/s]\n"
     ]
    }
   ],
   "source": [
    "# cutoff 2010\n",
    "model_path = \"../experiments/workflow/wandb/offline-run-20230828_135705-24n9b5v2/tmp/embedding_model.pt\"\n",
    "model, co2_kh_vecs, n2_kh_vecs, ch4_kh_vecs, _, ch4_highp_vecs  = load_pretrained(model_path)\n",
    "bench_vecs = ch4_highp_vecs[-1] + ch4_highp_vecs[-2] + ch4_highp_vecs[-3]\n",
    "\"\"\"\n",
    "bench_vecs = [\n",
    "    co2_kh_vecs[-1] - n2_kh_vecs[-1],\n",
    "    co2_kh_vecs[-1] - n2_kh_vecs[-2],\n",
    "    co2_kh_vecs[-2] - n2_kh_vecs[-1],\n",
    "    co2_kh_vecs[-2] - n2_kh_vecs[-2],\n",
    "    co2_kh_vecs[-3] - n2_kh_vecs[-1],\n",
    "    co2_kh_vecs[-3] - n2_kh_vecs[-2],\n",
    "]\n",
    "\"\"\"\n",
    "sp_2010_sel = []\n",
    "for test_years in [\n",
    "    [2011], \n",
    "    [2011, 2012], [2011, 2012, 2013], \n",
    "    [2011, 2012, 2013, 2014], \n",
    "    [2011, 2012, 2013, 2014, 2015], \n",
    "    [2011, 2012, 2013, 2014, 2015, 2016], \n",
    "    [2011, 2012, 2013, 2014, 2015, 2016, 2017], \n",
    "]:\n",
    "    test_cif_dir = [\"../data/cifs/md_%s\" %year for year in test_years]\n",
    "    test_corpus =  get_test_data(test_cif_dir, model)\n",
    "    test_cosines = get_similarities(test_corpus, bench_vecs)\n",
    "    sp_2010_sel.append(cal_spearman(test_cosines))"
   ]
  },
  {
   "cell_type": "code",
   "execution_count": 20,
   "metadata": {},
   "outputs": [
    {
     "name": "stderr",
     "output_type": "stream",
     "text": [
      "  0%|          | 0/208 [00:00<?, ?it/s]"
     ]
    },
    {
     "name": "stderr",
     "output_type": "stream",
     "text": [
      "100%|██████████| 208/208 [00:00<00:00, 425.24it/s]\n",
      "100%|██████████| 434/434 [00:01<00:00, 359.76it/s]\n",
      "100%|██████████| 646/646 [00:01<00:00, 333.11it/s]\n",
      "100%|██████████| 887/887 [00:02<00:00, 326.96it/s]\n",
      "100%|██████████| 1107/1107 [00:03<00:00, 355.89it/s]\n",
      "100%|██████████| 1207/1207 [00:03<00:00, 316.73it/s]\n"
     ]
    }
   ],
   "source": [
    "# cutoff 2011\n",
    "model_path = \"../experiments/workflow/wandb/offline-run-20230828_135604-lpoaccgc/tmp/embedding_model.pt\"\n",
    "model, co2_kh_vecs, n2_kh_vecs, ch4_kh_vecs, _, ch4_highp_vecs  = load_pretrained(model_path)\n",
    "bench_vecs = ch4_highp_vecs[-1] + ch4_highp_vecs[-2] + ch4_highp_vecs[-3]\n",
    "\"\"\"\n",
    "bench_vecs = [\n",
    "    co2_kh_vecs[-1] - n2_kh_vecs[-1],\n",
    "    co2_kh_vecs[-1] - n2_kh_vecs[-2],\n",
    "    co2_kh_vecs[-2] - n2_kh_vecs[-1],\n",
    "    co2_kh_vecs[-2] - n2_kh_vecs[-2],\n",
    "    co2_kh_vecs[-3] - n2_kh_vecs[-1],\n",
    "    co2_kh_vecs[-3] - n2_kh_vecs[-2],\n",
    "]\n",
    "\"\"\"\n",
    "sp_2011_sel = []\n",
    "for test_years in [\n",
    "    [2012], \n",
    "    [2012, 2013], \n",
    "    [2012, 2013, 2014], \n",
    "    [2012, 2013, 2014, 2015], \n",
    "    [2012, 2013, 2014, 2015, 2016], \n",
    "    [2012, 2013, 2014, 2015, 2016, 2017], \n",
    "]:\n",
    "    test_cif_dir = [\"../data/cifs/md_%s\" %year for year in test_years]\n",
    "    test_corpus =  get_test_data(test_cif_dir, model)\n",
    "    test_cosines = get_similarities(test_corpus, bench_vecs)\n",
    "    sp_2011_sel.append(cal_spearman(test_cosines))"
   ]
  },
  {
   "cell_type": "code",
   "execution_count": 21,
   "metadata": {},
   "outputs": [
    {
     "name": "stderr",
     "output_type": "stream",
     "text": [
      "  0%|          | 0/226 [00:00<?, ?it/s]"
     ]
    },
    {
     "name": "stderr",
     "output_type": "stream",
     "text": [
      "100%|██████████| 226/226 [00:00<00:00, 330.97it/s]\n",
      "100%|██████████| 438/438 [00:01<00:00, 330.57it/s]\n",
      "100%|██████████| 679/679 [00:02<00:00, 328.81it/s]\n",
      "100%|██████████| 899/899 [00:02<00:00, 330.31it/s]\n",
      "100%|██████████| 999/999 [00:02<00:00, 351.28it/s]\n"
     ]
    }
   ],
   "source": [
    "# cutoff 2012\n",
    "model_path = \"../experiments/workflow/wandb/offline-run-20230828_135213-ho8t8fek/tmp/embedding_model.pt\"\n",
    "model, co2_kh_vecs, n2_kh_vecs, ch4_kh_vecs, _, ch4_highp_vecs  = load_pretrained(model_path)\n",
    "bench_vecs = ch4_highp_vecs[-1] + ch4_highp_vecs[-2] + ch4_highp_vecs[-3]\n",
    "\"\"\"\n",
    "bench_vecs = [\n",
    "    co2_kh_vecs[-1] - n2_kh_vecs[-1],\n",
    "    co2_kh_vecs[-1] - n2_kh_vecs[-2],\n",
    "    co2_kh_vecs[-2] - n2_kh_vecs[-1],\n",
    "    co2_kh_vecs[-2] - n2_kh_vecs[-2],\n",
    "    co2_kh_vecs[-3] - n2_kh_vecs[-1],\n",
    "    co2_kh_vecs[-3] - n2_kh_vecs[-2],\n",
    "]\n",
    "\"\"\"\n",
    "sp_2012_sel = []\n",
    "for test_years in [\n",
    "    [2013], \n",
    "    [2013, 2014], \n",
    "    [2013, 2014, 2015], \n",
    "    [2013, 2014, 2015, 2016], \n",
    "    [2013, 2014, 2015, 2016, 2017], \n",
    "]:\n",
    "    test_cif_dir = [\"../data/cifs/md_%s\" %year for year in test_years]\n",
    "    test_corpus =  get_test_data(test_cif_dir, model)\n",
    "    test_cosines = get_similarities(test_corpus, bench_vecs)\n",
    "    sp_2012_sel.append(cal_spearman(test_cosines))"
   ]
  },
  {
   "cell_type": "code",
   "execution_count": 22,
   "metadata": {},
   "outputs": [
    {
     "name": "stderr",
     "output_type": "stream",
     "text": [
      "100%|██████████| 212/212 [00:00<00:00, 294.87it/s]\n",
      "100%|██████████| 453/453 [00:01<00:00, 299.43it/s]\n",
      "100%|██████████| 673/673 [00:02<00:00, 308.81it/s]\n",
      "100%|██████████| 773/773 [00:02<00:00, 336.77it/s]\n"
     ]
    }
   ],
   "source": [
    "# cutoff 2013\n",
    "model_path = \"../experiments/workflow/wandb/offline-run-20230828_124657-q8y9ldn5/tmp/embedding_model.pt\"\n",
    "model, co2_kh_vecs, n2_kh_vecs, ch4_kh_vecs, _, ch4_highp_vecs  = load_pretrained(model_path)\n",
    "bench_vecs = ch4_highp_vecs[-1] + ch4_highp_vecs[-2] + ch4_highp_vecs[-3]\n",
    "\"\"\"\n",
    "bench_vecs = [\n",
    "    co2_kh_vecs[-1] - n2_kh_vecs[-1],\n",
    "    co2_kh_vecs[-1] - n2_kh_vecs[-2],\n",
    "    co2_kh_vecs[-2] - n2_kh_vecs[-1],\n",
    "    co2_kh_vecs[-2] - n2_kh_vecs[-2],\n",
    "    co2_kh_vecs[-3] - n2_kh_vecs[-1],\n",
    "    co2_kh_vecs[-3] - n2_kh_vecs[-2],\n",
    "]\n",
    "\"\"\"\n",
    "sp_2013_sel = []\n",
    "for test_years in [\n",
    "    [2014], \n",
    "    [2014, 2015], \n",
    "    [2014, 2015, 2016], \n",
    "    [2014, 2015, 2016, 2017], \n",
    "]:\n",
    "    test_cif_dir = [\"../data/cifs/md_%s\" %year for year in test_years]\n",
    "    test_corpus =  get_test_data(test_cif_dir, model)\n",
    "    test_cosines = get_similarities(test_corpus, bench_vecs)\n",
    "    sp_2013_sel.append(cal_spearman(test_cosines))"
   ]
  },
  {
   "cell_type": "code",
   "execution_count": 23,
   "metadata": {},
   "outputs": [
    {
     "name": "stderr",
     "output_type": "stream",
     "text": [
      "100%|██████████| 241/241 [00:00<00:00, 316.62it/s]\n",
      "100%|██████████| 461/461 [00:01<00:00, 327.47it/s]\n",
      "100%|██████████| 561/561 [00:01<00:00, 314.73it/s]\n"
     ]
    }
   ],
   "source": [
    "# cutoff 2014\n",
    "model_path = \"../experiments/workflow/wandb/offline-run-20230829_133546-ktcasehg/tmp/embedding_model.pt\"\n",
    "model, co2_kh_vecs, n2_kh_vecs, ch4_kh_vecs, _, ch4_highp_vecs  = load_pretrained(model_path)\n",
    "\n",
    "\"\"\"\n",
    "bench_vecs = [\n",
    "    co2_kh_vecs[-1] - n2_kh_vecs[-1],\n",
    "    co2_kh_vecs[-1] - n2_kh_vecs[-2],\n",
    "    co2_kh_vecs[-2] - n2_kh_vecs[-1],\n",
    "    co2_kh_vecs[-2] - n2_kh_vecs[-2],\n",
    "    co2_kh_vecs[-3] - n2_kh_vecs[-1],\n",
    "    co2_kh_vecs[-3] - n2_kh_vecs[-2],\n",
    "]\n",
    "\"\"\"\n",
    "sp_2014_sel = []\n",
    "for test_years in [\n",
    "    [2015], \n",
    "    [2015, 2016], \n",
    "    [2015, 2016, 2017], \n",
    "]:\n",
    "    test_cif_dir = [\"../data/cifs/md_%s\" %year for year in test_years]\n",
    "    test_corpus =  get_test_data(test_cif_dir, model)\n",
    "    test_cosines = get_similarities(test_corpus, bench_vecs)\n",
    "    sp_2014_sel.append(cal_spearman(test_cosines))"
   ]
  },
  {
   "cell_type": "code",
   "execution_count": 24,
   "metadata": {},
   "outputs": [
    {
     "name": "stderr",
     "output_type": "stream",
     "text": [
      "100%|██████████| 220/220 [00:00<00:00, 307.88it/s]\n",
      "100%|██████████| 320/320 [00:01<00:00, 301.72it/s]\n"
     ]
    }
   ],
   "source": [
    "# cutoff 2015\n",
    "model_path = \"../experiments/workflow/wandb/offline-run-20230828_122317-3vc1832t/tmp/embedding_model.pt\"\n",
    "model, co2_kh_vecs, n2_kh_vecs, ch4_kh_vecs, _, ch4_highp_vecs  = load_pretrained(model_path)\n",
    "\n",
    "\"\"\"\n",
    "bench_vecs = [\n",
    "    co2_kh_vecs[-1] - n2_kh_vecs[-1],\n",
    "    co2_kh_vecs[-1] - n2_kh_vecs[-2],\n",
    "    co2_kh_vecs[-2] - n2_kh_vecs[-1],\n",
    "    co2_kh_vecs[-2] - n2_kh_vecs[-2],\n",
    "    co2_kh_vecs[-3] - n2_kh_vecs[-1],\n",
    "    co2_kh_vecs[-3] - n2_kh_vecs[-2],\n",
    "]\n",
    "\"\"\"\n",
    "\n",
    "sp_2015_sel = []\n",
    "for test_years in [\n",
    "    [2016], \n",
    "    [2016, 2017], \n",
    "]:\n",
    "    test_cif_dir = [\"../data/cifs/md_%s\" %year for year in test_years]\n",
    "    test_corpus =  get_test_data(test_cif_dir, model)\n",
    "    test_cosines = get_similarities(test_corpus, bench_vecs)\n",
    "    sp_2015_sel.append(cal_spearman(test_cosines))"
   ]
  },
  {
   "cell_type": "code",
   "execution_count": 25,
   "metadata": {},
   "outputs": [
    {
     "data": {
      "image/png": "[encoded data removed]",
      "text/plain": [
       "<Figure size 1000x600 with 1 Axes>"
      ]
     },
     "metadata": {},
     "output_type": "display_data"
    }
   ],
   "source": [
    "plt.figure(figsize=(10, 6))\n",
    "years = [2005, 2006, 2007, 2008, 2009, 2010, 2011, 2012, 2013, 2014, 2015]\n",
    "\n",
    "sp_sel_mean = [\n",
    "    np.mean(sp_2005_sel),\n",
    "    np.mean(sp_2006_sel),\n",
    "    np.mean(sp_2007_sel),\n",
    "    np.mean(sp_2008_sel),\n",
    "    np.mean(sp_2009_sel),\n",
    "    np.mean(sp_2010_sel),\n",
    "    np.mean(sp_2011_sel),\n",
    "    np.mean(sp_2012_sel),\n",
    "    np.mean(sp_2013_sel),\n",
    "    np.mean(sp_2014_sel),\n",
    "    np.mean(sp_2015_sel)\n",
    "]\n",
    "sp_sel_std = [\n",
    "    np.std(sp_2005_sel),\n",
    "    np.std(sp_2006_sel),\n",
    "    np.std(sp_2007_sel),\n",
    "    np.std(sp_2008_sel),\n",
    "    np.std(sp_2009_sel),\n",
    "    np.std(sp_2010_sel),\n",
    "    np.std(sp_2011_sel),\n",
    "    np.std(sp_2012_sel),\n",
    "    np.std(sp_2013_sel),\n",
    "    np.std(sp_2014_sel),\n",
    "    np.std(sp_2015_sel)\n",
    "]\n",
    "\n",
    "#plt.errorbar(years, sp_mean, sp_std, label=\"$CO_2\\ k_H$\")\n",
    "plt.errorbar(years, sp_sel_mean, sp_sel_std, label=\"$CO_2/CH_4$ selectivity\")\n",
    "plt.plot(years,test_r2)\n",
    "plt.xticks(years, labels=years, rotation=45)\n",
    "\n",
    "plt.ylim([0, 0.7])\n",
    "plt.xlabel(\"Cutoff year\")\n",
    "plt.ylabel(\"Spearman's rank correlation coefficient\",)\n",
    "plt.legend(loc='lower right')\n",
    "\n",
    "plt.tight_layout()\n",
    "\n",
    "#plt.savefig(\"../../../files/final_v/2-spearman.png\", dpi=1200)"
   ]
  },
  {
   "cell_type": "code",
   "execution_count": null,
   "metadata": {},
   "outputs": [],
   "source": []
  },
  {
   "cell_type": "code",
   "execution_count": null,
   "metadata": {},
   "outputs": [],
   "source": []
  }
 ],
 "metadata": {
  "kernelspec": {
   "display_name": "Python 3",
   "language": "python",
   "name": "python3"
  },
  "language_info": {
   "codemirror_mode": {
    "name": "ipython",
    "version": 3
   },
   "file_extension": ".py",
   "mimetype": "text/x-python",
   "name": "python",
   "nbconvert_exporter": "python",
   "pygments_lexer": "ipython3",
   "version": "3.8.16"
  },
  "orig_nbformat": 4
 },
 "nbformat": 4,
 "nbformat_minor": 2
}
