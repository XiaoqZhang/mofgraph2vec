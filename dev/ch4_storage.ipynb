{
 "cells": [
  {
   "cell_type": "code",
   "execution_count": 1,
   "metadata": {},
   "outputs": [
    {
     "name": "stderr",
     "output_type": "stream",
     "text": [
      "/Users/xiaoqi/opt/miniconda3/envs/mofgraph2vec/lib/python3.8/site-packages/umap/distances.py:1063: NumbaDeprecationWarning: The 'nopython' keyword argument was not supplied to the 'numba.jit' decorator. The implicit default value for this argument is currently False, but it will be changed to True in Numba 0.59.0. See https://numba.readthedocs.io/en/stable/reference/deprecation.html#deprecation-of-object-mode-fall-back-behaviour-when-using-jit for details.\n",
      "  @numba.jit()\n",
      "/Users/xiaoqi/opt/miniconda3/envs/mofgraph2vec/lib/python3.8/site-packages/umap/distances.py:1071: NumbaDeprecationWarning: The 'nopython' keyword argument was not supplied to the 'numba.jit' decorator. The implicit default value for this argument is currently False, but it will be changed to True in Numba 0.59.0. See https://numba.readthedocs.io/en/stable/reference/deprecation.html#deprecation-of-object-mode-fall-back-behaviour-when-using-jit for details.\n",
      "  @numba.jit()\n",
      "/Users/xiaoqi/opt/miniconda3/envs/mofgraph2vec/lib/python3.8/site-packages/umap/distances.py:1086: NumbaDeprecationWarning: The 'nopython' keyword argument was not supplied to the 'numba.jit' decorator. The implicit default value for this argument is currently False, but it will be changed to True in Numba 0.59.0. See https://numba.readthedocs.io/en/stable/reference/deprecation.html#deprecation-of-object-mode-fall-back-behaviour-when-using-jit for details.\n",
      "  @numba.jit()\n",
      "/Users/xiaoqi/opt/miniconda3/envs/mofgraph2vec/lib/python3.8/site-packages/umap/umap_.py:660: NumbaDeprecationWarning: The 'nopython' keyword argument was not supplied to the 'numba.jit' decorator. The implicit default value for this argument is currently False, but it will be changed to True in Numba 0.59.0. See https://numba.readthedocs.io/en/stable/reference/deprecation.html#deprecation-of-object-mode-fall-back-behaviour-when-using-jit for details.\n",
      "  @numba.jit()\n"
     ]
    }
   ],
   "source": [
    "import pandas as pd\n",
    "import numpy as np\n",
    "import random\n",
    "from gensim.models.doc2vec import Doc2Vec\n",
    "from mofgraph2vec.featurize.mof2doc import MOF2doc\n",
    "from sklearn.metrics.pairwise import cosine_similarity\n",
    "import matplotlib.pyplot as plt\n",
    "from scipy.stats import spearmanr\n",
    "import scipy.stats as ss\n",
    "\n",
    "import matplotlib as mpl\n",
    "mpl.rcParams[\"font.size\"] = 18"
   ]
  },
  {
   "cell_type": "code",
   "execution_count": 2,
   "metadata": {},
   "outputs": [],
   "source": [
    "df = pd.read_csv(\"../data/md-core-xq.csv\").set_index(\"info.name\")"
   ]
  },
  {
   "cell_type": "code",
   "execution_count": 3,
   "metadata": {},
   "outputs": [
    {
     "name": "stdout",
     "output_type": "stream",
     "text": [
      "info.undecorated_graph_hash\n",
      "info.undecorated_no_leaf_hash\n",
      "info.undecorated_scaffold_hash\n",
      "info.decorated_graph_hash\n",
      "info.decorated_no_leaf_hash\n",
      "info.decorated_scaffold_hash\n",
      "info.density\n",
      "info.basename\n",
      "info.doi\n",
      "info.title\n",
      "info.abs\n",
      "info.year\n"
     ]
    }
   ],
   "source": [
    "for key in df.keys():\n",
    "    if \"info\" in key:\n",
    "        print(key)"
   ]
  },
  {
   "cell_type": "markdown",
   "metadata": {},
   "source": [
    "2005: offline-run-20230828_140847-804v5w59 (0.99702/0.36303) \\\n",
    "2006: offline-run-20230828_140512-by30t6df (0.99236/0.3689) \\\n",
    "2007: offline-run-20230828_140235-z7fg9qlr (0.97471/0.62817) \\\n",
    "2008: offline-run-20230828_140113-kdq418oj (0.96981/0.51121) \\\n",
    "2009: offline-run-20230828_135947-edducouk (0.94738/0.4292) \\\n",
    "2010: offline-run-20230828_135705-24n9b5v2 (0.92114/0.59706) \\\n",
    "2011: offline-run-20230828_135604-lpoaccgc (0.88867/0.62615) \\\n",
    "2012: offline-run-20230828_135213-ho8t8fek (0.84198/0.52042) \\\n",
    "2013: offline-run-20230828_124657-q8y9ldn5 (0.81389/0.42076) \\\n",
    "2014: offline-run-20230829_133546-ktcasehg (0.77532/0.40128) \\\n",
    "2015: offline-run-20230828_122317-3vc1832t (0.7516/0.46514)"
   ]
  },
  {
   "cell_type": "code",
   "execution_count": 4,
   "metadata": {},
   "outputs": [],
   "source": [
    "test_r2 = [0.36303, 0.3689, 0.62817, 0.51121, 0.4292, 0.59706, 0.62615, 0.52042, 0.42076, 0.40128, 0.46514]"
   ]
  },
  {
   "cell_type": "code",
   "execution_count": 5,
   "metadata": {},
   "outputs": [],
   "source": [
    "test_corpus_config = {\n",
    "  \"embed_label\": False,\n",
    "  \"label_path\": \"../../data/md-core-xq.csv\",\n",
    "  \"labels_to_embed\": [\"outputs.logKH_CO2\", \"outputs.logKH_CH4\"],\n",
    "  \"id_column\": \"info.name\",\n",
    "  \"wl_step\": 2,\n",
    "  \"n_components\": 2,\n",
    "  \"use_hash\": False,\n",
    "  \"writing_style\": \"paragraph\",\n",
    "  \"composition\": False,\n",
    "  \"mode\": \"all\",\n",
    "  \"embed_cif\": False\n",
    "}"
   ]
  },
  {
   "cell_type": "code",
   "execution_count": 6,
   "metadata": {},
   "outputs": [],
   "source": [
    "def cosine(a, b):\n",
    "    cos = np.dot(a, b) / (np.linalg.norm(a) * np.linalg.norm(b))\n",
    "    return cos"
   ]
  },
  {
   "cell_type": "code",
   "execution_count": 42,
   "metadata": {},
   "outputs": [],
   "source": [
    "def load_pretrained(model_path):\n",
    "    model = Doc2Vec.load(model_path)\n",
    "    co2_kh_vecs = [model.dv[\"outputs.xq.logKH_CO2_%s\" %i] for i in range(10)]\n",
    "    n2_kh_vecs= [model.dv[\"outputs.xq.logKH_N2_%s\" %i] for i in range(10)]\n",
    "    ch4_kh_vecs = [model.dv[\"outputs.logKH_CH4_%s\" %i] for i in range(10)]\n",
    "    ch4_lowp_vecs = [model.dv[\"outputs.pure_uptake_methane_298.00_580000_%s\" %i] for i in range(10)]\n",
    "    ch4_highp_vecs = [model.dv[\"outputs.pure_uptake_methane_298.00_6500000_%s\" %i] for i in range(10)]\n",
    "    \n",
    "    return model, co2_kh_vecs, n2_kh_vecs, ch4_kh_vecs, ch4_lowp_vecs, ch4_highp_vecs"
   ]
  },
  {
   "cell_type": "code",
   "execution_count": 16,
   "metadata": {},
   "outputs": [],
   "source": [
    "def get_test_data(test_cif_path, model):\n",
    "    test_corpus = {}\n",
    "    test_ds = MOF2doc(cif_path=test_cif_path, **test_corpus_config).get_documents()\n",
    "    for dp in test_ds:\n",
    "        if dp.tags[0] in list(df.index):\n",
    "            test_corpus.update(\n",
    "                {\n",
    "                    dp.tags[0]: model.infer_vector(dp.words, epochs=300)\n",
    "                }\n",
    "            )\n",
    "    return test_corpus"
   ]
  },
  {
   "cell_type": "code",
   "execution_count": 17,
   "metadata": {},
   "outputs": [],
   "source": [
    "def get_similarities(test_corpus, bench_vec):\n",
    "    test_cosine = {}\n",
    "    for key, vec in test_corpus.items():\n",
    "        test_cosine.update(\n",
    "            {   \n",
    "                key: [cosine(bench, vec) for bench in bench_vec]\n",
    "            }\n",
    "        )\n",
    "    return test_cosine"
   ]
  },
  {
   "cell_type": "code",
   "execution_count": 18,
   "metadata": {},
   "outputs": [],
   "source": [
    "def select_top_n(test_similarities, test_years, top_percent):\n",
    "    topn = int(len(test_similarities)*top_percent)\n",
    "    # recommendation from similarity\n",
    "    similarities = np.array([np.array(sim).mean() for _, sim in test_similarities.items()])\n",
    "    top_indices = similarities.argsort()[-topn:][::-1]\n",
    "    recommendations = []\n",
    "    for index in top_indices:\n",
    "        recommendations.append((list(test_similarities)[index], similarities[index]))\n",
    "\n",
    "    # topN from simulation\n",
    "    names = df[df[\"info.year\"].isin(test_years)][\"info.name\"].values\n",
    "    #simulations = df[df[\"info.year\"].isin(test_years)][recom_target].values\n",
    "    simu_ch4 = df[df[\"info.year\"].isin(test_years)][\"outputs.logKH_CH4\"].values\n",
    "    simu_co2 = df[df[\"info.year\"].isin(test_years)][\"outputs.logKH_CO2\"].values\n",
    "    simu_n2 = df[df[\"info.year\"].isin(test_years)][\"outputs.xq.logKH_N2\"].values\n",
    "    simulations = df[df[\"info.year\"].isin(test_years)][\"outputs.xq.logKH_CO2\"].values\n",
    "    top_simulation = simulations.argsort()[-topn:][::-1]\n",
    "    true_top = []\n",
    "    top_names = []\n",
    "    for index in top_simulation:\n",
    "        true_top.append((names[index], simulations[index]))\n",
    "        top_names.append(names[index])\n",
    "    \n",
    "    # random selection \n",
    "    rand_acc_time = []\n",
    "    time = 0\n",
    "    while time < 5:\n",
    "        random_names = random.choices(names, k=topn)\n",
    "        true_or_false = [True if name in top_names else False for name in random_names]\n",
    "        rand_acc_time.append(sum(true_or_false)/len(true_or_false))\n",
    "        time += 1\n",
    "\n",
    "    true_or_false = [True if name in top_names else False for name, sim in recommendations]\n",
    "    recm_acc = sum(true_or_false)/len(true_or_false)\n",
    "\n",
    "    rand_acc = np.mean(rand_acc_time)\n",
    "\n",
    "    return recm_acc, rand_acc"
   ]
  },
  {
   "cell_type": "code",
   "execution_count": 19,
   "metadata": {},
   "outputs": [],
   "source": [
    "df[\"outputs.selectivity\"] = df['outputs.xq.logKH_CO2'].values - df['outputs.xq.logKH_N2'].values"
   ]
  },
  {
   "cell_type": "code",
   "execution_count": 20,
   "metadata": {},
   "outputs": [],
   "source": [
    "def cal_spearman(test_cosines):\n",
    "    test_sim = {name: np.mean(x) for name, x in test_cosines.items()}\n",
    "    model_v = [sim for i, sim in test_sim.items()]\n",
    "    simul_v = [df.loc[i, \"outputs.xq.logKH_CO2\"] for i, sim in test_sim.items()]\n",
    "\n",
    "    return spearmanr(model_v, simul_v)[0]"
   ]
  },
  {
   "cell_type": "code",
   "execution_count": 21,
   "metadata": {},
   "outputs": [],
   "source": [
    "topP = 0.3"
   ]
  },
  {
   "cell_type": "code",
   "execution_count": 43,
   "metadata": {},
   "outputs": [
    {
     "ename": "TypeError",
     "evalue": "__init__() missing 1 required positional argument: 'category_to_embed'",
     "output_type": "error",
     "traceback": [
      "\u001b[0;31m---------------------------------------------------------------------------\u001b[0m",
      "\u001b[0;31mTypeError\u001b[0m                                 Traceback (most recent call last)",
      "Cell \u001b[0;32mIn[43], line 30\u001b[0m\n\u001b[1;32m     17\u001b[0m \u001b[39mfor\u001b[39;00m test_years \u001b[39min\u001b[39;00m [\n\u001b[1;32m     18\u001b[0m     [\u001b[39m2006\u001b[39m], [\u001b[39m2006\u001b[39m, \u001b[39m2007\u001b[39m], \n\u001b[1;32m     19\u001b[0m     [\u001b[39m2006\u001b[39m, \u001b[39m2007\u001b[39m, \u001b[39m2008\u001b[39m], [\u001b[39m2006\u001b[39m, \u001b[39m2007\u001b[39m, \u001b[39m2008\u001b[39m, \u001b[39m2009\u001b[39m], \n\u001b[0;32m   (...)\u001b[0m\n\u001b[1;32m     27\u001b[0m     [\u001b[39m2006\u001b[39m, \u001b[39m2007\u001b[39m, \u001b[39m2008\u001b[39m, \u001b[39m2009\u001b[39m, \u001b[39m2010\u001b[39m, \u001b[39m2011\u001b[39m, \u001b[39m2012\u001b[39m, \u001b[39m2013\u001b[39m, \u001b[39m2014\u001b[39m, \u001b[39m2015\u001b[39m, \u001b[39m2016\u001b[39m, \u001b[39m2017\u001b[39m], \n\u001b[1;32m     28\u001b[0m ]:\n\u001b[1;32m     29\u001b[0m     test_cif_dir \u001b[39m=\u001b[39m [\u001b[39m\"\u001b[39m\u001b[39m../data/cifs/md_\u001b[39m\u001b[39m%s\u001b[39;00m\u001b[39m\"\u001b[39m \u001b[39m%\u001b[39myear \u001b[39mfor\u001b[39;00m year \u001b[39min\u001b[39;00m test_years]\n\u001b[0;32m---> 30\u001b[0m     test_corpus \u001b[39m=\u001b[39m  get_test_data(test_cif_dir, model)\n\u001b[1;32m     31\u001b[0m     test_cosines \u001b[39m=\u001b[39m get_similarities(test_corpus, bench_vecs)\n\u001b[1;32m     32\u001b[0m     sp_2005_sel\u001b[39m.\u001b[39mappend(cal_spearman(test_cosines))\n",
      "Cell \u001b[0;32mIn[16], line 3\u001b[0m, in \u001b[0;36mget_test_data\u001b[0;34m(test_cif_path, model)\u001b[0m\n\u001b[1;32m      1\u001b[0m \u001b[39mdef\u001b[39;00m \u001b[39mget_test_data\u001b[39m(test_cif_path, model):\n\u001b[1;32m      2\u001b[0m     test_corpus \u001b[39m=\u001b[39m {}\n\u001b[0;32m----> 3\u001b[0m     test_ds \u001b[39m=\u001b[39m MOF2doc(cif_path\u001b[39m=\u001b[39;49mtest_cif_path, \u001b[39m*\u001b[39;49m\u001b[39m*\u001b[39;49mtest_corpus_config)\u001b[39m.\u001b[39mget_documents()\n\u001b[1;32m      4\u001b[0m     \u001b[39mfor\u001b[39;00m dp \u001b[39min\u001b[39;00m test_ds:\n\u001b[1;32m      5\u001b[0m         \u001b[39mif\u001b[39;00m dp\u001b[39m.\u001b[39mtags[\u001b[39m0\u001b[39m] \u001b[39min\u001b[39;00m \u001b[39mlist\u001b[39m(df\u001b[39m.\u001b[39mindex):\n",
      "\u001b[0;31mTypeError\u001b[0m: __init__() missing 1 required positional argument: 'category_to_embed'"
     ]
    }
   ],
   "source": [
    "# cutoff 2005\n",
    "model_path = \"../experiments/workflow/wandb/offline-run-20230828_140847-804v5w59/tmp/embedding_model.pt\"\n",
    "model, co2_kh_vecs, n2_kh_vecs, ch4_kh_vecs, ch4_lowp_vecs, ch4_highp_vecs  = load_pretrained(model_path)\n",
    "\n",
    "bench_vecs = co2_kh_vecs[-1] + co2_kh_vecs[-2] + co2_kh_vecs[-3]\n",
    "\"\"\"\n",
    "bench_vecs = [\n",
    "    co2_kh_vecs[-1] - n2_kh_vecs[-1],\n",
    "    co2_kh_vecs[-1] - n2_kh_vecs[-2],\n",
    "    co2_kh_vecs[-2] - n2_kh_vecs[-1],\n",
    "    co2_kh_vecs[-2] - n2_kh_vecs[-2],\n",
    "    co2_kh_vecs[-3] - n2_kh_vecs[-1],\n",
    "    co2_kh_vecs[-3] - n2_kh_vecs[-2],\n",
    "]\n",
    "\"\"\"\n",
    "sp_2005_sel = []\n",
    "for test_years in [\n",
    "    [2006], [2006, 2007], \n",
    "    [2006, 2007, 2008], [2006, 2007, 2008, 2009], \n",
    "    [2006, 2007, 2008, 2009, 2010], \n",
    "    [2006, 2007, 2008, 2009, 2010, 2011], \n",
    "    [2006, 2007, 2008, 2009, 2010, 2011, 2012], \n",
    "    [2006, 2007, 2008, 2009, 2010, 2011, 2012, 2013], \n",
    "    [2006, 2007, 2008, 2009, 2010, 2011, 2012, 2013, 2014], \n",
    "    [2006, 2007, 2008, 2009, 2010, 2011, 2012, 2013, 2014, 2015], \n",
    "    [2006, 2007, 2008, 2009, 2010, 2011, 2012, 2013, 2014, 2015, 2016], \n",
    "    [2006, 2007, 2008, 2009, 2010, 2011, 2012, 2013, 2014, 2015, 2016, 2017], \n",
    "]:\n",
    "    test_cif_dir = [\"../data/cifs/md_%s\" %year for year in test_years]\n",
    "    test_corpus =  get_test_data(test_cif_dir, model)\n",
    "    test_cosines = get_similarities(test_corpus, bench_vecs)\n",
    "    sp_2005_sel.append(cal_spearman(test_cosines))"
   ]
  },
  {
   "cell_type": "code",
   "execution_count": 23,
   "metadata": {},
   "outputs": [
    {
     "ename": "NameError",
     "evalue": "name 'ch4_kh_vecs' is not defined",
     "output_type": "error",
     "traceback": [
      "\u001b[0;31m---------------------------------------------------------------------------\u001b[0m",
      "\u001b[0;31mNameError\u001b[0m                                 Traceback (most recent call last)",
      "Cell \u001b[0;32mIn[23], line 3\u001b[0m\n\u001b[1;32m      1\u001b[0m \u001b[39m# cutoff 2006\u001b[39;00m\n\u001b[1;32m      2\u001b[0m model_path \u001b[39m=\u001b[39m \u001b[39m\"\u001b[39m\u001b[39m../experiments/workflow/wandb/offline-run-20230828_140512-by30t6df/tmp/embedding_model.pt\u001b[39m\u001b[39m\"\u001b[39m\n\u001b[0;32m----> 3\u001b[0m model, co2_kh_vecs, n2_kh_vecs, ch4_kh_vecs, ch4_lowp_vecs, ch4_highp_vecs  \u001b[39m=\u001b[39m load_pretrained(model_path)\n\u001b[1;32m      5\u001b[0m \u001b[39m\"\"\"\u001b[39;00m\n\u001b[1;32m      6\u001b[0m \u001b[39mbench_vecs = [\u001b[39;00m\n\u001b[1;32m      7\u001b[0m \u001b[39m    co2_kh_vecs[-1] - n2_kh_vecs[-1],\u001b[39;00m\n\u001b[0;32m   (...)\u001b[0m\n\u001b[1;32m     13\u001b[0m \u001b[39m]\u001b[39;00m\n\u001b[1;32m     14\u001b[0m \u001b[39m\"\"\"\u001b[39;00m\n\u001b[1;32m     15\u001b[0m sp_2006_sel \u001b[39m=\u001b[39m []\n",
      "Cell \u001b[0;32mIn[15], line 9\u001b[0m, in \u001b[0;36mload_pretrained\u001b[0;34m(model_path)\u001b[0m\n\u001b[1;32m      4\u001b[0m n2_kh_vecs\u001b[39m=\u001b[39m [model\u001b[39m.\u001b[39mdv[\u001b[39m\"\u001b[39m\u001b[39moutputs.xq.logKH_N2_\u001b[39m\u001b[39m%s\u001b[39;00m\u001b[39m\"\u001b[39m \u001b[39m%\u001b[39mi] \u001b[39mfor\u001b[39;00m i \u001b[39min\u001b[39;00m \u001b[39mrange\u001b[39m(\u001b[39m10\u001b[39m)]\n\u001b[1;32m      5\u001b[0m \u001b[39m#ch4_kh_vecs = [model.dv[\"outputs.logKH_CH4_%s\" %i] for i in range(10)]\u001b[39;00m\n\u001b[1;32m      6\u001b[0m \u001b[39m#ch4_lowp_vecs = [model.dv[\"outputs.pure_uptake_methane_298.00_580000_%s\" %i] for i in range(10)]\u001b[39;00m\n\u001b[1;32m      7\u001b[0m \u001b[39m#ch4_highp_vecs = [model.dv[\"outputs.pure_uptake_methane_298.00_6500000_%s\" %i] for i in range(10)]\u001b[39;00m\n\u001b[0;32m----> 9\u001b[0m \u001b[39mreturn\u001b[39;00m model, co2_kh_vecs, n2_kh_vecs, ch4_kh_vecs, ch4_lowp_vecs, ch4_highp_vecs\n",
      "\u001b[0;31mNameError\u001b[0m: name 'ch4_kh_vecs' is not defined"
     ]
    }
   ],
   "source": [
    "# cutoff 2006\n",
    "model_path = \"../experiments/workflow/wandb/offline-run-20230828_140512-by30t6df/tmp/embedding_model.pt\"\n",
    "model, co2_kh_vecs, n2_kh_vecs, ch4_kh_vecs, ch4_lowp_vecs, ch4_highp_vecs  = load_pretrained(model_path)\n",
    "\n",
    "\"\"\"\n",
    "bench_vecs = [\n",
    "    co2_kh_vecs[-1] - n2_kh_vecs[-1],\n",
    "    co2_kh_vecs[-1] - n2_kh_vecs[-2],\n",
    "    co2_kh_vecs[-2] - n2_kh_vecs[-1],\n",
    "    co2_kh_vecs[-2] - n2_kh_vecs[-2],\n",
    "    co2_kh_vecs[-3] - n2_kh_vecs[-1],\n",
    "    co2_kh_vecs[-3] - n2_kh_vecs[-2],\n",
    "]\n",
    "\"\"\"\n",
    "sp_2006_sel = []\n",
    "for test_years in [\n",
    "    [2007], \n",
    "    [2007, 2008], [2007, 2008, 2009], \n",
    "    [2007, 2008, 2009, 2010], \n",
    "    [2007, 2008, 2009, 2010, 2011], \n",
    "    [2007, 2008, 2009, 2010, 2011, 2012], \n",
    "    [2007, 2008, 2009, 2010, 2011, 2012, 2013], \n",
    "    [2007, 2008, 2009, 2010, 2011, 2012, 2013, 2014], \n",
    "    [2007, 2008, 2009, 2010, 2011, 2012, 2013, 2014, 2015], \n",
    "    [2007, 2008, 2009, 2010, 2011, 2012, 2013, 2014, 2015, 2016], \n",
    "    [2007, 2008, 2009, 2010, 2011, 2012, 2013, 2014, 2015, 2016, 2017], \n",
    "]:\n",
    "    test_cif_dir = [\"../data/cifs/md_%s\" %year for year in test_years]\n",
    "    test_corpus =  get_test_data(test_cif_dir, model)\n",
    "    test_cosines = get_similarities(test_corpus, bench_vecs)\n",
    "    sp_2006_sel.append(cal_spearman(test_cosines))"
   ]
  },
  {
   "cell_type": "code",
   "execution_count": 24,
   "metadata": {},
   "outputs": [
    {
     "ename": "NameError",
     "evalue": "name 'ch4_kh_vecs' is not defined",
     "output_type": "error",
     "traceback": [
      "\u001b[0;31m---------------------------------------------------------------------------\u001b[0m",
      "\u001b[0;31mNameError\u001b[0m                                 Traceback (most recent call last)",
      "Cell \u001b[0;32mIn[24], line 3\u001b[0m\n\u001b[1;32m      1\u001b[0m \u001b[39m# cutoff 2007 \u001b[39;00m\n\u001b[1;32m      2\u001b[0m model_path \u001b[39m=\u001b[39m \u001b[39m\"\u001b[39m\u001b[39m../experiments/workflow/wandb/offline-run-20230828_140235-z7fg9qlr/tmp/embedding_model.pt\u001b[39m\u001b[39m\"\u001b[39m\n\u001b[0;32m----> 3\u001b[0m model, co2_kh_vecs, n2_kh_vecs, ch4_kh_vecs, _, ch4_highp_vecs  \u001b[39m=\u001b[39m load_pretrained(model_path)\n\u001b[1;32m      4\u001b[0m bench_vecs \u001b[39m=\u001b[39m ch4_highp_vecs[\u001b[39m-\u001b[39m\u001b[39m1\u001b[39m] \u001b[39m+\u001b[39m ch4_highp_vecs[\u001b[39m-\u001b[39m\u001b[39m2\u001b[39m] \u001b[39m+\u001b[39m ch4_highp_vecs[\u001b[39m-\u001b[39m\u001b[39m3\u001b[39m]\n\u001b[1;32m      5\u001b[0m \u001b[39m\"\"\"\u001b[39;00m\n\u001b[1;32m      6\u001b[0m \u001b[39mbench_vecs = [\u001b[39;00m\n\u001b[1;32m      7\u001b[0m \u001b[39m    co2_kh_vecs[-1] - n2_kh_vecs[-1],\u001b[39;00m\n\u001b[0;32m   (...)\u001b[0m\n\u001b[1;32m     13\u001b[0m \u001b[39m]\u001b[39;00m\n\u001b[1;32m     14\u001b[0m \u001b[39m\"\"\"\u001b[39;00m\n",
      "Cell \u001b[0;32mIn[15], line 9\u001b[0m, in \u001b[0;36mload_pretrained\u001b[0;34m(model_path)\u001b[0m\n\u001b[1;32m      4\u001b[0m n2_kh_vecs\u001b[39m=\u001b[39m [model\u001b[39m.\u001b[39mdv[\u001b[39m\"\u001b[39m\u001b[39moutputs.xq.logKH_N2_\u001b[39m\u001b[39m%s\u001b[39;00m\u001b[39m\"\u001b[39m \u001b[39m%\u001b[39mi] \u001b[39mfor\u001b[39;00m i \u001b[39min\u001b[39;00m \u001b[39mrange\u001b[39m(\u001b[39m10\u001b[39m)]\n\u001b[1;32m      5\u001b[0m \u001b[39m#ch4_kh_vecs = [model.dv[\"outputs.logKH_CH4_%s\" %i] for i in range(10)]\u001b[39;00m\n\u001b[1;32m      6\u001b[0m \u001b[39m#ch4_lowp_vecs = [model.dv[\"outputs.pure_uptake_methane_298.00_580000_%s\" %i] for i in range(10)]\u001b[39;00m\n\u001b[1;32m      7\u001b[0m \u001b[39m#ch4_highp_vecs = [model.dv[\"outputs.pure_uptake_methane_298.00_6500000_%s\" %i] for i in range(10)]\u001b[39;00m\n\u001b[0;32m----> 9\u001b[0m \u001b[39mreturn\u001b[39;00m model, co2_kh_vecs, n2_kh_vecs, ch4_kh_vecs, ch4_lowp_vecs, ch4_highp_vecs\n",
      "\u001b[0;31mNameError\u001b[0m: name 'ch4_kh_vecs' is not defined"
     ]
    }
   ],
   "source": [
    "# cutoff 2007 \n",
    "model_path = \"../experiments/workflow/wandb/offline-run-20230828_140235-z7fg9qlr/tmp/embedding_model.pt\"\n",
    "model, co2_kh_vecs, n2_kh_vecs, ch4_kh_vecs, _, ch4_highp_vecs  = load_pretrained(model_path)\n",
    "bench_vecs = ch4_highp_vecs[-1] + ch4_highp_vecs[-2] + ch4_highp_vecs[-3]\n",
    "\"\"\"\n",
    "bench_vecs = [\n",
    "    co2_kh_vecs[-1] - n2_kh_vecs[-1],\n",
    "    co2_kh_vecs[-1] - n2_kh_vecs[-2],\n",
    "    co2_kh_vecs[-2] - n2_kh_vecs[-1],\n",
    "    co2_kh_vecs[-2] - n2_kh_vecs[-2],\n",
    "    co2_kh_vecs[-3] - n2_kh_vecs[-1],\n",
    "    co2_kh_vecs[-3] - n2_kh_vecs[-2],\n",
    "]\n",
    "\"\"\"\n",
    "sp_2007_sel = []\n",
    "for test_years in [\n",
    "    [2008], \n",
    "    [2008, 2009], [2008, 2009, 2010], \n",
    "    [2008, 2009, 2010, 2011], \n",
    "    [2008, 2009, 2010, 2011, 2012], \n",
    "    [2008, 2009, 2010, 2011, 2012, 2013], \n",
    "    [2008, 2009, 2010, 2011, 2012, 2013, 2014], \n",
    "    [2008, 2009, 2010, 2011, 2012, 2013, 2014, 2015], \n",
    "    [2008, 2009, 2010, 2011, 2012, 2013, 2014, 2015, 2016], \n",
    "    [2008, 2009, 2010, 2011, 2012, 2013, 2014, 2015, 2016, 2017], \n",
    "]:\n",
    "    test_cif_dir = [\"../data/cifs/md_%s\" %year for year in test_years]\n",
    "    test_corpus =  get_test_data(test_cif_dir, model)\n",
    "    test_cosines = get_similarities(test_corpus, bench_vecs)\n",
    "    sp_2007_sel.append(cal_spearman(test_cosines))"
   ]
  },
  {
   "cell_type": "code",
   "execution_count": 25,
   "metadata": {},
   "outputs": [
    {
     "ename": "NameError",
     "evalue": "name 'ch4_kh_vecs' is not defined",
     "output_type": "error",
     "traceback": [
      "\u001b[0;31m---------------------------------------------------------------------------\u001b[0m",
      "\u001b[0;31mNameError\u001b[0m                                 Traceback (most recent call last)",
      "Cell \u001b[0;32mIn[25], line 3\u001b[0m\n\u001b[1;32m      1\u001b[0m \u001b[39m# cutoff 2008 \u001b[39;00m\n\u001b[1;32m      2\u001b[0m model_path \u001b[39m=\u001b[39m \u001b[39m\"\u001b[39m\u001b[39m../experiments/workflow/wandb/offline-run-20230828_140113-kdq418oj/tmp/embedding_model.pt\u001b[39m\u001b[39m\"\u001b[39m\n\u001b[0;32m----> 3\u001b[0m model, co2_kh_vecs, n2_kh_vecs, ch4_kh_vecs, _, ch4_highp_vecs  \u001b[39m=\u001b[39m load_pretrained(model_path)\n\u001b[1;32m      4\u001b[0m bench_vecs \u001b[39m=\u001b[39m ch4_highp_vecs[\u001b[39m-\u001b[39m\u001b[39m1\u001b[39m] \u001b[39m+\u001b[39m ch4_highp_vecs[\u001b[39m-\u001b[39m\u001b[39m2\u001b[39m] \u001b[39m+\u001b[39m ch4_highp_vecs[\u001b[39m-\u001b[39m\u001b[39m3\u001b[39m]\n\u001b[1;32m      5\u001b[0m \u001b[39m\"\"\"\u001b[39;00m\n\u001b[1;32m      6\u001b[0m \u001b[39mbench_vecs = [\u001b[39;00m\n\u001b[1;32m      7\u001b[0m \u001b[39m    co2_kh_vecs[-1] - n2_kh_vecs[-1],\u001b[39;00m\n\u001b[0;32m   (...)\u001b[0m\n\u001b[1;32m     13\u001b[0m \u001b[39m]\u001b[39;00m\n\u001b[1;32m     14\u001b[0m \u001b[39m\"\"\"\u001b[39;00m\n",
      "Cell \u001b[0;32mIn[15], line 9\u001b[0m, in \u001b[0;36mload_pretrained\u001b[0;34m(model_path)\u001b[0m\n\u001b[1;32m      4\u001b[0m n2_kh_vecs\u001b[39m=\u001b[39m [model\u001b[39m.\u001b[39mdv[\u001b[39m\"\u001b[39m\u001b[39moutputs.xq.logKH_N2_\u001b[39m\u001b[39m%s\u001b[39;00m\u001b[39m\"\u001b[39m \u001b[39m%\u001b[39mi] \u001b[39mfor\u001b[39;00m i \u001b[39min\u001b[39;00m \u001b[39mrange\u001b[39m(\u001b[39m10\u001b[39m)]\n\u001b[1;32m      5\u001b[0m \u001b[39m#ch4_kh_vecs = [model.dv[\"outputs.logKH_CH4_%s\" %i] for i in range(10)]\u001b[39;00m\n\u001b[1;32m      6\u001b[0m \u001b[39m#ch4_lowp_vecs = [model.dv[\"outputs.pure_uptake_methane_298.00_580000_%s\" %i] for i in range(10)]\u001b[39;00m\n\u001b[1;32m      7\u001b[0m \u001b[39m#ch4_highp_vecs = [model.dv[\"outputs.pure_uptake_methane_298.00_6500000_%s\" %i] for i in range(10)]\u001b[39;00m\n\u001b[0;32m----> 9\u001b[0m \u001b[39mreturn\u001b[39;00m model, co2_kh_vecs, n2_kh_vecs, ch4_kh_vecs, ch4_lowp_vecs, ch4_highp_vecs\n",
      "\u001b[0;31mNameError\u001b[0m: name 'ch4_kh_vecs' is not defined"
     ]
    }
   ],
   "source": [
    "# cutoff 2008 \n",
    "model_path = \"../experiments/workflow/wandb/offline-run-20230828_140113-kdq418oj/tmp/embedding_model.pt\"\n",
    "model, co2_kh_vecs, n2_kh_vecs, ch4_kh_vecs, _, ch4_highp_vecs  = load_pretrained(model_path)\n",
    "bench_vecs = ch4_highp_vecs[-1] + ch4_highp_vecs[-2] + ch4_highp_vecs[-3]\n",
    "\"\"\"\n",
    "bench_vecs = [\n",
    "    co2_kh_vecs[-1] - n2_kh_vecs[-1],\n",
    "    co2_kh_vecs[-1] - n2_kh_vecs[-2],\n",
    "    co2_kh_vecs[-2] - n2_kh_vecs[-1],\n",
    "    co2_kh_vecs[-2] - n2_kh_vecs[-2],\n",
    "    co2_kh_vecs[-3] - n2_kh_vecs[-1],\n",
    "    co2_kh_vecs[-3] - n2_kh_vecs[-2],\n",
    "]\n",
    "\"\"\"\n",
    "sp_2008_sel = []\n",
    "for test_years in [\n",
    "    [2009], \n",
    "    [2009, 2010], [2009, 2010, 2011], \n",
    "    [2009, 2010, 2011, 2012], \n",
    "    [2009, 2010, 2011, 2012, 2013], \n",
    "    [2009, 2010, 2011, 2012, 2013, 2014], \n",
    "    [2009, 2010, 2011, 2012, 2013, 2014, 2015], \n",
    "    [2009, 2010, 2011, 2012, 2013, 2014, 2015, 2016], \n",
    "    [2009, 2010, 2011, 2012, 2013, 2014, 2015, 2016, 2017], \n",
    "]:\n",
    "    test_cif_dir = [\"../data/cifs/md_%s\" %year for year in test_years]\n",
    "    test_corpus =  get_test_data(test_cif_dir, model)\n",
    "    test_cosines = get_similarities(test_corpus, bench_vecs)\n",
    "    sp_2008_sel.append(cal_spearman(test_cosines))"
   ]
  },
  {
   "cell_type": "code",
   "execution_count": 26,
   "metadata": {},
   "outputs": [
    {
     "ename": "NameError",
     "evalue": "name 'ch4_kh_vecs' is not defined",
     "output_type": "error",
     "traceback": [
      "\u001b[0;31m---------------------------------------------------------------------------\u001b[0m",
      "\u001b[0;31mNameError\u001b[0m                                 Traceback (most recent call last)",
      "Cell \u001b[0;32mIn[26], line 3\u001b[0m\n\u001b[1;32m      1\u001b[0m \u001b[39m# cutoff 2009\u001b[39;00m\n\u001b[1;32m      2\u001b[0m model_path \u001b[39m=\u001b[39m \u001b[39m\"\u001b[39m\u001b[39m../experiments/workflow/wandb/offline-run-20230828_135947-edducouk/tmp/embedding_model.pt\u001b[39m\u001b[39m\"\u001b[39m\n\u001b[0;32m----> 3\u001b[0m model, co2_kh_vecs, n2_kh_vecs, ch4_kh_vecs, _, ch4_highp_vecs  \u001b[39m=\u001b[39m load_pretrained(model_path)\n\u001b[1;32m      4\u001b[0m bench_vecs \u001b[39m=\u001b[39m ch4_highp_vecs[\u001b[39m-\u001b[39m\u001b[39m1\u001b[39m] \u001b[39m+\u001b[39m ch4_highp_vecs[\u001b[39m-\u001b[39m\u001b[39m2\u001b[39m] \u001b[39m+\u001b[39m ch4_highp_vecs[\u001b[39m-\u001b[39m\u001b[39m3\u001b[39m]\n\u001b[1;32m      5\u001b[0m \u001b[39m\"\"\"\u001b[39;00m\n\u001b[1;32m      6\u001b[0m \u001b[39mbench_vecs = [\u001b[39;00m\n\u001b[1;32m      7\u001b[0m \u001b[39m    co2_kh_vecs[-1] - n2_kh_vecs[-1],\u001b[39;00m\n\u001b[0;32m   (...)\u001b[0m\n\u001b[1;32m     13\u001b[0m \u001b[39m]\u001b[39;00m\n\u001b[1;32m     14\u001b[0m \u001b[39m\"\"\"\u001b[39;00m\n",
      "Cell \u001b[0;32mIn[15], line 9\u001b[0m, in \u001b[0;36mload_pretrained\u001b[0;34m(model_path)\u001b[0m\n\u001b[1;32m      4\u001b[0m n2_kh_vecs\u001b[39m=\u001b[39m [model\u001b[39m.\u001b[39mdv[\u001b[39m\"\u001b[39m\u001b[39moutputs.xq.logKH_N2_\u001b[39m\u001b[39m%s\u001b[39;00m\u001b[39m\"\u001b[39m \u001b[39m%\u001b[39mi] \u001b[39mfor\u001b[39;00m i \u001b[39min\u001b[39;00m \u001b[39mrange\u001b[39m(\u001b[39m10\u001b[39m)]\n\u001b[1;32m      5\u001b[0m \u001b[39m#ch4_kh_vecs = [model.dv[\"outputs.logKH_CH4_%s\" %i] for i in range(10)]\u001b[39;00m\n\u001b[1;32m      6\u001b[0m \u001b[39m#ch4_lowp_vecs = [model.dv[\"outputs.pure_uptake_methane_298.00_580000_%s\" %i] for i in range(10)]\u001b[39;00m\n\u001b[1;32m      7\u001b[0m \u001b[39m#ch4_highp_vecs = [model.dv[\"outputs.pure_uptake_methane_298.00_6500000_%s\" %i] for i in range(10)]\u001b[39;00m\n\u001b[0;32m----> 9\u001b[0m \u001b[39mreturn\u001b[39;00m model, co2_kh_vecs, n2_kh_vecs, ch4_kh_vecs, ch4_lowp_vecs, ch4_highp_vecs\n",
      "\u001b[0;31mNameError\u001b[0m: name 'ch4_kh_vecs' is not defined"
     ]
    }
   ],
   "source": [
    "# cutoff 2009\n",
    "model_path = \"../experiments/workflow/wandb/offline-run-20230828_135947-edducouk/tmp/embedding_model.pt\"\n",
    "model, co2_kh_vecs, n2_kh_vecs, ch4_kh_vecs, _, ch4_highp_vecs  = load_pretrained(model_path)\n",
    "bench_vecs = ch4_highp_vecs[-1] + ch4_highp_vecs[-2] + ch4_highp_vecs[-3]\n",
    "\"\"\"\n",
    "bench_vecs = [\n",
    "    co2_kh_vecs[-1] - n2_kh_vecs[-1],\n",
    "    co2_kh_vecs[-1] - n2_kh_vecs[-2],\n",
    "    co2_kh_vecs[-2] - n2_kh_vecs[-1],\n",
    "    co2_kh_vecs[-2] - n2_kh_vecs[-2],\n",
    "    co2_kh_vecs[-3] - n2_kh_vecs[-1],\n",
    "    co2_kh_vecs[-3] - n2_kh_vecs[-2],\n",
    "]\n",
    "\"\"\"\n",
    "sp_2009_sel = []\n",
    "for test_years in [\n",
    "    [2010], \n",
    "    [2010, 2011], [2010, 2011, 2012], \n",
    "    [2010, 2011, 2012, 2013], \n",
    "    [2010, 2011, 2012, 2013, 2014], \n",
    "    [2010, 2011, 2012, 2013, 2014, 2015], \n",
    "    [2010, 2011, 2012, 2013, 2014, 2015, 2016], \n",
    "    [2010, 2011, 2012, 2013, 2014, 2015, 2016, 2017], \n",
    "]:\n",
    "    test_cif_dir = [\"../data/cifs/md_%s\" %year for year in test_years]\n",
    "    test_corpus =  get_test_data(test_cif_dir, model)\n",
    "    test_cosines = get_similarities(test_corpus, bench_vecs)\n",
    "    sp_2009_sel.append(cal_spearman(test_cosines))"
   ]
  },
  {
   "cell_type": "code",
   "execution_count": 27,
   "metadata": {},
   "outputs": [
    {
     "ename": "NameError",
     "evalue": "name 'ch4_kh_vecs' is not defined",
     "output_type": "error",
     "traceback": [
      "\u001b[0;31m---------------------------------------------------------------------------\u001b[0m",
      "\u001b[0;31mNameError\u001b[0m                                 Traceback (most recent call last)",
      "Cell \u001b[0;32mIn[27], line 3\u001b[0m\n\u001b[1;32m      1\u001b[0m \u001b[39m# cutoff 2010\u001b[39;00m\n\u001b[1;32m      2\u001b[0m model_path \u001b[39m=\u001b[39m \u001b[39m\"\u001b[39m\u001b[39m../experiments/workflow/wandb/offline-run-20230828_135705-24n9b5v2/tmp/embedding_model.pt\u001b[39m\u001b[39m\"\u001b[39m\n\u001b[0;32m----> 3\u001b[0m model, co2_kh_vecs, n2_kh_vecs, ch4_kh_vecs, _, ch4_highp_vecs  \u001b[39m=\u001b[39m load_pretrained(model_path)\n\u001b[1;32m      4\u001b[0m bench_vecs \u001b[39m=\u001b[39m ch4_highp_vecs[\u001b[39m-\u001b[39m\u001b[39m1\u001b[39m] \u001b[39m+\u001b[39m ch4_highp_vecs[\u001b[39m-\u001b[39m\u001b[39m2\u001b[39m] \u001b[39m+\u001b[39m ch4_highp_vecs[\u001b[39m-\u001b[39m\u001b[39m3\u001b[39m]\n\u001b[1;32m      5\u001b[0m \u001b[39m\"\"\"\u001b[39;00m\n\u001b[1;32m      6\u001b[0m \u001b[39mbench_vecs = [\u001b[39;00m\n\u001b[1;32m      7\u001b[0m \u001b[39m    co2_kh_vecs[-1] - n2_kh_vecs[-1],\u001b[39;00m\n\u001b[0;32m   (...)\u001b[0m\n\u001b[1;32m     13\u001b[0m \u001b[39m]\u001b[39;00m\n\u001b[1;32m     14\u001b[0m \u001b[39m\"\"\"\u001b[39;00m\n",
      "Cell \u001b[0;32mIn[15], line 9\u001b[0m, in \u001b[0;36mload_pretrained\u001b[0;34m(model_path)\u001b[0m\n\u001b[1;32m      4\u001b[0m n2_kh_vecs\u001b[39m=\u001b[39m [model\u001b[39m.\u001b[39mdv[\u001b[39m\"\u001b[39m\u001b[39moutputs.xq.logKH_N2_\u001b[39m\u001b[39m%s\u001b[39;00m\u001b[39m\"\u001b[39m \u001b[39m%\u001b[39mi] \u001b[39mfor\u001b[39;00m i \u001b[39min\u001b[39;00m \u001b[39mrange\u001b[39m(\u001b[39m10\u001b[39m)]\n\u001b[1;32m      5\u001b[0m \u001b[39m#ch4_kh_vecs = [model.dv[\"outputs.logKH_CH4_%s\" %i] for i in range(10)]\u001b[39;00m\n\u001b[1;32m      6\u001b[0m \u001b[39m#ch4_lowp_vecs = [model.dv[\"outputs.pure_uptake_methane_298.00_580000_%s\" %i] for i in range(10)]\u001b[39;00m\n\u001b[1;32m      7\u001b[0m \u001b[39m#ch4_highp_vecs = [model.dv[\"outputs.pure_uptake_methane_298.00_6500000_%s\" %i] for i in range(10)]\u001b[39;00m\n\u001b[0;32m----> 9\u001b[0m \u001b[39mreturn\u001b[39;00m model, co2_kh_vecs, n2_kh_vecs, ch4_kh_vecs, ch4_lowp_vecs, ch4_highp_vecs\n",
      "\u001b[0;31mNameError\u001b[0m: name 'ch4_kh_vecs' is not defined"
     ]
    }
   ],
   "source": [
    "# cutoff 2010\n",
    "model_path = \"../experiments/workflow/wandb/offline-run-20230828_135705-24n9b5v2/tmp/embedding_model.pt\"\n",
    "model, co2_kh_vecs, n2_kh_vecs, ch4_kh_vecs, _, ch4_highp_vecs  = load_pretrained(model_path)\n",
    "bench_vecs = ch4_highp_vecs[-1] + ch4_highp_vecs[-2] + ch4_highp_vecs[-3]\n",
    "\"\"\"\n",
    "bench_vecs = [\n",
    "    co2_kh_vecs[-1] - n2_kh_vecs[-1],\n",
    "    co2_kh_vecs[-1] - n2_kh_vecs[-2],\n",
    "    co2_kh_vecs[-2] - n2_kh_vecs[-1],\n",
    "    co2_kh_vecs[-2] - n2_kh_vecs[-2],\n",
    "    co2_kh_vecs[-3] - n2_kh_vecs[-1],\n",
    "    co2_kh_vecs[-3] - n2_kh_vecs[-2],\n",
    "]\n",
    "\"\"\"\n",
    "sp_2010_sel = []\n",
    "for test_years in [\n",
    "    [2011], \n",
    "    [2011, 2012], [2011, 2012, 2013], \n",
    "    [2011, 2012, 2013, 2014], \n",
    "    [2011, 2012, 2013, 2014, 2015], \n",
    "    [2011, 2012, 2013, 2014, 2015, 2016], \n",
    "    [2011, 2012, 2013, 2014, 2015, 2016, 2017], \n",
    "]:\n",
    "    test_cif_dir = [\"../data/cifs/md_%s\" %year for year in test_years]\n",
    "    test_corpus =  get_test_data(test_cif_dir, model)\n",
    "    test_cosines = get_similarities(test_corpus, bench_vecs)\n",
    "    sp_2010_sel.append(cal_spearman(test_cosines))"
   ]
  },
  {
   "cell_type": "code",
   "execution_count": 28,
   "metadata": {},
   "outputs": [
    {
     "ename": "NameError",
     "evalue": "name 'ch4_kh_vecs' is not defined",
     "output_type": "error",
     "traceback": [
      "\u001b[0;31m---------------------------------------------------------------------------\u001b[0m",
      "\u001b[0;31mNameError\u001b[0m                                 Traceback (most recent call last)",
      "Cell \u001b[0;32mIn[28], line 3\u001b[0m\n\u001b[1;32m      1\u001b[0m \u001b[39m# cutoff 2011\u001b[39;00m\n\u001b[1;32m      2\u001b[0m model_path \u001b[39m=\u001b[39m \u001b[39m\"\u001b[39m\u001b[39m../experiments/workflow/wandb/offline-run-20230828_135604-lpoaccgc/tmp/embedding_model.pt\u001b[39m\u001b[39m\"\u001b[39m\n\u001b[0;32m----> 3\u001b[0m model, co2_kh_vecs, n2_kh_vecs, ch4_kh_vecs, _, ch4_highp_vecs  \u001b[39m=\u001b[39m load_pretrained(model_path)\n\u001b[1;32m      4\u001b[0m bench_vecs \u001b[39m=\u001b[39m ch4_highp_vecs[\u001b[39m-\u001b[39m\u001b[39m1\u001b[39m] \u001b[39m+\u001b[39m ch4_highp_vecs[\u001b[39m-\u001b[39m\u001b[39m2\u001b[39m] \u001b[39m+\u001b[39m ch4_highp_vecs[\u001b[39m-\u001b[39m\u001b[39m3\u001b[39m]\n\u001b[1;32m      5\u001b[0m \u001b[39m\"\"\"\u001b[39;00m\n\u001b[1;32m      6\u001b[0m \u001b[39mbench_vecs = [\u001b[39;00m\n\u001b[1;32m      7\u001b[0m \u001b[39m    co2_kh_vecs[-1] - n2_kh_vecs[-1],\u001b[39;00m\n\u001b[0;32m   (...)\u001b[0m\n\u001b[1;32m     13\u001b[0m \u001b[39m]\u001b[39;00m\n\u001b[1;32m     14\u001b[0m \u001b[39m\"\"\"\u001b[39;00m\n",
      "Cell \u001b[0;32mIn[15], line 9\u001b[0m, in \u001b[0;36mload_pretrained\u001b[0;34m(model_path)\u001b[0m\n\u001b[1;32m      4\u001b[0m n2_kh_vecs\u001b[39m=\u001b[39m [model\u001b[39m.\u001b[39mdv[\u001b[39m\"\u001b[39m\u001b[39moutputs.xq.logKH_N2_\u001b[39m\u001b[39m%s\u001b[39;00m\u001b[39m\"\u001b[39m \u001b[39m%\u001b[39mi] \u001b[39mfor\u001b[39;00m i \u001b[39min\u001b[39;00m \u001b[39mrange\u001b[39m(\u001b[39m10\u001b[39m)]\n\u001b[1;32m      5\u001b[0m \u001b[39m#ch4_kh_vecs = [model.dv[\"outputs.logKH_CH4_%s\" %i] for i in range(10)]\u001b[39;00m\n\u001b[1;32m      6\u001b[0m \u001b[39m#ch4_lowp_vecs = [model.dv[\"outputs.pure_uptake_methane_298.00_580000_%s\" %i] for i in range(10)]\u001b[39;00m\n\u001b[1;32m      7\u001b[0m \u001b[39m#ch4_highp_vecs = [model.dv[\"outputs.pure_uptake_methane_298.00_6500000_%s\" %i] for i in range(10)]\u001b[39;00m\n\u001b[0;32m----> 9\u001b[0m \u001b[39mreturn\u001b[39;00m model, co2_kh_vecs, n2_kh_vecs, ch4_kh_vecs, ch4_lowp_vecs, ch4_highp_vecs\n",
      "\u001b[0;31mNameError\u001b[0m: name 'ch4_kh_vecs' is not defined"
     ]
    }
   ],
   "source": [
    "# cutoff 2011\n",
    "model_path = \"../experiments/workflow/wandb/offline-run-20230828_135604-lpoaccgc/tmp/embedding_model.pt\"\n",
    "model, co2_kh_vecs, n2_kh_vecs, ch4_kh_vecs, _, ch4_highp_vecs  = load_pretrained(model_path)\n",
    "bench_vecs = ch4_highp_vecs[-1] + ch4_highp_vecs[-2] + ch4_highp_vecs[-3]\n",
    "\"\"\"\n",
    "bench_vecs = [\n",
    "    co2_kh_vecs[-1] - n2_kh_vecs[-1],\n",
    "    co2_kh_vecs[-1] - n2_kh_vecs[-2],\n",
    "    co2_kh_vecs[-2] - n2_kh_vecs[-1],\n",
    "    co2_kh_vecs[-2] - n2_kh_vecs[-2],\n",
    "    co2_kh_vecs[-3] - n2_kh_vecs[-1],\n",
    "    co2_kh_vecs[-3] - n2_kh_vecs[-2],\n",
    "]\n",
    "\"\"\"\n",
    "sp_2011_sel = []\n",
    "for test_years in [\n",
    "    [2012], \n",
    "    [2012, 2013], \n",
    "    [2012, 2013, 2014], \n",
    "    [2012, 2013, 2014, 2015], \n",
    "    [2012, 2013, 2014, 2015, 2016], \n",
    "    [2012, 2013, 2014, 2015, 2016, 2017], \n",
    "]:\n",
    "    test_cif_dir = [\"../data/cifs/md_%s\" %year for year in test_years]\n",
    "    test_corpus =  get_test_data(test_cif_dir, model)\n",
    "    test_cosines = get_similarities(test_corpus, bench_vecs)\n",
    "    sp_2011_sel.append(cal_spearman(test_cosines))"
   ]
  },
  {
   "cell_type": "code",
   "execution_count": 29,
   "metadata": {},
   "outputs": [
    {
     "ename": "NameError",
     "evalue": "name 'ch4_kh_vecs' is not defined",
     "output_type": "error",
     "traceback": [
      "\u001b[0;31m---------------------------------------------------------------------------\u001b[0m",
      "\u001b[0;31mNameError\u001b[0m                                 Traceback (most recent call last)",
      "Cell \u001b[0;32mIn[29], line 3\u001b[0m\n\u001b[1;32m      1\u001b[0m \u001b[39m# cutoff 2012\u001b[39;00m\n\u001b[1;32m      2\u001b[0m model_path \u001b[39m=\u001b[39m \u001b[39m\"\u001b[39m\u001b[39m../experiments/workflow/wandb/offline-run-20230828_135213-ho8t8fek/tmp/embedding_model.pt\u001b[39m\u001b[39m\"\u001b[39m\n\u001b[0;32m----> 3\u001b[0m model, co2_kh_vecs, n2_kh_vecs, ch4_kh_vecs, _, ch4_highp_vecs  \u001b[39m=\u001b[39m load_pretrained(model_path)\n\u001b[1;32m      4\u001b[0m bench_vecs \u001b[39m=\u001b[39m ch4_highp_vecs[\u001b[39m-\u001b[39m\u001b[39m1\u001b[39m] \u001b[39m+\u001b[39m ch4_highp_vecs[\u001b[39m-\u001b[39m\u001b[39m2\u001b[39m] \u001b[39m+\u001b[39m ch4_highp_vecs[\u001b[39m-\u001b[39m\u001b[39m3\u001b[39m]\n\u001b[1;32m      5\u001b[0m \u001b[39m\"\"\"\u001b[39;00m\n\u001b[1;32m      6\u001b[0m \u001b[39mbench_vecs = [\u001b[39;00m\n\u001b[1;32m      7\u001b[0m \u001b[39m    co2_kh_vecs[-1] - n2_kh_vecs[-1],\u001b[39;00m\n\u001b[0;32m   (...)\u001b[0m\n\u001b[1;32m     13\u001b[0m \u001b[39m]\u001b[39;00m\n\u001b[1;32m     14\u001b[0m \u001b[39m\"\"\"\u001b[39;00m\n",
      "Cell \u001b[0;32mIn[15], line 9\u001b[0m, in \u001b[0;36mload_pretrained\u001b[0;34m(model_path)\u001b[0m\n\u001b[1;32m      4\u001b[0m n2_kh_vecs\u001b[39m=\u001b[39m [model\u001b[39m.\u001b[39mdv[\u001b[39m\"\u001b[39m\u001b[39moutputs.xq.logKH_N2_\u001b[39m\u001b[39m%s\u001b[39;00m\u001b[39m\"\u001b[39m \u001b[39m%\u001b[39mi] \u001b[39mfor\u001b[39;00m i \u001b[39min\u001b[39;00m \u001b[39mrange\u001b[39m(\u001b[39m10\u001b[39m)]\n\u001b[1;32m      5\u001b[0m \u001b[39m#ch4_kh_vecs = [model.dv[\"outputs.logKH_CH4_%s\" %i] for i in range(10)]\u001b[39;00m\n\u001b[1;32m      6\u001b[0m \u001b[39m#ch4_lowp_vecs = [model.dv[\"outputs.pure_uptake_methane_298.00_580000_%s\" %i] for i in range(10)]\u001b[39;00m\n\u001b[1;32m      7\u001b[0m \u001b[39m#ch4_highp_vecs = [model.dv[\"outputs.pure_uptake_methane_298.00_6500000_%s\" %i] for i in range(10)]\u001b[39;00m\n\u001b[0;32m----> 9\u001b[0m \u001b[39mreturn\u001b[39;00m model, co2_kh_vecs, n2_kh_vecs, ch4_kh_vecs, ch4_lowp_vecs, ch4_highp_vecs\n",
      "\u001b[0;31mNameError\u001b[0m: name 'ch4_kh_vecs' is not defined"
     ]
    }
   ],
   "source": [
    "# cutoff 2012\n",
    "model_path = \"../experiments/workflow/wandb/offline-run-20230828_135213-ho8t8fek/tmp/embedding_model.pt\"\n",
    "model, co2_kh_vecs, n2_kh_vecs, ch4_kh_vecs, _, ch4_highp_vecs  = load_pretrained(model_path)\n",
    "bench_vecs = ch4_highp_vecs[-1] + ch4_highp_vecs[-2] + ch4_highp_vecs[-3]\n",
    "\"\"\"\n",
    "bench_vecs = [\n",
    "    co2_kh_vecs[-1] - n2_kh_vecs[-1],\n",
    "    co2_kh_vecs[-1] - n2_kh_vecs[-2],\n",
    "    co2_kh_vecs[-2] - n2_kh_vecs[-1],\n",
    "    co2_kh_vecs[-2] - n2_kh_vecs[-2],\n",
    "    co2_kh_vecs[-3] - n2_kh_vecs[-1],\n",
    "    co2_kh_vecs[-3] - n2_kh_vecs[-2],\n",
    "]\n",
    "\"\"\"\n",
    "sp_2012_sel = []\n",
    "for test_years in [\n",
    "    [2013], \n",
    "    [2013, 2014], \n",
    "    [2013, 2014, 2015], \n",
    "    [2013, 2014, 2015, 2016], \n",
    "    [2013, 2014, 2015, 2016, 2017], \n",
    "]:\n",
    "    test_cif_dir = [\"../data/cifs/md_%s\" %year for year in test_years]\n",
    "    test_corpus =  get_test_data(test_cif_dir, model)\n",
    "    test_cosines = get_similarities(test_corpus, bench_vecs)\n",
    "    sp_2012_sel.append(cal_spearman(test_cosines))"
   ]
  },
  {
   "cell_type": "code",
   "execution_count": 30,
   "metadata": {},
   "outputs": [
    {
     "ename": "NameError",
     "evalue": "name 'ch4_kh_vecs' is not defined",
     "output_type": "error",
     "traceback": [
      "\u001b[0;31m---------------------------------------------------------------------------\u001b[0m",
      "\u001b[0;31mNameError\u001b[0m                                 Traceback (most recent call last)",
      "Cell \u001b[0;32mIn[30], line 3\u001b[0m\n\u001b[1;32m      1\u001b[0m \u001b[39m# cutoff 2013\u001b[39;00m\n\u001b[1;32m      2\u001b[0m model_path \u001b[39m=\u001b[39m \u001b[39m\"\u001b[39m\u001b[39m../experiments/workflow/wandb/offline-run-20230828_124657-q8y9ldn5/tmp/embedding_model.pt\u001b[39m\u001b[39m\"\u001b[39m\n\u001b[0;32m----> 3\u001b[0m model, co2_kh_vecs, n2_kh_vecs, ch4_kh_vecs, _, ch4_highp_vecs  \u001b[39m=\u001b[39m load_pretrained(model_path)\n\u001b[1;32m      4\u001b[0m bench_vecs \u001b[39m=\u001b[39m ch4_highp_vecs[\u001b[39m-\u001b[39m\u001b[39m1\u001b[39m] \u001b[39m+\u001b[39m ch4_highp_vecs[\u001b[39m-\u001b[39m\u001b[39m2\u001b[39m] \u001b[39m+\u001b[39m ch4_highp_vecs[\u001b[39m-\u001b[39m\u001b[39m3\u001b[39m]\n\u001b[1;32m      5\u001b[0m \u001b[39m\"\"\"\u001b[39;00m\n\u001b[1;32m      6\u001b[0m \u001b[39mbench_vecs = [\u001b[39;00m\n\u001b[1;32m      7\u001b[0m \u001b[39m    co2_kh_vecs[-1] - n2_kh_vecs[-1],\u001b[39;00m\n\u001b[0;32m   (...)\u001b[0m\n\u001b[1;32m     13\u001b[0m \u001b[39m]\u001b[39;00m\n\u001b[1;32m     14\u001b[0m \u001b[39m\"\"\"\u001b[39;00m\n",
      "Cell \u001b[0;32mIn[15], line 9\u001b[0m, in \u001b[0;36mload_pretrained\u001b[0;34m(model_path)\u001b[0m\n\u001b[1;32m      4\u001b[0m n2_kh_vecs\u001b[39m=\u001b[39m [model\u001b[39m.\u001b[39mdv[\u001b[39m\"\u001b[39m\u001b[39moutputs.xq.logKH_N2_\u001b[39m\u001b[39m%s\u001b[39;00m\u001b[39m\"\u001b[39m \u001b[39m%\u001b[39mi] \u001b[39mfor\u001b[39;00m i \u001b[39min\u001b[39;00m \u001b[39mrange\u001b[39m(\u001b[39m10\u001b[39m)]\n\u001b[1;32m      5\u001b[0m \u001b[39m#ch4_kh_vecs = [model.dv[\"outputs.logKH_CH4_%s\" %i] for i in range(10)]\u001b[39;00m\n\u001b[1;32m      6\u001b[0m \u001b[39m#ch4_lowp_vecs = [model.dv[\"outputs.pure_uptake_methane_298.00_580000_%s\" %i] for i in range(10)]\u001b[39;00m\n\u001b[1;32m      7\u001b[0m \u001b[39m#ch4_highp_vecs = [model.dv[\"outputs.pure_uptake_methane_298.00_6500000_%s\" %i] for i in range(10)]\u001b[39;00m\n\u001b[0;32m----> 9\u001b[0m \u001b[39mreturn\u001b[39;00m model, co2_kh_vecs, n2_kh_vecs, ch4_kh_vecs, ch4_lowp_vecs, ch4_highp_vecs\n",
      "\u001b[0;31mNameError\u001b[0m: name 'ch4_kh_vecs' is not defined"
     ]
    }
   ],
   "source": [
    "# cutoff 2013\n",
    "model_path = \"../experiments/workflow/wandb/offline-run-20230828_124657-q8y9ldn5/tmp/embedding_model.pt\"\n",
    "model, co2_kh_vecs, n2_kh_vecs, ch4_kh_vecs, _, ch4_highp_vecs  = load_pretrained(model_path)\n",
    "bench_vecs = ch4_highp_vecs[-1] + ch4_highp_vecs[-2] + ch4_highp_vecs[-3]\n",
    "\"\"\"\n",
    "bench_vecs = [\n",
    "    co2_kh_vecs[-1] - n2_kh_vecs[-1],\n",
    "    co2_kh_vecs[-1] - n2_kh_vecs[-2],\n",
    "    co2_kh_vecs[-2] - n2_kh_vecs[-1],\n",
    "    co2_kh_vecs[-2] - n2_kh_vecs[-2],\n",
    "    co2_kh_vecs[-3] - n2_kh_vecs[-1],\n",
    "    co2_kh_vecs[-3] - n2_kh_vecs[-2],\n",
    "]\n",
    "\"\"\"\n",
    "sp_2013_sel = []\n",
    "for test_years in [\n",
    "    [2014], \n",
    "    [2014, 2015], \n",
    "    [2014, 2015, 2016], \n",
    "    [2014, 2015, 2016, 2017], \n",
    "]:\n",
    "    test_cif_dir = [\"../data/cifs/md_%s\" %year for year in test_years]\n",
    "    test_corpus =  get_test_data(test_cif_dir, model)\n",
    "    test_cosines = get_similarities(test_corpus, bench_vecs)\n",
    "    sp_2013_sel.append(cal_spearman(test_cosines))"
   ]
  },
  {
   "cell_type": "code",
   "execution_count": 31,
   "metadata": {},
   "outputs": [
    {
     "ename": "NameError",
     "evalue": "name 'ch4_kh_vecs' is not defined",
     "output_type": "error",
     "traceback": [
      "\u001b[0;31m---------------------------------------------------------------------------\u001b[0m",
      "\u001b[0;31mNameError\u001b[0m                                 Traceback (most recent call last)",
      "Cell \u001b[0;32mIn[31], line 3\u001b[0m\n\u001b[1;32m      1\u001b[0m \u001b[39m# cutoff 2014\u001b[39;00m\n\u001b[1;32m      2\u001b[0m model_path \u001b[39m=\u001b[39m \u001b[39m\"\u001b[39m\u001b[39m../experiments/workflow/wandb/offline-run-20230829_133546-ktcasehg/tmp/embedding_model.pt\u001b[39m\u001b[39m\"\u001b[39m\n\u001b[0;32m----> 3\u001b[0m model, co2_kh_vecs, n2_kh_vecs, ch4_kh_vecs, _, ch4_highp_vecs  \u001b[39m=\u001b[39m load_pretrained(model_path)\n\u001b[1;32m      5\u001b[0m \u001b[39m\"\"\"\u001b[39;00m\n\u001b[1;32m      6\u001b[0m \u001b[39mbench_vecs = [\u001b[39;00m\n\u001b[1;32m      7\u001b[0m \u001b[39m    co2_kh_vecs[-1] - n2_kh_vecs[-1],\u001b[39;00m\n\u001b[0;32m   (...)\u001b[0m\n\u001b[1;32m     13\u001b[0m \u001b[39m]\u001b[39;00m\n\u001b[1;32m     14\u001b[0m \u001b[39m\"\"\"\u001b[39;00m\n\u001b[1;32m     15\u001b[0m sp_2014_sel \u001b[39m=\u001b[39m []\n",
      "Cell \u001b[0;32mIn[15], line 9\u001b[0m, in \u001b[0;36mload_pretrained\u001b[0;34m(model_path)\u001b[0m\n\u001b[1;32m      4\u001b[0m n2_kh_vecs\u001b[39m=\u001b[39m [model\u001b[39m.\u001b[39mdv[\u001b[39m\"\u001b[39m\u001b[39moutputs.xq.logKH_N2_\u001b[39m\u001b[39m%s\u001b[39;00m\u001b[39m\"\u001b[39m \u001b[39m%\u001b[39mi] \u001b[39mfor\u001b[39;00m i \u001b[39min\u001b[39;00m \u001b[39mrange\u001b[39m(\u001b[39m10\u001b[39m)]\n\u001b[1;32m      5\u001b[0m \u001b[39m#ch4_kh_vecs = [model.dv[\"outputs.logKH_CH4_%s\" %i] for i in range(10)]\u001b[39;00m\n\u001b[1;32m      6\u001b[0m \u001b[39m#ch4_lowp_vecs = [model.dv[\"outputs.pure_uptake_methane_298.00_580000_%s\" %i] for i in range(10)]\u001b[39;00m\n\u001b[1;32m      7\u001b[0m \u001b[39m#ch4_highp_vecs = [model.dv[\"outputs.pure_uptake_methane_298.00_6500000_%s\" %i] for i in range(10)]\u001b[39;00m\n\u001b[0;32m----> 9\u001b[0m \u001b[39mreturn\u001b[39;00m model, co2_kh_vecs, n2_kh_vecs, ch4_kh_vecs, ch4_lowp_vecs, ch4_highp_vecs\n",
      "\u001b[0;31mNameError\u001b[0m: name 'ch4_kh_vecs' is not defined"
     ]
    }
   ],
   "source": [
    "# cutoff 2014\n",
    "model_path = \"../experiments/workflow/wandb/offline-run-20230829_133546-ktcasehg/tmp/embedding_model.pt\"\n",
    "model, co2_kh_vecs, n2_kh_vecs, ch4_kh_vecs, _, ch4_highp_vecs  = load_pretrained(model_path)\n",
    "\n",
    "\"\"\"\n",
    "bench_vecs = [\n",
    "    co2_kh_vecs[-1] - n2_kh_vecs[-1],\n",
    "    co2_kh_vecs[-1] - n2_kh_vecs[-2],\n",
    "    co2_kh_vecs[-2] - n2_kh_vecs[-1],\n",
    "    co2_kh_vecs[-2] - n2_kh_vecs[-2],\n",
    "    co2_kh_vecs[-3] - n2_kh_vecs[-1],\n",
    "    co2_kh_vecs[-3] - n2_kh_vecs[-2],\n",
    "]\n",
    "\"\"\"\n",
    "sp_2014_sel = []\n",
    "for test_years in [\n",
    "    [2015], \n",
    "    [2015, 2016], \n",
    "    [2015, 2016, 2017], \n",
    "]:\n",
    "    test_cif_dir = [\"../data/cifs/md_%s\" %year for year in test_years]\n",
    "    test_corpus =  get_test_data(test_cif_dir, model)\n",
    "    test_cosines = get_similarities(test_corpus, bench_vecs)\n",
    "    sp_2014_sel.append(cal_spearman(test_cosines))"
   ]
  },
  {
   "cell_type": "code",
   "execution_count": 32,
   "metadata": {},
   "outputs": [
    {
     "ename": "NameError",
     "evalue": "name 'ch4_kh_vecs' is not defined",
     "output_type": "error",
     "traceback": [
      "\u001b[0;31m---------------------------------------------------------------------------\u001b[0m",
      "\u001b[0;31mNameError\u001b[0m                                 Traceback (most recent call last)",
      "Cell \u001b[0;32mIn[32], line 3\u001b[0m\n\u001b[1;32m      1\u001b[0m \u001b[39m# cutoff 2015\u001b[39;00m\n\u001b[1;32m      2\u001b[0m model_path \u001b[39m=\u001b[39m \u001b[39m\"\u001b[39m\u001b[39m../experiments/workflow/wandb/offline-run-20230830_181235-frlvgkco/tmp/embedding_model.pt\u001b[39m\u001b[39m\"\u001b[39m\n\u001b[0;32m----> 3\u001b[0m model, co2_kh_vecs, n2_kh_vecs, \u001b[39m=\u001b[39m load_pretrained(model_path) \u001b[39m#ch4_kh_vecs, _, ch4_highp_vecs  = load_pretrained(model_path)\u001b[39;00m\n\u001b[1;32m      4\u001b[0m bench_vecs \u001b[39m=\u001b[39m ch4_highp_vecs[\u001b[39m-\u001b[39m\u001b[39m1\u001b[39m] \u001b[39m+\u001b[39m ch4_highp_vecs[\u001b[39m-\u001b[39m\u001b[39m2\u001b[39m] \u001b[39m+\u001b[39m ch4_highp_vecs[\u001b[39m-\u001b[39m\u001b[39m3\u001b[39m]\n\u001b[1;32m      5\u001b[0m \u001b[39m\"\"\"\u001b[39;00m\n\u001b[1;32m      6\u001b[0m \u001b[39mbench_vecs = [\u001b[39;00m\n\u001b[1;32m      7\u001b[0m \u001b[39m    co2_kh_vecs[-1] - n2_kh_vecs[-1],\u001b[39;00m\n\u001b[0;32m   (...)\u001b[0m\n\u001b[1;32m     13\u001b[0m \u001b[39m]\u001b[39;00m\n\u001b[1;32m     14\u001b[0m \u001b[39m\"\"\"\u001b[39;00m\n",
      "Cell \u001b[0;32mIn[15], line 9\u001b[0m, in \u001b[0;36mload_pretrained\u001b[0;34m(model_path)\u001b[0m\n\u001b[1;32m      4\u001b[0m n2_kh_vecs\u001b[39m=\u001b[39m [model\u001b[39m.\u001b[39mdv[\u001b[39m\"\u001b[39m\u001b[39moutputs.xq.logKH_N2_\u001b[39m\u001b[39m%s\u001b[39;00m\u001b[39m\"\u001b[39m \u001b[39m%\u001b[39mi] \u001b[39mfor\u001b[39;00m i \u001b[39min\u001b[39;00m \u001b[39mrange\u001b[39m(\u001b[39m10\u001b[39m)]\n\u001b[1;32m      5\u001b[0m \u001b[39m#ch4_kh_vecs = [model.dv[\"outputs.logKH_CH4_%s\" %i] for i in range(10)]\u001b[39;00m\n\u001b[1;32m      6\u001b[0m \u001b[39m#ch4_lowp_vecs = [model.dv[\"outputs.pure_uptake_methane_298.00_580000_%s\" %i] for i in range(10)]\u001b[39;00m\n\u001b[1;32m      7\u001b[0m \u001b[39m#ch4_highp_vecs = [model.dv[\"outputs.pure_uptake_methane_298.00_6500000_%s\" %i] for i in range(10)]\u001b[39;00m\n\u001b[0;32m----> 9\u001b[0m \u001b[39mreturn\u001b[39;00m model, co2_kh_vecs, n2_kh_vecs, ch4_kh_vecs, ch4_lowp_vecs, ch4_highp_vecs\n",
      "\u001b[0;31mNameError\u001b[0m: name 'ch4_kh_vecs' is not defined"
     ]
    }
   ],
   "source": [
    "# cutoff 2015\n",
    "model_path = \"../experiments/workflow/wandb/offline-run-20230830_181235-frlvgkco/tmp/embedding_model.pt\"\n",
    "model, co2_kh_vecs, n2_kh_vecs, = load_pretrained(model_path) #ch4_kh_vecs, _, ch4_highp_vecs  = load_pretrained(model_path)\n",
    "bench_vecs = ch4_highp_vecs[-1] + ch4_highp_vecs[-2] + ch4_highp_vecs[-3]\n",
    "\"\"\"\n",
    "bench_vecs = [\n",
    "    co2_kh_vecs[-1] - n2_kh_vecs[-1],\n",
    "    co2_kh_vecs[-1] - n2_kh_vecs[-2],\n",
    "    co2_kh_vecs[-2] - n2_kh_vecs[-1],\n",
    "    co2_kh_vecs[-2] - n2_kh_vecs[-2],\n",
    "    co2_kh_vecs[-3] - n2_kh_vecs[-1],\n",
    "    co2_kh_vecs[-3] - n2_kh_vecs[-2],\n",
    "]\n",
    "\"\"\"\n",
    "\n",
    "sp_2015_sel = []\n",
    "for test_years in [\n",
    "    [2016], \n",
    "    [2016, 2017], \n",
    "]:\n",
    "    test_cif_dir = [\"../data/cifs/md_%s\" %year for year in test_years]\n",
    "    test_corpus =  get_test_data(test_cif_dir, model)\n",
    "    test_cosines = get_similarities(test_corpus, bench_vecs)\n",
    "    sp_2015_sel.append(cal_spearman(test_cosines))"
   ]
  },
  {
   "cell_type": "code",
   "execution_count": null,
   "metadata": {},
   "outputs": [
    {
     "data": {
      "text/plain": [
       "[0.32613717526668234, 0.31888044110697117]"
      ]
     },
     "execution_count": 14,
     "metadata": {},
     "output_type": "execute_result"
    }
   ],
   "source": [
    "sp_2015_sel # xq co2"
   ]
  },
  {
   "cell_type": "code",
   "execution_count": 33,
   "metadata": {},
   "outputs": [
    {
     "ename": "NameError",
     "evalue": "name 'sp_2015_sel' is not defined",
     "output_type": "error",
     "traceback": [
      "\u001b[0;31m---------------------------------------------------------------------------\u001b[0m",
      "\u001b[0;31mNameError\u001b[0m                                 Traceback (most recent call last)",
      "Cell \u001b[0;32mIn[33], line 1\u001b[0m\n\u001b[0;32m----> 1\u001b[0m sp_2015_sel \u001b[39m# ori co2\u001b[39;00m\n",
      "\u001b[0;31mNameError\u001b[0m: name 'sp_2015_sel' is not defined"
     ]
    }
   ],
   "source": [
    "sp_2015_sel # ori co2"
   ]
  },
  {
   "cell_type": "code",
   "execution_count": 34,
   "metadata": {},
   "outputs": [
    {
     "ename": "NameError",
     "evalue": "name 'sp_2015_sel' is not defined",
     "output_type": "error",
     "traceback": [
      "\u001b[0;31m---------------------------------------------------------------------------\u001b[0m",
      "\u001b[0;31mNameError\u001b[0m                                 Traceback (most recent call last)",
      "Cell \u001b[0;32mIn[34], line 1\u001b[0m\n\u001b[0;32m----> 1\u001b[0m sp_2015_sel \u001b[39m# without n2\u001b[39;00m\n",
      "\u001b[0;31mNameError\u001b[0m: name 'sp_2015_sel' is not defined"
     ]
    }
   ],
   "source": [
    "sp_2015_sel # without n2"
   ]
  },
  {
   "cell_type": "code",
   "execution_count": 35,
   "metadata": {},
   "outputs": [
    {
     "ename": "NameError",
     "evalue": "name 'sp_2015_sel' is not defined",
     "output_type": "error",
     "traceback": [
      "\u001b[0;31m---------------------------------------------------------------------------\u001b[0m",
      "\u001b[0;31mNameError\u001b[0m                                 Traceback (most recent call last)",
      "Cell \u001b[0;32mIn[35], line 1\u001b[0m\n\u001b[0;32m----> 1\u001b[0m sp_2015_sel \u001b[39m# xq co2, without n2\u001b[39;00m\n",
      "\u001b[0;31mNameError\u001b[0m: name 'sp_2015_sel' is not defined"
     ]
    }
   ],
   "source": [
    "sp_2015_sel # xq co2, without n2"
   ]
  },
  {
   "cell_type": "code",
   "execution_count": 36,
   "metadata": {},
   "outputs": [
    {
     "ename": "NameError",
     "evalue": "name 'sp_2015_sel' is not defined",
     "output_type": "error",
     "traceback": [
      "\u001b[0;31m---------------------------------------------------------------------------\u001b[0m",
      "\u001b[0;31mNameError\u001b[0m                                 Traceback (most recent call last)",
      "Cell \u001b[0;32mIn[36], line 1\u001b[0m\n\u001b[0;32m----> 1\u001b[0m sp_2015_sel \u001b[39m# without co2\u001b[39;00m\n",
      "\u001b[0;31mNameError\u001b[0m: name 'sp_2015_sel' is not defined"
     ]
    }
   ],
   "source": [
    "sp_2015_sel # without co2"
   ]
  },
  {
   "cell_type": "code",
   "execution_count": 37,
   "metadata": {},
   "outputs": [
    {
     "ename": "NameError",
     "evalue": "name 'sp_2015_sel' is not defined",
     "output_type": "error",
     "traceback": [
      "\u001b[0;31m---------------------------------------------------------------------------\u001b[0m",
      "\u001b[0;31mNameError\u001b[0m                                 Traceback (most recent call last)",
      "Cell \u001b[0;32mIn[37], line 1\u001b[0m\n\u001b[0;32m----> 1\u001b[0m sp_2015_sel \u001b[39m# without co2, n2\u001b[39;00m\n",
      "\u001b[0;31mNameError\u001b[0m: name 'sp_2015_sel' is not defined"
     ]
    }
   ],
   "source": [
    "sp_2015_sel # without co2, n2"
   ]
  },
  {
   "cell_type": "code",
   "execution_count": 38,
   "metadata": {},
   "outputs": [
    {
     "ename": "NameError",
     "evalue": "name 'sp_2015_sel' is not defined",
     "output_type": "error",
     "traceback": [
      "\u001b[0;31m---------------------------------------------------------------------------\u001b[0m",
      "\u001b[0;31mNameError\u001b[0m                                 Traceback (most recent call last)",
      "Cell \u001b[0;32mIn[38], line 1\u001b[0m\n\u001b[0;32m----> 1\u001b[0m sp_2015_sel \u001b[39m# without ch4\u001b[39;00m\n",
      "\u001b[0;31mNameError\u001b[0m: name 'sp_2015_sel' is not defined"
     ]
    }
   ],
   "source": [
    "sp_2015_sel # without ch4"
   ]
  },
  {
   "cell_type": "code",
   "execution_count": 39,
   "metadata": {},
   "outputs": [
    {
     "ename": "NameError",
     "evalue": "name 'sp_2005_sel' is not defined",
     "output_type": "error",
     "traceback": [
      "\u001b[0;31m---------------------------------------------------------------------------\u001b[0m",
      "\u001b[0;31mNameError\u001b[0m                                 Traceback (most recent call last)",
      "Cell \u001b[0;32mIn[39], line 5\u001b[0m\n\u001b[1;32m      1\u001b[0m plt\u001b[39m.\u001b[39mfigure(figsize\u001b[39m=\u001b[39m(\u001b[39m10\u001b[39m, \u001b[39m6\u001b[39m))\n\u001b[1;32m      2\u001b[0m years \u001b[39m=\u001b[39m [\u001b[39m2005\u001b[39m, \u001b[39m2006\u001b[39m, \u001b[39m2007\u001b[39m, \u001b[39m2008\u001b[39m, \u001b[39m2009\u001b[39m, \u001b[39m2010\u001b[39m, \u001b[39m2011\u001b[39m, \u001b[39m2012\u001b[39m, \u001b[39m2013\u001b[39m, \u001b[39m2014\u001b[39m, \u001b[39m2015\u001b[39m]\n\u001b[1;32m      4\u001b[0m sp_sel_mean \u001b[39m=\u001b[39m [\n\u001b[0;32m----> 5\u001b[0m     np\u001b[39m.\u001b[39mmean(sp_2005_sel),\n\u001b[1;32m      6\u001b[0m     np\u001b[39m.\u001b[39mmean(sp_2006_sel),\n\u001b[1;32m      7\u001b[0m     np\u001b[39m.\u001b[39mmean(sp_2007_sel),\n\u001b[1;32m      8\u001b[0m     np\u001b[39m.\u001b[39mmean(sp_2008_sel),\n\u001b[1;32m      9\u001b[0m     np\u001b[39m.\u001b[39mmean(sp_2009_sel),\n\u001b[1;32m     10\u001b[0m     np\u001b[39m.\u001b[39mmean(sp_2010_sel),\n\u001b[1;32m     11\u001b[0m     np\u001b[39m.\u001b[39mmean(sp_2011_sel),\n\u001b[1;32m     12\u001b[0m     np\u001b[39m.\u001b[39mmean(sp_2012_sel),\n\u001b[1;32m     13\u001b[0m     np\u001b[39m.\u001b[39mmean(sp_2013_sel),\n\u001b[1;32m     14\u001b[0m     np\u001b[39m.\u001b[39mmean(sp_2014_sel),\n\u001b[1;32m     15\u001b[0m     np\u001b[39m.\u001b[39mmean(sp_2015_sel)\n\u001b[1;32m     16\u001b[0m ]\n\u001b[1;32m     17\u001b[0m sp_sel_std \u001b[39m=\u001b[39m [\n\u001b[1;32m     18\u001b[0m     np\u001b[39m.\u001b[39mstd(sp_2005_sel),\n\u001b[1;32m     19\u001b[0m     np\u001b[39m.\u001b[39mstd(sp_2006_sel),\n\u001b[0;32m   (...)\u001b[0m\n\u001b[1;32m     28\u001b[0m     np\u001b[39m.\u001b[39mstd(sp_2015_sel)\n\u001b[1;32m     29\u001b[0m ]\n\u001b[1;32m     31\u001b[0m \u001b[39m#plt.errorbar(years, sp_mean, sp_std, label=\"$CO_2\\ k_H$\")\u001b[39;00m\n",
      "\u001b[0;31mNameError\u001b[0m: name 'sp_2005_sel' is not defined"
     ]
    },
    {
     "data": {
      "text/plain": [
       "<Figure size 1000x600 with 0 Axes>"
      ]
     },
     "metadata": {},
     "output_type": "display_data"
    }
   ],
   "source": [
    "plt.figure(figsize=(10, 6))\n",
    "years = [2005, 2006, 2007, 2008, 2009, 2010, 2011, 2012, 2013, 2014, 2015]\n",
    "\n",
    "sp_sel_mean = [\n",
    "    np.mean(sp_2005_sel),\n",
    "    np.mean(sp_2006_sel),\n",
    "    np.mean(sp_2007_sel),\n",
    "    np.mean(sp_2008_sel),\n",
    "    np.mean(sp_2009_sel),\n",
    "    np.mean(sp_2010_sel),\n",
    "    np.mean(sp_2011_sel),\n",
    "    np.mean(sp_2012_sel),\n",
    "    np.mean(sp_2013_sel),\n",
    "    np.mean(sp_2014_sel),\n",
    "    np.mean(sp_2015_sel)\n",
    "]\n",
    "sp_sel_std = [\n",
    "    np.std(sp_2005_sel),\n",
    "    np.std(sp_2006_sel),\n",
    "    np.std(sp_2007_sel),\n",
    "    np.std(sp_2008_sel),\n",
    "    np.std(sp_2009_sel),\n",
    "    np.std(sp_2010_sel),\n",
    "    np.std(sp_2011_sel),\n",
    "    np.std(sp_2012_sel),\n",
    "    np.std(sp_2013_sel),\n",
    "    np.std(sp_2014_sel),\n",
    "    np.std(sp_2015_sel)\n",
    "]\n",
    "\n",
    "#plt.errorbar(years, sp_mean, sp_std, label=\"$CO_2\\ k_H$\")\n",
    "plt.errorbar(years, sp_sel_mean, sp_sel_std, label=\"$CO_2/CH_4$ selectivity\")\n",
    "plt.plot(years,test_r2)\n",
    "plt.xticks(years, labels=years, rotation=45)\n",
    "\n",
    "#plt.ylim([0, 0.7])\n",
    "plt.xlabel(\"Cutoff year\")\n",
    "plt.ylabel(\"Spearman's rank correlation coefficient\",)\n",
    "plt.legend(loc='lower right')\n",
    "\n",
    "plt.tight_layout()\n",
    "\n",
    "#plt.savefig(\"../../../files/final_v/2-spearman.png\", dpi=1200)"
   ]
  },
  {
   "cell_type": "code",
   "execution_count": null,
   "metadata": {},
   "outputs": [],
   "source": []
  },
  {
   "cell_type": "code",
   "execution_count": null,
   "metadata": {},
   "outputs": [],
   "source": []
  }
 ],
 "metadata": {
  "kernelspec": {
   "display_name": "Python 3",
   "language": "python",
   "name": "python3"
  },
  "language_info": {
   "codemirror_mode": {
    "name": "ipython",
    "version": 3
   },
   "file_extension": ".py",
   "mimetype": "text/x-python",
   "name": "python",
   "nbconvert_exporter": "python",
   "pygments_lexer": "ipython3",
   "version": "3.8.16"
  },
  "orig_nbformat": 4
 },
 "nbformat": 4,
 "nbformat_minor": 2
}
