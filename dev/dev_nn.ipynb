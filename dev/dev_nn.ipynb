{
 "cells": [
  {
   "cell_type": "code",
   "execution_count": 1,
   "metadata": {},
   "outputs": [],
   "source": [
    "%load_ext autoreload\n",
    "%autoreload 2"
   ]
  },
  {
   "cell_type": "code",
   "execution_count": 5,
   "metadata": {},
   "outputs": [],
   "source": [
    "import pandas as pd\n",
    "import numpy as np\n",
    "import os\n",
    "import torch\n",
    "from sklearn.model_selection import train_test_split\n",
    "import matplotlib.pyplot  as plt\n",
    "from hydra.utils import instantiate"
   ]
  },
  {
   "cell_type": "code",
   "execution_count": 6,
   "metadata": {},
   "outputs": [],
   "source": [
    "df_label = pd.read_csv(\"../data/data.csv\").set_index(\"cif.label\")"
   ]
  },
  {
   "cell_type": "code",
   "execution_count": 26,
   "metadata": {},
   "outputs": [],
   "source": [
    "df_vector = pd.read_csv(\"../data/embedding_example/embedding-h50rl5oi.csv\")"
   ]
  },
  {
   "cell_type": "code",
   "execution_count": 21,
   "metadata": {},
   "outputs": [
    {
     "data": {
      "text/plain": [
       "array([0.18223792, -0.052778434, -0.025544835, 0.06903792, 0.029065704,\n",
       "       -0.09969002, -0.05961714, 0.045185998, -0.009621638, -0.018773982,\n",
       "       -0.1577318, 0.012376932, 0.028340044, 0.12140944, -0.009764762,\n",
       "       -0.07460559, -0.0028007084, 0.141223, 0.008262484, 0.03491501,\n",
       "       0.028810509, 0.036006797, 0.0981388, 0.05978615, -0.087274544,\n",
       "       -0.051497117, 0.11102457, -0.028097415, -0.15029188, -0.12889598,\n",
       "       0.06776593, -0.0054096878, 0.0934243, 0.09503806, 0.03360904,\n",
       "       -0.014801894, 0.01870705, 0.15593277, -0.030861687, -0.13042733,\n",
       "       -0.1098428, -0.025176018, 0.015759083, -0.02503141, -0.004129014,\n",
       "       0.04422977, 0.03908542, 0.018760912, 0.025280785, 0.14403401,\n",
       "       0.01516605, 0.10004629, 0.11729335, 0.07898504, -0.0619319,\n",
       "       0.03696615, 0.058077104, 0.06493654, -0.0036908805, -0.104176216,\n",
       "       -0.053878434, 0.05886356, 0.003976745, 0.08749568], dtype=object)"
      ]
     },
     "execution_count": 21,
     "metadata": {},
     "output_type": "execute_result"
    }
   ],
   "source": [
    "df_vector[df_vector[\"type\"] == \"RSM0001\"].values[0][1:]"
   ]
  },
  {
   "cell_type": "code",
   "execution_count": 24,
   "metadata": {},
   "outputs": [],
   "source": [
    "embedded_mofs = list(df_vector[\"type\"])"
   ]
  },
  {
   "cell_type": "code",
   "execution_count": 27,
   "metadata": {},
   "outputs": [],
   "source": [
    "df = df_label[df_label[\"cif.label\"].isin(embedded_mofs)].set_index(\"cif.label\")"
   ]
  },
  {
   "cell_type": "code",
   "execution_count": 29,
   "metadata": {},
   "outputs": [
    {
     "data": {
      "text/html": [
       "<div>\n",
       "<style scoped>\n",
       "    .dataframe tbody tr th:only-of-type {\n",
       "        vertical-align: middle;\n",
       "    }\n",
       "\n",
       "    .dataframe tbody tr th {\n",
       "        vertical-align: top;\n",
       "    }\n",
       "\n",
       "    .dataframe thead th {\n",
       "        text-align: right;\n",
       "    }\n",
       "</style>\n",
       "<table border=\"1\" class=\"dataframe\">\n",
       "  <thead>\n",
       "    <tr style=\"text-align: right;\">\n",
       "      <th></th>\n",
       "      <th>Unnamed: 0</th>\n",
       "      <th>in</th>\n",
       "      <th>ASA [m^2/cm^3]</th>\n",
       "      <th>CellV [A^3]</th>\n",
       "      <th>Df</th>\n",
       "      <th>Di</th>\n",
       "      <th>Dif</th>\n",
       "      <th>NASA [m^2/cm^3]</th>\n",
       "      <th>POAV [cm^3/g]</th>\n",
       "      <th>POAVF</th>\n",
       "      <th>...</th>\n",
       "      <th>CH4DC</th>\n",
       "      <th>CH4HPSTP</th>\n",
       "      <th>CH4LPSTP</th>\n",
       "      <th>KH_CH4_molkgpa</th>\n",
       "      <th>KH_N2_molkgpa</th>\n",
       "      <th>log_selectivity</th>\n",
       "      <th>info.decorated_graph_hash</th>\n",
       "      <th>info.undecorated_graph_hash</th>\n",
       "      <th>info.decorated_scaffold_hash</th>\n",
       "      <th>info.undecorated_scaffold_hash</th>\n",
       "    </tr>\n",
       "    <tr>\n",
       "      <th>cif.label</th>\n",
       "      <th></th>\n",
       "      <th></th>\n",
       "      <th></th>\n",
       "      <th></th>\n",
       "      <th></th>\n",
       "      <th></th>\n",
       "      <th></th>\n",
       "      <th></th>\n",
       "      <th></th>\n",
       "      <th></th>\n",
       "      <th></th>\n",
       "      <th></th>\n",
       "      <th></th>\n",
       "      <th></th>\n",
       "      <th></th>\n",
       "      <th></th>\n",
       "      <th></th>\n",
       "      <th></th>\n",
       "      <th></th>\n",
       "      <th></th>\n",
       "      <th></th>\n",
       "    </tr>\n",
       "  </thead>\n",
       "  <tbody>\n",
       "    <tr>\n",
       "      <th>RSM0001</th>\n",
       "      <td>1514</td>\n",
       "      <td>3369</td>\n",
       "      <td>0.00</td>\n",
       "      <td>509.836</td>\n",
       "      <td>2.90906</td>\n",
       "      <td>3.78929</td>\n",
       "      <td>3.78929</td>\n",
       "      <td>4.28485</td>\n",
       "      <td>0.000000</td>\n",
       "      <td>0.00000</td>\n",
       "      <td>...</td>\n",
       "      <td>97.797569</td>\n",
       "      <td>106.963405</td>\n",
       "      <td>9.165836</td>\n",
       "      <td>9.192540e-14</td>\n",
       "      <td>4.295700e-12</td>\n",
       "      <td>NaN</td>\n",
       "      <td>397d5168298ea48e35e50c2dd7a5545a</td>\n",
       "      <td>d4cebadc19022cd2a9e55a4495c5acef</td>\n",
       "      <td>81ea15d99b10284b531d774c56dbfee8</td>\n",
       "      <td>aa1bb49eb59ff97e8ad55a10f3dd9621</td>\n",
       "    </tr>\n",
       "    <tr>\n",
       "      <th>RSM0002</th>\n",
       "      <td>1512</td>\n",
       "      <td>3367</td>\n",
       "      <td>0.00</td>\n",
       "      <td>516.368</td>\n",
       "      <td>2.92117</td>\n",
       "      <td>3.81858</td>\n",
       "      <td>3.81858</td>\n",
       "      <td>12.18450</td>\n",
       "      <td>0.000000</td>\n",
       "      <td>0.00000</td>\n",
       "      <td>...</td>\n",
       "      <td>121.197291</td>\n",
       "      <td>133.183754</td>\n",
       "      <td>11.986463</td>\n",
       "      <td>6.626080e-10</td>\n",
       "      <td>5.763760e-09</td>\n",
       "      <td>NaN</td>\n",
       "      <td>a4e6d5c237a4b8d50ee22509fdde0f71</td>\n",
       "      <td>8eaa459531a4cf79a0a7fd63471c3dc8</td>\n",
       "      <td>b37e56e8e46c3037ff39b1e8de78021a</td>\n",
       "      <td>9f71e84043e0476025e94bcb16499a31</td>\n",
       "    </tr>\n",
       "    <tr>\n",
       "      <th>RSM0003</th>\n",
       "      <td>1515</td>\n",
       "      <td>3370</td>\n",
       "      <td>0.00</td>\n",
       "      <td>505.611</td>\n",
       "      <td>2.91404</td>\n",
       "      <td>3.79670</td>\n",
       "      <td>3.79670</td>\n",
       "      <td>3.97516</td>\n",
       "      <td>0.000000</td>\n",
       "      <td>0.00000</td>\n",
       "      <td>...</td>\n",
       "      <td>94.161336</td>\n",
       "      <td>103.160279</td>\n",
       "      <td>8.998943</td>\n",
       "      <td>1.743300e-12</td>\n",
       "      <td>2.316240e-11</td>\n",
       "      <td>NaN</td>\n",
       "      <td>322048a06288c5929e6ea286dac69437</td>\n",
       "      <td>a1555cf381d317884a0699ab7e235bff</td>\n",
       "      <td>a8b8eb5294eec3d775f514d3fd72aa19</td>\n",
       "      <td>c1db4da8b3ce2177f74deed2ce155f69</td>\n",
       "    </tr>\n",
       "    <tr>\n",
       "      <th>RSM0004</th>\n",
       "      <td>1513</td>\n",
       "      <td>3368</td>\n",
       "      <td>0.00</td>\n",
       "      <td>513.366</td>\n",
       "      <td>2.90303</td>\n",
       "      <td>3.79357</td>\n",
       "      <td>3.79357</td>\n",
       "      <td>4.25538</td>\n",
       "      <td>0.000000</td>\n",
       "      <td>0.00000</td>\n",
       "      <td>...</td>\n",
       "      <td>105.647526</td>\n",
       "      <td>115.032205</td>\n",
       "      <td>9.384679</td>\n",
       "      <td>1.865900e-43</td>\n",
       "      <td>1.449720e-30</td>\n",
       "      <td>NaN</td>\n",
       "      <td>846aaf0e61abf76908df2b9692a36c5a</td>\n",
       "      <td>c06db605793b7b30ecf2808d05a3dff6</td>\n",
       "      <td>af7ea2651880fc8b73d5e0e430757672</td>\n",
       "      <td>f8a07a173c429da735b29411d328cb98</td>\n",
       "    </tr>\n",
       "    <tr>\n",
       "      <th>RSM0008</th>\n",
       "      <td>1914</td>\n",
       "      <td>4200</td>\n",
       "      <td>0.00</td>\n",
       "      <td>402.319</td>\n",
       "      <td>3.25805</td>\n",
       "      <td>4.50899</td>\n",
       "      <td>4.50899</td>\n",
       "      <td>352.76300</td>\n",
       "      <td>0.000000</td>\n",
       "      <td>0.00000</td>\n",
       "      <td>...</td>\n",
       "      <td>48.780682</td>\n",
       "      <td>151.280604</td>\n",
       "      <td>102.499922</td>\n",
       "      <td>1.148170e-05</td>\n",
       "      <td>3.701850e-06</td>\n",
       "      <td>NaN</td>\n",
       "      <td>fea58a3d5fbd7cf4c45abb387db33e9c</td>\n",
       "      <td>d6981923f6c12b6a0709175972451a27</td>\n",
       "      <td>d60fdebe602bdd993c7035c6c8281a55</td>\n",
       "      <td>2149ecdd31248123650b3512f93983a6</td>\n",
       "    </tr>\n",
       "    <tr>\n",
       "      <th>...</th>\n",
       "      <td>...</td>\n",
       "      <td>...</td>\n",
       "      <td>...</td>\n",
       "      <td>...</td>\n",
       "      <td>...</td>\n",
       "      <td>...</td>\n",
       "      <td>...</td>\n",
       "      <td>...</td>\n",
       "      <td>...</td>\n",
       "      <td>...</td>\n",
       "      <td>...</td>\n",
       "      <td>...</td>\n",
       "      <td>...</td>\n",
       "      <td>...</td>\n",
       "      <td>...</td>\n",
       "      <td>...</td>\n",
       "      <td>...</td>\n",
       "      <td>...</td>\n",
       "      <td>...</td>\n",
       "      <td>...</td>\n",
       "      <td>...</td>\n",
       "    </tr>\n",
       "    <tr>\n",
       "      <th>RSM4610</th>\n",
       "      <td>3653</td>\n",
       "      <td>8068</td>\n",
       "      <td>1348.40</td>\n",
       "      <td>34210.600</td>\n",
       "      <td>10.38181</td>\n",
       "      <td>17.46562</td>\n",
       "      <td>17.46523</td>\n",
       "      <td>89.26680</td>\n",
       "      <td>0.633173</td>\n",
       "      <td>0.49770</td>\n",
       "      <td>...</td>\n",
       "      <td>140.130858</td>\n",
       "      <td>206.113002</td>\n",
       "      <td>65.982143</td>\n",
       "      <td>9.340340e-06</td>\n",
       "      <td>2.239260e-06</td>\n",
       "      <td>0.620099</td>\n",
       "      <td>8d4876d71fafeab2e9950513d7cc0876</td>\n",
       "      <td>c060d1706f3242f9c376e8fcd6129f99</td>\n",
       "      <td>d00035e491c0d50d9777411a2971e47e</td>\n",
       "      <td>40f9f42cf2c0e310990337de642828c3</td>\n",
       "    </tr>\n",
       "    <tr>\n",
       "      <th>RSM4613</th>\n",
       "      <td>730</td>\n",
       "      <td>1631</td>\n",
       "      <td>1296.54</td>\n",
       "      <td>26193.900</td>\n",
       "      <td>5.46518</td>\n",
       "      <td>12.53445</td>\n",
       "      <td>12.53445</td>\n",
       "      <td>0.00000</td>\n",
       "      <td>0.362413</td>\n",
       "      <td>0.36704</td>\n",
       "      <td>...</td>\n",
       "      <td>95.189356</td>\n",
       "      <td>168.763739</td>\n",
       "      <td>73.574383</td>\n",
       "      <td>1.177000e-05</td>\n",
       "      <td>2.620370e-06</td>\n",
       "      <td>0.653581</td>\n",
       "      <td>7db8e54f19d42b74d1abbfd2d91accbd</td>\n",
       "      <td>a9d16815ce5e20294cf97df486ab367e</td>\n",
       "      <td>d097c1cee7b5f486aa55ea0e6028e75c</td>\n",
       "      <td>f5b96573524885e4ee1b98d555c6e0b3</td>\n",
       "    </tr>\n",
       "    <tr>\n",
       "      <th>RSM4614</th>\n",
       "      <td>939</td>\n",
       "      <td>2047</td>\n",
       "      <td>2137.73</td>\n",
       "      <td>47281.200</td>\n",
       "      <td>6.35591</td>\n",
       "      <td>10.98199</td>\n",
       "      <td>10.98199</td>\n",
       "      <td>0.00000</td>\n",
       "      <td>0.932101</td>\n",
       "      <td>0.61572</td>\n",
       "      <td>...</td>\n",
       "      <td>177.342684</td>\n",
       "      <td>271.618123</td>\n",
       "      <td>94.275439</td>\n",
       "      <td>1.428870e-05</td>\n",
       "      <td>4.426650e-06</td>\n",
       "      <td>0.508932</td>\n",
       "      <td>d31c95971a4de2dc413da1d256afe34b</td>\n",
       "      <td>efac990af7c16fe0a57f1792a7429652</td>\n",
       "      <td>1364dd3fdef45d84aaab7bca5998dc3a</td>\n",
       "      <td>dc9c6868d3cbbeddc8a703a9c97064f8</td>\n",
       "    </tr>\n",
       "    <tr>\n",
       "      <th>RSM4615</th>\n",
       "      <td>1902</td>\n",
       "      <td>4166</td>\n",
       "      <td>0.00</td>\n",
       "      <td>34812.000</td>\n",
       "      <td>3.55246</td>\n",
       "      <td>11.10403</td>\n",
       "      <td>11.07204</td>\n",
       "      <td>964.76800</td>\n",
       "      <td>0.000000</td>\n",
       "      <td>0.00000</td>\n",
       "      <td>...</td>\n",
       "      <td>77.756232</td>\n",
       "      <td>212.660596</td>\n",
       "      <td>134.904364</td>\n",
       "      <td>5.894700e-05</td>\n",
       "      <td>7.048560e-06</td>\n",
       "      <td>NaN</td>\n",
       "      <td>414d44afb78ee317770052618364adfa</td>\n",
       "      <td>1b0a041639b10866b6681dc7f4ddcb0a</td>\n",
       "      <td>0d58553fff97e1ffb27efc5d4b948891</td>\n",
       "      <td>b39192f82b00d64904250ca3e40719a1</td>\n",
       "    </tr>\n",
       "    <tr>\n",
       "      <th>RSM4616</th>\n",
       "      <td>4302</td>\n",
       "      <td>9038</td>\n",
       "      <td>1180.87</td>\n",
       "      <td>25358.600</td>\n",
       "      <td>6.51530</td>\n",
       "      <td>7.15079</td>\n",
       "      <td>7.14534</td>\n",
       "      <td>15.48280</td>\n",
       "      <td>0.349023</td>\n",
       "      <td>0.30818</td>\n",
       "      <td>...</td>\n",
       "      <td>91.446344</td>\n",
       "      <td>189.008890</td>\n",
       "      <td>97.562546</td>\n",
       "      <td>1.305130e-05</td>\n",
       "      <td>2.607320e-06</td>\n",
       "      <td>0.700631</td>\n",
       "      <td>84fa61908cf920264088b7b48f371803</td>\n",
       "      <td>05b45dcc9479aa5fcf83a48131bab2f7</td>\n",
       "      <td>297f87e214a1c6dda9d07b35dac66792</td>\n",
       "      <td>acd9b5c72bf1dabb6939746750735205</td>\n",
       "    </tr>\n",
       "  </tbody>\n",
       "</table>\n",
       "<p>3257 rows × 352 columns</p>\n",
       "</div>"
      ],
      "text/plain": [
       "           Unnamed: 0    in  ASA [m^2/cm^3]  CellV [A^3]        Df        Di  \\\n",
       "cif.label                                                                      \n",
       "RSM0001          1514  3369            0.00      509.836   2.90906   3.78929   \n",
       "RSM0002          1512  3367            0.00      516.368   2.92117   3.81858   \n",
       "RSM0003          1515  3370            0.00      505.611   2.91404   3.79670   \n",
       "RSM0004          1513  3368            0.00      513.366   2.90303   3.79357   \n",
       "RSM0008          1914  4200            0.00      402.319   3.25805   4.50899   \n",
       "...               ...   ...             ...          ...       ...       ...   \n",
       "RSM4610          3653  8068         1348.40    34210.600  10.38181  17.46562   \n",
       "RSM4613           730  1631         1296.54    26193.900   5.46518  12.53445   \n",
       "RSM4614           939  2047         2137.73    47281.200   6.35591  10.98199   \n",
       "RSM4615          1902  4166            0.00    34812.000   3.55246  11.10403   \n",
       "RSM4616          4302  9038         1180.87    25358.600   6.51530   7.15079   \n",
       "\n",
       "                Dif  NASA [m^2/cm^3]  POAV [cm^3/g]    POAVF  ...       CH4DC  \\\n",
       "cif.label                                                     ...               \n",
       "RSM0001     3.78929          4.28485       0.000000  0.00000  ...   97.797569   \n",
       "RSM0002     3.81858         12.18450       0.000000  0.00000  ...  121.197291   \n",
       "RSM0003     3.79670          3.97516       0.000000  0.00000  ...   94.161336   \n",
       "RSM0004     3.79357          4.25538       0.000000  0.00000  ...  105.647526   \n",
       "RSM0008     4.50899        352.76300       0.000000  0.00000  ...   48.780682   \n",
       "...             ...              ...            ...      ...  ...         ...   \n",
       "RSM4610    17.46523         89.26680       0.633173  0.49770  ...  140.130858   \n",
       "RSM4613    12.53445          0.00000       0.362413  0.36704  ...   95.189356   \n",
       "RSM4614    10.98199          0.00000       0.932101  0.61572  ...  177.342684   \n",
       "RSM4615    11.07204        964.76800       0.000000  0.00000  ...   77.756232   \n",
       "RSM4616     7.14534         15.48280       0.349023  0.30818  ...   91.446344   \n",
       "\n",
       "             CH4HPSTP    CH4LPSTP KH_CH4_molkgpa  KH_N2_molkgpa  \\\n",
       "cif.label                                                         \n",
       "RSM0001    106.963405    9.165836   9.192540e-14   4.295700e-12   \n",
       "RSM0002    133.183754   11.986463   6.626080e-10   5.763760e-09   \n",
       "RSM0003    103.160279    8.998943   1.743300e-12   2.316240e-11   \n",
       "RSM0004    115.032205    9.384679   1.865900e-43   1.449720e-30   \n",
       "RSM0008    151.280604  102.499922   1.148170e-05   3.701850e-06   \n",
       "...               ...         ...            ...            ...   \n",
       "RSM4610    206.113002   65.982143   9.340340e-06   2.239260e-06   \n",
       "RSM4613    168.763739   73.574383   1.177000e-05   2.620370e-06   \n",
       "RSM4614    271.618123   94.275439   1.428870e-05   4.426650e-06   \n",
       "RSM4615    212.660596  134.904364   5.894700e-05   7.048560e-06   \n",
       "RSM4616    189.008890   97.562546   1.305130e-05   2.607320e-06   \n",
       "\n",
       "           log_selectivity         info.decorated_graph_hash  \\\n",
       "cif.label                                                      \n",
       "RSM0001                NaN  397d5168298ea48e35e50c2dd7a5545a   \n",
       "RSM0002                NaN  a4e6d5c237a4b8d50ee22509fdde0f71   \n",
       "RSM0003                NaN  322048a06288c5929e6ea286dac69437   \n",
       "RSM0004                NaN  846aaf0e61abf76908df2b9692a36c5a   \n",
       "RSM0008                NaN  fea58a3d5fbd7cf4c45abb387db33e9c   \n",
       "...                    ...                               ...   \n",
       "RSM4610           0.620099  8d4876d71fafeab2e9950513d7cc0876   \n",
       "RSM4613           0.653581  7db8e54f19d42b74d1abbfd2d91accbd   \n",
       "RSM4614           0.508932  d31c95971a4de2dc413da1d256afe34b   \n",
       "RSM4615                NaN  414d44afb78ee317770052618364adfa   \n",
       "RSM4616           0.700631  84fa61908cf920264088b7b48f371803   \n",
       "\n",
       "                info.undecorated_graph_hash      info.decorated_scaffold_hash  \\\n",
       "cif.label                                                                       \n",
       "RSM0001    d4cebadc19022cd2a9e55a4495c5acef  81ea15d99b10284b531d774c56dbfee8   \n",
       "RSM0002    8eaa459531a4cf79a0a7fd63471c3dc8  b37e56e8e46c3037ff39b1e8de78021a   \n",
       "RSM0003    a1555cf381d317884a0699ab7e235bff  a8b8eb5294eec3d775f514d3fd72aa19   \n",
       "RSM0004    c06db605793b7b30ecf2808d05a3dff6  af7ea2651880fc8b73d5e0e430757672   \n",
       "RSM0008    d6981923f6c12b6a0709175972451a27  d60fdebe602bdd993c7035c6c8281a55   \n",
       "...                                     ...                               ...   \n",
       "RSM4610    c060d1706f3242f9c376e8fcd6129f99  d00035e491c0d50d9777411a2971e47e   \n",
       "RSM4613    a9d16815ce5e20294cf97df486ab367e  d097c1cee7b5f486aa55ea0e6028e75c   \n",
       "RSM4614    efac990af7c16fe0a57f1792a7429652  1364dd3fdef45d84aaab7bca5998dc3a   \n",
       "RSM4615    1b0a041639b10866b6681dc7f4ddcb0a  0d58553fff97e1ffb27efc5d4b948891   \n",
       "RSM4616    05b45dcc9479aa5fcf83a48131bab2f7  297f87e214a1c6dda9d07b35dac66792   \n",
       "\n",
       "             info.undecorated_scaffold_hash  \n",
       "cif.label                                    \n",
       "RSM0001    aa1bb49eb59ff97e8ad55a10f3dd9621  \n",
       "RSM0002    9f71e84043e0476025e94bcb16499a31  \n",
       "RSM0003    c1db4da8b3ce2177f74deed2ce155f69  \n",
       "RSM0004    f8a07a173c429da735b29411d328cb98  \n",
       "RSM0008    2149ecdd31248123650b3512f93983a6  \n",
       "...                                     ...  \n",
       "RSM4610    40f9f42cf2c0e310990337de642828c3  \n",
       "RSM4613    f5b96573524885e4ee1b98d555c6e0b3  \n",
       "RSM4614    dc9c6868d3cbbeddc8a703a9c97064f8  \n",
       "RSM4615    b39192f82b00d64904250ca3e40719a1  \n",
       "RSM4616    acd9b5c72bf1dabb6939746750735205  \n",
       "\n",
       "[3257 rows x 352 columns]"
      ]
     },
     "execution_count": 29,
     "metadata": {},
     "output_type": "execute_result"
    }
   ],
   "source": [
    "df.loc[embedded_mofs]"
   ]
  },
  {
   "cell_type": "code",
   "execution_count": 32,
   "metadata": {},
   "outputs": [],
   "source": [
    "train_valid_idx, test_idx = train_test_split(range(len(df)), test_size=0.1)"
   ]
  },
  {
   "cell_type": "code",
   "execution_count": 36,
   "metadata": {},
   "outputs": [
    {
     "data": {
      "text/plain": [
       "(2931, 326)"
      ]
     },
     "execution_count": 36,
     "metadata": {},
     "output_type": "execute_result"
    }
   ],
   "source": [
    "len(train_valid_idx), len(test_idx)"
   ]
  },
  {
   "cell_type": "code",
   "execution_count": 37,
   "metadata": {},
   "outputs": [],
   "source": [
    "train_idx, valid_idx = train_test_split(train_valid_idx, test_size=0.1)"
   ]
  },
  {
   "cell_type": "code",
   "execution_count": 39,
   "metadata": {},
   "outputs": [
    {
     "data": {
      "text/plain": [
       "(2637, 294)"
      ]
     },
     "execution_count": 39,
     "metadata": {},
     "output_type": "execute_result"
    }
   ],
   "source": [
    "len(train_idx), len(valid_idx)"
   ]
  },
  {
   "cell_type": "code",
   "execution_count": 41,
   "metadata": {},
   "outputs": [],
   "source": [
    "train_names = [embedded_mofs[i] for i in train_idx]"
   ]
  },
  {
   "cell_type": "code",
   "execution_count": 47,
   "metadata": {},
   "outputs": [
    {
     "data": {
      "text/plain": [
       "array([-4.52613656, -4.54110241, -4.65836964, ..., -1.15562224,\n",
       "       -3.36397774, -2.13238875])"
      ]
     },
     "execution_count": 47,
     "metadata": {},
     "output_type": "execute_result"
    }
   ],
   "source": [
    "df_label.set_index(\"cif.label\").loc[train_names][\"logKH_CO2\"].values"
   ]
  },
  {
   "cell_type": "code",
   "execution_count": 18,
   "metadata": {},
   "outputs": [],
   "source": [
    "from mofgraph2vec.model.vecnn import VecModel\n",
    "from mofgraph2vec.model.nn_lightning import VecLightningModule"
   ]
  },
  {
   "cell_type": "code",
   "execution_count": 19,
   "metadata": {},
   "outputs": [],
   "source": [
    "vec_model = VecModel(\n",
    "    input_dim=53,\n",
    "    output_dim=1,\n",
    "    fcnn_n_layers=5,\n",
    "    fcnn_hidden_size=128,\n",
    "    fcnn_activation=\"relu\",\n",
    ")"
   ]
  },
  {
   "cell_type": "code",
   "execution_count": 27,
   "metadata": {},
   "outputs": [],
   "source": [
    "my_model = VecLightningModule(model=vec_model, loss=\"mse\", lr=1e-4)"
   ]
  },
  {
   "cell_type": "code",
   "execution_count": 35,
   "metadata": {},
   "outputs": [],
   "source": [
    "from omegaconf import OmegaConf"
   ]
  },
  {
   "cell_type": "code",
   "execution_count": 36,
   "metadata": {},
   "outputs": [],
   "source": [
    "model_conf = OmegaConf.load(\"../conf/model/nn.yaml\")"
   ]
  },
  {
   "cell_type": "code",
   "execution_count": 39,
   "metadata": {},
   "outputs": [],
   "source": [
    "model = instantiate(model_conf.nn)"
   ]
  },
  {
   "cell_type": "code",
   "execution_count": 41,
   "metadata": {},
   "outputs": [],
   "source": [
    "pl_model = VecLightningModule(model, \"mse, 1e-4\")"
   ]
  },
  {
   "cell_type": "code",
   "execution_count": 42,
   "metadata": {},
   "outputs": [
    {
     "data": {
      "text/plain": [
       "VecLightningModule(\n",
       "  (model): VecModel(\n",
       "    (embedding): Linear(in_features=53, out_features=128, bias=True)\n",
       "    (convs): ModuleList(\n",
       "      (0): Linear(in_features=128, out_features=128, bias=True)\n",
       "      (1): Linear(in_features=128, out_features=128, bias=True)\n",
       "      (2): Linear(in_features=128, out_features=128, bias=True)\n",
       "      (3): Linear(in_features=128, out_features=128, bias=True)\n",
       "      (4): Linear(in_features=128, out_features=128, bias=True)\n",
       "    )\n",
       "    (activation): ReLU()\n",
       "    (output): Linear(in_features=128, out_features=1, bias=True)\n",
       "  )\n",
       ")"
      ]
     },
     "execution_count": 42,
     "metadata": {},
     "output_type": "execute_result"
    }
   ],
   "source": [
    "pl_model"
   ]
  },
  {
   "cell_type": "code",
   "execution_count": 43,
   "metadata": {},
   "outputs": [
    {
     "ename": "TypeError",
     "evalue": "__init__() missing 1 required positional argument: 'model'",
     "output_type": "error",
     "traceback": [
      "\u001b[0;31m---------------------------------------------------------------------------\u001b[0m",
      "\u001b[0;31mTypeError\u001b[0m                                 Traceback (most recent call last)",
      "Cell \u001b[0;32mIn[43], line 1\u001b[0m\n\u001b[0;32m----> 1\u001b[0m pl_model\u001b[39m.\u001b[39;49mload_from_checkpoint(\u001b[39m\"\u001b[39;49m\u001b[39m../experiments/supervised/lightning_logs/version_0/checkpoints/epoch=99-step=4200.ckpt\u001b[39;49m\u001b[39m\"\u001b[39;49m)\n",
      "File \u001b[0;32m~/opt/anaconda3/envs/mofgraph2vec/lib/python3.8/site-packages/pytorch_lightning/core/saving.py:139\u001b[0m, in \u001b[0;36mModelIO.load_from_checkpoint\u001b[0;34m(cls, checkpoint_path, map_location, hparams_file, strict, **kwargs)\u001b[0m\n\u001b[1;32m     59\u001b[0m \u001b[39m@classmethod\u001b[39m\n\u001b[1;32m     60\u001b[0m \u001b[39mdef\u001b[39;00m \u001b[39mload_from_checkpoint\u001b[39m(\n\u001b[1;32m     61\u001b[0m     \u001b[39mcls\u001b[39m,\n\u001b[0;32m   (...)\u001b[0m\n\u001b[1;32m     66\u001b[0m     \u001b[39m*\u001b[39m\u001b[39m*\u001b[39mkwargs: Any,\n\u001b[1;32m     67\u001b[0m ) \u001b[39m-\u001b[39m\u001b[39m>\u001b[39m Self:  \u001b[39m# type: ignore[valid-type]\u001b[39;00m\n\u001b[1;32m     68\u001b[0m     \u001b[39mr\u001b[39m\u001b[39m\"\"\"\u001b[39;00m\n\u001b[1;32m     69\u001b[0m \u001b[39m    Primary way of loading a model from a checkpoint. When Lightning saves a checkpoint\u001b[39;00m\n\u001b[1;32m     70\u001b[0m \u001b[39m    it stores the arguments passed to ``__init__``  in the checkpoint under ``\"hyper_parameters\"``.\u001b[39;00m\n\u001b[0;32m   (...)\u001b[0m\n\u001b[1;32m    137\u001b[0m \u001b[39m        y_hat = pretrained_model(x)\u001b[39;00m\n\u001b[1;32m    138\u001b[0m \u001b[39m    \"\"\"\u001b[39;00m\n\u001b[0;32m--> 139\u001b[0m     \u001b[39mreturn\u001b[39;00m _load_from_checkpoint(\n\u001b[1;32m    140\u001b[0m         \u001b[39mcls\u001b[39;49m,\n\u001b[1;32m    141\u001b[0m         checkpoint_path,\n\u001b[1;32m    142\u001b[0m         map_location,\n\u001b[1;32m    143\u001b[0m         hparams_file,\n\u001b[1;32m    144\u001b[0m         strict,\n\u001b[1;32m    145\u001b[0m         \u001b[39m*\u001b[39;49m\u001b[39m*\u001b[39;49mkwargs,\n\u001b[1;32m    146\u001b[0m     )\n",
      "File \u001b[0;32m~/opt/anaconda3/envs/mofgraph2vec/lib/python3.8/site-packages/pytorch_lightning/core/saving.py:188\u001b[0m, in \u001b[0;36m_load_from_checkpoint\u001b[0;34m(cls, checkpoint_path, map_location, hparams_file, strict, **kwargs)\u001b[0m\n\u001b[1;32m    186\u001b[0m     \u001b[39mreturn\u001b[39;00m _load_state(\u001b[39mcls\u001b[39m, checkpoint, \u001b[39m*\u001b[39m\u001b[39m*\u001b[39mkwargs)\n\u001b[1;32m    187\u001b[0m \u001b[39mif\u001b[39;00m \u001b[39missubclass\u001b[39m(\u001b[39mcls\u001b[39m, pl\u001b[39m.\u001b[39mLightningModule):\n\u001b[0;32m--> 188\u001b[0m     \u001b[39mreturn\u001b[39;00m _load_state(\u001b[39mcls\u001b[39;49m, checkpoint, strict\u001b[39m=\u001b[39;49mstrict, \u001b[39m*\u001b[39;49m\u001b[39m*\u001b[39;49mkwargs)\n\u001b[1;32m    189\u001b[0m \u001b[39mraise\u001b[39;00m \u001b[39mNotImplementedError\u001b[39;00m(\u001b[39mf\u001b[39m\u001b[39m\"\u001b[39m\u001b[39mUnsupported \u001b[39m\u001b[39m{\u001b[39;00m\u001b[39mcls\u001b[39m\u001b[39m}\u001b[39;00m\u001b[39m\"\u001b[39m)\n",
      "File \u001b[0;32m~/opt/anaconda3/envs/mofgraph2vec/lib/python3.8/site-packages/pytorch_lightning/core/saving.py:234\u001b[0m, in \u001b[0;36m_load_state\u001b[0;34m(cls, checkpoint, strict, **cls_kwargs_new)\u001b[0m\n\u001b[1;32m    230\u001b[0m \u001b[39mif\u001b[39;00m \u001b[39mnot\u001b[39;00m cls_spec\u001b[39m.\u001b[39mvarkw:\n\u001b[1;32m    231\u001b[0m     \u001b[39m# filter kwargs according to class init unless it allows any argument via kwargs\u001b[39;00m\n\u001b[1;32m    232\u001b[0m     _cls_kwargs \u001b[39m=\u001b[39m {k: v \u001b[39mfor\u001b[39;00m k, v \u001b[39min\u001b[39;00m _cls_kwargs\u001b[39m.\u001b[39mitems() \u001b[39mif\u001b[39;00m k \u001b[39min\u001b[39;00m cls_init_args_name}\n\u001b[0;32m--> 234\u001b[0m obj \u001b[39m=\u001b[39m \u001b[39mcls\u001b[39;49m(\u001b[39m*\u001b[39;49m\u001b[39m*\u001b[39;49m_cls_kwargs)\n\u001b[1;32m    236\u001b[0m \u001b[39mif\u001b[39;00m \u001b[39misinstance\u001b[39m(obj, pl\u001b[39m.\u001b[39mLightningModule):\n\u001b[1;32m    237\u001b[0m     \u001b[39m# give model a chance to load something\u001b[39;00m\n\u001b[1;32m    238\u001b[0m     obj\u001b[39m.\u001b[39mon_load_checkpoint(checkpoint)\n",
      "\u001b[0;31mTypeError\u001b[0m: __init__() missing 1 required positional argument: 'model'"
     ]
    }
   ],
   "source": [
    "pl_model.load_from_checkpoint(\"../experiments/supervised/lightning_logs/version_0/checkpoints/epoch=99-step=4200.ckpt\")"
   ]
  },
  {
   "cell_type": "code",
   "execution_count": 29,
   "metadata": {},
   "outputs": [
    {
     "data": {
      "text/plain": [
       "VecModel(\n",
       "  (embedding): Linear(in_features=53, out_features=128, bias=True)\n",
       "  (convs): ModuleList(\n",
       "    (0): Linear(in_features=128, out_features=128, bias=True)\n",
       "    (1): Linear(in_features=128, out_features=128, bias=True)\n",
       "    (2): Linear(in_features=128, out_features=128, bias=True)\n",
       "    (3): Linear(in_features=128, out_features=128, bias=True)\n",
       "    (4): Linear(in_features=128, out_features=128, bias=True)\n",
       "  )\n",
       "  (activation): ReLU()\n",
       "  (output): Linear(in_features=128, out_features=1, bias=True)\n",
       ")"
      ]
     },
     "execution_count": 29,
     "metadata": {},
     "output_type": "execute_result"
    }
   ],
   "source": [
    "my_model.model"
   ]
  },
  {
   "cell_type": "code",
   "execution_count": 5,
   "metadata": {},
   "outputs": [],
   "source": [
    "state_dict = torch.load(\"../experiments/supervised/lightning_logs/version_0/checkpoints/epoch=99-step=4200.ckpt\")"
   ]
  },
  {
   "cell_type": "code",
   "execution_count": 8,
   "metadata": {},
   "outputs": [
    {
     "data": {
      "text/plain": [
       "torch.Size([128, 53])"
      ]
     },
     "execution_count": 8,
     "metadata": {},
     "output_type": "execute_result"
    }
   ],
   "source": [
    "state_dict[\"state_dict\"]['model.embedding.weight'].shape"
   ]
  },
  {
   "cell_type": "code",
   "execution_count": null,
   "metadata": {},
   "outputs": [],
   "source": []
  }
 ],
 "metadata": {
  "kernelspec": {
   "display_name": "mofgraph2vec",
   "language": "python",
   "name": "python3"
  },
  "language_info": {
   "codemirror_mode": {
    "name": "ipython",
    "version": 3
   },
   "file_extension": ".py",
   "mimetype": "text/x-python",
   "name": "python",
   "nbconvert_exporter": "python",
   "pygments_lexer": "ipython3",
   "version": "3.8.16"
  },
  "orig_nbformat": 4,
  "vscode": {
   "interpreter": {
    "hash": "368a83da866b9402d886ea1b61fd69704c8f3d8a9de7c33a5da24e5026c853b5"
   }
  }
 },
 "nbformat": 4,
 "nbformat_minor": 2
}
