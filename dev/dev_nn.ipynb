{
 "cells": [
  {
   "cell_type": "code",
   "execution_count": 1,
   "metadata": {},
   "outputs": [],
   "source": [
    "%load_ext autoreload\n",
    "%autoreload 2"
   ]
  },
  {
   "cell_type": "code",
   "execution_count": 2,
   "metadata": {},
   "outputs": [],
   "source": [
    "import pandas as pd\n",
    "import numpy as np\n",
    "import os\n",
    "import torch\n",
    "from omegaconf import OmegaConf\n",
    "from sklearn.model_selection import train_test_split\n",
    "import matplotlib.pyplot  as plt\n",
    "from hydra.utils import instantiate\n",
    "from mofgraph2vec.data.datamodule import DataModuleFactory"
   ]
  },
  {
   "cell_type": "code",
   "execution_count": 3,
   "metadata": {},
   "outputs": [],
   "source": [
    "conf_doc2label_data = OmegaConf.load(\"../conf/doc2label_data/rsm.yaml\")\n",
    "conf_doc2label_data.label_path = \"../data/data.csv\"\n",
    "conf_doc2label_data.embedding_path = \"../data/embedding_example/embedding-dv.csv\""
   ]
  },
  {
   "cell_type": "code",
   "execution_count": 11,
   "metadata": {},
   "outputs": [],
   "source": [
    "conf_doc2label_data.batch_size = 128"
   ]
  },
  {
   "cell_type": "code",
   "execution_count": 4,
   "metadata": {},
   "outputs": [
    {
     "name": "stderr",
     "output_type": "stream",
     "text": [
      "2023-03-09 12:47:14.215 | INFO     | mofgraph2vec.data.datamodule:__init__:65 - Train: 2637 Valid: 294 Test: 326\n"
     ]
    }
   ],
   "source": [
    "dmf = DataModuleFactory(**conf_doc2label_data)"
   ]
  },
  {
   "cell_type": "code",
   "execution_count": 5,
   "metadata": {},
   "outputs": [],
   "source": [
    "dm = dmf.get_datamodule()"
   ]
  },
  {
   "cell_type": "code",
   "execution_count": 6,
   "metadata": {},
   "outputs": [],
   "source": [
    "from mofgraph2vec.model.vecnn import VecModel\n",
    "from mofgraph2vec.model.nn_lightning import VecLightningModule"
   ]
  },
  {
   "cell_type": "code",
   "execution_count": 7,
   "metadata": {},
   "outputs": [],
   "source": [
    "model_conf = OmegaConf.load(\"../conf/doc2label_model/deep.yaml\")\n",
    "trainer_conf = OmegaConf.load(\"../conf/trainer/default.yaml\")\n",
    "model_conf.nn.input_dim = 500\n",
    "trainer_conf.max_epochs = 10"
   ]
  },
  {
   "cell_type": "code",
   "execution_count": 13,
   "metadata": {},
   "outputs": [],
   "source": [
    "model_conf.nn.fcnn_hidden_size = 128"
   ]
  },
  {
   "cell_type": "code",
   "execution_count": 14,
   "metadata": {},
   "outputs": [
    {
     "name": "stderr",
     "output_type": "stream",
     "text": [
      "/Users/xiaoqi/opt/anaconda3/envs/mofgraph2vec/lib/python3.8/site-packages/pytorch_lightning/utilities/parsing.py:262: UserWarning: Attribute 'model' is an instance of `nn.Module` and is already saved during checkpointing. It is recommended to ignore them using `self.save_hyperparameters(ignore=['model'])`.\n",
      "  rank_zero_warn(\n",
      "GPU available: False, used: False\n",
      "TPU available: False, using: 0 TPU cores\n",
      "IPU available: False, using: 0 IPUs\n",
      "HPU available: False, using: 0 HPUs\n",
      "/Users/xiaoqi/opt/anaconda3/envs/mofgraph2vec/lib/python3.8/site-packages/pytorch_lightning/trainer/connectors/logger_connector/logger_connector.py:67: UserWarning: Starting from v1.9.0, `tensorboardX` has been removed as a dependency of the `pytorch_lightning` package, due to potential conflicts with other packages in the ML ecosystem. For this reason, `logger=True` will use `CSVLogger` as the default logger, unless the `tensorboard` or `tensorboardX` packages are found. Please `pip install lightning[extra]` or one of them to enable TensorBoard support by default\n",
      "  warning_cache.warn(\n"
     ]
    }
   ],
   "source": [
    "pl_model = VecLightningModule(instantiate(model_conf.nn), \"mse\", 1e-4)\n",
    "trainer = instantiate(trainer_conf)"
   ]
  },
  {
   "cell_type": "code",
   "execution_count": 15,
   "metadata": {},
   "outputs": [
    {
     "name": "stderr",
     "output_type": "stream",
     "text": [
      "/Users/xiaoqi/opt/anaconda3/envs/mofgraph2vec/lib/python3.8/site-packages/pytorch_lightning/trainer/connectors/data_connector.py:224: PossibleUserWarning: The dataloader, train_dataloader, does not have many workers which may be a bottleneck. Consider increasing the value of the `num_workers` argument` (try 8 which is the number of cpus on this machine) in the `DataLoader` init to improve performance.\n",
      "  rank_zero_warn(\n",
      "/Users/xiaoqi/opt/anaconda3/envs/mofgraph2vec/lib/python3.8/site-packages/pytorch_lightning/trainer/trainer.py:1600: PossibleUserWarning: The number of training batches (6) is smaller than the logging interval Trainer(log_every_n_steps=50). Set a lower value for log_every_n_steps if you want to see logs for the training epoch.\n",
      "  rank_zero_warn(\n",
      "/Users/xiaoqi/opt/anaconda3/envs/mofgraph2vec/lib/python3.8/site-packages/pytorch_lightning/trainer/connectors/data_connector.py:224: PossibleUserWarning: The dataloader, val_dataloader 0, does not have many workers which may be a bottleneck. Consider increasing the value of the `num_workers` argument` (try 8 which is the number of cpus on this machine) in the `DataLoader` init to improve performance.\n",
      "  rank_zero_warn(\n"
     ]
    },
    {
     "data": {
      "application/vnd.jupyter.widget-view+json": {
       "model_id": "849d9f6bd18d4af8b52aea9055e0a64f",
       "version_major": 2,
       "version_minor": 0
      },
      "text/plain": [
       "Finding best initial lr:   0%|          | 0/100 [00:00<?, ?it/s]"
      ]
     },
     "metadata": {},
     "output_type": "display_data"
    },
    {
     "name": "stderr",
     "output_type": "stream",
     "text": [
      "`Trainer.fit` stopped: `max_epochs=10` reached.\n",
      "LR finder stopped early after 60 steps due to diverging loss.\n",
      "Learning rate set to 0.0002089296130854041\n",
      "Restoring states from the checkpoint path at /Users/xiaoqi/Documents/projects/proj_unsupervisedML/codes/mofgraph2vec/dev/.lr_find_b6c6465b-621e-4b72-9d29-a40643453d5e.ckpt\n",
      "Restored all states from the checkpoint file at /Users/xiaoqi/Documents/projects/proj_unsupervisedML/codes/mofgraph2vec/dev/.lr_find_b6c6465b-621e-4b72-9d29-a40643453d5e.ckpt\n"
     ]
    },
    {
     "data": {
      "text/plain": [
       "{'lr_find': <pytorch_lightning.tuner.lr_finder._LRFinder at 0x7f8789b54220>}"
      ]
     },
     "execution_count": 15,
     "metadata": {},
     "output_type": "execute_result"
    }
   ],
   "source": [
    "trainer.tune(pl_model, datamodule=dm)"
   ]
  },
  {
   "cell_type": "code",
   "execution_count": 16,
   "metadata": {},
   "outputs": [
    {
     "name": "stderr",
     "output_type": "stream",
     "text": [
      "\n",
      "  | Name    | Type     | Params\n",
      "-------------------------------------\n",
      "0 | model   | VecModel | 397 K \n",
      "1 | loss    | MSELoss  | 0     \n",
      "2 | dropout | Dropout  | 0     \n",
      "-------------------------------------\n",
      "397 K     Trainable params\n",
      "0         Non-trainable params\n",
      "397 K     Total params\n",
      "1.589     Total estimated model params size (MB)\n"
     ]
    },
    {
     "data": {
      "application/vnd.jupyter.widget-view+json": {
       "model_id": "e36593a4505840dc9068888d572f5e77",
       "version_major": 2,
       "version_minor": 0
      },
      "text/plain": [
       "Sanity Checking: 0it [00:00, ?it/s]"
      ]
     },
     "metadata": {},
     "output_type": "display_data"
    },
    {
     "data": {
      "application/vnd.jupyter.widget-view+json": {
       "model_id": "986d06b1e3aa4df39d719627d3895129",
       "version_major": 2,
       "version_minor": 0
      },
      "text/plain": [
       "Training: 0it [00:00, ?it/s]"
      ]
     },
     "metadata": {},
     "output_type": "display_data"
    },
    {
     "data": {
      "application/vnd.jupyter.widget-view+json": {
       "model_id": "8e953fd1814a491c93a244483b9fb653",
       "version_major": 2,
       "version_minor": 0
      },
      "text/plain": [
       "Validation: 0it [00:00, ?it/s]"
      ]
     },
     "metadata": {},
     "output_type": "display_data"
    },
    {
     "data": {
      "application/vnd.jupyter.widget-view+json": {
       "model_id": "e323ec14e2934eb480c3a3e269be1f28",
       "version_major": 2,
       "version_minor": 0
      },
      "text/plain": [
       "Validation: 0it [00:00, ?it/s]"
      ]
     },
     "metadata": {},
     "output_type": "display_data"
    },
    {
     "data": {
      "application/vnd.jupyter.widget-view+json": {
       "model_id": "bec07bf3aea34b639c5e564b3bd2277b",
       "version_major": 2,
       "version_minor": 0
      },
      "text/plain": [
       "Validation: 0it [00:00, ?it/s]"
      ]
     },
     "metadata": {},
     "output_type": "display_data"
    },
    {
     "data": {
      "application/vnd.jupyter.widget-view+json": {
       "model_id": "b9f40208e1084d5ea182dc6d5432ca4b",
       "version_major": 2,
       "version_minor": 0
      },
      "text/plain": [
       "Validation: 0it [00:00, ?it/s]"
      ]
     },
     "metadata": {},
     "output_type": "display_data"
    },
    {
     "data": {
      "application/vnd.jupyter.widget-view+json": {
       "model_id": "a089f3a6427d4ebc8858de030f905ec2",
       "version_major": 2,
       "version_minor": 0
      },
      "text/plain": [
       "Validation: 0it [00:00, ?it/s]"
      ]
     },
     "metadata": {},
     "output_type": "display_data"
    },
    {
     "data": {
      "application/vnd.jupyter.widget-view+json": {
       "model_id": "046b3b4a7ac54e7399a76075a14aa3d7",
       "version_major": 2,
       "version_minor": 0
      },
      "text/plain": [
       "Validation: 0it [00:00, ?it/s]"
      ]
     },
     "metadata": {},
     "output_type": "display_data"
    },
    {
     "data": {
      "application/vnd.jupyter.widget-view+json": {
       "model_id": "875a9e1830704671986cff69b3ab1dab",
       "version_major": 2,
       "version_minor": 0
      },
      "text/plain": [
       "Validation: 0it [00:00, ?it/s]"
      ]
     },
     "metadata": {},
     "output_type": "display_data"
    },
    {
     "data": {
      "application/vnd.jupyter.widget-view+json": {
       "model_id": "2a00a6729a414501acd0980d44f3636f",
       "version_major": 2,
       "version_minor": 0
      },
      "text/plain": [
       "Validation: 0it [00:00, ?it/s]"
      ]
     },
     "metadata": {},
     "output_type": "display_data"
    },
    {
     "data": {
      "application/vnd.jupyter.widget-view+json": {
       "model_id": "9fe48329d5634d90a3db699685d51884",
       "version_major": 2,
       "version_minor": 0
      },
      "text/plain": [
       "Validation: 0it [00:00, ?it/s]"
      ]
     },
     "metadata": {},
     "output_type": "display_data"
    },
    {
     "data": {
      "application/vnd.jupyter.widget-view+json": {
       "model_id": "95cdd36e5ebb49a48d44ee04b91164b9",
       "version_major": 2,
       "version_minor": 0
      },
      "text/plain": [
       "Validation: 0it [00:00, ?it/s]"
      ]
     },
     "metadata": {},
     "output_type": "display_data"
    },
    {
     "name": "stderr",
     "output_type": "stream",
     "text": [
      "`Trainer.fit` stopped: `max_epochs=10` reached.\n"
     ]
    }
   ],
   "source": [
    "trainer.fit(pl_model, datamodule=dm)"
   ]
  },
  {
   "attachments": {},
   "cell_type": "markdown",
   "metadata": {},
   "source": [
    "## Evaluate model performance"
   ]
  },
  {
   "cell_type": "code",
   "execution_count": null,
   "metadata": {},
   "outputs": [],
   "source": [
    "predictions = trainer.predict(loaded_model, dataloaders=dm.test_dataloader())"
   ]
  },
  {
   "cell_type": "code",
   "execution_count": null,
   "metadata": {},
   "outputs": [],
   "source": [
    "true, pred = predictions[0][0], predictions[0][1]"
   ]
  },
  {
   "cell_type": "code",
   "execution_count": null,
   "metadata": {},
   "outputs": [],
   "source": [
    "true = np.concatenate([pred[0].view(-1).numpy() for pred in predictions])\n",
    "pred = np.concatenate([pred[1].view(-1).numpy() for pred in predictions])"
   ]
  },
  {
   "cell_type": "code",
   "execution_count": null,
   "metadata": {},
   "outputs": [],
   "source": [
    "test_values = pd.DataFrame(np.vstack((true, pred)).T, columns=[\"True\", \"Pred\"])"
   ]
  },
  {
   "cell_type": "code",
   "execution_count": null,
   "metadata": {},
   "outputs": [],
   "source": [
    "test_values"
   ]
  },
  {
   "cell_type": "code",
   "execution_count": null,
   "metadata": {},
   "outputs": [],
   "source": [
    "plt.scatter(true, pred) #, yerr=pred_std.reshape(-1,))"
   ]
  },
  {
   "attachments": {},
   "cell_type": "markdown",
   "metadata": {},
   "source": [
    "# Get embedding"
   ]
  },
  {
   "cell_type": "code",
   "execution_count": null,
   "metadata": {},
   "outputs": [],
   "source": [
    "loaded_model = VecLightningModule.load_from_checkpoint(\"lightning_logs/version_6/checkpoints/epoch=49-step=2100.ckpt\")"
   ]
  },
  {
   "cell_type": "code",
   "execution_count": null,
   "metadata": {},
   "outputs": [],
   "source": [
    "pl_model.model.eval()\n",
    "params = pl_model.model.parameters()"
   ]
  },
  {
   "cell_type": "code",
   "execution_count": null,
   "metadata": {},
   "outputs": [],
   "source": [
    "pl_model.model.embedding.weight"
   ]
  },
  {
   "cell_type": "code",
   "execution_count": 26,
   "metadata": {},
   "outputs": [],
   "source": [
    "df_vector = pd.read_csv(\"../data/embedding_example/embedding-dv.csv\").set_index(\"type\")"
   ]
  },
  {
   "cell_type": "code",
   "execution_count": null,
   "metadata": {},
   "outputs": [],
   "source": [
    "vec = torch.Tensor(df_vector.loc[\"RSM0001\"].values)"
   ]
  },
  {
   "cell_type": "code",
   "execution_count": 21,
   "metadata": {},
   "outputs": [],
   "source": [
    "vec = torch.Tensor(df_vector.values)"
   ]
  },
  {
   "cell_type": "code",
   "execution_count": 22,
   "metadata": {},
   "outputs": [],
   "source": [
    "embedd_vec = pl_model.model.get_embedding(vec).detach().numpy()"
   ]
  },
  {
   "cell_type": "code",
   "execution_count": 23,
   "metadata": {},
   "outputs": [
    {
     "data": {
      "text/plain": [
       "array([[-0.01603144,  0.03246498, -0.04267263, ...,  0.02525965,\n",
       "        -0.04343928,  0.03340538],\n",
       "       [-0.01798633,  0.03400552, -0.04214737, ...,  0.02616085,\n",
       "        -0.04202629,  0.03407082],\n",
       "       [-0.01705399,  0.03398563, -0.04183646, ...,  0.02760736,\n",
       "        -0.04409898,  0.03413099],\n",
       "       ...,\n",
       "       [-0.00518457,  0.03108034, -0.05639659, ...,  0.03510607,\n",
       "        -0.02479803,  0.01728296],\n",
       "       [-0.0029513 ,  0.03223477, -0.0589047 , ...,  0.03730493,\n",
       "        -0.02087384,  0.01599566],\n",
       "       [-0.00556529,  0.0333194 , -0.05741774, ...,  0.03920066,\n",
       "        -0.02470611,  0.01877441]], dtype=float32)"
      ]
     },
     "execution_count": 23,
     "metadata": {},
     "output_type": "execute_result"
    }
   ],
   "source": [
    "embedd_vec"
   ]
  },
  {
   "cell_type": "code",
   "execution_count": 27,
   "metadata": {},
   "outputs": [],
   "source": [
    "df_vector.loc[:] = embedd_vec"
   ]
  },
  {
   "cell_type": "code",
   "execution_count": 28,
   "metadata": {},
   "outputs": [
    {
     "data": {
      "text/html": [
       "<div>\n",
       "<style scoped>\n",
       "    .dataframe tbody tr th:only-of-type {\n",
       "        vertical-align: middle;\n",
       "    }\n",
       "\n",
       "    .dataframe tbody tr th {\n",
       "        vertical-align: top;\n",
       "    }\n",
       "\n",
       "    .dataframe thead th {\n",
       "        text-align: right;\n",
       "    }\n",
       "</style>\n",
       "<table border=\"1\" class=\"dataframe\">\n",
       "  <thead>\n",
       "    <tr style=\"text-align: right;\">\n",
       "      <th></th>\n",
       "      <th>x_0</th>\n",
       "      <th>x_1</th>\n",
       "      <th>x_2</th>\n",
       "      <th>x_3</th>\n",
       "      <th>x_4</th>\n",
       "      <th>x_5</th>\n",
       "      <th>x_6</th>\n",
       "      <th>x_7</th>\n",
       "      <th>x_8</th>\n",
       "      <th>x_9</th>\n",
       "      <th>...</th>\n",
       "      <th>x_490</th>\n",
       "      <th>x_491</th>\n",
       "      <th>x_492</th>\n",
       "      <th>x_493</th>\n",
       "      <th>x_494</th>\n",
       "      <th>x_495</th>\n",
       "      <th>x_496</th>\n",
       "      <th>x_497</th>\n",
       "      <th>x_498</th>\n",
       "      <th>x_499</th>\n",
       "    </tr>\n",
       "    <tr>\n",
       "      <th>type</th>\n",
       "      <th></th>\n",
       "      <th></th>\n",
       "      <th></th>\n",
       "      <th></th>\n",
       "      <th></th>\n",
       "      <th></th>\n",
       "      <th></th>\n",
       "      <th></th>\n",
       "      <th></th>\n",
       "      <th></th>\n",
       "      <th></th>\n",
       "      <th></th>\n",
       "      <th></th>\n",
       "      <th></th>\n",
       "      <th></th>\n",
       "      <th></th>\n",
       "      <th></th>\n",
       "      <th></th>\n",
       "      <th></th>\n",
       "      <th></th>\n",
       "      <th></th>\n",
       "    </tr>\n",
       "  </thead>\n",
       "  <tbody>\n",
       "    <tr>\n",
       "      <th>RSM0001</th>\n",
       "      <td>-0.016031</td>\n",
       "      <td>0.032465</td>\n",
       "      <td>-0.042673</td>\n",
       "      <td>0.021358</td>\n",
       "      <td>0.023141</td>\n",
       "      <td>0.041399</td>\n",
       "      <td>-0.040029</td>\n",
       "      <td>-0.005651</td>\n",
       "      <td>0.024738</td>\n",
       "      <td>0.001733</td>\n",
       "      <td>...</td>\n",
       "      <td>0.026930</td>\n",
       "      <td>0.023326</td>\n",
       "      <td>0.038193</td>\n",
       "      <td>0.032746</td>\n",
       "      <td>0.037504</td>\n",
       "      <td>0.013662</td>\n",
       "      <td>-0.041720</td>\n",
       "      <td>0.025260</td>\n",
       "      <td>-0.043439</td>\n",
       "      <td>0.033405</td>\n",
       "    </tr>\n",
       "    <tr>\n",
       "      <th>RSM0002</th>\n",
       "      <td>-0.017986</td>\n",
       "      <td>0.034006</td>\n",
       "      <td>-0.042147</td>\n",
       "      <td>0.020298</td>\n",
       "      <td>0.023653</td>\n",
       "      <td>0.040903</td>\n",
       "      <td>-0.042310</td>\n",
       "      <td>-0.004479</td>\n",
       "      <td>0.024896</td>\n",
       "      <td>0.001448</td>\n",
       "      <td>...</td>\n",
       "      <td>0.027047</td>\n",
       "      <td>0.023103</td>\n",
       "      <td>0.038152</td>\n",
       "      <td>0.033030</td>\n",
       "      <td>0.037669</td>\n",
       "      <td>0.015868</td>\n",
       "      <td>-0.042211</td>\n",
       "      <td>0.026161</td>\n",
       "      <td>-0.042026</td>\n",
       "      <td>0.034071</td>\n",
       "    </tr>\n",
       "    <tr>\n",
       "      <th>RSM0003</th>\n",
       "      <td>-0.017054</td>\n",
       "      <td>0.033986</td>\n",
       "      <td>-0.041836</td>\n",
       "      <td>0.021678</td>\n",
       "      <td>0.023977</td>\n",
       "      <td>0.040686</td>\n",
       "      <td>-0.041274</td>\n",
       "      <td>-0.004606</td>\n",
       "      <td>0.025003</td>\n",
       "      <td>0.000299</td>\n",
       "      <td>...</td>\n",
       "      <td>0.027920</td>\n",
       "      <td>0.022153</td>\n",
       "      <td>0.037019</td>\n",
       "      <td>0.034716</td>\n",
       "      <td>0.038099</td>\n",
       "      <td>0.015971</td>\n",
       "      <td>-0.042543</td>\n",
       "      <td>0.027607</td>\n",
       "      <td>-0.044099</td>\n",
       "      <td>0.034131</td>\n",
       "    </tr>\n",
       "    <tr>\n",
       "      <th>RSM0004</th>\n",
       "      <td>-0.018209</td>\n",
       "      <td>0.035395</td>\n",
       "      <td>-0.041762</td>\n",
       "      <td>0.021517</td>\n",
       "      <td>0.023583</td>\n",
       "      <td>0.041144</td>\n",
       "      <td>-0.040300</td>\n",
       "      <td>-0.003707</td>\n",
       "      <td>0.024128</td>\n",
       "      <td>0.000745</td>\n",
       "      <td>...</td>\n",
       "      <td>0.026977</td>\n",
       "      <td>0.022528</td>\n",
       "      <td>0.038833</td>\n",
       "      <td>0.033908</td>\n",
       "      <td>0.037926</td>\n",
       "      <td>0.014050</td>\n",
       "      <td>-0.041886</td>\n",
       "      <td>0.026157</td>\n",
       "      <td>-0.043590</td>\n",
       "      <td>0.034471</td>\n",
       "    </tr>\n",
       "    <tr>\n",
       "      <th>RSM0008</th>\n",
       "      <td>-0.018226</td>\n",
       "      <td>0.032405</td>\n",
       "      <td>-0.041137</td>\n",
       "      <td>0.021723</td>\n",
       "      <td>0.024012</td>\n",
       "      <td>0.041460</td>\n",
       "      <td>-0.042055</td>\n",
       "      <td>-0.003147</td>\n",
       "      <td>0.026218</td>\n",
       "      <td>0.001976</td>\n",
       "      <td>...</td>\n",
       "      <td>0.027485</td>\n",
       "      <td>0.021573</td>\n",
       "      <td>0.038718</td>\n",
       "      <td>0.034348</td>\n",
       "      <td>0.037471</td>\n",
       "      <td>0.014976</td>\n",
       "      <td>-0.042204</td>\n",
       "      <td>0.025492</td>\n",
       "      <td>-0.044047</td>\n",
       "      <td>0.034206</td>\n",
       "    </tr>\n",
       "    <tr>\n",
       "      <th>...</th>\n",
       "      <td>...</td>\n",
       "      <td>...</td>\n",
       "      <td>...</td>\n",
       "      <td>...</td>\n",
       "      <td>...</td>\n",
       "      <td>...</td>\n",
       "      <td>...</td>\n",
       "      <td>...</td>\n",
       "      <td>...</td>\n",
       "      <td>...</td>\n",
       "      <td>...</td>\n",
       "      <td>...</td>\n",
       "      <td>...</td>\n",
       "      <td>...</td>\n",
       "      <td>...</td>\n",
       "      <td>...</td>\n",
       "      <td>...</td>\n",
       "      <td>...</td>\n",
       "      <td>...</td>\n",
       "      <td>...</td>\n",
       "      <td>...</td>\n",
       "    </tr>\n",
       "    <tr>\n",
       "      <th>RSM4610</th>\n",
       "      <td>-0.002570</td>\n",
       "      <td>0.033075</td>\n",
       "      <td>-0.057312</td>\n",
       "      <td>0.003924</td>\n",
       "      <td>0.033260</td>\n",
       "      <td>0.041043</td>\n",
       "      <td>-0.038707</td>\n",
       "      <td>-0.020604</td>\n",
       "      <td>-0.000530</td>\n",
       "      <td>-0.003665</td>\n",
       "      <td>...</td>\n",
       "      <td>0.043199</td>\n",
       "      <td>0.055154</td>\n",
       "      <td>0.056118</td>\n",
       "      <td>0.031725</td>\n",
       "      <td>0.036038</td>\n",
       "      <td>0.021569</td>\n",
       "      <td>-0.047047</td>\n",
       "      <td>0.036226</td>\n",
       "      <td>-0.023646</td>\n",
       "      <td>0.017361</td>\n",
       "    </tr>\n",
       "    <tr>\n",
       "      <th>RSM4613</th>\n",
       "      <td>-0.006229</td>\n",
       "      <td>0.033719</td>\n",
       "      <td>-0.057503</td>\n",
       "      <td>0.004687</td>\n",
       "      <td>0.032060</td>\n",
       "      <td>0.042331</td>\n",
       "      <td>-0.037497</td>\n",
       "      <td>-0.017881</td>\n",
       "      <td>0.004593</td>\n",
       "      <td>-0.002356</td>\n",
       "      <td>...</td>\n",
       "      <td>0.039427</td>\n",
       "      <td>0.052705</td>\n",
       "      <td>0.052647</td>\n",
       "      <td>0.032822</td>\n",
       "      <td>0.035933</td>\n",
       "      <td>0.019391</td>\n",
       "      <td>-0.047259</td>\n",
       "      <td>0.034744</td>\n",
       "      <td>-0.024674</td>\n",
       "      <td>0.019017</td>\n",
       "    </tr>\n",
       "    <tr>\n",
       "      <th>RSM4614</th>\n",
       "      <td>-0.005185</td>\n",
       "      <td>0.031080</td>\n",
       "      <td>-0.056397</td>\n",
       "      <td>0.003268</td>\n",
       "      <td>0.036029</td>\n",
       "      <td>0.041050</td>\n",
       "      <td>-0.037617</td>\n",
       "      <td>-0.017309</td>\n",
       "      <td>0.004579</td>\n",
       "      <td>-0.001490</td>\n",
       "      <td>...</td>\n",
       "      <td>0.042471</td>\n",
       "      <td>0.053350</td>\n",
       "      <td>0.052551</td>\n",
       "      <td>0.033067</td>\n",
       "      <td>0.037639</td>\n",
       "      <td>0.021191</td>\n",
       "      <td>-0.046958</td>\n",
       "      <td>0.035106</td>\n",
       "      <td>-0.024798</td>\n",
       "      <td>0.017283</td>\n",
       "    </tr>\n",
       "    <tr>\n",
       "      <th>RSM4615</th>\n",
       "      <td>-0.002951</td>\n",
       "      <td>0.032235</td>\n",
       "      <td>-0.058905</td>\n",
       "      <td>-0.000270</td>\n",
       "      <td>0.034280</td>\n",
       "      <td>0.040884</td>\n",
       "      <td>-0.038526</td>\n",
       "      <td>-0.022505</td>\n",
       "      <td>0.000084</td>\n",
       "      <td>-0.002260</td>\n",
       "      <td>...</td>\n",
       "      <td>0.043439</td>\n",
       "      <td>0.061447</td>\n",
       "      <td>0.056925</td>\n",
       "      <td>0.034486</td>\n",
       "      <td>0.038516</td>\n",
       "      <td>0.019302</td>\n",
       "      <td>-0.044983</td>\n",
       "      <td>0.037305</td>\n",
       "      <td>-0.020874</td>\n",
       "      <td>0.015996</td>\n",
       "    </tr>\n",
       "    <tr>\n",
       "      <th>RSM4616</th>\n",
       "      <td>-0.005565</td>\n",
       "      <td>0.033319</td>\n",
       "      <td>-0.057418</td>\n",
       "      <td>0.001475</td>\n",
       "      <td>0.033317</td>\n",
       "      <td>0.040642</td>\n",
       "      <td>-0.039756</td>\n",
       "      <td>-0.019837</td>\n",
       "      <td>0.002397</td>\n",
       "      <td>-0.002531</td>\n",
       "      <td>...</td>\n",
       "      <td>0.042379</td>\n",
       "      <td>0.054461</td>\n",
       "      <td>0.054351</td>\n",
       "      <td>0.034242</td>\n",
       "      <td>0.037295</td>\n",
       "      <td>0.022268</td>\n",
       "      <td>-0.045442</td>\n",
       "      <td>0.039201</td>\n",
       "      <td>-0.024706</td>\n",
       "      <td>0.018774</td>\n",
       "    </tr>\n",
       "  </tbody>\n",
       "</table>\n",
       "<p>3257 rows × 500 columns</p>\n",
       "</div>"
      ],
      "text/plain": [
       "              x_0       x_1       x_2       x_3       x_4       x_5       x_6  \\\n",
       "type                                                                            \n",
       "RSM0001 -0.016031  0.032465 -0.042673  0.021358  0.023141  0.041399 -0.040029   \n",
       "RSM0002 -0.017986  0.034006 -0.042147  0.020298  0.023653  0.040903 -0.042310   \n",
       "RSM0003 -0.017054  0.033986 -0.041836  0.021678  0.023977  0.040686 -0.041274   \n",
       "RSM0004 -0.018209  0.035395 -0.041762  0.021517  0.023583  0.041144 -0.040300   \n",
       "RSM0008 -0.018226  0.032405 -0.041137  0.021723  0.024012  0.041460 -0.042055   \n",
       "...           ...       ...       ...       ...       ...       ...       ...   \n",
       "RSM4610 -0.002570  0.033075 -0.057312  0.003924  0.033260  0.041043 -0.038707   \n",
       "RSM4613 -0.006229  0.033719 -0.057503  0.004687  0.032060  0.042331 -0.037497   \n",
       "RSM4614 -0.005185  0.031080 -0.056397  0.003268  0.036029  0.041050 -0.037617   \n",
       "RSM4615 -0.002951  0.032235 -0.058905 -0.000270  0.034280  0.040884 -0.038526   \n",
       "RSM4616 -0.005565  0.033319 -0.057418  0.001475  0.033317  0.040642 -0.039756   \n",
       "\n",
       "              x_7       x_8       x_9  ...     x_490     x_491     x_492  \\\n",
       "type                                   ...                                 \n",
       "RSM0001 -0.005651  0.024738  0.001733  ...  0.026930  0.023326  0.038193   \n",
       "RSM0002 -0.004479  0.024896  0.001448  ...  0.027047  0.023103  0.038152   \n",
       "RSM0003 -0.004606  0.025003  0.000299  ...  0.027920  0.022153  0.037019   \n",
       "RSM0004 -0.003707  0.024128  0.000745  ...  0.026977  0.022528  0.038833   \n",
       "RSM0008 -0.003147  0.026218  0.001976  ...  0.027485  0.021573  0.038718   \n",
       "...           ...       ...       ...  ...       ...       ...       ...   \n",
       "RSM4610 -0.020604 -0.000530 -0.003665  ...  0.043199  0.055154  0.056118   \n",
       "RSM4613 -0.017881  0.004593 -0.002356  ...  0.039427  0.052705  0.052647   \n",
       "RSM4614 -0.017309  0.004579 -0.001490  ...  0.042471  0.053350  0.052551   \n",
       "RSM4615 -0.022505  0.000084 -0.002260  ...  0.043439  0.061447  0.056925   \n",
       "RSM4616 -0.019837  0.002397 -0.002531  ...  0.042379  0.054461  0.054351   \n",
       "\n",
       "            x_493     x_494     x_495     x_496     x_497     x_498     x_499  \n",
       "type                                                                           \n",
       "RSM0001  0.032746  0.037504  0.013662 -0.041720  0.025260 -0.043439  0.033405  \n",
       "RSM0002  0.033030  0.037669  0.015868 -0.042211  0.026161 -0.042026  0.034071  \n",
       "RSM0003  0.034716  0.038099  0.015971 -0.042543  0.027607 -0.044099  0.034131  \n",
       "RSM0004  0.033908  0.037926  0.014050 -0.041886  0.026157 -0.043590  0.034471  \n",
       "RSM0008  0.034348  0.037471  0.014976 -0.042204  0.025492 -0.044047  0.034206  \n",
       "...           ...       ...       ...       ...       ...       ...       ...  \n",
       "RSM4610  0.031725  0.036038  0.021569 -0.047047  0.036226 -0.023646  0.017361  \n",
       "RSM4613  0.032822  0.035933  0.019391 -0.047259  0.034744 -0.024674  0.019017  \n",
       "RSM4614  0.033067  0.037639  0.021191 -0.046958  0.035106 -0.024798  0.017283  \n",
       "RSM4615  0.034486  0.038516  0.019302 -0.044983  0.037305 -0.020874  0.015996  \n",
       "RSM4616  0.034242  0.037295  0.022268 -0.045442  0.039201 -0.024706  0.018774  \n",
       "\n",
       "[3257 rows x 500 columns]"
      ]
     },
     "execution_count": 28,
     "metadata": {},
     "output_type": "execute_result"
    }
   ],
   "source": [
    "df_vector"
   ]
  },
  {
   "cell_type": "code",
   "execution_count": null,
   "metadata": {},
   "outputs": [],
   "source": []
  }
 ],
 "metadata": {
  "kernelspec": {
   "display_name": "mofgraph2vec",
   "language": "python",
   "name": "python3"
  },
  "language_info": {
   "codemirror_mode": {
    "name": "ipython",
    "version": 3
   },
   "file_extension": ".py",
   "mimetype": "text/x-python",
   "name": "python",
   "nbconvert_exporter": "python",
   "pygments_lexer": "ipython3",
   "version": "3.8.16"
  },
  "orig_nbformat": 4,
  "vscode": {
   "interpreter": {
    "hash": "368a83da866b9402d886ea1b61fd69704c8f3d8a9de7c33a5da24e5026c853b5"
   }
  }
 },
 "nbformat": 4,
 "nbformat_minor": 2
}
