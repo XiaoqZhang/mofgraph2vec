{
 "cells": [
  {
   "cell_type": "code",
   "execution_count": 1,
   "metadata": {},
   "outputs": [],
   "source": [
    "%load_ext autoreload\n",
    "%autoreload 2"
   ]
  },
  {
   "cell_type": "code",
   "execution_count": 2,
   "metadata": {},
   "outputs": [],
   "source": [
    "import pandas as pd\n",
    "import numpy as np\n",
    "import os\n",
    "import torch\n",
    "from omegaconf import OmegaConf\n",
    "from sklearn.model_selection import train_test_split\n",
    "import matplotlib.pyplot  as plt\n",
    "from hydra.utils import instantiate\n",
    "from mofgraph2vec.data.datamodule import DataModuleFactory"
   ]
  },
  {
   "cell_type": "code",
   "execution_count": 3,
   "metadata": {},
   "outputs": [],
   "source": [
    "conf_doc2label_data = OmegaConf.load(\"../conf/doc2label_data/rsm.yaml\")\n",
    "conf_doc2label_data.label_path = \"../data/data.csv\"\n",
    "conf_doc2label_data.embedding_path = \"../data/embedding_example/embedding-dv.csv\""
   ]
  },
  {
   "cell_type": "code",
   "execution_count": 11,
   "metadata": {},
   "outputs": [],
   "source": [
    "conf_doc2label_data.batch_size = 128"
   ]
  },
  {
   "cell_type": "code",
   "execution_count": 4,
   "metadata": {},
   "outputs": [
    {
     "name": "stderr",
     "output_type": "stream",
     "text": [
      "2023-03-09 12:47:14.215 | INFO     | mofgraph2vec.data.datamodule:__init__:65 - Train: 2637 Valid: 294 Test: 326\n"
     ]
    }
   ],
   "source": [
    "dmf = DataModuleFactory(**conf_doc2label_data)"
   ]
  },
  {
   "cell_type": "code",
   "execution_count": 5,
   "metadata": {},
   "outputs": [],
   "source": [
    "dm = dmf.get_datamodule()"
   ]
  },
  {
   "cell_type": "code",
   "execution_count": 6,
   "metadata": {},
   "outputs": [],
   "source": [
    "from mofgraph2vec.model.vecnn import VecModel\n",
    "from mofgraph2vec.model.nn_lightning import VecLightningModule"
   ]
  },
  {
   "cell_type": "code",
   "execution_count": 7,
   "metadata": {},
   "outputs": [],
   "source": [
    "model_conf = OmegaConf.load(\"../conf/doc2label_model/deep.yaml\")\n",
    "trainer_conf = OmegaConf.load(\"../conf/trainer/default.yaml\")\n",
    "model_conf.nn.input_dim = 500\n",
    "trainer_conf.max_epochs = 10"
   ]
  },
  {
   "cell_type": "code",
   "execution_count": 13,
   "metadata": {},
   "outputs": [],
   "source": [
    "model_conf.nn.fcnn_hidden_size = 128"
   ]
  },
  {
   "cell_type": "code",
   "execution_count": 14,
   "metadata": {},
   "outputs": [
    {
     "name": "stderr",
     "output_type": "stream",
     "text": [
      "/Users/xiaoqi/opt/anaconda3/envs/mofgraph2vec/lib/python3.8/site-packages/pytorch_lightning/utilities/parsing.py:262: UserWarning: Attribute 'model' is an instance of `nn.Module` and is already saved during checkpointing. It is recommended to ignore them using `self.save_hyperparameters(ignore=['model'])`.\n",
      "  rank_zero_warn(\n",
      "GPU available: False, used: False\n",
      "TPU available: False, using: 0 TPU cores\n",
      "IPU available: False, using: 0 IPUs\n",
      "HPU available: False, using: 0 HPUs\n",
      "/Users/xiaoqi/opt/anaconda3/envs/mofgraph2vec/lib/python3.8/site-packages/pytorch_lightning/trainer/connectors/logger_connector/logger_connector.py:67: UserWarning: Starting from v1.9.0, `tensorboardX` has been removed as a dependency of the `pytorch_lightning` package, due to potential conflicts with other packages in the ML ecosystem. For this reason, `logger=True` will use `CSVLogger` as the default logger, unless the `tensorboard` or `tensorboardX` packages are found. Please `pip install lightning[extra]` or one of them to enable TensorBoard support by default\n",
      "  warning_cache.warn(\n"
     ]
    }
   ],
   "source": [
    "pl_model = VecLightningModule(instantiate(model_conf.nn), \"mse\", 1e-4)\n",
    "trainer = instantiate(trainer_conf)"
   ]
  },
  {
   "cell_type": "code",
   "execution_count": 15,
   "metadata": {},
   "outputs": [
    {
     "name": "stderr",
     "output_type": "stream",
     "text": [
      "/Users/xiaoqi/opt/anaconda3/envs/mofgraph2vec/lib/python3.8/site-packages/pytorch_lightning/trainer/connectors/data_connector.py:224: PossibleUserWarning: The dataloader, train_dataloader, does not have many workers which may be a bottleneck. Consider increasing the value of the `num_workers` argument` (try 8 which is the number of cpus on this machine) in the `DataLoader` init to improve performance.\n",
      "  rank_zero_warn(\n",
      "/Users/xiaoqi/opt/anaconda3/envs/mofgraph2vec/lib/python3.8/site-packages/pytorch_lightning/trainer/trainer.py:1600: PossibleUserWarning: The number of training batches (6) is smaller than the logging interval Trainer(log_every_n_steps=50). Set a lower value for log_every_n_steps if you want to see logs for the training epoch.\n",
      "  rank_zero_warn(\n",
      "/Users/xiaoqi/opt/anaconda3/envs/mofgraph2vec/lib/python3.8/site-packages/pytorch_lightning/trainer/connectors/data_connector.py:224: PossibleUserWarning: The dataloader, val_dataloader 0, does not have many workers which may be a bottleneck. Consider increasing the value of the `num_workers` argument` (try 8 which is the number of cpus on this machine) in the `DataLoader` init to improve performance.\n",
      "  rank_zero_warn(\n"
     ]
    },
    {
     "data": {
      "application/vnd.jupyter.widget-view+json": {
       "model_id": "849d9f6bd18d4af8b52aea9055e0a64f",
       "version_major": 2,
       "version_minor": 0
      },
      "text/plain": [
       "Finding best initial lr:   0%|          | 0/100 [00:00<?, ?it/s]"
      ]
     },
     "metadata": {},
     "output_type": "display_data"
    },
    {
     "name": "stderr",
     "output_type": "stream",
     "text": [
      "`Trainer.fit` stopped: `max_epochs=10` reached.\n",
      "LR finder stopped early after 60 steps due to diverging loss.\n",
      "Learning rate set to 0.0002089296130854041\n",
      "Restoring states from the checkpoint path at /Users/xiaoqi/Documents/projects/proj_unsupervisedML/codes/mofgraph2vec/dev/.lr_find_b6c6465b-621e-4b72-9d29-a40643453d5e.ckpt\n",
      "Restored all states from the checkpoint file at /Users/xiaoqi/Documents/projects/proj_unsupervisedML/codes/mofgraph2vec/dev/.lr_find_b6c6465b-621e-4b72-9d29-a40643453d5e.ckpt\n"
     ]
    },
    {
     "data": {
      "text/plain": [
       "{'lr_find': <pytorch_lightning.tuner.lr_finder._LRFinder at 0x7f8789b54220>}"
      ]
     },
     "execution_count": 15,
     "metadata": {},
     "output_type": "execute_result"
    }
   ],
   "source": [
    "trainer.tune(pl_model, datamodule=dm)"
   ]
  },
  {
   "cell_type": "code",
   "execution_count": 16,
   "metadata": {},
   "outputs": [
    {
     "name": "stderr",
     "output_type": "stream",
     "text": [
      "\n",
      "  | Name    | Type     | Params\n",
      "-------------------------------------\n",
      "0 | model   | VecModel | 397 K \n",
      "1 | loss    | MSELoss  | 0     \n",
      "2 | dropout | Dropout  | 0     \n",
      "-------------------------------------\n",
      "397 K     Trainable params\n",
      "0         Non-trainable params\n",
      "397 K     Total params\n",
      "1.589     Total estimated model params size (MB)\n"
     ]
    },
    {
     "data": {
      "application/vnd.jupyter.widget-view+json": {
       "model_id": "e36593a4505840dc9068888d572f5e77",
       "version_major": 2,
       "version_minor": 0
      },
      "text/plain": [
       "Sanity Checking: 0it [00:00, ?it/s]"
      ]
     },
     "metadata": {},
     "output_type": "display_data"
    },
    {
     "data": {
      "application/vnd.jupyter.widget-view+json": {
       "model_id": "986d06b1e3aa4df39d719627d3895129",
       "version_major": 2,
       "version_minor": 0
      },
      "text/plain": [
       "Training: 0it [00:00, ?it/s]"
      ]
     },
     "metadata": {},
     "output_type": "display_data"
    },
    {
     "data": {
      "application/vnd.jupyter.widget-view+json": {
       "model_id": "8e953fd1814a491c93a244483b9fb653",
       "version_major": 2,
       "version_minor": 0
      },
      "text/plain": [
       "Validation: 0it [00:00, ?it/s]"
      ]
     },
     "metadata": {},
     "output_type": "display_data"
    },
    {
     "data": {
      "application/vnd.jupyter.widget-view+json": {
       "model_id": "e323ec14e2934eb480c3a3e269be1f28",
       "version_major": 2,
       "version_minor": 0
      },
      "text/plain": [
       "Validation: 0it [00:00, ?it/s]"
      ]
     },
     "metadata": {},
     "output_type": "display_data"
    },
    {
     "data": {
      "application/vnd.jupyter.widget-view+json": {
       "model_id": "bec07bf3aea34b639c5e564b3bd2277b",
       "version_major": 2,
       "version_minor": 0
      },
      "text/plain": [
       "Validation: 0it [00:00, ?it/s]"
      ]
     },
     "metadata": {},
     "output_type": "display_data"
    },
    {
     "data": {
      "application/vnd.jupyter.widget-view+json": {
       "model_id": "b9f40208e1084d5ea182dc6d5432ca4b",
       "version_major": 2,
       "version_minor": 0
      },
      "text/plain": [
       "Validation: 0it [00:00, ?it/s]"
      ]
     },
     "metadata": {},
     "output_type": "display_data"
    },
    {
     "data": {
      "application/vnd.jupyter.widget-view+json": {
       "model_id": "a089f3a6427d4ebc8858de030f905ec2",
       "version_major": 2,
       "version_minor": 0
      },
      "text/plain": [
       "Validation: 0it [00:00, ?it/s]"
      ]
     },
     "metadata": {},
     "output_type": "display_data"
    },
    {
     "data": {
      "application/vnd.jupyter.widget-view+json": {
       "model_id": "046b3b4a7ac54e7399a76075a14aa3d7",
       "version_major": 2,
       "version_minor": 0
      },
      "text/plain": [
       "Validation: 0it [00:00, ?it/s]"
      ]
     },
     "metadata": {},
     "output_type": "display_data"
    },
    {
     "data": {
      "application/vnd.jupyter.widget-view+json": {
       "model_id": "875a9e1830704671986cff69b3ab1dab",
       "version_major": 2,
       "version_minor": 0
      },
      "text/plain": [
       "Validation: 0it [00:00, ?it/s]"
      ]
     },
     "metadata": {},
     "output_type": "display_data"
    },
    {
     "data": {
      "application/vnd.jupyter.widget-view+json": {
       "model_id": "2a00a6729a414501acd0980d44f3636f",
       "version_major": 2,
       "version_minor": 0
      },
      "text/plain": [
       "Validation: 0it [00:00, ?it/s]"
      ]
     },
     "metadata": {},
     "output_type": "display_data"
    },
    {
     "data": {
      "application/vnd.jupyter.widget-view+json": {
       "model_id": "9fe48329d5634d90a3db699685d51884",
       "version_major": 2,
       "version_minor": 0
      },
      "text/plain": [
       "Validation: 0it [00:00, ?it/s]"
      ]
     },
     "metadata": {},
     "output_type": "display_data"
    },
    {
     "data": {
      "application/vnd.jupyter.widget-view+json": {
       "model_id": "95cdd36e5ebb49a48d44ee04b91164b9",
       "version_major": 2,
       "version_minor": 0
      },
      "text/plain": [
       "Validation: 0it [00:00, ?it/s]"
      ]
     },
     "metadata": {},
     "output_type": "display_data"
    },
    {
     "name": "stderr",
     "output_type": "stream",
     "text": [
      "`Trainer.fit` stopped: `max_epochs=10` reached.\n"
     ]
    }
   ],
   "source": [
    "trainer.fit(pl_model, datamodule=dm)"
   ]
  },
  {
   "attachments": {},
   "cell_type": "markdown",
   "metadata": {},
   "source": [
    "## Evaluate model performance"
   ]
  },
  {
   "cell_type": "code",
   "execution_count": null,
   "metadata": {},
   "outputs": [],
   "source": [
    "predictions = trainer.predict(loaded_model, dataloaders=dm.test_dataloader())"
   ]
  },
  {
   "cell_type": "code",
   "execution_count": null,
   "metadata": {},
   "outputs": [],
   "source": [
    "true, pred = predictions[0][0], predictions[0][1]"
   ]
  },
  {
   "cell_type": "code",
   "execution_count": null,
   "metadata": {},
   "outputs": [],
   "source": [
    "true = np.concatenate([pred[0].view(-1).numpy() for pred in predictions])\n",
    "pred = np.concatenate([pred[1].view(-1).numpy() for pred in predictions])"
   ]
  },
  {
   "cell_type": "code",
   "execution_count": null,
   "metadata": {},
   "outputs": [],
   "source": [
    "test_values = pd.DataFrame(np.vstack((true, pred)).T, columns=[\"True\", \"Pred\"])"
   ]
  },
  {
   "cell_type": "code",
   "execution_count": null,
   "metadata": {},
   "outputs": [],
   "source": [
    "test_values"
   ]
  },
  {
   "cell_type": "code",
   "execution_count": null,
   "metadata": {},
   "outputs": [],
   "source": [
    "plt.scatter(true, pred) #, yerr=pred_std.reshape(-1,))"
   ]
  },
  {
   "attachments": {},
   "cell_type": "markdown",
   "metadata": {},
   "source": [
    "# Get embedding"
   ]
  },
  {
   "cell_type": "code",
   "execution_count": null,
   "metadata": {},
   "outputs": [],
   "source": [
    "loaded_model = VecLightningModule.load_from_checkpoint(\"lightning_logs/version_6/checkpoints/epoch=49-step=2100.ckpt\")"
   ]
  },
  {
   "cell_type": "code",
   "execution_count": null,
   "metadata": {},
   "outputs": [],
   "source": [
    "pl_model.model.eval()\n",
    "params = pl_model.model.parameters()"
   ]
  },
  {
   "cell_type": "code",
   "execution_count": null,
   "metadata": {},
   "outputs": [],
   "source": [
    "pl_model.model.embedding.weight"
   ]
  },
  {
   "cell_type": "code",
   "execution_count": 26,
   "metadata": {},
   "outputs": [],
   "source": [
    "df_vector = pd.read_csv(\"../data/embedding_example/embedding-dv.csv\").set_index(\"type\")"
   ]
  },
  {
   "cell_type": "code",
   "execution_count": null,
   "metadata": {},
   "outputs": [],
   "source": [
    "vec = torch.Tensor(df_vector.loc[\"RSM0001\"].values)"
   ]
  },
  {
   "cell_type": "code",
   "execution_count": 21,
   "metadata": {},
   "outputs": [],
   "source": [
    "vec = torch.Tensor(df_vector.values)"
   ]
  },
  {
   "cell_type": "code",
   "execution_count": 22,
   "metadata": {},
   "outputs": [],
   "source": [
    "embedd_vec = pl_model.model.get_embedding(vec).detach().numpy()"
   ]
  },
  {
   "cell_type": "code",
   "execution_count": 23,
   "metadata": {},
   "outputs": [
    {
     "data": {
      "text/plain": [
       "array([[-0.01603144,  0.03246498, -0.04267263, ...,  0.02525965,\n",
       "        -0.04343928,  0.03340538],\n",
       "       [-0.01798633,  0.03400552, -0.04214737, ...,  0.02616085,\n",
       "        -0.04202629,  0.03407082],\n",
       "       [-0.01705399,  0.03398563, -0.04183646, ...,  0.02760736,\n",
       "        -0.04409898,  0.03413099],\n",
       "       ...,\n",
       "       [-0.00518457,  0.03108034, -0.05639659, ...,  0.03510607,\n",
       "        -0.02479803,  0.01728296],\n",
       "       [-0.0029513 ,  0.03223477, -0.0589047 , ...,  0.03730493,\n",
       "        -0.02087384,  0.01599566],\n",
       "       [-0.00556529,  0.0333194 , -0.05741774, ...,  0.03920066,\n",
       "        -0.02470611,  0.01877441]], dtype=float32)"
      ]
     },
     "execution_count": 23,
     "metadata": {},
     "output_type": "execute_result"
    }
   ],
   "source": [
    "embedd_vec"
   ]
  },
  {
   "cell_type": "code",
   "execution_count": 27,
   "metadata": {},
   "outputs": [],
   "source": [
    "df_vector.loc[:] = embedd_vec"
   ]
  },
  {
   "cell_type": "code",
   "execution_count": 28,
   "metadata": {},
   "outputs": [
    {
     "data": {
      "text/html": [
       "<div>\n",
       "<style scoped>\n",
       "    .dataframe tbody tr th:only-of-type {\n",
       "        vertical-align: middle;\n",
       "    }\n",
       "\n",
       "    .dataframe tbody tr th {\n",
       "        vertical-align: top;\n",
       "    }\n",
       "\n",
       "    .dataframe thead th {\n",
       "        text-align: right;\n",
       "    }\n",
       "</style>\n",
       "<table border=\"1\" class=\"dataframe\">\n",
       "  <thead>\n",
       "    <tr style=\"text-align: right;\">\n",
       "      <th></th>\n",
       "      <th>x_0</th>\n",
       "      <th>x_1</th>\n",
       "      <th>x_2</th>\n",
       "      <th>x_3</th>\n",
       "      <th>x_4</th>\n",
       "      <th>x_5</th>\n",
       "      <th>x_6</th>\n",
       "      <th>x_7</th>\n",
       "      <th>x_8</th>\n",
       "      <th>x_9</th>\n",
       "      <th>...</th>\n",
       "      <th>x_490</th>\n",
       "      <th>x_491</th>\n",
       "      <th>x_492</th>\n",
       "      <th>x_493</th>\n",
       "      <th>x_494</th>\n",
       "      <th>x_495</th>\n",
       "      <th>x_496</th>\n",
       "      <th>x_497</th>\n",
       "      <th>x_498</th>\n",
       "      <th>x_499</th>\n",
       "    </tr>\n",
       "    <tr>\n",
       "      <th>type</th>\n",
       "      <th></th>\n",
       "      <th></th>\n",
       "      <th></th>\n",
       "      <th></th>\n",
       "      <th></th>\n",
       "      <th></th>\n",
       "      <th></th>\n",
       "      <th></th>\n",
       "      <th></th>\n",
       "      <th></th>\n",
       "      <th></th>\n",
       "      <th></th>\n",
       "      <th></th>\n",
       "      <th></th>\n",
       "      <th></th>\n",
       "      <th></th>\n",
       "      <th></th>\n",
       "      <th></th>\n",
       "      <th></th>\n",
       "      <th></th>\n",
       "      <th></th>\n",
       "    </tr>\n",
       "  </thead>\n",
       "  <tbody>\n",
       "    <tr>\n",
       "      <th>RSM0001</th>\n",
       "      <td>-0.016031</td>\n",
       "      <td>0.032465</td>\n",
       "      <td>-0.042673</td>\n",
       "      <td>0.021358</td>\n",
       "      <td>0.023141</td>\n",
       "      <td>0.041399</td>\n",
       "      <td>-0.040029</td>\n",
       "      <td>-0.005651</td>\n",
       "      <td>0.024738</td>\n",
       "      <td>0.001733</td>\n",
       "      <td>...</td>\n",
       "      <td>0.026930</td>\n",
       "      <td>0.023326</td>\n",
       "      <td>0.038193</td>\n",
       "      <td>0.032746</td>\n",
       "      <td>0.037504</td>\n",
       "      <td>0.013662</td>\n",
       "      <td>-0.041720</td>\n",
       "      <td>0.025260</td>\n",
       "      <td>-0.043439</td>\n",
       "      <td>0.033405</td>\n",
       "    </tr>\n",
       "    <tr>\n",
       "      <th>RSM0002</th>\n",
       "      <td>-0.017986</td>\n",
       "      <td>0.034006</td>\n",
       "      <td>-0.042147</td>\n",
       "      <td>0.020298</td>\n",
       "      <td>0.023653</td>\n",
       "      <td>0.040903</td>\n",
       "      <td>-0.042310</td>\n",
       "      <td>-0.004479</td>\n",
       "      <td>0.024896</td>\n",
       "      <td>0.001448</td>\n",
       "      <td>...</td>\n",
       "      <td>0.027047</td>\n",
       "      <td>0.023103</td>\n",
       "      <td>0.038152</td>\n",
       "      <td>0.033030</td>\n",
       "      <td>0.037669</td>\n",
       "      <td>0.015868</td>\n",
       "      <td>-0.042211</td>\n",
       "      <td>0.026161</td>\n",
       "      <td>-0.042026</td>\n",
       "      <td>0.034071</td>\n",
       "    </tr>\n",
       "    <tr>\n",
       "      <th>RSM0003</th>\n",
       "      <td>-0.017054</td>\n",
       "      <td>0.033986</td>\n",
       "      <td>-0.041836</td>\n",
       "      <td>0.021678</td>\n",
       "      <td>0.023977</td>\n",
       "      <td>0.040686</td>\n",
       "      <td>-0.041274</td>\n",
       "      <td>-0.004606</td>\n",
       "      <td>0.025003</td>\n",
       "      <td>0.000299</td>\n",
       "      <td>...</td>\n",
       "      <td>0.027920</td>\n",
       "      <td>0.022153</td>\n",
       "      <td>0.037019</td>\n",
       "      <td>0.034716</td>\n",
       "      <td>0.038099</td>\n",
       "      <td>0.015971</td>\n",
       "      <td>-0.042543</td>\n",
       "      <td>0.027607</td>\n",
       "      <td>-0.044099</td>\n",
       "      <td>0.034131</td>\n",
       "    </tr>\n",
       "    <tr>\n",
       "      <th>RSM0004</th>\n",
       "      <td>-0.018209</td>\n",
       "      <td>0.035395</td>\n",
       "      <td>-0.041762</td>\n",
       "      <td>0.021517</td>\n",
       "      <td>0.023583</td>\n",
       "      <td>0.041144</td>\n",
       "      <td>-0.040300</td>\n",
       "      <td>-0.003707</td>\n",
       "      <td>0.024128</td>\n",
       "      <td>0.000745</td>\n",
       "      <td>...</td>\n",
       "      <td>0.026977</td>\n",
       "      <td>0.022528</td>\n",
       "      <td>0.038833</td>\n",
       "      <td>0.033908</td>\n",
       "      <td>0.037926</td>\n",
       "      <td>0.014050</td>\n",
       "      <td>-0.041886</td>\n",
       "      <td>0.026157</td>\n",
       "      <td>-0.043590</td>\n",
       "      <td>0.034471</td>\n",
       "    </tr>\n",
       "    <tr>\n",
       "      <th>RSM0008</th>\n",
       "      <td>-0.018226</td>\n",
       "      <td>0.032405</td>\n",
       "      <td>-0.041137</td>\n",
       "      <td>0.021723</td>\n",
       "      <td>0.024012</td>\n",
       "      <td>0.041460</td>\n",
       "      <td>-0.042055</td>\n",
       "      <td>-0.003147</td>\n",
       "      <td>0.026218</td>\n",
       "      <td>0.001976</td>\n",
       "      <td>...</td>\n",
       "      <td>0.027485</td>\n",
       "      <td>0.021573</td>\n",
       "      <td>0.038718</td>\n",
       "      <td>0.034348</td>\n",
       "      <td>0.037471</td>\n",
       "      <td>0.014976</td>\n",
       "      <td>-0.042204</td>\n",
       "      <td>0.025492</td>\n",
       "      <td>-0.044047</td>\n",
       "      <td>0.034206</td>\n",
       "    </tr>\n",
       "    <tr>\n",
       "      <th>...</th>\n",
       "      <td>...</td>\n",
       "      <td>...</td>\n",
       "      <td>...</td>\n",
       "      <td>...</td>\n",
       "      <td>...</td>\n",
       "      <td>...</td>\n",
       "      <td>...</td>\n",
       "      <td>...</td>\n",
       "      <td>...</td>\n",
       "      <td>...</td>\n",
       "      <td>...</td>\n",
       "      <td>...</td>\n",
       "      <td>...</td>\n",
       "      <td>...</td>\n",
       "      <td>...</td>\n",
       "      <td>...</td>\n",
       "      <td>...</td>\n",
       "      <td>...</td>\n",
       "      <td>...</td>\n",
       "      <td>...</td>\n",
       "      <td>...</td>\n",
       "    </tr>\n",
       "    <tr>\n",
       "      <th>RSM4610</th>\n",
       "      <td>-0.002570</td>\n",
       "      <td>0.033075</td>\n",
       "      <td>-0.057312</td>\n",
       "      <td>0.003924</td>\n",
       "      <td>0.033260</td>\n",
       "      <td>0.041043</td>\n",
       "      <td>-0.038707</td>\n",
       "      <td>-0.020604</td>\n",
       "      <td>-0.000530</td>\n",
       "      <td>-0.003665</td>\n",
       "      <td>...</td>\n",
       "      <td>0.043199</td>\n",
       "      <td>0.055154</td>\n",
       "      <td>0.056118</td>\n",
       "      <td>0.031725</td>\n",
       "      <td>0.036038</td>\n",
       "      <td>0.021569</td>\n",
       "      <td>-0.047047</td>\n",
       "      <td>0.036226</td>\n",
       "      <td>-0.023646</td>\n",
       "      <td>0.017361</td>\n",
       "    </tr>\n",
       "    <tr>\n",
       "      <th>RSM4613</th>\n",
       "      <td>-0.006229</td>\n",
       "      <td>0.033719</td>\n",
       "      <td>-0.057503</td>\n",
       "      <td>0.004687</td>\n",
       "      <td>0.032060</td>\n",
       "      <td>0.042331</td>\n",
       "      <td>-0.037497</td>\n",
       "      <td>-0.017881</td>\n",
       "      <td>0.004593</td>\n",
       "      <td>-0.002356</td>\n",
       "      <td>...</td>\n",
       "      <td>0.039427</td>\n",
       "      <td>0.052705</td>\n",
       "      <td>0.052647</td>\n",
       "      <td>0.032822</td>\n",
       "      <td>0.035933</td>\n",
       "      <td>0.019391</td>\n",
       "      <td>-0.047259</td>\n",
       "      <td>0.034744</td>\n",
       "      <td>-0.024674</td>\n",
       "      <td>0.019017</td>\n",
       "    </tr>\n",
       "    <tr>\n",
       "      <th>RSM4614</th>\n",
       "      <td>-0.005185</td>\n",
       "      <td>0.031080</td>\n",
       "      <td>-0.056397</td>\n",
       "      <td>0.003268</td>\n",
       "      <td>0.036029</td>\n",
       "      <td>0.041050</td>\n",
       "      <td>-0.037617</td>\n",
       "      <td>-0.017309</td>\n",
       "      <td>0.004579</td>\n",
       "      <td>-0.001490</td>\n",
       "      <td>...</td>\n",
       "      <td>0.042471</td>\n",
       "      <td>0.053350</td>\n",
       "      <td>0.052551</td>\n",
       "      <td>0.033067</td>\n",
       "      <td>0.037639</td>\n",
       "      <td>0.021191</td>\n",
       "      <td>-0.046958</td>\n",
       "      <td>0.035106</td>\n",
       "      <td>-0.024798</td>\n",
       "      <td>0.017283</td>\n",
       "    </tr>\n",
       "    <tr>\n",
       "      <th>RSM4615</th>\n",
       "      <td>-0.002951</td>\n",
       "      <td>0.032235</td>\n",
       "      <td>-0.058905</td>\n",
       "      <td>-0.000270</td>\n",
       "      <td>0.034280</td>\n",
       "      <td>0.040884</td>\n",
       "      <td>-0.038526</td>\n",
       "      <td>-0.022505</td>\n",
       "      <td>0.000084</td>\n",
       "      <td>-0.002260</td>\n",
       "      <td>...</td>\n",
       "      <td>0.043439</td>\n",
       "      <td>0.061447</td>\n",
       "      <td>0.056925</td>\n",
       "      <td>0.034486</td>\n",
       "      <td>0.038516</td>\n",
       "      <td>0.019302</td>\n",
       "      <td>-0.044983</td>\n",
       "      <td>0.037305</td>\n",
       "      <td>-0.020874</td>\n",
       "      <td>0.015996</td>\n",
       "    </tr>\n",
       "    <tr>\n",
       "      <th>RSM4616</th>\n",
       "      <td>-0.005565</td>\n",
       "      <td>0.033319</td>\n",
       "      <td>-0.057418</td>\n",
       "      <td>0.001475</td>\n",
       "      <td>0.033317</td>\n",
       "      <td>0.040642</td>\n",
       "      <td>-0.039756</td>\n",
       "      <td>-0.019837</td>\n",
       "      <td>0.002397</td>\n",
       "      <td>-0.002531</td>\n",
       "      <td>...</td>\n",
       "      <td>0.042379</td>\n",
       "      <td>0.054461</td>\n",
       "      <td>0.054351</td>\n",
       "      <td>0.034242</td>\n",
       "      <td>0.037295</td>\n",
       "      <td>0.022268</td>\n",
       "      <td>-0.045442</td>\n",
       "      <td>0.039201</td>\n",
       "      <td>-0.024706</td>\n",
       "      <td>0.018774</td>\n",
       "    </tr>\n",
       "  </tbody>\n",
       "</table>\n",
       "<p>3257 rows × 500 columns</p>\n",
       "</div>"
      ],
      "text/plain": [
       "              x_0       x_1       x_2       x_3       x_4       x_5       x_6  \\\n",
       "type                                                                            \n",
       "RSM0001 -0.016031  0.032465 -0.042673  0.021358  0.023141  0.041399 -0.040029   \n",
       "RSM0002 -0.017986  0.034006 -0.042147  0.020298  0.023653  0.040903 -0.042310   \n",
       "RSM0003 -0.017054  0.033986 -0.041836  0.021678  0.023977  0.040686 -0.041274   \n",
       "RSM0004 -0.018209  0.035395 -0.041762  0.021517  0.023583  0.041144 -0.040300   \n",
       "RSM0008 -0.018226  0.032405 -0.041137  0.021723  0.024012  0.041460 -0.042055   \n",
       "...           ...       ...       ...       ...       ...       ...       ...   \n",
       "RSM4610 -0.002570  0.033075 -0.057312  0.003924  0.033260  0.041043 -0.038707   \n",
       "RSM4613 -0.006229  0.033719 -0.057503  0.004687  0.032060  0.042331 -0.037497   \n",
       "RSM4614 -0.005185  0.031080 -0.056397  0.003268  0.036029  0.041050 -0.037617   \n",
       "RSM4615 -0.002951  0.032235 -0.058905 -0.000270  0.034280  0.040884 -0.038526   \n",
       "RSM4616 -0.005565  0.033319 -0.057418  0.001475  0.033317  0.040642 -0.039756   \n",
       "\n",
       "              x_7       x_8       x_9  ...     x_490     x_491     x_492  \\\n",
       "type                                   ...                                 \n",
       "RSM0001 -0.005651  0.024738  0.001733  ...  0.026930  0.023326  0.038193   \n",
       "RSM0002 -0.004479  0.024896  0.001448  ...  0.027047  0.023103  0.038152   \n",
       "RSM0003 -0.004606  0.025003  0.000299  ...  0.027920  0.022153  0.037019   \n",
       "RSM0004 -0.003707  0.024128  0.000745  ...  0.026977  0.022528  0.038833   \n",
       "RSM0008 -0.003147  0.026218  0.001976  ...  0.027485  0.021573  0.038718   \n",
       "...           ...       ...       ...  ...       ...       ...       ...   \n",
       "RSM4610 -0.020604 -0.000530 -0.003665  ...  0.043199  0.055154  0.056118   \n",
       "RSM4613 -0.017881  0.004593 -0.002356  ...  0.039427  0.052705  0.052647   \n",
       "RSM4614 -0.017309  0.004579 -0.001490  ...  0.042471  0.053350  0.052551   \n",
       "RSM4615 -0.022505  0.000084 -0.002260  ...  0.043439  0.061447  0.056925   \n",
       "RSM4616 -0.019837  0.002397 -0.002531  ...  0.042379  0.054461  0.054351   \n",
       "\n",
       "            x_493     x_494     x_495     x_496     x_497     x_498     x_499  \n",
       "type                                                                           \n",
       "RSM0001  0.032746  0.037504  0.013662 -0.041720  0.025260 -0.043439  0.033405  \n",
       "RSM0002  0.033030  0.037669  0.015868 -0.042211  0.026161 -0.042026  0.034071  \n",
       "RSM0003  0.034716  0.038099  0.015971 -0.042543  0.027607 -0.044099  0.034131  \n",
       "RSM0004  0.033908  0.037926  0.014050 -0.041886  0.026157 -0.043590  0.034471  \n",
       "RSM0008  0.034348  0.037471  0.014976 -0.042204  0.025492 -0.044047  0.034206  \n",
       "...           ...       ...       ...       ...       ...       ...       ...  \n",
       "RSM4610  0.031725  0.036038  0.021569 -0.047047  0.036226 -0.023646  0.017361  \n",
       "RSM4613  0.032822  0.035933  0.019391 -0.047259  0.034744 -0.024674  0.019017  \n",
       "RSM4614  0.033067  0.037639  0.021191 -0.046958  0.035106 -0.024798  0.017283  \n",
       "RSM4615  0.034486  0.038516  0.019302 -0.044983  0.037305 -0.020874  0.015996  \n",
       "RSM4616  0.034242  0.037295  0.022268 -0.045442  0.039201 -0.024706  0.018774  \n",
       "\n",
       "[3257 rows x 500 columns]"
      ]
     },
     "execution_count": 28,
     "metadata": {},
     "output_type": "execute_result"
    }
   ],
   "source": [
    "df_vector"
   ]
  },
  {
   "cell_type": "code",
   "execution_count": 29,
   "metadata": {},
   "outputs": [],
   "source": [
    "from mofdscribe.datasets import QMOFDataset"
   ]
  },
  {
   "cell_type": "code",
   "execution_count": 30,
   "metadata": {},
   "outputs": [],
   "source": [
    "qmof_ds = QMOFDataset()"
   ]
  },
  {
   "cell_type": "code",
   "execution_count": 34,
   "metadata": {},
   "outputs": [
    {
     "ename": "TypeError",
     "evalue": "Cannot index by location index with a non-integer key",
     "output_type": "error",
     "traceback": [
      "\u001b[0;31m---------------------------------------------------------------------------\u001b[0m",
      "\u001b[0;31mTypeError\u001b[0m                                 Traceback (most recent call last)",
      "Cell \u001b[0;32mIn[34], line 1\u001b[0m\n\u001b[0;32m----> 1\u001b[0m qmof_ds\u001b[39m.\u001b[39;49mget_subset(\u001b[39m'\u001b[39;49m\u001b[39mall\u001b[39;49m\u001b[39m'\u001b[39;49m)\n",
      "File \u001b[0;32m~/Codes/mofdscribe/src/mofdscribe/datasets/qmof_dataset.py:313\u001b[0m, in \u001b[0;36mQMOFDataset.get_subset\u001b[0;34m(self, indices)\u001b[0m\n\u001b[1;32m    303\u001b[0m \u001b[39mdef\u001b[39;00m \u001b[39mget_subset\u001b[39m(\u001b[39mself\u001b[39m, indices: Collection[\u001b[39mint\u001b[39m]) \u001b[39m-\u001b[39m\u001b[39m>\u001b[39m \u001b[39m\"\u001b[39m\u001b[39mAbstractStructureDataset\u001b[39m\u001b[39m\"\u001b[39m:\n\u001b[1;32m    304\u001b[0m     \u001b[39m\"\"\"Get a subset of the dataset.\u001b[39;00m\n\u001b[1;32m    305\u001b[0m \n\u001b[1;32m    306\u001b[0m \u001b[39m    Args:\u001b[39;00m\n\u001b[0;32m   (...)\u001b[0m\n\u001b[1;32m    311\u001b[0m \u001b[39m            specified by the indices.\u001b[39;00m\n\u001b[1;32m    312\u001b[0m \u001b[39m    \"\"\"\u001b[39;00m\n\u001b[0;32m--> 313\u001b[0m     \u001b[39mreturn\u001b[39;00m QMOFDataset(\n\u001b[1;32m    314\u001b[0m         version\u001b[39m=\u001b[39;49m\u001b[39mself\u001b[39;49m\u001b[39m.\u001b[39;49mversion,\n\u001b[1;32m    315\u001b[0m         drop_basename_duplicates\u001b[39m=\u001b[39;49m\u001b[39mself\u001b[39;49m\u001b[39m.\u001b[39;49m_drop_basename_duplicates,\n\u001b[1;32m    316\u001b[0m         drop_graph_duplicates\u001b[39m=\u001b[39;49m\u001b[39mself\u001b[39;49m\u001b[39m.\u001b[39;49m_drop_graph_duplicates,\n\u001b[1;32m    317\u001b[0m         subset\u001b[39m=\u001b[39;49mindices,\n\u001b[1;32m    318\u001b[0m         flavor\u001b[39m=\u001b[39;49m\u001b[39mself\u001b[39;49m\u001b[39m.\u001b[39;49m_flavor,\n\u001b[1;32m    319\u001b[0m         drop_nan\u001b[39m=\u001b[39;49m\u001b[39mself\u001b[39;49m\u001b[39m.\u001b[39;49m_drop_nan,\n\u001b[1;32m    320\u001b[0m     )\n",
      "File \u001b[0;32m~/Codes/mofdscribe/src/mofdscribe/datasets/qmof_dataset.py:283\u001b[0m, in \u001b[0;36mQMOFDataset.__init__\u001b[0;34m(self, version, flavor, drop_basename_duplicates, drop_graph_duplicates, subset, drop_nan)\u001b[0m\n\u001b[1;32m    280\u001b[0m     \u001b[39mself\u001b[39m\u001b[39m.\u001b[39m_df\u001b[39m.\u001b[39mreset_index(drop\u001b[39m=\u001b[39m\u001b[39mTrue\u001b[39;00m, inplace\u001b[39m=\u001b[39m\u001b[39mTrue\u001b[39;00m)\n\u001b[1;32m    282\u001b[0m \u001b[39mif\u001b[39;00m subset \u001b[39mis\u001b[39;00m \u001b[39mnot\u001b[39;00m \u001b[39mNone\u001b[39;00m:\n\u001b[0;32m--> 283\u001b[0m     \u001b[39mself\u001b[39m\u001b[39m.\u001b[39m_df \u001b[39m=\u001b[39m \u001b[39mself\u001b[39;49m\u001b[39m.\u001b[39;49m_df\u001b[39m.\u001b[39;49miloc[subset]\n\u001b[1;32m    284\u001b[0m     \u001b[39mself\u001b[39m\u001b[39m.\u001b[39m_df \u001b[39m=\u001b[39m \u001b[39mself\u001b[39m\u001b[39m.\u001b[39m_df\u001b[39m.\u001b[39mreset_index(drop\u001b[39m=\u001b[39m\u001b[39mTrue\u001b[39;00m)\n\u001b[1;32m    286\u001b[0m \u001b[39mself\u001b[39m\u001b[39m.\u001b[39m_structures \u001b[39m=\u001b[39m [\n\u001b[1;32m    287\u001b[0m     os\u001b[39m.\u001b[39mpath\u001b[39m.\u001b[39mjoin(\u001b[39mself\u001b[39m\u001b[39m.\u001b[39m_structure_dir, f \u001b[39m+\u001b[39m \u001b[39m\"\u001b[39m\u001b[39m.cif\u001b[39m\u001b[39m\"\u001b[39m) \u001b[39mfor\u001b[39;00m f \u001b[39min\u001b[39;00m \u001b[39mself\u001b[39m\u001b[39m.\u001b[39m_df[\u001b[39m\"\u001b[39m\u001b[39minfo.qmof_id\u001b[39m\u001b[39m\"\u001b[39m]\n\u001b[1;32m    288\u001b[0m ]\n",
      "File \u001b[0;32m~/opt/anaconda3/envs/mofgraph2vec/lib/python3.8/site-packages/pandas/core/indexing.py:1073\u001b[0m, in \u001b[0;36m_LocationIndexer.__getitem__\u001b[0;34m(self, key)\u001b[0m\n\u001b[1;32m   1070\u001b[0m axis \u001b[39m=\u001b[39m \u001b[39mself\u001b[39m\u001b[39m.\u001b[39maxis \u001b[39mor\u001b[39;00m \u001b[39m0\u001b[39m\n\u001b[1;32m   1072\u001b[0m maybe_callable \u001b[39m=\u001b[39m com\u001b[39m.\u001b[39mapply_if_callable(key, \u001b[39mself\u001b[39m\u001b[39m.\u001b[39mobj)\n\u001b[0;32m-> 1073\u001b[0m \u001b[39mreturn\u001b[39;00m \u001b[39mself\u001b[39;49m\u001b[39m.\u001b[39;49m_getitem_axis(maybe_callable, axis\u001b[39m=\u001b[39;49maxis)\n",
      "File \u001b[0;32m~/opt/anaconda3/envs/mofgraph2vec/lib/python3.8/site-packages/pandas/core/indexing.py:1622\u001b[0m, in \u001b[0;36m_iLocIndexer._getitem_axis\u001b[0;34m(self, key, axis)\u001b[0m\n\u001b[1;32m   1620\u001b[0m key \u001b[39m=\u001b[39m item_from_zerodim(key)\n\u001b[1;32m   1621\u001b[0m \u001b[39mif\u001b[39;00m \u001b[39mnot\u001b[39;00m is_integer(key):\n\u001b[0;32m-> 1622\u001b[0m     \u001b[39mraise\u001b[39;00m \u001b[39mTypeError\u001b[39;00m(\u001b[39m\"\u001b[39m\u001b[39mCannot index by location index with a non-integer key\u001b[39m\u001b[39m\"\u001b[39m)\n\u001b[1;32m   1624\u001b[0m \u001b[39m# validate the location\u001b[39;00m\n\u001b[1;32m   1625\u001b[0m \u001b[39mself\u001b[39m\u001b[39m.\u001b[39m_validate_integer(key, axis)\n",
      "\u001b[0;31mTypeError\u001b[0m: Cannot index by location index with a non-integer key"
     ]
    }
   ],
   "source": [
    "qmof_ds.get_subset"
   ]
  },
  {
   "cell_type": "code",
   "execution_count": 35,
   "metadata": {},
   "outputs": [],
   "source": [
    "import json"
   ]
  },
  {
   "cell_type": "code",
   "execution_count": 37,
   "metadata": {},
   "outputs": [],
   "source": [
    "with open(\"/Users/xiaoqi/.data/mofdscribe/QMOF/v0.0.1/data.json\") as file:\n",
    "    data = json.load(file)"
   ]
  },
  {
   "cell_type": "code",
   "execution_count": 43,
   "metadata": {},
   "outputs": [],
   "source": [
    "df_data = pd.DataFrame.from_dict(data, orient=\"columns\")"
   ]
  },
  {
   "cell_type": "code",
   "execution_count": 48,
   "metadata": {},
   "outputs": [],
   "source": [
    "subdf = df_data[df_data['flavor.gcmc']==True]"
   ]
  },
  {
   "cell_type": "code",
   "execution_count": 46,
   "metadata": {},
   "outputs": [
    {
     "data": {
      "text/plain": [
       "dict_keys(['flavor.all', 'flavor.gcmc', 'flavor.csd', 'flavor.csd-gcmc', 'outputs.pbe.energy_total', 'outputs.pbe.energy_vdw', 'outputs.pbe.energy_elec', 'outputs.pbe.net_magmom', 'outputs.pbe.bandgap', 'outputs.pbe.cbm', 'outputs.pbe.vbm', 'outputs.pbe.directgap', 'outputs.pbe.bandgap_spins', 'outputs.pbe.cbm_spins', 'outputs.pbe.vbm_spins', 'outputs.pbe.directgap_spins', 'outputs.hle17.energy_total', 'outputs.hle17.energy_vdw', 'outputs.hle17.energy_elec', 'outputs.hle17.net_magmom', 'outputs.hle17.bandgap', 'outputs.hle17.cbm', 'outputs.hle17.vbm', 'outputs.hle17.directgap', 'outputs.hle17.bandgap_spins', 'outputs.hle17.cbm_spins', 'outputs.hle17.vbm_spins', 'outputs.hle17.directgap_spins', 'outputs.hse06_10hf.energy_total', 'outputs.hse06_10hf.energy_vdw', 'outputs.hse06_10hf.energy_elec', 'outputs.hse06_10hf.net_magmom', 'outputs.hse06_10hf.bandgap', 'outputs.hse06_10hf.cbm', 'outputs.hse06_10hf.vbm', 'outputs.hse06_10hf.directgap', 'outputs.hse06_10hf.bandgap_spins', 'outputs.hse06_10hf.cbm_spins', 'outputs.hse06_10hf.vbm_spins', 'outputs.hse06_10hf.directgap_spins', 'outputs.hse06.energy_total', 'outputs.hse06.energy_vdw', 'outputs.hse06.energy_elec', 'outputs.hse06.net_magmom', 'outputs.hse06.bandgap', 'outputs.hse06.cbm', 'outputs.hse06.vbm', 'outputs.hse06.directgap', 'outputs.hse06.bandgap_spins', 'outputs.hse06.cbm_spins', 'outputs.hse06.vbm_spins', 'outputs.hse06.directgap_spins', 'outputs.CO2-henry_coefficient-mol--kg--Pa', 'outputs.CO2-adsorption_energy-kJ--mol', 'outputs.N2-henry_coefficient-mol--kg--Pa', 'outputs.N2-adsorption_energy-kJ--mol', 'outputs.CO2-parasitic_energy_coal-MJ--kg', 'outputs.CO2-gravimetric_working_capacity_coal-kgCO2--kg', 'outputs.CO2-volumetric_working_capacity_coal-kgCO2--m3', 'outputs.CO2-parasitic_energy_nat_gas-MJ--kg', 'outputs.CO2-gravimetric_working_capacity_nat_gas-kgCO2--kg', 'outputs.CO2-volumetric_working_capacity_nat_gas-kgCO2--m3', 'outputs.CO2-final_purity_nat_gas-mol--mol', 'outputs.CH4-henry_coefficient-mol--kg--Pa', 'outputs.CH4-adsorption_energy-kJ--mol', 'outputs.CH4-enthalphy_of_adsorption_58_bar_298_K-kJ--mol', 'outputs.CH4-enthalphy_of_adsorption_65_bar_298_K-kJ--mol', 'outputs.CH4-working_capacity_vol_58_to_65_bar_298_K-cm3_STP--cm3', 'outputs.CH4-working_capacity_mol_58_to_65_bar_298_K-mol--kg', 'outputs.CH4-working_capacity_fract_58_to_65_bar_298_K-', 'outputs.CH4-working_capacity_wt%_58_to_65_bar_298_K-g--g*100', 'outputs.O2-henry_coefficient-mol--kg--Pa', 'outputs.O2-adsorption_energy-kJ--mol', 'outputs.O2-enthalphy_of_adsorption_5_bar_298_K-kJ--mol', 'outputs.O2-enthalphy_of_adsorption_140_bar_298_K-kJ--mol', 'outputs.O2-working_capacity_vol_5_to_140_bar_298_K-cm3_STP--cm3', 'outputs.O2-working_capacity_mol_5_to_140_bar_298_K-mol--kg', 'outputs.O2-working_capacity_fract_5_to_140_bar_298_K-', 'outputs.O2-working_capacity_wt%_5_to_140_bar_298_K-g--g*100', 'outputs.Xe-henry_coefficient-mol--kg--Pa', 'outputs.Xe-adsorption_energy-kJ--mol', 'outputs.Kr-henry_coefficient-mol--kg--Pa', 'outputs.Kr-adsorption_energy-kJ--mol', 'outputs.Xe--Kr-selectivity_298_K-', 'outputs.H2-working_capacity_5_to_100_bar_298_to_198_K-g--L', 'outputs.H2-working_capacity_5_to_100_bar_77_K-g--L', 'outputs.H2-working_capacity_1_to_100_bar_77_K-g--L', 'outputs.H2-working_capacity_wt%_5_to_100_bar_298_to_198_K-g--g100', 'outputs.H2-working_capacity_wt%_5_to_100_bar_77_K-g--g100', 'outputs.H2-working_capacity_wt%_1_to_100_bar_77_K-g--g100', 'outputs.H2S-henry_coefficient-mol--kg--Pa', 'outputs.H2S-adsorption_energy-kJ--mol', 'outputs.H2O-henry_coefficient-mol--kg--Pa', 'outputs.H2O-adsorption_energy-kJ--mol', 'outputs.H2S--H2O-selectivity_298_K-', 'outputs.CH4--N2-selectivity_298_K-', 'info.qmof_id', 'info.undecorated_graph_hash', 'info.undecorated_no_leaf_hash', 'info.undecorated_scaffold_hash', 'info.decorated_graph_hash', 'info.decorated_no_leaf_hash', 'info.decorated_scaffold_hash', 'info.formula', 'info.formula_reduced', 'info.mofid.mofid', 'info.mofid.mofkey', 'info.mofid.smiles_nodes', 'info.mofid.smiles_linkers', 'info.mofid.smiles', 'info.mofid.topology', 'info.natoms', 'info.pld', 'info.lcd', 'info.density', 'info.volume', 'info.symmetry.spacegroup', 'info.symmetry.spacegroup_number', 'info.symmetry.spacegroup_crystal', 'info.symmetry.pointgroup', 'info.synthesized', 'info.source', 'info.doi', 'info.basename', 'info.title', 'info.abs', 'info.year', 'features.phstats_C-H-N-O_dim1_birth_min', 'features.phstats_C-H-N-O_dim1_birth_max', 'features.phstats_C-H-N-O_dim1_birth_mean', 'features.phstats_C-H-N-O_dim1_birth_std', 'features.phstats_C-H-N-O_dim1_death_min', 'features.phstats_C-H-N-O_dim1_death_max', 'features.phstats_C-H-N-O_dim1_death_mean', 'features.phstats_C-H-N-O_dim1_death_std', 'features.phstats_C-H-N-O_dim1_persistence_min', 'features.phstats_C-H-N-O_dim1_persistence_max', 'features.phstats_C-H-N-O_dim1_persistence_mean', 'features.phstats_C-H-N-O_dim1_persistence_std', 'features.phstats_C-H-N-O_dim2_birth_min', 'features.phstats_C-H-N-O_dim2_birth_max', 'features.phstats_C-H-N-O_dim2_birth_mean', 'features.phstats_C-H-N-O_dim2_birth_std', 'features.phstats_C-H-N-O_dim2_death_min', 'features.phstats_C-H-N-O_dim2_death_max', 'features.phstats_C-H-N-O_dim2_death_mean', 'features.phstats_C-H-N-O_dim2_death_std', 'features.phstats_C-H-N-O_dim2_persistence_min', 'features.phstats_C-H-N-O_dim2_persistence_max', 'features.phstats_C-H-N-O_dim2_persistence_mean', 'features.phstats_C-H-N-O_dim2_persistence_std', 'features.phstats_F-Cl-Br-I_dim1_birth_min', 'features.phstats_F-Cl-Br-I_dim1_birth_max', 'features.phstats_F-Cl-Br-I_dim1_birth_mean', 'features.phstats_F-Cl-Br-I_dim1_birth_std', 'features.phstats_F-Cl-Br-I_dim1_death_min', 'features.phstats_F-Cl-Br-I_dim1_death_max', 'features.phstats_F-Cl-Br-I_dim1_death_mean', 'features.phstats_F-Cl-Br-I_dim1_death_std', 'features.phstats_F-Cl-Br-I_dim1_persistence_min', 'features.phstats_F-Cl-Br-I_dim1_persistence_max', 'features.phstats_F-Cl-Br-I_dim1_persistence_mean', 'features.phstats_F-Cl-Br-I_dim1_persistence_std', 'features.phstats_F-Cl-Br-I_dim2_birth_min', 'features.phstats_F-Cl-Br-I_dim2_birth_max', 'features.phstats_F-Cl-Br-I_dim2_birth_mean', 'features.phstats_F-Cl-Br-I_dim2_birth_std', 'features.phstats_F-Cl-Br-I_dim2_death_min', 'features.phstats_F-Cl-Br-I_dim2_death_max', 'features.phstats_F-Cl-Br-I_dim2_death_mean', 'features.phstats_F-Cl-Br-I_dim2_death_std', 'features.phstats_F-Cl-Br-I_dim2_persistence_min', 'features.phstats_F-Cl-Br-I_dim2_persistence_max', 'features.phstats_F-Cl-Br-I_dim2_persistence_mean', 'features.phstats_F-Cl-Br-I_dim2_persistence_std', 'features.phstats_Cu-Mn-Ni-Mo-Fe-Pt-Zn-Ca-Er-Au-Cd-Co-Gd-Na-Sm-Eu-Tb-V-Ag-Nd-U-Ba-Ce-K-Ga-Cr-Al-Li-Sc-Ru-In-Mg-Zr-Dy-W-Yb-Y-Ho-Re-Be-Rb-La-Sn-Cs-Pb-Pr-Bi-Tm-Sr-Ti-Hf-Ir-Nb-Pd-Hg-Th-Np-Lu-Rh-Pu_dim1_birth_min', 'features.phstats_Cu-Mn-Ni-Mo-Fe-Pt-Zn-Ca-Er-Au-Cd-Co-Gd-Na-Sm-Eu-Tb-V-Ag-Nd-U-Ba-Ce-K-Ga-Cr-Al-Li-Sc-Ru-In-Mg-Zr-Dy-W-Yb-Y-Ho-Re-Be-Rb-La-Sn-Cs-Pb-Pr-Bi-Tm-Sr-Ti-Hf-Ir-Nb-Pd-Hg-Th-Np-Lu-Rh-Pu_dim1_birth_max', 'features.phstats_Cu-Mn-Ni-Mo-Fe-Pt-Zn-Ca-Er-Au-Cd-Co-Gd-Na-Sm-Eu-Tb-V-Ag-Nd-U-Ba-Ce-K-Ga-Cr-Al-Li-Sc-Ru-In-Mg-Zr-Dy-W-Yb-Y-Ho-Re-Be-Rb-La-Sn-Cs-Pb-Pr-Bi-Tm-Sr-Ti-Hf-Ir-Nb-Pd-Hg-Th-Np-Lu-Rh-Pu_dim1_birth_mean', 'features.phstats_Cu-Mn-Ni-Mo-Fe-Pt-Zn-Ca-Er-Au-Cd-Co-Gd-Na-Sm-Eu-Tb-V-Ag-Nd-U-Ba-Ce-K-Ga-Cr-Al-Li-Sc-Ru-In-Mg-Zr-Dy-W-Yb-Y-Ho-Re-Be-Rb-La-Sn-Cs-Pb-Pr-Bi-Tm-Sr-Ti-Hf-Ir-Nb-Pd-Hg-Th-Np-Lu-Rh-Pu_dim1_birth_std', 'features.phstats_Cu-Mn-Ni-Mo-Fe-Pt-Zn-Ca-Er-Au-Cd-Co-Gd-Na-Sm-Eu-Tb-V-Ag-Nd-U-Ba-Ce-K-Ga-Cr-Al-Li-Sc-Ru-In-Mg-Zr-Dy-W-Yb-Y-Ho-Re-Be-Rb-La-Sn-Cs-Pb-Pr-Bi-Tm-Sr-Ti-Hf-Ir-Nb-Pd-Hg-Th-Np-Lu-Rh-Pu_dim1_death_min', 'features.phstats_Cu-Mn-Ni-Mo-Fe-Pt-Zn-Ca-Er-Au-Cd-Co-Gd-Na-Sm-Eu-Tb-V-Ag-Nd-U-Ba-Ce-K-Ga-Cr-Al-Li-Sc-Ru-In-Mg-Zr-Dy-W-Yb-Y-Ho-Re-Be-Rb-La-Sn-Cs-Pb-Pr-Bi-Tm-Sr-Ti-Hf-Ir-Nb-Pd-Hg-Th-Np-Lu-Rh-Pu_dim1_death_max', 'features.phstats_Cu-Mn-Ni-Mo-Fe-Pt-Zn-Ca-Er-Au-Cd-Co-Gd-Na-Sm-Eu-Tb-V-Ag-Nd-U-Ba-Ce-K-Ga-Cr-Al-Li-Sc-Ru-In-Mg-Zr-Dy-W-Yb-Y-Ho-Re-Be-Rb-La-Sn-Cs-Pb-Pr-Bi-Tm-Sr-Ti-Hf-Ir-Nb-Pd-Hg-Th-Np-Lu-Rh-Pu_dim1_death_mean', 'features.phstats_Cu-Mn-Ni-Mo-Fe-Pt-Zn-Ca-Er-Au-Cd-Co-Gd-Na-Sm-Eu-Tb-V-Ag-Nd-U-Ba-Ce-K-Ga-Cr-Al-Li-Sc-Ru-In-Mg-Zr-Dy-W-Yb-Y-Ho-Re-Be-Rb-La-Sn-Cs-Pb-Pr-Bi-Tm-Sr-Ti-Hf-Ir-Nb-Pd-Hg-Th-Np-Lu-Rh-Pu_dim1_death_std', 'features.phstats_Cu-Mn-Ni-Mo-Fe-Pt-Zn-Ca-Er-Au-Cd-Co-Gd-Na-Sm-Eu-Tb-V-Ag-Nd-U-Ba-Ce-K-Ga-Cr-Al-Li-Sc-Ru-In-Mg-Zr-Dy-W-Yb-Y-Ho-Re-Be-Rb-La-Sn-Cs-Pb-Pr-Bi-Tm-Sr-Ti-Hf-Ir-Nb-Pd-Hg-Th-Np-Lu-Rh-Pu_dim1_persistence_min', 'features.phstats_Cu-Mn-Ni-Mo-Fe-Pt-Zn-Ca-Er-Au-Cd-Co-Gd-Na-Sm-Eu-Tb-V-Ag-Nd-U-Ba-Ce-K-Ga-Cr-Al-Li-Sc-Ru-In-Mg-Zr-Dy-W-Yb-Y-Ho-Re-Be-Rb-La-Sn-Cs-Pb-Pr-Bi-Tm-Sr-Ti-Hf-Ir-Nb-Pd-Hg-Th-Np-Lu-Rh-Pu_dim1_persistence_max', 'features.phstats_Cu-Mn-Ni-Mo-Fe-Pt-Zn-Ca-Er-Au-Cd-Co-Gd-Na-Sm-Eu-Tb-V-Ag-Nd-U-Ba-Ce-K-Ga-Cr-Al-Li-Sc-Ru-In-Mg-Zr-Dy-W-Yb-Y-Ho-Re-Be-Rb-La-Sn-Cs-Pb-Pr-Bi-Tm-Sr-Ti-Hf-Ir-Nb-Pd-Hg-Th-Np-Lu-Rh-Pu_dim1_persistence_mean', 'features.phstats_Cu-Mn-Ni-Mo-Fe-Pt-Zn-Ca-Er-Au-Cd-Co-Gd-Na-Sm-Eu-Tb-V-Ag-Nd-U-Ba-Ce-K-Ga-Cr-Al-Li-Sc-Ru-In-Mg-Zr-Dy-W-Yb-Y-Ho-Re-Be-Rb-La-Sn-Cs-Pb-Pr-Bi-Tm-Sr-Ti-Hf-Ir-Nb-Pd-Hg-Th-Np-Lu-Rh-Pu_dim1_persistence_std', 'features.phstats_Cu-Mn-Ni-Mo-Fe-Pt-Zn-Ca-Er-Au-Cd-Co-Gd-Na-Sm-Eu-Tb-V-Ag-Nd-U-Ba-Ce-K-Ga-Cr-Al-Li-Sc-Ru-In-Mg-Zr-Dy-W-Yb-Y-Ho-Re-Be-Rb-La-Sn-Cs-Pb-Pr-Bi-Tm-Sr-Ti-Hf-Ir-Nb-Pd-Hg-Th-Np-Lu-Rh-Pu_dim2_birth_min', 'features.phstats_Cu-Mn-Ni-Mo-Fe-Pt-Zn-Ca-Er-Au-Cd-Co-Gd-Na-Sm-Eu-Tb-V-Ag-Nd-U-Ba-Ce-K-Ga-Cr-Al-Li-Sc-Ru-In-Mg-Zr-Dy-W-Yb-Y-Ho-Re-Be-Rb-La-Sn-Cs-Pb-Pr-Bi-Tm-Sr-Ti-Hf-Ir-Nb-Pd-Hg-Th-Np-Lu-Rh-Pu_dim2_birth_max', 'features.phstats_Cu-Mn-Ni-Mo-Fe-Pt-Zn-Ca-Er-Au-Cd-Co-Gd-Na-Sm-Eu-Tb-V-Ag-Nd-U-Ba-Ce-K-Ga-Cr-Al-Li-Sc-Ru-In-Mg-Zr-Dy-W-Yb-Y-Ho-Re-Be-Rb-La-Sn-Cs-Pb-Pr-Bi-Tm-Sr-Ti-Hf-Ir-Nb-Pd-Hg-Th-Np-Lu-Rh-Pu_dim2_birth_mean', 'features.phstats_Cu-Mn-Ni-Mo-Fe-Pt-Zn-Ca-Er-Au-Cd-Co-Gd-Na-Sm-Eu-Tb-V-Ag-Nd-U-Ba-Ce-K-Ga-Cr-Al-Li-Sc-Ru-In-Mg-Zr-Dy-W-Yb-Y-Ho-Re-Be-Rb-La-Sn-Cs-Pb-Pr-Bi-Tm-Sr-Ti-Hf-Ir-Nb-Pd-Hg-Th-Np-Lu-Rh-Pu_dim2_birth_std', 'features.phstats_Cu-Mn-Ni-Mo-Fe-Pt-Zn-Ca-Er-Au-Cd-Co-Gd-Na-Sm-Eu-Tb-V-Ag-Nd-U-Ba-Ce-K-Ga-Cr-Al-Li-Sc-Ru-In-Mg-Zr-Dy-W-Yb-Y-Ho-Re-Be-Rb-La-Sn-Cs-Pb-Pr-Bi-Tm-Sr-Ti-Hf-Ir-Nb-Pd-Hg-Th-Np-Lu-Rh-Pu_dim2_death_min', 'features.phstats_Cu-Mn-Ni-Mo-Fe-Pt-Zn-Ca-Er-Au-Cd-Co-Gd-Na-Sm-Eu-Tb-V-Ag-Nd-U-Ba-Ce-K-Ga-Cr-Al-Li-Sc-Ru-In-Mg-Zr-Dy-W-Yb-Y-Ho-Re-Be-Rb-La-Sn-Cs-Pb-Pr-Bi-Tm-Sr-Ti-Hf-Ir-Nb-Pd-Hg-Th-Np-Lu-Rh-Pu_dim2_death_max', 'features.phstats_Cu-Mn-Ni-Mo-Fe-Pt-Zn-Ca-Er-Au-Cd-Co-Gd-Na-Sm-Eu-Tb-V-Ag-Nd-U-Ba-Ce-K-Ga-Cr-Al-Li-Sc-Ru-In-Mg-Zr-Dy-W-Yb-Y-Ho-Re-Be-Rb-La-Sn-Cs-Pb-Pr-Bi-Tm-Sr-Ti-Hf-Ir-Nb-Pd-Hg-Th-Np-Lu-Rh-Pu_dim2_death_mean', 'features.phstats_Cu-Mn-Ni-Mo-Fe-Pt-Zn-Ca-Er-Au-Cd-Co-Gd-Na-Sm-Eu-Tb-V-Ag-Nd-U-Ba-Ce-K-Ga-Cr-Al-Li-Sc-Ru-In-Mg-Zr-Dy-W-Yb-Y-Ho-Re-Be-Rb-La-Sn-Cs-Pb-Pr-Bi-Tm-Sr-Ti-Hf-Ir-Nb-Pd-Hg-Th-Np-Lu-Rh-Pu_dim2_death_std', 'features.phstats_Cu-Mn-Ni-Mo-Fe-Pt-Zn-Ca-Er-Au-Cd-Co-Gd-Na-Sm-Eu-Tb-V-Ag-Nd-U-Ba-Ce-K-Ga-Cr-Al-Li-Sc-Ru-In-Mg-Zr-Dy-W-Yb-Y-Ho-Re-Be-Rb-La-Sn-Cs-Pb-Pr-Bi-Tm-Sr-Ti-Hf-Ir-Nb-Pd-Hg-Th-Np-Lu-Rh-Pu_dim2_persistence_min', 'features.phstats_Cu-Mn-Ni-Mo-Fe-Pt-Zn-Ca-Er-Au-Cd-Co-Gd-Na-Sm-Eu-Tb-V-Ag-Nd-U-Ba-Ce-K-Ga-Cr-Al-Li-Sc-Ru-In-Mg-Zr-Dy-W-Yb-Y-Ho-Re-Be-Rb-La-Sn-Cs-Pb-Pr-Bi-Tm-Sr-Ti-Hf-Ir-Nb-Pd-Hg-Th-Np-Lu-Rh-Pu_dim2_persistence_max', 'features.phstats_Cu-Mn-Ni-Mo-Fe-Pt-Zn-Ca-Er-Au-Cd-Co-Gd-Na-Sm-Eu-Tb-V-Ag-Nd-U-Ba-Ce-K-Ga-Cr-Al-Li-Sc-Ru-In-Mg-Zr-Dy-W-Yb-Y-Ho-Re-Be-Rb-La-Sn-Cs-Pb-Pr-Bi-Tm-Sr-Ti-Hf-Ir-Nb-Pd-Hg-Th-Np-Lu-Rh-Pu_dim2_persistence_mean', 'features.phstats_Cu-Mn-Ni-Mo-Fe-Pt-Zn-Ca-Er-Au-Cd-Co-Gd-Na-Sm-Eu-Tb-V-Ag-Nd-U-Ba-Ce-K-Ga-Cr-Al-Li-Sc-Ru-In-Mg-Zr-Dy-W-Yb-Y-Ho-Re-Be-Rb-La-Sn-Cs-Pb-Pr-Bi-Tm-Sr-Ti-Hf-Ir-Nb-Pd-Hg-Th-Np-Lu-Rh-Pu_dim2_persistence_std', 'features.phstats_all_dim1_birth_min', 'features.phstats_all_dim1_birth_max', 'features.phstats_all_dim1_birth_mean', 'features.phstats_all_dim1_birth_std', 'features.phstats_all_dim1_death_min', 'features.phstats_all_dim1_death_max', 'features.phstats_all_dim1_death_mean', 'features.phstats_all_dim1_death_std', 'features.phstats_all_dim1_persistence_min', 'features.phstats_all_dim1_persistence_max', 'features.phstats_all_dim1_persistence_mean', 'features.phstats_all_dim1_persistence_std', 'features.phstats_all_dim2_birth_min', 'features.phstats_all_dim2_birth_max', 'features.phstats_all_dim2_birth_mean', 'features.phstats_all_dim2_birth_std', 'features.phstats_all_dim2_death_min', 'features.phstats_all_dim2_death_max', 'features.phstats_all_dim2_death_mean', 'features.phstats_all_dim2_death_std', 'features.phstats_all_dim2_persistence_min', 'features.phstats_all_dim2_persistence_max', 'features.phstats_all_dim2_persistence_mean', 'features.phstats_all_dim2_persistence_std', 'features.phhist_C-H-N-O_dim1_nx0_ny0_persistence', 'features.phhist_C-H-N-O_dim1_nx0_ny1_persistence', 'features.phhist_C-H-N-O_dim1_nx0_ny2_persistence', 'features.phhist_C-H-N-O_dim1_nx0_ny3_persistence', 'features.phhist_C-H-N-O_dim1_nx0_ny4_persistence', 'features.phhist_C-H-N-O_dim1_nx0_ny5_persistence', 'features.phhist_C-H-N-O_dim1_nx0_ny6_persistence', 'features.phhist_C-H-N-O_dim1_nx0_ny7_persistence', 'features.phhist_C-H-N-O_dim1_nx0_ny8_persistence', 'features.phhist_C-H-N-O_dim1_nx0_ny9_persistence', 'features.phhist_C-H-N-O_dim1_nx1_ny0_persistence', 'features.phhist_C-H-N-O_dim1_nx1_ny1_persistence', 'features.phhist_C-H-N-O_dim1_nx1_ny2_persistence', 'features.phhist_C-H-N-O_dim1_nx1_ny3_persistence', 'features.phhist_C-H-N-O_dim1_nx1_ny4_persistence', 'features.phhist_C-H-N-O_dim1_nx1_ny5_persistence', 'features.phhist_C-H-N-O_dim1_nx1_ny6_persistence', 'features.phhist_C-H-N-O_dim1_nx1_ny7_persistence', 'features.phhist_C-H-N-O_dim1_nx1_ny8_persistence', 'features.phhist_C-H-N-O_dim1_nx1_ny9_persistence', 'features.phhist_C-H-N-O_dim1_nx2_ny0_persistence', 'features.phhist_C-H-N-O_dim1_nx2_ny1_persistence', 'features.phhist_C-H-N-O_dim1_nx2_ny2_persistence', 'features.phhist_C-H-N-O_dim1_nx2_ny3_persistence', 'features.phhist_C-H-N-O_dim1_nx2_ny4_persistence', 'features.phhist_C-H-N-O_dim1_nx2_ny5_persistence', 'features.phhist_C-H-N-O_dim1_nx2_ny6_persistence', 'features.phhist_C-H-N-O_dim1_nx2_ny7_persistence', 'features.phhist_C-H-N-O_dim1_nx2_ny8_persistence', 'features.phhist_C-H-N-O_dim1_nx2_ny9_persistence', 'features.phhist_C-H-N-O_dim1_nx3_ny0_persistence', 'features.phhist_C-H-N-O_dim1_nx3_ny1_persistence', 'features.phhist_C-H-N-O_dim1_nx3_ny2_persistence', 'features.phhist_C-H-N-O_dim1_nx3_ny3_persistence', 'features.phhist_C-H-N-O_dim1_nx3_ny4_persistence', 'features.phhist_C-H-N-O_dim1_nx3_ny5_persistence', 'features.phhist_C-H-N-O_dim1_nx3_ny6_persistence', 'features.phhist_C-H-N-O_dim1_nx3_ny7_persistence', 'features.phhist_C-H-N-O_dim1_nx3_ny8_persistence', 'features.phhist_C-H-N-O_dim1_nx3_ny9_persistence', 'features.phhist_C-H-N-O_dim1_nx4_ny0_persistence', 'features.phhist_C-H-N-O_dim1_nx4_ny1_persistence', 'features.phhist_C-H-N-O_dim1_nx4_ny2_persistence', 'features.phhist_C-H-N-O_dim1_nx4_ny3_persistence', 'features.phhist_C-H-N-O_dim1_nx4_ny4_persistence', 'features.phhist_C-H-N-O_dim1_nx4_ny5_persistence', 'features.phhist_C-H-N-O_dim1_nx4_ny6_persistence', 'features.phhist_C-H-N-O_dim1_nx4_ny7_persistence', 'features.phhist_C-H-N-O_dim1_nx4_ny8_persistence', 'features.phhist_C-H-N-O_dim1_nx4_ny9_persistence', 'features.phhist_C-H-N-O_dim1_nx5_ny0_persistence', 'features.phhist_C-H-N-O_dim1_nx5_ny1_persistence', 'features.phhist_C-H-N-O_dim1_nx5_ny2_persistence', 'features.phhist_C-H-N-O_dim1_nx5_ny3_persistence', 'features.phhist_C-H-N-O_dim1_nx5_ny4_persistence', 'features.phhist_C-H-N-O_dim1_nx5_ny5_persistence', 'features.phhist_C-H-N-O_dim1_nx5_ny6_persistence', 'features.phhist_C-H-N-O_dim1_nx5_ny7_persistence', 'features.phhist_C-H-N-O_dim1_nx5_ny8_persistence', 'features.phhist_C-H-N-O_dim1_nx5_ny9_persistence', 'features.phhist_C-H-N-O_dim1_nx6_ny0_persistence', 'features.phhist_C-H-N-O_dim1_nx6_ny1_persistence', 'features.phhist_C-H-N-O_dim1_nx6_ny2_persistence', 'features.phhist_C-H-N-O_dim1_nx6_ny3_persistence', 'features.phhist_C-H-N-O_dim1_nx6_ny4_persistence', 'features.phhist_C-H-N-O_dim1_nx6_ny5_persistence', 'features.phhist_C-H-N-O_dim1_nx6_ny6_persistence', 'features.phhist_C-H-N-O_dim1_nx6_ny7_persistence', 'features.phhist_C-H-N-O_dim1_nx6_ny8_persistence', 'features.phhist_C-H-N-O_dim1_nx6_ny9_persistence', 'features.phhist_C-H-N-O_dim1_nx7_ny0_persistence', 'features.phhist_C-H-N-O_dim1_nx7_ny1_persistence', 'features.phhist_C-H-N-O_dim1_nx7_ny2_persistence', 'features.phhist_C-H-N-O_dim1_nx7_ny3_persistence', 'features.phhist_C-H-N-O_dim1_nx7_ny4_persistence', 'features.phhist_C-H-N-O_dim1_nx7_ny5_persistence', 'features.phhist_C-H-N-O_dim1_nx7_ny6_persistence', 'features.phhist_C-H-N-O_dim1_nx7_ny7_persistence', 'features.phhist_C-H-N-O_dim1_nx7_ny8_persistence', 'features.phhist_C-H-N-O_dim1_nx7_ny9_persistence', 'features.phhist_C-H-N-O_dim1_nx8_ny0_persistence', 'features.phhist_C-H-N-O_dim1_nx8_ny1_persistence', 'features.phhist_C-H-N-O_dim1_nx8_ny2_persistence', 'features.phhist_C-H-N-O_dim1_nx8_ny3_persistence', 'features.phhist_C-H-N-O_dim1_nx8_ny4_persistence', 'features.phhist_C-H-N-O_dim1_nx8_ny5_persistence', 'features.phhist_C-H-N-O_dim1_nx8_ny6_persistence', 'features.phhist_C-H-N-O_dim1_nx8_ny7_persistence', 'features.phhist_C-H-N-O_dim1_nx8_ny8_persistence', 'features.phhist_C-H-N-O_dim1_nx8_ny9_persistence', 'features.phhist_C-H-N-O_dim1_nx9_ny0_persistence', 'features.phhist_C-H-N-O_dim1_nx9_ny1_persistence', 'features.phhist_C-H-N-O_dim1_nx9_ny2_persistence', 'features.phhist_C-H-N-O_dim1_nx9_ny3_persistence', 'features.phhist_C-H-N-O_dim1_nx9_ny4_persistence', 'features.phhist_C-H-N-O_dim1_nx9_ny5_persistence', 'features.phhist_C-H-N-O_dim1_nx9_ny6_persistence', 'features.phhist_C-H-N-O_dim1_nx9_ny7_persistence', 'features.phhist_C-H-N-O_dim1_nx9_ny8_persistence', 'features.phhist_C-H-N-O_dim1_nx9_ny9_persistence', 'features.phhist_C-H-N-O_dim2_nx0_ny0_persistence', 'features.phhist_C-H-N-O_dim2_nx0_ny1_persistence', 'features.phhist_C-H-N-O_dim2_nx0_ny2_persistence', 'features.phhist_C-H-N-O_dim2_nx0_ny3_persistence', 'features.phhist_C-H-N-O_dim2_nx0_ny4_persistence', 'features.phhist_C-H-N-O_dim2_nx0_ny5_persistence', 'features.phhist_C-H-N-O_dim2_nx0_ny6_persistence', 'features.phhist_C-H-N-O_dim2_nx0_ny7_persistence', 'features.phhist_C-H-N-O_dim2_nx0_ny8_persistence', 'features.phhist_C-H-N-O_dim2_nx0_ny9_persistence', 'features.phhist_C-H-N-O_dim2_nx1_ny0_persistence', 'features.phhist_C-H-N-O_dim2_nx1_ny1_persistence', 'features.phhist_C-H-N-O_dim2_nx1_ny2_persistence', 'features.phhist_C-H-N-O_dim2_nx1_ny3_persistence', 'features.phhist_C-H-N-O_dim2_nx1_ny4_persistence', 'features.phhist_C-H-N-O_dim2_nx1_ny5_persistence', 'features.phhist_C-H-N-O_dim2_nx1_ny6_persistence', 'features.phhist_C-H-N-O_dim2_nx1_ny7_persistence', 'features.phhist_C-H-N-O_dim2_nx1_ny8_persistence', 'features.phhist_C-H-N-O_dim2_nx1_ny9_persistence', 'features.phhist_C-H-N-O_dim2_nx2_ny0_persistence', 'features.phhist_C-H-N-O_dim2_nx2_ny1_persistence', 'features.phhist_C-H-N-O_dim2_nx2_ny2_persistence', 'features.phhist_C-H-N-O_dim2_nx2_ny3_persistence', 'features.phhist_C-H-N-O_dim2_nx2_ny4_persistence', 'features.phhist_C-H-N-O_dim2_nx2_ny5_persistence', 'features.phhist_C-H-N-O_dim2_nx2_ny6_persistence', 'features.phhist_C-H-N-O_dim2_nx2_ny7_persistence', 'features.phhist_C-H-N-O_dim2_nx2_ny8_persistence', 'features.phhist_C-H-N-O_dim2_nx2_ny9_persistence', 'features.phhist_C-H-N-O_dim2_nx3_ny0_persistence', 'features.phhist_C-H-N-O_dim2_nx3_ny1_persistence', 'features.phhist_C-H-N-O_dim2_nx3_ny2_persistence', 'features.phhist_C-H-N-O_dim2_nx3_ny3_persistence', 'features.phhist_C-H-N-O_dim2_nx3_ny4_persistence', 'features.phhist_C-H-N-O_dim2_nx3_ny5_persistence', 'features.phhist_C-H-N-O_dim2_nx3_ny6_persistence', 'features.phhist_C-H-N-O_dim2_nx3_ny7_persistence', 'features.phhist_C-H-N-O_dim2_nx3_ny8_persistence', 'features.phhist_C-H-N-O_dim2_nx3_ny9_persistence', 'features.phhist_C-H-N-O_dim2_nx4_ny0_persistence', 'features.phhist_C-H-N-O_dim2_nx4_ny1_persistence', 'features.phhist_C-H-N-O_dim2_nx4_ny2_persistence', 'features.phhist_C-H-N-O_dim2_nx4_ny3_persistence', 'features.phhist_C-H-N-O_dim2_nx4_ny4_persistence', 'features.phhist_C-H-N-O_dim2_nx4_ny5_persistence', 'features.phhist_C-H-N-O_dim2_nx4_ny6_persistence', 'features.phhist_C-H-N-O_dim2_nx4_ny7_persistence', 'features.phhist_C-H-N-O_dim2_nx4_ny8_persistence', 'features.phhist_C-H-N-O_dim2_nx4_ny9_persistence', 'features.phhist_C-H-N-O_dim2_nx5_ny0_persistence', 'features.phhist_C-H-N-O_dim2_nx5_ny1_persistence', 'features.phhist_C-H-N-O_dim2_nx5_ny2_persistence', 'features.phhist_C-H-N-O_dim2_nx5_ny3_persistence', 'features.phhist_C-H-N-O_dim2_nx5_ny4_persistence', 'features.phhist_C-H-N-O_dim2_nx5_ny5_persistence', 'features.phhist_C-H-N-O_dim2_nx5_ny6_persistence', 'features.phhist_C-H-N-O_dim2_nx5_ny7_persistence', 'features.phhist_C-H-N-O_dim2_nx5_ny8_persistence', 'features.phhist_C-H-N-O_dim2_nx5_ny9_persistence', 'features.phhist_C-H-N-O_dim2_nx6_ny0_persistence', 'features.phhist_C-H-N-O_dim2_nx6_ny1_persistence', 'features.phhist_C-H-N-O_dim2_nx6_ny2_persistence', 'features.phhist_C-H-N-O_dim2_nx6_ny3_persistence', 'features.phhist_C-H-N-O_dim2_nx6_ny4_persistence', 'features.phhist_C-H-N-O_dim2_nx6_ny5_persistence', 'features.phhist_C-H-N-O_dim2_nx6_ny6_persistence', 'features.phhist_C-H-N-O_dim2_nx6_ny7_persistence', 'features.phhist_C-H-N-O_dim2_nx6_ny8_persistence', 'features.phhist_C-H-N-O_dim2_nx6_ny9_persistence', 'features.phhist_C-H-N-O_dim2_nx7_ny0_persistence', 'features.phhist_C-H-N-O_dim2_nx7_ny1_persistence', 'features.phhist_C-H-N-O_dim2_nx7_ny2_persistence', 'features.phhist_C-H-N-O_dim2_nx7_ny3_persistence', 'features.phhist_C-H-N-O_dim2_nx7_ny4_persistence', 'features.phhist_C-H-N-O_dim2_nx7_ny5_persistence', 'features.phhist_C-H-N-O_dim2_nx7_ny6_persistence', 'features.phhist_C-H-N-O_dim2_nx7_ny7_persistence', 'features.phhist_C-H-N-O_dim2_nx7_ny8_persistence', 'features.phhist_C-H-N-O_dim2_nx7_ny9_persistence', 'features.phhist_C-H-N-O_dim2_nx8_ny0_persistence', 'features.phhist_C-H-N-O_dim2_nx8_ny1_persistence', 'features.phhist_C-H-N-O_dim2_nx8_ny2_persistence', 'features.phhist_C-H-N-O_dim2_nx8_ny3_persistence', 'features.phhist_C-H-N-O_dim2_nx8_ny4_persistence', 'features.phhist_C-H-N-O_dim2_nx8_ny5_persistence', 'features.phhist_C-H-N-O_dim2_nx8_ny6_persistence', 'features.phhist_C-H-N-O_dim2_nx8_ny7_persistence', 'features.phhist_C-H-N-O_dim2_nx8_ny8_persistence', 'features.phhist_C-H-N-O_dim2_nx8_ny9_persistence', 'features.phhist_C-H-N-O_dim2_nx9_ny0_persistence', 'features.phhist_C-H-N-O_dim2_nx9_ny1_persistence', 'features.phhist_C-H-N-O_dim2_nx9_ny2_persistence', 'features.phhist_C-H-N-O_dim2_nx9_ny3_persistence', 'features.phhist_C-H-N-O_dim2_nx9_ny4_persistence', 'features.phhist_C-H-N-O_dim2_nx9_ny5_persistence', 'features.phhist_C-H-N-O_dim2_nx9_ny6_persistence', 'features.phhist_C-H-N-O_dim2_nx9_ny7_persistence', 'features.phhist_C-H-N-O_dim2_nx9_ny8_persistence', 'features.phhist_C-H-N-O_dim2_nx9_ny9_persistence', 'features.phhist_F-Cl-Br-I_dim1_nx0_ny0_persistence', 'features.phhist_F-Cl-Br-I_dim1_nx0_ny1_persistence', 'features.phhist_F-Cl-Br-I_dim1_nx0_ny2_persistence', 'features.phhist_F-Cl-Br-I_dim1_nx0_ny3_persistence', 'features.phhist_F-Cl-Br-I_dim1_nx0_ny4_persistence', 'features.phhist_F-Cl-Br-I_dim1_nx0_ny5_persistence', 'features.phhist_F-Cl-Br-I_dim1_nx0_ny6_persistence', 'features.phhist_F-Cl-Br-I_dim1_nx0_ny7_persistence', 'features.phhist_F-Cl-Br-I_dim1_nx0_ny8_persistence', 'features.phhist_F-Cl-Br-I_dim1_nx0_ny9_persistence', 'features.phhist_F-Cl-Br-I_dim1_nx1_ny0_persistence', 'features.phhist_F-Cl-Br-I_dim1_nx1_ny1_persistence', 'features.phhist_F-Cl-Br-I_dim1_nx1_ny2_persistence', 'features.phhist_F-Cl-Br-I_dim1_nx1_ny3_persistence', 'features.phhist_F-Cl-Br-I_dim1_nx1_ny4_persistence', 'features.phhist_F-Cl-Br-I_dim1_nx1_ny5_persistence', 'features.phhist_F-Cl-Br-I_dim1_nx1_ny6_persistence', 'features.phhist_F-Cl-Br-I_dim1_nx1_ny7_persistence', 'features.phhist_F-Cl-Br-I_dim1_nx1_ny8_persistence', 'features.phhist_F-Cl-Br-I_dim1_nx1_ny9_persistence', 'features.phhist_F-Cl-Br-I_dim1_nx2_ny0_persistence', 'features.phhist_F-Cl-Br-I_dim1_nx2_ny1_persistence', 'features.phhist_F-Cl-Br-I_dim1_nx2_ny2_persistence', 'features.phhist_F-Cl-Br-I_dim1_nx2_ny3_persistence', 'features.phhist_F-Cl-Br-I_dim1_nx2_ny4_persistence', 'features.phhist_F-Cl-Br-I_dim1_nx2_ny5_persistence', 'features.phhist_F-Cl-Br-I_dim1_nx2_ny6_persistence', 'features.phhist_F-Cl-Br-I_dim1_nx2_ny7_persistence', 'features.phhist_F-Cl-Br-I_dim1_nx2_ny8_persistence', 'features.phhist_F-Cl-Br-I_dim1_nx2_ny9_persistence', 'features.phhist_F-Cl-Br-I_dim1_nx3_ny0_persistence', 'features.phhist_F-Cl-Br-I_dim1_nx3_ny1_persistence', 'features.phhist_F-Cl-Br-I_dim1_nx3_ny2_persistence', 'features.phhist_F-Cl-Br-I_dim1_nx3_ny3_persistence', 'features.phhist_F-Cl-Br-I_dim1_nx3_ny4_persistence', 'features.phhist_F-Cl-Br-I_dim1_nx3_ny5_persistence', 'features.phhist_F-Cl-Br-I_dim1_nx3_ny6_persistence', 'features.phhist_F-Cl-Br-I_dim1_nx3_ny7_persistence', 'features.phhist_F-Cl-Br-I_dim1_nx3_ny8_persistence', 'features.phhist_F-Cl-Br-I_dim1_nx3_ny9_persistence', 'features.phhist_F-Cl-Br-I_dim1_nx4_ny0_persistence', 'features.phhist_F-Cl-Br-I_dim1_nx4_ny1_persistence', 'features.phhist_F-Cl-Br-I_dim1_nx4_ny2_persistence', 'features.phhist_F-Cl-Br-I_dim1_nx4_ny3_persistence', 'features.phhist_F-Cl-Br-I_dim1_nx4_ny4_persistence', 'features.phhist_F-Cl-Br-I_dim1_nx4_ny5_persistence', 'features.phhist_F-Cl-Br-I_dim1_nx4_ny6_persistence', 'features.phhist_F-Cl-Br-I_dim1_nx4_ny7_persistence', 'features.phhist_F-Cl-Br-I_dim1_nx4_ny8_persistence', 'features.phhist_F-Cl-Br-I_dim1_nx4_ny9_persistence', 'features.phhist_F-Cl-Br-I_dim1_nx5_ny0_persistence', 'features.phhist_F-Cl-Br-I_dim1_nx5_ny1_persistence', 'features.phhist_F-Cl-Br-I_dim1_nx5_ny2_persistence', 'features.phhist_F-Cl-Br-I_dim1_nx5_ny3_persistence', 'features.phhist_F-Cl-Br-I_dim1_nx5_ny4_persistence', 'features.phhist_F-Cl-Br-I_dim1_nx5_ny5_persistence', 'features.phhist_F-Cl-Br-I_dim1_nx5_ny6_persistence', 'features.phhist_F-Cl-Br-I_dim1_nx5_ny7_persistence', 'features.phhist_F-Cl-Br-I_dim1_nx5_ny8_persistence', 'features.phhist_F-Cl-Br-I_dim1_nx5_ny9_persistence', 'features.phhist_F-Cl-Br-I_dim1_nx6_ny0_persistence', 'features.phhist_F-Cl-Br-I_dim1_nx6_ny1_persistence', 'features.phhist_F-Cl-Br-I_dim1_nx6_ny2_persistence', 'features.phhist_F-Cl-Br-I_dim1_nx6_ny3_persistence', 'features.phhist_F-Cl-Br-I_dim1_nx6_ny4_persistence', 'features.phhist_F-Cl-Br-I_dim1_nx6_ny5_persistence', 'features.phhist_F-Cl-Br-I_dim1_nx6_ny6_persistence', 'features.phhist_F-Cl-Br-I_dim1_nx6_ny7_persistence', 'features.phhist_F-Cl-Br-I_dim1_nx6_ny8_persistence', 'features.phhist_F-Cl-Br-I_dim1_nx6_ny9_persistence', 'features.phhist_F-Cl-Br-I_dim1_nx7_ny0_persistence', 'features.phhist_F-Cl-Br-I_dim1_nx7_ny1_persistence', 'features.phhist_F-Cl-Br-I_dim1_nx7_ny2_persistence', 'features.phhist_F-Cl-Br-I_dim1_nx7_ny3_persistence', 'features.phhist_F-Cl-Br-I_dim1_nx7_ny4_persistence', 'features.phhist_F-Cl-Br-I_dim1_nx7_ny5_persistence', 'features.phhist_F-Cl-Br-I_dim1_nx7_ny6_persistence', 'features.phhist_F-Cl-Br-I_dim1_nx7_ny7_persistence', 'features.phhist_F-Cl-Br-I_dim1_nx7_ny8_persistence', 'features.phhist_F-Cl-Br-I_dim1_nx7_ny9_persistence', 'features.phhist_F-Cl-Br-I_dim1_nx8_ny0_persistence', 'features.phhist_F-Cl-Br-I_dim1_nx8_ny1_persistence', 'features.phhist_F-Cl-Br-I_dim1_nx8_ny2_persistence', 'features.phhist_F-Cl-Br-I_dim1_nx8_ny3_persistence', 'features.phhist_F-Cl-Br-I_dim1_nx8_ny4_persistence', 'features.phhist_F-Cl-Br-I_dim1_nx8_ny5_persistence', 'features.phhist_F-Cl-Br-I_dim1_nx8_ny6_persistence', 'features.phhist_F-Cl-Br-I_dim1_nx8_ny7_persistence', 'features.phhist_F-Cl-Br-I_dim1_nx8_ny8_persistence', 'features.phhist_F-Cl-Br-I_dim1_nx8_ny9_persistence', 'features.phhist_F-Cl-Br-I_dim1_nx9_ny0_persistence', 'features.phhist_F-Cl-Br-I_dim1_nx9_ny1_persistence', 'features.phhist_F-Cl-Br-I_dim1_nx9_ny2_persistence', 'features.phhist_F-Cl-Br-I_dim1_nx9_ny3_persistence', 'features.phhist_F-Cl-Br-I_dim1_nx9_ny4_persistence', 'features.phhist_F-Cl-Br-I_dim1_nx9_ny5_persistence', 'features.phhist_F-Cl-Br-I_dim1_nx9_ny6_persistence', 'features.phhist_F-Cl-Br-I_dim1_nx9_ny7_persistence', 'features.phhist_F-Cl-Br-I_dim1_nx9_ny8_persistence', 'features.phhist_F-Cl-Br-I_dim1_nx9_ny9_persistence', 'features.phhist_F-Cl-Br-I_dim2_nx0_ny0_persistence', 'features.phhist_F-Cl-Br-I_dim2_nx0_ny1_persistence', 'features.phhist_F-Cl-Br-I_dim2_nx0_ny2_persistence', 'features.phhist_F-Cl-Br-I_dim2_nx0_ny3_persistence', 'features.phhist_F-Cl-Br-I_dim2_nx0_ny4_persistence', 'features.phhist_F-Cl-Br-I_dim2_nx0_ny5_persistence', 'features.phhist_F-Cl-Br-I_dim2_nx0_ny6_persistence', 'features.phhist_F-Cl-Br-I_dim2_nx0_ny7_persistence', 'features.phhist_F-Cl-Br-I_dim2_nx0_ny8_persistence', 'features.phhist_F-Cl-Br-I_dim2_nx0_ny9_persistence', 'features.phhist_F-Cl-Br-I_dim2_nx1_ny0_persistence', 'features.phhist_F-Cl-Br-I_dim2_nx1_ny1_persistence', 'features.phhist_F-Cl-Br-I_dim2_nx1_ny2_persistence', 'features.phhist_F-Cl-Br-I_dim2_nx1_ny3_persistence', 'features.phhist_F-Cl-Br-I_dim2_nx1_ny4_persistence', 'features.phhist_F-Cl-Br-I_dim2_nx1_ny5_persistence', 'features.phhist_F-Cl-Br-I_dim2_nx1_ny6_persistence', 'features.phhist_F-Cl-Br-I_dim2_nx1_ny7_persistence', 'features.phhist_F-Cl-Br-I_dim2_nx1_ny8_persistence', 'features.phhist_F-Cl-Br-I_dim2_nx1_ny9_persistence', 'features.phhist_F-Cl-Br-I_dim2_nx2_ny0_persistence', 'features.phhist_F-Cl-Br-I_dim2_nx2_ny1_persistence', 'features.phhist_F-Cl-Br-I_dim2_nx2_ny2_persistence', 'features.phhist_F-Cl-Br-I_dim2_nx2_ny3_persistence', 'features.phhist_F-Cl-Br-I_dim2_nx2_ny4_persistence', 'features.phhist_F-Cl-Br-I_dim2_nx2_ny5_persistence', 'features.phhist_F-Cl-Br-I_dim2_nx2_ny6_persistence', 'features.phhist_F-Cl-Br-I_dim2_nx2_ny7_persistence', 'features.phhist_F-Cl-Br-I_dim2_nx2_ny8_persistence', 'features.phhist_F-Cl-Br-I_dim2_nx2_ny9_persistence', 'features.phhist_F-Cl-Br-I_dim2_nx3_ny0_persistence', 'features.phhist_F-Cl-Br-I_dim2_nx3_ny1_persistence', 'features.phhist_F-Cl-Br-I_dim2_nx3_ny2_persistence', 'features.phhist_F-Cl-Br-I_dim2_nx3_ny3_persistence', 'features.phhist_F-Cl-Br-I_dim2_nx3_ny4_persistence', 'features.phhist_F-Cl-Br-I_dim2_nx3_ny5_persistence', 'features.phhist_F-Cl-Br-I_dim2_nx3_ny6_persistence', 'features.phhist_F-Cl-Br-I_dim2_nx3_ny7_persistence', 'features.phhist_F-Cl-Br-I_dim2_nx3_ny8_persistence', 'features.phhist_F-Cl-Br-I_dim2_nx3_ny9_persistence', 'features.phhist_F-Cl-Br-I_dim2_nx4_ny0_persistence', 'features.phhist_F-Cl-Br-I_dim2_nx4_ny1_persistence', 'features.phhist_F-Cl-Br-I_dim2_nx4_ny2_persistence', 'features.phhist_F-Cl-Br-I_dim2_nx4_ny3_persistence', 'features.phhist_F-Cl-Br-I_dim2_nx4_ny4_persistence', 'features.phhist_F-Cl-Br-I_dim2_nx4_ny5_persistence', 'features.phhist_F-Cl-Br-I_dim2_nx4_ny6_persistence', 'features.phhist_F-Cl-Br-I_dim2_nx4_ny7_persistence', 'features.phhist_F-Cl-Br-I_dim2_nx4_ny8_persistence', 'features.phhist_F-Cl-Br-I_dim2_nx4_ny9_persistence', 'features.phhist_F-Cl-Br-I_dim2_nx5_ny0_persistence', 'features.phhist_F-Cl-Br-I_dim2_nx5_ny1_persistence', 'features.phhist_F-Cl-Br-I_dim2_nx5_ny2_persistence', 'features.phhist_F-Cl-Br-I_dim2_nx5_ny3_persistence', 'features.phhist_F-Cl-Br-I_dim2_nx5_ny4_persistence', 'features.phhist_F-Cl-Br-I_dim2_nx5_ny5_persistence', 'features.phhist_F-Cl-Br-I_dim2_nx5_ny6_persistence', 'features.phhist_F-Cl-Br-I_dim2_nx5_ny7_persistence', 'features.phhist_F-Cl-Br-I_dim2_nx5_ny8_persistence', 'features.phhist_F-Cl-Br-I_dim2_nx5_ny9_persistence', 'features.phhist_F-Cl-Br-I_dim2_nx6_ny0_persistence', 'features.phhist_F-Cl-Br-I_dim2_nx6_ny1_persistence', 'features.phhist_F-Cl-Br-I_dim2_nx6_ny2_persistence', 'features.phhist_F-Cl-Br-I_dim2_nx6_ny3_persistence', 'features.phhist_F-Cl-Br-I_dim2_nx6_ny4_persistence', 'features.phhist_F-Cl-Br-I_dim2_nx6_ny5_persistence', 'features.phhist_F-Cl-Br-I_dim2_nx6_ny6_persistence', 'features.phhist_F-Cl-Br-I_dim2_nx6_ny7_persistence', 'features.phhist_F-Cl-Br-I_dim2_nx6_ny8_persistence', 'features.phhist_F-Cl-Br-I_dim2_nx6_ny9_persistence', 'features.phhist_F-Cl-Br-I_dim2_nx7_ny0_persistence', 'features.phhist_F-Cl-Br-I_dim2_nx7_ny1_persistence', 'features.phhist_F-Cl-Br-I_dim2_nx7_ny2_persistence', 'features.phhist_F-Cl-Br-I_dim2_nx7_ny3_persistence', 'features.phhist_F-Cl-Br-I_dim2_nx7_ny4_persistence', 'features.phhist_F-Cl-Br-I_dim2_nx7_ny5_persistence', 'features.phhist_F-Cl-Br-I_dim2_nx7_ny6_persistence', 'features.phhist_F-Cl-Br-I_dim2_nx7_ny7_persistence', 'features.phhist_F-Cl-Br-I_dim2_nx7_ny8_persistence', 'features.phhist_F-Cl-Br-I_dim2_nx7_ny9_persistence', 'features.phhist_F-Cl-Br-I_dim2_nx8_ny0_persistence', 'features.phhist_F-Cl-Br-I_dim2_nx8_ny1_persistence', 'features.phhist_F-Cl-Br-I_dim2_nx8_ny2_persistence', 'features.phhist_F-Cl-Br-I_dim2_nx8_ny3_persistence', 'features.phhist_F-Cl-Br-I_dim2_nx8_ny4_persistence', 'features.phhist_F-Cl-Br-I_dim2_nx8_ny5_persistence', 'features.phhist_F-Cl-Br-I_dim2_nx8_ny6_persistence', 'features.phhist_F-Cl-Br-I_dim2_nx8_ny7_persistence', 'features.phhist_F-Cl-Br-I_dim2_nx8_ny8_persistence', 'features.phhist_F-Cl-Br-I_dim2_nx8_ny9_persistence', 'features.phhist_F-Cl-Br-I_dim2_nx9_ny0_persistence', 'features.phhist_F-Cl-Br-I_dim2_nx9_ny1_persistence', 'features.phhist_F-Cl-Br-I_dim2_nx9_ny2_persistence', 'features.phhist_F-Cl-Br-I_dim2_nx9_ny3_persistence', 'features.phhist_F-Cl-Br-I_dim2_nx9_ny4_persistence', 'features.phhist_F-Cl-Br-I_dim2_nx9_ny5_persistence', 'features.phhist_F-Cl-Br-I_dim2_nx9_ny6_persistence', 'features.phhist_F-Cl-Br-I_dim2_nx9_ny7_persistence', 'features.phhist_F-Cl-Br-I_dim2_nx9_ny8_persistence', 'features.phhist_F-Cl-Br-I_dim2_nx9_ny9_persistence', 'features.phhist_Cu-Mn-Ni-Mo-Fe-Pt-Zn-Ca-Er-Au-Cd-Co-Gd-Na-Sm-Eu-Tb-V-Ag-Nd-U-Ba-Ce-K-Ga-Cr-Al-Li-Sc-Ru-In-Mg-Zr-Dy-W-Yb-Y-Ho-Re-Be-Rb-La-Sn-Cs-Pb-Pr-Bi-Tm-Sr-Ti-Hf-Ir-Nb-Pd-Hg-Th-Np-Lu-Rh-Pu_dim1_nx0_ny0_persistence', 'features.phhist_Cu-Mn-Ni-Mo-Fe-Pt-Zn-Ca-Er-Au-Cd-Co-Gd-Na-Sm-Eu-Tb-V-Ag-Nd-U-Ba-Ce-K-Ga-Cr-Al-Li-Sc-Ru-In-Mg-Zr-Dy-W-Yb-Y-Ho-Re-Be-Rb-La-Sn-Cs-Pb-Pr-Bi-Tm-Sr-Ti-Hf-Ir-Nb-Pd-Hg-Th-Np-Lu-Rh-Pu_dim1_nx0_ny1_persistence', 'features.phhist_Cu-Mn-Ni-Mo-Fe-Pt-Zn-Ca-Er-Au-Cd-Co-Gd-Na-Sm-Eu-Tb-V-Ag-Nd-U-Ba-Ce-K-Ga-Cr-Al-Li-Sc-Ru-In-Mg-Zr-Dy-W-Yb-Y-Ho-Re-Be-Rb-La-Sn-Cs-Pb-Pr-Bi-Tm-Sr-Ti-Hf-Ir-Nb-Pd-Hg-Th-Np-Lu-Rh-Pu_dim1_nx0_ny2_persistence', 'features.phhist_Cu-Mn-Ni-Mo-Fe-Pt-Zn-Ca-Er-Au-Cd-Co-Gd-Na-Sm-Eu-Tb-V-Ag-Nd-U-Ba-Ce-K-Ga-Cr-Al-Li-Sc-Ru-In-Mg-Zr-Dy-W-Yb-Y-Ho-Re-Be-Rb-La-Sn-Cs-Pb-Pr-Bi-Tm-Sr-Ti-Hf-Ir-Nb-Pd-Hg-Th-Np-Lu-Rh-Pu_dim1_nx0_ny3_persistence', 'features.phhist_Cu-Mn-Ni-Mo-Fe-Pt-Zn-Ca-Er-Au-Cd-Co-Gd-Na-Sm-Eu-Tb-V-Ag-Nd-U-Ba-Ce-K-Ga-Cr-Al-Li-Sc-Ru-In-Mg-Zr-Dy-W-Yb-Y-Ho-Re-Be-Rb-La-Sn-Cs-Pb-Pr-Bi-Tm-Sr-Ti-Hf-Ir-Nb-Pd-Hg-Th-Np-Lu-Rh-Pu_dim1_nx0_ny4_persistence', 'features.phhist_Cu-Mn-Ni-Mo-Fe-Pt-Zn-Ca-Er-Au-Cd-Co-Gd-Na-Sm-Eu-Tb-V-Ag-Nd-U-Ba-Ce-K-Ga-Cr-Al-Li-Sc-Ru-In-Mg-Zr-Dy-W-Yb-Y-Ho-Re-Be-Rb-La-Sn-Cs-Pb-Pr-Bi-Tm-Sr-Ti-Hf-Ir-Nb-Pd-Hg-Th-Np-Lu-Rh-Pu_dim1_nx0_ny5_persistence', 'features.phhist_Cu-Mn-Ni-Mo-Fe-Pt-Zn-Ca-Er-Au-Cd-Co-Gd-Na-Sm-Eu-Tb-V-Ag-Nd-U-Ba-Ce-K-Ga-Cr-Al-Li-Sc-Ru-In-Mg-Zr-Dy-W-Yb-Y-Ho-Re-Be-Rb-La-Sn-Cs-Pb-Pr-Bi-Tm-Sr-Ti-Hf-Ir-Nb-Pd-Hg-Th-Np-Lu-Rh-Pu_dim1_nx0_ny6_persistence', 'features.phhist_Cu-Mn-Ni-Mo-Fe-Pt-Zn-Ca-Er-Au-Cd-Co-Gd-Na-Sm-Eu-Tb-V-Ag-Nd-U-Ba-Ce-K-Ga-Cr-Al-Li-Sc-Ru-In-Mg-Zr-Dy-W-Yb-Y-Ho-Re-Be-Rb-La-Sn-Cs-Pb-Pr-Bi-Tm-Sr-Ti-Hf-Ir-Nb-Pd-Hg-Th-Np-Lu-Rh-Pu_dim1_nx0_ny7_persistence', 'features.phhist_Cu-Mn-Ni-Mo-Fe-Pt-Zn-Ca-Er-Au-Cd-Co-Gd-Na-Sm-Eu-Tb-V-Ag-Nd-U-Ba-Ce-K-Ga-Cr-Al-Li-Sc-Ru-In-Mg-Zr-Dy-W-Yb-Y-Ho-Re-Be-Rb-La-Sn-Cs-Pb-Pr-Bi-Tm-Sr-Ti-Hf-Ir-Nb-Pd-Hg-Th-Np-Lu-Rh-Pu_dim1_nx0_ny8_persistence', 'features.phhist_Cu-Mn-Ni-Mo-Fe-Pt-Zn-Ca-Er-Au-Cd-Co-Gd-Na-Sm-Eu-Tb-V-Ag-Nd-U-Ba-Ce-K-Ga-Cr-Al-Li-Sc-Ru-In-Mg-Zr-Dy-W-Yb-Y-Ho-Re-Be-Rb-La-Sn-Cs-Pb-Pr-Bi-Tm-Sr-Ti-Hf-Ir-Nb-Pd-Hg-Th-Np-Lu-Rh-Pu_dim1_nx0_ny9_persistence', 'features.phhist_Cu-Mn-Ni-Mo-Fe-Pt-Zn-Ca-Er-Au-Cd-Co-Gd-Na-Sm-Eu-Tb-V-Ag-Nd-U-Ba-Ce-K-Ga-Cr-Al-Li-Sc-Ru-In-Mg-Zr-Dy-W-Yb-Y-Ho-Re-Be-Rb-La-Sn-Cs-Pb-Pr-Bi-Tm-Sr-Ti-Hf-Ir-Nb-Pd-Hg-Th-Np-Lu-Rh-Pu_dim1_nx1_ny0_persistence', 'features.phhist_Cu-Mn-Ni-Mo-Fe-Pt-Zn-Ca-Er-Au-Cd-Co-Gd-Na-Sm-Eu-Tb-V-Ag-Nd-U-Ba-Ce-K-Ga-Cr-Al-Li-Sc-Ru-In-Mg-Zr-Dy-W-Yb-Y-Ho-Re-Be-Rb-La-Sn-Cs-Pb-Pr-Bi-Tm-Sr-Ti-Hf-Ir-Nb-Pd-Hg-Th-Np-Lu-Rh-Pu_dim1_nx1_ny1_persistence', 'features.phhist_Cu-Mn-Ni-Mo-Fe-Pt-Zn-Ca-Er-Au-Cd-Co-Gd-Na-Sm-Eu-Tb-V-Ag-Nd-U-Ba-Ce-K-Ga-Cr-Al-Li-Sc-Ru-In-Mg-Zr-Dy-W-Yb-Y-Ho-Re-Be-Rb-La-Sn-Cs-Pb-Pr-Bi-Tm-Sr-Ti-Hf-Ir-Nb-Pd-Hg-Th-Np-Lu-Rh-Pu_dim1_nx1_ny2_persistence', 'features.phhist_Cu-Mn-Ni-Mo-Fe-Pt-Zn-Ca-Er-Au-Cd-Co-Gd-Na-Sm-Eu-Tb-V-Ag-Nd-U-Ba-Ce-K-Ga-Cr-Al-Li-Sc-Ru-In-Mg-Zr-Dy-W-Yb-Y-Ho-Re-Be-Rb-La-Sn-Cs-Pb-Pr-Bi-Tm-Sr-Ti-Hf-Ir-Nb-Pd-Hg-Th-Np-Lu-Rh-Pu_dim1_nx1_ny3_persistence', 'features.phhist_Cu-Mn-Ni-Mo-Fe-Pt-Zn-Ca-Er-Au-Cd-Co-Gd-Na-Sm-Eu-Tb-V-Ag-Nd-U-Ba-Ce-K-Ga-Cr-Al-Li-Sc-Ru-In-Mg-Zr-Dy-W-Yb-Y-Ho-Re-Be-Rb-La-Sn-Cs-Pb-Pr-Bi-Tm-Sr-Ti-Hf-Ir-Nb-Pd-Hg-Th-Np-Lu-Rh-Pu_dim1_nx1_ny4_persistence', 'features.phhist_Cu-Mn-Ni-Mo-Fe-Pt-Zn-Ca-Er-Au-Cd-Co-Gd-Na-Sm-Eu-Tb-V-Ag-Nd-U-Ba-Ce-K-Ga-Cr-Al-Li-Sc-Ru-In-Mg-Zr-Dy-W-Yb-Y-Ho-Re-Be-Rb-La-Sn-Cs-Pb-Pr-Bi-Tm-Sr-Ti-Hf-Ir-Nb-Pd-Hg-Th-Np-Lu-Rh-Pu_dim1_nx1_ny5_persistence', 'features.phhist_Cu-Mn-Ni-Mo-Fe-Pt-Zn-Ca-Er-Au-Cd-Co-Gd-Na-Sm-Eu-Tb-V-Ag-Nd-U-Ba-Ce-K-Ga-Cr-Al-Li-Sc-Ru-In-Mg-Zr-Dy-W-Yb-Y-Ho-Re-Be-Rb-La-Sn-Cs-Pb-Pr-Bi-Tm-Sr-Ti-Hf-Ir-Nb-Pd-Hg-Th-Np-Lu-Rh-Pu_dim1_nx1_ny6_persistence', 'features.phhist_Cu-Mn-Ni-Mo-Fe-Pt-Zn-Ca-Er-Au-Cd-Co-Gd-Na-Sm-Eu-Tb-V-Ag-Nd-U-Ba-Ce-K-Ga-Cr-Al-Li-Sc-Ru-In-Mg-Zr-Dy-W-Yb-Y-Ho-Re-Be-Rb-La-Sn-Cs-Pb-Pr-Bi-Tm-Sr-Ti-Hf-Ir-Nb-Pd-Hg-Th-Np-Lu-Rh-Pu_dim1_nx1_ny7_persistence', 'features.phhist_Cu-Mn-Ni-Mo-Fe-Pt-Zn-Ca-Er-Au-Cd-Co-Gd-Na-Sm-Eu-Tb-V-Ag-Nd-U-Ba-Ce-K-Ga-Cr-Al-Li-Sc-Ru-In-Mg-Zr-Dy-W-Yb-Y-Ho-Re-Be-Rb-La-Sn-Cs-Pb-Pr-Bi-Tm-Sr-Ti-Hf-Ir-Nb-Pd-Hg-Th-Np-Lu-Rh-Pu_dim1_nx1_ny8_persistence', 'features.phhist_Cu-Mn-Ni-Mo-Fe-Pt-Zn-Ca-Er-Au-Cd-Co-Gd-Na-Sm-Eu-Tb-V-Ag-Nd-U-Ba-Ce-K-Ga-Cr-Al-Li-Sc-Ru-In-Mg-Zr-Dy-W-Yb-Y-Ho-Re-Be-Rb-La-Sn-Cs-Pb-Pr-Bi-Tm-Sr-Ti-Hf-Ir-Nb-Pd-Hg-Th-Np-Lu-Rh-Pu_dim1_nx1_ny9_persistence', 'features.phhist_Cu-Mn-Ni-Mo-Fe-Pt-Zn-Ca-Er-Au-Cd-Co-Gd-Na-Sm-Eu-Tb-V-Ag-Nd-U-Ba-Ce-K-Ga-Cr-Al-Li-Sc-Ru-In-Mg-Zr-Dy-W-Yb-Y-Ho-Re-Be-Rb-La-Sn-Cs-Pb-Pr-Bi-Tm-Sr-Ti-Hf-Ir-Nb-Pd-Hg-Th-Np-Lu-Rh-Pu_dim1_nx2_ny0_persistence', 'features.phhist_Cu-Mn-Ni-Mo-Fe-Pt-Zn-Ca-Er-Au-Cd-Co-Gd-Na-Sm-Eu-Tb-V-Ag-Nd-U-Ba-Ce-K-Ga-Cr-Al-Li-Sc-Ru-In-Mg-Zr-Dy-W-Yb-Y-Ho-Re-Be-Rb-La-Sn-Cs-Pb-Pr-Bi-Tm-Sr-Ti-Hf-Ir-Nb-Pd-Hg-Th-Np-Lu-Rh-Pu_dim1_nx2_ny1_persistence', 'features.phhist_Cu-Mn-Ni-Mo-Fe-Pt-Zn-Ca-Er-Au-Cd-Co-Gd-Na-Sm-Eu-Tb-V-Ag-Nd-U-Ba-Ce-K-Ga-Cr-Al-Li-Sc-Ru-In-Mg-Zr-Dy-W-Yb-Y-Ho-Re-Be-Rb-La-Sn-Cs-Pb-Pr-Bi-Tm-Sr-Ti-Hf-Ir-Nb-Pd-Hg-Th-Np-Lu-Rh-Pu_dim1_nx2_ny2_persistence', 'features.phhist_Cu-Mn-Ni-Mo-Fe-Pt-Zn-Ca-Er-Au-Cd-Co-Gd-Na-Sm-Eu-Tb-V-Ag-Nd-U-Ba-Ce-K-Ga-Cr-Al-Li-Sc-Ru-In-Mg-Zr-Dy-W-Yb-Y-Ho-Re-Be-Rb-La-Sn-Cs-Pb-Pr-Bi-Tm-Sr-Ti-Hf-Ir-Nb-Pd-Hg-Th-Np-Lu-Rh-Pu_dim1_nx2_ny3_persistence', 'features.phhist_Cu-Mn-Ni-Mo-Fe-Pt-Zn-Ca-Er-Au-Cd-Co-Gd-Na-Sm-Eu-Tb-V-Ag-Nd-U-Ba-Ce-K-Ga-Cr-Al-Li-Sc-Ru-In-Mg-Zr-Dy-W-Yb-Y-Ho-Re-Be-Rb-La-Sn-Cs-Pb-Pr-Bi-Tm-Sr-Ti-Hf-Ir-Nb-Pd-Hg-Th-Np-Lu-Rh-Pu_dim1_nx2_ny4_persistence', 'features.phhist_Cu-Mn-Ni-Mo-Fe-Pt-Zn-Ca-Er-Au-Cd-Co-Gd-Na-Sm-Eu-Tb-V-Ag-Nd-U-Ba-Ce-K-Ga-Cr-Al-Li-Sc-Ru-In-Mg-Zr-Dy-W-Yb-Y-Ho-Re-Be-Rb-La-Sn-Cs-Pb-Pr-Bi-Tm-Sr-Ti-Hf-Ir-Nb-Pd-Hg-Th-Np-Lu-Rh-Pu_dim1_nx2_ny5_persistence', 'features.phhist_Cu-Mn-Ni-Mo-Fe-Pt-Zn-Ca-Er-Au-Cd-Co-Gd-Na-Sm-Eu-Tb-V-Ag-Nd-U-Ba-Ce-K-Ga-Cr-Al-Li-Sc-Ru-In-Mg-Zr-Dy-W-Yb-Y-Ho-Re-Be-Rb-La-Sn-Cs-Pb-Pr-Bi-Tm-Sr-Ti-Hf-Ir-Nb-Pd-Hg-Th-Np-Lu-Rh-Pu_dim1_nx2_ny6_persistence', 'features.phhist_Cu-Mn-Ni-Mo-Fe-Pt-Zn-Ca-Er-Au-Cd-Co-Gd-Na-Sm-Eu-Tb-V-Ag-Nd-U-Ba-Ce-K-Ga-Cr-Al-Li-Sc-Ru-In-Mg-Zr-Dy-W-Yb-Y-Ho-Re-Be-Rb-La-Sn-Cs-Pb-Pr-Bi-Tm-Sr-Ti-Hf-Ir-Nb-Pd-Hg-Th-Np-Lu-Rh-Pu_dim1_nx2_ny7_persistence', 'features.phhist_Cu-Mn-Ni-Mo-Fe-Pt-Zn-Ca-Er-Au-Cd-Co-Gd-Na-Sm-Eu-Tb-V-Ag-Nd-U-Ba-Ce-K-Ga-Cr-Al-Li-Sc-Ru-In-Mg-Zr-Dy-W-Yb-Y-Ho-Re-Be-Rb-La-Sn-Cs-Pb-Pr-Bi-Tm-Sr-Ti-Hf-Ir-Nb-Pd-Hg-Th-Np-Lu-Rh-Pu_dim1_nx2_ny8_persistence', 'features.phhist_Cu-Mn-Ni-Mo-Fe-Pt-Zn-Ca-Er-Au-Cd-Co-Gd-Na-Sm-Eu-Tb-V-Ag-Nd-U-Ba-Ce-K-Ga-Cr-Al-Li-Sc-Ru-In-Mg-Zr-Dy-W-Yb-Y-Ho-Re-Be-Rb-La-Sn-Cs-Pb-Pr-Bi-Tm-Sr-Ti-Hf-Ir-Nb-Pd-Hg-Th-Np-Lu-Rh-Pu_dim1_nx2_ny9_persistence', 'features.phhist_Cu-Mn-Ni-Mo-Fe-Pt-Zn-Ca-Er-Au-Cd-Co-Gd-Na-Sm-Eu-Tb-V-Ag-Nd-U-Ba-Ce-K-Ga-Cr-Al-Li-Sc-Ru-In-Mg-Zr-Dy-W-Yb-Y-Ho-Re-Be-Rb-La-Sn-Cs-Pb-Pr-Bi-Tm-Sr-Ti-Hf-Ir-Nb-Pd-Hg-Th-Np-Lu-Rh-Pu_dim1_nx3_ny0_persistence', 'features.phhist_Cu-Mn-Ni-Mo-Fe-Pt-Zn-Ca-Er-Au-Cd-Co-Gd-Na-Sm-Eu-Tb-V-Ag-Nd-U-Ba-Ce-K-Ga-Cr-Al-Li-Sc-Ru-In-Mg-Zr-Dy-W-Yb-Y-Ho-Re-Be-Rb-La-Sn-Cs-Pb-Pr-Bi-Tm-Sr-Ti-Hf-Ir-Nb-Pd-Hg-Th-Np-Lu-Rh-Pu_dim1_nx3_ny1_persistence', 'features.phhist_Cu-Mn-Ni-Mo-Fe-Pt-Zn-Ca-Er-Au-Cd-Co-Gd-Na-Sm-Eu-Tb-V-Ag-Nd-U-Ba-Ce-K-Ga-Cr-Al-Li-Sc-Ru-In-Mg-Zr-Dy-W-Yb-Y-Ho-Re-Be-Rb-La-Sn-Cs-Pb-Pr-Bi-Tm-Sr-Ti-Hf-Ir-Nb-Pd-Hg-Th-Np-Lu-Rh-Pu_dim1_nx3_ny2_persistence', 'features.phhist_Cu-Mn-Ni-Mo-Fe-Pt-Zn-Ca-Er-Au-Cd-Co-Gd-Na-Sm-Eu-Tb-V-Ag-Nd-U-Ba-Ce-K-Ga-Cr-Al-Li-Sc-Ru-In-Mg-Zr-Dy-W-Yb-Y-Ho-Re-Be-Rb-La-Sn-Cs-Pb-Pr-Bi-Tm-Sr-Ti-Hf-Ir-Nb-Pd-Hg-Th-Np-Lu-Rh-Pu_dim1_nx3_ny3_persistence', 'features.phhist_Cu-Mn-Ni-Mo-Fe-Pt-Zn-Ca-Er-Au-Cd-Co-Gd-Na-Sm-Eu-Tb-V-Ag-Nd-U-Ba-Ce-K-Ga-Cr-Al-Li-Sc-Ru-In-Mg-Zr-Dy-W-Yb-Y-Ho-Re-Be-Rb-La-Sn-Cs-Pb-Pr-Bi-Tm-Sr-Ti-Hf-Ir-Nb-Pd-Hg-Th-Np-Lu-Rh-Pu_dim1_nx3_ny4_persistence', 'features.phhist_Cu-Mn-Ni-Mo-Fe-Pt-Zn-Ca-Er-Au-Cd-Co-Gd-Na-Sm-Eu-Tb-V-Ag-Nd-U-Ba-Ce-K-Ga-Cr-Al-Li-Sc-Ru-In-Mg-Zr-Dy-W-Yb-Y-Ho-Re-Be-Rb-La-Sn-Cs-Pb-Pr-Bi-Tm-Sr-Ti-Hf-Ir-Nb-Pd-Hg-Th-Np-Lu-Rh-Pu_dim1_nx3_ny5_persistence', 'features.phhist_Cu-Mn-Ni-Mo-Fe-Pt-Zn-Ca-Er-Au-Cd-Co-Gd-Na-Sm-Eu-Tb-V-Ag-Nd-U-Ba-Ce-K-Ga-Cr-Al-Li-Sc-Ru-In-Mg-Zr-Dy-W-Yb-Y-Ho-Re-Be-Rb-La-Sn-Cs-Pb-Pr-Bi-Tm-Sr-Ti-Hf-Ir-Nb-Pd-Hg-Th-Np-Lu-Rh-Pu_dim1_nx3_ny6_persistence', 'features.phhist_Cu-Mn-Ni-Mo-Fe-Pt-Zn-Ca-Er-Au-Cd-Co-Gd-Na-Sm-Eu-Tb-V-Ag-Nd-U-Ba-Ce-K-Ga-Cr-Al-Li-Sc-Ru-In-Mg-Zr-Dy-W-Yb-Y-Ho-Re-Be-Rb-La-Sn-Cs-Pb-Pr-Bi-Tm-Sr-Ti-Hf-Ir-Nb-Pd-Hg-Th-Np-Lu-Rh-Pu_dim1_nx3_ny7_persistence', 'features.phhist_Cu-Mn-Ni-Mo-Fe-Pt-Zn-Ca-Er-Au-Cd-Co-Gd-Na-Sm-Eu-Tb-V-Ag-Nd-U-Ba-Ce-K-Ga-Cr-Al-Li-Sc-Ru-In-Mg-Zr-Dy-W-Yb-Y-Ho-Re-Be-Rb-La-Sn-Cs-Pb-Pr-Bi-Tm-Sr-Ti-Hf-Ir-Nb-Pd-Hg-Th-Np-Lu-Rh-Pu_dim1_nx3_ny8_persistence', 'features.phhist_Cu-Mn-Ni-Mo-Fe-Pt-Zn-Ca-Er-Au-Cd-Co-Gd-Na-Sm-Eu-Tb-V-Ag-Nd-U-Ba-Ce-K-Ga-Cr-Al-Li-Sc-Ru-In-Mg-Zr-Dy-W-Yb-Y-Ho-Re-Be-Rb-La-Sn-Cs-Pb-Pr-Bi-Tm-Sr-Ti-Hf-Ir-Nb-Pd-Hg-Th-Np-Lu-Rh-Pu_dim1_nx3_ny9_persistence', 'features.phhist_Cu-Mn-Ni-Mo-Fe-Pt-Zn-Ca-Er-Au-Cd-Co-Gd-Na-Sm-Eu-Tb-V-Ag-Nd-U-Ba-Ce-K-Ga-Cr-Al-Li-Sc-Ru-In-Mg-Zr-Dy-W-Yb-Y-Ho-Re-Be-Rb-La-Sn-Cs-Pb-Pr-Bi-Tm-Sr-Ti-Hf-Ir-Nb-Pd-Hg-Th-Np-Lu-Rh-Pu_dim1_nx4_ny0_persistence', 'features.phhist_Cu-Mn-Ni-Mo-Fe-Pt-Zn-Ca-Er-Au-Cd-Co-Gd-Na-Sm-Eu-Tb-V-Ag-Nd-U-Ba-Ce-K-Ga-Cr-Al-Li-Sc-Ru-In-Mg-Zr-Dy-W-Yb-Y-Ho-Re-Be-Rb-La-Sn-Cs-Pb-Pr-Bi-Tm-Sr-Ti-Hf-Ir-Nb-Pd-Hg-Th-Np-Lu-Rh-Pu_dim1_nx4_ny1_persistence', 'features.phhist_Cu-Mn-Ni-Mo-Fe-Pt-Zn-Ca-Er-Au-Cd-Co-Gd-Na-Sm-Eu-Tb-V-Ag-Nd-U-Ba-Ce-K-Ga-Cr-Al-Li-Sc-Ru-In-Mg-Zr-Dy-W-Yb-Y-Ho-Re-Be-Rb-La-Sn-Cs-Pb-Pr-Bi-Tm-Sr-Ti-Hf-Ir-Nb-Pd-Hg-Th-Np-Lu-Rh-Pu_dim1_nx4_ny2_persistence', 'features.phhist_Cu-Mn-Ni-Mo-Fe-Pt-Zn-Ca-Er-Au-Cd-Co-Gd-Na-Sm-Eu-Tb-V-Ag-Nd-U-Ba-Ce-K-Ga-Cr-Al-Li-Sc-Ru-In-Mg-Zr-Dy-W-Yb-Y-Ho-Re-Be-Rb-La-Sn-Cs-Pb-Pr-Bi-Tm-Sr-Ti-Hf-Ir-Nb-Pd-Hg-Th-Np-Lu-Rh-Pu_dim1_nx4_ny3_persistence', 'features.phhist_Cu-Mn-Ni-Mo-Fe-Pt-Zn-Ca-Er-Au-Cd-Co-Gd-Na-Sm-Eu-Tb-V-Ag-Nd-U-Ba-Ce-K-Ga-Cr-Al-Li-Sc-Ru-In-Mg-Zr-Dy-W-Yb-Y-Ho-Re-Be-Rb-La-Sn-Cs-Pb-Pr-Bi-Tm-Sr-Ti-Hf-Ir-Nb-Pd-Hg-Th-Np-Lu-Rh-Pu_dim1_nx4_ny4_persistence', 'features.phhist_Cu-Mn-Ni-Mo-Fe-Pt-Zn-Ca-Er-Au-Cd-Co-Gd-Na-Sm-Eu-Tb-V-Ag-Nd-U-Ba-Ce-K-Ga-Cr-Al-Li-Sc-Ru-In-Mg-Zr-Dy-W-Yb-Y-Ho-Re-Be-Rb-La-Sn-Cs-Pb-Pr-Bi-Tm-Sr-Ti-Hf-Ir-Nb-Pd-Hg-Th-Np-Lu-Rh-Pu_dim1_nx4_ny5_persistence', 'features.phhist_Cu-Mn-Ni-Mo-Fe-Pt-Zn-Ca-Er-Au-Cd-Co-Gd-Na-Sm-Eu-Tb-V-Ag-Nd-U-Ba-Ce-K-Ga-Cr-Al-Li-Sc-Ru-In-Mg-Zr-Dy-W-Yb-Y-Ho-Re-Be-Rb-La-Sn-Cs-Pb-Pr-Bi-Tm-Sr-Ti-Hf-Ir-Nb-Pd-Hg-Th-Np-Lu-Rh-Pu_dim1_nx4_ny6_persistence', 'features.phhist_Cu-Mn-Ni-Mo-Fe-Pt-Zn-Ca-Er-Au-Cd-Co-Gd-Na-Sm-Eu-Tb-V-Ag-Nd-U-Ba-Ce-K-Ga-Cr-Al-Li-Sc-Ru-In-Mg-Zr-Dy-W-Yb-Y-Ho-Re-Be-Rb-La-Sn-Cs-Pb-Pr-Bi-Tm-Sr-Ti-Hf-Ir-Nb-Pd-Hg-Th-Np-Lu-Rh-Pu_dim1_nx4_ny7_persistence', 'features.phhist_Cu-Mn-Ni-Mo-Fe-Pt-Zn-Ca-Er-Au-Cd-Co-Gd-Na-Sm-Eu-Tb-V-Ag-Nd-U-Ba-Ce-K-Ga-Cr-Al-Li-Sc-Ru-In-Mg-Zr-Dy-W-Yb-Y-Ho-Re-Be-Rb-La-Sn-Cs-Pb-Pr-Bi-Tm-Sr-Ti-Hf-Ir-Nb-Pd-Hg-Th-Np-Lu-Rh-Pu_dim1_nx4_ny8_persistence', 'features.phhist_Cu-Mn-Ni-Mo-Fe-Pt-Zn-Ca-Er-Au-Cd-Co-Gd-Na-Sm-Eu-Tb-V-Ag-Nd-U-Ba-Ce-K-Ga-Cr-Al-Li-Sc-Ru-In-Mg-Zr-Dy-W-Yb-Y-Ho-Re-Be-Rb-La-Sn-Cs-Pb-Pr-Bi-Tm-Sr-Ti-Hf-Ir-Nb-Pd-Hg-Th-Np-Lu-Rh-Pu_dim1_nx4_ny9_persistence', 'features.phhist_Cu-Mn-Ni-Mo-Fe-Pt-Zn-Ca-Er-Au-Cd-Co-Gd-Na-Sm-Eu-Tb-V-Ag-Nd-U-Ba-Ce-K-Ga-Cr-Al-Li-Sc-Ru-In-Mg-Zr-Dy-W-Yb-Y-Ho-Re-Be-Rb-La-Sn-Cs-Pb-Pr-Bi-Tm-Sr-Ti-Hf-Ir-Nb-Pd-Hg-Th-Np-Lu-Rh-Pu_dim1_nx5_ny0_persistence', 'features.phhist_Cu-Mn-Ni-Mo-Fe-Pt-Zn-Ca-Er-Au-Cd-Co-Gd-Na-Sm-Eu-Tb-V-Ag-Nd-U-Ba-Ce-K-Ga-Cr-Al-Li-Sc-Ru-In-Mg-Zr-Dy-W-Yb-Y-Ho-Re-Be-Rb-La-Sn-Cs-Pb-Pr-Bi-Tm-Sr-Ti-Hf-Ir-Nb-Pd-Hg-Th-Np-Lu-Rh-Pu_dim1_nx5_ny1_persistence', 'features.phhist_Cu-Mn-Ni-Mo-Fe-Pt-Zn-Ca-Er-Au-Cd-Co-Gd-Na-Sm-Eu-Tb-V-Ag-Nd-U-Ba-Ce-K-Ga-Cr-Al-Li-Sc-Ru-In-Mg-Zr-Dy-W-Yb-Y-Ho-Re-Be-Rb-La-Sn-Cs-Pb-Pr-Bi-Tm-Sr-Ti-Hf-Ir-Nb-Pd-Hg-Th-Np-Lu-Rh-Pu_dim1_nx5_ny2_persistence', 'features.phhist_Cu-Mn-Ni-Mo-Fe-Pt-Zn-Ca-Er-Au-Cd-Co-Gd-Na-Sm-Eu-Tb-V-Ag-Nd-U-Ba-Ce-K-Ga-Cr-Al-Li-Sc-Ru-In-Mg-Zr-Dy-W-Yb-Y-Ho-Re-Be-Rb-La-Sn-Cs-Pb-Pr-Bi-Tm-Sr-Ti-Hf-Ir-Nb-Pd-Hg-Th-Np-Lu-Rh-Pu_dim1_nx5_ny3_persistence', 'features.phhist_Cu-Mn-Ni-Mo-Fe-Pt-Zn-Ca-Er-Au-Cd-Co-Gd-Na-Sm-Eu-Tb-V-Ag-Nd-U-Ba-Ce-K-Ga-Cr-Al-Li-Sc-Ru-In-Mg-Zr-Dy-W-Yb-Y-Ho-Re-Be-Rb-La-Sn-Cs-Pb-Pr-Bi-Tm-Sr-Ti-Hf-Ir-Nb-Pd-Hg-Th-Np-Lu-Rh-Pu_dim1_nx5_ny4_persistence', 'features.phhist_Cu-Mn-Ni-Mo-Fe-Pt-Zn-Ca-Er-Au-Cd-Co-Gd-Na-Sm-Eu-Tb-V-Ag-Nd-U-Ba-Ce-K-Ga-Cr-Al-Li-Sc-Ru-In-Mg-Zr-Dy-W-Yb-Y-Ho-Re-Be-Rb-La-Sn-Cs-Pb-Pr-Bi-Tm-Sr-Ti-Hf-Ir-Nb-Pd-Hg-Th-Np-Lu-Rh-Pu_dim1_nx5_ny5_persistence', 'features.phhist_Cu-Mn-Ni-Mo-Fe-Pt-Zn-Ca-Er-Au-Cd-Co-Gd-Na-Sm-Eu-Tb-V-Ag-Nd-U-Ba-Ce-K-Ga-Cr-Al-Li-Sc-Ru-In-Mg-Zr-Dy-W-Yb-Y-Ho-Re-Be-Rb-La-Sn-Cs-Pb-Pr-Bi-Tm-Sr-Ti-Hf-Ir-Nb-Pd-Hg-Th-Np-Lu-Rh-Pu_dim1_nx5_ny6_persistence', 'features.phhist_Cu-Mn-Ni-Mo-Fe-Pt-Zn-Ca-Er-Au-Cd-Co-Gd-Na-Sm-Eu-Tb-V-Ag-Nd-U-Ba-Ce-K-Ga-Cr-Al-Li-Sc-Ru-In-Mg-Zr-Dy-W-Yb-Y-Ho-Re-Be-Rb-La-Sn-Cs-Pb-Pr-Bi-Tm-Sr-Ti-Hf-Ir-Nb-Pd-Hg-Th-Np-Lu-Rh-Pu_dim1_nx5_ny7_persistence', 'features.phhist_Cu-Mn-Ni-Mo-Fe-Pt-Zn-Ca-Er-Au-Cd-Co-Gd-Na-Sm-Eu-Tb-V-Ag-Nd-U-Ba-Ce-K-Ga-Cr-Al-Li-Sc-Ru-In-Mg-Zr-Dy-W-Yb-Y-Ho-Re-Be-Rb-La-Sn-Cs-Pb-Pr-Bi-Tm-Sr-Ti-Hf-Ir-Nb-Pd-Hg-Th-Np-Lu-Rh-Pu_dim1_nx5_ny8_persistence', 'features.phhist_Cu-Mn-Ni-Mo-Fe-Pt-Zn-Ca-Er-Au-Cd-Co-Gd-Na-Sm-Eu-Tb-V-Ag-Nd-U-Ba-Ce-K-Ga-Cr-Al-Li-Sc-Ru-In-Mg-Zr-Dy-W-Yb-Y-Ho-Re-Be-Rb-La-Sn-Cs-Pb-Pr-Bi-Tm-Sr-Ti-Hf-Ir-Nb-Pd-Hg-Th-Np-Lu-Rh-Pu_dim1_nx5_ny9_persistence', 'features.phhist_Cu-Mn-Ni-Mo-Fe-Pt-Zn-Ca-Er-Au-Cd-Co-Gd-Na-Sm-Eu-Tb-V-Ag-Nd-U-Ba-Ce-K-Ga-Cr-Al-Li-Sc-Ru-In-Mg-Zr-Dy-W-Yb-Y-Ho-Re-Be-Rb-La-Sn-Cs-Pb-Pr-Bi-Tm-Sr-Ti-Hf-Ir-Nb-Pd-Hg-Th-Np-Lu-Rh-Pu_dim1_nx6_ny0_persistence', 'features.phhist_Cu-Mn-Ni-Mo-Fe-Pt-Zn-Ca-Er-Au-Cd-Co-Gd-Na-Sm-Eu-Tb-V-Ag-Nd-U-Ba-Ce-K-Ga-Cr-Al-Li-Sc-Ru-In-Mg-Zr-Dy-W-Yb-Y-Ho-Re-Be-Rb-La-Sn-Cs-Pb-Pr-Bi-Tm-Sr-Ti-Hf-Ir-Nb-Pd-Hg-Th-Np-Lu-Rh-Pu_dim1_nx6_ny1_persistence', 'features.phhist_Cu-Mn-Ni-Mo-Fe-Pt-Zn-Ca-Er-Au-Cd-Co-Gd-Na-Sm-Eu-Tb-V-Ag-Nd-U-Ba-Ce-K-Ga-Cr-Al-Li-Sc-Ru-In-Mg-Zr-Dy-W-Yb-Y-Ho-Re-Be-Rb-La-Sn-Cs-Pb-Pr-Bi-Tm-Sr-Ti-Hf-Ir-Nb-Pd-Hg-Th-Np-Lu-Rh-Pu_dim1_nx6_ny2_persistence', 'features.phhist_Cu-Mn-Ni-Mo-Fe-Pt-Zn-Ca-Er-Au-Cd-Co-Gd-Na-Sm-Eu-Tb-V-Ag-Nd-U-Ba-Ce-K-Ga-Cr-Al-Li-Sc-Ru-In-Mg-Zr-Dy-W-Yb-Y-Ho-Re-Be-Rb-La-Sn-Cs-Pb-Pr-Bi-Tm-Sr-Ti-Hf-Ir-Nb-Pd-Hg-Th-Np-Lu-Rh-Pu_dim1_nx6_ny3_persistence', 'features.phhist_Cu-Mn-Ni-Mo-Fe-Pt-Zn-Ca-Er-Au-Cd-Co-Gd-Na-Sm-Eu-Tb-V-Ag-Nd-U-Ba-Ce-K-Ga-Cr-Al-Li-Sc-Ru-In-Mg-Zr-Dy-W-Yb-Y-Ho-Re-Be-Rb-La-Sn-Cs-Pb-Pr-Bi-Tm-Sr-Ti-Hf-Ir-Nb-Pd-Hg-Th-Np-Lu-Rh-Pu_dim1_nx6_ny4_persistence', 'features.phhist_Cu-Mn-Ni-Mo-Fe-Pt-Zn-Ca-Er-Au-Cd-Co-Gd-Na-Sm-Eu-Tb-V-Ag-Nd-U-Ba-Ce-K-Ga-Cr-Al-Li-Sc-Ru-In-Mg-Zr-Dy-W-Yb-Y-Ho-Re-Be-Rb-La-Sn-Cs-Pb-Pr-Bi-Tm-Sr-Ti-Hf-Ir-Nb-Pd-Hg-Th-Np-Lu-Rh-Pu_dim1_nx6_ny5_persistence', 'features.phhist_Cu-Mn-Ni-Mo-Fe-Pt-Zn-Ca-Er-Au-Cd-Co-Gd-Na-Sm-Eu-Tb-V-Ag-Nd-U-Ba-Ce-K-Ga-Cr-Al-Li-Sc-Ru-In-Mg-Zr-Dy-W-Yb-Y-Ho-Re-Be-Rb-La-Sn-Cs-Pb-Pr-Bi-Tm-Sr-Ti-Hf-Ir-Nb-Pd-Hg-Th-Np-Lu-Rh-Pu_dim1_nx6_ny6_persistence', 'features.phhist_Cu-Mn-Ni-Mo-Fe-Pt-Zn-Ca-Er-Au-Cd-Co-Gd-Na-Sm-Eu-Tb-V-Ag-Nd-U-Ba-Ce-K-Ga-Cr-Al-Li-Sc-Ru-In-Mg-Zr-Dy-W-Yb-Y-Ho-Re-Be-Rb-La-Sn-Cs-Pb-Pr-Bi-Tm-Sr-Ti-Hf-Ir-Nb-Pd-Hg-Th-Np-Lu-Rh-Pu_dim1_nx6_ny7_persistence', 'features.phhist_Cu-Mn-Ni-Mo-Fe-Pt-Zn-Ca-Er-Au-Cd-Co-Gd-Na-Sm-Eu-Tb-V-Ag-Nd-U-Ba-Ce-K-Ga-Cr-Al-Li-Sc-Ru-In-Mg-Zr-Dy-W-Yb-Y-Ho-Re-Be-Rb-La-Sn-Cs-Pb-Pr-Bi-Tm-Sr-Ti-Hf-Ir-Nb-Pd-Hg-Th-Np-Lu-Rh-Pu_dim1_nx6_ny8_persistence', 'features.phhist_Cu-Mn-Ni-Mo-Fe-Pt-Zn-Ca-Er-Au-Cd-Co-Gd-Na-Sm-Eu-Tb-V-Ag-Nd-U-Ba-Ce-K-Ga-Cr-Al-Li-Sc-Ru-In-Mg-Zr-Dy-W-Yb-Y-Ho-Re-Be-Rb-La-Sn-Cs-Pb-Pr-Bi-Tm-Sr-Ti-Hf-Ir-Nb-Pd-Hg-Th-Np-Lu-Rh-Pu_dim1_nx6_ny9_persistence', 'features.phhist_Cu-Mn-Ni-Mo-Fe-Pt-Zn-Ca-Er-Au-Cd-Co-Gd-Na-Sm-Eu-Tb-V-Ag-Nd-U-Ba-Ce-K-Ga-Cr-Al-Li-Sc-Ru-In-Mg-Zr-Dy-W-Yb-Y-Ho-Re-Be-Rb-La-Sn-Cs-Pb-Pr-Bi-Tm-Sr-Ti-Hf-Ir-Nb-Pd-Hg-Th-Np-Lu-Rh-Pu_dim1_nx7_ny0_persistence', 'features.phhist_Cu-Mn-Ni-Mo-Fe-Pt-Zn-Ca-Er-Au-Cd-Co-Gd-Na-Sm-Eu-Tb-V-Ag-Nd-U-Ba-Ce-K-Ga-Cr-Al-Li-Sc-Ru-In-Mg-Zr-Dy-W-Yb-Y-Ho-Re-Be-Rb-La-Sn-Cs-Pb-Pr-Bi-Tm-Sr-Ti-Hf-Ir-Nb-Pd-Hg-Th-Np-Lu-Rh-Pu_dim1_nx7_ny1_persistence', 'features.phhist_Cu-Mn-Ni-Mo-Fe-Pt-Zn-Ca-Er-Au-Cd-Co-Gd-Na-Sm-Eu-Tb-V-Ag-Nd-U-Ba-Ce-K-Ga-Cr-Al-Li-Sc-Ru-In-Mg-Zr-Dy-W-Yb-Y-Ho-Re-Be-Rb-La-Sn-Cs-Pb-Pr-Bi-Tm-Sr-Ti-Hf-Ir-Nb-Pd-Hg-Th-Np-Lu-Rh-Pu_dim1_nx7_ny2_persistence', 'features.phhist_Cu-Mn-Ni-Mo-Fe-Pt-Zn-Ca-Er-Au-Cd-Co-Gd-Na-Sm-Eu-Tb-V-Ag-Nd-U-Ba-Ce-K-Ga-Cr-Al-Li-Sc-Ru-In-Mg-Zr-Dy-W-Yb-Y-Ho-Re-Be-Rb-La-Sn-Cs-Pb-Pr-Bi-Tm-Sr-Ti-Hf-Ir-Nb-Pd-Hg-Th-Np-Lu-Rh-Pu_dim1_nx7_ny3_persistence', 'features.phhist_Cu-Mn-Ni-Mo-Fe-Pt-Zn-Ca-Er-Au-Cd-Co-Gd-Na-Sm-Eu-Tb-V-Ag-Nd-U-Ba-Ce-K-Ga-Cr-Al-Li-Sc-Ru-In-Mg-Zr-Dy-W-Yb-Y-Ho-Re-Be-Rb-La-Sn-Cs-Pb-Pr-Bi-Tm-Sr-Ti-Hf-Ir-Nb-Pd-Hg-Th-Np-Lu-Rh-Pu_dim1_nx7_ny4_persistence', 'features.phhist_Cu-Mn-Ni-Mo-Fe-Pt-Zn-Ca-Er-Au-Cd-Co-Gd-Na-Sm-Eu-Tb-V-Ag-Nd-U-Ba-Ce-K-Ga-Cr-Al-Li-Sc-Ru-In-Mg-Zr-Dy-W-Yb-Y-Ho-Re-Be-Rb-La-Sn-Cs-Pb-Pr-Bi-Tm-Sr-Ti-Hf-Ir-Nb-Pd-Hg-Th-Np-Lu-Rh-Pu_dim1_nx7_ny5_persistence', 'features.phhist_Cu-Mn-Ni-Mo-Fe-Pt-Zn-Ca-Er-Au-Cd-Co-Gd-Na-Sm-Eu-Tb-V-Ag-Nd-U-Ba-Ce-K-Ga-Cr-Al-Li-Sc-Ru-In-Mg-Zr-Dy-W-Yb-Y-Ho-Re-Be-Rb-La-Sn-Cs-Pb-Pr-Bi-Tm-Sr-Ti-Hf-Ir-Nb-Pd-Hg-Th-Np-Lu-Rh-Pu_dim1_nx7_ny6_persistence', 'features.phhist_Cu-Mn-Ni-Mo-Fe-Pt-Zn-Ca-Er-Au-Cd-Co-Gd-Na-Sm-Eu-Tb-V-Ag-Nd-U-Ba-Ce-K-Ga-Cr-Al-Li-Sc-Ru-In-Mg-Zr-Dy-W-Yb-Y-Ho-Re-Be-Rb-La-Sn-Cs-Pb-Pr-Bi-Tm-Sr-Ti-Hf-Ir-Nb-Pd-Hg-Th-Np-Lu-Rh-Pu_dim1_nx7_ny7_persistence', 'features.phhist_Cu-Mn-Ni-Mo-Fe-Pt-Zn-Ca-Er-Au-Cd-Co-Gd-Na-Sm-Eu-Tb-V-Ag-Nd-U-Ba-Ce-K-Ga-Cr-Al-Li-Sc-Ru-In-Mg-Zr-Dy-W-Yb-Y-Ho-Re-Be-Rb-La-Sn-Cs-Pb-Pr-Bi-Tm-Sr-Ti-Hf-Ir-Nb-Pd-Hg-Th-Np-Lu-Rh-Pu_dim1_nx7_ny8_persistence', 'features.phhist_Cu-Mn-Ni-Mo-Fe-Pt-Zn-Ca-Er-Au-Cd-Co-Gd-Na-Sm-Eu-Tb-V-Ag-Nd-U-Ba-Ce-K-Ga-Cr-Al-Li-Sc-Ru-In-Mg-Zr-Dy-W-Yb-Y-Ho-Re-Be-Rb-La-Sn-Cs-Pb-Pr-Bi-Tm-Sr-Ti-Hf-Ir-Nb-Pd-Hg-Th-Np-Lu-Rh-Pu_dim1_nx7_ny9_persistence', 'features.phhist_Cu-Mn-Ni-Mo-Fe-Pt-Zn-Ca-Er-Au-Cd-Co-Gd-Na-Sm-Eu-Tb-V-Ag-Nd-U-Ba-Ce-K-Ga-Cr-Al-Li-Sc-Ru-In-Mg-Zr-Dy-W-Yb-Y-Ho-Re-Be-Rb-La-Sn-Cs-Pb-Pr-Bi-Tm-Sr-Ti-Hf-Ir-Nb-Pd-Hg-Th-Np-Lu-Rh-Pu_dim1_nx8_ny0_persistence', 'features.phhist_Cu-Mn-Ni-Mo-Fe-Pt-Zn-Ca-Er-Au-Cd-Co-Gd-Na-Sm-Eu-Tb-V-Ag-Nd-U-Ba-Ce-K-Ga-Cr-Al-Li-Sc-Ru-In-Mg-Zr-Dy-W-Yb-Y-Ho-Re-Be-Rb-La-Sn-Cs-Pb-Pr-Bi-Tm-Sr-Ti-Hf-Ir-Nb-Pd-Hg-Th-Np-Lu-Rh-Pu_dim1_nx8_ny1_persistence', 'features.phhist_Cu-Mn-Ni-Mo-Fe-Pt-Zn-Ca-Er-Au-Cd-Co-Gd-Na-Sm-Eu-Tb-V-Ag-Nd-U-Ba-Ce-K-Ga-Cr-Al-Li-Sc-Ru-In-Mg-Zr-Dy-W-Yb-Y-Ho-Re-Be-Rb-La-Sn-Cs-Pb-Pr-Bi-Tm-Sr-Ti-Hf-Ir-Nb-Pd-Hg-Th-Np-Lu-Rh-Pu_dim1_nx8_ny2_persistence', 'features.phhist_Cu-Mn-Ni-Mo-Fe-Pt-Zn-Ca-Er-Au-Cd-Co-Gd-Na-Sm-Eu-Tb-V-Ag-Nd-U-Ba-Ce-K-Ga-Cr-Al-Li-Sc-Ru-In-Mg-Zr-Dy-W-Yb-Y-Ho-Re-Be-Rb-La-Sn-Cs-Pb-Pr-Bi-Tm-Sr-Ti-Hf-Ir-Nb-Pd-Hg-Th-Np-Lu-Rh-Pu_dim1_nx8_ny3_persistence', 'features.phhist_Cu-Mn-Ni-Mo-Fe-Pt-Zn-Ca-Er-Au-Cd-Co-Gd-Na-Sm-Eu-Tb-V-Ag-Nd-U-Ba-Ce-K-Ga-Cr-Al-Li-Sc-Ru-In-Mg-Zr-Dy-W-Yb-Y-Ho-Re-Be-Rb-La-Sn-Cs-Pb-Pr-Bi-Tm-Sr-Ti-Hf-Ir-Nb-Pd-Hg-Th-Np-Lu-Rh-Pu_dim1_nx8_ny4_persistence', 'features.phhist_Cu-Mn-Ni-Mo-Fe-Pt-Zn-Ca-Er-Au-Cd-Co-Gd-Na-Sm-Eu-Tb-V-Ag-Nd-U-Ba-Ce-K-Ga-Cr-Al-Li-Sc-Ru-In-Mg-Zr-Dy-W-Yb-Y-Ho-Re-Be-Rb-La-Sn-Cs-Pb-Pr-Bi-Tm-Sr-Ti-Hf-Ir-Nb-Pd-Hg-Th-Np-Lu-Rh-Pu_dim1_nx8_ny5_persistence', 'features.phhist_Cu-Mn-Ni-Mo-Fe-Pt-Zn-Ca-Er-Au-Cd-Co-Gd-Na-Sm-Eu-Tb-V-Ag-Nd-U-Ba-Ce-K-Ga-Cr-Al-Li-Sc-Ru-In-Mg-Zr-Dy-W-Yb-Y-Ho-Re-Be-Rb-La-Sn-Cs-Pb-Pr-Bi-Tm-Sr-Ti-Hf-Ir-Nb-Pd-Hg-Th-Np-Lu-Rh-Pu_dim1_nx8_ny6_persistence', 'features.phhist_Cu-Mn-Ni-Mo-Fe-Pt-Zn-Ca-Er-Au-Cd-Co-Gd-Na-Sm-Eu-Tb-V-Ag-Nd-U-Ba-Ce-K-Ga-Cr-Al-Li-Sc-Ru-In-Mg-Zr-Dy-W-Yb-Y-Ho-Re-Be-Rb-La-Sn-Cs-Pb-Pr-Bi-Tm-Sr-Ti-Hf-Ir-Nb-Pd-Hg-Th-Np-Lu-Rh-Pu_dim1_nx8_ny7_persistence', 'features.phhist_Cu-Mn-Ni-Mo-Fe-Pt-Zn-Ca-Er-Au-Cd-Co-Gd-Na-Sm-Eu-Tb-V-Ag-Nd-U-Ba-Ce-K-Ga-Cr-Al-Li-Sc-Ru-In-Mg-Zr-Dy-W-Yb-Y-Ho-Re-Be-Rb-La-Sn-Cs-Pb-Pr-Bi-Tm-Sr-Ti-Hf-Ir-Nb-Pd-Hg-Th-Np-Lu-Rh-Pu_dim1_nx8_ny8_persistence', 'features.phhist_Cu-Mn-Ni-Mo-Fe-Pt-Zn-Ca-Er-Au-Cd-Co-Gd-Na-Sm-Eu-Tb-V-Ag-Nd-U-Ba-Ce-K-Ga-Cr-Al-Li-Sc-Ru-In-Mg-Zr-Dy-W-Yb-Y-Ho-Re-Be-Rb-La-Sn-Cs-Pb-Pr-Bi-Tm-Sr-Ti-Hf-Ir-Nb-Pd-Hg-Th-Np-Lu-Rh-Pu_dim1_nx8_ny9_persistence', 'features.phhist_Cu-Mn-Ni-Mo-Fe-Pt-Zn-Ca-Er-Au-Cd-Co-Gd-Na-Sm-Eu-Tb-V-Ag-Nd-U-Ba-Ce-K-Ga-Cr-Al-Li-Sc-Ru-In-Mg-Zr-Dy-W-Yb-Y-Ho-Re-Be-Rb-La-Sn-Cs-Pb-Pr-Bi-Tm-Sr-Ti-Hf-Ir-Nb-Pd-Hg-Th-Np-Lu-Rh-Pu_dim1_nx9_ny0_persistence', 'features.phhist_Cu-Mn-Ni-Mo-Fe-Pt-Zn-Ca-Er-Au-Cd-Co-Gd-Na-Sm-Eu-Tb-V-Ag-Nd-U-Ba-Ce-K-Ga-Cr-Al-Li-Sc-Ru-In-Mg-Zr-Dy-W-Yb-Y-Ho-Re-Be-Rb-La-Sn-Cs-Pb-Pr-Bi-Tm-Sr-Ti-Hf-Ir-Nb-Pd-Hg-Th-Np-Lu-Rh-Pu_dim1_nx9_ny1_persistence', 'features.phhist_Cu-Mn-Ni-Mo-Fe-Pt-Zn-Ca-Er-Au-Cd-Co-Gd-Na-Sm-Eu-Tb-V-Ag-Nd-U-Ba-Ce-K-Ga-Cr-Al-Li-Sc-Ru-In-Mg-Zr-Dy-W-Yb-Y-Ho-Re-Be-Rb-La-Sn-Cs-Pb-Pr-Bi-Tm-Sr-Ti-Hf-Ir-Nb-Pd-Hg-Th-Np-Lu-Rh-Pu_dim1_nx9_ny2_persistence', 'features.phhist_Cu-Mn-Ni-Mo-Fe-Pt-Zn-Ca-Er-Au-Cd-Co-Gd-Na-Sm-Eu-Tb-V-Ag-Nd-U-Ba-Ce-K-Ga-Cr-Al-Li-Sc-Ru-In-Mg-Zr-Dy-W-Yb-Y-Ho-Re-Be-Rb-La-Sn-Cs-Pb-Pr-Bi-Tm-Sr-Ti-Hf-Ir-Nb-Pd-Hg-Th-Np-Lu-Rh-Pu_dim1_nx9_ny3_persistence', 'features.phhist_Cu-Mn-Ni-Mo-Fe-Pt-Zn-Ca-Er-Au-Cd-Co-Gd-Na-Sm-Eu-Tb-V-Ag-Nd-U-Ba-Ce-K-Ga-Cr-Al-Li-Sc-Ru-In-Mg-Zr-Dy-W-Yb-Y-Ho-Re-Be-Rb-La-Sn-Cs-Pb-Pr-Bi-Tm-Sr-Ti-Hf-Ir-Nb-Pd-Hg-Th-Np-Lu-Rh-Pu_dim1_nx9_ny4_persistence', 'features.phhist_Cu-Mn-Ni-Mo-Fe-Pt-Zn-Ca-Er-Au-Cd-Co-Gd-Na-Sm-Eu-Tb-V-Ag-Nd-U-Ba-Ce-K-Ga-Cr-Al-Li-Sc-Ru-In-Mg-Zr-Dy-W-Yb-Y-Ho-Re-Be-Rb-La-Sn-Cs-Pb-Pr-Bi-Tm-Sr-Ti-Hf-Ir-Nb-Pd-Hg-Th-Np-Lu-Rh-Pu_dim1_nx9_ny5_persistence', 'features.phhist_Cu-Mn-Ni-Mo-Fe-Pt-Zn-Ca-Er-Au-Cd-Co-Gd-Na-Sm-Eu-Tb-V-Ag-Nd-U-Ba-Ce-K-Ga-Cr-Al-Li-Sc-Ru-In-Mg-Zr-Dy-W-Yb-Y-Ho-Re-Be-Rb-La-Sn-Cs-Pb-Pr-Bi-Tm-Sr-Ti-Hf-Ir-Nb-Pd-Hg-Th-Np-Lu-Rh-Pu_dim1_nx9_ny6_persistence', 'features.phhist_Cu-Mn-Ni-Mo-Fe-Pt-Zn-Ca-Er-Au-Cd-Co-Gd-Na-Sm-Eu-Tb-V-Ag-Nd-U-Ba-Ce-K-Ga-Cr-Al-Li-Sc-Ru-In-Mg-Zr-Dy-W-Yb-Y-Ho-Re-Be-Rb-La-Sn-Cs-Pb-Pr-Bi-Tm-Sr-Ti-Hf-Ir-Nb-Pd-Hg-Th-Np-Lu-Rh-Pu_dim1_nx9_ny7_persistence', 'features.phhist_Cu-Mn-Ni-Mo-Fe-Pt-Zn-Ca-Er-Au-Cd-Co-Gd-Na-Sm-Eu-Tb-V-Ag-Nd-U-Ba-Ce-K-Ga-Cr-Al-Li-Sc-Ru-In-Mg-Zr-Dy-W-Yb-Y-Ho-Re-Be-Rb-La-Sn-Cs-Pb-Pr-Bi-Tm-Sr-Ti-Hf-Ir-Nb-Pd-Hg-Th-Np-Lu-Rh-Pu_dim1_nx9_ny8_persistence', 'features.phhist_Cu-Mn-Ni-Mo-Fe-Pt-Zn-Ca-Er-Au-Cd-Co-Gd-Na-Sm-Eu-Tb-V-Ag-Nd-U-Ba-Ce-K-Ga-Cr-Al-Li-Sc-Ru-In-Mg-Zr-Dy-W-Yb-Y-Ho-Re-Be-Rb-La-Sn-Cs-Pb-Pr-Bi-Tm-Sr-Ti-Hf-Ir-Nb-Pd-Hg-Th-Np-Lu-Rh-Pu_dim1_nx9_ny9_persistence', 'features.phhist_Cu-Mn-Ni-Mo-Fe-Pt-Zn-Ca-Er-Au-Cd-Co-Gd-Na-Sm-Eu-Tb-V-Ag-Nd-U-Ba-Ce-K-Ga-Cr-Al-Li-Sc-Ru-In-Mg-Zr-Dy-W-Yb-Y-Ho-Re-Be-Rb-La-Sn-Cs-Pb-Pr-Bi-Tm-Sr-Ti-Hf-Ir-Nb-Pd-Hg-Th-Np-Lu-Rh-Pu_dim2_nx0_ny0_persistence', 'features.phhist_Cu-Mn-Ni-Mo-Fe-Pt-Zn-Ca-Er-Au-Cd-Co-Gd-Na-Sm-Eu-Tb-V-Ag-Nd-U-Ba-Ce-K-Ga-Cr-Al-Li-Sc-Ru-In-Mg-Zr-Dy-W-Yb-Y-Ho-Re-Be-Rb-La-Sn-Cs-Pb-Pr-Bi-Tm-Sr-Ti-Hf-Ir-Nb-Pd-Hg-Th-Np-Lu-Rh-Pu_dim2_nx0_ny1_persistence', 'features.phhist_Cu-Mn-Ni-Mo-Fe-Pt-Zn-Ca-Er-Au-Cd-Co-Gd-Na-Sm-Eu-Tb-V-Ag-Nd-U-Ba-Ce-K-Ga-Cr-Al-Li-Sc-Ru-In-Mg-Zr-Dy-W-Yb-Y-Ho-Re-Be-Rb-La-Sn-Cs-Pb-Pr-Bi-Tm-Sr-Ti-Hf-Ir-Nb-Pd-Hg-Th-Np-Lu-Rh-Pu_dim2_nx0_ny2_persistence', 'features.phhist_Cu-Mn-Ni-Mo-Fe-Pt-Zn-Ca-Er-Au-Cd-Co-Gd-Na-Sm-Eu-Tb-V-Ag-Nd-U-Ba-Ce-K-Ga-Cr-Al-Li-Sc-Ru-In-Mg-Zr-Dy-W-Yb-Y-Ho-Re-Be-Rb-La-Sn-Cs-Pb-Pr-Bi-Tm-Sr-Ti-Hf-Ir-Nb-Pd-Hg-Th-Np-Lu-Rh-Pu_dim2_nx0_ny3_persistence', 'features.phhist_Cu-Mn-Ni-Mo-Fe-Pt-Zn-Ca-Er-Au-Cd-Co-Gd-Na-Sm-Eu-Tb-V-Ag-Nd-U-Ba-Ce-K-Ga-Cr-Al-Li-Sc-Ru-In-Mg-Zr-Dy-W-Yb-Y-Ho-Re-Be-Rb-La-Sn-Cs-Pb-Pr-Bi-Tm-Sr-Ti-Hf-Ir-Nb-Pd-Hg-Th-Np-Lu-Rh-Pu_dim2_nx0_ny4_persistence', 'features.phhist_Cu-Mn-Ni-Mo-Fe-Pt-Zn-Ca-Er-Au-Cd-Co-Gd-Na-Sm-Eu-Tb-V-Ag-Nd-U-Ba-Ce-K-Ga-Cr-Al-Li-Sc-Ru-In-Mg-Zr-Dy-W-Yb-Y-Ho-Re-Be-Rb-La-Sn-Cs-Pb-Pr-Bi-Tm-Sr-Ti-Hf-Ir-Nb-Pd-Hg-Th-Np-Lu-Rh-Pu_dim2_nx0_ny5_persistence', 'features.phhist_Cu-Mn-Ni-Mo-Fe-Pt-Zn-Ca-Er-Au-Cd-Co-Gd-Na-Sm-Eu-Tb-V-Ag-Nd-U-Ba-Ce-K-Ga-Cr-Al-Li-Sc-Ru-In-Mg-Zr-Dy-W-Yb-Y-Ho-Re-Be-Rb-La-Sn-Cs-Pb-Pr-Bi-Tm-Sr-Ti-Hf-Ir-Nb-Pd-Hg-Th-Np-Lu-Rh-Pu_dim2_nx0_ny6_persistence', 'features.phhist_Cu-Mn-Ni-Mo-Fe-Pt-Zn-Ca-Er-Au-Cd-Co-Gd-Na-Sm-Eu-Tb-V-Ag-Nd-U-Ba-Ce-K-Ga-Cr-Al-Li-Sc-Ru-In-Mg-Zr-Dy-W-Yb-Y-Ho-Re-Be-Rb-La-Sn-Cs-Pb-Pr-Bi-Tm-Sr-Ti-Hf-Ir-Nb-Pd-Hg-Th-Np-Lu-Rh-Pu_dim2_nx0_ny7_persistence', 'features.phhist_Cu-Mn-Ni-Mo-Fe-Pt-Zn-Ca-Er-Au-Cd-Co-Gd-Na-Sm-Eu-Tb-V-Ag-Nd-U-Ba-Ce-K-Ga-Cr-Al-Li-Sc-Ru-In-Mg-Zr-Dy-W-Yb-Y-Ho-Re-Be-Rb-La-Sn-Cs-Pb-Pr-Bi-Tm-Sr-Ti-Hf-Ir-Nb-Pd-Hg-Th-Np-Lu-Rh-Pu_dim2_nx0_ny8_persistence', 'features.phhist_Cu-Mn-Ni-Mo-Fe-Pt-Zn-Ca-Er-Au-Cd-Co-Gd-Na-Sm-Eu-Tb-V-Ag-Nd-U-Ba-Ce-K-Ga-Cr-Al-Li-Sc-Ru-In-Mg-Zr-Dy-W-Yb-Y-Ho-Re-Be-Rb-La-Sn-Cs-Pb-Pr-Bi-Tm-Sr-Ti-Hf-Ir-Nb-Pd-Hg-Th-Np-Lu-Rh-Pu_dim2_nx0_ny9_persistence', 'features.phhist_Cu-Mn-Ni-Mo-Fe-Pt-Zn-Ca-Er-Au-Cd-Co-Gd-Na-Sm-Eu-Tb-V-Ag-Nd-U-Ba-Ce-K-Ga-Cr-Al-Li-Sc-Ru-In-Mg-Zr-Dy-W-Yb-Y-Ho-Re-Be-Rb-La-Sn-Cs-Pb-Pr-Bi-Tm-Sr-Ti-Hf-Ir-Nb-Pd-Hg-Th-Np-Lu-Rh-Pu_dim2_nx1_ny0_persistence', 'features.phhist_Cu-Mn-Ni-Mo-Fe-Pt-Zn-Ca-Er-Au-Cd-Co-Gd-Na-Sm-Eu-Tb-V-Ag-Nd-U-Ba-Ce-K-Ga-Cr-Al-Li-Sc-Ru-In-Mg-Zr-Dy-W-Yb-Y-Ho-Re-Be-Rb-La-Sn-Cs-Pb-Pr-Bi-Tm-Sr-Ti-Hf-Ir-Nb-Pd-Hg-Th-Np-Lu-Rh-Pu_dim2_nx1_ny1_persistence', 'features.phhist_Cu-Mn-Ni-Mo-Fe-Pt-Zn-Ca-Er-Au-Cd-Co-Gd-Na-Sm-Eu-Tb-V-Ag-Nd-U-Ba-Ce-K-Ga-Cr-Al-Li-Sc-Ru-In-Mg-Zr-Dy-W-Yb-Y-Ho-Re-Be-Rb-La-Sn-Cs-Pb-Pr-Bi-Tm-Sr-Ti-Hf-Ir-Nb-Pd-Hg-Th-Np-Lu-Rh-Pu_dim2_nx1_ny2_persistence', 'features.phhist_Cu-Mn-Ni-Mo-Fe-Pt-Zn-Ca-Er-Au-Cd-Co-Gd-Na-Sm-Eu-Tb-V-Ag-Nd-U-Ba-Ce-K-Ga-Cr-Al-Li-Sc-Ru-In-Mg-Zr-Dy-W-Yb-Y-Ho-Re-Be-Rb-La-Sn-Cs-Pb-Pr-Bi-Tm-Sr-Ti-Hf-Ir-Nb-Pd-Hg-Th-Np-Lu-Rh-Pu_dim2_nx1_ny3_persistence', 'features.phhist_Cu-Mn-Ni-Mo-Fe-Pt-Zn-Ca-Er-Au-Cd-Co-Gd-Na-Sm-Eu-Tb-V-Ag-Nd-U-Ba-Ce-K-Ga-Cr-Al-Li-Sc-Ru-In-Mg-Zr-Dy-W-Yb-Y-Ho-Re-Be-Rb-La-Sn-Cs-Pb-Pr-Bi-Tm-Sr-Ti-Hf-Ir-Nb-Pd-Hg-Th-Np-Lu-Rh-Pu_dim2_nx1_ny4_persistence', 'features.phhist_Cu-Mn-Ni-Mo-Fe-Pt-Zn-Ca-Er-Au-Cd-Co-Gd-Na-Sm-Eu-Tb-V-Ag-Nd-U-Ba-Ce-K-Ga-Cr-Al-Li-Sc-Ru-In-Mg-Zr-Dy-W-Yb-Y-Ho-Re-Be-Rb-La-Sn-Cs-Pb-Pr-Bi-Tm-Sr-Ti-Hf-Ir-Nb-Pd-Hg-Th-Np-Lu-Rh-Pu_dim2_nx1_ny5_persistence', 'features.phhist_Cu-Mn-Ni-Mo-Fe-Pt-Zn-Ca-Er-Au-Cd-Co-Gd-Na-Sm-Eu-Tb-V-Ag-Nd-U-Ba-Ce-K-Ga-Cr-Al-Li-Sc-Ru-In-Mg-Zr-Dy-W-Yb-Y-Ho-Re-Be-Rb-La-Sn-Cs-Pb-Pr-Bi-Tm-Sr-Ti-Hf-Ir-Nb-Pd-Hg-Th-Np-Lu-Rh-Pu_dim2_nx1_ny6_persistence', 'features.phhist_Cu-Mn-Ni-Mo-Fe-Pt-Zn-Ca-Er-Au-Cd-Co-Gd-Na-Sm-Eu-Tb-V-Ag-Nd-U-Ba-Ce-K-Ga-Cr-Al-Li-Sc-Ru-In-Mg-Zr-Dy-W-Yb-Y-Ho-Re-Be-Rb-La-Sn-Cs-Pb-Pr-Bi-Tm-Sr-Ti-Hf-Ir-Nb-Pd-Hg-Th-Np-Lu-Rh-Pu_dim2_nx1_ny7_persistence', 'features.phhist_Cu-Mn-Ni-Mo-Fe-Pt-Zn-Ca-Er-Au-Cd-Co-Gd-Na-Sm-Eu-Tb-V-Ag-Nd-U-Ba-Ce-K-Ga-Cr-Al-Li-Sc-Ru-In-Mg-Zr-Dy-W-Yb-Y-Ho-Re-Be-Rb-La-Sn-Cs-Pb-Pr-Bi-Tm-Sr-Ti-Hf-Ir-Nb-Pd-Hg-Th-Np-Lu-Rh-Pu_dim2_nx1_ny8_persistence', 'features.phhist_Cu-Mn-Ni-Mo-Fe-Pt-Zn-Ca-Er-Au-Cd-Co-Gd-Na-Sm-Eu-Tb-V-Ag-Nd-U-Ba-Ce-K-Ga-Cr-Al-Li-Sc-Ru-In-Mg-Zr-Dy-W-Yb-Y-Ho-Re-Be-Rb-La-Sn-Cs-Pb-Pr-Bi-Tm-Sr-Ti-Hf-Ir-Nb-Pd-Hg-Th-Np-Lu-Rh-Pu_dim2_nx1_ny9_persistence', 'features.phhist_Cu-Mn-Ni-Mo-Fe-Pt-Zn-Ca-Er-Au-Cd-Co-Gd-Na-Sm-Eu-Tb-V-Ag-Nd-U-Ba-Ce-K-Ga-Cr-Al-Li-Sc-Ru-In-Mg-Zr-Dy-W-Yb-Y-Ho-Re-Be-Rb-La-Sn-Cs-Pb-Pr-Bi-Tm-Sr-Ti-Hf-Ir-Nb-Pd-Hg-Th-Np-Lu-Rh-Pu_dim2_nx2_ny0_persistence', 'features.phhist_Cu-Mn-Ni-Mo-Fe-Pt-Zn-Ca-Er-Au-Cd-Co-Gd-Na-Sm-Eu-Tb-V-Ag-Nd-U-Ba-Ce-K-Ga-Cr-Al-Li-Sc-Ru-In-Mg-Zr-Dy-W-Yb-Y-Ho-Re-Be-Rb-La-Sn-Cs-Pb-Pr-Bi-Tm-Sr-Ti-Hf-Ir-Nb-Pd-Hg-Th-Np-Lu-Rh-Pu_dim2_nx2_ny1_persistence', 'features.phhist_Cu-Mn-Ni-Mo-Fe-Pt-Zn-Ca-Er-Au-Cd-Co-Gd-Na-Sm-Eu-Tb-V-Ag-Nd-U-Ba-Ce-K-Ga-Cr-Al-Li-Sc-Ru-In-Mg-Zr-Dy-W-Yb-Y-Ho-Re-Be-Rb-La-Sn-Cs-Pb-Pr-Bi-Tm-Sr-Ti-Hf-Ir-Nb-Pd-Hg-Th-Np-Lu-Rh-Pu_dim2_nx2_ny2_persistence', 'features.phhist_Cu-Mn-Ni-Mo-Fe-Pt-Zn-Ca-Er-Au-Cd-Co-Gd-Na-Sm-Eu-Tb-V-Ag-Nd-U-Ba-Ce-K-Ga-Cr-Al-Li-Sc-Ru-In-Mg-Zr-Dy-W-Yb-Y-Ho-Re-Be-Rb-La-Sn-Cs-Pb-Pr-Bi-Tm-Sr-Ti-Hf-Ir-Nb-Pd-Hg-Th-Np-Lu-Rh-Pu_dim2_nx2_ny3_persistence', 'features.phhist_Cu-Mn-Ni-Mo-Fe-Pt-Zn-Ca-Er-Au-Cd-Co-Gd-Na-Sm-Eu-Tb-V-Ag-Nd-U-Ba-Ce-K-Ga-Cr-Al-Li-Sc-Ru-In-Mg-Zr-Dy-W-Yb-Y-Ho-Re-Be-Rb-La-Sn-Cs-Pb-Pr-Bi-Tm-Sr-Ti-Hf-Ir-Nb-Pd-Hg-Th-Np-Lu-Rh-Pu_dim2_nx2_ny4_persistence', 'features.phhist_Cu-Mn-Ni-Mo-Fe-Pt-Zn-Ca-Er-Au-Cd-Co-Gd-Na-Sm-Eu-Tb-V-Ag-Nd-U-Ba-Ce-K-Ga-Cr-Al-Li-Sc-Ru-In-Mg-Zr-Dy-W-Yb-Y-Ho-Re-Be-Rb-La-Sn-Cs-Pb-Pr-Bi-Tm-Sr-Ti-Hf-Ir-Nb-Pd-Hg-Th-Np-Lu-Rh-Pu_dim2_nx2_ny5_persistence', 'features.phhist_Cu-Mn-Ni-Mo-Fe-Pt-Zn-Ca-Er-Au-Cd-Co-Gd-Na-Sm-Eu-Tb-V-Ag-Nd-U-Ba-Ce-K-Ga-Cr-Al-Li-Sc-Ru-In-Mg-Zr-Dy-W-Yb-Y-Ho-Re-Be-Rb-La-Sn-Cs-Pb-Pr-Bi-Tm-Sr-Ti-Hf-Ir-Nb-Pd-Hg-Th-Np-Lu-Rh-Pu_dim2_nx2_ny6_persistence', 'features.phhist_Cu-Mn-Ni-Mo-Fe-Pt-Zn-Ca-Er-Au-Cd-Co-Gd-Na-Sm-Eu-Tb-V-Ag-Nd-U-Ba-Ce-K-Ga-Cr-Al-Li-Sc-Ru-In-Mg-Zr-Dy-W-Yb-Y-Ho-Re-Be-Rb-La-Sn-Cs-Pb-Pr-Bi-Tm-Sr-Ti-Hf-Ir-Nb-Pd-Hg-Th-Np-Lu-Rh-Pu_dim2_nx2_ny7_persistence', 'features.phhist_Cu-Mn-Ni-Mo-Fe-Pt-Zn-Ca-Er-Au-Cd-Co-Gd-Na-Sm-Eu-Tb-V-Ag-Nd-U-Ba-Ce-K-Ga-Cr-Al-Li-Sc-Ru-In-Mg-Zr-Dy-W-Yb-Y-Ho-Re-Be-Rb-La-Sn-Cs-Pb-Pr-Bi-Tm-Sr-Ti-Hf-Ir-Nb-Pd-Hg-Th-Np-Lu-Rh-Pu_dim2_nx2_ny8_persistence', 'features.phhist_Cu-Mn-Ni-Mo-Fe-Pt-Zn-Ca-Er-Au-Cd-Co-Gd-Na-Sm-Eu-Tb-V-Ag-Nd-U-Ba-Ce-K-Ga-Cr-Al-Li-Sc-Ru-In-Mg-Zr-Dy-W-Yb-Y-Ho-Re-Be-Rb-La-Sn-Cs-Pb-Pr-Bi-Tm-Sr-Ti-Hf-Ir-Nb-Pd-Hg-Th-Np-Lu-Rh-Pu_dim2_nx2_ny9_persistence', 'features.phhist_Cu-Mn-Ni-Mo-Fe-Pt-Zn-Ca-Er-Au-Cd-Co-Gd-Na-Sm-Eu-Tb-V-Ag-Nd-U-Ba-Ce-K-Ga-Cr-Al-Li-Sc-Ru-In-Mg-Zr-Dy-W-Yb-Y-Ho-Re-Be-Rb-La-Sn-Cs-Pb-Pr-Bi-Tm-Sr-Ti-Hf-Ir-Nb-Pd-Hg-Th-Np-Lu-Rh-Pu_dim2_nx3_ny0_persistence', 'features.phhist_Cu-Mn-Ni-Mo-Fe-Pt-Zn-Ca-Er-Au-Cd-Co-Gd-Na-Sm-Eu-Tb-V-Ag-Nd-U-Ba-Ce-K-Ga-Cr-Al-Li-Sc-Ru-In-Mg-Zr-Dy-W-Yb-Y-Ho-Re-Be-Rb-La-Sn-Cs-Pb-Pr-Bi-Tm-Sr-Ti-Hf-Ir-Nb-Pd-Hg-Th-Np-Lu-Rh-Pu_dim2_nx3_ny1_persistence', 'features.phhist_Cu-Mn-Ni-Mo-Fe-Pt-Zn-Ca-Er-Au-Cd-Co-Gd-Na-Sm-Eu-Tb-V-Ag-Nd-U-Ba-Ce-K-Ga-Cr-Al-Li-Sc-Ru-In-Mg-Zr-Dy-W-Yb-Y-Ho-Re-Be-Rb-La-Sn-Cs-Pb-Pr-Bi-Tm-Sr-Ti-Hf-Ir-Nb-Pd-Hg-Th-Np-Lu-Rh-Pu_dim2_nx3_ny2_persistence', 'features.phhist_Cu-Mn-Ni-Mo-Fe-Pt-Zn-Ca-Er-Au-Cd-Co-Gd-Na-Sm-Eu-Tb-V-Ag-Nd-U-Ba-Ce-K-Ga-Cr-Al-Li-Sc-Ru-In-Mg-Zr-Dy-W-Yb-Y-Ho-Re-Be-Rb-La-Sn-Cs-Pb-Pr-Bi-Tm-Sr-Ti-Hf-Ir-Nb-Pd-Hg-Th-Np-Lu-Rh-Pu_dim2_nx3_ny3_persistence', 'features.phhist_Cu-Mn-Ni-Mo-Fe-Pt-Zn-Ca-Er-Au-Cd-Co-Gd-Na-Sm-Eu-Tb-V-Ag-Nd-U-Ba-Ce-K-Ga-Cr-Al-Li-Sc-Ru-In-Mg-Zr-Dy-W-Yb-Y-Ho-Re-Be-Rb-La-Sn-Cs-Pb-Pr-Bi-Tm-Sr-Ti-Hf-Ir-Nb-Pd-Hg-Th-Np-Lu-Rh-Pu_dim2_nx3_ny4_persistence', 'features.phhist_Cu-Mn-Ni-Mo-Fe-Pt-Zn-Ca-Er-Au-Cd-Co-Gd-Na-Sm-Eu-Tb-V-Ag-Nd-U-Ba-Ce-K-Ga-Cr-Al-Li-Sc-Ru-In-Mg-Zr-Dy-W-Yb-Y-Ho-Re-Be-Rb-La-Sn-Cs-Pb-Pr-Bi-Tm-Sr-Ti-Hf-Ir-Nb-Pd-Hg-Th-Np-Lu-Rh-Pu_dim2_nx3_ny5_persistence', 'features.phhist_Cu-Mn-Ni-Mo-Fe-Pt-Zn-Ca-Er-Au-Cd-Co-Gd-Na-Sm-Eu-Tb-V-Ag-Nd-U-Ba-Ce-K-Ga-Cr-Al-Li-Sc-Ru-In-Mg-Zr-Dy-W-Yb-Y-Ho-Re-Be-Rb-La-Sn-Cs-Pb-Pr-Bi-Tm-Sr-Ti-Hf-Ir-Nb-Pd-Hg-Th-Np-Lu-Rh-Pu_dim2_nx3_ny6_persistence', 'features.phhist_Cu-Mn-Ni-Mo-Fe-Pt-Zn-Ca-Er-Au-Cd-Co-Gd-Na-Sm-Eu-Tb-V-Ag-Nd-U-Ba-Ce-K-Ga-Cr-Al-Li-Sc-Ru-In-Mg-Zr-Dy-W-Yb-Y-Ho-Re-Be-Rb-La-Sn-Cs-Pb-Pr-Bi-Tm-Sr-Ti-Hf-Ir-Nb-Pd-Hg-Th-Np-Lu-Rh-Pu_dim2_nx3_ny7_persistence', 'features.phhist_Cu-Mn-Ni-Mo-Fe-Pt-Zn-Ca-Er-Au-Cd-Co-Gd-Na-Sm-Eu-Tb-V-Ag-Nd-U-Ba-Ce-K-Ga-Cr-Al-Li-Sc-Ru-In-Mg-Zr-Dy-W-Yb-Y-Ho-Re-Be-Rb-La-Sn-Cs-Pb-Pr-Bi-Tm-Sr-Ti-Hf-Ir-Nb-Pd-Hg-Th-Np-Lu-Rh-Pu_dim2_nx3_ny8_persistence', 'features.phhist_Cu-Mn-Ni-Mo-Fe-Pt-Zn-Ca-Er-Au-Cd-Co-Gd-Na-Sm-Eu-Tb-V-Ag-Nd-U-Ba-Ce-K-Ga-Cr-Al-Li-Sc-Ru-In-Mg-Zr-Dy-W-Yb-Y-Ho-Re-Be-Rb-La-Sn-Cs-Pb-Pr-Bi-Tm-Sr-Ti-Hf-Ir-Nb-Pd-Hg-Th-Np-Lu-Rh-Pu_dim2_nx3_ny9_persistence', 'features.phhist_Cu-Mn-Ni-Mo-Fe-Pt-Zn-Ca-Er-Au-Cd-Co-Gd-Na-Sm-Eu-Tb-V-Ag-Nd-U-Ba-Ce-K-Ga-Cr-Al-Li-Sc-Ru-In-Mg-Zr-Dy-W-Yb-Y-Ho-Re-Be-Rb-La-Sn-Cs-Pb-Pr-Bi-Tm-Sr-Ti-Hf-Ir-Nb-Pd-Hg-Th-Np-Lu-Rh-Pu_dim2_nx4_ny0_persistence', 'features.phhist_Cu-Mn-Ni-Mo-Fe-Pt-Zn-Ca-Er-Au-Cd-Co-Gd-Na-Sm-Eu-Tb-V-Ag-Nd-U-Ba-Ce-K-Ga-Cr-Al-Li-Sc-Ru-In-Mg-Zr-Dy-W-Yb-Y-Ho-Re-Be-Rb-La-Sn-Cs-Pb-Pr-Bi-Tm-Sr-Ti-Hf-Ir-Nb-Pd-Hg-Th-Np-Lu-Rh-Pu_dim2_nx4_ny1_persistence', 'features.phhist_Cu-Mn-Ni-Mo-Fe-Pt-Zn-Ca-Er-Au-Cd-Co-Gd-Na-Sm-Eu-Tb-V-Ag-Nd-U-Ba-Ce-K-Ga-Cr-Al-Li-Sc-Ru-In-Mg-Zr-Dy-W-Yb-Y-Ho-Re-Be-Rb-La-Sn-Cs-Pb-Pr-Bi-Tm-Sr-Ti-Hf-Ir-Nb-Pd-Hg-Th-Np-Lu-Rh-Pu_dim2_nx4_ny2_persistence', 'features.phhist_Cu-Mn-Ni-Mo-Fe-Pt-Zn-Ca-Er-Au-Cd-Co-Gd-Na-Sm-Eu-Tb-V-Ag-Nd-U-Ba-Ce-K-Ga-Cr-Al-Li-Sc-Ru-In-Mg-Zr-Dy-W-Yb-Y-Ho-Re-Be-Rb-La-Sn-Cs-Pb-Pr-Bi-Tm-Sr-Ti-Hf-Ir-Nb-Pd-Hg-Th-Np-Lu-Rh-Pu_dim2_nx4_ny3_persistence', 'features.phhist_Cu-Mn-Ni-Mo-Fe-Pt-Zn-Ca-Er-Au-Cd-Co-Gd-Na-Sm-Eu-Tb-V-Ag-Nd-U-Ba-Ce-K-Ga-Cr-Al-Li-Sc-Ru-In-Mg-Zr-Dy-W-Yb-Y-Ho-Re-Be-Rb-La-Sn-Cs-Pb-Pr-Bi-Tm-Sr-Ti-Hf-Ir-Nb-Pd-Hg-Th-Np-Lu-Rh-Pu_dim2_nx4_ny4_persistence', 'features.phhist_Cu-Mn-Ni-Mo-Fe-Pt-Zn-Ca-Er-Au-Cd-Co-Gd-Na-Sm-Eu-Tb-V-Ag-Nd-U-Ba-Ce-K-Ga-Cr-Al-Li-Sc-Ru-In-Mg-Zr-Dy-W-Yb-Y-Ho-Re-Be-Rb-La-Sn-Cs-Pb-Pr-Bi-Tm-Sr-Ti-Hf-Ir-Nb-Pd-Hg-Th-Np-Lu-Rh-Pu_dim2_nx4_ny5_persistence', 'features.phhist_Cu-Mn-Ni-Mo-Fe-Pt-Zn-Ca-Er-Au-Cd-Co-Gd-Na-Sm-Eu-Tb-V-Ag-Nd-U-Ba-Ce-K-Ga-Cr-Al-Li-Sc-Ru-In-Mg-Zr-Dy-W-Yb-Y-Ho-Re-Be-Rb-La-Sn-Cs-Pb-Pr-Bi-Tm-Sr-Ti-Hf-Ir-Nb-Pd-Hg-Th-Np-Lu-Rh-Pu_dim2_nx4_ny6_persistence', 'features.phhist_Cu-Mn-Ni-Mo-Fe-Pt-Zn-Ca-Er-Au-Cd-Co-Gd-Na-Sm-Eu-Tb-V-Ag-Nd-U-Ba-Ce-K-Ga-Cr-Al-Li-Sc-Ru-In-Mg-Zr-Dy-W-Yb-Y-Ho-Re-Be-Rb-La-Sn-Cs-Pb-Pr-Bi-Tm-Sr-Ti-Hf-Ir-Nb-Pd-Hg-Th-Np-Lu-Rh-Pu_dim2_nx4_ny7_persistence', 'features.phhist_Cu-Mn-Ni-Mo-Fe-Pt-Zn-Ca-Er-Au-Cd-Co-Gd-Na-Sm-Eu-Tb-V-Ag-Nd-U-Ba-Ce-K-Ga-Cr-Al-Li-Sc-Ru-In-Mg-Zr-Dy-W-Yb-Y-Ho-Re-Be-Rb-La-Sn-Cs-Pb-Pr-Bi-Tm-Sr-Ti-Hf-Ir-Nb-Pd-Hg-Th-Np-Lu-Rh-Pu_dim2_nx4_ny8_persistence', 'features.phhist_Cu-Mn-Ni-Mo-Fe-Pt-Zn-Ca-Er-Au-Cd-Co-Gd-Na-Sm-Eu-Tb-V-Ag-Nd-U-Ba-Ce-K-Ga-Cr-Al-Li-Sc-Ru-In-Mg-Zr-Dy-W-Yb-Y-Ho-Re-Be-Rb-La-Sn-Cs-Pb-Pr-Bi-Tm-Sr-Ti-Hf-Ir-Nb-Pd-Hg-Th-Np-Lu-Rh-Pu_dim2_nx4_ny9_persistence', 'features.phhist_Cu-Mn-Ni-Mo-Fe-Pt-Zn-Ca-Er-Au-Cd-Co-Gd-Na-Sm-Eu-Tb-V-Ag-Nd-U-Ba-Ce-K-Ga-Cr-Al-Li-Sc-Ru-In-Mg-Zr-Dy-W-Yb-Y-Ho-Re-Be-Rb-La-Sn-Cs-Pb-Pr-Bi-Tm-Sr-Ti-Hf-Ir-Nb-Pd-Hg-Th-Np-Lu-Rh-Pu_dim2_nx5_ny0_persistence', 'features.phhist_Cu-Mn-Ni-Mo-Fe-Pt-Zn-Ca-Er-Au-Cd-Co-Gd-Na-Sm-Eu-Tb-V-Ag-Nd-U-Ba-Ce-K-Ga-Cr-Al-Li-Sc-Ru-In-Mg-Zr-Dy-W-Yb-Y-Ho-Re-Be-Rb-La-Sn-Cs-Pb-Pr-Bi-Tm-Sr-Ti-Hf-Ir-Nb-Pd-Hg-Th-Np-Lu-Rh-Pu_dim2_nx5_ny1_persistence', 'features.phhist_Cu-Mn-Ni-Mo-Fe-Pt-Zn-Ca-Er-Au-Cd-Co-Gd-Na-Sm-Eu-Tb-V-Ag-Nd-U-Ba-Ce-K-Ga-Cr-Al-Li-Sc-Ru-In-Mg-Zr-Dy-W-Yb-Y-Ho-Re-Be-Rb-La-Sn-Cs-Pb-Pr-Bi-Tm-Sr-Ti-Hf-Ir-Nb-Pd-Hg-Th-Np-Lu-Rh-Pu_dim2_nx5_ny2_persistence', 'features.phhist_Cu-Mn-Ni-Mo-Fe-Pt-Zn-Ca-Er-Au-Cd-Co-Gd-Na-Sm-Eu-Tb-V-Ag-Nd-U-Ba-Ce-K-Ga-Cr-Al-Li-Sc-Ru-In-Mg-Zr-Dy-W-Yb-Y-Ho-Re-Be-Rb-La-Sn-Cs-Pb-Pr-Bi-Tm-Sr-Ti-Hf-Ir-Nb-Pd-Hg-Th-Np-Lu-Rh-Pu_dim2_nx5_ny3_persistence', 'features.phhist_Cu-Mn-Ni-Mo-Fe-Pt-Zn-Ca-Er-Au-Cd-Co-Gd-Na-Sm-Eu-Tb-V-Ag-Nd-U-Ba-Ce-K-Ga-Cr-Al-Li-Sc-Ru-In-Mg-Zr-Dy-W-Yb-Y-Ho-Re-Be-Rb-La-Sn-Cs-Pb-Pr-Bi-Tm-Sr-Ti-Hf-Ir-Nb-Pd-Hg-Th-Np-Lu-Rh-Pu_dim2_nx5_ny4_persistence', 'features.phhist_Cu-Mn-Ni-Mo-Fe-Pt-Zn-Ca-Er-Au-Cd-Co-Gd-Na-Sm-Eu-Tb-V-Ag-Nd-U-Ba-Ce-K-Ga-Cr-Al-Li-Sc-Ru-In-Mg-Zr-Dy-W-Yb-Y-Ho-Re-Be-Rb-La-Sn-Cs-Pb-Pr-Bi-Tm-Sr-Ti-Hf-Ir-Nb-Pd-Hg-Th-Np-Lu-Rh-Pu_dim2_nx5_ny5_persistence', 'features.phhist_Cu-Mn-Ni-Mo-Fe-Pt-Zn-Ca-Er-Au-Cd-Co-Gd-Na-Sm-Eu-Tb-V-Ag-Nd-U-Ba-Ce-K-Ga-Cr-Al-Li-Sc-Ru-In-Mg-Zr-Dy-W-Yb-Y-Ho-Re-Be-Rb-La-Sn-Cs-Pb-Pr-Bi-Tm-Sr-Ti-Hf-Ir-Nb-Pd-Hg-Th-Np-Lu-Rh-Pu_dim2_nx5_ny6_persistence', 'features.phhist_Cu-Mn-Ni-Mo-Fe-Pt-Zn-Ca-Er-Au-Cd-Co-Gd-Na-Sm-Eu-Tb-V-Ag-Nd-U-Ba-Ce-K-Ga-Cr-Al-Li-Sc-Ru-In-Mg-Zr-Dy-W-Yb-Y-Ho-Re-Be-Rb-La-Sn-Cs-Pb-Pr-Bi-Tm-Sr-Ti-Hf-Ir-Nb-Pd-Hg-Th-Np-Lu-Rh-Pu_dim2_nx5_ny7_persistence', 'features.phhist_Cu-Mn-Ni-Mo-Fe-Pt-Zn-Ca-Er-Au-Cd-Co-Gd-Na-Sm-Eu-Tb-V-Ag-Nd-U-Ba-Ce-K-Ga-Cr-Al-Li-Sc-Ru-In-Mg-Zr-Dy-W-Yb-Y-Ho-Re-Be-Rb-La-Sn-Cs-Pb-Pr-Bi-Tm-Sr-Ti-Hf-Ir-Nb-Pd-Hg-Th-Np-Lu-Rh-Pu_dim2_nx5_ny8_persistence', 'features.phhist_Cu-Mn-Ni-Mo-Fe-Pt-Zn-Ca-Er-Au-Cd-Co-Gd-Na-Sm-Eu-Tb-V-Ag-Nd-U-Ba-Ce-K-Ga-Cr-Al-Li-Sc-Ru-In-Mg-Zr-Dy-W-Yb-Y-Ho-Re-Be-Rb-La-Sn-Cs-Pb-Pr-Bi-Tm-Sr-Ti-Hf-Ir-Nb-Pd-Hg-Th-Np-Lu-Rh-Pu_dim2_nx5_ny9_persistence', 'features.phhist_Cu-Mn-Ni-Mo-Fe-Pt-Zn-Ca-Er-Au-Cd-Co-Gd-Na-Sm-Eu-Tb-V-Ag-Nd-U-Ba-Ce-K-Ga-Cr-Al-Li-Sc-Ru-In-Mg-Zr-Dy-W-Yb-Y-Ho-Re-Be-Rb-La-Sn-Cs-Pb-Pr-Bi-Tm-Sr-Ti-Hf-Ir-Nb-Pd-Hg-Th-Np-Lu-Rh-Pu_dim2_nx6_ny0_persistence', 'features.phhist_Cu-Mn-Ni-Mo-Fe-Pt-Zn-Ca-Er-Au-Cd-Co-Gd-Na-Sm-Eu-Tb-V-Ag-Nd-U-Ba-Ce-K-Ga-Cr-Al-Li-Sc-Ru-In-Mg-Zr-Dy-W-Yb-Y-Ho-Re-Be-Rb-La-Sn-Cs-Pb-Pr-Bi-Tm-Sr-Ti-Hf-Ir-Nb-Pd-Hg-Th-Np-Lu-Rh-Pu_dim2_nx6_ny1_persistence', 'features.phhist_Cu-Mn-Ni-Mo-Fe-Pt-Zn-Ca-Er-Au-Cd-Co-Gd-Na-Sm-Eu-Tb-V-Ag-Nd-U-Ba-Ce-K-Ga-Cr-Al-Li-Sc-Ru-In-Mg-Zr-Dy-W-Yb-Y-Ho-Re-Be-Rb-La-Sn-Cs-Pb-Pr-Bi-Tm-Sr-Ti-Hf-Ir-Nb-Pd-Hg-Th-Np-Lu-Rh-Pu_dim2_nx6_ny2_persistence', 'features.phhist_Cu-Mn-Ni-Mo-Fe-Pt-Zn-Ca-Er-Au-Cd-Co-Gd-Na-Sm-Eu-Tb-V-Ag-Nd-U-Ba-Ce-K-Ga-Cr-Al-Li-Sc-Ru-In-Mg-Zr-Dy-W-Yb-Y-Ho-Re-Be-Rb-La-Sn-Cs-Pb-Pr-Bi-Tm-Sr-Ti-Hf-Ir-Nb-Pd-Hg-Th-Np-Lu-Rh-Pu_dim2_nx6_ny3_persistence', 'features.phhist_Cu-Mn-Ni-Mo-Fe-Pt-Zn-Ca-Er-Au-Cd-Co-Gd-Na-Sm-Eu-Tb-V-Ag-Nd-U-Ba-Ce-K-Ga-Cr-Al-Li-Sc-Ru-In-Mg-Zr-Dy-W-Yb-Y-Ho-Re-Be-Rb-La-Sn-Cs-Pb-Pr-Bi-Tm-Sr-Ti-Hf-Ir-Nb-Pd-Hg-Th-Np-Lu-Rh-Pu_dim2_nx6_ny4_persistence', 'features.phhist_Cu-Mn-Ni-Mo-Fe-Pt-Zn-Ca-Er-Au-Cd-Co-Gd-Na-Sm-Eu-Tb-V-Ag-Nd-U-Ba-Ce-K-Ga-Cr-Al-Li-Sc-Ru-In-Mg-Zr-Dy-W-Yb-Y-Ho-Re-Be-Rb-La-Sn-Cs-Pb-Pr-Bi-Tm-Sr-Ti-Hf-Ir-Nb-Pd-Hg-Th-Np-Lu-Rh-Pu_dim2_nx6_ny5_persistence', 'features.phhist_Cu-Mn-Ni-Mo-Fe-Pt-Zn-Ca-Er-Au-Cd-Co-Gd-Na-Sm-Eu-Tb-V-Ag-Nd-U-Ba-Ce-K-Ga-Cr-Al-Li-Sc-Ru-In-Mg-Zr-Dy-W-Yb-Y-Ho-Re-Be-Rb-La-Sn-Cs-Pb-Pr-Bi-Tm-Sr-Ti-Hf-Ir-Nb-Pd-Hg-Th-Np-Lu-Rh-Pu_dim2_nx6_ny6_persistence', 'features.phhist_Cu-Mn-Ni-Mo-Fe-Pt-Zn-Ca-Er-Au-Cd-Co-Gd-Na-Sm-Eu-Tb-V-Ag-Nd-U-Ba-Ce-K-Ga-Cr-Al-Li-Sc-Ru-In-Mg-Zr-Dy-W-Yb-Y-Ho-Re-Be-Rb-La-Sn-Cs-Pb-Pr-Bi-Tm-Sr-Ti-Hf-Ir-Nb-Pd-Hg-Th-Np-Lu-Rh-Pu_dim2_nx6_ny7_persistence', 'features.phhist_Cu-Mn-Ni-Mo-Fe-Pt-Zn-Ca-Er-Au-Cd-Co-Gd-Na-Sm-Eu-Tb-V-Ag-Nd-U-Ba-Ce-K-Ga-Cr-Al-Li-Sc-Ru-In-Mg-Zr-Dy-W-Yb-Y-Ho-Re-Be-Rb-La-Sn-Cs-Pb-Pr-Bi-Tm-Sr-Ti-Hf-Ir-Nb-Pd-Hg-Th-Np-Lu-Rh-Pu_dim2_nx6_ny8_persistence', 'features.phhist_Cu-Mn-Ni-Mo-Fe-Pt-Zn-Ca-Er-Au-Cd-Co-Gd-Na-Sm-Eu-Tb-V-Ag-Nd-U-Ba-Ce-K-Ga-Cr-Al-Li-Sc-Ru-In-Mg-Zr-Dy-W-Yb-Y-Ho-Re-Be-Rb-La-Sn-Cs-Pb-Pr-Bi-Tm-Sr-Ti-Hf-Ir-Nb-Pd-Hg-Th-Np-Lu-Rh-Pu_dim2_nx6_ny9_persistence', 'features.phhist_Cu-Mn-Ni-Mo-Fe-Pt-Zn-Ca-Er-Au-Cd-Co-Gd-Na-Sm-Eu-Tb-V-Ag-Nd-U-Ba-Ce-K-Ga-Cr-Al-Li-Sc-Ru-In-Mg-Zr-Dy-W-Yb-Y-Ho-Re-Be-Rb-La-Sn-Cs-Pb-Pr-Bi-Tm-Sr-Ti-Hf-Ir-Nb-Pd-Hg-Th-Np-Lu-Rh-Pu_dim2_nx7_ny0_persistence', 'features.phhist_Cu-Mn-Ni-Mo-Fe-Pt-Zn-Ca-Er-Au-Cd-Co-Gd-Na-Sm-Eu-Tb-V-Ag-Nd-U-Ba-Ce-K-Ga-Cr-Al-Li-Sc-Ru-In-Mg-Zr-Dy-W-Yb-Y-Ho-Re-Be-Rb-La-Sn-Cs-Pb-Pr-Bi-Tm-Sr-Ti-Hf-Ir-Nb-Pd-Hg-Th-Np-Lu-Rh-Pu_dim2_nx7_ny1_persistence', 'features.phhist_Cu-Mn-Ni-Mo-Fe-Pt-Zn-Ca-Er-Au-Cd-Co-Gd-Na-Sm-Eu-Tb-V-Ag-Nd-U-Ba-Ce-K-Ga-Cr-Al-Li-Sc-Ru-In-Mg-Zr-Dy-W-Yb-Y-Ho-Re-Be-Rb-La-Sn-Cs-Pb-Pr-Bi-Tm-Sr-Ti-Hf-Ir-Nb-Pd-Hg-Th-Np-Lu-Rh-Pu_dim2_nx7_ny2_persistence', 'features.phhist_Cu-Mn-Ni-Mo-Fe-Pt-Zn-Ca-Er-Au-Cd-Co-Gd-Na-Sm-Eu-Tb-V-Ag-Nd-U-Ba-Ce-K-Ga-Cr-Al-Li-Sc-Ru-In-Mg-Zr-Dy-W-Yb-Y-Ho-Re-Be-Rb-La-Sn-Cs-Pb-Pr-Bi-Tm-Sr-Ti-Hf-Ir-Nb-Pd-Hg-Th-Np-Lu-Rh-Pu_dim2_nx7_ny3_persistence', 'features.phhist_Cu-Mn-Ni-Mo-Fe-Pt-Zn-Ca-Er-Au-Cd-Co-Gd-Na-Sm-Eu-Tb-V-Ag-Nd-U-Ba-Ce-K-Ga-Cr-Al-Li-Sc-Ru-In-Mg-Zr-Dy-W-Yb-Y-Ho-Re-Be-Rb-La-Sn-Cs-Pb-Pr-Bi-Tm-Sr-Ti-Hf-Ir-Nb-Pd-Hg-Th-Np-Lu-Rh-Pu_dim2_nx7_ny4_persistence', 'features.phhist_Cu-Mn-Ni-Mo-Fe-Pt-Zn-Ca-Er-Au-Cd-Co-Gd-Na-Sm-Eu-Tb-V-Ag-Nd-U-Ba-Ce-K-Ga-Cr-Al-Li-Sc-Ru-In-Mg-Zr-Dy-W-Yb-Y-Ho-Re-Be-Rb-La-Sn-Cs-Pb-Pr-Bi-Tm-Sr-Ti-Hf-Ir-Nb-Pd-Hg-Th-Np-Lu-Rh-Pu_dim2_nx7_ny5_persistence', 'features.phhist_Cu-Mn-Ni-Mo-Fe-Pt-Zn-Ca-Er-Au-Cd-Co-Gd-Na-Sm-Eu-Tb-V-Ag-Nd-U-Ba-Ce-K-Ga-Cr-Al-Li-Sc-Ru-In-Mg-Zr-Dy-W-Yb-Y-Ho-Re-Be-Rb-La-Sn-Cs-Pb-Pr-Bi-Tm-Sr-Ti-Hf-Ir-Nb-Pd-Hg-Th-Np-Lu-Rh-Pu_dim2_nx7_ny6_persistence', 'features.phhist_Cu-Mn-Ni-Mo-Fe-Pt-Zn-Ca-Er-Au-Cd-Co-Gd-Na-Sm-Eu-Tb-V-Ag-Nd-U-Ba-Ce-K-Ga-Cr-Al-Li-Sc-Ru-In-Mg-Zr-Dy-W-Yb-Y-Ho-Re-Be-Rb-La-Sn-Cs-Pb-Pr-Bi-Tm-Sr-Ti-Hf-Ir-Nb-Pd-Hg-Th-Np-Lu-Rh-Pu_dim2_nx7_ny7_persistence', 'features.phhist_Cu-Mn-Ni-Mo-Fe-Pt-Zn-Ca-Er-Au-Cd-Co-Gd-Na-Sm-Eu-Tb-V-Ag-Nd-U-Ba-Ce-K-Ga-Cr-Al-Li-Sc-Ru-In-Mg-Zr-Dy-W-Yb-Y-Ho-Re-Be-Rb-La-Sn-Cs-Pb-Pr-Bi-Tm-Sr-Ti-Hf-Ir-Nb-Pd-Hg-Th-Np-Lu-Rh-Pu_dim2_nx7_ny8_persistence', 'features.phhist_Cu-Mn-Ni-Mo-Fe-Pt-Zn-Ca-Er-Au-Cd-Co-Gd-Na-Sm-Eu-Tb-V-Ag-Nd-U-Ba-Ce-K-Ga-Cr-Al-Li-Sc-Ru-In-Mg-Zr-Dy-W-Yb-Y-Ho-Re-Be-Rb-La-Sn-Cs-Pb-Pr-Bi-Tm-Sr-Ti-Hf-Ir-Nb-Pd-Hg-Th-Np-Lu-Rh-Pu_dim2_nx7_ny9_persistence', 'features.phhist_Cu-Mn-Ni-Mo-Fe-Pt-Zn-Ca-Er-Au-Cd-Co-Gd-Na-Sm-Eu-Tb-V-Ag-Nd-U-Ba-Ce-K-Ga-Cr-Al-Li-Sc-Ru-In-Mg-Zr-Dy-W-Yb-Y-Ho-Re-Be-Rb-La-Sn-Cs-Pb-Pr-Bi-Tm-Sr-Ti-Hf-Ir-Nb-Pd-Hg-Th-Np-Lu-Rh-Pu_dim2_nx8_ny0_persistence', 'features.phhist_Cu-Mn-Ni-Mo-Fe-Pt-Zn-Ca-Er-Au-Cd-Co-Gd-Na-Sm-Eu-Tb-V-Ag-Nd-U-Ba-Ce-K-Ga-Cr-Al-Li-Sc-Ru-In-Mg-Zr-Dy-W-Yb-Y-Ho-Re-Be-Rb-La-Sn-Cs-Pb-Pr-Bi-Tm-Sr-Ti-Hf-Ir-Nb-Pd-Hg-Th-Np-Lu-Rh-Pu_dim2_nx8_ny1_persistence', 'features.phhist_Cu-Mn-Ni-Mo-Fe-Pt-Zn-Ca-Er-Au-Cd-Co-Gd-Na-Sm-Eu-Tb-V-Ag-Nd-U-Ba-Ce-K-Ga-Cr-Al-Li-Sc-Ru-In-Mg-Zr-Dy-W-Yb-Y-Ho-Re-Be-Rb-La-Sn-Cs-Pb-Pr-Bi-Tm-Sr-Ti-Hf-Ir-Nb-Pd-Hg-Th-Np-Lu-Rh-Pu_dim2_nx8_ny2_persistence', 'features.phhist_Cu-Mn-Ni-Mo-Fe-Pt-Zn-Ca-Er-Au-Cd-Co-Gd-Na-Sm-Eu-Tb-V-Ag-Nd-U-Ba-Ce-K-Ga-Cr-Al-Li-Sc-Ru-In-Mg-Zr-Dy-W-Yb-Y-Ho-Re-Be-Rb-La-Sn-Cs-Pb-Pr-Bi-Tm-Sr-Ti-Hf-Ir-Nb-Pd-Hg-Th-Np-Lu-Rh-Pu_dim2_nx8_ny3_persistence', 'features.phhist_Cu-Mn-Ni-Mo-Fe-Pt-Zn-Ca-Er-Au-Cd-Co-Gd-Na-Sm-Eu-Tb-V-Ag-Nd-U-Ba-Ce-K-Ga-Cr-Al-Li-Sc-Ru-In-Mg-Zr-Dy-W-Yb-Y-Ho-Re-Be-Rb-La-Sn-Cs-Pb-Pr-Bi-Tm-Sr-Ti-Hf-Ir-Nb-Pd-Hg-Th-Np-Lu-Rh-Pu_dim2_nx8_ny4_persistence', 'features.phhist_Cu-Mn-Ni-Mo-Fe-Pt-Zn-Ca-Er-Au-Cd-Co-Gd-Na-Sm-Eu-Tb-V-Ag-Nd-U-Ba-Ce-K-Ga-Cr-Al-Li-Sc-Ru-In-Mg-Zr-Dy-W-Yb-Y-Ho-Re-Be-Rb-La-Sn-Cs-Pb-Pr-Bi-Tm-Sr-Ti-Hf-Ir-Nb-Pd-Hg-Th-Np-Lu-Rh-Pu_dim2_nx8_ny5_persistence', 'features.phhist_Cu-Mn-Ni-Mo-Fe-Pt-Zn-Ca-Er-Au-Cd-Co-Gd-Na-Sm-Eu-Tb-V-Ag-Nd-U-Ba-Ce-K-Ga-Cr-Al-Li-Sc-Ru-In-Mg-Zr-Dy-W-Yb-Y-Ho-Re-Be-Rb-La-Sn-Cs-Pb-Pr-Bi-Tm-Sr-Ti-Hf-Ir-Nb-Pd-Hg-Th-Np-Lu-Rh-Pu_dim2_nx8_ny6_persistence', 'features.phhist_Cu-Mn-Ni-Mo-Fe-Pt-Zn-Ca-Er-Au-Cd-Co-Gd-Na-Sm-Eu-Tb-V-Ag-Nd-U-Ba-Ce-K-Ga-Cr-Al-Li-Sc-Ru-In-Mg-Zr-Dy-W-Yb-Y-Ho-Re-Be-Rb-La-Sn-Cs-Pb-Pr-Bi-Tm-Sr-Ti-Hf-Ir-Nb-Pd-Hg-Th-Np-Lu-Rh-Pu_dim2_nx8_ny7_persistence', 'features.phhist_Cu-Mn-Ni-Mo-Fe-Pt-Zn-Ca-Er-Au-Cd-Co-Gd-Na-Sm-Eu-Tb-V-Ag-Nd-U-Ba-Ce-K-Ga-Cr-Al-Li-Sc-Ru-In-Mg-Zr-Dy-W-Yb-Y-Ho-Re-Be-Rb-La-Sn-Cs-Pb-Pr-Bi-Tm-Sr-Ti-Hf-Ir-Nb-Pd-Hg-Th-Np-Lu-Rh-Pu_dim2_nx8_ny8_persistence', 'features.phhist_Cu-Mn-Ni-Mo-Fe-Pt-Zn-Ca-Er-Au-Cd-Co-Gd-Na-Sm-Eu-Tb-V-Ag-Nd-U-Ba-Ce-K-Ga-Cr-Al-Li-Sc-Ru-In-Mg-Zr-Dy-W-Yb-Y-Ho-Re-Be-Rb-La-Sn-Cs-Pb-Pr-Bi-Tm-Sr-Ti-Hf-Ir-Nb-Pd-Hg-Th-Np-Lu-Rh-Pu_dim2_nx8_ny9_persistence', 'features.phhist_Cu-Mn-Ni-Mo-Fe-Pt-Zn-Ca-Er-Au-Cd-Co-Gd-Na-Sm-Eu-Tb-V-Ag-Nd-U-Ba-Ce-K-Ga-Cr-Al-Li-Sc-Ru-In-Mg-Zr-Dy-W-Yb-Y-Ho-Re-Be-Rb-La-Sn-Cs-Pb-Pr-Bi-Tm-Sr-Ti-Hf-Ir-Nb-Pd-Hg-Th-Np-Lu-Rh-Pu_dim2_nx9_ny0_persistence', 'features.phhist_Cu-Mn-Ni-Mo-Fe-Pt-Zn-Ca-Er-Au-Cd-Co-Gd-Na-Sm-Eu-Tb-V-Ag-Nd-U-Ba-Ce-K-Ga-Cr-Al-Li-Sc-Ru-In-Mg-Zr-Dy-W-Yb-Y-Ho-Re-Be-Rb-La-Sn-Cs-Pb-Pr-Bi-Tm-Sr-Ti-Hf-Ir-Nb-Pd-Hg-Th-Np-Lu-Rh-Pu_dim2_nx9_ny1_persistence', 'features.phhist_Cu-Mn-Ni-Mo-Fe-Pt-Zn-Ca-Er-Au-Cd-Co-Gd-Na-Sm-Eu-Tb-V-Ag-Nd-U-Ba-Ce-K-Ga-Cr-Al-Li-Sc-Ru-In-Mg-Zr-Dy-W-Yb-Y-Ho-Re-Be-Rb-La-Sn-Cs-Pb-Pr-Bi-Tm-Sr-Ti-Hf-Ir-Nb-Pd-Hg-Th-Np-Lu-Rh-Pu_dim2_nx9_ny2_persistence', 'features.phhist_Cu-Mn-Ni-Mo-Fe-Pt-Zn-Ca-Er-Au-Cd-Co-Gd-Na-Sm-Eu-Tb-V-Ag-Nd-U-Ba-Ce-K-Ga-Cr-Al-Li-Sc-Ru-In-Mg-Zr-Dy-W-Yb-Y-Ho-Re-Be-Rb-La-Sn-Cs-Pb-Pr-Bi-Tm-Sr-Ti-Hf-Ir-Nb-Pd-Hg-Th-Np-Lu-Rh-Pu_dim2_nx9_ny3_persistence', 'features.phhist_Cu-Mn-Ni-Mo-Fe-Pt-Zn-Ca-Er-Au-Cd-Co-Gd-Na-Sm-Eu-Tb-V-Ag-Nd-U-Ba-Ce-K-Ga-Cr-Al-Li-Sc-Ru-In-Mg-Zr-Dy-W-Yb-Y-Ho-Re-Be-Rb-La-Sn-Cs-Pb-Pr-Bi-Tm-Sr-Ti-Hf-Ir-Nb-Pd-Hg-Th-Np-Lu-Rh-Pu_dim2_nx9_ny4_persistence', 'features.phhist_Cu-Mn-Ni-Mo-Fe-Pt-Zn-Ca-Er-Au-Cd-Co-Gd-Na-Sm-Eu-Tb-V-Ag-Nd-U-Ba-Ce-K-Ga-Cr-Al-Li-Sc-Ru-In-Mg-Zr-Dy-W-Yb-Y-Ho-Re-Be-Rb-La-Sn-Cs-Pb-Pr-Bi-Tm-Sr-Ti-Hf-Ir-Nb-Pd-Hg-Th-Np-Lu-Rh-Pu_dim2_nx9_ny5_persistence', 'features.phhist_Cu-Mn-Ni-Mo-Fe-Pt-Zn-Ca-Er-Au-Cd-Co-Gd-Na-Sm-Eu-Tb-V-Ag-Nd-U-Ba-Ce-K-Ga-Cr-Al-Li-Sc-Ru-In-Mg-Zr-Dy-W-Yb-Y-Ho-Re-Be-Rb-La-Sn-Cs-Pb-Pr-Bi-Tm-Sr-Ti-Hf-Ir-Nb-Pd-Hg-Th-Np-Lu-Rh-Pu_dim2_nx9_ny6_persistence', 'features.phhist_Cu-Mn-Ni-Mo-Fe-Pt-Zn-Ca-Er-Au-Cd-Co-Gd-Na-Sm-Eu-Tb-V-Ag-Nd-U-Ba-Ce-K-Ga-Cr-Al-Li-Sc-Ru-In-Mg-Zr-Dy-W-Yb-Y-Ho-Re-Be-Rb-La-Sn-Cs-Pb-Pr-Bi-Tm-Sr-Ti-Hf-Ir-Nb-Pd-Hg-Th-Np-Lu-Rh-Pu_dim2_nx9_ny7_persistence', 'features.phhist_Cu-Mn-Ni-Mo-Fe-Pt-Zn-Ca-Er-Au-Cd-Co-Gd-Na-Sm-Eu-Tb-V-Ag-Nd-U-Ba-Ce-K-Ga-Cr-Al-Li-Sc-Ru-In-Mg-Zr-Dy-W-Yb-Y-Ho-Re-Be-Rb-La-Sn-Cs-Pb-Pr-Bi-Tm-Sr-Ti-Hf-Ir-Nb-Pd-Hg-Th-Np-Lu-Rh-Pu_dim2_nx9_ny8_persistence', 'features.phhist_Cu-Mn-Ni-Mo-Fe-Pt-Zn-Ca-Er-Au-Cd-Co-Gd-Na-Sm-Eu-Tb-V-Ag-Nd-U-Ba-Ce-K-Ga-Cr-Al-Li-Sc-Ru-In-Mg-Zr-Dy-W-Yb-Y-Ho-Re-Be-Rb-La-Sn-Cs-Pb-Pr-Bi-Tm-Sr-Ti-Hf-Ir-Nb-Pd-Hg-Th-Np-Lu-Rh-Pu_dim2_nx9_ny9_persistence', 'features.phhist_all_dim1_nx0_ny0_persistence', 'features.phhist_all_dim1_nx0_ny1_persistence', 'features.phhist_all_dim1_nx0_ny2_persistence', 'features.phhist_all_dim1_nx0_ny3_persistence', 'features.phhist_all_dim1_nx0_ny4_persistence', 'features.phhist_all_dim1_nx0_ny5_persistence', 'features.phhist_all_dim1_nx0_ny6_persistence', 'features.phhist_all_dim1_nx0_ny7_persistence', 'features.phhist_all_dim1_nx0_ny8_persistence', 'features.phhist_all_dim1_nx0_ny9_persistence', 'features.phhist_all_dim1_nx1_ny0_persistence', 'features.phhist_all_dim1_nx1_ny1_persistence', 'features.phhist_all_dim1_nx1_ny2_persistence', 'features.phhist_all_dim1_nx1_ny3_persistence', 'features.phhist_all_dim1_nx1_ny4_persistence', 'features.phhist_all_dim1_nx1_ny5_persistence', 'features.phhist_all_dim1_nx1_ny6_persistence', 'features.phhist_all_dim1_nx1_ny7_persistence', 'features.phhist_all_dim1_nx1_ny8_persistence', 'features.phhist_all_dim1_nx1_ny9_persistence', 'features.phhist_all_dim1_nx2_ny0_persistence', 'features.phhist_all_dim1_nx2_ny1_persistence', 'features.phhist_all_dim1_nx2_ny2_persistence', 'features.phhist_all_dim1_nx2_ny3_persistence', 'features.phhist_all_dim1_nx2_ny4_persistence', 'features.phhist_all_dim1_nx2_ny5_persistence', 'features.phhist_all_dim1_nx2_ny6_persistence', 'features.phhist_all_dim1_nx2_ny7_persistence', 'features.phhist_all_dim1_nx2_ny8_persistence', 'features.phhist_all_dim1_nx2_ny9_persistence', 'features.phhist_all_dim1_nx3_ny0_persistence', 'features.phhist_all_dim1_nx3_ny1_persistence', 'features.phhist_all_dim1_nx3_ny2_persistence', 'features.phhist_all_dim1_nx3_ny3_persistence', 'features.phhist_all_dim1_nx3_ny4_persistence', 'features.phhist_all_dim1_nx3_ny5_persistence', 'features.phhist_all_dim1_nx3_ny6_persistence', 'features.phhist_all_dim1_nx3_ny7_persistence', 'features.phhist_all_dim1_nx3_ny8_persistence', 'features.phhist_all_dim1_nx3_ny9_persistence', 'features.phhist_all_dim1_nx4_ny0_persistence', 'features.phhist_all_dim1_nx4_ny1_persistence', 'features.phhist_all_dim1_nx4_ny2_persistence', 'features.phhist_all_dim1_nx4_ny3_persistence', 'features.phhist_all_dim1_nx4_ny4_persistence', 'features.phhist_all_dim1_nx4_ny5_persistence', 'features.phhist_all_dim1_nx4_ny6_persistence', 'features.phhist_all_dim1_nx4_ny7_persistence', 'features.phhist_all_dim1_nx4_ny8_persistence', 'features.phhist_all_dim1_nx4_ny9_persistence', 'features.phhist_all_dim1_nx5_ny0_persistence', 'features.phhist_all_dim1_nx5_ny1_persistence', 'features.phhist_all_dim1_nx5_ny2_persistence', 'features.phhist_all_dim1_nx5_ny3_persistence', 'features.phhist_all_dim1_nx5_ny4_persistence', 'features.phhist_all_dim1_nx5_ny5_persistence', 'features.phhist_all_dim1_nx5_ny6_persistence', 'features.phhist_all_dim1_nx5_ny7_persistence', 'features.phhist_all_dim1_nx5_ny8_persistence', 'features.phhist_all_dim1_nx5_ny9_persistence', 'features.phhist_all_dim1_nx6_ny0_persistence', 'features.phhist_all_dim1_nx6_ny1_persistence', 'features.phhist_all_dim1_nx6_ny2_persistence', 'features.phhist_all_dim1_nx6_ny3_persistence', 'features.phhist_all_dim1_nx6_ny4_persistence', 'features.phhist_all_dim1_nx6_ny5_persistence', 'features.phhist_all_dim1_nx6_ny6_persistence', 'features.phhist_all_dim1_nx6_ny7_persistence', 'features.phhist_all_dim1_nx6_ny8_persistence', 'features.phhist_all_dim1_nx6_ny9_persistence', 'features.phhist_all_dim1_nx7_ny0_persistence', 'features.phhist_all_dim1_nx7_ny1_persistence', 'features.phhist_all_dim1_nx7_ny2_persistence', 'features.phhist_all_dim1_nx7_ny3_persistence', 'features.phhist_all_dim1_nx7_ny4_persistence', 'features.phhist_all_dim1_nx7_ny5_persistence', 'features.phhist_all_dim1_nx7_ny6_persistence', 'features.phhist_all_dim1_nx7_ny7_persistence', 'features.phhist_all_dim1_nx7_ny8_persistence', 'features.phhist_all_dim1_nx7_ny9_persistence', 'features.phhist_all_dim1_nx8_ny0_persistence', 'features.phhist_all_dim1_nx8_ny1_persistence', 'features.phhist_all_dim1_nx8_ny2_persistence', 'features.phhist_all_dim1_nx8_ny3_persistence', 'features.phhist_all_dim1_nx8_ny4_persistence', 'features.phhist_all_dim1_nx8_ny5_persistence', 'features.phhist_all_dim1_nx8_ny6_persistence', 'features.phhist_all_dim1_nx8_ny7_persistence', 'features.phhist_all_dim1_nx8_ny8_persistence', 'features.phhist_all_dim1_nx8_ny9_persistence', 'features.phhist_all_dim1_nx9_ny0_persistence', 'features.phhist_all_dim1_nx9_ny1_persistence', 'features.phhist_all_dim1_nx9_ny2_persistence', 'features.phhist_all_dim1_nx9_ny3_persistence', 'features.phhist_all_dim1_nx9_ny4_persistence', 'features.phhist_all_dim1_nx9_ny5_persistence', 'features.phhist_all_dim1_nx9_ny6_persistence', 'features.phhist_all_dim1_nx9_ny7_persistence', 'features.phhist_all_dim1_nx9_ny8_persistence', 'features.phhist_all_dim1_nx9_ny9_persistence', 'features.phhist_all_dim2_nx0_ny0_persistence', 'features.phhist_all_dim2_nx0_ny1_persistence', 'features.phhist_all_dim2_nx0_ny2_persistence', 'features.phhist_all_dim2_nx0_ny3_persistence', 'features.phhist_all_dim2_nx0_ny4_persistence', 'features.phhist_all_dim2_nx0_ny5_persistence', 'features.phhist_all_dim2_nx0_ny6_persistence', 'features.phhist_all_dim2_nx0_ny7_persistence', 'features.phhist_all_dim2_nx0_ny8_persistence', 'features.phhist_all_dim2_nx0_ny9_persistence', 'features.phhist_all_dim2_nx1_ny0_persistence', 'features.phhist_all_dim2_nx1_ny1_persistence', 'features.phhist_all_dim2_nx1_ny2_persistence', 'features.phhist_all_dim2_nx1_ny3_persistence', 'features.phhist_all_dim2_nx1_ny4_persistence', 'features.phhist_all_dim2_nx1_ny5_persistence', 'features.phhist_all_dim2_nx1_ny6_persistence', 'features.phhist_all_dim2_nx1_ny7_persistence', 'features.phhist_all_dim2_nx1_ny8_persistence', 'features.phhist_all_dim2_nx1_ny9_persistence', 'features.phhist_all_dim2_nx2_ny0_persistence', 'features.phhist_all_dim2_nx2_ny1_persistence', 'features.phhist_all_dim2_nx2_ny2_persistence', 'features.phhist_all_dim2_nx2_ny3_persistence', 'features.phhist_all_dim2_nx2_ny4_persistence', 'features.phhist_all_dim2_nx2_ny5_persistence', 'features.phhist_all_dim2_nx2_ny6_persistence', 'features.phhist_all_dim2_nx2_ny7_persistence', 'features.phhist_all_dim2_nx2_ny8_persistence', 'features.phhist_all_dim2_nx2_ny9_persistence', 'features.phhist_all_dim2_nx3_ny0_persistence', 'features.phhist_all_dim2_nx3_ny1_persistence', 'features.phhist_all_dim2_nx3_ny2_persistence', 'features.phhist_all_dim2_nx3_ny3_persistence', 'features.phhist_all_dim2_nx3_ny4_persistence', 'features.phhist_all_dim2_nx3_ny5_persistence', 'features.phhist_all_dim2_nx3_ny6_persistence', 'features.phhist_all_dim2_nx3_ny7_persistence', 'features.phhist_all_dim2_nx3_ny8_persistence', 'features.phhist_all_dim2_nx3_ny9_persistence', 'features.phhist_all_dim2_nx4_ny0_persistence', 'features.phhist_all_dim2_nx4_ny1_persistence', 'features.phhist_all_dim2_nx4_ny2_persistence', 'features.phhist_all_dim2_nx4_ny3_persistence', 'features.phhist_all_dim2_nx4_ny4_persistence', 'features.phhist_all_dim2_nx4_ny5_persistence', 'features.phhist_all_dim2_nx4_ny6_persistence', 'features.phhist_all_dim2_nx4_ny7_persistence', 'features.phhist_all_dim2_nx4_ny8_persistence', 'features.phhist_all_dim2_nx4_ny9_persistence', 'features.phhist_all_dim2_nx5_ny0_persistence', 'features.phhist_all_dim2_nx5_ny1_persistence', 'features.phhist_all_dim2_nx5_ny2_persistence', 'features.phhist_all_dim2_nx5_ny3_persistence', 'features.phhist_all_dim2_nx5_ny4_persistence', 'features.phhist_all_dim2_nx5_ny5_persistence', 'features.phhist_all_dim2_nx5_ny6_persistence', 'features.phhist_all_dim2_nx5_ny7_persistence', 'features.phhist_all_dim2_nx5_ny8_persistence', 'features.phhist_all_dim2_nx5_ny9_persistence', 'features.phhist_all_dim2_nx6_ny0_persistence', 'features.phhist_all_dim2_nx6_ny1_persistence', 'features.phhist_all_dim2_nx6_ny2_persistence', 'features.phhist_all_dim2_nx6_ny3_persistence', 'features.phhist_all_dim2_nx6_ny4_persistence', 'features.phhist_all_dim2_nx6_ny5_persistence', 'features.phhist_all_dim2_nx6_ny6_persistence', 'features.phhist_all_dim2_nx6_ny7_persistence', 'features.phhist_all_dim2_nx6_ny8_persistence', 'features.phhist_all_dim2_nx6_ny9_persistence', 'features.phhist_all_dim2_nx7_ny0_persistence', 'features.phhist_all_dim2_nx7_ny1_persistence', 'features.phhist_all_dim2_nx7_ny2_persistence', 'features.phhist_all_dim2_nx7_ny3_persistence', 'features.phhist_all_dim2_nx7_ny4_persistence', 'features.phhist_all_dim2_nx7_ny5_persistence', 'features.phhist_all_dim2_nx7_ny6_persistence', 'features.phhist_all_dim2_nx7_ny7_persistence', 'features.phhist_all_dim2_nx7_ny8_persistence', 'features.phhist_all_dim2_nx7_ny9_persistence', 'features.phhist_all_dim2_nx8_ny0_persistence', 'features.phhist_all_dim2_nx8_ny1_persistence', 'features.phhist_all_dim2_nx8_ny2_persistence', 'features.phhist_all_dim2_nx8_ny3_persistence', 'features.phhist_all_dim2_nx8_ny4_persistence', 'features.phhist_all_dim2_nx8_ny5_persistence', 'features.phhist_all_dim2_nx8_ny6_persistence', 'features.phhist_all_dim2_nx8_ny7_persistence', 'features.phhist_all_dim2_nx8_ny8_persistence', 'features.phhist_all_dim2_nx8_ny9_persistence', 'features.phhist_all_dim2_nx9_ny0_persistence', 'features.phhist_all_dim2_nx9_ny1_persistence', 'features.phhist_all_dim2_nx9_ny2_persistence', 'features.phhist_all_dim2_nx9_ny3_persistence', 'features.phhist_all_dim2_nx9_ny4_persistence', 'features.phhist_all_dim2_nx9_ny5_persistence', 'features.phhist_all_dim2_nx9_ny6_persistence', 'features.phhist_all_dim2_nx9_ny7_persistence', 'features.phhist_all_dim2_nx9_ny8_persistence', 'features.phhist_all_dim2_nx9_ny9_persistence', 'features.lis', 'features.lifs', 'features.lifsp', 'features.aprdf_X_avg_2.0', 'features.aprdf_X_avg_2.1', 'features.aprdf_X_avg_2.2', 'features.aprdf_X_avg_2.3000000000000003', 'features.aprdf_X_avg_2.4000000000000004', 'features.aprdf_X_avg_2.5000000000000004', 'features.aprdf_X_avg_2.6000000000000005', 'features.aprdf_X_avg_2.7000000000000006', 'features.aprdf_X_avg_2.8000000000000007', 'features.aprdf_X_avg_2.900000000000001', 'features.aprdf_X_avg_3.000000000000001', 'features.aprdf_X_avg_3.100000000000001', 'features.aprdf_X_avg_3.200000000000001', 'features.aprdf_X_avg_3.300000000000001', 'features.aprdf_X_avg_3.4000000000000012', 'features.aprdf_X_avg_3.5000000000000013', 'features.aprdf_X_avg_3.6000000000000014', 'features.aprdf_X_avg_3.7000000000000015', 'features.aprdf_X_avg_3.8000000000000016', 'features.aprdf_X_avg_3.9000000000000017', 'features.aprdf_X_avg_4.000000000000002', 'features.aprdf_X_avg_4.100000000000001', 'features.aprdf_X_avg_4.200000000000002', 'features.aprdf_X_avg_4.3000000000000025', 'features.aprdf_X_avg_4.400000000000002', 'features.aprdf_X_avg_4.500000000000002', 'features.aprdf_X_avg_4.600000000000002', 'features.aprdf_X_avg_4.700000000000003', 'features.aprdf_X_avg_4.8000000000000025', 'features.aprdf_X_avg_4.900000000000002', 'features.aprdf_X_avg_5.000000000000003', 'features.aprdf_X_avg_5.100000000000003', 'features.aprdf_X_avg_5.200000000000003', 'features.aprdf_X_avg_5.3000000000000025', 'features.aprdf_X_avg_5.400000000000003', 'features.aprdf_X_avg_5.5000000000000036', 'features.aprdf_X_avg_5.600000000000003', 'features.aprdf_X_avg_5.700000000000003', 'features.aprdf_X_avg_5.800000000000003', 'features.aprdf_X_avg_5.900000000000004', 'features.aprdf_X_avg_6.0000000000000036', 'features.aprdf_X_avg_6.100000000000003', 'features.aprdf_X_avg_6.200000000000004', 'features.aprdf_X_avg_6.300000000000004', 'features.aprdf_X_avg_6.400000000000004', 'features.aprdf_X_avg_6.5000000000000036', 'features.aprdf_X_avg_6.600000000000004', 'features.aprdf_X_avg_6.700000000000005', 'features.aprdf_X_avg_6.800000000000004', 'features.aprdf_X_avg_6.900000000000004', 'features.aprdf_X_avg_7.000000000000004', 'features.aprdf_X_avg_7.100000000000005', 'features.aprdf_X_avg_7.200000000000005', 'features.aprdf_X_avg_7.300000000000004', 'features.aprdf_X_avg_7.400000000000005', 'features.aprdf_X_avg_7.500000000000005', 'features.aprdf_X_avg_7.600000000000005', 'features.aprdf_X_avg_7.700000000000005', 'features.aprdf_X_avg_7.800000000000005', 'features.aprdf_X_avg_7.900000000000006', 'features.aprdf_X_avg_8.000000000000005', 'features.aprdf_X_avg_8.100000000000005', 'features.aprdf_X_avg_8.200000000000006', 'features.aprdf_X_avg_8.300000000000006', 'features.aprdf_X_avg_8.400000000000006', 'features.aprdf_X_avg_8.500000000000005', 'features.aprdf_X_avg_8.600000000000005', 'features.aprdf_X_avg_8.700000000000006', 'features.aprdf_X_avg_8.800000000000006', 'features.aprdf_X_avg_8.900000000000006', 'features.aprdf_X_avg_9.000000000000007', 'features.aprdf_X_avg_9.100000000000007', 'features.aprdf_X_avg_9.200000000000006', 'features.aprdf_X_avg_9.300000000000006', 'features.aprdf_X_avg_9.400000000000006', 'features.aprdf_X_avg_9.500000000000007', 'features.aprdf_X_avg_9.600000000000007', 'features.aprdf_X_avg_9.700000000000006', 'features.aprdf_X_avg_9.800000000000008', 'features.aprdf_X_avg_9.900000000000007', 'features.aprdf_X_avg_10.000000000000007', 'features.aprdf_X_avg_10.100000000000007', 'features.aprdf_X_avg_10.200000000000006', 'features.aprdf_X_avg_10.300000000000008', 'features.aprdf_X_avg_10.400000000000007', 'features.aprdf_X_avg_10.500000000000007', 'features.aprdf_X_avg_10.600000000000009', 'features.aprdf_X_avg_10.700000000000008', 'features.aprdf_X_avg_10.800000000000008', 'features.aprdf_X_avg_10.900000000000007', 'features.aprdf_X_avg_11.000000000000007', 'features.aprdf_X_avg_11.100000000000009', 'features.aprdf_X_avg_11.200000000000008', 'features.aprdf_X_avg_11.300000000000008', 'features.aprdf_X_avg_11.40000000000001', 'features.aprdf_X_avg_11.500000000000009', 'features.aprdf_X_avg_11.600000000000009', 'features.aprdf_X_avg_11.700000000000008', 'features.aprdf_X_avg_11.800000000000008', 'features.aprdf_X_avg_11.90000000000001', 'features.aprdf_X_avg_12.000000000000009', 'features.aprdf_X_avg_12.100000000000009', 'features.aprdf_X_avg_12.20000000000001', 'features.aprdf_X_avg_12.30000000000001', 'features.aprdf_X_avg_12.40000000000001', 'features.aprdf_X_avg_12.500000000000009', 'features.aprdf_X_avg_12.600000000000009', 'features.aprdf_X_avg_12.70000000000001', 'features.aprdf_X_avg_12.80000000000001', 'features.aprdf_X_avg_12.90000000000001', 'features.aprdf_X_avg_13.00000000000001', 'features.aprdf_X_avg_13.10000000000001', 'features.aprdf_X_avg_13.20000000000001', 'features.aprdf_X_avg_13.30000000000001', 'features.aprdf_X_avg_13.40000000000001', 'features.aprdf_X_avg_13.50000000000001', 'features.aprdf_X_avg_13.60000000000001', 'features.aprdf_X_avg_13.70000000000001', 'features.aprdf_X_avg_13.800000000000011', 'features.aprdf_X_avg_13.900000000000011', 'features.aprdf_X_avg_14.00000000000001', 'features.aprdf_X_avg_14.10000000000001', 'features.aprdf_X_avg_14.20000000000001', 'features.aprdf_X_avg_14.300000000000011', 'features.aprdf_X_avg_14.400000000000011', 'features.aprdf_X_avg_14.50000000000001', 'features.aprdf_X_avg_14.600000000000012', 'features.aprdf_X_avg_14.700000000000012', 'features.aprdf_X_avg_14.800000000000011', 'features.aprdf_X_avg_14.900000000000011', 'features.aprdf_X_avg_15.00000000000001', 'features.aprdf_X_avg_15.100000000000012', 'features.aprdf_X_avg_15.200000000000012', 'features.aprdf_X_avg_15.300000000000011', 'features.aprdf_X_avg_15.400000000000013', 'features.aprdf_X_avg_15.500000000000012', 'features.aprdf_X_avg_15.600000000000012', 'features.aprdf_X_avg_15.700000000000012', 'features.aprdf_X_avg_15.800000000000011', 'features.aprdf_X_avg_15.900000000000013', 'features.aprdf_X_avg_16.000000000000014', 'features.aprdf_X_avg_16.100000000000012', 'features.aprdf_X_avg_16.200000000000014', 'features.aprdf_X_avg_16.30000000000001', 'features.aprdf_X_avg_16.400000000000013', 'features.aprdf_X_avg_16.500000000000014', 'features.aprdf_X_avg_16.600000000000012', 'features.aprdf_X_avg_16.700000000000014', 'features.aprdf_X_avg_16.80000000000001', 'features.aprdf_X_avg_16.900000000000013', 'features.aprdf_X_avg_17.000000000000014', 'features.aprdf_X_avg_17.100000000000016', 'features.aprdf_X_avg_17.200000000000014', 'features.aprdf_X_avg_17.30000000000001', 'features.aprdf_X_avg_17.400000000000013', 'features.aprdf_X_avg_17.500000000000014', 'features.aprdf_X_avg_17.600000000000016', 'features.aprdf_X_avg_17.700000000000014', 'features.aprdf_X_avg_17.800000000000015', 'features.aprdf_X_avg_17.900000000000013', 'features.aprdf_X_avg_18.000000000000014', 'features.aprdf_X_avg_18.100000000000016', 'features.aprdf_X_avg_18.200000000000014', 'features.aprdf_X_avg_18.300000000000015', 'features.aprdf_X_avg_18.400000000000013', 'features.aprdf_X_avg_18.500000000000014', 'features.aprdf_X_avg_18.600000000000016', 'features.aprdf_X_avg_18.700000000000014', 'features.aprdf_X_avg_18.800000000000015', 'features.aprdf_X_avg_18.900000000000016', 'features.aprdf_X_avg_19.000000000000014', 'features.aprdf_X_avg_19.100000000000016', 'features.aprdf_X_avg_19.200000000000017', 'features.aprdf_X_avg_19.300000000000015', 'features.aprdf_X_avg_19.400000000000016', 'features.aprdf_X_avg_19.500000000000014', 'features.aprdf_X_avg_19.600000000000016', 'features.aprdf_X_avg_19.700000000000017', 'features.aprdf_X_avg_19.800000000000015', 'features.aprdf_X_avg_19.900000000000016', 'features.aprdf_X_product_2.0', 'features.aprdf_X_product_2.1', 'features.aprdf_X_product_2.2', 'features.aprdf_X_product_2.3000000000000003', 'features.aprdf_X_product_2.4000000000000004', 'features.aprdf_X_product_2.5000000000000004', 'features.aprdf_X_product_2.6000000000000005', 'features.aprdf_X_product_2.7000000000000006', 'features.aprdf_X_product_2.8000000000000007', 'features.aprdf_X_product_2.900000000000001', 'features.aprdf_X_product_3.000000000000001', 'features.aprdf_X_product_3.100000000000001', 'features.aprdf_X_product_3.200000000000001', 'features.aprdf_X_product_3.300000000000001', 'features.aprdf_X_product_3.4000000000000012', 'features.aprdf_X_product_3.5000000000000013', 'features.aprdf_X_product_3.6000000000000014', 'features.aprdf_X_product_3.7000000000000015', 'features.aprdf_X_product_3.8000000000000016', 'features.aprdf_X_product_3.9000000000000017', 'features.aprdf_X_product_4.000000000000002', 'features.aprdf_X_product_4.100000000000001', 'features.aprdf_X_product_4.200000000000002', 'features.aprdf_X_product_4.3000000000000025', 'features.aprdf_X_product_4.400000000000002', 'features.aprdf_X_product_4.500000000000002', 'features.aprdf_X_product_4.600000000000002', 'features.aprdf_X_product_4.700000000000003', 'features.aprdf_X_product_4.8000000000000025', 'features.aprdf_X_product_4.900000000000002', 'features.aprdf_X_product_5.000000000000003', 'features.aprdf_X_product_5.100000000000003', 'features.aprdf_X_product_5.200000000000003', 'features.aprdf_X_product_5.3000000000000025', 'features.aprdf_X_product_5.400000000000003', 'features.aprdf_X_product_5.5000000000000036', 'features.aprdf_X_product_5.600000000000003', 'features.aprdf_X_product_5.700000000000003', 'features.aprdf_X_product_5.800000000000003', 'features.aprdf_X_product_5.900000000000004', 'features.aprdf_X_product_6.0000000000000036', 'features.aprdf_X_product_6.100000000000003', 'features.aprdf_X_product_6.200000000000004', 'features.aprdf_X_product_6.300000000000004', 'features.aprdf_X_product_6.400000000000004', 'features.aprdf_X_product_6.5000000000000036', 'features.aprdf_X_product_6.600000000000004', 'features.aprdf_X_product_6.700000000000005', 'features.aprdf_X_product_6.800000000000004', 'features.aprdf_X_product_6.900000000000004', 'features.aprdf_X_product_7.000000000000004', 'features.aprdf_X_product_7.100000000000005', 'features.aprdf_X_product_7.200000000000005', 'features.aprdf_X_product_7.300000000000004', 'features.aprdf_X_product_7.400000000000005', 'features.aprdf_X_product_7.500000000000005', 'features.aprdf_X_product_7.600000000000005', 'features.aprdf_X_product_7.700000000000005', 'features.aprdf_X_product_7.800000000000005', 'features.aprdf_X_product_7.900000000000006', 'features.aprdf_X_product_8.000000000000005', 'features.aprdf_X_product_8.100000000000005', 'features.aprdf_X_product_8.200000000000006', 'features.aprdf_X_product_8.300000000000006', 'features.aprdf_X_product_8.400000000000006', 'features.aprdf_X_product_8.500000000000005', 'features.aprdf_X_product_8.600000000000005', 'features.aprdf_X_product_8.700000000000006', 'features.aprdf_X_product_8.800000000000006', 'features.aprdf_X_product_8.900000000000006', 'features.aprdf_X_product_9.000000000000007', 'features.aprdf_X_product_9.100000000000007', 'features.aprdf_X_product_9.200000000000006', 'features.aprdf_X_product_9.300000000000006', 'features.aprdf_X_product_9.400000000000006', 'features.aprdf_X_product_9.500000000000007', 'features.aprdf_X_product_9.600000000000007', 'features.aprdf_X_product_9.700000000000006', 'features.aprdf_X_product_9.800000000000008', 'features.aprdf_X_product_9.900000000000007', 'features.aprdf_X_product_10.000000000000007', 'features.aprdf_X_product_10.100000000000007', 'features.aprdf_X_product_10.200000000000006', 'features.aprdf_X_product_10.300000000000008', 'features.aprdf_X_product_10.400000000000007', 'features.aprdf_X_product_10.500000000000007', 'features.aprdf_X_product_10.600000000000009', 'features.aprdf_X_product_10.700000000000008', 'features.aprdf_X_product_10.800000000000008', 'features.aprdf_X_product_10.900000000000007', 'features.aprdf_X_product_11.000000000000007', 'features.aprdf_X_product_11.100000000000009', 'features.aprdf_X_product_11.200000000000008', 'features.aprdf_X_product_11.300000000000008', 'features.aprdf_X_product_11.40000000000001', 'features.aprdf_X_product_11.500000000000009', 'features.aprdf_X_product_11.600000000000009', 'features.aprdf_X_product_11.700000000000008', 'features.aprdf_X_product_11.800000000000008', 'features.aprdf_X_product_11.90000000000001', 'features.aprdf_X_product_12.000000000000009', 'features.aprdf_X_product_12.100000000000009', 'features.aprdf_X_product_12.20000000000001', 'features.aprdf_X_product_12.30000000000001', 'features.aprdf_X_product_12.40000000000001', 'features.aprdf_X_product_12.500000000000009', 'features.aprdf_X_product_12.600000000000009', 'features.aprdf_X_product_12.70000000000001', 'features.aprdf_X_product_12.80000000000001', 'features.aprdf_X_product_12.90000000000001', 'features.aprdf_X_product_13.00000000000001', 'features.aprdf_X_product_13.10000000000001', 'features.aprdf_X_product_13.20000000000001', 'features.aprdf_X_product_13.30000000000001', 'features.aprdf_X_product_13.40000000000001', 'features.aprdf_X_product_13.50000000000001', 'features.aprdf_X_product_13.60000000000001', 'features.aprdf_X_product_13.70000000000001', 'features.aprdf_X_product_13.800000000000011', 'features.aprdf_X_product_13.900000000000011', 'features.aprdf_X_product_14.00000000000001', 'features.aprdf_X_product_14.10000000000001', 'features.aprdf_X_product_14.20000000000001', 'features.aprdf_X_product_14.300000000000011', 'features.aprdf_X_product_14.400000000000011', 'features.aprdf_X_product_14.50000000000001', 'features.aprdf_X_product_14.600000000000012', 'features.aprdf_X_product_14.700000000000012', 'features.aprdf_X_product_14.800000000000011', 'features.aprdf_X_product_14.900000000000011', 'features.aprdf_X_product_15.00000000000001', 'features.aprdf_X_product_15.100000000000012', 'features.aprdf_X_product_15.200000000000012', 'features.aprdf_X_product_15.300000000000011', 'features.aprdf_X_product_15.400000000000013', 'features.aprdf_X_product_15.500000000000012', 'features.aprdf_X_product_15.600000000000012', 'features.aprdf_X_product_15.700000000000012', 'features.aprdf_X_product_15.800000000000011', 'features.aprdf_X_product_15.900000000000013', 'features.aprdf_X_product_16.000000000000014', 'features.aprdf_X_product_16.100000000000012', 'features.aprdf_X_product_16.200000000000014', 'features.aprdf_X_product_16.30000000000001', 'features.aprdf_X_product_16.400000000000013', 'features.aprdf_X_product_16.500000000000014', 'features.aprdf_X_product_16.600000000000012', 'features.aprdf_X_product_16.700000000000014', 'features.aprdf_X_product_16.80000000000001', 'features.aprdf_X_product_16.900000000000013', 'features.aprdf_X_product_17.000000000000014', 'features.aprdf_X_product_17.100000000000016', 'features.aprdf_X_product_17.200000000000014', 'features.aprdf_X_product_17.30000000000001', 'features.aprdf_X_product_17.400000000000013', 'features.aprdf_X_product_17.500000000000014', 'features.aprdf_X_product_17.600000000000016', 'features.aprdf_X_product_17.700000000000014', 'features.aprdf_X_product_17.800000000000015', 'features.aprdf_X_product_17.900000000000013', 'features.aprdf_X_product_18.000000000000014', 'features.aprdf_X_product_18.100000000000016', 'features.aprdf_X_product_18.200000000000014', 'features.aprdf_X_product_18.300000000000015', 'features.aprdf_X_product_18.400000000000013', 'features.aprdf_X_product_18.500000000000014', 'features.aprdf_X_product_18.600000000000016', 'features.aprdf_X_product_18.700000000000014', 'features.aprdf_X_product_18.800000000000015', 'features.aprdf_X_product_18.900000000000016', 'features.aprdf_X_product_19.000000000000014', 'features.aprdf_X_product_19.100000000000016', 'features.aprdf_X_product_19.200000000000017', 'features.aprdf_X_product_19.300000000000015', 'features.aprdf_X_product_19.400000000000016', 'features.aprdf_X_product_19.500000000000014', 'features.aprdf_X_product_19.600000000000016', 'features.aprdf_X_product_19.700000000000017', 'features.aprdf_X_product_19.800000000000015', 'features.aprdf_X_product_19.900000000000016', 'features.aprdf_X_diff_2.0', 'features.aprdf_X_diff_2.1', 'features.aprdf_X_diff_2.2', 'features.aprdf_X_diff_2.3000000000000003', 'features.aprdf_X_diff_2.4000000000000004', 'features.aprdf_X_diff_2.5000000000000004', 'features.aprdf_X_diff_2.6000000000000005', 'features.aprdf_X_diff_2.7000000000000006', 'features.aprdf_X_diff_2.8000000000000007', 'features.aprdf_X_diff_2.900000000000001', 'features.aprdf_X_diff_3.000000000000001', 'features.aprdf_X_diff_3.100000000000001', 'features.aprdf_X_diff_3.200000000000001', 'features.aprdf_X_diff_3.300000000000001', 'features.aprdf_X_diff_3.4000000000000012', 'features.aprdf_X_diff_3.5000000000000013', 'features.aprdf_X_diff_3.6000000000000014', 'features.aprdf_X_diff_3.7000000000000015', 'features.aprdf_X_diff_3.8000000000000016', 'features.aprdf_X_diff_3.9000000000000017', 'features.aprdf_X_diff_4.000000000000002', 'features.aprdf_X_diff_4.100000000000001', 'features.aprdf_X_diff_4.200000000000002', 'features.aprdf_X_diff_4.3000000000000025', 'features.aprdf_X_diff_4.400000000000002', 'features.aprdf_X_diff_4.500000000000002', 'features.aprdf_X_diff_4.600000000000002', 'features.aprdf_X_diff_4.700000000000003', 'features.aprdf_X_diff_4.8000000000000025', 'features.aprdf_X_diff_4.900000000000002', 'features.aprdf_X_diff_5.000000000000003', 'features.aprdf_X_diff_5.100000000000003', 'features.aprdf_X_diff_5.200000000000003', 'features.aprdf_X_diff_5.3000000000000025', 'features.aprdf_X_diff_5.400000000000003', 'features.aprdf_X_diff_5.5000000000000036', 'features.aprdf_X_diff_5.600000000000003', 'features.aprdf_X_diff_5.700000000000003', 'features.aprdf_X_diff_5.800000000000003', 'features.aprdf_X_diff_5.900000000000004', 'features.aprdf_X_diff_6.0000000000000036', 'features.aprdf_X_diff_6.100000000000003', 'features.aprdf_X_diff_6.200000000000004', 'features.aprdf_X_diff_6.300000000000004', 'features.aprdf_X_diff_6.400000000000004', 'features.aprdf_X_diff_6.5000000000000036', 'features.aprdf_X_diff_6.600000000000004', 'features.aprdf_X_diff_6.700000000000005', 'features.aprdf_X_diff_6.800000000000004', 'features.aprdf_X_diff_6.900000000000004', 'features.aprdf_X_diff_7.000000000000004', 'features.aprdf_X_diff_7.100000000000005', 'features.aprdf_X_diff_7.200000000000005', 'features.aprdf_X_diff_7.300000000000004', 'features.aprdf_X_diff_7.400000000000005', 'features.aprdf_X_diff_7.500000000000005', 'features.aprdf_X_diff_7.600000000000005', 'features.aprdf_X_diff_7.700000000000005', 'features.aprdf_X_diff_7.800000000000005', 'features.aprdf_X_diff_7.900000000000006', 'features.aprdf_X_diff_8.000000000000005', 'features.aprdf_X_diff_8.100000000000005', 'features.aprdf_X_diff_8.200000000000006', 'features.aprdf_X_diff_8.300000000000006', 'features.aprdf_X_diff_8.400000000000006', 'features.aprdf_X_diff_8.500000000000005', 'features.aprdf_X_diff_8.600000000000005', 'features.aprdf_X_diff_8.700000000000006', 'features.aprdf_X_diff_8.800000000000006', 'features.aprdf_X_diff_8.900000000000006', 'features.aprdf_X_diff_9.000000000000007', 'features.aprdf_X_diff_9.100000000000007', 'features.aprdf_X_diff_9.200000000000006', 'features.aprdf_X_diff_9.300000000000006', 'features.aprdf_X_diff_9.400000000000006', 'features.aprdf_X_diff_9.500000000000007', 'features.aprdf_X_diff_9.600000000000007', 'features.aprdf_X_diff_9.700000000000006', 'features.aprdf_X_diff_9.800000000000008', 'features.aprdf_X_diff_9.900000000000007', 'features.aprdf_X_diff_10.000000000000007', 'features.aprdf_X_diff_10.100000000000007', 'features.aprdf_X_diff_10.200000000000006', 'features.aprdf_X_diff_10.300000000000008', 'features.aprdf_X_diff_10.400000000000007', 'features.aprdf_X_diff_10.500000000000007', 'features.aprdf_X_diff_10.600000000000009', 'features.aprdf_X_diff_10.700000000000008', 'features.aprdf_X_diff_10.800000000000008', 'features.aprdf_X_diff_10.900000000000007', 'features.aprdf_X_diff_11.000000000000007', 'features.aprdf_X_diff_11.100000000000009', 'features.aprdf_X_diff_11.200000000000008', 'features.aprdf_X_diff_11.300000000000008', 'features.aprdf_X_diff_11.40000000000001', 'features.aprdf_X_diff_11.500000000000009', 'features.aprdf_X_diff_11.600000000000009', 'features.aprdf_X_diff_11.700000000000008', 'features.aprdf_X_diff_11.800000000000008', 'features.aprdf_X_diff_11.90000000000001', 'features.aprdf_X_diff_12.000000000000009', 'features.aprdf_X_diff_12.100000000000009', 'features.aprdf_X_diff_12.20000000000001', 'features.aprdf_X_diff_12.30000000000001', 'features.aprdf_X_diff_12.40000000000001', 'features.aprdf_X_diff_12.500000000000009', 'features.aprdf_X_diff_12.600000000000009', 'features.aprdf_X_diff_12.70000000000001', 'features.aprdf_X_diff_12.80000000000001', 'features.aprdf_X_diff_12.90000000000001', 'features.aprdf_X_diff_13.00000000000001', 'features.aprdf_X_diff_13.10000000000001', 'features.aprdf_X_diff_13.20000000000001', 'features.aprdf_X_diff_13.30000000000001', 'features.aprdf_X_diff_13.40000000000001', 'features.aprdf_X_diff_13.50000000000001', 'features.aprdf_X_diff_13.60000000000001', 'features.aprdf_X_diff_13.70000000000001', 'features.aprdf_X_diff_13.800000000000011', 'features.aprdf_X_diff_13.900000000000011', 'features.aprdf_X_diff_14.00000000000001', 'features.aprdf_X_diff_14.10000000000001', 'features.aprdf_X_diff_14.20000000000001', 'features.aprdf_X_diff_14.300000000000011', 'features.aprdf_X_diff_14.400000000000011', 'features.aprdf_X_diff_14.50000000000001', 'features.aprdf_X_diff_14.600000000000012', 'features.aprdf_X_diff_14.700000000000012', 'features.aprdf_X_diff_14.800000000000011', 'features.aprdf_X_diff_14.900000000000011', 'features.aprdf_X_diff_15.00000000000001', 'features.aprdf_X_diff_15.100000000000012', 'features.aprdf_X_diff_15.200000000000012', 'features.aprdf_X_diff_15.300000000000011', 'features.aprdf_X_diff_15.400000000000013', 'features.aprdf_X_diff_15.500000000000012', 'features.aprdf_X_diff_15.600000000000012', 'features.aprdf_X_diff_15.700000000000012', 'features.aprdf_X_diff_15.800000000000011', 'features.aprdf_X_diff_15.900000000000013', 'features.aprdf_X_diff_16.000000000000014', 'features.aprdf_X_diff_16.100000000000012', 'features.aprdf_X_diff_16.200000000000014', 'features.aprdf_X_diff_16.30000000000001', 'features.aprdf_X_diff_16.400000000000013', 'features.aprdf_X_diff_16.500000000000014', 'features.aprdf_X_diff_16.600000000000012', 'features.aprdf_X_diff_16.700000000000014', 'features.aprdf_X_diff_16.80000000000001', 'features.aprdf_X_diff_16.900000000000013', 'features.aprdf_X_diff_17.000000000000014', 'features.aprdf_X_diff_17.100000000000016', 'features.aprdf_X_diff_17.200000000000014', 'features.aprdf_X_diff_17.30000000000001', 'features.aprdf_X_diff_17.400000000000013', 'features.aprdf_X_diff_17.500000000000014', 'features.aprdf_X_diff_17.600000000000016', 'features.aprdf_X_diff_17.700000000000014', 'features.aprdf_X_diff_17.800000000000015', 'features.aprdf_X_diff_17.900000000000013', 'features.aprdf_X_diff_18.000000000000014', 'features.aprdf_X_diff_18.100000000000016', 'features.aprdf_X_diff_18.200000000000014', 'features.aprdf_X_diff_18.300000000000015', 'features.aprdf_X_diff_18.400000000000013', 'features.aprdf_X_diff_18.500000000000014', 'features.aprdf_X_diff_18.600000000000016', 'features.aprdf_X_diff_18.700000000000014', 'features.aprdf_X_diff_18.800000000000015', 'features.aprdf_X_diff_18.900000000000016', 'features.aprdf_X_diff_19.000000000000014', 'features.aprdf_X_diff_19.100000000000016', 'features.aprdf_X_diff_19.200000000000017', 'features.aprdf_X_diff_19.300000000000015', 'features.aprdf_X_diff_19.400000000000016', 'features.aprdf_X_diff_19.500000000000014', 'features.aprdf_X_diff_19.600000000000016', 'features.aprdf_X_diff_19.700000000000017', 'features.aprdf_X_diff_19.800000000000015', 'features.aprdf_X_diff_19.900000000000016', 'features.aprdf_electron_affinity_avg_2.0', 'features.aprdf_electron_affinity_avg_2.1', 'features.aprdf_electron_affinity_avg_2.2', 'features.aprdf_electron_affinity_avg_2.3000000000000003', 'features.aprdf_electron_affinity_avg_2.4000000000000004', 'features.aprdf_electron_affinity_avg_2.5000000000000004', 'features.aprdf_electron_affinity_avg_2.6000000000000005', 'features.aprdf_electron_affinity_avg_2.7000000000000006', 'features.aprdf_electron_affinity_avg_2.8000000000000007', 'features.aprdf_electron_affinity_avg_2.900000000000001', 'features.aprdf_electron_affinity_avg_3.000000000000001', 'features.aprdf_electron_affinity_avg_3.100000000000001', 'features.aprdf_electron_affinity_avg_3.200000000000001', 'features.aprdf_electron_affinity_avg_3.300000000000001', 'features.aprdf_electron_affinity_avg_3.4000000000000012', 'features.aprdf_electron_affinity_avg_3.5000000000000013', 'features.aprdf_electron_affinity_avg_3.6000000000000014', 'features.aprdf_electron_affinity_avg_3.7000000000000015', 'features.aprdf_electron_affinity_avg_3.8000000000000016', 'features.aprdf_electron_affinity_avg_3.9000000000000017', 'features.aprdf_electron_affinity_avg_4.000000000000002', 'features.aprdf_electron_affinity_avg_4.100000000000001', 'features.aprdf_electron_affinity_avg_4.200000000000002', 'features.aprdf_electron_affinity_avg_4.3000000000000025', 'features.aprdf_electron_affinity_avg_4.400000000000002', 'features.aprdf_electron_affinity_avg_4.500000000000002', 'features.aprdf_electron_affinity_avg_4.600000000000002', 'features.aprdf_electron_affinity_avg_4.700000000000003', 'features.aprdf_electron_affinity_avg_4.8000000000000025', 'features.aprdf_electron_affinity_avg_4.900000000000002', 'features.aprdf_electron_affinity_avg_5.000000000000003', 'features.aprdf_electron_affinity_avg_5.100000000000003', 'features.aprdf_electron_affinity_avg_5.200000000000003', 'features.aprdf_electron_affinity_avg_5.3000000000000025', 'features.aprdf_electron_affinity_avg_5.400000000000003', 'features.aprdf_electron_affinity_avg_5.5000000000000036', 'features.aprdf_electron_affinity_avg_5.600000000000003', 'features.aprdf_electron_affinity_avg_5.700000000000003', 'features.aprdf_electron_affinity_avg_5.800000000000003', 'features.aprdf_electron_affinity_avg_5.900000000000004', 'features.aprdf_electron_affinity_avg_6.0000000000000036', 'features.aprdf_electron_affinity_avg_6.100000000000003', 'features.aprdf_electron_affinity_avg_6.200000000000004', 'features.aprdf_electron_affinity_avg_6.300000000000004', 'features.aprdf_electron_affinity_avg_6.400000000000004', 'features.aprdf_electron_affinity_avg_6.5000000000000036', 'features.aprdf_electron_affinity_avg_6.600000000000004', 'features.aprdf_electron_affinity_avg_6.700000000000005', 'features.aprdf_electron_affinity_avg_6.800000000000004', 'features.aprdf_electron_affinity_avg_6.900000000000004', 'features.aprdf_electron_affinity_avg_7.000000000000004', 'features.aprdf_electron_affinity_avg_7.100000000000005', 'features.aprdf_electron_affinity_avg_7.200000000000005', 'features.aprdf_electron_affinity_avg_7.300000000000004', 'features.aprdf_electron_affinity_avg_7.400000000000005', 'features.aprdf_electron_affinity_avg_7.500000000000005', 'features.aprdf_electron_affinity_avg_7.600000000000005', 'features.aprdf_electron_affinity_avg_7.700000000000005', 'features.aprdf_electron_affinity_avg_7.800000000000005', 'features.aprdf_electron_affinity_avg_7.900000000000006', 'features.aprdf_electron_affinity_avg_8.000000000000005', 'features.aprdf_electron_affinity_avg_8.100000000000005', 'features.aprdf_electron_affinity_avg_8.200000000000006', 'features.aprdf_electron_affinity_avg_8.300000000000006', 'features.aprdf_electron_affinity_avg_8.400000000000006', 'features.aprdf_electron_affinity_avg_8.500000000000005', 'features.aprdf_electron_affinity_avg_8.600000000000005', 'features.aprdf_electron_affinity_avg_8.700000000000006', 'features.aprdf_electron_affinity_avg_8.800000000000006', 'features.aprdf_electron_affinity_avg_8.900000000000006', 'features.aprdf_electron_affinity_avg_9.000000000000007', 'features.aprdf_electron_affinity_avg_9.100000000000007', 'features.aprdf_electron_affinity_avg_9.200000000000006', 'features.aprdf_electron_affinity_avg_9.300000000000006', 'features.aprdf_electron_affinity_avg_9.400000000000006', 'features.aprdf_electron_affinity_avg_9.500000000000007', 'features.aprdf_electron_affinity_avg_9.600000000000007', 'features.aprdf_electron_affinity_avg_9.700000000000006', 'features.aprdf_electron_affinity_avg_9.800000000000008', 'features.aprdf_electron_affinity_avg_9.900000000000007', 'features.aprdf_electron_affinity_avg_10.000000000000007', 'features.aprdf_electron_affinity_avg_10.100000000000007', 'features.aprdf_electron_affinity_avg_10.200000000000006', 'features.aprdf_electron_affinity_avg_10.300000000000008', 'features.aprdf_electron_affinity_avg_10.400000000000007', 'features.aprdf_electron_affinity_avg_10.500000000000007', 'features.aprdf_electron_affinity_avg_10.600000000000009', 'features.aprdf_electron_affinity_avg_10.700000000000008', 'features.aprdf_electron_affinity_avg_10.800000000000008', 'features.aprdf_electron_affinity_avg_10.900000000000007', 'features.aprdf_electron_affinity_avg_11.000000000000007', 'features.aprdf_electron_affinity_avg_11.100000000000009', 'features.aprdf_electron_affinity_avg_11.200000000000008', 'features.aprdf_electron_affinity_avg_11.300000000000008', 'features.aprdf_electron_affinity_avg_11.40000000000001', 'features.aprdf_electron_affinity_avg_11.500000000000009', 'features.aprdf_electron_affinity_avg_11.600000000000009', 'features.aprdf_electron_affinity_avg_11.700000000000008', 'features.aprdf_electron_affinity_avg_11.800000000000008', 'features.aprdf_electron_affinity_avg_11.90000000000001', 'features.aprdf_electron_affinity_avg_12.000000000000009', 'features.aprdf_electron_affinity_avg_12.100000000000009', 'features.aprdf_electron_affinity_avg_12.20000000000001', 'features.aprdf_electron_affinity_avg_12.30000000000001', 'features.aprdf_electron_affinity_avg_12.40000000000001', 'features.aprdf_electron_affinity_avg_12.500000000000009', 'features.aprdf_electron_affinity_avg_12.600000000000009', 'features.aprdf_electron_affinity_avg_12.70000000000001', 'features.aprdf_electron_affinity_avg_12.80000000000001', 'features.aprdf_electron_affinity_avg_12.90000000000001', 'features.aprdf_electron_affinity_avg_13.00000000000001', 'features.aprdf_electron_affinity_avg_13.10000000000001', 'features.aprdf_electron_affinity_avg_13.20000000000001', 'features.aprdf_electron_affinity_avg_13.30000000000001', 'features.aprdf_electron_affinity_avg_13.40000000000001', 'features.aprdf_electron_affinity_avg_13.50000000000001', 'features.aprdf_electron_affinity_avg_13.60000000000001', 'features.aprdf_electron_affinity_avg_13.70000000000001', 'features.aprdf_electron_affinity_avg_13.800000000000011', 'features.aprdf_electron_affinity_avg_13.900000000000011', 'features.aprdf_electron_affinity_avg_14.00000000000001', 'features.aprdf_electron_affinity_avg_14.10000000000001', 'features.aprdf_electron_affinity_avg_14.20000000000001', 'features.aprdf_electron_affinity_avg_14.300000000000011', 'features.aprdf_electron_affinity_avg_14.400000000000011', 'features.aprdf_electron_affinity_avg_14.50000000000001', 'features.aprdf_electron_affinity_avg_14.600000000000012', 'features.aprdf_electron_affinity_avg_14.700000000000012', 'features.aprdf_electron_affinity_avg_14.800000000000011', 'features.aprdf_electron_affinity_avg_14.900000000000011', 'features.aprdf_electron_affinity_avg_15.00000000000001', 'features.aprdf_electron_affinity_avg_15.100000000000012', 'features.aprdf_electron_affinity_avg_15.200000000000012', 'features.aprdf_electron_affinity_avg_15.300000000000011', 'features.aprdf_electron_affinity_avg_15.400000000000013', 'features.aprdf_electron_affinity_avg_15.500000000000012', 'features.aprdf_electron_affinity_avg_15.600000000000012', 'features.aprdf_electron_affinity_avg_15.700000000000012', 'features.aprdf_electron_affinity_avg_15.800000000000011', 'features.aprdf_electron_affinity_avg_15.900000000000013', 'features.aprdf_electron_affinity_avg_16.000000000000014', 'features.aprdf_electron_affinity_avg_16.100000000000012', 'features.aprdf_electron_affinity_avg_16.200000000000014', 'features.aprdf_electron_affinity_avg_16.30000000000001', 'features.aprdf_electron_affinity_avg_16.400000000000013', 'features.aprdf_electron_affinity_avg_16.500000000000014', 'features.aprdf_electron_affinity_avg_16.600000000000012', 'features.aprdf_electron_affinity_avg_16.700000000000014', 'features.aprdf_electron_affinity_avg_16.80000000000001', 'features.aprdf_electron_affinity_avg_16.900000000000013', 'features.aprdf_electron_affinity_avg_17.000000000000014', 'features.aprdf_electron_affinity_avg_17.100000000000016', 'features.aprdf_electron_affinity_avg_17.200000000000014', 'features.aprdf_electron_affinity_avg_17.30000000000001', 'features.aprdf_electron_affinity_avg_17.400000000000013', 'features.aprdf_electron_affinity_avg_17.500000000000014', 'features.aprdf_electron_affinity_avg_17.600000000000016', 'features.aprdf_electron_affinity_avg_17.700000000000014', 'features.aprdf_electron_affinity_avg_17.800000000000015', 'features.aprdf_electron_affinity_avg_17.900000000000013', 'features.aprdf_electron_affinity_avg_18.000000000000014', 'features.aprdf_electron_affinity_avg_18.100000000000016', 'features.aprdf_electron_affinity_avg_18.200000000000014', 'features.aprdf_electron_affinity_avg_18.300000000000015', 'features.aprdf_electron_affinity_avg_18.400000000000013', 'features.aprdf_electron_affinity_avg_18.500000000000014', 'features.aprdf_electron_affinity_avg_18.600000000000016', 'features.aprdf_electron_affinity_avg_18.700000000000014', 'features.aprdf_electron_affinity_avg_18.800000000000015', 'features.aprdf_electron_affinity_avg_18.900000000000016', 'features.aprdf_electron_affinity_avg_19.000000000000014', 'features.aprdf_electron_affinity_avg_19.100000000000016', 'features.aprdf_electron_affinity_avg_19.200000000000017', 'features.aprdf_electron_affinity_avg_19.300000000000015', 'features.aprdf_electron_affinity_avg_19.400000000000016', 'features.aprdf_electron_affinity_avg_19.500000000000014', 'features.aprdf_electron_affinity_avg_19.600000000000016', 'features.aprdf_electron_affinity_avg_19.700000000000017', 'features.aprdf_electron_affinity_avg_19.800000000000015', 'features.aprdf_electron_affinity_avg_19.900000000000016', 'features.aprdf_electron_affinity_product_2.0', 'features.aprdf_electron_affinity_product_2.1', 'features.aprdf_electron_affinity_product_2.2', 'features.aprdf_electron_affinity_product_2.3000000000000003', 'features.aprdf_electron_affinity_product_2.4000000000000004', 'features.aprdf_electron_affinity_product_2.5000000000000004', 'features.aprdf_electron_affinity_product_2.6000000000000005', 'features.aprdf_electron_affinity_product_2.7000000000000006', 'features.aprdf_electron_affinity_product_2.8000000000000007', 'features.aprdf_electron_affinity_product_2.900000000000001', 'features.aprdf_electron_affinity_product_3.000000000000001', 'features.aprdf_electron_affinity_product_3.100000000000001', 'features.aprdf_electron_affinity_product_3.200000000000001', 'features.aprdf_electron_affinity_product_3.300000000000001', 'features.aprdf_electron_affinity_product_3.4000000000000012', 'features.aprdf_electron_affinity_product_3.5000000000000013', 'features.aprdf_electron_affinity_product_3.6000000000000014', 'features.aprdf_electron_affinity_product_3.7000000000000015', 'features.aprdf_electron_affinity_product_3.8000000000000016', 'features.aprdf_electron_affinity_product_3.9000000000000017', 'features.aprdf_electron_affinity_product_4.000000000000002', 'features.aprdf_electron_affinity_product_4.100000000000001', 'features.aprdf_electron_affinity_product_4.200000000000002', 'features.aprdf_electron_affinity_product_4.3000000000000025', 'features.aprdf_electron_affinity_product_4.400000000000002', 'features.aprdf_electron_affinity_product_4.500000000000002', 'features.aprdf_electron_affinity_product_4.600000000000002', 'features.aprdf_electron_affinity_product_4.700000000000003', 'features.aprdf_electron_affinity_product_4.8000000000000025', 'features.aprdf_electron_affinity_product_4.900000000000002', 'features.aprdf_electron_affinity_product_5.000000000000003', 'features.aprdf_electron_affinity_product_5.100000000000003', 'features.aprdf_electron_affinity_product_5.200000000000003', 'features.aprdf_electron_affinity_product_5.3000000000000025', 'features.aprdf_electron_affinity_product_5.400000000000003', 'features.aprdf_electron_affinity_product_5.5000000000000036', 'features.aprdf_electron_affinity_product_5.600000000000003', 'features.aprdf_electron_affinity_product_5.700000000000003', 'features.aprdf_electron_affinity_product_5.800000000000003', 'features.aprdf_electron_affinity_product_5.900000000000004', 'features.aprdf_electron_affinity_product_6.0000000000000036', 'features.aprdf_electron_affinity_product_6.100000000000003', 'features.aprdf_electron_affinity_product_6.200000000000004', 'features.aprdf_electron_affinity_product_6.300000000000004', 'features.aprdf_electron_affinity_product_6.400000000000004', 'features.aprdf_electron_affinity_product_6.5000000000000036', 'features.aprdf_electron_affinity_product_6.600000000000004', 'features.aprdf_electron_affinity_product_6.700000000000005', 'features.aprdf_electron_affinity_product_6.800000000000004', 'features.aprdf_electron_affinity_product_6.900000000000004', 'features.aprdf_electron_affinity_product_7.000000000000004', 'features.aprdf_electron_affinity_product_7.100000000000005', 'features.aprdf_electron_affinity_product_7.200000000000005', 'features.aprdf_electron_affinity_product_7.300000000000004', 'features.aprdf_electron_affinity_product_7.400000000000005', 'features.aprdf_electron_affinity_product_7.500000000000005', 'features.aprdf_electron_affinity_product_7.600000000000005', 'features.aprdf_electron_affinity_product_7.700000000000005', 'features.aprdf_electron_affinity_product_7.800000000000005', 'features.aprdf_electron_affinity_product_7.900000000000006', 'features.aprdf_electron_affinity_product_8.000000000000005', 'features.aprdf_electron_affinity_product_8.100000000000005', 'features.aprdf_electron_affinity_product_8.200000000000006', 'features.aprdf_electron_affinity_product_8.300000000000006', 'features.aprdf_electron_affinity_product_8.400000000000006', 'features.aprdf_electron_affinity_product_8.500000000000005', 'features.aprdf_electron_affinity_product_8.600000000000005', 'features.aprdf_electron_affinity_product_8.700000000000006', 'features.aprdf_electron_affinity_product_8.800000000000006', 'features.aprdf_electron_affinity_product_8.900000000000006', 'features.aprdf_electron_affinity_product_9.000000000000007', 'features.aprdf_electron_affinity_product_9.100000000000007', 'features.aprdf_electron_affinity_product_9.200000000000006', 'features.aprdf_electron_affinity_product_9.300000000000006', 'features.aprdf_electron_affinity_product_9.400000000000006', 'features.aprdf_electron_affinity_product_9.500000000000007', 'features.aprdf_electron_affinity_product_9.600000000000007', 'features.aprdf_electron_affinity_product_9.700000000000006', 'features.aprdf_electron_affinity_product_9.800000000000008', 'features.aprdf_electron_affinity_product_9.900000000000007', 'features.aprdf_electron_affinity_product_10.000000000000007', 'features.aprdf_electron_affinity_product_10.100000000000007', 'features.aprdf_electron_affinity_product_10.200000000000006', 'features.aprdf_electron_affinity_product_10.300000000000008', 'features.aprdf_electron_affinity_product_10.400000000000007', 'features.aprdf_electron_affinity_product_10.500000000000007', 'features.aprdf_electron_affinity_product_10.600000000000009', 'features.aprdf_electron_affinity_product_10.700000000000008', 'features.aprdf_electron_affinity_product_10.800000000000008', 'features.aprdf_electron_affinity_product_10.900000000000007', 'features.aprdf_electron_affinity_product_11.000000000000007', 'features.aprdf_electron_affinity_product_11.100000000000009', 'features.aprdf_electron_affinity_product_11.200000000000008', 'features.aprdf_electron_affinity_product_11.300000000000008', 'features.aprdf_electron_affinity_product_11.40000000000001', 'features.aprdf_electron_affinity_product_11.500000000000009', 'features.aprdf_electron_affinity_product_11.600000000000009', 'features.aprdf_electron_affinity_product_11.700000000000008', 'features.aprdf_electron_affinity_product_11.800000000000008', 'features.aprdf_electron_affinity_product_11.90000000000001', 'features.aprdf_electron_affinity_product_12.000000000000009', 'features.aprdf_electron_affinity_product_12.100000000000009', 'features.aprdf_electron_affinity_product_12.20000000000001', 'features.aprdf_electron_affinity_product_12.30000000000001', 'features.aprdf_electron_affinity_product_12.40000000000001', 'features.aprdf_electron_affinity_product_12.500000000000009', 'features.aprdf_electron_affinity_product_12.600000000000009', 'features.aprdf_electron_affinity_product_12.70000000000001', 'features.aprdf_electron_affinity_product_12.80000000000001', 'features.aprdf_electron_affinity_product_12.90000000000001', 'features.aprdf_electron_affinity_product_13.00000000000001', 'features.aprdf_electron_affinity_product_13.10000000000001', 'features.aprdf_electron_affinity_product_13.20000000000001', 'features.aprdf_electron_affinity_product_13.30000000000001', 'features.aprdf_electron_affinity_product_13.40000000000001', 'features.aprdf_electron_affinity_product_13.50000000000001', 'features.aprdf_electron_affinity_product_13.60000000000001', 'features.aprdf_electron_affinity_product_13.70000000000001', 'features.aprdf_electron_affinity_product_13.800000000000011', 'features.aprdf_electron_affinity_product_13.900000000000011', 'features.aprdf_electron_affinity_product_14.00000000000001', 'features.aprdf_electron_affinity_product_14.10000000000001', 'features.aprdf_electron_affinity_product_14.20000000000001', 'features.aprdf_electron_affinity_product_14.300000000000011', 'features.aprdf_electron_affinity_product_14.400000000000011', 'features.aprdf_electron_affinity_product_14.50000000000001', 'features.aprdf_electron_affinity_product_14.600000000000012', 'features.aprdf_electron_affinity_product_14.700000000000012', 'features.aprdf_electron_affinity_product_14.800000000000011', 'features.aprdf_electron_affinity_product_14.900000000000011', 'features.aprdf_electron_affinity_product_15.00000000000001', 'features.aprdf_electron_affinity_product_15.100000000000012', 'features.aprdf_electron_affinity_product_15.200000000000012', 'features.aprdf_electron_affinity_product_15.300000000000011', 'features.aprdf_electron_affinity_product_15.400000000000013', 'features.aprdf_electron_affinity_product_15.500000000000012', 'features.aprdf_electron_affinity_product_15.600000000000012', 'features.aprdf_electron_affinity_product_15.700000000000012', 'features.aprdf_electron_affinity_product_15.800000000000011', 'features.aprdf_electron_affinity_product_15.900000000000013', 'features.aprdf_electron_affinity_product_16.000000000000014', 'features.aprdf_electron_affinity_product_16.100000000000012', 'features.aprdf_electron_affinity_product_16.200000000000014', 'features.aprdf_electron_affinity_product_16.30000000000001', 'features.aprdf_electron_affinity_product_16.400000000000013', 'features.aprdf_electron_affinity_product_16.500000000000014', 'features.aprdf_electron_affinity_product_16.600000000000012', 'features.aprdf_electron_affinity_product_16.700000000000014', 'features.aprdf_electron_affinity_product_16.80000000000001', 'features.aprdf_electron_affinity_product_16.900000000000013', 'features.aprdf_electron_affinity_product_17.000000000000014', 'features.aprdf_electron_affinity_product_17.100000000000016', 'features.aprdf_electron_affinity_product_17.200000000000014', 'features.aprdf_electron_affinity_product_17.30000000000001', 'features.aprdf_electron_affinity_product_17.400000000000013', 'features.aprdf_electron_affinity_product_17.500000000000014', 'features.aprdf_electron_affinity_product_17.600000000000016', 'features.aprdf_electron_affinity_product_17.700000000000014', 'features.aprdf_electron_affinity_product_17.800000000000015', 'features.aprdf_electron_affinity_product_17.900000000000013', 'features.aprdf_electron_affinity_product_18.000000000000014', 'features.aprdf_electron_affinity_product_18.100000000000016', 'features.aprdf_electron_affinity_product_18.200000000000014', 'features.aprdf_electron_affinity_product_18.300000000000015', 'features.aprdf_electron_affinity_product_18.400000000000013', 'features.aprdf_electron_affinity_product_18.500000000000014', 'features.aprdf_electron_affinity_product_18.600000000000016', 'features.aprdf_electron_affinity_product_18.700000000000014', 'features.aprdf_electron_affinity_product_18.800000000000015', 'features.aprdf_electron_affinity_product_18.900000000000016', 'features.aprdf_electron_affinity_product_19.000000000000014', 'features.aprdf_electron_affinity_product_19.100000000000016', 'features.aprdf_electron_affinity_product_19.200000000000017', 'features.aprdf_electron_affinity_product_19.300000000000015', 'features.aprdf_electron_affinity_product_19.400000000000016', 'features.aprdf_electron_affinity_product_19.500000000000014', 'features.aprdf_electron_affinity_product_19.600000000000016', 'features.aprdf_electron_affinity_product_19.700000000000017', 'features.aprdf_electron_affinity_product_19.800000000000015', 'features.aprdf_electron_affinity_product_19.900000000000016', 'features.aprdf_electron_affinity_diff_2.0', 'features.aprdf_electron_affinity_diff_2.1', 'features.aprdf_electron_affinity_diff_2.2', 'features.aprdf_electron_affinity_diff_2.3000000000000003', 'features.aprdf_electron_affinity_diff_2.4000000000000004', 'features.aprdf_electron_affinity_diff_2.5000000000000004', 'features.aprdf_electron_affinity_diff_2.6000000000000005', 'features.aprdf_electron_affinity_diff_2.7000000000000006', 'features.aprdf_electron_affinity_diff_2.8000000000000007', 'features.aprdf_electron_affinity_diff_2.900000000000001', 'features.aprdf_electron_affinity_diff_3.000000000000001', 'features.aprdf_electron_affinity_diff_3.100000000000001', 'features.aprdf_electron_affinity_diff_3.200000000000001', 'features.aprdf_electron_affinity_diff_3.300000000000001', 'features.aprdf_electron_affinity_diff_3.4000000000000012', 'features.aprdf_electron_affinity_diff_3.5000000000000013', 'features.aprdf_electron_affinity_diff_3.6000000000000014', 'features.aprdf_electron_affinity_diff_3.7000000000000015', 'features.aprdf_electron_affinity_diff_3.8000000000000016', 'features.aprdf_electron_affinity_diff_3.9000000000000017', 'features.aprdf_electron_affinity_diff_4.000000000000002', 'features.aprdf_electron_affinity_diff_4.100000000000001', 'features.aprdf_electron_affinity_diff_4.200000000000002', 'features.aprdf_electron_affinity_diff_4.3000000000000025', 'features.aprdf_electron_affinity_diff_4.400000000000002', 'features.aprdf_electron_affinity_diff_4.500000000000002', 'features.aprdf_electron_affinity_diff_4.600000000000002', 'features.aprdf_electron_affinity_diff_4.700000000000003', 'features.aprdf_electron_affinity_diff_4.8000000000000025', 'features.aprdf_electron_affinity_diff_4.900000000000002', 'features.aprdf_electron_affinity_diff_5.000000000000003', 'features.aprdf_electron_affinity_diff_5.100000000000003', 'features.aprdf_electron_affinity_diff_5.200000000000003', 'features.aprdf_electron_affinity_diff_5.3000000000000025', 'features.aprdf_electron_affinity_diff_5.400000000000003', 'features.aprdf_electron_affinity_diff_5.5000000000000036', 'features.aprdf_electron_affinity_diff_5.600000000000003', 'features.aprdf_electron_affinity_diff_5.700000000000003', 'features.aprdf_electron_affinity_diff_5.800000000000003', 'features.aprdf_electron_affinity_diff_5.900000000000004', 'features.aprdf_electron_affinity_diff_6.0000000000000036', 'features.aprdf_electron_affinity_diff_6.100000000000003', 'features.aprdf_electron_affinity_diff_6.200000000000004', 'features.aprdf_electron_affinity_diff_6.300000000000004', 'features.aprdf_electron_affinity_diff_6.400000000000004', 'features.aprdf_electron_affinity_diff_6.5000000000000036', 'features.aprdf_electron_affinity_diff_6.600000000000004', 'features.aprdf_electron_affinity_diff_6.700000000000005', 'features.aprdf_electron_affinity_diff_6.800000000000004', 'features.aprdf_electron_affinity_diff_6.900000000000004', 'features.aprdf_electron_affinity_diff_7.000000000000004', 'features.aprdf_electron_affinity_diff_7.100000000000005', 'features.aprdf_electron_affinity_diff_7.200000000000005', 'features.aprdf_electron_affinity_diff_7.300000000000004', 'features.aprdf_electron_affinity_diff_7.400000000000005', 'features.aprdf_electron_affinity_diff_7.500000000000005', 'features.aprdf_electron_affinity_diff_7.600000000000005', 'features.aprdf_electron_affinity_diff_7.700000000000005', 'features.aprdf_electron_affinity_diff_7.800000000000005', 'features.aprdf_electron_affinity_diff_7.900000000000006', 'features.aprdf_electron_affinity_diff_8.000000000000005', 'features.aprdf_electron_affinity_diff_8.100000000000005', 'features.aprdf_electron_affinity_diff_8.200000000000006', 'features.aprdf_electron_affinity_diff_8.300000000000006', 'features.aprdf_electron_affinity_diff_8.400000000000006', 'features.aprdf_electron_affinity_diff_8.500000000000005', 'features.aprdf_electron_affinity_diff_8.600000000000005', 'features.aprdf_electron_affinity_diff_8.700000000000006', 'features.aprdf_electron_affinity_diff_8.800000000000006', 'features.aprdf_electron_affinity_diff_8.900000000000006', 'features.aprdf_electron_affinity_diff_9.000000000000007', 'features.aprdf_electron_affinity_diff_9.100000000000007', 'features.aprdf_electron_affinity_diff_9.200000000000006', 'features.aprdf_electron_affinity_diff_9.300000000000006', 'features.aprdf_electron_affinity_diff_9.400000000000006', 'features.aprdf_electron_affinity_diff_9.500000000000007', 'features.aprdf_electron_affinity_diff_9.600000000000007', 'features.aprdf_electron_affinity_diff_9.700000000000006', 'features.aprdf_electron_affinity_diff_9.800000000000008', 'features.aprdf_electron_affinity_diff_9.900000000000007', 'features.aprdf_electron_affinity_diff_10.000000000000007', 'features.aprdf_electron_affinity_diff_10.100000000000007', 'features.aprdf_electron_affinity_diff_10.200000000000006', 'features.aprdf_electron_affinity_diff_10.300000000000008', 'features.aprdf_electron_affinity_diff_10.400000000000007', 'features.aprdf_electron_affinity_diff_10.500000000000007', 'features.aprdf_electron_affinity_diff_10.600000000000009', 'features.aprdf_electron_affinity_diff_10.700000000000008', 'features.aprdf_electron_affinity_diff_10.800000000000008', 'features.aprdf_electron_affinity_diff_10.900000000000007', 'features.aprdf_electron_affinity_diff_11.000000000000007', 'features.aprdf_electron_affinity_diff_11.100000000000009', 'features.aprdf_electron_affinity_diff_11.200000000000008', 'features.aprdf_electron_affinity_diff_11.300000000000008', 'features.aprdf_electron_affinity_diff_11.40000000000001', 'features.aprdf_electron_affinity_diff_11.500000000000009', 'features.aprdf_electron_affinity_diff_11.600000000000009', 'features.aprdf_electron_affinity_diff_11.700000000000008', 'features.aprdf_electron_affinity_diff_11.800000000000008', 'features.aprdf_electron_affinity_diff_11.90000000000001', 'features.aprdf_electron_affinity_diff_12.000000000000009', 'features.aprdf_electron_affinity_diff_12.100000000000009', 'features.aprdf_electron_affinity_diff_12.20000000000001', 'features.aprdf_electron_affinity_diff_12.30000000000001', 'features.aprdf_electron_affinity_diff_12.40000000000001', 'features.aprdf_electron_affinity_diff_12.500000000000009', 'features.aprdf_electron_affinity_diff_12.600000000000009', 'features.aprdf_electron_affinity_diff_12.70000000000001', 'features.aprdf_electron_affinity_diff_12.80000000000001', 'features.aprdf_electron_affinity_diff_12.90000000000001', 'features.aprdf_electron_affinity_diff_13.00000000000001', 'features.aprdf_electron_affinity_diff_13.10000000000001', 'features.aprdf_electron_affinity_diff_13.20000000000001', 'features.aprdf_electron_affinity_diff_13.30000000000001', 'features.aprdf_electron_affinity_diff_13.40000000000001', 'features.aprdf_electron_affinity_diff_13.50000000000001', 'features.aprdf_electron_affinity_diff_13.60000000000001', 'features.aprdf_electron_affinity_diff_13.70000000000001', 'features.aprdf_electron_affinity_diff_13.800000000000011', 'features.aprdf_electron_affinity_diff_13.900000000000011', 'features.aprdf_electron_affinity_diff_14.00000000000001', 'features.aprdf_electron_affinity_diff_14.10000000000001', 'features.aprdf_electron_affinity_diff_14.20000000000001', 'features.aprdf_electron_affinity_diff_14.300000000000011', 'features.aprdf_electron_affinity_diff_14.400000000000011', 'features.aprdf_electron_affinity_diff_14.50000000000001', 'features.aprdf_electron_affinity_diff_14.600000000000012', 'features.aprdf_electron_affinity_diff_14.700000000000012', 'features.aprdf_electron_affinity_diff_14.800000000000011', 'features.aprdf_electron_affinity_diff_14.900000000000011', 'features.aprdf_electron_affinity_diff_15.00000000000001', 'features.aprdf_electron_affinity_diff_15.100000000000012', 'features.aprdf_electron_affinity_diff_15.200000000000012', 'features.aprdf_electron_affinity_diff_15.300000000000011', 'features.aprdf_electron_affinity_diff_15.400000000000013', 'features.aprdf_electron_affinity_diff_15.500000000000012', 'features.aprdf_electron_affinity_diff_15.600000000000012', 'features.aprdf_electron_affinity_diff_15.700000000000012', 'features.aprdf_electron_affinity_diff_15.800000000000011', 'features.aprdf_electron_affinity_diff_15.900000000000013', 'features.aprdf_electron_affinity_diff_16.000000000000014', 'features.aprdf_electron_affinity_diff_16.100000000000012', 'features.aprdf_electron_affinity_diff_16.200000000000014', 'features.aprdf_electron_affinity_diff_16.30000000000001', 'features.aprdf_electron_affinity_diff_16.400000000000013', 'features.aprdf_electron_affinity_diff_16.500000000000014', 'features.aprdf_electron_affinity_diff_16.600000000000012', 'features.aprdf_electron_affinity_diff_16.700000000000014', 'features.aprdf_electron_affinity_diff_16.80000000000001', 'features.aprdf_electron_affinity_diff_16.900000000000013', 'features.aprdf_electron_affinity_diff_17.000000000000014', 'features.aprdf_electron_affinity_diff_17.100000000000016', 'features.aprdf_electron_affinity_diff_17.200000000000014', 'features.aprdf_electron_affinity_diff_17.30000000000001', 'features.aprdf_electron_affinity_diff_17.400000000000013', 'features.aprdf_electron_affinity_diff_17.500000000000014', 'features.aprdf_electron_affinity_diff_17.600000000000016', 'features.aprdf_electron_affinity_diff_17.700000000000014', 'features.aprdf_electron_affinity_diff_17.800000000000015', 'features.aprdf_electron_affinity_diff_17.900000000000013', 'features.aprdf_electron_affinity_diff_18.000000000000014', 'features.aprdf_electron_affinity_diff_18.100000000000016', 'features.aprdf_electron_affinity_diff_18.200000000000014', 'features.aprdf_electron_affinity_diff_18.300000000000015', 'features.aprdf_electron_affinity_diff_18.400000000000013', 'features.aprdf_electron_affinity_diff_18.500000000000014', 'features.aprdf_electron_affinity_diff_18.600000000000016', 'features.aprdf_electron_affinity_diff_18.700000000000014', 'features.aprdf_electron_affinity_diff_18.800000000000015', 'features.aprdf_electron_affinity_diff_18.900000000000016', 'features.aprdf_electron_affinity_diff_19.000000000000014', 'features.aprdf_electron_affinity_diff_19.100000000000016', 'features.aprdf_electron_affinity_diff_19.200000000000017', 'features.aprdf_electron_affinity_diff_19.300000000000015', 'features.aprdf_electron_affinity_diff_19.400000000000016', 'features.aprdf_electron_affinity_diff_19.500000000000014', 'features.aprdf_electron_affinity_diff_19.600000000000016', 'features.aprdf_electron_affinity_diff_19.700000000000017', 'features.aprdf_electron_affinity_diff_19.800000000000015', 'features.aprdf_electron_affinity_diff_19.900000000000016', 'features.uc_volume_1.525', 'features.density_1.525', 'features.asa_a2_1.525', 'features.asa_m2cm3_1.525', 'features.asa_m2g_1.525', 'features.nasa_a2_1.525', 'features.nasa_m2cm3_1.525', 'features.nasa_m2g_1.525', 'features.amd_C-H-N-O_mean_0', 'features.amd_C-H-N-O_mean_1', 'features.amd_C-H-N-O_mean_2', 'features.amd_C-H-N-O_mean_3', 'features.amd_C-H-N-O_mean_4', 'features.amd_C-H-N-O_mean_5', 'features.amd_C-H-N-O_mean_6', 'features.amd_C-H-N-O_mean_7', 'features.amd_C-H-N-O_mean_8', 'features.amd_C-H-N-O_mean_9', 'features.amd_C-H-N-O_mean_10', 'features.amd_C-H-N-O_mean_11', 'features.amd_C-H-N-O_mean_12', 'features.amd_C-H-N-O_mean_13', 'features.amd_C-H-N-O_mean_14', 'features.amd_C-H-N-O_mean_15', 'features.amd_C-H-N-O_mean_16', 'features.amd_C-H-N-O_mean_17', 'features.amd_C-H-N-O_mean_18', 'features.amd_C-H-N-O_mean_19', 'features.amd_C-H-N-O_mean_20', 'features.amd_C-H-N-O_mean_21', 'features.amd_C-H-N-O_mean_22', 'features.amd_C-H-N-O_mean_23', 'features.amd_C-H-N-O_mean_24', 'features.amd_C-H-N-O_mean_25', 'features.amd_C-H-N-O_mean_26', 'features.amd_C-H-N-O_mean_27', 'features.amd_C-H-N-O_mean_28', 'features.amd_C-H-N-O_mean_29', 'features.amd_C-H-N-O_mean_30', 'features.amd_C-H-N-O_mean_31', 'features.amd_C-H-N-O_mean_32', 'features.amd_C-H-N-O_mean_33', 'features.amd_C-H-N-O_mean_34', 'features.amd_C-H-N-O_mean_35', 'features.amd_C-H-N-O_mean_36', 'features.amd_C-H-N-O_mean_37', 'features.amd_C-H-N-O_mean_38', 'features.amd_C-H-N-O_mean_39', 'features.amd_C-H-N-O_mean_40', 'features.amd_C-H-N-O_mean_41', 'features.amd_C-H-N-O_mean_42', 'features.amd_C-H-N-O_mean_43', 'features.amd_C-H-N-O_mean_44', 'features.amd_C-H-N-O_mean_45', 'features.amd_C-H-N-O_mean_46', 'features.amd_C-H-N-O_mean_47', 'features.amd_C-H-N-O_mean_48', 'features.amd_C-H-N-O_mean_49', 'features.amd_C-H-N-O_mean_50', 'features.amd_C-H-N-O_mean_51', 'features.amd_C-H-N-O_mean_52', 'features.amd_C-H-N-O_mean_53', 'features.amd_C-H-N-O_mean_54', 'features.amd_C-H-N-O_mean_55', 'features.amd_C-H-N-O_mean_56', 'features.amd_C-H-N-O_mean_57', 'features.amd_C-H-N-O_mean_58', 'features.amd_C-H-N-O_mean_59', 'features.amd_C-H-N-O_mean_60', 'features.amd_C-H-N-O_mean_61', 'features.amd_C-H-N-O_mean_62', 'features.amd_C-H-N-O_mean_63', 'features.amd_C-H-N-O_mean_64', 'features.amd_C-H-N-O_mean_65', 'features.amd_C-H-N-O_mean_66', 'features.amd_C-H-N-O_mean_67', 'features.amd_C-H-N-O_mean_68', 'features.amd_C-H-N-O_mean_69', 'features.amd_C-H-N-O_mean_70', 'features.amd_C-H-N-O_mean_71', 'features.amd_C-H-N-O_mean_72', 'features.amd_C-H-N-O_mean_73', 'features.amd_C-H-N-O_mean_74', 'features.amd_C-H-N-O_mean_75', 'features.amd_C-H-N-O_mean_76', 'features.amd_C-H-N-O_mean_77', 'features.amd_C-H-N-O_mean_78', 'features.amd_C-H-N-O_mean_79', 'features.amd_C-H-N-O_mean_80', 'features.amd_C-H-N-O_mean_81', 'features.amd_C-H-N-O_mean_82', 'features.amd_C-H-N-O_mean_83', 'features.amd_C-H-N-O_mean_84', 'features.amd_C-H-N-O_mean_85', 'features.amd_C-H-N-O_mean_86', 'features.amd_C-H-N-O_mean_87', 'features.amd_C-H-N-O_mean_88', 'features.amd_C-H-N-O_mean_89', 'features.amd_C-H-N-O_mean_90', 'features.amd_C-H-N-O_mean_91', 'features.amd_C-H-N-O_mean_92', 'features.amd_C-H-N-O_mean_93', 'features.amd_C-H-N-O_mean_94', 'features.amd_C-H-N-O_mean_95', 'features.amd_C-H-N-O_mean_96', 'features.amd_C-H-N-O_mean_97', 'features.amd_C-H-N-O_mean_98', 'features.amd_C-H-N-O_mean_99', 'features.amd_F-Cl-Br-I_mean_0', 'features.amd_F-Cl-Br-I_mean_1', 'features.amd_F-Cl-Br-I_mean_2', 'features.amd_F-Cl-Br-I_mean_3', 'features.amd_F-Cl-Br-I_mean_4', 'features.amd_F-Cl-Br-I_mean_5', 'features.amd_F-Cl-Br-I_mean_6', 'features.amd_F-Cl-Br-I_mean_7', 'features.amd_F-Cl-Br-I_mean_8', 'features.amd_F-Cl-Br-I_mean_9', 'features.amd_F-Cl-Br-I_mean_10', 'features.amd_F-Cl-Br-I_mean_11', 'features.amd_F-Cl-Br-I_mean_12', 'features.amd_F-Cl-Br-I_mean_13', 'features.amd_F-Cl-Br-I_mean_14', 'features.amd_F-Cl-Br-I_mean_15', 'features.amd_F-Cl-Br-I_mean_16', 'features.amd_F-Cl-Br-I_mean_17', 'features.amd_F-Cl-Br-I_mean_18', 'features.amd_F-Cl-Br-I_mean_19', 'features.amd_F-Cl-Br-I_mean_20', 'features.amd_F-Cl-Br-I_mean_21', 'features.amd_F-Cl-Br-I_mean_22', 'features.amd_F-Cl-Br-I_mean_23', 'features.amd_F-Cl-Br-I_mean_24', 'features.amd_F-Cl-Br-I_mean_25', 'features.amd_F-Cl-Br-I_mean_26', 'features.amd_F-Cl-Br-I_mean_27', 'features.amd_F-Cl-Br-I_mean_28', 'features.amd_F-Cl-Br-I_mean_29', 'features.amd_F-Cl-Br-I_mean_30', 'features.amd_F-Cl-Br-I_mean_31', 'features.amd_F-Cl-Br-I_mean_32', 'features.amd_F-Cl-Br-I_mean_33', 'features.amd_F-Cl-Br-I_mean_34', 'features.amd_F-Cl-Br-I_mean_35', 'features.amd_F-Cl-Br-I_mean_36', 'features.amd_F-Cl-Br-I_mean_37', 'features.amd_F-Cl-Br-I_mean_38', 'features.amd_F-Cl-Br-I_mean_39', 'features.amd_F-Cl-Br-I_mean_40', 'features.amd_F-Cl-Br-I_mean_41', 'features.amd_F-Cl-Br-I_mean_42', 'features.amd_F-Cl-Br-I_mean_43', 'features.amd_F-Cl-Br-I_mean_44', 'features.amd_F-Cl-Br-I_mean_45', 'features.amd_F-Cl-Br-I_mean_46', 'features.amd_F-Cl-Br-I_mean_47', 'features.amd_F-Cl-Br-I_mean_48', 'features.amd_F-Cl-Br-I_mean_49', 'features.amd_F-Cl-Br-I_mean_50', 'features.amd_F-Cl-Br-I_mean_51', 'features.amd_F-Cl-Br-I_mean_52', 'features.amd_F-Cl-Br-I_mean_53', 'features.amd_F-Cl-Br-I_mean_54', 'features.amd_F-Cl-Br-I_mean_55', 'features.amd_F-Cl-Br-I_mean_56', 'features.amd_F-Cl-Br-I_mean_57', 'features.amd_F-Cl-Br-I_mean_58', 'features.amd_F-Cl-Br-I_mean_59', 'features.amd_F-Cl-Br-I_mean_60', 'features.amd_F-Cl-Br-I_mean_61', 'features.amd_F-Cl-Br-I_mean_62', 'features.amd_F-Cl-Br-I_mean_63', 'features.amd_F-Cl-Br-I_mean_64', 'features.amd_F-Cl-Br-I_mean_65', 'features.amd_F-Cl-Br-I_mean_66', 'features.amd_F-Cl-Br-I_mean_67', 'features.amd_F-Cl-Br-I_mean_68', 'features.amd_F-Cl-Br-I_mean_69', 'features.amd_F-Cl-Br-I_mean_70', 'features.amd_F-Cl-Br-I_mean_71', 'features.amd_F-Cl-Br-I_mean_72', 'features.amd_F-Cl-Br-I_mean_73', 'features.amd_F-Cl-Br-I_mean_74', 'features.amd_F-Cl-Br-I_mean_75', 'features.amd_F-Cl-Br-I_mean_76', 'features.amd_F-Cl-Br-I_mean_77', 'features.amd_F-Cl-Br-I_mean_78', 'features.amd_F-Cl-Br-I_mean_79', 'features.amd_F-Cl-Br-I_mean_80', 'features.amd_F-Cl-Br-I_mean_81', 'features.amd_F-Cl-Br-I_mean_82', 'features.amd_F-Cl-Br-I_mean_83', 'features.amd_F-Cl-Br-I_mean_84', 'features.amd_F-Cl-Br-I_mean_85', 'features.amd_F-Cl-Br-I_mean_86', 'features.amd_F-Cl-Br-I_mean_87', 'features.amd_F-Cl-Br-I_mean_88', 'features.amd_F-Cl-Br-I_mean_89', 'features.amd_F-Cl-Br-I_mean_90', 'features.amd_F-Cl-Br-I_mean_91', 'features.amd_F-Cl-Br-I_mean_92', 'features.amd_F-Cl-Br-I_mean_93', 'features.amd_F-Cl-Br-I_mean_94', 'features.amd_F-Cl-Br-I_mean_95', 'features.amd_F-Cl-Br-I_mean_96', 'features.amd_F-Cl-Br-I_mean_97', 'features.amd_F-Cl-Br-I_mean_98', 'features.amd_F-Cl-Br-I_mean_99', 'features.amd_Cu-Mn-Ni-Mo-Fe-Pt-Zn-Ca-Er-Au-Cd-Co-Gd-Na-Sm-Eu-Tb-V-Ag-Nd-U-Ba-Ce-K-Ga-Cr-Al-Li-Sc-Ru-In-Mg-Zr-Dy-W-Yb-Y-Ho-Re-Be-Rb-La-Sn-Cs-Pb-Pr-Bi-Tm-Sr-Ti-Hf-Ir-Nb-Pd-Hg-Th-Np-Lu-Rh-Pu_mean_0', 'features.amd_Cu-Mn-Ni-Mo-Fe-Pt-Zn-Ca-Er-Au-Cd-Co-Gd-Na-Sm-Eu-Tb-V-Ag-Nd-U-Ba-Ce-K-Ga-Cr-Al-Li-Sc-Ru-In-Mg-Zr-Dy-W-Yb-Y-Ho-Re-Be-Rb-La-Sn-Cs-Pb-Pr-Bi-Tm-Sr-Ti-Hf-Ir-Nb-Pd-Hg-Th-Np-Lu-Rh-Pu_mean_1', 'features.amd_Cu-Mn-Ni-Mo-Fe-Pt-Zn-Ca-Er-Au-Cd-Co-Gd-Na-Sm-Eu-Tb-V-Ag-Nd-U-Ba-Ce-K-Ga-Cr-Al-Li-Sc-Ru-In-Mg-Zr-Dy-W-Yb-Y-Ho-Re-Be-Rb-La-Sn-Cs-Pb-Pr-Bi-Tm-Sr-Ti-Hf-Ir-Nb-Pd-Hg-Th-Np-Lu-Rh-Pu_mean_2', 'features.amd_Cu-Mn-Ni-Mo-Fe-Pt-Zn-Ca-Er-Au-Cd-Co-Gd-Na-Sm-Eu-Tb-V-Ag-Nd-U-Ba-Ce-K-Ga-Cr-Al-Li-Sc-Ru-In-Mg-Zr-Dy-W-Yb-Y-Ho-Re-Be-Rb-La-Sn-Cs-Pb-Pr-Bi-Tm-Sr-Ti-Hf-Ir-Nb-Pd-Hg-Th-Np-Lu-Rh-Pu_mean_3', 'features.amd_Cu-Mn-Ni-Mo-Fe-Pt-Zn-Ca-Er-Au-Cd-Co-Gd-Na-Sm-Eu-Tb-V-Ag-Nd-U-Ba-Ce-K-Ga-Cr-Al-Li-Sc-Ru-In-Mg-Zr-Dy-W-Yb-Y-Ho-Re-Be-Rb-La-Sn-Cs-Pb-Pr-Bi-Tm-Sr-Ti-Hf-Ir-Nb-Pd-Hg-Th-Np-Lu-Rh-Pu_mean_4', 'features.amd_Cu-Mn-Ni-Mo-Fe-Pt-Zn-Ca-Er-Au-Cd-Co-Gd-Na-Sm-Eu-Tb-V-Ag-Nd-U-Ba-Ce-K-Ga-Cr-Al-Li-Sc-Ru-In-Mg-Zr-Dy-W-Yb-Y-Ho-Re-Be-Rb-La-Sn-Cs-Pb-Pr-Bi-Tm-Sr-Ti-Hf-Ir-Nb-Pd-Hg-Th-Np-Lu-Rh-Pu_mean_5', 'features.amd_Cu-Mn-Ni-Mo-Fe-Pt-Zn-Ca-Er-Au-Cd-Co-Gd-Na-Sm-Eu-Tb-V-Ag-Nd-U-Ba-Ce-K-Ga-Cr-Al-Li-Sc-Ru-In-Mg-Zr-Dy-W-Yb-Y-Ho-Re-Be-Rb-La-Sn-Cs-Pb-Pr-Bi-Tm-Sr-Ti-Hf-Ir-Nb-Pd-Hg-Th-Np-Lu-Rh-Pu_mean_6', 'features.amd_Cu-Mn-Ni-Mo-Fe-Pt-Zn-Ca-Er-Au-Cd-Co-Gd-Na-Sm-Eu-Tb-V-Ag-Nd-U-Ba-Ce-K-Ga-Cr-Al-Li-Sc-Ru-In-Mg-Zr-Dy-W-Yb-Y-Ho-Re-Be-Rb-La-Sn-Cs-Pb-Pr-Bi-Tm-Sr-Ti-Hf-Ir-Nb-Pd-Hg-Th-Np-Lu-Rh-Pu_mean_7', 'features.amd_Cu-Mn-Ni-Mo-Fe-Pt-Zn-Ca-Er-Au-Cd-Co-Gd-Na-Sm-Eu-Tb-V-Ag-Nd-U-Ba-Ce-K-Ga-Cr-Al-Li-Sc-Ru-In-Mg-Zr-Dy-W-Yb-Y-Ho-Re-Be-Rb-La-Sn-Cs-Pb-Pr-Bi-Tm-Sr-Ti-Hf-Ir-Nb-Pd-Hg-Th-Np-Lu-Rh-Pu_mean_8', 'features.amd_Cu-Mn-Ni-Mo-Fe-Pt-Zn-Ca-Er-Au-Cd-Co-Gd-Na-Sm-Eu-Tb-V-Ag-Nd-U-Ba-Ce-K-Ga-Cr-Al-Li-Sc-Ru-In-Mg-Zr-Dy-W-Yb-Y-Ho-Re-Be-Rb-La-Sn-Cs-Pb-Pr-Bi-Tm-Sr-Ti-Hf-Ir-Nb-Pd-Hg-Th-Np-Lu-Rh-Pu_mean_9', 'features.amd_Cu-Mn-Ni-Mo-Fe-Pt-Zn-Ca-Er-Au-Cd-Co-Gd-Na-Sm-Eu-Tb-V-Ag-Nd-U-Ba-Ce-K-Ga-Cr-Al-Li-Sc-Ru-In-Mg-Zr-Dy-W-Yb-Y-Ho-Re-Be-Rb-La-Sn-Cs-Pb-Pr-Bi-Tm-Sr-Ti-Hf-Ir-Nb-Pd-Hg-Th-Np-Lu-Rh-Pu_mean_10', 'features.amd_Cu-Mn-Ni-Mo-Fe-Pt-Zn-Ca-Er-Au-Cd-Co-Gd-Na-Sm-Eu-Tb-V-Ag-Nd-U-Ba-Ce-K-Ga-Cr-Al-Li-Sc-Ru-In-Mg-Zr-Dy-W-Yb-Y-Ho-Re-Be-Rb-La-Sn-Cs-Pb-Pr-Bi-Tm-Sr-Ti-Hf-Ir-Nb-Pd-Hg-Th-Np-Lu-Rh-Pu_mean_11', 'features.amd_Cu-Mn-Ni-Mo-Fe-Pt-Zn-Ca-Er-Au-Cd-Co-Gd-Na-Sm-Eu-Tb-V-Ag-Nd-U-Ba-Ce-K-Ga-Cr-Al-Li-Sc-Ru-In-Mg-Zr-Dy-W-Yb-Y-Ho-Re-Be-Rb-La-Sn-Cs-Pb-Pr-Bi-Tm-Sr-Ti-Hf-Ir-Nb-Pd-Hg-Th-Np-Lu-Rh-Pu_mean_12', 'features.amd_Cu-Mn-Ni-Mo-Fe-Pt-Zn-Ca-Er-Au-Cd-Co-Gd-Na-Sm-Eu-Tb-V-Ag-Nd-U-Ba-Ce-K-Ga-Cr-Al-Li-Sc-Ru-In-Mg-Zr-Dy-W-Yb-Y-Ho-Re-Be-Rb-La-Sn-Cs-Pb-Pr-Bi-Tm-Sr-Ti-Hf-Ir-Nb-Pd-Hg-Th-Np-Lu-Rh-Pu_mean_13', 'features.amd_Cu-Mn-Ni-Mo-Fe-Pt-Zn-Ca-Er-Au-Cd-Co-Gd-Na-Sm-Eu-Tb-V-Ag-Nd-U-Ba-Ce-K-Ga-Cr-Al-Li-Sc-Ru-In-Mg-Zr-Dy-W-Yb-Y-Ho-Re-Be-Rb-La-Sn-Cs-Pb-Pr-Bi-Tm-Sr-Ti-Hf-Ir-Nb-Pd-Hg-Th-Np-Lu-Rh-Pu_mean_14', 'features.amd_Cu-Mn-Ni-Mo-Fe-Pt-Zn-Ca-Er-Au-Cd-Co-Gd-Na-Sm-Eu-Tb-V-Ag-Nd-U-Ba-Ce-K-Ga-Cr-Al-Li-Sc-Ru-In-Mg-Zr-Dy-W-Yb-Y-Ho-Re-Be-Rb-La-Sn-Cs-Pb-Pr-Bi-Tm-Sr-Ti-Hf-Ir-Nb-Pd-Hg-Th-Np-Lu-Rh-Pu_mean_15', 'features.amd_Cu-Mn-Ni-Mo-Fe-Pt-Zn-Ca-Er-Au-Cd-Co-Gd-Na-Sm-Eu-Tb-V-Ag-Nd-U-Ba-Ce-K-Ga-Cr-Al-Li-Sc-Ru-In-Mg-Zr-Dy-W-Yb-Y-Ho-Re-Be-Rb-La-Sn-Cs-Pb-Pr-Bi-Tm-Sr-Ti-Hf-Ir-Nb-Pd-Hg-Th-Np-Lu-Rh-Pu_mean_16', 'features.amd_Cu-Mn-Ni-Mo-Fe-Pt-Zn-Ca-Er-Au-Cd-Co-Gd-Na-Sm-Eu-Tb-V-Ag-Nd-U-Ba-Ce-K-Ga-Cr-Al-Li-Sc-Ru-In-Mg-Zr-Dy-W-Yb-Y-Ho-Re-Be-Rb-La-Sn-Cs-Pb-Pr-Bi-Tm-Sr-Ti-Hf-Ir-Nb-Pd-Hg-Th-Np-Lu-Rh-Pu_mean_17', 'features.amd_Cu-Mn-Ni-Mo-Fe-Pt-Zn-Ca-Er-Au-Cd-Co-Gd-Na-Sm-Eu-Tb-V-Ag-Nd-U-Ba-Ce-K-Ga-Cr-Al-Li-Sc-Ru-In-Mg-Zr-Dy-W-Yb-Y-Ho-Re-Be-Rb-La-Sn-Cs-Pb-Pr-Bi-Tm-Sr-Ti-Hf-Ir-Nb-Pd-Hg-Th-Np-Lu-Rh-Pu_mean_18', 'features.amd_Cu-Mn-Ni-Mo-Fe-Pt-Zn-Ca-Er-Au-Cd-Co-Gd-Na-Sm-Eu-Tb-V-Ag-Nd-U-Ba-Ce-K-Ga-Cr-Al-Li-Sc-Ru-In-Mg-Zr-Dy-W-Yb-Y-Ho-Re-Be-Rb-La-Sn-Cs-Pb-Pr-Bi-Tm-Sr-Ti-Hf-Ir-Nb-Pd-Hg-Th-Np-Lu-Rh-Pu_mean_19', 'features.amd_Cu-Mn-Ni-Mo-Fe-Pt-Zn-Ca-Er-Au-Cd-Co-Gd-Na-Sm-Eu-Tb-V-Ag-Nd-U-Ba-Ce-K-Ga-Cr-Al-Li-Sc-Ru-In-Mg-Zr-Dy-W-Yb-Y-Ho-Re-Be-Rb-La-Sn-Cs-Pb-Pr-Bi-Tm-Sr-Ti-Hf-Ir-Nb-Pd-Hg-Th-Np-Lu-Rh-Pu_mean_20', 'features.amd_Cu-Mn-Ni-Mo-Fe-Pt-Zn-Ca-Er-Au-Cd-Co-Gd-Na-Sm-Eu-Tb-V-Ag-Nd-U-Ba-Ce-K-Ga-Cr-Al-Li-Sc-Ru-In-Mg-Zr-Dy-W-Yb-Y-Ho-Re-Be-Rb-La-Sn-Cs-Pb-Pr-Bi-Tm-Sr-Ti-Hf-Ir-Nb-Pd-Hg-Th-Np-Lu-Rh-Pu_mean_21', 'features.amd_Cu-Mn-Ni-Mo-Fe-Pt-Zn-Ca-Er-Au-Cd-Co-Gd-Na-Sm-Eu-Tb-V-Ag-Nd-U-Ba-Ce-K-Ga-Cr-Al-Li-Sc-Ru-In-Mg-Zr-Dy-W-Yb-Y-Ho-Re-Be-Rb-La-Sn-Cs-Pb-Pr-Bi-Tm-Sr-Ti-Hf-Ir-Nb-Pd-Hg-Th-Np-Lu-Rh-Pu_mean_22', 'features.amd_Cu-Mn-Ni-Mo-Fe-Pt-Zn-Ca-Er-Au-Cd-Co-Gd-Na-Sm-Eu-Tb-V-Ag-Nd-U-Ba-Ce-K-Ga-Cr-Al-Li-Sc-Ru-In-Mg-Zr-Dy-W-Yb-Y-Ho-Re-Be-Rb-La-Sn-Cs-Pb-Pr-Bi-Tm-Sr-Ti-Hf-Ir-Nb-Pd-Hg-Th-Np-Lu-Rh-Pu_mean_23', 'features.amd_Cu-Mn-Ni-Mo-Fe-Pt-Zn-Ca-Er-Au-Cd-Co-Gd-Na-Sm-Eu-Tb-V-Ag-Nd-U-Ba-Ce-K-Ga-Cr-Al-Li-Sc-Ru-In-Mg-Zr-Dy-W-Yb-Y-Ho-Re-Be-Rb-La-Sn-Cs-Pb-Pr-Bi-Tm-Sr-Ti-Hf-Ir-Nb-Pd-Hg-Th-Np-Lu-Rh-Pu_mean_24', 'features.amd_Cu-Mn-Ni-Mo-Fe-Pt-Zn-Ca-Er-Au-Cd-Co-Gd-Na-Sm-Eu-Tb-V-Ag-Nd-U-Ba-Ce-K-Ga-Cr-Al-Li-Sc-Ru-In-Mg-Zr-Dy-W-Yb-Y-Ho-Re-Be-Rb-La-Sn-Cs-Pb-Pr-Bi-Tm-Sr-Ti-Hf-Ir-Nb-Pd-Hg-Th-Np-Lu-Rh-Pu_mean_25', 'features.amd_Cu-Mn-Ni-Mo-Fe-Pt-Zn-Ca-Er-Au-Cd-Co-Gd-Na-Sm-Eu-Tb-V-Ag-Nd-U-Ba-Ce-K-Ga-Cr-Al-Li-Sc-Ru-In-Mg-Zr-Dy-W-Yb-Y-Ho-Re-Be-Rb-La-Sn-Cs-Pb-Pr-Bi-Tm-Sr-Ti-Hf-Ir-Nb-Pd-Hg-Th-Np-Lu-Rh-Pu_mean_26', 'features.amd_Cu-Mn-Ni-Mo-Fe-Pt-Zn-Ca-Er-Au-Cd-Co-Gd-Na-Sm-Eu-Tb-V-Ag-Nd-U-Ba-Ce-K-Ga-Cr-Al-Li-Sc-Ru-In-Mg-Zr-Dy-W-Yb-Y-Ho-Re-Be-Rb-La-Sn-Cs-Pb-Pr-Bi-Tm-Sr-Ti-Hf-Ir-Nb-Pd-Hg-Th-Np-Lu-Rh-Pu_mean_27', 'features.amd_Cu-Mn-Ni-Mo-Fe-Pt-Zn-Ca-Er-Au-Cd-Co-Gd-Na-Sm-Eu-Tb-V-Ag-Nd-U-Ba-Ce-K-Ga-Cr-Al-Li-Sc-Ru-In-Mg-Zr-Dy-W-Yb-Y-Ho-Re-Be-Rb-La-Sn-Cs-Pb-Pr-Bi-Tm-Sr-Ti-Hf-Ir-Nb-Pd-Hg-Th-Np-Lu-Rh-Pu_mean_28', 'features.amd_Cu-Mn-Ni-Mo-Fe-Pt-Zn-Ca-Er-Au-Cd-Co-Gd-Na-Sm-Eu-Tb-V-Ag-Nd-U-Ba-Ce-K-Ga-Cr-Al-Li-Sc-Ru-In-Mg-Zr-Dy-W-Yb-Y-Ho-Re-Be-Rb-La-Sn-Cs-Pb-Pr-Bi-Tm-Sr-Ti-Hf-Ir-Nb-Pd-Hg-Th-Np-Lu-Rh-Pu_mean_29', 'features.amd_Cu-Mn-Ni-Mo-Fe-Pt-Zn-Ca-Er-Au-Cd-Co-Gd-Na-Sm-Eu-Tb-V-Ag-Nd-U-Ba-Ce-K-Ga-Cr-Al-Li-Sc-Ru-In-Mg-Zr-Dy-W-Yb-Y-Ho-Re-Be-Rb-La-Sn-Cs-Pb-Pr-Bi-Tm-Sr-Ti-Hf-Ir-Nb-Pd-Hg-Th-Np-Lu-Rh-Pu_mean_30', 'features.amd_Cu-Mn-Ni-Mo-Fe-Pt-Zn-Ca-Er-Au-Cd-Co-Gd-Na-Sm-Eu-Tb-V-Ag-Nd-U-Ba-Ce-K-Ga-Cr-Al-Li-Sc-Ru-In-Mg-Zr-Dy-W-Yb-Y-Ho-Re-Be-Rb-La-Sn-Cs-Pb-Pr-Bi-Tm-Sr-Ti-Hf-Ir-Nb-Pd-Hg-Th-Np-Lu-Rh-Pu_mean_31', 'features.amd_Cu-Mn-Ni-Mo-Fe-Pt-Zn-Ca-Er-Au-Cd-Co-Gd-Na-Sm-Eu-Tb-V-Ag-Nd-U-Ba-Ce-K-Ga-Cr-Al-Li-Sc-Ru-In-Mg-Zr-Dy-W-Yb-Y-Ho-Re-Be-Rb-La-Sn-Cs-Pb-Pr-Bi-Tm-Sr-Ti-Hf-Ir-Nb-Pd-Hg-Th-Np-Lu-Rh-Pu_mean_32', 'features.amd_Cu-Mn-Ni-Mo-Fe-Pt-Zn-Ca-Er-Au-Cd-Co-Gd-Na-Sm-Eu-Tb-V-Ag-Nd-U-Ba-Ce-K-Ga-Cr-Al-Li-Sc-Ru-In-Mg-Zr-Dy-W-Yb-Y-Ho-Re-Be-Rb-La-Sn-Cs-Pb-Pr-Bi-Tm-Sr-Ti-Hf-Ir-Nb-Pd-Hg-Th-Np-Lu-Rh-Pu_mean_33', 'features.amd_Cu-Mn-Ni-Mo-Fe-Pt-Zn-Ca-Er-Au-Cd-Co-Gd-Na-Sm-Eu-Tb-V-Ag-Nd-U-Ba-Ce-K-Ga-Cr-Al-Li-Sc-Ru-In-Mg-Zr-Dy-W-Yb-Y-Ho-Re-Be-Rb-La-Sn-Cs-Pb-Pr-Bi-Tm-Sr-Ti-Hf-Ir-Nb-Pd-Hg-Th-Np-Lu-Rh-Pu_mean_34', 'features.amd_Cu-Mn-Ni-Mo-Fe-Pt-Zn-Ca-Er-Au-Cd-Co-Gd-Na-Sm-Eu-Tb-V-Ag-Nd-U-Ba-Ce-K-Ga-Cr-Al-Li-Sc-Ru-In-Mg-Zr-Dy-W-Yb-Y-Ho-Re-Be-Rb-La-Sn-Cs-Pb-Pr-Bi-Tm-Sr-Ti-Hf-Ir-Nb-Pd-Hg-Th-Np-Lu-Rh-Pu_mean_35', 'features.amd_Cu-Mn-Ni-Mo-Fe-Pt-Zn-Ca-Er-Au-Cd-Co-Gd-Na-Sm-Eu-Tb-V-Ag-Nd-U-Ba-Ce-K-Ga-Cr-Al-Li-Sc-Ru-In-Mg-Zr-Dy-W-Yb-Y-Ho-Re-Be-Rb-La-Sn-Cs-Pb-Pr-Bi-Tm-Sr-Ti-Hf-Ir-Nb-Pd-Hg-Th-Np-Lu-Rh-Pu_mean_36', 'features.amd_Cu-Mn-Ni-Mo-Fe-Pt-Zn-Ca-Er-Au-Cd-Co-Gd-Na-Sm-Eu-Tb-V-Ag-Nd-U-Ba-Ce-K-Ga-Cr-Al-Li-Sc-Ru-In-Mg-Zr-Dy-W-Yb-Y-Ho-Re-Be-Rb-La-Sn-Cs-Pb-Pr-Bi-Tm-Sr-Ti-Hf-Ir-Nb-Pd-Hg-Th-Np-Lu-Rh-Pu_mean_37', 'features.amd_Cu-Mn-Ni-Mo-Fe-Pt-Zn-Ca-Er-Au-Cd-Co-Gd-Na-Sm-Eu-Tb-V-Ag-Nd-U-Ba-Ce-K-Ga-Cr-Al-Li-Sc-Ru-In-Mg-Zr-Dy-W-Yb-Y-Ho-Re-Be-Rb-La-Sn-Cs-Pb-Pr-Bi-Tm-Sr-Ti-Hf-Ir-Nb-Pd-Hg-Th-Np-Lu-Rh-Pu_mean_38', 'features.amd_Cu-Mn-Ni-Mo-Fe-Pt-Zn-Ca-Er-Au-Cd-Co-Gd-Na-Sm-Eu-Tb-V-Ag-Nd-U-Ba-Ce-K-Ga-Cr-Al-Li-Sc-Ru-In-Mg-Zr-Dy-W-Yb-Y-Ho-Re-Be-Rb-La-Sn-Cs-Pb-Pr-Bi-Tm-Sr-Ti-Hf-Ir-Nb-Pd-Hg-Th-Np-Lu-Rh-Pu_mean_39', 'features.amd_Cu-Mn-Ni-Mo-Fe-Pt-Zn-Ca-Er-Au-Cd-Co-Gd-Na-Sm-Eu-Tb-V-Ag-Nd-U-Ba-Ce-K-Ga-Cr-Al-Li-Sc-Ru-In-Mg-Zr-Dy-W-Yb-Y-Ho-Re-Be-Rb-La-Sn-Cs-Pb-Pr-Bi-Tm-Sr-Ti-Hf-Ir-Nb-Pd-Hg-Th-Np-Lu-Rh-Pu_mean_40', 'features.amd_Cu-Mn-Ni-Mo-Fe-Pt-Zn-Ca-Er-Au-Cd-Co-Gd-Na-Sm-Eu-Tb-V-Ag-Nd-U-Ba-Ce-K-Ga-Cr-Al-Li-Sc-Ru-In-Mg-Zr-Dy-W-Yb-Y-Ho-Re-Be-Rb-La-Sn-Cs-Pb-Pr-Bi-Tm-Sr-Ti-Hf-Ir-Nb-Pd-Hg-Th-Np-Lu-Rh-Pu_mean_41', 'features.amd_Cu-Mn-Ni-Mo-Fe-Pt-Zn-Ca-Er-Au-Cd-Co-Gd-Na-Sm-Eu-Tb-V-Ag-Nd-U-Ba-Ce-K-Ga-Cr-Al-Li-Sc-Ru-In-Mg-Zr-Dy-W-Yb-Y-Ho-Re-Be-Rb-La-Sn-Cs-Pb-Pr-Bi-Tm-Sr-Ti-Hf-Ir-Nb-Pd-Hg-Th-Np-Lu-Rh-Pu_mean_42', 'features.amd_Cu-Mn-Ni-Mo-Fe-Pt-Zn-Ca-Er-Au-Cd-Co-Gd-Na-Sm-Eu-Tb-V-Ag-Nd-U-Ba-Ce-K-Ga-Cr-Al-Li-Sc-Ru-In-Mg-Zr-Dy-W-Yb-Y-Ho-Re-Be-Rb-La-Sn-Cs-Pb-Pr-Bi-Tm-Sr-Ti-Hf-Ir-Nb-Pd-Hg-Th-Np-Lu-Rh-Pu_mean_43', 'features.amd_Cu-Mn-Ni-Mo-Fe-Pt-Zn-Ca-Er-Au-Cd-Co-Gd-Na-Sm-Eu-Tb-V-Ag-Nd-U-Ba-Ce-K-Ga-Cr-Al-Li-Sc-Ru-In-Mg-Zr-Dy-W-Yb-Y-Ho-Re-Be-Rb-La-Sn-Cs-Pb-Pr-Bi-Tm-Sr-Ti-Hf-Ir-Nb-Pd-Hg-Th-Np-Lu-Rh-Pu_mean_44', 'features.amd_Cu-Mn-Ni-Mo-Fe-Pt-Zn-Ca-Er-Au-Cd-Co-Gd-Na-Sm-Eu-Tb-V-Ag-Nd-U-Ba-Ce-K-Ga-Cr-Al-Li-Sc-Ru-In-Mg-Zr-Dy-W-Yb-Y-Ho-Re-Be-Rb-La-Sn-Cs-Pb-Pr-Bi-Tm-Sr-Ti-Hf-Ir-Nb-Pd-Hg-Th-Np-Lu-Rh-Pu_mean_45', 'features.amd_Cu-Mn-Ni-Mo-Fe-Pt-Zn-Ca-Er-Au-Cd-Co-Gd-Na-Sm-Eu-Tb-V-Ag-Nd-U-Ba-Ce-K-Ga-Cr-Al-Li-Sc-Ru-In-Mg-Zr-Dy-W-Yb-Y-Ho-Re-Be-Rb-La-Sn-Cs-Pb-Pr-Bi-Tm-Sr-Ti-Hf-Ir-Nb-Pd-Hg-Th-Np-Lu-Rh-Pu_mean_46', 'features.amd_Cu-Mn-Ni-Mo-Fe-Pt-Zn-Ca-Er-Au-Cd-Co-Gd-Na-Sm-Eu-Tb-V-Ag-Nd-U-Ba-Ce-K-Ga-Cr-Al-Li-Sc-Ru-In-Mg-Zr-Dy-W-Yb-Y-Ho-Re-Be-Rb-La-Sn-Cs-Pb-Pr-Bi-Tm-Sr-Ti-Hf-Ir-Nb-Pd-Hg-Th-Np-Lu-Rh-Pu_mean_47', 'features.amd_Cu-Mn-Ni-Mo-Fe-Pt-Zn-Ca-Er-Au-Cd-Co-Gd-Na-Sm-Eu-Tb-V-Ag-Nd-U-Ba-Ce-K-Ga-Cr-Al-Li-Sc-Ru-In-Mg-Zr-Dy-W-Yb-Y-Ho-Re-Be-Rb-La-Sn-Cs-Pb-Pr-Bi-Tm-Sr-Ti-Hf-Ir-Nb-Pd-Hg-Th-Np-Lu-Rh-Pu_mean_48', 'features.amd_Cu-Mn-Ni-Mo-Fe-Pt-Zn-Ca-Er-Au-Cd-Co-Gd-Na-Sm-Eu-Tb-V-Ag-Nd-U-Ba-Ce-K-Ga-Cr-Al-Li-Sc-Ru-In-Mg-Zr-Dy-W-Yb-Y-Ho-Re-Be-Rb-La-Sn-Cs-Pb-Pr-Bi-Tm-Sr-Ti-Hf-Ir-Nb-Pd-Hg-Th-Np-Lu-Rh-Pu_mean_49', 'features.amd_Cu-Mn-Ni-Mo-Fe-Pt-Zn-Ca-Er-Au-Cd-Co-Gd-Na-Sm-Eu-Tb-V-Ag-Nd-U-Ba-Ce-K-Ga-Cr-Al-Li-Sc-Ru-In-Mg-Zr-Dy-W-Yb-Y-Ho-Re-Be-Rb-La-Sn-Cs-Pb-Pr-Bi-Tm-Sr-Ti-Hf-Ir-Nb-Pd-Hg-Th-Np-Lu-Rh-Pu_mean_50', 'features.amd_Cu-Mn-Ni-Mo-Fe-Pt-Zn-Ca-Er-Au-Cd-Co-Gd-Na-Sm-Eu-Tb-V-Ag-Nd-U-Ba-Ce-K-Ga-Cr-Al-Li-Sc-Ru-In-Mg-Zr-Dy-W-Yb-Y-Ho-Re-Be-Rb-La-Sn-Cs-Pb-Pr-Bi-Tm-Sr-Ti-Hf-Ir-Nb-Pd-Hg-Th-Np-Lu-Rh-Pu_mean_51', 'features.amd_Cu-Mn-Ni-Mo-Fe-Pt-Zn-Ca-Er-Au-Cd-Co-Gd-Na-Sm-Eu-Tb-V-Ag-Nd-U-Ba-Ce-K-Ga-Cr-Al-Li-Sc-Ru-In-Mg-Zr-Dy-W-Yb-Y-Ho-Re-Be-Rb-La-Sn-Cs-Pb-Pr-Bi-Tm-Sr-Ti-Hf-Ir-Nb-Pd-Hg-Th-Np-Lu-Rh-Pu_mean_52', 'features.amd_Cu-Mn-Ni-Mo-Fe-Pt-Zn-Ca-Er-Au-Cd-Co-Gd-Na-Sm-Eu-Tb-V-Ag-Nd-U-Ba-Ce-K-Ga-Cr-Al-Li-Sc-Ru-In-Mg-Zr-Dy-W-Yb-Y-Ho-Re-Be-Rb-La-Sn-Cs-Pb-Pr-Bi-Tm-Sr-Ti-Hf-Ir-Nb-Pd-Hg-Th-Np-Lu-Rh-Pu_mean_53', 'features.amd_Cu-Mn-Ni-Mo-Fe-Pt-Zn-Ca-Er-Au-Cd-Co-Gd-Na-Sm-Eu-Tb-V-Ag-Nd-U-Ba-Ce-K-Ga-Cr-Al-Li-Sc-Ru-In-Mg-Zr-Dy-W-Yb-Y-Ho-Re-Be-Rb-La-Sn-Cs-Pb-Pr-Bi-Tm-Sr-Ti-Hf-Ir-Nb-Pd-Hg-Th-Np-Lu-Rh-Pu_mean_54', 'features.amd_Cu-Mn-Ni-Mo-Fe-Pt-Zn-Ca-Er-Au-Cd-Co-Gd-Na-Sm-Eu-Tb-V-Ag-Nd-U-Ba-Ce-K-Ga-Cr-Al-Li-Sc-Ru-In-Mg-Zr-Dy-W-Yb-Y-Ho-Re-Be-Rb-La-Sn-Cs-Pb-Pr-Bi-Tm-Sr-Ti-Hf-Ir-Nb-Pd-Hg-Th-Np-Lu-Rh-Pu_mean_55', 'features.amd_Cu-Mn-Ni-Mo-Fe-Pt-Zn-Ca-Er-Au-Cd-Co-Gd-Na-Sm-Eu-Tb-V-Ag-Nd-U-Ba-Ce-K-Ga-Cr-Al-Li-Sc-Ru-In-Mg-Zr-Dy-W-Yb-Y-Ho-Re-Be-Rb-La-Sn-Cs-Pb-Pr-Bi-Tm-Sr-Ti-Hf-Ir-Nb-Pd-Hg-Th-Np-Lu-Rh-Pu_mean_56', 'features.amd_Cu-Mn-Ni-Mo-Fe-Pt-Zn-Ca-Er-Au-Cd-Co-Gd-Na-Sm-Eu-Tb-V-Ag-Nd-U-Ba-Ce-K-Ga-Cr-Al-Li-Sc-Ru-In-Mg-Zr-Dy-W-Yb-Y-Ho-Re-Be-Rb-La-Sn-Cs-Pb-Pr-Bi-Tm-Sr-Ti-Hf-Ir-Nb-Pd-Hg-Th-Np-Lu-Rh-Pu_mean_57', 'features.amd_Cu-Mn-Ni-Mo-Fe-Pt-Zn-Ca-Er-Au-Cd-Co-Gd-Na-Sm-Eu-Tb-V-Ag-Nd-U-Ba-Ce-K-Ga-Cr-Al-Li-Sc-Ru-In-Mg-Zr-Dy-W-Yb-Y-Ho-Re-Be-Rb-La-Sn-Cs-Pb-Pr-Bi-Tm-Sr-Ti-Hf-Ir-Nb-Pd-Hg-Th-Np-Lu-Rh-Pu_mean_58', 'features.amd_Cu-Mn-Ni-Mo-Fe-Pt-Zn-Ca-Er-Au-Cd-Co-Gd-Na-Sm-Eu-Tb-V-Ag-Nd-U-Ba-Ce-K-Ga-Cr-Al-Li-Sc-Ru-In-Mg-Zr-Dy-W-Yb-Y-Ho-Re-Be-Rb-La-Sn-Cs-Pb-Pr-Bi-Tm-Sr-Ti-Hf-Ir-Nb-Pd-Hg-Th-Np-Lu-Rh-Pu_mean_59', 'features.amd_Cu-Mn-Ni-Mo-Fe-Pt-Zn-Ca-Er-Au-Cd-Co-Gd-Na-Sm-Eu-Tb-V-Ag-Nd-U-Ba-Ce-K-Ga-Cr-Al-Li-Sc-Ru-In-Mg-Zr-Dy-W-Yb-Y-Ho-Re-Be-Rb-La-Sn-Cs-Pb-Pr-Bi-Tm-Sr-Ti-Hf-Ir-Nb-Pd-Hg-Th-Np-Lu-Rh-Pu_mean_60', 'features.amd_Cu-Mn-Ni-Mo-Fe-Pt-Zn-Ca-Er-Au-Cd-Co-Gd-Na-Sm-Eu-Tb-V-Ag-Nd-U-Ba-Ce-K-Ga-Cr-Al-Li-Sc-Ru-In-Mg-Zr-Dy-W-Yb-Y-Ho-Re-Be-Rb-La-Sn-Cs-Pb-Pr-Bi-Tm-Sr-Ti-Hf-Ir-Nb-Pd-Hg-Th-Np-Lu-Rh-Pu_mean_61', 'features.amd_Cu-Mn-Ni-Mo-Fe-Pt-Zn-Ca-Er-Au-Cd-Co-Gd-Na-Sm-Eu-Tb-V-Ag-Nd-U-Ba-Ce-K-Ga-Cr-Al-Li-Sc-Ru-In-Mg-Zr-Dy-W-Yb-Y-Ho-Re-Be-Rb-La-Sn-Cs-Pb-Pr-Bi-Tm-Sr-Ti-Hf-Ir-Nb-Pd-Hg-Th-Np-Lu-Rh-Pu_mean_62', 'features.amd_Cu-Mn-Ni-Mo-Fe-Pt-Zn-Ca-Er-Au-Cd-Co-Gd-Na-Sm-Eu-Tb-V-Ag-Nd-U-Ba-Ce-K-Ga-Cr-Al-Li-Sc-Ru-In-Mg-Zr-Dy-W-Yb-Y-Ho-Re-Be-Rb-La-Sn-Cs-Pb-Pr-Bi-Tm-Sr-Ti-Hf-Ir-Nb-Pd-Hg-Th-Np-Lu-Rh-Pu_mean_63', 'features.amd_Cu-Mn-Ni-Mo-Fe-Pt-Zn-Ca-Er-Au-Cd-Co-Gd-Na-Sm-Eu-Tb-V-Ag-Nd-U-Ba-Ce-K-Ga-Cr-Al-Li-Sc-Ru-In-Mg-Zr-Dy-W-Yb-Y-Ho-Re-Be-Rb-La-Sn-Cs-Pb-Pr-Bi-Tm-Sr-Ti-Hf-Ir-Nb-Pd-Hg-Th-Np-Lu-Rh-Pu_mean_64', 'features.amd_Cu-Mn-Ni-Mo-Fe-Pt-Zn-Ca-Er-Au-Cd-Co-Gd-Na-Sm-Eu-Tb-V-Ag-Nd-U-Ba-Ce-K-Ga-Cr-Al-Li-Sc-Ru-In-Mg-Zr-Dy-W-Yb-Y-Ho-Re-Be-Rb-La-Sn-Cs-Pb-Pr-Bi-Tm-Sr-Ti-Hf-Ir-Nb-Pd-Hg-Th-Np-Lu-Rh-Pu_mean_65', 'features.amd_Cu-Mn-Ni-Mo-Fe-Pt-Zn-Ca-Er-Au-Cd-Co-Gd-Na-Sm-Eu-Tb-V-Ag-Nd-U-Ba-Ce-K-Ga-Cr-Al-Li-Sc-Ru-In-Mg-Zr-Dy-W-Yb-Y-Ho-Re-Be-Rb-La-Sn-Cs-Pb-Pr-Bi-Tm-Sr-Ti-Hf-Ir-Nb-Pd-Hg-Th-Np-Lu-Rh-Pu_mean_66', 'features.amd_Cu-Mn-Ni-Mo-Fe-Pt-Zn-Ca-Er-Au-Cd-Co-Gd-Na-Sm-Eu-Tb-V-Ag-Nd-U-Ba-Ce-K-Ga-Cr-Al-Li-Sc-Ru-In-Mg-Zr-Dy-W-Yb-Y-Ho-Re-Be-Rb-La-Sn-Cs-Pb-Pr-Bi-Tm-Sr-Ti-Hf-Ir-Nb-Pd-Hg-Th-Np-Lu-Rh-Pu_mean_67', 'features.amd_Cu-Mn-Ni-Mo-Fe-Pt-Zn-Ca-Er-Au-Cd-Co-Gd-Na-Sm-Eu-Tb-V-Ag-Nd-U-Ba-Ce-K-Ga-Cr-Al-Li-Sc-Ru-In-Mg-Zr-Dy-W-Yb-Y-Ho-Re-Be-Rb-La-Sn-Cs-Pb-Pr-Bi-Tm-Sr-Ti-Hf-Ir-Nb-Pd-Hg-Th-Np-Lu-Rh-Pu_mean_68', 'features.amd_Cu-Mn-Ni-Mo-Fe-Pt-Zn-Ca-Er-Au-Cd-Co-Gd-Na-Sm-Eu-Tb-V-Ag-Nd-U-Ba-Ce-K-Ga-Cr-Al-Li-Sc-Ru-In-Mg-Zr-Dy-W-Yb-Y-Ho-Re-Be-Rb-La-Sn-Cs-Pb-Pr-Bi-Tm-Sr-Ti-Hf-Ir-Nb-Pd-Hg-Th-Np-Lu-Rh-Pu_mean_69', 'features.amd_Cu-Mn-Ni-Mo-Fe-Pt-Zn-Ca-Er-Au-Cd-Co-Gd-Na-Sm-Eu-Tb-V-Ag-Nd-U-Ba-Ce-K-Ga-Cr-Al-Li-Sc-Ru-In-Mg-Zr-Dy-W-Yb-Y-Ho-Re-Be-Rb-La-Sn-Cs-Pb-Pr-Bi-Tm-Sr-Ti-Hf-Ir-Nb-Pd-Hg-Th-Np-Lu-Rh-Pu_mean_70', 'features.amd_Cu-Mn-Ni-Mo-Fe-Pt-Zn-Ca-Er-Au-Cd-Co-Gd-Na-Sm-Eu-Tb-V-Ag-Nd-U-Ba-Ce-K-Ga-Cr-Al-Li-Sc-Ru-In-Mg-Zr-Dy-W-Yb-Y-Ho-Re-Be-Rb-La-Sn-Cs-Pb-Pr-Bi-Tm-Sr-Ti-Hf-Ir-Nb-Pd-Hg-Th-Np-Lu-Rh-Pu_mean_71', 'features.amd_Cu-Mn-Ni-Mo-Fe-Pt-Zn-Ca-Er-Au-Cd-Co-Gd-Na-Sm-Eu-Tb-V-Ag-Nd-U-Ba-Ce-K-Ga-Cr-Al-Li-Sc-Ru-In-Mg-Zr-Dy-W-Yb-Y-Ho-Re-Be-Rb-La-Sn-Cs-Pb-Pr-Bi-Tm-Sr-Ti-Hf-Ir-Nb-Pd-Hg-Th-Np-Lu-Rh-Pu_mean_72', 'features.amd_Cu-Mn-Ni-Mo-Fe-Pt-Zn-Ca-Er-Au-Cd-Co-Gd-Na-Sm-Eu-Tb-V-Ag-Nd-U-Ba-Ce-K-Ga-Cr-Al-Li-Sc-Ru-In-Mg-Zr-Dy-W-Yb-Y-Ho-Re-Be-Rb-La-Sn-Cs-Pb-Pr-Bi-Tm-Sr-Ti-Hf-Ir-Nb-Pd-Hg-Th-Np-Lu-Rh-Pu_mean_73', 'features.amd_Cu-Mn-Ni-Mo-Fe-Pt-Zn-Ca-Er-Au-Cd-Co-Gd-Na-Sm-Eu-Tb-V-Ag-Nd-U-Ba-Ce-K-Ga-Cr-Al-Li-Sc-Ru-In-Mg-Zr-Dy-W-Yb-Y-Ho-Re-Be-Rb-La-Sn-Cs-Pb-Pr-Bi-Tm-Sr-Ti-Hf-Ir-Nb-Pd-Hg-Th-Np-Lu-Rh-Pu_mean_74', 'features.amd_Cu-Mn-Ni-Mo-Fe-Pt-Zn-Ca-Er-Au-Cd-Co-Gd-Na-Sm-Eu-Tb-V-Ag-Nd-U-Ba-Ce-K-Ga-Cr-Al-Li-Sc-Ru-In-Mg-Zr-Dy-W-Yb-Y-Ho-Re-Be-Rb-La-Sn-Cs-Pb-Pr-Bi-Tm-Sr-Ti-Hf-Ir-Nb-Pd-Hg-Th-Np-Lu-Rh-Pu_mean_75', 'features.amd_Cu-Mn-Ni-Mo-Fe-Pt-Zn-Ca-Er-Au-Cd-Co-Gd-Na-Sm-Eu-Tb-V-Ag-Nd-U-Ba-Ce-K-Ga-Cr-Al-Li-Sc-Ru-In-Mg-Zr-Dy-W-Yb-Y-Ho-Re-Be-Rb-La-Sn-Cs-Pb-Pr-Bi-Tm-Sr-Ti-Hf-Ir-Nb-Pd-Hg-Th-Np-Lu-Rh-Pu_mean_76', 'features.amd_Cu-Mn-Ni-Mo-Fe-Pt-Zn-Ca-Er-Au-Cd-Co-Gd-Na-Sm-Eu-Tb-V-Ag-Nd-U-Ba-Ce-K-Ga-Cr-Al-Li-Sc-Ru-In-Mg-Zr-Dy-W-Yb-Y-Ho-Re-Be-Rb-La-Sn-Cs-Pb-Pr-Bi-Tm-Sr-Ti-Hf-Ir-Nb-Pd-Hg-Th-Np-Lu-Rh-Pu_mean_77', 'features.amd_Cu-Mn-Ni-Mo-Fe-Pt-Zn-Ca-Er-Au-Cd-Co-Gd-Na-Sm-Eu-Tb-V-Ag-Nd-U-Ba-Ce-K-Ga-Cr-Al-Li-Sc-Ru-In-Mg-Zr-Dy-W-Yb-Y-Ho-Re-Be-Rb-La-Sn-Cs-Pb-Pr-Bi-Tm-Sr-Ti-Hf-Ir-Nb-Pd-Hg-Th-Np-Lu-Rh-Pu_mean_78', 'features.amd_Cu-Mn-Ni-Mo-Fe-Pt-Zn-Ca-Er-Au-Cd-Co-Gd-Na-Sm-Eu-Tb-V-Ag-Nd-U-Ba-Ce-K-Ga-Cr-Al-Li-Sc-Ru-In-Mg-Zr-Dy-W-Yb-Y-Ho-Re-Be-Rb-La-Sn-Cs-Pb-Pr-Bi-Tm-Sr-Ti-Hf-Ir-Nb-Pd-Hg-Th-Np-Lu-Rh-Pu_mean_79', 'features.amd_Cu-Mn-Ni-Mo-Fe-Pt-Zn-Ca-Er-Au-Cd-Co-Gd-Na-Sm-Eu-Tb-V-Ag-Nd-U-Ba-Ce-K-Ga-Cr-Al-Li-Sc-Ru-In-Mg-Zr-Dy-W-Yb-Y-Ho-Re-Be-Rb-La-Sn-Cs-Pb-Pr-Bi-Tm-Sr-Ti-Hf-Ir-Nb-Pd-Hg-Th-Np-Lu-Rh-Pu_mean_80', 'features.amd_Cu-Mn-Ni-Mo-Fe-Pt-Zn-Ca-Er-Au-Cd-Co-Gd-Na-Sm-Eu-Tb-V-Ag-Nd-U-Ba-Ce-K-Ga-Cr-Al-Li-Sc-Ru-In-Mg-Zr-Dy-W-Yb-Y-Ho-Re-Be-Rb-La-Sn-Cs-Pb-Pr-Bi-Tm-Sr-Ti-Hf-Ir-Nb-Pd-Hg-Th-Np-Lu-Rh-Pu_mean_81', 'features.amd_Cu-Mn-Ni-Mo-Fe-Pt-Zn-Ca-Er-Au-Cd-Co-Gd-Na-Sm-Eu-Tb-V-Ag-Nd-U-Ba-Ce-K-Ga-Cr-Al-Li-Sc-Ru-In-Mg-Zr-Dy-W-Yb-Y-Ho-Re-Be-Rb-La-Sn-Cs-Pb-Pr-Bi-Tm-Sr-Ti-Hf-Ir-Nb-Pd-Hg-Th-Np-Lu-Rh-Pu_mean_82', 'features.amd_Cu-Mn-Ni-Mo-Fe-Pt-Zn-Ca-Er-Au-Cd-Co-Gd-Na-Sm-Eu-Tb-V-Ag-Nd-U-Ba-Ce-K-Ga-Cr-Al-Li-Sc-Ru-In-Mg-Zr-Dy-W-Yb-Y-Ho-Re-Be-Rb-La-Sn-Cs-Pb-Pr-Bi-Tm-Sr-Ti-Hf-Ir-Nb-Pd-Hg-Th-Np-Lu-Rh-Pu_mean_83', 'features.amd_Cu-Mn-Ni-Mo-Fe-Pt-Zn-Ca-Er-Au-Cd-Co-Gd-Na-Sm-Eu-Tb-V-Ag-Nd-U-Ba-Ce-K-Ga-Cr-Al-Li-Sc-Ru-In-Mg-Zr-Dy-W-Yb-Y-Ho-Re-Be-Rb-La-Sn-Cs-Pb-Pr-Bi-Tm-Sr-Ti-Hf-Ir-Nb-Pd-Hg-Th-Np-Lu-Rh-Pu_mean_84', 'features.amd_Cu-Mn-Ni-Mo-Fe-Pt-Zn-Ca-Er-Au-Cd-Co-Gd-Na-Sm-Eu-Tb-V-Ag-Nd-U-Ba-Ce-K-Ga-Cr-Al-Li-Sc-Ru-In-Mg-Zr-Dy-W-Yb-Y-Ho-Re-Be-Rb-La-Sn-Cs-Pb-Pr-Bi-Tm-Sr-Ti-Hf-Ir-Nb-Pd-Hg-Th-Np-Lu-Rh-Pu_mean_85', 'features.amd_Cu-Mn-Ni-Mo-Fe-Pt-Zn-Ca-Er-Au-Cd-Co-Gd-Na-Sm-Eu-Tb-V-Ag-Nd-U-Ba-Ce-K-Ga-Cr-Al-Li-Sc-Ru-In-Mg-Zr-Dy-W-Yb-Y-Ho-Re-Be-Rb-La-Sn-Cs-Pb-Pr-Bi-Tm-Sr-Ti-Hf-Ir-Nb-Pd-Hg-Th-Np-Lu-Rh-Pu_mean_86', 'features.amd_Cu-Mn-Ni-Mo-Fe-Pt-Zn-Ca-Er-Au-Cd-Co-Gd-Na-Sm-Eu-Tb-V-Ag-Nd-U-Ba-Ce-K-Ga-Cr-Al-Li-Sc-Ru-In-Mg-Zr-Dy-W-Yb-Y-Ho-Re-Be-Rb-La-Sn-Cs-Pb-Pr-Bi-Tm-Sr-Ti-Hf-Ir-Nb-Pd-Hg-Th-Np-Lu-Rh-Pu_mean_87', 'features.amd_Cu-Mn-Ni-Mo-Fe-Pt-Zn-Ca-Er-Au-Cd-Co-Gd-Na-Sm-Eu-Tb-V-Ag-Nd-U-Ba-Ce-K-Ga-Cr-Al-Li-Sc-Ru-In-Mg-Zr-Dy-W-Yb-Y-Ho-Re-Be-Rb-La-Sn-Cs-Pb-Pr-Bi-Tm-Sr-Ti-Hf-Ir-Nb-Pd-Hg-Th-Np-Lu-Rh-Pu_mean_88', 'features.amd_Cu-Mn-Ni-Mo-Fe-Pt-Zn-Ca-Er-Au-Cd-Co-Gd-Na-Sm-Eu-Tb-V-Ag-Nd-U-Ba-Ce-K-Ga-Cr-Al-Li-Sc-Ru-In-Mg-Zr-Dy-W-Yb-Y-Ho-Re-Be-Rb-La-Sn-Cs-Pb-Pr-Bi-Tm-Sr-Ti-Hf-Ir-Nb-Pd-Hg-Th-Np-Lu-Rh-Pu_mean_89', 'features.amd_Cu-Mn-Ni-Mo-Fe-Pt-Zn-Ca-Er-Au-Cd-Co-Gd-Na-Sm-Eu-Tb-V-Ag-Nd-U-Ba-Ce-K-Ga-Cr-Al-Li-Sc-Ru-In-Mg-Zr-Dy-W-Yb-Y-Ho-Re-Be-Rb-La-Sn-Cs-Pb-Pr-Bi-Tm-Sr-Ti-Hf-Ir-Nb-Pd-Hg-Th-Np-Lu-Rh-Pu_mean_90', 'features.amd_Cu-Mn-Ni-Mo-Fe-Pt-Zn-Ca-Er-Au-Cd-Co-Gd-Na-Sm-Eu-Tb-V-Ag-Nd-U-Ba-Ce-K-Ga-Cr-Al-Li-Sc-Ru-In-Mg-Zr-Dy-W-Yb-Y-Ho-Re-Be-Rb-La-Sn-Cs-Pb-Pr-Bi-Tm-Sr-Ti-Hf-Ir-Nb-Pd-Hg-Th-Np-Lu-Rh-Pu_mean_91', 'features.amd_Cu-Mn-Ni-Mo-Fe-Pt-Zn-Ca-Er-Au-Cd-Co-Gd-Na-Sm-Eu-Tb-V-Ag-Nd-U-Ba-Ce-K-Ga-Cr-Al-Li-Sc-Ru-In-Mg-Zr-Dy-W-Yb-Y-Ho-Re-Be-Rb-La-Sn-Cs-Pb-Pr-Bi-Tm-Sr-Ti-Hf-Ir-Nb-Pd-Hg-Th-Np-Lu-Rh-Pu_mean_92', 'features.amd_Cu-Mn-Ni-Mo-Fe-Pt-Zn-Ca-Er-Au-Cd-Co-Gd-Na-Sm-Eu-Tb-V-Ag-Nd-U-Ba-Ce-K-Ga-Cr-Al-Li-Sc-Ru-In-Mg-Zr-Dy-W-Yb-Y-Ho-Re-Be-Rb-La-Sn-Cs-Pb-Pr-Bi-Tm-Sr-Ti-Hf-Ir-Nb-Pd-Hg-Th-Np-Lu-Rh-Pu_mean_93', 'features.amd_Cu-Mn-Ni-Mo-Fe-Pt-Zn-Ca-Er-Au-Cd-Co-Gd-Na-Sm-Eu-Tb-V-Ag-Nd-U-Ba-Ce-K-Ga-Cr-Al-Li-Sc-Ru-In-Mg-Zr-Dy-W-Yb-Y-Ho-Re-Be-Rb-La-Sn-Cs-Pb-Pr-Bi-Tm-Sr-Ti-Hf-Ir-Nb-Pd-Hg-Th-Np-Lu-Rh-Pu_mean_94', 'features.amd_Cu-Mn-Ni-Mo-Fe-Pt-Zn-Ca-Er-Au-Cd-Co-Gd-Na-Sm-Eu-Tb-V-Ag-Nd-U-Ba-Ce-K-Ga-Cr-Al-Li-Sc-Ru-In-Mg-Zr-Dy-W-Yb-Y-Ho-Re-Be-Rb-La-Sn-Cs-Pb-Pr-Bi-Tm-Sr-Ti-Hf-Ir-Nb-Pd-Hg-Th-Np-Lu-Rh-Pu_mean_95', 'features.amd_Cu-Mn-Ni-Mo-Fe-Pt-Zn-Ca-Er-Au-Cd-Co-Gd-Na-Sm-Eu-Tb-V-Ag-Nd-U-Ba-Ce-K-Ga-Cr-Al-Li-Sc-Ru-In-Mg-Zr-Dy-W-Yb-Y-Ho-Re-Be-Rb-La-Sn-Cs-Pb-Pr-Bi-Tm-Sr-Ti-Hf-Ir-Nb-Pd-Hg-Th-Np-Lu-Rh-Pu_mean_96', 'features.amd_Cu-Mn-Ni-Mo-Fe-Pt-Zn-Ca-Er-Au-Cd-Co-Gd-Na-Sm-Eu-Tb-V-Ag-Nd-U-Ba-Ce-K-Ga-Cr-Al-Li-Sc-Ru-In-Mg-Zr-Dy-W-Yb-Y-Ho-Re-Be-Rb-La-Sn-Cs-Pb-Pr-Bi-Tm-Sr-Ti-Hf-Ir-Nb-Pd-Hg-Th-Np-Lu-Rh-Pu_mean_97', 'features.amd_Cu-Mn-Ni-Mo-Fe-Pt-Zn-Ca-Er-Au-Cd-Co-Gd-Na-Sm-Eu-Tb-V-Ag-Nd-U-Ba-Ce-K-Ga-Cr-Al-Li-Sc-Ru-In-Mg-Zr-Dy-W-Yb-Y-Ho-Re-Be-Rb-La-Sn-Cs-Pb-Pr-Bi-Tm-Sr-Ti-Hf-Ir-Nb-Pd-Hg-Th-Np-Lu-Rh-Pu_mean_98', 'features.amd_Cu-Mn-Ni-Mo-Fe-Pt-Zn-Ca-Er-Au-Cd-Co-Gd-Na-Sm-Eu-Tb-V-Ag-Nd-U-Ba-Ce-K-Ga-Cr-Al-Li-Sc-Ru-In-Mg-Zr-Dy-W-Yb-Y-Ho-Re-Be-Rb-La-Sn-Cs-Pb-Pr-Bi-Tm-Sr-Ti-Hf-Ir-Nb-Pd-Hg-Th-Np-Lu-Rh-Pu_mean_99', 'features.amd_all_mean_0', 'features.amd_all_mean_1', 'features.amd_all_mean_2', 'features.amd_all_mean_3', 'features.amd_all_mean_4', 'features.amd_all_mean_5', 'features.amd_all_mean_6', 'features.amd_all_mean_7', 'features.amd_all_mean_8', 'features.amd_all_mean_9', 'features.amd_all_mean_10', 'features.amd_all_mean_11', 'features.amd_all_mean_12', 'features.amd_all_mean_13', 'features.amd_all_mean_14', 'features.amd_all_mean_15', 'features.amd_all_mean_16', 'features.amd_all_mean_17', 'features.amd_all_mean_18', 'features.amd_all_mean_19', 'features.amd_all_mean_20', 'features.amd_all_mean_21', 'features.amd_all_mean_22', 'features.amd_all_mean_23', 'features.amd_all_mean_24', 'features.amd_all_mean_25', 'features.amd_all_mean_26', 'features.amd_all_mean_27', 'features.amd_all_mean_28', 'features.amd_all_mean_29', 'features.amd_all_mean_30', 'features.amd_all_mean_31', 'features.amd_all_mean_32', 'features.amd_all_mean_33', 'features.amd_all_mean_34', 'features.amd_all_mean_35', 'features.amd_all_mean_36', 'features.amd_all_mean_37', 'features.amd_all_mean_38', 'features.amd_all_mean_39', 'features.amd_all_mean_40', 'features.amd_all_mean_41', 'features.amd_all_mean_42', 'features.amd_all_mean_43', 'features.amd_all_mean_44', 'features.amd_all_mean_45', 'features.amd_all_mean_46', 'features.amd_all_mean_47', 'features.amd_all_mean_48', 'features.amd_all_mean_49', 'features.amd_all_mean_50', 'features.amd_all_mean_51', 'features.amd_all_mean_52', 'features.amd_all_mean_53', 'features.amd_all_mean_54', 'features.amd_all_mean_55', 'features.amd_all_mean_56', 'features.amd_all_mean_57', 'features.amd_all_mean_58', 'features.amd_all_mean_59', 'features.amd_all_mean_60', 'features.amd_all_mean_61', 'features.amd_all_mean_62', 'features.amd_all_mean_63', 'features.amd_all_mean_64', 'features.amd_all_mean_65', 'features.amd_all_mean_66', 'features.amd_all_mean_67', 'features.amd_all_mean_68', 'features.amd_all_mean_69', 'features.amd_all_mean_70', 'features.amd_all_mean_71', 'features.amd_all_mean_72', 'features.amd_all_mean_73', 'features.amd_all_mean_74', 'features.amd_all_mean_75', 'features.amd_all_mean_76', 'features.amd_all_mean_77', 'features.amd_all_mean_78', 'features.amd_all_mean_79', 'features.amd_all_mean_80', 'features.amd_all_mean_81', 'features.amd_all_mean_82', 'features.amd_all_mean_83', 'features.amd_all_mean_84', 'features.amd_all_mean_85', 'features.amd_all_mean_86', 'features.amd_all_mean_87', 'features.amd_all_mean_88', 'features.amd_all_mean_89', 'features.amd_all_mean_90', 'features.amd_all_mean_91', 'features.amd_all_mean_92', 'features.amd_all_mean_93', 'features.amd_all_mean_94', 'features.amd_all_mean_95', 'features.amd_all_mean_96', 'features.amd_all_mean_97', 'features.amd_all_mean_98', 'features.amd_all_mean_99'])"
      ]
     },
     "execution_count": 46,
     "metadata": {},
     "output_type": "execute_result"
    }
   ],
   "source": [
    "data.keys()"
   ]
  },
  {
   "cell_type": "code",
   "execution_count": 51,
   "metadata": {},
   "outputs": [
    {
     "data": {
      "text/plain": [
       "0"
      ]
     },
     "execution_count": 51,
     "metadata": {},
     "output_type": "execute_result"
    }
   ],
   "source": [
    "sum(subdf['info.density'].isna())"
   ]
  },
  {
   "cell_type": "code",
   "execution_count": null,
   "metadata": {},
   "outputs": [],
   "source": []
  }
 ],
 "metadata": {
  "kernelspec": {
   "display_name": "mofgraph2vec",
   "language": "python",
   "name": "python3"
  },
  "language_info": {
   "codemirror_mode": {
    "name": "ipython",
    "version": 3
   },
   "file_extension": ".py",
   "mimetype": "text/x-python",
   "name": "python",
   "nbconvert_exporter": "python",
   "pygments_lexer": "ipython3",
   "version": "3.8.16"
  },
  "orig_nbformat": 4,
  "vscode": {
   "interpreter": {
    "hash": "368a83da866b9402d886ea1b61fd69704c8f3d8a9de7c33a5da24e5026c853b5"
   }
  }
 },
 "nbformat": 4,
 "nbformat_minor": 2
}
