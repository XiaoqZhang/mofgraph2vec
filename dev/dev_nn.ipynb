{
 "cells": [
  {
   "cell_type": "code",
   "execution_count": 1,
   "metadata": {},
   "outputs": [],
   "source": [
    "%load_ext autoreload\n",
    "%autoreload 2"
   ]
  },
  {
   "cell_type": "code",
   "execution_count": 2,
   "metadata": {},
   "outputs": [],
   "source": [
    "import pandas as pd\n",
    "import numpy as np\n",
    "import os\n",
    "import torch\n",
    "from omegaconf import OmegaConf\n",
    "from sklearn.model_selection import train_test_split\n",
    "import matplotlib.pyplot  as plt\n",
    "from hydra.utils import instantiate\n",
    "from mofgraph2vec.data.datamodule import DataModuleFactory"
   ]
  },
  {
   "cell_type": "code",
   "execution_count": 3,
   "metadata": {},
   "outputs": [],
   "source": [
    "conf_doc2label_data = OmegaConf.load(\"../conf/doc2label_data/rsm.yaml\")\n",
    "conf_doc2label_data.label_path = \"../data/data.csv\"\n",
    "conf_doc2label_data.embedding_path = \"../data/embedding_example/embedding-dv.csv\""
   ]
  },
  {
   "cell_type": "code",
   "execution_count": 4,
   "metadata": {},
   "outputs": [
    {
     "name": "stderr",
     "output_type": "stream",
     "text": [
      "2023-03-08 18:49:19.490 | INFO     | mofgraph2vec.data.datamodule:__init__:65 - Train: 2637 Valid: 294 Test: 326\n"
     ]
    }
   ],
   "source": [
    "dmf = DataModuleFactory(**conf_doc2label_data)"
   ]
  },
  {
   "cell_type": "code",
   "execution_count": 5,
   "metadata": {},
   "outputs": [],
   "source": [
    "dm = dmf.get_datamodule()"
   ]
  },
  {
   "cell_type": "code",
   "execution_count": 6,
   "metadata": {},
   "outputs": [],
   "source": [
    "from mofgraph2vec.model.vecnn import VecModel\n",
    "from mofgraph2vec.model.nn_lightning import VecLightningModule"
   ]
  },
  {
   "cell_type": "code",
   "execution_count": 4,
   "metadata": {},
   "outputs": [],
   "source": [
    "model_conf = OmegaConf.load(\"../conf/doc2label_model/deep.yaml\")\n",
    "trainer_conf = OmegaConf.load(\"../conf/trainer/default.yaml\")\n",
    "model_conf.nn.input_dim = 500\n",
    "trainer_conf.max_epochs = 50"
   ]
  },
  {
   "cell_type": "code",
   "execution_count": 8,
   "metadata": {},
   "outputs": [
    {
     "name": "stderr",
     "output_type": "stream",
     "text": [
      "/Users/xiaoqi/opt/anaconda3/envs/mofgraph2vec/lib/python3.8/site-packages/pytorch_lightning/utilities/parsing.py:262: UserWarning: Attribute 'model' is an instance of `nn.Module` and is already saved during checkpointing. It is recommended to ignore them using `self.save_hyperparameters(ignore=['model'])`.\n",
      "  rank_zero_warn(\n",
      "GPU available: False, used: False\n",
      "TPU available: False, using: 0 TPU cores\n",
      "IPU available: False, using: 0 IPUs\n",
      "HPU available: False, using: 0 HPUs\n",
      "/Users/xiaoqi/opt/anaconda3/envs/mofgraph2vec/lib/python3.8/site-packages/pytorch_lightning/trainer/connectors/logger_connector/logger_connector.py:67: UserWarning: Starting from v1.9.0, `tensorboardX` has been removed as a dependency of the `pytorch_lightning` package, due to potential conflicts with other packages in the ML ecosystem. For this reason, `logger=True` will use `CSVLogger` as the default logger, unless the `tensorboard` or `tensorboardX` packages are found. Please `pip install lightning[extra]` or one of them to enable TensorBoard support by default\n",
      "  warning_cache.warn(\n"
     ]
    }
   ],
   "source": [
    "pl_model = VecLightningModule(instantiate(model_conf.nn), \"mse\", 1e-4)\n",
    "trainer = instantiate(trainer_conf)"
   ]
  },
  {
   "cell_type": "code",
   "execution_count": 61,
   "metadata": {},
   "outputs": [
    {
     "data": {
      "text/plain": [
       "{}"
      ]
     },
     "execution_count": 61,
     "metadata": {},
     "output_type": "execute_result"
    }
   ],
   "source": [
    "trainer.tune(pl_model, datamodule=dm)"
   ]
  },
  {
   "cell_type": "code",
   "execution_count": 9,
   "metadata": {},
   "outputs": [
    {
     "name": "stderr",
     "output_type": "stream",
     "text": [
      "\n",
      "  | Name    | Type     | Params\n",
      "-------------------------------------\n",
      "0 | model   | VecModel | 397 K \n",
      "1 | loss    | MSELoss  | 0     \n",
      "2 | dropout | Dropout  | 0     \n",
      "-------------------------------------\n",
      "397 K     Trainable params\n",
      "0         Non-trainable params\n",
      "397 K     Total params\n",
      "1.589     Total estimated model params size (MB)\n"
     ]
    },
    {
     "data": {
      "application/vnd.jupyter.widget-view+json": {
       "model_id": "893de1368bfc40d98f8850dd039f71a4",
       "version_major": 2,
       "version_minor": 0
      },
      "text/plain": [
       "Sanity Checking: 0it [00:00, ?it/s]"
      ]
     },
     "metadata": {},
     "output_type": "display_data"
    },
    {
     "name": "stderr",
     "output_type": "stream",
     "text": [
      "/Users/xiaoqi/opt/anaconda3/envs/mofgraph2vec/lib/python3.8/site-packages/pytorch_lightning/trainer/connectors/data_connector.py:224: PossibleUserWarning: The dataloader, val_dataloader 0, does not have many workers which may be a bottleneck. Consider increasing the value of the `num_workers` argument` (try 8 which is the number of cpus on this machine) in the `DataLoader` init to improve performance.\n",
      "  rank_zero_warn(\n",
      "/Users/xiaoqi/opt/anaconda3/envs/mofgraph2vec/lib/python3.8/site-packages/pytorch_lightning/trainer/connectors/data_connector.py:224: PossibleUserWarning: The dataloader, train_dataloader, does not have many workers which may be a bottleneck. Consider increasing the value of the `num_workers` argument` (try 8 which is the number of cpus on this machine) in the `DataLoader` init to improve performance.\n",
      "  rank_zero_warn(\n",
      "/Users/xiaoqi/opt/anaconda3/envs/mofgraph2vec/lib/python3.8/site-packages/pytorch_lightning/trainer/trainer.py:1600: PossibleUserWarning: The number of training batches (42) is smaller than the logging interval Trainer(log_every_n_steps=50). Set a lower value for log_every_n_steps if you want to see logs for the training epoch.\n",
      "  rank_zero_warn(\n"
     ]
    },
    {
     "data": {
      "application/vnd.jupyter.widget-view+json": {
       "model_id": "12008f6a1f8d475caeca1c9aa0634d27",
       "version_major": 2,
       "version_minor": 0
      },
      "text/plain": [
       "Training: 0it [00:00, ?it/s]"
      ]
     },
     "metadata": {},
     "output_type": "display_data"
    },
    {
     "name": "stderr",
     "output_type": "stream",
     "text": [
      "2023-03-08 18:49:28.183 | INFO     | mofgraph2vec.model.nn_lightning:training_step:37 - The training loss at this step is 12.266633987426758\n",
      "2023-03-08 18:49:28.313 | INFO     | mofgraph2vec.model.nn_lightning:training_step:37 - The training loss at this step is 12.61437702178955\n",
      "2023-03-08 18:49:28.325 | INFO     | mofgraph2vec.model.nn_lightning:training_step:37 - The training loss at this step is 12.802776336669922\n",
      "2023-03-08 18:49:28.338 | INFO     | mofgraph2vec.model.nn_lightning:training_step:37 - The training loss at this step is 12.588109970092773\n",
      "2023-03-08 18:49:28.351 | INFO     | mofgraph2vec.model.nn_lightning:training_step:37 - The training loss at this step is 12.768336296081543\n",
      "2023-03-08 18:49:28.363 | INFO     | mofgraph2vec.model.nn_lightning:training_step:37 - The training loss at this step is 12.403244018554688\n",
      "2023-03-08 18:49:28.378 | INFO     | mofgraph2vec.model.nn_lightning:training_step:37 - The training loss at this step is 12.091667175292969\n",
      "2023-03-08 18:49:28.395 | INFO     | mofgraph2vec.model.nn_lightning:training_step:37 - The training loss at this step is 12.719249725341797\n",
      "2023-03-08 18:49:28.436 | INFO     | mofgraph2vec.model.nn_lightning:training_step:37 - The training loss at this step is 13.476434707641602\n",
      "2023-03-08 18:49:28.455 | INFO     | mofgraph2vec.model.nn_lightning:training_step:37 - The training loss at this step is 13.825845718383789\n",
      "2023-03-08 18:49:28.470 | INFO     | mofgraph2vec.model.nn_lightning:training_step:37 - The training loss at this step is 12.461040496826172\n",
      "2023-03-08 18:49:28.485 | INFO     | mofgraph2vec.model.nn_lightning:training_step:37 - The training loss at this step is 13.334626197814941\n",
      "2023-03-08 18:49:28.517 | INFO     | mofgraph2vec.model.nn_lightning:training_step:37 - The training loss at this step is 13.137417793273926\n",
      "2023-03-08 18:49:28.534 | INFO     | mofgraph2vec.model.nn_lightning:training_step:37 - The training loss at this step is 12.069475173950195\n",
      "2023-03-08 18:49:28.549 | INFO     | mofgraph2vec.model.nn_lightning:training_step:37 - The training loss at this step is 12.343985557556152\n",
      "2023-03-08 18:49:28.561 | INFO     | mofgraph2vec.model.nn_lightning:training_step:37 - The training loss at this step is 11.866366386413574\n",
      "2023-03-08 18:49:28.574 | INFO     | mofgraph2vec.model.nn_lightning:training_step:37 - The training loss at this step is 13.370307922363281\n",
      "2023-03-08 18:49:28.588 | INFO     | mofgraph2vec.model.nn_lightning:training_step:37 - The training loss at this step is 11.687427520751953\n",
      "2023-03-08 18:49:28.602 | INFO     | mofgraph2vec.model.nn_lightning:training_step:37 - The training loss at this step is 13.227620124816895\n",
      "2023-03-08 18:49:28.614 | INFO     | mofgraph2vec.model.nn_lightning:training_step:37 - The training loss at this step is 12.636114120483398\n",
      "2023-03-08 18:49:28.625 | INFO     | mofgraph2vec.model.nn_lightning:training_step:37 - The training loss at this step is 12.150607109069824\n",
      "2023-03-08 18:49:28.638 | INFO     | mofgraph2vec.model.nn_lightning:training_step:37 - The training loss at this step is 12.3740873336792\n",
      "2023-03-08 18:49:28.651 | INFO     | mofgraph2vec.model.nn_lightning:training_step:37 - The training loss at this step is 12.831830024719238\n",
      "2023-03-08 18:49:28.665 | INFO     | mofgraph2vec.model.nn_lightning:training_step:37 - The training loss at this step is 12.425549507141113\n",
      "2023-03-08 18:49:28.679 | INFO     | mofgraph2vec.model.nn_lightning:training_step:37 - The training loss at this step is 12.177936553955078\n",
      "2023-03-08 18:49:28.693 | INFO     | mofgraph2vec.model.nn_lightning:training_step:37 - The training loss at this step is 12.12845230102539\n",
      "2023-03-08 18:49:28.705 | INFO     | mofgraph2vec.model.nn_lightning:training_step:37 - The training loss at this step is 12.05535888671875\n",
      "2023-03-08 18:49:28.751 | INFO     | mofgraph2vec.model.nn_lightning:training_step:37 - The training loss at this step is 11.597701072692871\n",
      "2023-03-08 18:49:28.766 | INFO     | mofgraph2vec.model.nn_lightning:training_step:37 - The training loss at this step is 11.067878723144531\n",
      "2023-03-08 18:49:28.780 | INFO     | mofgraph2vec.model.nn_lightning:training_step:37 - The training loss at this step is 12.819851875305176\n",
      "2023-03-08 18:49:28.792 | INFO     | mofgraph2vec.model.nn_lightning:training_step:37 - The training loss at this step is 11.644829750061035\n",
      "2023-03-08 18:49:28.806 | INFO     | mofgraph2vec.model.nn_lightning:training_step:37 - The training loss at this step is 12.134398460388184\n",
      "2023-03-08 18:49:28.820 | INFO     | mofgraph2vec.model.nn_lightning:training_step:37 - The training loss at this step is 10.69549560546875\n",
      "2023-03-08 18:49:28.835 | INFO     | mofgraph2vec.model.nn_lightning:training_step:37 - The training loss at this step is 12.665247917175293\n",
      "2023-03-08 18:49:28.849 | INFO     | mofgraph2vec.model.nn_lightning:training_step:37 - The training loss at this step is 13.396774291992188\n",
      "2023-03-08 18:49:28.864 | INFO     | mofgraph2vec.model.nn_lightning:training_step:37 - The training loss at this step is 11.583314895629883\n",
      "2023-03-08 18:49:28.878 | INFO     | mofgraph2vec.model.nn_lightning:training_step:37 - The training loss at this step is 12.557479858398438\n",
      "2023-03-08 18:49:28.889 | INFO     | mofgraph2vec.model.nn_lightning:training_step:37 - The training loss at this step is 13.506854057312012\n",
      "2023-03-08 18:49:28.905 | INFO     | mofgraph2vec.model.nn_lightning:training_step:37 - The training loss at this step is 11.295762062072754\n",
      "2023-03-08 18:49:28.919 | INFO     | mofgraph2vec.model.nn_lightning:training_step:37 - The training loss at this step is 13.062261581420898\n",
      "2023-03-08 18:49:28.930 | INFO     | mofgraph2vec.model.nn_lightning:training_step:37 - The training loss at this step is 11.64932632446289\n",
      "2023-03-08 18:49:28.943 | INFO     | mofgraph2vec.model.nn_lightning:training_step:37 - The training loss at this step is 11.17007827758789\n"
     ]
    },
    {
     "data": {
      "application/vnd.jupyter.widget-view+json": {
       "model_id": "ac878e500b8947afb22b5ed02d3806ac",
       "version_major": 2,
       "version_minor": 0
      },
      "text/plain": [
       "Validation: 0it [00:00, ?it/s]"
      ]
     },
     "metadata": {},
     "output_type": "display_data"
    },
    {
     "name": "stderr",
     "output_type": "stream",
     "text": [
      "2023-03-08 18:49:32.314 | INFO     | mofgraph2vec.model.nn_lightning:training_step:37 - The training loss at this step is 12.3320894241333\n",
      "2023-03-08 18:49:32.328 | INFO     | mofgraph2vec.model.nn_lightning:training_step:37 - The training loss at this step is 12.008684158325195\n",
      "2023-03-08 18:49:32.340 | INFO     | mofgraph2vec.model.nn_lightning:training_step:37 - The training loss at this step is 12.470682144165039\n",
      "2023-03-08 18:49:32.352 | INFO     | mofgraph2vec.model.nn_lightning:training_step:37 - The training loss at this step is 10.639976501464844\n",
      "2023-03-08 18:49:32.366 | INFO     | mofgraph2vec.model.nn_lightning:training_step:37 - The training loss at this step is 12.095382690429688\n",
      "2023-03-08 18:49:32.379 | INFO     | mofgraph2vec.model.nn_lightning:training_step:37 - The training loss at this step is 12.021800994873047\n",
      "2023-03-08 18:49:32.395 | INFO     | mofgraph2vec.model.nn_lightning:training_step:37 - The training loss at this step is 10.979324340820312\n",
      "2023-03-08 18:49:32.408 | INFO     | mofgraph2vec.model.nn_lightning:training_step:37 - The training loss at this step is 11.314558982849121\n",
      "2023-03-08 18:49:35.638 | INFO     | mofgraph2vec.model.nn_lightning:training_step:37 - The training loss at this step is 12.891979217529297\n",
      "2023-03-08 18:49:35.651 | INFO     | mofgraph2vec.model.nn_lightning:training_step:37 - The training loss at this step is 14.410124778747559\n",
      "2023-03-08 18:49:35.663 | INFO     | mofgraph2vec.model.nn_lightning:training_step:37 - The training loss at this step is 10.454773902893066\n",
      "2023-03-08 18:49:35.675 | INFO     | mofgraph2vec.model.nn_lightning:training_step:37 - The training loss at this step is 12.326297760009766\n",
      "2023-03-08 18:49:35.688 | INFO     | mofgraph2vec.model.nn_lightning:training_step:37 - The training loss at this step is 11.588706970214844\n",
      "2023-03-08 18:49:35.702 | INFO     | mofgraph2vec.model.nn_lightning:training_step:37 - The training loss at this step is 11.735069274902344\n",
      "2023-03-08 18:49:35.714 | INFO     | mofgraph2vec.model.nn_lightning:training_step:37 - The training loss at this step is 12.270715713500977\n",
      "2023-03-08 18:49:35.726 | INFO     | mofgraph2vec.model.nn_lightning:training_step:37 - The training loss at this step is 11.726973533630371\n",
      "2023-03-08 18:49:35.738 | INFO     | mofgraph2vec.model.nn_lightning:training_step:37 - The training loss at this step is 10.449630737304688\n",
      "2023-03-08 18:49:35.751 | INFO     | mofgraph2vec.model.nn_lightning:training_step:37 - The training loss at this step is 11.829645156860352\n",
      "2023-03-08 18:49:35.765 | INFO     | mofgraph2vec.model.nn_lightning:training_step:37 - The training loss at this step is 11.273247718811035\n",
      "2023-03-08 18:49:35.778 | INFO     | mofgraph2vec.model.nn_lightning:training_step:37 - The training loss at this step is 11.361719131469727\n",
      "2023-03-08 18:49:35.792 | INFO     | mofgraph2vec.model.nn_lightning:training_step:37 - The training loss at this step is 11.236735343933105\n",
      "2023-03-08 18:49:35.805 | INFO     | mofgraph2vec.model.nn_lightning:training_step:37 - The training loss at this step is 11.180127143859863\n",
      "2023-03-08 18:49:35.819 | INFO     | mofgraph2vec.model.nn_lightning:training_step:37 - The training loss at this step is 11.815582275390625\n",
      "2023-03-08 18:49:35.832 | INFO     | mofgraph2vec.model.nn_lightning:training_step:37 - The training loss at this step is 12.874338150024414\n",
      "2023-03-08 18:49:35.844 | INFO     | mofgraph2vec.model.nn_lightning:training_step:37 - The training loss at this step is 11.84294605255127\n",
      "2023-03-08 18:49:35.856 | INFO     | mofgraph2vec.model.nn_lightning:training_step:37 - The training loss at this step is 11.756974220275879\n",
      "2023-03-08 18:49:35.869 | INFO     | mofgraph2vec.model.nn_lightning:training_step:37 - The training loss at this step is 10.906126022338867\n",
      "2023-03-08 18:49:35.882 | INFO     | mofgraph2vec.model.nn_lightning:training_step:37 - The training loss at this step is 11.506694793701172\n",
      "2023-03-08 18:49:35.895 | INFO     | mofgraph2vec.model.nn_lightning:training_step:37 - The training loss at this step is 12.996380805969238\n",
      "2023-03-08 18:49:35.906 | INFO     | mofgraph2vec.model.nn_lightning:training_step:37 - The training loss at this step is 12.233589172363281\n",
      "2023-03-08 18:49:35.956 | INFO     | mofgraph2vec.model.nn_lightning:training_step:37 - The training loss at this step is 10.911620140075684\n",
      "2023-03-08 18:49:35.968 | INFO     | mofgraph2vec.model.nn_lightning:training_step:37 - The training loss at this step is 10.660400390625\n",
      "2023-03-08 18:49:35.982 | INFO     | mofgraph2vec.model.nn_lightning:training_step:37 - The training loss at this step is 12.057029724121094\n",
      "2023-03-08 18:49:35.995 | INFO     | mofgraph2vec.model.nn_lightning:training_step:37 - The training loss at this step is 12.125807762145996\n",
      "2023-03-08 18:49:36.005 | INFO     | mofgraph2vec.model.nn_lightning:training_step:37 - The training loss at this step is 10.872628211975098\n",
      "2023-03-08 18:49:36.018 | INFO     | mofgraph2vec.model.nn_lightning:training_step:37 - The training loss at this step is 10.766901016235352\n",
      "2023-03-08 18:49:36.041 | INFO     | mofgraph2vec.model.nn_lightning:training_step:37 - The training loss at this step is 12.323566436767578\n",
      "2023-03-08 18:49:36.062 | INFO     | mofgraph2vec.model.nn_lightning:training_step:37 - The training loss at this step is 11.221769332885742\n",
      "2023-03-08 18:49:36.073 | INFO     | mofgraph2vec.model.nn_lightning:training_step:37 - The training loss at this step is 11.13542652130127\n",
      "2023-03-08 18:49:36.084 | INFO     | mofgraph2vec.model.nn_lightning:training_step:37 - The training loss at this step is 12.054373741149902\n",
      "2023-03-08 18:49:36.097 | INFO     | mofgraph2vec.model.nn_lightning:training_step:37 - The training loss at this step is 10.963765144348145\n",
      "2023-03-08 18:49:36.106 | INFO     | mofgraph2vec.model.nn_lightning:training_step:37 - The training loss at this step is 9.493667602539062\n"
     ]
    },
    {
     "data": {
      "application/vnd.jupyter.widget-view+json": {
       "model_id": "a76021116fb74bc2be139bbaa3256c51",
       "version_major": 2,
       "version_minor": 0
      },
      "text/plain": [
       "Validation: 0it [00:00, ?it/s]"
      ]
     },
     "metadata": {},
     "output_type": "display_data"
    },
    {
     "name": "stderr",
     "output_type": "stream",
     "text": [
      "2023-03-08 18:49:39.435 | INFO     | mofgraph2vec.model.nn_lightning:training_step:37 - The training loss at this step is 11.117924690246582\n",
      "2023-03-08 18:49:39.446 | INFO     | mofgraph2vec.model.nn_lightning:training_step:37 - The training loss at this step is 10.246073722839355\n",
      "2023-03-08 18:49:39.458 | INFO     | mofgraph2vec.model.nn_lightning:training_step:37 - The training loss at this step is 10.641729354858398\n",
      "2023-03-08 18:49:39.472 | INFO     | mofgraph2vec.model.nn_lightning:training_step:37 - The training loss at this step is 11.425820350646973\n",
      "2023-03-08 18:49:39.484 | INFO     | mofgraph2vec.model.nn_lightning:training_step:37 - The training loss at this step is 10.82957935333252\n",
      "2023-03-08 18:49:39.498 | INFO     | mofgraph2vec.model.nn_lightning:training_step:37 - The training loss at this step is 11.721909523010254\n",
      "2023-03-08 18:49:39.511 | INFO     | mofgraph2vec.model.nn_lightning:training_step:37 - The training loss at this step is 11.713479995727539\n",
      "2023-03-08 18:49:39.523 | INFO     | mofgraph2vec.model.nn_lightning:training_step:37 - The training loss at this step is 11.049785614013672\n",
      "2023-03-08 18:49:39.538 | INFO     | mofgraph2vec.model.nn_lightning:training_step:37 - The training loss at this step is 10.185466766357422\n",
      "2023-03-08 18:49:39.577 | INFO     | mofgraph2vec.model.nn_lightning:training_step:37 - The training loss at this step is 10.531454086303711\n",
      "2023-03-08 18:49:39.595 | INFO     | mofgraph2vec.model.nn_lightning:training_step:37 - The training loss at this step is 9.627645492553711\n",
      "2023-03-08 18:49:39.605 | INFO     | mofgraph2vec.model.nn_lightning:training_step:37 - The training loss at this step is 9.975975036621094\n",
      "2023-03-08 18:49:39.618 | INFO     | mofgraph2vec.model.nn_lightning:training_step:37 - The training loss at this step is 9.901836395263672\n",
      "2023-03-08 18:49:39.632 | INFO     | mofgraph2vec.model.nn_lightning:training_step:37 - The training loss at this step is 11.042522430419922\n",
      "2023-03-08 18:49:39.645 | INFO     | mofgraph2vec.model.nn_lightning:training_step:37 - The training loss at this step is 8.990769386291504\n",
      "2023-03-08 18:49:39.657 | INFO     | mofgraph2vec.model.nn_lightning:training_step:37 - The training loss at this step is 9.733129501342773\n",
      "2023-03-08 18:49:46.138 | INFO     | mofgraph2vec.model.nn_lightning:training_step:37 - The training loss at this step is 9.470757484436035\n",
      "2023-03-08 18:49:46.151 | INFO     | mofgraph2vec.model.nn_lightning:training_step:37 - The training loss at this step is 10.275914192199707\n",
      "2023-03-08 18:49:46.165 | INFO     | mofgraph2vec.model.nn_lightning:training_step:37 - The training loss at this step is 8.142468452453613\n",
      "2023-03-08 18:49:46.177 | INFO     | mofgraph2vec.model.nn_lightning:training_step:37 - The training loss at this step is 9.8070068359375\n",
      "2023-03-08 18:49:46.193 | INFO     | mofgraph2vec.model.nn_lightning:training_step:37 - The training loss at this step is 9.403312683105469\n",
      "2023-03-08 18:49:46.208 | INFO     | mofgraph2vec.model.nn_lightning:training_step:37 - The training loss at this step is 8.661407470703125\n",
      "2023-03-08 18:49:46.222 | INFO     | mofgraph2vec.model.nn_lightning:training_step:37 - The training loss at this step is 8.171751976013184\n",
      "2023-03-08 18:49:46.237 | INFO     | mofgraph2vec.model.nn_lightning:training_step:37 - The training loss at this step is 9.18520736694336\n",
      "2023-03-08 18:49:46.250 | INFO     | mofgraph2vec.model.nn_lightning:training_step:37 - The training loss at this step is 8.735233306884766\n",
      "2023-03-08 18:49:46.292 | INFO     | mofgraph2vec.model.nn_lightning:training_step:37 - The training loss at this step is 7.560626029968262\n",
      "2023-03-08 18:49:46.311 | INFO     | mofgraph2vec.model.nn_lightning:training_step:37 - The training loss at this step is 8.598794937133789\n",
      "2023-03-08 18:49:46.322 | INFO     | mofgraph2vec.model.nn_lightning:training_step:37 - The training loss at this step is 7.358917236328125\n",
      "2023-03-08 18:49:46.334 | INFO     | mofgraph2vec.model.nn_lightning:training_step:37 - The training loss at this step is 7.576175689697266\n",
      "2023-03-08 18:49:46.346 | INFO     | mofgraph2vec.model.nn_lightning:training_step:37 - The training loss at this step is 8.517084121704102\n",
      "2023-03-08 18:49:46.359 | INFO     | mofgraph2vec.model.nn_lightning:training_step:37 - The training loss at this step is 8.467463493347168\n",
      "2023-03-08 18:49:46.376 | INFO     | mofgraph2vec.model.nn_lightning:training_step:37 - The training loss at this step is 7.368122100830078\n",
      "2023-03-08 18:49:46.388 | INFO     | mofgraph2vec.model.nn_lightning:training_step:37 - The training loss at this step is 7.075685024261475\n",
      "2023-03-08 18:49:46.403 | INFO     | mofgraph2vec.model.nn_lightning:training_step:37 - The training loss at this step is 5.739779949188232\n",
      "2023-03-08 18:49:46.416 | INFO     | mofgraph2vec.model.nn_lightning:training_step:37 - The training loss at this step is 6.92650032043457\n",
      "2023-03-08 18:49:46.429 | INFO     | mofgraph2vec.model.nn_lightning:training_step:37 - The training loss at this step is 6.268985748291016\n",
      "2023-03-08 18:49:46.439 | INFO     | mofgraph2vec.model.nn_lightning:training_step:37 - The training loss at this step is 4.811225414276123\n",
      "2023-03-08 18:49:46.452 | INFO     | mofgraph2vec.model.nn_lightning:training_step:37 - The training loss at this step is 5.173286437988281\n",
      "2023-03-08 18:49:46.465 | INFO     | mofgraph2vec.model.nn_lightning:training_step:37 - The training loss at this step is 6.885142803192139\n",
      "2023-03-08 18:49:46.478 | INFO     | mofgraph2vec.model.nn_lightning:training_step:37 - The training loss at this step is 5.679920196533203\n",
      "2023-03-08 18:49:46.490 | INFO     | mofgraph2vec.model.nn_lightning:training_step:37 - The training loss at this step is 4.603320121765137\n",
      "2023-03-08 18:49:46.503 | INFO     | mofgraph2vec.model.nn_lightning:training_step:37 - The training loss at this step is 4.999208450317383\n"
     ]
    },
    {
     "data": {
      "application/vnd.jupyter.widget-view+json": {
       "model_id": "736ac3ddbe544cf18717f6a934d39803",
       "version_major": 2,
       "version_minor": 0
      },
      "text/plain": [
       "Validation: 0it [00:00, ?it/s]"
      ]
     },
     "metadata": {},
     "output_type": "display_data"
    },
    {
     "name": "stderr",
     "output_type": "stream",
     "text": [
      "2023-03-08 18:49:49.942 | INFO     | mofgraph2vec.model.nn_lightning:training_step:37 - The training loss at this step is 4.1131415367126465\n",
      "2023-03-08 18:49:49.954 | INFO     | mofgraph2vec.model.nn_lightning:training_step:37 - The training loss at this step is 6.199859142303467\n",
      "2023-03-08 18:49:49.966 | INFO     | mofgraph2vec.model.nn_lightning:training_step:37 - The training loss at this step is 4.381200790405273\n",
      "2023-03-08 18:49:49.978 | INFO     | mofgraph2vec.model.nn_lightning:training_step:37 - The training loss at this step is 3.3414864540100098\n",
      "2023-03-08 18:49:49.990 | INFO     | mofgraph2vec.model.nn_lightning:training_step:37 - The training loss at this step is 5.463029861450195\n",
      "2023-03-08 18:49:50.001 | INFO     | mofgraph2vec.model.nn_lightning:training_step:37 - The training loss at this step is 7.041382312774658\n",
      "2023-03-08 18:49:50.013 | INFO     | mofgraph2vec.model.nn_lightning:training_step:37 - The training loss at this step is 3.387281656265259\n",
      "2023-03-08 18:49:50.024 | INFO     | mofgraph2vec.model.nn_lightning:training_step:37 - The training loss at this step is 3.354097366333008\n",
      "2023-03-08 18:49:50.035 | INFO     | mofgraph2vec.model.nn_lightning:training_step:37 - The training loss at this step is 3.5792694091796875\n",
      "2023-03-08 18:49:50.048 | INFO     | mofgraph2vec.model.nn_lightning:training_step:37 - The training loss at this step is 3.369201421737671\n",
      "2023-03-08 18:49:50.061 | INFO     | mofgraph2vec.model.nn_lightning:training_step:37 - The training loss at this step is 3.477224826812744\n",
      "2023-03-08 18:49:50.107 | INFO     | mofgraph2vec.model.nn_lightning:training_step:37 - The training loss at this step is 3.074371099472046\n",
      "2023-03-08 18:49:50.120 | INFO     | mofgraph2vec.model.nn_lightning:training_step:37 - The training loss at this step is 4.561464309692383\n",
      "2023-03-08 18:49:50.132 | INFO     | mofgraph2vec.model.nn_lightning:training_step:37 - The training loss at this step is 3.7925467491149902\n",
      "2023-03-08 18:49:50.144 | INFO     | mofgraph2vec.model.nn_lightning:training_step:37 - The training loss at this step is 2.662447929382324\n",
      "2023-03-08 18:49:50.157 | INFO     | mofgraph2vec.model.nn_lightning:training_step:37 - The training loss at this step is 2.0575473308563232\n",
      "2023-03-08 18:49:50.169 | INFO     | mofgraph2vec.model.nn_lightning:training_step:37 - The training loss at this step is 6.5398783683776855\n",
      "2023-03-08 18:49:50.181 | INFO     | mofgraph2vec.model.nn_lightning:training_step:37 - The training loss at this step is 2.0085997581481934\n",
      "2023-03-08 18:49:50.195 | INFO     | mofgraph2vec.model.nn_lightning:training_step:37 - The training loss at this step is 2.039311408996582\n",
      "2023-03-08 18:49:50.206 | INFO     | mofgraph2vec.model.nn_lightning:training_step:37 - The training loss at this step is 1.9940534830093384\n",
      "2023-03-08 18:49:50.218 | INFO     | mofgraph2vec.model.nn_lightning:training_step:37 - The training loss at this step is 2.2315194606781006\n",
      "2023-03-08 18:49:50.229 | INFO     | mofgraph2vec.model.nn_lightning:training_step:37 - The training loss at this step is 3.847949743270874\n",
      "2023-03-08 18:49:50.241 | INFO     | mofgraph2vec.model.nn_lightning:training_step:37 - The training loss at this step is 14.014278411865234\n",
      "2023-03-08 18:49:50.255 | INFO     | mofgraph2vec.model.nn_lightning:training_step:37 - The training loss at this step is 2.2477691173553467\n",
      "2023-03-08 18:49:53.609 | INFO     | mofgraph2vec.model.nn_lightning:training_step:37 - The training loss at this step is 5.716896057128906\n",
      "2023-03-08 18:49:53.624 | INFO     | mofgraph2vec.model.nn_lightning:training_step:37 - The training loss at this step is 2.208909749984741\n",
      "2023-03-08 18:49:53.641 | INFO     | mofgraph2vec.model.nn_lightning:training_step:37 - The training loss at this step is 1.6441274881362915\n",
      "2023-03-08 18:49:53.657 | INFO     | mofgraph2vec.model.nn_lightning:training_step:37 - The training loss at this step is 4.1440277099609375\n",
      "2023-03-08 18:49:53.673 | INFO     | mofgraph2vec.model.nn_lightning:training_step:37 - The training loss at this step is 2.6130895614624023\n",
      "2023-03-08 18:49:53.691 | INFO     | mofgraph2vec.model.nn_lightning:training_step:37 - The training loss at this step is 2.0707180500030518\n",
      "2023-03-08 18:49:53.709 | INFO     | mofgraph2vec.model.nn_lightning:training_step:37 - The training loss at this step is 2.1495509147644043\n",
      "2023-03-08 18:49:53.730 | INFO     | mofgraph2vec.model.nn_lightning:training_step:37 - The training loss at this step is 2.170165538787842\n",
      "2023-03-08 18:49:53.756 | INFO     | mofgraph2vec.model.nn_lightning:training_step:37 - The training loss at this step is 2.323082447052002\n",
      "2023-03-08 18:49:53.804 | INFO     | mofgraph2vec.model.nn_lightning:training_step:37 - The training loss at this step is 2.896090030670166\n",
      "2023-03-08 18:49:53.822 | INFO     | mofgraph2vec.model.nn_lightning:training_step:37 - The training loss at this step is 4.168585300445557\n",
      "2023-03-08 18:49:53.834 | INFO     | mofgraph2vec.model.nn_lightning:training_step:37 - The training loss at this step is 2.0309207439422607\n",
      "2023-03-08 18:49:53.846 | INFO     | mofgraph2vec.model.nn_lightning:training_step:37 - The training loss at this step is 1.9301446676254272\n",
      "2023-03-08 18:49:53.858 | INFO     | mofgraph2vec.model.nn_lightning:training_step:37 - The training loss at this step is 2.200470209121704\n",
      "2023-03-08 18:49:53.872 | INFO     | mofgraph2vec.model.nn_lightning:training_step:37 - The training loss at this step is 2.733719825744629\n",
      "2023-03-08 18:49:53.884 | INFO     | mofgraph2vec.model.nn_lightning:training_step:37 - The training loss at this step is 1.722839593887329\n",
      "2023-03-08 18:49:53.896 | INFO     | mofgraph2vec.model.nn_lightning:training_step:37 - The training loss at this step is 3.489828586578369\n",
      "2023-03-08 18:49:53.906 | INFO     | mofgraph2vec.model.nn_lightning:training_step:37 - The training loss at this step is 2.06596302986145\n"
     ]
    },
    {
     "data": {
      "application/vnd.jupyter.widget-view+json": {
       "model_id": "c6041f9925df4e19b6d6593baa727515",
       "version_major": 2,
       "version_minor": 0
      },
      "text/plain": [
       "Validation: 0it [00:00, ?it/s]"
      ]
     },
     "metadata": {},
     "output_type": "display_data"
    },
    {
     "name": "stderr",
     "output_type": "stream",
     "text": [
      "2023-03-08 18:49:57.272 | INFO     | mofgraph2vec.model.nn_lightning:training_step:37 - The training loss at this step is 1.7912540435791016\n",
      "2023-03-08 18:49:57.284 | INFO     | mofgraph2vec.model.nn_lightning:training_step:37 - The training loss at this step is 2.5839180946350098\n",
      "2023-03-08 18:49:57.296 | INFO     | mofgraph2vec.model.nn_lightning:training_step:37 - The training loss at this step is 3.8733386993408203\n",
      "2023-03-08 18:49:57.309 | INFO     | mofgraph2vec.model.nn_lightning:training_step:37 - The training loss at this step is 2.1105496883392334\n",
      "2023-03-08 18:49:57.320 | INFO     | mofgraph2vec.model.nn_lightning:training_step:37 - The training loss at this step is 1.5855484008789062\n",
      "2023-03-08 18:49:57.331 | INFO     | mofgraph2vec.model.nn_lightning:training_step:37 - The training loss at this step is 1.6440091133117676\n",
      "2023-03-08 18:49:57.343 | INFO     | mofgraph2vec.model.nn_lightning:training_step:37 - The training loss at this step is 1.582527995109558\n",
      "2023-03-08 18:49:57.354 | INFO     | mofgraph2vec.model.nn_lightning:training_step:37 - The training loss at this step is 2.175058126449585\n",
      "2023-03-08 18:49:57.365 | INFO     | mofgraph2vec.model.nn_lightning:training_step:37 - The training loss at this step is 1.410141944885254\n",
      "2023-03-08 18:49:57.376 | INFO     | mofgraph2vec.model.nn_lightning:training_step:37 - The training loss at this step is 1.2194808721542358\n",
      "2023-03-08 18:49:57.387 | INFO     | mofgraph2vec.model.nn_lightning:training_step:37 - The training loss at this step is 1.2218118906021118\n",
      "2023-03-08 18:49:57.399 | INFO     | mofgraph2vec.model.nn_lightning:training_step:37 - The training loss at this step is 1.4365323781967163\n",
      "2023-03-08 18:49:57.410 | INFO     | mofgraph2vec.model.nn_lightning:training_step:37 - The training loss at this step is 1.551466464996338\n",
      "2023-03-08 18:49:57.460 | INFO     | mofgraph2vec.model.nn_lightning:training_step:37 - The training loss at this step is 1.6188353300094604\n",
      "2023-03-08 18:49:57.470 | INFO     | mofgraph2vec.model.nn_lightning:training_step:37 - The training loss at this step is 4.392709732055664\n",
      "2023-03-08 18:49:57.483 | INFO     | mofgraph2vec.model.nn_lightning:training_step:37 - The training loss at this step is 3.712373733520508\n",
      "2023-03-08 18:49:57.494 | INFO     | mofgraph2vec.model.nn_lightning:training_step:37 - The training loss at this step is 3.5014195442199707\n",
      "2023-03-08 18:49:57.503 | INFO     | mofgraph2vec.model.nn_lightning:training_step:37 - The training loss at this step is 1.6115535497665405\n",
      "2023-03-08 18:49:57.516 | INFO     | mofgraph2vec.model.nn_lightning:training_step:37 - The training loss at this step is 1.2507492303848267\n",
      "2023-03-08 18:49:57.527 | INFO     | mofgraph2vec.model.nn_lightning:training_step:37 - The training loss at this step is 1.3863705396652222\n",
      "2023-03-08 18:49:57.537 | INFO     | mofgraph2vec.model.nn_lightning:training_step:37 - The training loss at this step is 6.341341018676758\n",
      "2023-03-08 18:49:57.549 | INFO     | mofgraph2vec.model.nn_lightning:training_step:37 - The training loss at this step is 1.5771287679672241\n",
      "2023-03-08 18:49:57.559 | INFO     | mofgraph2vec.model.nn_lightning:training_step:37 - The training loss at this step is 1.4358609914779663\n",
      "2023-03-08 18:49:57.579 | INFO     | mofgraph2vec.model.nn_lightning:training_step:37 - The training loss at this step is 4.153517246246338\n",
      "2023-03-08 18:49:57.590 | INFO     | mofgraph2vec.model.nn_lightning:training_step:37 - The training loss at this step is 1.3027347326278687\n",
      "2023-03-08 18:49:57.600 | INFO     | mofgraph2vec.model.nn_lightning:training_step:37 - The training loss at this step is 1.9098458290100098\n",
      "2023-03-08 18:49:57.611 | INFO     | mofgraph2vec.model.nn_lightning:training_step:37 - The training loss at this step is 1.8692471981048584\n",
      "2023-03-08 18:49:57.622 | INFO     | mofgraph2vec.model.nn_lightning:training_step:37 - The training loss at this step is 1.405570149421692\n",
      "2023-03-08 18:49:57.634 | INFO     | mofgraph2vec.model.nn_lightning:training_step:37 - The training loss at this step is 1.4782166481018066\n",
      "2023-03-08 18:49:57.645 | INFO     | mofgraph2vec.model.nn_lightning:training_step:37 - The training loss at this step is 6.43758487701416\n",
      "2023-03-08 18:49:57.657 | INFO     | mofgraph2vec.model.nn_lightning:training_step:37 - The training loss at this step is 1.4795297384262085\n",
      "2023-03-08 18:49:57.669 | INFO     | mofgraph2vec.model.nn_lightning:training_step:37 - The training loss at this step is 1.7376856803894043\n",
      "2023-03-08 18:50:04.329 | INFO     | mofgraph2vec.model.nn_lightning:training_step:37 - The training loss at this step is 1.5881935358047485\n",
      "2023-03-08 18:50:04.341 | INFO     | mofgraph2vec.model.nn_lightning:training_step:37 - The training loss at this step is 1.9023605585098267\n",
      "2023-03-08 18:50:04.352 | INFO     | mofgraph2vec.model.nn_lightning:training_step:37 - The training loss at this step is 1.8035805225372314\n",
      "2023-03-08 18:50:04.363 | INFO     | mofgraph2vec.model.nn_lightning:training_step:37 - The training loss at this step is 1.5389831066131592\n",
      "2023-03-08 18:50:04.374 | INFO     | mofgraph2vec.model.nn_lightning:training_step:37 - The training loss at this step is 2.6611430644989014\n",
      "2023-03-08 18:50:04.385 | INFO     | mofgraph2vec.model.nn_lightning:training_step:37 - The training loss at this step is 1.8978787660598755\n",
      "2023-03-08 18:50:04.395 | INFO     | mofgraph2vec.model.nn_lightning:training_step:37 - The training loss at this step is 1.8495135307312012\n",
      "2023-03-08 18:50:04.407 | INFO     | mofgraph2vec.model.nn_lightning:training_step:37 - The training loss at this step is 1.6604514122009277\n",
      "2023-03-08 18:50:04.418 | INFO     | mofgraph2vec.model.nn_lightning:training_step:37 - The training loss at this step is 1.6306160688400269\n",
      "2023-03-08 18:50:04.436 | INFO     | mofgraph2vec.model.nn_lightning:training_step:37 - The training loss at this step is 1.0008238554000854\n"
     ]
    },
    {
     "data": {
      "application/vnd.jupyter.widget-view+json": {
       "model_id": "c72f461d75854ec99e04f14987f87e70",
       "version_major": 2,
       "version_minor": 0
      },
      "text/plain": [
       "Validation: 0it [00:00, ?it/s]"
      ]
     },
     "metadata": {},
     "output_type": "display_data"
    },
    {
     "name": "stderr",
     "output_type": "stream",
     "text": [
      "2023-03-08 18:50:07.832 | INFO     | mofgraph2vec.model.nn_lightning:training_step:37 - The training loss at this step is 1.6630135774612427\n",
      "2023-03-08 18:50:07.844 | INFO     | mofgraph2vec.model.nn_lightning:training_step:37 - The training loss at this step is 1.1538444757461548\n",
      "2023-03-08 18:50:07.853 | INFO     | mofgraph2vec.model.nn_lightning:training_step:37 - The training loss at this step is 3.132763385772705\n",
      "2023-03-08 18:50:07.865 | INFO     | mofgraph2vec.model.nn_lightning:training_step:37 - The training loss at this step is 1.3513109683990479\n",
      "2023-03-08 18:50:07.907 | INFO     | mofgraph2vec.model.nn_lightning:training_step:37 - The training loss at this step is 1.530752182006836\n",
      "2023-03-08 18:50:07.918 | INFO     | mofgraph2vec.model.nn_lightning:training_step:37 - The training loss at this step is 1.2344223260879517\n",
      "2023-03-08 18:50:07.931 | INFO     | mofgraph2vec.model.nn_lightning:training_step:37 - The training loss at this step is 1.3745185136795044\n",
      "2023-03-08 18:50:07.942 | INFO     | mofgraph2vec.model.nn_lightning:training_step:37 - The training loss at this step is 2.451070547103882\n",
      "2023-03-08 18:50:07.952 | INFO     | mofgraph2vec.model.nn_lightning:training_step:37 - The training loss at this step is 1.3255794048309326\n",
      "2023-03-08 18:50:07.964 | INFO     | mofgraph2vec.model.nn_lightning:training_step:37 - The training loss at this step is 1.455163836479187\n",
      "2023-03-08 18:50:07.976 | INFO     | mofgraph2vec.model.nn_lightning:training_step:37 - The training loss at this step is 1.2986923456192017\n",
      "2023-03-08 18:50:07.988 | INFO     | mofgraph2vec.model.nn_lightning:training_step:37 - The training loss at this step is 2.0664730072021484\n",
      "2023-03-08 18:50:07.998 | INFO     | mofgraph2vec.model.nn_lightning:training_step:37 - The training loss at this step is 1.4214094877243042\n",
      "2023-03-08 18:50:08.009 | INFO     | mofgraph2vec.model.nn_lightning:training_step:37 - The training loss at this step is 1.0607175827026367\n",
      "2023-03-08 18:50:08.021 | INFO     | mofgraph2vec.model.nn_lightning:training_step:37 - The training loss at this step is 1.2257461547851562\n",
      "2023-03-08 18:50:08.033 | INFO     | mofgraph2vec.model.nn_lightning:training_step:37 - The training loss at this step is 1.2529311180114746\n",
      "2023-03-08 18:50:08.044 | INFO     | mofgraph2vec.model.nn_lightning:training_step:37 - The training loss at this step is 1.3864612579345703\n",
      "2023-03-08 18:50:08.055 | INFO     | mofgraph2vec.model.nn_lightning:training_step:37 - The training loss at this step is 1.5698789358139038\n",
      "2023-03-08 18:50:08.066 | INFO     | mofgraph2vec.model.nn_lightning:training_step:37 - The training loss at this step is 1.5191186666488647\n",
      "2023-03-08 18:50:08.076 | INFO     | mofgraph2vec.model.nn_lightning:training_step:37 - The training loss at this step is 1.986011028289795\n",
      "2023-03-08 18:50:08.086 | INFO     | mofgraph2vec.model.nn_lightning:training_step:37 - The training loss at this step is 1.1695729494094849\n",
      "2023-03-08 18:50:08.097 | INFO     | mofgraph2vec.model.nn_lightning:training_step:37 - The training loss at this step is 1.1517698764801025\n",
      "2023-03-08 18:50:08.109 | INFO     | mofgraph2vec.model.nn_lightning:training_step:37 - The training loss at this step is 1.2350531816482544\n",
      "2023-03-08 18:50:08.118 | INFO     | mofgraph2vec.model.nn_lightning:training_step:37 - The training loss at this step is 1.3753093481063843\n",
      "2023-03-08 18:50:08.161 | INFO     | mofgraph2vec.model.nn_lightning:training_step:37 - The training loss at this step is 1.326882004737854\n",
      "2023-03-08 18:50:08.171 | INFO     | mofgraph2vec.model.nn_lightning:training_step:37 - The training loss at this step is 1.0312018394470215\n",
      "2023-03-08 18:50:08.182 | INFO     | mofgraph2vec.model.nn_lightning:training_step:37 - The training loss at this step is 1.7094813585281372\n",
      "2023-03-08 18:50:08.193 | INFO     | mofgraph2vec.model.nn_lightning:training_step:37 - The training loss at this step is 1.4762489795684814\n",
      "2023-03-08 18:50:08.203 | INFO     | mofgraph2vec.model.nn_lightning:training_step:37 - The training loss at this step is 1.1875461339950562\n",
      "2023-03-08 18:50:08.215 | INFO     | mofgraph2vec.model.nn_lightning:training_step:37 - The training loss at this step is 1.201061725616455\n",
      "2023-03-08 18:50:08.225 | INFO     | mofgraph2vec.model.nn_lightning:training_step:37 - The training loss at this step is 1.6770025491714478\n",
      "2023-03-08 18:50:08.236 | INFO     | mofgraph2vec.model.nn_lightning:training_step:37 - The training loss at this step is 1.3034799098968506\n",
      "2023-03-08 18:50:08.248 | INFO     | mofgraph2vec.model.nn_lightning:training_step:37 - The training loss at this step is 1.0776426792144775\n",
      "2023-03-08 18:50:08.261 | INFO     | mofgraph2vec.model.nn_lightning:training_step:37 - The training loss at this step is 1.1878122091293335\n",
      "2023-03-08 18:50:08.272 | INFO     | mofgraph2vec.model.nn_lightning:training_step:37 - The training loss at this step is 1.030974268913269\n",
      "2023-03-08 18:50:08.283 | INFO     | mofgraph2vec.model.nn_lightning:training_step:37 - The training loss at this step is 0.7292865514755249\n",
      "2023-03-08 18:50:08.294 | INFO     | mofgraph2vec.model.nn_lightning:training_step:37 - The training loss at this step is 0.9555973410606384\n",
      "2023-03-08 18:50:08.304 | INFO     | mofgraph2vec.model.nn_lightning:training_step:37 - The training loss at this step is 2.254422664642334\n",
      "2023-03-08 18:50:08.315 | INFO     | mofgraph2vec.model.nn_lightning:training_step:37 - The training loss at this step is 1.5427732467651367\n",
      "2023-03-08 18:50:08.326 | INFO     | mofgraph2vec.model.nn_lightning:training_step:37 - The training loss at this step is 2.0296742916107178\n",
      "2023-03-08 18:50:11.605 | INFO     | mofgraph2vec.model.nn_lightning:training_step:37 - The training loss at this step is 3.246764659881592\n",
      "2023-03-08 18:50:11.616 | INFO     | mofgraph2vec.model.nn_lightning:training_step:37 - The training loss at this step is 1.5118427276611328\n"
     ]
    },
    {
     "data": {
      "application/vnd.jupyter.widget-view+json": {
       "model_id": "9e2edc47cafd483ca53a11a104d57232",
       "version_major": 2,
       "version_minor": 0
      },
      "text/plain": [
       "Validation: 0it [00:00, ?it/s]"
      ]
     },
     "metadata": {},
     "output_type": "display_data"
    },
    {
     "name": "stderr",
     "output_type": "stream",
     "text": [
      "2023-03-08 18:50:15.047 | INFO     | mofgraph2vec.model.nn_lightning:training_step:37 - The training loss at this step is 0.9472606778144836\n",
      "2023-03-08 18:50:15.059 | INFO     | mofgraph2vec.model.nn_lightning:training_step:37 - The training loss at this step is 1.7003388404846191\n",
      "2023-03-08 18:50:15.069 | INFO     | mofgraph2vec.model.nn_lightning:training_step:37 - The training loss at this step is 1.037900447845459\n",
      "2023-03-08 18:50:15.081 | INFO     | mofgraph2vec.model.nn_lightning:training_step:37 - The training loss at this step is 1.459518313407898\n",
      "2023-03-08 18:50:15.093 | INFO     | mofgraph2vec.model.nn_lightning:training_step:37 - The training loss at this step is 1.278120994567871\n",
      "2023-03-08 18:50:15.105 | INFO     | mofgraph2vec.model.nn_lightning:training_step:37 - The training loss at this step is 0.9189946055412292\n",
      "2023-03-08 18:50:15.117 | INFO     | mofgraph2vec.model.nn_lightning:training_step:37 - The training loss at this step is 1.4180974960327148\n",
      "2023-03-08 18:50:15.128 | INFO     | mofgraph2vec.model.nn_lightning:training_step:37 - The training loss at this step is 1.103901982307434\n",
      "2023-03-08 18:50:15.138 | INFO     | mofgraph2vec.model.nn_lightning:training_step:37 - The training loss at this step is 1.8303439617156982\n",
      "2023-03-08 18:50:15.150 | INFO     | mofgraph2vec.model.nn_lightning:training_step:37 - The training loss at this step is 1.4448277950286865\n",
      "2023-03-08 18:50:15.161 | INFO     | mofgraph2vec.model.nn_lightning:training_step:37 - The training loss at this step is 1.4199239015579224\n",
      "2023-03-08 18:50:15.170 | INFO     | mofgraph2vec.model.nn_lightning:training_step:37 - The training loss at this step is 1.1971977949142456\n",
      "2023-03-08 18:50:15.181 | INFO     | mofgraph2vec.model.nn_lightning:training_step:37 - The training loss at this step is 1.007619023323059\n",
      "2023-03-08 18:50:15.194 | INFO     | mofgraph2vec.model.nn_lightning:training_step:37 - The training loss at this step is 1.234730839729309\n",
      "2023-03-08 18:50:15.206 | INFO     | mofgraph2vec.model.nn_lightning:training_step:37 - The training loss at this step is 1.0564924478530884\n",
      "2023-03-08 18:50:15.217 | INFO     | mofgraph2vec.model.nn_lightning:training_step:37 - The training loss at this step is 1.1043106317520142\n",
      "2023-03-08 18:50:15.229 | INFO     | mofgraph2vec.model.nn_lightning:training_step:37 - The training loss at this step is 2.152083158493042\n",
      "2023-03-08 18:50:15.239 | INFO     | mofgraph2vec.model.nn_lightning:training_step:37 - The training loss at this step is 1.1995028257369995\n",
      "2023-03-08 18:50:15.282 | INFO     | mofgraph2vec.model.nn_lightning:training_step:37 - The training loss at this step is 0.7621902823448181\n",
      "2023-03-08 18:50:15.294 | INFO     | mofgraph2vec.model.nn_lightning:training_step:37 - The training loss at this step is 0.8467707633972168\n",
      "2023-03-08 18:50:15.307 | INFO     | mofgraph2vec.model.nn_lightning:training_step:37 - The training loss at this step is 1.1404412984848022\n",
      "2023-03-08 18:50:15.317 | INFO     | mofgraph2vec.model.nn_lightning:training_step:37 - The training loss at this step is 1.3736343383789062\n",
      "2023-03-08 18:50:15.328 | INFO     | mofgraph2vec.model.nn_lightning:training_step:37 - The training loss at this step is 1.4829509258270264\n",
      "2023-03-08 18:50:15.337 | INFO     | mofgraph2vec.model.nn_lightning:training_step:37 - The training loss at this step is 1.2743717432022095\n",
      "2023-03-08 18:50:15.349 | INFO     | mofgraph2vec.model.nn_lightning:training_step:37 - The training loss at this step is 1.139267921447754\n",
      "2023-03-08 18:50:15.359 | INFO     | mofgraph2vec.model.nn_lightning:training_step:37 - The training loss at this step is 1.3705427646636963\n",
      "2023-03-08 18:50:15.370 | INFO     | mofgraph2vec.model.nn_lightning:training_step:37 - The training loss at this step is 1.2592222690582275\n",
      "2023-03-08 18:50:15.382 | INFO     | mofgraph2vec.model.nn_lightning:training_step:37 - The training loss at this step is 1.2724398374557495\n",
      "2023-03-08 18:50:15.393 | INFO     | mofgraph2vec.model.nn_lightning:training_step:37 - The training loss at this step is 1.1333098411560059\n",
      "2023-03-08 18:50:15.404 | INFO     | mofgraph2vec.model.nn_lightning:training_step:37 - The training loss at this step is 1.3141573667526245\n",
      "2023-03-08 18:50:15.414 | INFO     | mofgraph2vec.model.nn_lightning:training_step:37 - The training loss at this step is 0.9496580362319946\n",
      "2023-03-08 18:50:15.425 | INFO     | mofgraph2vec.model.nn_lightning:training_step:37 - The training loss at this step is 0.9451178312301636\n",
      "2023-03-08 18:50:15.437 | INFO     | mofgraph2vec.model.nn_lightning:training_step:37 - The training loss at this step is 0.9874075055122375\n",
      "2023-03-08 18:50:15.450 | INFO     | mofgraph2vec.model.nn_lightning:training_step:37 - The training loss at this step is 1.5745995044708252\n",
      "2023-03-08 18:50:15.460 | INFO     | mofgraph2vec.model.nn_lightning:training_step:37 - The training loss at this step is 0.874478816986084\n",
      "2023-03-08 18:50:15.472 | INFO     | mofgraph2vec.model.nn_lightning:training_step:37 - The training loss at this step is 1.351859450340271\n",
      "2023-03-08 18:50:15.483 | INFO     | mofgraph2vec.model.nn_lightning:training_step:37 - The training loss at this step is 1.0635572671890259\n",
      "2023-03-08 18:50:15.495 | INFO     | mofgraph2vec.model.nn_lightning:training_step:37 - The training loss at this step is 0.7559195160865784\n",
      "2023-03-08 18:50:15.537 | INFO     | mofgraph2vec.model.nn_lightning:training_step:37 - The training loss at this step is 0.8133671879768372\n",
      "2023-03-08 18:50:15.548 | INFO     | mofgraph2vec.model.nn_lightning:training_step:37 - The training loss at this step is 1.1015547513961792\n",
      "2023-03-08 18:50:15.560 | INFO     | mofgraph2vec.model.nn_lightning:training_step:37 - The training loss at this step is 1.1858775615692139\n",
      "2023-03-08 18:50:15.572 | INFO     | mofgraph2vec.model.nn_lightning:training_step:37 - The training loss at this step is 0.8833706378936768\n"
     ]
    },
    {
     "data": {
      "application/vnd.jupyter.widget-view+json": {
       "model_id": "ce6f3d8c602e4b4a8d9a19fe23413ef3",
       "version_major": 2,
       "version_minor": 0
      },
      "text/plain": [
       "Validation: 0it [00:00, ?it/s]"
      ]
     },
     "metadata": {},
     "output_type": "display_data"
    },
    {
     "name": "stderr",
     "output_type": "stream",
     "text": [
      "2023-03-08 18:50:19.101 | INFO     | mofgraph2vec.model.nn_lightning:training_step:37 - The training loss at this step is 0.9453822374343872\n",
      "2023-03-08 18:50:19.111 | INFO     | mofgraph2vec.model.nn_lightning:training_step:37 - The training loss at this step is 1.0184650421142578\n",
      "2023-03-08 18:50:19.121 | INFO     | mofgraph2vec.model.nn_lightning:training_step:37 - The training loss at this step is 0.9880406260490417\n",
      "2023-03-08 18:50:19.132 | INFO     | mofgraph2vec.model.nn_lightning:training_step:37 - The training loss at this step is 0.7791650295257568\n",
      "2023-03-08 18:50:19.144 | INFO     | mofgraph2vec.model.nn_lightning:training_step:37 - The training loss at this step is 0.8438713550567627\n",
      "2023-03-08 18:50:19.154 | INFO     | mofgraph2vec.model.nn_lightning:training_step:37 - The training loss at this step is 1.0657099485397339\n",
      "2023-03-08 18:50:25.826 | INFO     | mofgraph2vec.model.nn_lightning:training_step:37 - The training loss at this step is 1.1551531553268433\n",
      "2023-03-08 18:50:25.839 | INFO     | mofgraph2vec.model.nn_lightning:training_step:37 - The training loss at this step is 1.2079302072525024\n",
      "2023-03-08 18:50:25.850 | INFO     | mofgraph2vec.model.nn_lightning:training_step:37 - The training loss at this step is 1.0992522239685059\n",
      "2023-03-08 18:50:25.860 | INFO     | mofgraph2vec.model.nn_lightning:training_step:37 - The training loss at this step is 1.153174638748169\n",
      "2023-03-08 18:50:25.871 | INFO     | mofgraph2vec.model.nn_lightning:training_step:37 - The training loss at this step is 1.5076894760131836\n",
      "2023-03-08 18:50:25.882 | INFO     | mofgraph2vec.model.nn_lightning:training_step:37 - The training loss at this step is 0.8799960613250732\n",
      "2023-03-08 18:50:25.894 | INFO     | mofgraph2vec.model.nn_lightning:training_step:37 - The training loss at this step is 0.9182182550430298\n",
      "2023-03-08 18:50:25.904 | INFO     | mofgraph2vec.model.nn_lightning:training_step:37 - The training loss at this step is 1.196333408355713\n",
      "2023-03-08 18:50:25.915 | INFO     | mofgraph2vec.model.nn_lightning:training_step:37 - The training loss at this step is 0.9232205152511597\n",
      "2023-03-08 18:50:25.927 | INFO     | mofgraph2vec.model.nn_lightning:training_step:37 - The training loss at this step is 1.0838220119476318\n",
      "2023-03-08 18:50:25.939 | INFO     | mofgraph2vec.model.nn_lightning:training_step:37 - The training loss at this step is 0.8805273771286011\n",
      "2023-03-08 18:50:25.948 | INFO     | mofgraph2vec.model.nn_lightning:training_step:37 - The training loss at this step is 1.3035624027252197\n",
      "2023-03-08 18:50:25.959 | INFO     | mofgraph2vec.model.nn_lightning:training_step:37 - The training loss at this step is 1.093326210975647\n",
      "2023-03-08 18:50:25.973 | INFO     | mofgraph2vec.model.nn_lightning:training_step:37 - The training loss at this step is 1.1762136220932007\n",
      "2023-03-08 18:50:25.983 | INFO     | mofgraph2vec.model.nn_lightning:training_step:37 - The training loss at this step is 1.4552764892578125\n",
      "2023-03-08 18:50:25.995 | INFO     | mofgraph2vec.model.nn_lightning:training_step:37 - The training loss at this step is 1.4472770690917969\n",
      "2023-03-08 18:50:26.004 | INFO     | mofgraph2vec.model.nn_lightning:training_step:37 - The training loss at this step is 0.9970167279243469\n",
      "2023-03-08 18:50:26.014 | INFO     | mofgraph2vec.model.nn_lightning:training_step:37 - The training loss at this step is 1.3130463361740112\n",
      "2023-03-08 18:50:26.025 | INFO     | mofgraph2vec.model.nn_lightning:training_step:37 - The training loss at this step is 1.3079168796539307\n",
      "2023-03-08 18:50:26.067 | INFO     | mofgraph2vec.model.nn_lightning:training_step:37 - The training loss at this step is 1.5693459510803223\n",
      "2023-03-08 18:50:26.078 | INFO     | mofgraph2vec.model.nn_lightning:training_step:37 - The training loss at this step is 1.1343002319335938\n",
      "2023-03-08 18:50:26.088 | INFO     | mofgraph2vec.model.nn_lightning:training_step:37 - The training loss at this step is 0.7582054734230042\n",
      "2023-03-08 18:50:26.098 | INFO     | mofgraph2vec.model.nn_lightning:training_step:37 - The training loss at this step is 1.187041997909546\n",
      "2023-03-08 18:50:26.109 | INFO     | mofgraph2vec.model.nn_lightning:training_step:37 - The training loss at this step is 1.2940704822540283\n",
      "2023-03-08 18:50:26.120 | INFO     | mofgraph2vec.model.nn_lightning:training_step:37 - The training loss at this step is 0.9945023655891418\n",
      "2023-03-08 18:50:26.132 | INFO     | mofgraph2vec.model.nn_lightning:training_step:37 - The training loss at this step is 1.0927543640136719\n",
      "2023-03-08 18:50:26.143 | INFO     | mofgraph2vec.model.nn_lightning:training_step:37 - The training loss at this step is 1.069130778312683\n",
      "2023-03-08 18:50:26.152 | INFO     | mofgraph2vec.model.nn_lightning:training_step:37 - The training loss at this step is 0.9035631418228149\n",
      "2023-03-08 18:50:26.164 | INFO     | mofgraph2vec.model.nn_lightning:training_step:37 - The training loss at this step is 1.0623080730438232\n",
      "2023-03-08 18:50:26.177 | INFO     | mofgraph2vec.model.nn_lightning:training_step:37 - The training loss at this step is 0.8770157694816589\n",
      "2023-03-08 18:50:26.189 | INFO     | mofgraph2vec.model.nn_lightning:training_step:37 - The training loss at this step is 0.7532076835632324\n",
      "2023-03-08 18:50:26.201 | INFO     | mofgraph2vec.model.nn_lightning:training_step:37 - The training loss at this step is 1.4183685779571533\n",
      "2023-03-08 18:50:26.212 | INFO     | mofgraph2vec.model.nn_lightning:training_step:37 - The training loss at this step is 0.967330276966095\n",
      "2023-03-08 18:50:26.224 | INFO     | mofgraph2vec.model.nn_lightning:training_step:37 - The training loss at this step is 1.215636968612671\n",
      "2023-03-08 18:50:26.233 | INFO     | mofgraph2vec.model.nn_lightning:training_step:37 - The training loss at this step is 1.1192001104354858\n",
      "2023-03-08 18:50:26.243 | INFO     | mofgraph2vec.model.nn_lightning:training_step:37 - The training loss at this step is 0.9420087337493896\n"
     ]
    },
    {
     "data": {
      "application/vnd.jupyter.widget-view+json": {
       "model_id": "fb68b08729d14581baaf28f538d23958",
       "version_major": 2,
       "version_minor": 0
      },
      "text/plain": [
       "Validation: 0it [00:00, ?it/s]"
      ]
     },
     "metadata": {},
     "output_type": "display_data"
    },
    {
     "name": "stderr",
     "output_type": "stream",
     "text": [
      "2023-03-08 18:50:29.669 | INFO     | mofgraph2vec.model.nn_lightning:training_step:37 - The training loss at this step is 1.533442735671997\n",
      "2023-03-08 18:50:29.680 | INFO     | mofgraph2vec.model.nn_lightning:training_step:37 - The training loss at this step is 1.016654133796692\n",
      "2023-03-08 18:50:29.691 | INFO     | mofgraph2vec.model.nn_lightning:training_step:37 - The training loss at this step is 1.0074235200881958\n",
      "2023-03-08 18:50:29.701 | INFO     | mofgraph2vec.model.nn_lightning:training_step:37 - The training loss at this step is 0.768165647983551\n",
      "2023-03-08 18:50:29.714 | INFO     | mofgraph2vec.model.nn_lightning:training_step:37 - The training loss at this step is 1.2122234106063843\n",
      "2023-03-08 18:50:29.725 | INFO     | mofgraph2vec.model.nn_lightning:training_step:37 - The training loss at this step is 0.4903121292591095\n",
      "2023-03-08 18:50:29.735 | INFO     | mofgraph2vec.model.nn_lightning:training_step:37 - The training loss at this step is 1.112673044204712\n",
      "2023-03-08 18:50:29.749 | INFO     | mofgraph2vec.model.nn_lightning:training_step:37 - The training loss at this step is 1.2099487781524658\n",
      "2023-03-08 18:50:29.760 | INFO     | mofgraph2vec.model.nn_lightning:training_step:37 - The training loss at this step is 0.9185676574707031\n",
      "2023-03-08 18:50:29.770 | INFO     | mofgraph2vec.model.nn_lightning:training_step:37 - The training loss at this step is 0.9551818370819092\n",
      "2023-03-08 18:50:29.780 | INFO     | mofgraph2vec.model.nn_lightning:training_step:37 - The training loss at this step is 1.367307424545288\n",
      "2023-03-08 18:50:29.791 | INFO     | mofgraph2vec.model.nn_lightning:training_step:37 - The training loss at this step is 1.2402592897415161\n",
      "2023-03-08 18:50:29.827 | INFO     | mofgraph2vec.model.nn_lightning:training_step:37 - The training loss at this step is 0.895982563495636\n",
      "2023-03-08 18:50:29.843 | INFO     | mofgraph2vec.model.nn_lightning:training_step:37 - The training loss at this step is 0.899707555770874\n",
      "2023-03-08 18:50:33.170 | INFO     | mofgraph2vec.model.nn_lightning:training_step:37 - The training loss at this step is 1.1044422388076782\n",
      "2023-03-08 18:50:33.181 | INFO     | mofgraph2vec.model.nn_lightning:training_step:37 - The training loss at this step is 1.402617335319519\n",
      "2023-03-08 18:50:33.193 | INFO     | mofgraph2vec.model.nn_lightning:training_step:37 - The training loss at this step is 1.140354871749878\n",
      "2023-03-08 18:50:33.204 | INFO     | mofgraph2vec.model.nn_lightning:training_step:37 - The training loss at this step is 1.205031394958496\n",
      "2023-03-08 18:50:33.215 | INFO     | mofgraph2vec.model.nn_lightning:training_step:37 - The training loss at this step is 0.9539675712585449\n",
      "2023-03-08 18:50:33.226 | INFO     | mofgraph2vec.model.nn_lightning:training_step:37 - The training loss at this step is 1.3444280624389648\n",
      "2023-03-08 18:50:33.237 | INFO     | mofgraph2vec.model.nn_lightning:training_step:37 - The training loss at this step is 0.9919019341468811\n",
      "2023-03-08 18:50:33.248 | INFO     | mofgraph2vec.model.nn_lightning:training_step:37 - The training loss at this step is 1.0969973802566528\n",
      "2023-03-08 18:50:33.259 | INFO     | mofgraph2vec.model.nn_lightning:training_step:37 - The training loss at this step is 1.2574542760849\n",
      "2023-03-08 18:50:33.269 | INFO     | mofgraph2vec.model.nn_lightning:training_step:37 - The training loss at this step is 0.81541907787323\n",
      "2023-03-08 18:50:33.279 | INFO     | mofgraph2vec.model.nn_lightning:training_step:37 - The training loss at this step is 0.856332004070282\n",
      "2023-03-08 18:50:33.290 | INFO     | mofgraph2vec.model.nn_lightning:training_step:37 - The training loss at this step is 1.0951805114746094\n",
      "2023-03-08 18:50:33.301 | INFO     | mofgraph2vec.model.nn_lightning:training_step:37 - The training loss at this step is 1.0552016496658325\n",
      "2023-03-08 18:50:33.313 | INFO     | mofgraph2vec.model.nn_lightning:training_step:37 - The training loss at this step is 1.025494933128357\n",
      "2023-03-08 18:50:33.326 | INFO     | mofgraph2vec.model.nn_lightning:training_step:37 - The training loss at this step is 1.03232741355896\n",
      "2023-03-08 18:50:33.338 | INFO     | mofgraph2vec.model.nn_lightning:training_step:37 - The training loss at this step is 1.456360101699829\n",
      "2023-03-08 18:50:33.350 | INFO     | mofgraph2vec.model.nn_lightning:training_step:37 - The training loss at this step is 1.0233941078186035\n",
      "2023-03-08 18:50:33.361 | INFO     | mofgraph2vec.model.nn_lightning:training_step:37 - The training loss at this step is 0.8331458568572998\n",
      "2023-03-08 18:50:33.374 | INFO     | mofgraph2vec.model.nn_lightning:training_step:37 - The training loss at this step is 0.9515417218208313\n",
      "2023-03-08 18:50:33.415 | INFO     | mofgraph2vec.model.nn_lightning:training_step:37 - The training loss at this step is 1.3040001392364502\n",
      "2023-03-08 18:50:33.426 | INFO     | mofgraph2vec.model.nn_lightning:training_step:37 - The training loss at this step is 1.3309569358825684\n",
      "2023-03-08 18:50:33.437 | INFO     | mofgraph2vec.model.nn_lightning:training_step:37 - The training loss at this step is 1.088453769683838\n",
      "2023-03-08 18:50:33.448 | INFO     | mofgraph2vec.model.nn_lightning:training_step:37 - The training loss at this step is 1.4711484909057617\n",
      "2023-03-08 18:50:33.459 | INFO     | mofgraph2vec.model.nn_lightning:training_step:37 - The training loss at this step is 0.8160886764526367\n",
      "2023-03-08 18:50:33.469 | INFO     | mofgraph2vec.model.nn_lightning:training_step:37 - The training loss at this step is 0.998565673828125\n",
      "2023-03-08 18:50:33.481 | INFO     | mofgraph2vec.model.nn_lightning:training_step:37 - The training loss at this step is 0.9294372797012329\n",
      "2023-03-08 18:50:33.492 | INFO     | mofgraph2vec.model.nn_lightning:training_step:37 - The training loss at this step is 0.9318626523017883\n",
      "2023-03-08 18:50:33.501 | INFO     | mofgraph2vec.model.nn_lightning:training_step:37 - The training loss at this step is 0.6092270016670227\n"
     ]
    },
    {
     "data": {
      "application/vnd.jupyter.widget-view+json": {
       "model_id": "b3a5123791a141f5af62e082e4278787",
       "version_major": 2,
       "version_minor": 0
      },
      "text/plain": [
       "Validation: 0it [00:00, ?it/s]"
      ]
     },
     "metadata": {},
     "output_type": "display_data"
    },
    {
     "name": "stderr",
     "output_type": "stream",
     "text": [
      "2023-03-08 18:50:36.862 | INFO     | mofgraph2vec.model.nn_lightning:training_step:37 - The training loss at this step is 1.019477367401123\n",
      "2023-03-08 18:50:36.873 | INFO     | mofgraph2vec.model.nn_lightning:training_step:37 - The training loss at this step is 1.094687581062317\n",
      "2023-03-08 18:50:36.884 | INFO     | mofgraph2vec.model.nn_lightning:training_step:37 - The training loss at this step is 1.4555143117904663\n",
      "2023-03-08 18:50:36.895 | INFO     | mofgraph2vec.model.nn_lightning:training_step:37 - The training loss at this step is 0.8386090397834778\n",
      "2023-03-08 18:50:36.906 | INFO     | mofgraph2vec.model.nn_lightning:training_step:37 - The training loss at this step is 0.6250025033950806\n",
      "2023-03-08 18:50:36.917 | INFO     | mofgraph2vec.model.nn_lightning:training_step:37 - The training loss at this step is 1.03566312789917\n",
      "2023-03-08 18:50:36.930 | INFO     | mofgraph2vec.model.nn_lightning:training_step:37 - The training loss at this step is 1.4608521461486816\n",
      "2023-03-08 18:50:36.940 | INFO     | mofgraph2vec.model.nn_lightning:training_step:37 - The training loss at this step is 1.2059838771820068\n",
      "2023-03-08 18:50:36.951 | INFO     | mofgraph2vec.model.nn_lightning:training_step:37 - The training loss at this step is 0.8826010823249817\n",
      "2023-03-08 18:50:36.963 | INFO     | mofgraph2vec.model.nn_lightning:training_step:37 - The training loss at this step is 0.8391363620758057\n",
      "2023-03-08 18:50:36.976 | INFO     | mofgraph2vec.model.nn_lightning:training_step:37 - The training loss at this step is 1.302365779876709\n",
      "2023-03-08 18:50:36.986 | INFO     | mofgraph2vec.model.nn_lightning:training_step:37 - The training loss at this step is 1.218530535697937\n",
      "2023-03-08 18:50:36.998 | INFO     | mofgraph2vec.model.nn_lightning:training_step:37 - The training loss at this step is 0.8496284484863281\n",
      "2023-03-08 18:50:37.009 | INFO     | mofgraph2vec.model.nn_lightning:training_step:37 - The training loss at this step is 0.7327378392219543\n",
      "2023-03-08 18:50:37.019 | INFO     | mofgraph2vec.model.nn_lightning:training_step:37 - The training loss at this step is 1.002313494682312\n",
      "2023-03-08 18:50:37.032 | INFO     | mofgraph2vec.model.nn_lightning:training_step:37 - The training loss at this step is 0.7008965015411377\n",
      "2023-03-08 18:50:37.042 | INFO     | mofgraph2vec.model.nn_lightning:training_step:37 - The training loss at this step is 1.0205175876617432\n",
      "2023-03-08 18:50:37.053 | INFO     | mofgraph2vec.model.nn_lightning:training_step:37 - The training loss at this step is 1.1100174188613892\n",
      "2023-03-08 18:50:37.094 | INFO     | mofgraph2vec.model.nn_lightning:training_step:37 - The training loss at this step is 1.0558017492294312\n",
      "2023-03-08 18:50:37.108 | INFO     | mofgraph2vec.model.nn_lightning:training_step:37 - The training loss at this step is 1.1865911483764648\n",
      "2023-03-08 18:50:37.117 | INFO     | mofgraph2vec.model.nn_lightning:training_step:37 - The training loss at this step is 0.9580403566360474\n",
      "2023-03-08 18:50:37.128 | INFO     | mofgraph2vec.model.nn_lightning:training_step:37 - The training loss at this step is 0.9946959614753723\n",
      "2023-03-08 18:50:43.811 | INFO     | mofgraph2vec.model.nn_lightning:training_step:37 - The training loss at this step is 1.155726671218872\n",
      "2023-03-08 18:50:43.823 | INFO     | mofgraph2vec.model.nn_lightning:training_step:37 - The training loss at this step is 0.8190320730209351\n",
      "2023-03-08 18:50:43.833 | INFO     | mofgraph2vec.model.nn_lightning:training_step:37 - The training loss at this step is 1.5584903955459595\n",
      "2023-03-08 18:50:43.846 | INFO     | mofgraph2vec.model.nn_lightning:training_step:37 - The training loss at this step is 1.120213270187378\n",
      "2023-03-08 18:50:43.856 | INFO     | mofgraph2vec.model.nn_lightning:training_step:37 - The training loss at this step is 1.1295437812805176\n",
      "2023-03-08 18:50:43.868 | INFO     | mofgraph2vec.model.nn_lightning:training_step:37 - The training loss at this step is 0.8525418639183044\n",
      "2023-03-08 18:50:43.881 | INFO     | mofgraph2vec.model.nn_lightning:training_step:37 - The training loss at this step is 1.1535003185272217\n",
      "2023-03-08 18:50:43.891 | INFO     | mofgraph2vec.model.nn_lightning:training_step:37 - The training loss at this step is 0.9684435129165649\n",
      "2023-03-08 18:50:43.901 | INFO     | mofgraph2vec.model.nn_lightning:training_step:37 - The training loss at this step is 1.0631893873214722\n",
      "2023-03-08 18:50:43.913 | INFO     | mofgraph2vec.model.nn_lightning:training_step:37 - The training loss at this step is 0.8131572604179382\n",
      "2023-03-08 18:50:43.923 | INFO     | mofgraph2vec.model.nn_lightning:training_step:37 - The training loss at this step is 1.4310824871063232\n",
      "2023-03-08 18:50:43.934 | INFO     | mofgraph2vec.model.nn_lightning:training_step:37 - The training loss at this step is 1.2160718441009521\n",
      "2023-03-08 18:50:43.977 | INFO     | mofgraph2vec.model.nn_lightning:training_step:37 - The training loss at this step is 1.3344212770462036\n",
      "2023-03-08 18:50:43.989 | INFO     | mofgraph2vec.model.nn_lightning:training_step:37 - The training loss at this step is 1.1884499788284302\n",
      "2023-03-08 18:50:44.001 | INFO     | mofgraph2vec.model.nn_lightning:training_step:37 - The training loss at this step is 0.9804142713546753\n",
      "2023-03-08 18:50:44.014 | INFO     | mofgraph2vec.model.nn_lightning:training_step:37 - The training loss at this step is 0.9518364071846008\n",
      "2023-03-08 18:50:44.024 | INFO     | mofgraph2vec.model.nn_lightning:training_step:37 - The training loss at this step is 1.1411428451538086\n",
      "2023-03-08 18:50:44.036 | INFO     | mofgraph2vec.model.nn_lightning:training_step:37 - The training loss at this step is 1.1981537342071533\n",
      "2023-03-08 18:50:44.046 | INFO     | mofgraph2vec.model.nn_lightning:training_step:37 - The training loss at this step is 1.0910556316375732\n",
      "2023-03-08 18:50:44.056 | INFO     | mofgraph2vec.model.nn_lightning:training_step:37 - The training loss at this step is 1.6919690370559692\n"
     ]
    },
    {
     "data": {
      "application/vnd.jupyter.widget-view+json": {
       "model_id": "8b5ef85d4e7a43ac8676ee3459124488",
       "version_major": 2,
       "version_minor": 0
      },
      "text/plain": [
       "Validation: 0it [00:00, ?it/s]"
      ]
     },
     "metadata": {},
     "output_type": "display_data"
    },
    {
     "name": "stderr",
     "output_type": "stream",
     "text": [
      "2023-03-08 18:50:47.488 | INFO     | mofgraph2vec.model.nn_lightning:training_step:37 - The training loss at this step is 0.970364511013031\n",
      "2023-03-08 18:50:47.500 | INFO     | mofgraph2vec.model.nn_lightning:training_step:37 - The training loss at this step is 1.1289278268814087\n",
      "2023-03-08 18:50:47.511 | INFO     | mofgraph2vec.model.nn_lightning:training_step:37 - The training loss at this step is 1.262741208076477\n",
      "2023-03-08 18:50:47.522 | INFO     | mofgraph2vec.model.nn_lightning:training_step:37 - The training loss at this step is 0.9934658408164978\n",
      "2023-03-08 18:50:47.533 | INFO     | mofgraph2vec.model.nn_lightning:training_step:37 - The training loss at this step is 1.1207473278045654\n",
      "2023-03-08 18:50:47.545 | INFO     | mofgraph2vec.model.nn_lightning:training_step:37 - The training loss at this step is 1.1677205562591553\n",
      "2023-03-08 18:50:47.557 | INFO     | mofgraph2vec.model.nn_lightning:training_step:37 - The training loss at this step is 1.2501702308654785\n",
      "2023-03-08 18:50:47.567 | INFO     | mofgraph2vec.model.nn_lightning:training_step:37 - The training loss at this step is 1.0879911184310913\n",
      "2023-03-08 18:50:47.580 | INFO     | mofgraph2vec.model.nn_lightning:training_step:37 - The training loss at this step is 1.1810226440429688\n",
      "2023-03-08 18:50:47.590 | INFO     | mofgraph2vec.model.nn_lightning:training_step:37 - The training loss at this step is 1.220004677772522\n",
      "2023-03-08 18:50:47.600 | INFO     | mofgraph2vec.model.nn_lightning:training_step:37 - The training loss at this step is 1.486701488494873\n",
      "2023-03-08 18:50:47.611 | INFO     | mofgraph2vec.model.nn_lightning:training_step:37 - The training loss at this step is 1.1130545139312744\n",
      "2023-03-08 18:50:47.623 | INFO     | mofgraph2vec.model.nn_lightning:training_step:37 - The training loss at this step is 1.02891206741333\n",
      "2023-03-08 18:50:47.633 | INFO     | mofgraph2vec.model.nn_lightning:training_step:37 - The training loss at this step is 0.8410155773162842\n",
      "2023-03-08 18:50:47.646 | INFO     | mofgraph2vec.model.nn_lightning:training_step:37 - The training loss at this step is 1.0207619667053223\n",
      "2023-03-08 18:50:47.689 | INFO     | mofgraph2vec.model.nn_lightning:training_step:37 - The training loss at this step is 1.3915525674819946\n",
      "2023-03-08 18:50:47.699 | INFO     | mofgraph2vec.model.nn_lightning:training_step:37 - The training loss at this step is 1.3558650016784668\n",
      "2023-03-08 18:50:47.711 | INFO     | mofgraph2vec.model.nn_lightning:training_step:37 - The training loss at this step is 0.9322359561920166\n",
      "2023-03-08 18:50:47.722 | INFO     | mofgraph2vec.model.nn_lightning:training_step:37 - The training loss at this step is 0.7938621640205383\n",
      "2023-03-08 18:50:47.732 | INFO     | mofgraph2vec.model.nn_lightning:training_step:37 - The training loss at this step is 1.0885337591171265\n",
      "2023-03-08 18:50:47.743 | INFO     | mofgraph2vec.model.nn_lightning:training_step:37 - The training loss at this step is 0.753669023513794\n",
      "2023-03-08 18:50:47.754 | INFO     | mofgraph2vec.model.nn_lightning:training_step:37 - The training loss at this step is 0.9526451230049133\n",
      "2023-03-08 18:50:47.764 | INFO     | mofgraph2vec.model.nn_lightning:training_step:37 - The training loss at this step is 0.8836191296577454\n",
      "2023-03-08 18:50:47.775 | INFO     | mofgraph2vec.model.nn_lightning:training_step:37 - The training loss at this step is 0.8549723029136658\n",
      "2023-03-08 18:50:47.785 | INFO     | mofgraph2vec.model.nn_lightning:training_step:37 - The training loss at this step is 1.0106086730957031\n",
      "2023-03-08 18:50:47.797 | INFO     | mofgraph2vec.model.nn_lightning:training_step:37 - The training loss at this step is 0.9442266821861267\n",
      "2023-03-08 18:50:47.808 | INFO     | mofgraph2vec.model.nn_lightning:training_step:37 - The training loss at this step is 1.1009739637374878\n",
      "2023-03-08 18:50:47.820 | INFO     | mofgraph2vec.model.nn_lightning:training_step:37 - The training loss at this step is 0.7678322196006775\n",
      "2023-03-08 18:50:47.830 | INFO     | mofgraph2vec.model.nn_lightning:training_step:37 - The training loss at this step is 0.8238511681556702\n",
      "2023-03-08 18:50:47.842 | INFO     | mofgraph2vec.model.nn_lightning:training_step:37 - The training loss at this step is 1.3233634233474731\n",
      "2023-03-08 18:50:51.260 | INFO     | mofgraph2vec.model.nn_lightning:training_step:37 - The training loss at this step is 0.8605353236198425\n",
      "2023-03-08 18:50:51.273 | INFO     | mofgraph2vec.model.nn_lightning:training_step:37 - The training loss at this step is 1.0658255815505981\n",
      "2023-03-08 18:50:51.283 | INFO     | mofgraph2vec.model.nn_lightning:training_step:37 - The training loss at this step is 1.2455116510391235\n",
      "2023-03-08 18:50:51.294 | INFO     | mofgraph2vec.model.nn_lightning:training_step:37 - The training loss at this step is 0.9382890462875366\n",
      "2023-03-08 18:50:51.306 | INFO     | mofgraph2vec.model.nn_lightning:training_step:37 - The training loss at this step is 1.2875055074691772\n",
      "2023-03-08 18:50:51.316 | INFO     | mofgraph2vec.model.nn_lightning:training_step:37 - The training loss at this step is 1.072553038597107\n",
      "2023-03-08 18:50:51.327 | INFO     | mofgraph2vec.model.nn_lightning:training_step:37 - The training loss at this step is 0.9830145239830017\n",
      "2023-03-08 18:50:51.338 | INFO     | mofgraph2vec.model.nn_lightning:training_step:37 - The training loss at this step is 1.313989520072937\n",
      "2023-03-08 18:50:51.350 | INFO     | mofgraph2vec.model.nn_lightning:training_step:37 - The training loss at this step is 1.0338523387908936\n",
      "2023-03-08 18:50:51.361 | INFO     | mofgraph2vec.model.nn_lightning:training_step:37 - The training loss at this step is 1.2493520975112915\n",
      "2023-03-08 18:50:51.371 | INFO     | mofgraph2vec.model.nn_lightning:training_step:37 - The training loss at this step is 0.953167200088501\n",
      "2023-03-08 18:50:51.381 | INFO     | mofgraph2vec.model.nn_lightning:training_step:37 - The training loss at this step is 0.7699709534645081\n"
     ]
    },
    {
     "data": {
      "application/vnd.jupyter.widget-view+json": {
       "model_id": "eefaf8e5f8e64b4882df2ec4e16f1749",
       "version_major": 2,
       "version_minor": 0
      },
      "text/plain": [
       "Validation: 0it [00:00, ?it/s]"
      ]
     },
     "metadata": {},
     "output_type": "display_data"
    },
    {
     "name": "stderr",
     "output_type": "stream",
     "text": [
      "2023-03-08 18:50:54.817 | INFO     | mofgraph2vec.model.nn_lightning:training_step:37 - The training loss at this step is 1.2690638303756714\n",
      "2023-03-08 18:50:54.828 | INFO     | mofgraph2vec.model.nn_lightning:training_step:37 - The training loss at this step is 1.1488230228424072\n",
      "2023-03-08 18:50:54.840 | INFO     | mofgraph2vec.model.nn_lightning:training_step:37 - The training loss at this step is 1.092208743095398\n",
      "2023-03-08 18:50:54.851 | INFO     | mofgraph2vec.model.nn_lightning:training_step:37 - The training loss at this step is 1.1093084812164307\n",
      "2023-03-08 18:50:54.861 | INFO     | mofgraph2vec.model.nn_lightning:training_step:37 - The training loss at this step is 0.9822088479995728\n",
      "2023-03-08 18:50:54.872 | INFO     | mofgraph2vec.model.nn_lightning:training_step:37 - The training loss at this step is 1.1960079669952393\n",
      "2023-03-08 18:50:54.883 | INFO     | mofgraph2vec.model.nn_lightning:training_step:37 - The training loss at this step is 1.2688312530517578\n",
      "2023-03-08 18:50:54.894 | INFO     | mofgraph2vec.model.nn_lightning:training_step:37 - The training loss at this step is 1.2720104455947876\n",
      "2023-03-08 18:50:54.903 | INFO     | mofgraph2vec.model.nn_lightning:training_step:37 - The training loss at this step is 0.9978848695755005\n",
      "2023-03-08 18:50:54.916 | INFO     | mofgraph2vec.model.nn_lightning:training_step:37 - The training loss at this step is 0.86903977394104\n",
      "2023-03-08 18:50:54.926 | INFO     | mofgraph2vec.model.nn_lightning:training_step:37 - The training loss at this step is 1.124969482421875\n",
      "2023-03-08 18:50:54.937 | INFO     | mofgraph2vec.model.nn_lightning:training_step:37 - The training loss at this step is 0.5241069793701172\n",
      "2023-03-08 18:50:54.948 | INFO     | mofgraph2vec.model.nn_lightning:training_step:37 - The training loss at this step is 1.2530081272125244\n",
      "2023-03-08 18:50:54.959 | INFO     | mofgraph2vec.model.nn_lightning:training_step:37 - The training loss at this step is 1.1185842752456665\n",
      "2023-03-08 18:50:54.968 | INFO     | mofgraph2vec.model.nn_lightning:training_step:37 - The training loss at this step is 1.0129321813583374\n",
      "2023-03-08 18:50:55.000 | INFO     | mofgraph2vec.model.nn_lightning:training_step:37 - The training loss at this step is 1.0551936626434326\n",
      "2023-03-08 18:50:55.020 | INFO     | mofgraph2vec.model.nn_lightning:training_step:37 - The training loss at this step is 1.2137235403060913\n",
      "2023-03-08 18:50:55.030 | INFO     | mofgraph2vec.model.nn_lightning:training_step:37 - The training loss at this step is 0.7990467548370361\n",
      "2023-03-08 18:50:55.042 | INFO     | mofgraph2vec.model.nn_lightning:training_step:37 - The training loss at this step is 1.5057936906814575\n",
      "2023-03-08 18:50:55.051 | INFO     | mofgraph2vec.model.nn_lightning:training_step:37 - The training loss at this step is 0.8429710865020752\n",
      "2023-03-08 18:50:55.064 | INFO     | mofgraph2vec.model.nn_lightning:training_step:37 - The training loss at this step is 0.92253577709198\n",
      "2023-03-08 18:50:55.075 | INFO     | mofgraph2vec.model.nn_lightning:training_step:37 - The training loss at this step is 1.0643917322158813\n",
      "2023-03-08 18:50:55.085 | INFO     | mofgraph2vec.model.nn_lightning:training_step:37 - The training loss at this step is 1.0282191038131714\n",
      "2023-03-08 18:50:55.098 | INFO     | mofgraph2vec.model.nn_lightning:training_step:37 - The training loss at this step is 1.0675718784332275\n",
      "2023-03-08 18:50:55.110 | INFO     | mofgraph2vec.model.nn_lightning:training_step:37 - The training loss at this step is 1.1263022422790527\n",
      "2023-03-08 18:50:55.120 | INFO     | mofgraph2vec.model.nn_lightning:training_step:37 - The training loss at this step is 0.9846926331520081\n",
      "2023-03-08 18:50:55.131 | INFO     | mofgraph2vec.model.nn_lightning:training_step:37 - The training loss at this step is 1.302794337272644\n",
      "2023-03-08 18:50:55.142 | INFO     | mofgraph2vec.model.nn_lightning:training_step:37 - The training loss at this step is 1.1756675243377686\n",
      "2023-03-08 18:50:55.151 | INFO     | mofgraph2vec.model.nn_lightning:training_step:37 - The training loss at this step is 0.9677823781967163\n",
      "2023-03-08 18:50:55.161 | INFO     | mofgraph2vec.model.nn_lightning:training_step:37 - The training loss at this step is 0.788756787776947\n",
      "2023-03-08 18:50:55.174 | INFO     | mofgraph2vec.model.nn_lightning:training_step:37 - The training loss at this step is 1.0525850057601929\n",
      "2023-03-08 18:50:55.185 | INFO     | mofgraph2vec.model.nn_lightning:training_step:37 - The training loss at this step is 1.267439603805542\n",
      "2023-03-08 18:50:55.197 | INFO     | mofgraph2vec.model.nn_lightning:training_step:37 - The training loss at this step is 0.9643288254737854\n",
      "2023-03-08 18:50:55.207 | INFO     | mofgraph2vec.model.nn_lightning:training_step:37 - The training loss at this step is 0.8315229415893555\n",
      "2023-03-08 18:50:55.218 | INFO     | mofgraph2vec.model.nn_lightning:training_step:37 - The training loss at this step is 0.6409441828727722\n",
      "2023-03-08 18:50:55.230 | INFO     | mofgraph2vec.model.nn_lightning:training_step:37 - The training loss at this step is 1.5078847408294678\n",
      "2023-03-08 18:50:55.260 | INFO     | mofgraph2vec.model.nn_lightning:training_step:37 - The training loss at this step is 1.2600644826889038\n",
      "2023-03-08 18:50:55.281 | INFO     | mofgraph2vec.model.nn_lightning:training_step:37 - The training loss at this step is 0.8248021602630615\n",
      "2023-03-08 18:51:02.099 | INFO     | mofgraph2vec.model.nn_lightning:training_step:37 - The training loss at this step is 1.0999152660369873\n",
      "2023-03-08 18:51:02.110 | INFO     | mofgraph2vec.model.nn_lightning:training_step:37 - The training loss at this step is 0.9434954524040222\n",
      "2023-03-08 18:51:02.123 | INFO     | mofgraph2vec.model.nn_lightning:training_step:37 - The training loss at this step is 1.254693627357483\n",
      "2023-03-08 18:51:02.132 | INFO     | mofgraph2vec.model.nn_lightning:training_step:37 - The training loss at this step is 0.8160178661346436\n"
     ]
    },
    {
     "data": {
      "application/vnd.jupyter.widget-view+json": {
       "model_id": "41d2ac46393c4c2d928bd799cb34a069",
       "version_major": 2,
       "version_minor": 0
      },
      "text/plain": [
       "Validation: 0it [00:00, ?it/s]"
      ]
     },
     "metadata": {},
     "output_type": "display_data"
    },
    {
     "name": "stderr",
     "output_type": "stream",
     "text": [
      "2023-03-08 18:51:05.600 | INFO     | mofgraph2vec.model.nn_lightning:training_step:37 - The training loss at this step is 1.2874298095703125\n",
      "2023-03-08 18:51:05.613 | INFO     | mofgraph2vec.model.nn_lightning:training_step:37 - The training loss at this step is 0.9103251695632935\n",
      "2023-03-08 18:51:05.623 | INFO     | mofgraph2vec.model.nn_lightning:training_step:37 - The training loss at this step is 1.0371687412261963\n",
      "2023-03-08 18:51:05.633 | INFO     | mofgraph2vec.model.nn_lightning:training_step:37 - The training loss at this step is 0.8808050751686096\n",
      "2023-03-08 18:51:05.645 | INFO     | mofgraph2vec.model.nn_lightning:training_step:37 - The training loss at this step is 0.9618216753005981\n",
      "2023-03-08 18:51:05.656 | INFO     | mofgraph2vec.model.nn_lightning:training_step:37 - The training loss at this step is 1.5240365266799927\n",
      "2023-03-08 18:51:05.665 | INFO     | mofgraph2vec.model.nn_lightning:training_step:37 - The training loss at this step is 0.9525498747825623\n",
      "2023-03-08 18:51:05.676 | INFO     | mofgraph2vec.model.nn_lightning:training_step:37 - The training loss at this step is 0.8401036262512207\n",
      "2023-03-08 18:51:05.686 | INFO     | mofgraph2vec.model.nn_lightning:training_step:37 - The training loss at this step is 1.1524221897125244\n",
      "2023-03-08 18:51:05.696 | INFO     | mofgraph2vec.model.nn_lightning:training_step:37 - The training loss at this step is 0.8623719811439514\n",
      "2023-03-08 18:51:05.707 | INFO     | mofgraph2vec.model.nn_lightning:training_step:37 - The training loss at this step is 1.2675992250442505\n",
      "2023-03-08 18:51:05.717 | INFO     | mofgraph2vec.model.nn_lightning:training_step:37 - The training loss at this step is 1.094956398010254\n",
      "2023-03-08 18:51:05.728 | INFO     | mofgraph2vec.model.nn_lightning:training_step:37 - The training loss at this step is 1.0874860286712646\n",
      "2023-03-08 18:51:05.738 | INFO     | mofgraph2vec.model.nn_lightning:training_step:37 - The training loss at this step is 1.337576150894165\n",
      "2023-03-08 18:51:05.749 | INFO     | mofgraph2vec.model.nn_lightning:training_step:37 - The training loss at this step is 1.009959101676941\n",
      "2023-03-08 18:51:05.760 | INFO     | mofgraph2vec.model.nn_lightning:training_step:37 - The training loss at this step is 1.1020946502685547\n",
      "2023-03-08 18:51:05.770 | INFO     | mofgraph2vec.model.nn_lightning:training_step:37 - The training loss at this step is 1.3555563688278198\n",
      "2023-03-08 18:51:05.780 | INFO     | mofgraph2vec.model.nn_lightning:training_step:37 - The training loss at this step is 1.0898239612579346\n",
      "2023-03-08 18:51:05.792 | INFO     | mofgraph2vec.model.nn_lightning:training_step:37 - The training loss at this step is 0.8096853494644165\n",
      "2023-03-08 18:51:05.803 | INFO     | mofgraph2vec.model.nn_lightning:training_step:37 - The training loss at this step is 0.91839599609375\n",
      "2023-03-08 18:51:05.815 | INFO     | mofgraph2vec.model.nn_lightning:training_step:37 - The training loss at this step is 1.2827562093734741\n",
      "2023-03-08 18:51:05.829 | INFO     | mofgraph2vec.model.nn_lightning:training_step:37 - The training loss at this step is 0.6892030835151672\n",
      "2023-03-08 18:51:05.871 | INFO     | mofgraph2vec.model.nn_lightning:training_step:37 - The training loss at this step is 1.2890026569366455\n",
      "2023-03-08 18:51:05.882 | INFO     | mofgraph2vec.model.nn_lightning:training_step:37 - The training loss at this step is 0.7010071277618408\n",
      "2023-03-08 18:51:05.895 | INFO     | mofgraph2vec.model.nn_lightning:training_step:37 - The training loss at this step is 0.8279833793640137\n",
      "2023-03-08 18:51:05.906 | INFO     | mofgraph2vec.model.nn_lightning:training_step:37 - The training loss at this step is 1.1432996988296509\n",
      "2023-03-08 18:51:05.917 | INFO     | mofgraph2vec.model.nn_lightning:training_step:37 - The training loss at this step is 0.99534010887146\n",
      "2023-03-08 18:51:05.929 | INFO     | mofgraph2vec.model.nn_lightning:training_step:37 - The training loss at this step is 1.1866655349731445\n",
      "2023-03-08 18:51:05.939 | INFO     | mofgraph2vec.model.nn_lightning:training_step:37 - The training loss at this step is 1.2288569211959839\n",
      "2023-03-08 18:51:05.950 | INFO     | mofgraph2vec.model.nn_lightning:training_step:37 - The training loss at this step is 1.27774977684021\n",
      "2023-03-08 18:51:05.960 | INFO     | mofgraph2vec.model.nn_lightning:training_step:37 - The training loss at this step is 1.2066340446472168\n",
      "2023-03-08 18:51:05.970 | INFO     | mofgraph2vec.model.nn_lightning:training_step:37 - The training loss at this step is 1.6324044466018677\n",
      "2023-03-08 18:51:05.981 | INFO     | mofgraph2vec.model.nn_lightning:training_step:37 - The training loss at this step is 0.8493407964706421\n",
      "2023-03-08 18:51:05.991 | INFO     | mofgraph2vec.model.nn_lightning:training_step:37 - The training loss at this step is 1.1650813817977905\n",
      "2023-03-08 18:51:06.000 | INFO     | mofgraph2vec.model.nn_lightning:training_step:37 - The training loss at this step is 0.7071942090988159\n",
      "2023-03-08 18:51:06.011 | INFO     | mofgraph2vec.model.nn_lightning:training_step:37 - The training loss at this step is 0.8582777976989746\n",
      "2023-03-08 18:51:06.022 | INFO     | mofgraph2vec.model.nn_lightning:training_step:37 - The training loss at this step is 1.1470322608947754\n",
      "2023-03-08 18:51:06.034 | INFO     | mofgraph2vec.model.nn_lightning:training_step:37 - The training loss at this step is 0.8433874845504761\n",
      "2023-03-08 18:51:06.046 | INFO     | mofgraph2vec.model.nn_lightning:training_step:37 - The training loss at this step is 0.9464278817176819\n",
      "2023-03-08 18:51:06.057 | INFO     | mofgraph2vec.model.nn_lightning:training_step:37 - The training loss at this step is 0.927049458026886\n",
      "2023-03-08 18:51:06.067 | INFO     | mofgraph2vec.model.nn_lightning:training_step:37 - The training loss at this step is 1.300856351852417\n",
      "2023-03-08 18:51:06.108 | INFO     | mofgraph2vec.model.nn_lightning:training_step:37 - The training loss at this step is 0.8779075145721436\n"
     ]
    },
    {
     "data": {
      "application/vnd.jupyter.widget-view+json": {
       "model_id": "5a408bd40cc346019c4351523f953518",
       "version_major": 2,
       "version_minor": 0
      },
      "text/plain": [
       "Validation: 0it [00:00, ?it/s]"
      ]
     },
     "metadata": {},
     "output_type": "display_data"
    },
    {
     "name": "stderr",
     "output_type": "stream",
     "text": [
      "2023-03-08 18:51:09.595 | INFO     | mofgraph2vec.model.nn_lightning:training_step:37 - The training loss at this step is 1.1289417743682861\n",
      "2023-03-08 18:51:09.606 | INFO     | mofgraph2vec.model.nn_lightning:training_step:37 - The training loss at this step is 1.003189206123352\n",
      "2023-03-08 18:51:09.616 | INFO     | mofgraph2vec.model.nn_lightning:training_step:37 - The training loss at this step is 0.7550867199897766\n",
      "2023-03-08 18:51:09.628 | INFO     | mofgraph2vec.model.nn_lightning:training_step:37 - The training loss at this step is 0.8179007172584534\n",
      "2023-03-08 18:51:13.056 | INFO     | mofgraph2vec.model.nn_lightning:training_step:37 - The training loss at this step is 1.1149786710739136\n",
      "2023-03-08 18:51:13.068 | INFO     | mofgraph2vec.model.nn_lightning:training_step:37 - The training loss at this step is 1.144637107849121\n",
      "2023-03-08 18:51:13.079 | INFO     | mofgraph2vec.model.nn_lightning:training_step:37 - The training loss at this step is 1.2776718139648438\n",
      "2023-03-08 18:51:13.091 | INFO     | mofgraph2vec.model.nn_lightning:training_step:37 - The training loss at this step is 1.3371524810791016\n",
      "2023-03-08 18:51:13.100 | INFO     | mofgraph2vec.model.nn_lightning:training_step:37 - The training loss at this step is 1.2623995542526245\n",
      "2023-03-08 18:51:13.111 | INFO     | mofgraph2vec.model.nn_lightning:training_step:37 - The training loss at this step is 0.9065412878990173\n",
      "2023-03-08 18:51:13.122 | INFO     | mofgraph2vec.model.nn_lightning:training_step:37 - The training loss at this step is 1.2707195281982422\n",
      "2023-03-08 18:51:13.132 | INFO     | mofgraph2vec.model.nn_lightning:training_step:37 - The training loss at this step is 0.838287889957428\n",
      "2023-03-08 18:51:13.143 | INFO     | mofgraph2vec.model.nn_lightning:training_step:37 - The training loss at this step is 0.968916654586792\n",
      "2023-03-08 18:51:13.154 | INFO     | mofgraph2vec.model.nn_lightning:training_step:37 - The training loss at this step is 0.86320561170578\n",
      "2023-03-08 18:51:13.163 | INFO     | mofgraph2vec.model.nn_lightning:training_step:37 - The training loss at this step is 1.343320369720459\n",
      "2023-03-08 18:51:13.174 | INFO     | mofgraph2vec.model.nn_lightning:training_step:37 - The training loss at this step is 0.9249846935272217\n",
      "2023-03-08 18:51:13.183 | INFO     | mofgraph2vec.model.nn_lightning:training_step:37 - The training loss at this step is 1.2752041816711426\n",
      "2023-03-08 18:51:13.225 | INFO     | mofgraph2vec.model.nn_lightning:training_step:37 - The training loss at this step is 0.7983301281929016\n",
      "2023-03-08 18:51:13.238 | INFO     | mofgraph2vec.model.nn_lightning:training_step:37 - The training loss at this step is 0.7300407886505127\n",
      "2023-03-08 18:51:13.248 | INFO     | mofgraph2vec.model.nn_lightning:training_step:37 - The training loss at this step is 1.234157919883728\n",
      "2023-03-08 18:51:13.259 | INFO     | mofgraph2vec.model.nn_lightning:training_step:37 - The training loss at this step is 1.5630550384521484\n",
      "2023-03-08 18:51:13.269 | INFO     | mofgraph2vec.model.nn_lightning:training_step:37 - The training loss at this step is 0.7914179563522339\n",
      "2023-03-08 18:51:13.279 | INFO     | mofgraph2vec.model.nn_lightning:training_step:37 - The training loss at this step is 1.3704315423965454\n",
      "2023-03-08 18:51:13.290 | INFO     | mofgraph2vec.model.nn_lightning:training_step:37 - The training loss at this step is 0.771896481513977\n",
      "2023-03-08 18:51:13.301 | INFO     | mofgraph2vec.model.nn_lightning:training_step:37 - The training loss at this step is 0.8114014267921448\n",
      "2023-03-08 18:51:13.314 | INFO     | mofgraph2vec.model.nn_lightning:training_step:37 - The training loss at this step is 0.6866618394851685\n",
      "2023-03-08 18:51:13.325 | INFO     | mofgraph2vec.model.nn_lightning:training_step:37 - The training loss at this step is 0.9260978698730469\n",
      "2023-03-08 18:51:13.335 | INFO     | mofgraph2vec.model.nn_lightning:training_step:37 - The training loss at this step is 1.1883563995361328\n",
      "2023-03-08 18:51:13.345 | INFO     | mofgraph2vec.model.nn_lightning:training_step:37 - The training loss at this step is 1.1584665775299072\n",
      "2023-03-08 18:51:13.356 | INFO     | mofgraph2vec.model.nn_lightning:training_step:37 - The training loss at this step is 0.9782512784004211\n",
      "2023-03-08 18:51:13.366 | INFO     | mofgraph2vec.model.nn_lightning:training_step:37 - The training loss at this step is 1.0008131265640259\n",
      "2023-03-08 18:51:13.378 | INFO     | mofgraph2vec.model.nn_lightning:training_step:37 - The training loss at this step is 1.355886697769165\n",
      "2023-03-08 18:51:13.389 | INFO     | mofgraph2vec.model.nn_lightning:training_step:37 - The training loss at this step is 0.8106474280357361\n",
      "2023-03-08 18:51:13.399 | INFO     | mofgraph2vec.model.nn_lightning:training_step:37 - The training loss at this step is 0.9901620149612427\n",
      "2023-03-08 18:51:13.410 | INFO     | mofgraph2vec.model.nn_lightning:training_step:37 - The training loss at this step is 0.8427758812904358\n",
      "2023-03-08 18:51:13.421 | INFO     | mofgraph2vec.model.nn_lightning:training_step:37 - The training loss at this step is 0.9929518699645996\n",
      "2023-03-08 18:51:13.462 | INFO     | mofgraph2vec.model.nn_lightning:training_step:37 - The training loss at this step is 1.20807945728302\n",
      "2023-03-08 18:51:13.473 | INFO     | mofgraph2vec.model.nn_lightning:training_step:37 - The training loss at this step is 1.0380561351776123\n",
      "2023-03-08 18:51:13.483 | INFO     | mofgraph2vec.model.nn_lightning:training_step:37 - The training loss at this step is 1.4876784086227417\n",
      "2023-03-08 18:51:13.495 | INFO     | mofgraph2vec.model.nn_lightning:training_step:37 - The training loss at this step is 1.5985115766525269\n",
      "2023-03-08 18:51:13.506 | INFO     | mofgraph2vec.model.nn_lightning:training_step:37 - The training loss at this step is 0.8499495983123779\n",
      "2023-03-08 18:51:13.516 | INFO     | mofgraph2vec.model.nn_lightning:training_step:37 - The training loss at this step is 1.8440117835998535\n"
     ]
    },
    {
     "data": {
      "application/vnd.jupyter.widget-view+json": {
       "model_id": "fcc5851eaac84f219f923c9c97ee1140",
       "version_major": 2,
       "version_minor": 0
      },
      "text/plain": [
       "Validation: 0it [00:00, ?it/s]"
      ]
     },
     "metadata": {},
     "output_type": "display_data"
    },
    {
     "name": "stderr",
     "output_type": "stream",
     "text": [
      "2023-03-08 18:51:16.954 | INFO     | mofgraph2vec.model.nn_lightning:training_step:37 - The training loss at this step is 0.9770293235778809\n",
      "2023-03-08 18:51:16.965 | INFO     | mofgraph2vec.model.nn_lightning:training_step:37 - The training loss at this step is 1.0156223773956299\n",
      "2023-03-08 18:51:16.975 | INFO     | mofgraph2vec.model.nn_lightning:training_step:37 - The training loss at this step is 1.0599219799041748\n",
      "2023-03-08 18:51:16.988 | INFO     | mofgraph2vec.model.nn_lightning:training_step:37 - The training loss at this step is 1.2829854488372803\n",
      "2023-03-08 18:51:16.999 | INFO     | mofgraph2vec.model.nn_lightning:training_step:37 - The training loss at this step is 1.3633148670196533\n",
      "2023-03-08 18:51:17.010 | INFO     | mofgraph2vec.model.nn_lightning:training_step:37 - The training loss at this step is 1.0747743844985962\n",
      "2023-03-08 18:51:17.022 | INFO     | mofgraph2vec.model.nn_lightning:training_step:37 - The training loss at this step is 1.0294215679168701\n",
      "2023-03-08 18:51:17.034 | INFO     | mofgraph2vec.model.nn_lightning:training_step:37 - The training loss at this step is 1.5154671669006348\n",
      "2023-03-08 18:51:17.046 | INFO     | mofgraph2vec.model.nn_lightning:training_step:37 - The training loss at this step is 0.8513205647468567\n",
      "2023-03-08 18:51:17.057 | INFO     | mofgraph2vec.model.nn_lightning:training_step:37 - The training loss at this step is 0.9333255290985107\n",
      "2023-03-08 18:51:17.068 | INFO     | mofgraph2vec.model.nn_lightning:training_step:37 - The training loss at this step is 1.1987980604171753\n",
      "2023-03-08 18:51:17.081 | INFO     | mofgraph2vec.model.nn_lightning:training_step:37 - The training loss at this step is 0.9382763504981995\n",
      "2023-03-08 18:51:23.732 | INFO     | mofgraph2vec.model.nn_lightning:training_step:37 - The training loss at this step is 1.0801196098327637\n",
      "2023-03-08 18:51:23.745 | INFO     | mofgraph2vec.model.nn_lightning:training_step:37 - The training loss at this step is 1.0667445659637451\n",
      "2023-03-08 18:51:23.755 | INFO     | mofgraph2vec.model.nn_lightning:training_step:37 - The training loss at this step is 1.0905625820159912\n",
      "2023-03-08 18:51:23.767 | INFO     | mofgraph2vec.model.nn_lightning:training_step:37 - The training loss at this step is 0.9975886344909668\n",
      "2023-03-08 18:51:23.778 | INFO     | mofgraph2vec.model.nn_lightning:training_step:37 - The training loss at this step is 0.8065930604934692\n",
      "2023-03-08 18:51:23.789 | INFO     | mofgraph2vec.model.nn_lightning:training_step:37 - The training loss at this step is 0.6219171285629272\n",
      "2023-03-08 18:51:23.799 | INFO     | mofgraph2vec.model.nn_lightning:training_step:37 - The training loss at this step is 1.274925708770752\n",
      "2023-03-08 18:51:23.810 | INFO     | mofgraph2vec.model.nn_lightning:training_step:37 - The training loss at this step is 1.5206444263458252\n",
      "2023-03-08 18:51:23.821 | INFO     | mofgraph2vec.model.nn_lightning:training_step:37 - The training loss at this step is 0.9794664978981018\n",
      "2023-03-08 18:51:23.834 | INFO     | mofgraph2vec.model.nn_lightning:training_step:37 - The training loss at this step is 1.389385461807251\n",
      "2023-03-08 18:51:23.846 | INFO     | mofgraph2vec.model.nn_lightning:training_step:37 - The training loss at this step is 0.8788011074066162\n",
      "2023-03-08 18:51:23.857 | INFO     | mofgraph2vec.model.nn_lightning:training_step:37 - The training loss at this step is 1.0245805978775024\n",
      "2023-03-08 18:51:23.867 | INFO     | mofgraph2vec.model.nn_lightning:training_step:37 - The training loss at this step is 1.0352228879928589\n",
      "2023-03-08 18:51:23.878 | INFO     | mofgraph2vec.model.nn_lightning:training_step:37 - The training loss at this step is 0.9827181100845337\n",
      "2023-03-08 18:51:23.890 | INFO     | mofgraph2vec.model.nn_lightning:training_step:37 - The training loss at this step is 0.9034803509712219\n",
      "2023-03-08 18:51:23.900 | INFO     | mofgraph2vec.model.nn_lightning:training_step:37 - The training loss at this step is 1.26778244972229\n",
      "2023-03-08 18:51:23.911 | INFO     | mofgraph2vec.model.nn_lightning:training_step:37 - The training loss at this step is 0.8721206188201904\n",
      "2023-03-08 18:51:23.921 | INFO     | mofgraph2vec.model.nn_lightning:training_step:37 - The training loss at this step is 0.9211933612823486\n",
      "2023-03-08 18:51:23.932 | INFO     | mofgraph2vec.model.nn_lightning:training_step:37 - The training loss at this step is 1.325100302696228\n",
      "2023-03-08 18:51:23.942 | INFO     | mofgraph2vec.model.nn_lightning:training_step:37 - The training loss at this step is 0.9259883165359497\n",
      "2023-03-08 18:51:23.986 | INFO     | mofgraph2vec.model.nn_lightning:training_step:37 - The training loss at this step is 1.1090517044067383\n",
      "2023-03-08 18:51:23.997 | INFO     | mofgraph2vec.model.nn_lightning:training_step:37 - The training loss at this step is 1.1547309160232544\n",
      "2023-03-08 18:51:24.008 | INFO     | mofgraph2vec.model.nn_lightning:training_step:37 - The training loss at this step is 1.0751080513000488\n",
      "2023-03-08 18:51:24.018 | INFO     | mofgraph2vec.model.nn_lightning:training_step:37 - The training loss at this step is 1.4131519794464111\n",
      "2023-03-08 18:51:24.032 | INFO     | mofgraph2vec.model.nn_lightning:training_step:37 - The training loss at this step is 0.926227331161499\n",
      "2023-03-08 18:51:24.043 | INFO     | mofgraph2vec.model.nn_lightning:training_step:37 - The training loss at this step is 0.8947926759719849\n",
      "2023-03-08 18:51:24.054 | INFO     | mofgraph2vec.model.nn_lightning:training_step:37 - The training loss at this step is 1.0355799198150635\n",
      "2023-03-08 18:51:24.064 | INFO     | mofgraph2vec.model.nn_lightning:training_step:37 - The training loss at this step is 1.0895943641662598\n",
      "2023-03-08 18:51:24.075 | INFO     | mofgraph2vec.model.nn_lightning:training_step:37 - The training loss at this step is 0.7688511610031128\n",
      "2023-03-08 18:51:24.086 | INFO     | mofgraph2vec.model.nn_lightning:training_step:37 - The training loss at this step is 0.4495784640312195\n"
     ]
    },
    {
     "data": {
      "application/vnd.jupyter.widget-view+json": {
       "model_id": "8585f76c84f74a96bb88763ece744015",
       "version_major": 2,
       "version_minor": 0
      },
      "text/plain": [
       "Validation: 0it [00:00, ?it/s]"
      ]
     },
     "metadata": {},
     "output_type": "display_data"
    },
    {
     "name": "stderr",
     "output_type": "stream",
     "text": [
      "2023-03-08 18:51:27.466 | INFO     | mofgraph2vec.model.nn_lightning:training_step:37 - The training loss at this step is 0.9632208943367004\n",
      "2023-03-08 18:51:27.476 | INFO     | mofgraph2vec.model.nn_lightning:training_step:37 - The training loss at this step is 0.9522567987442017\n",
      "2023-03-08 18:51:27.488 | INFO     | mofgraph2vec.model.nn_lightning:training_step:37 - The training loss at this step is 1.2058836221694946\n",
      "2023-03-08 18:51:27.499 | INFO     | mofgraph2vec.model.nn_lightning:training_step:37 - The training loss at this step is 0.9802565574645996\n",
      "2023-03-08 18:51:27.509 | INFO     | mofgraph2vec.model.nn_lightning:training_step:37 - The training loss at this step is 0.9439207315444946\n",
      "2023-03-08 18:51:27.520 | INFO     | mofgraph2vec.model.nn_lightning:training_step:37 - The training loss at this step is 1.3640754222869873\n",
      "2023-03-08 18:51:27.530 | INFO     | mofgraph2vec.model.nn_lightning:training_step:37 - The training loss at this step is 1.1837363243103027\n",
      "2023-03-08 18:51:27.542 | INFO     | mofgraph2vec.model.nn_lightning:training_step:37 - The training loss at this step is 1.1328563690185547\n",
      "2023-03-08 18:51:27.553 | INFO     | mofgraph2vec.model.nn_lightning:training_step:37 - The training loss at this step is 1.106860876083374\n",
      "2023-03-08 18:51:27.572 | INFO     | mofgraph2vec.model.nn_lightning:training_step:37 - The training loss at this step is 1.2378324270248413\n",
      "2023-03-08 18:51:27.584 | INFO     | mofgraph2vec.model.nn_lightning:training_step:37 - The training loss at this step is 0.7208544015884399\n",
      "2023-03-08 18:51:27.595 | INFO     | mofgraph2vec.model.nn_lightning:training_step:37 - The training loss at this step is 0.9944047927856445\n",
      "2023-03-08 18:51:27.608 | INFO     | mofgraph2vec.model.nn_lightning:training_step:37 - The training loss at this step is 0.7288021445274353\n",
      "2023-03-08 18:51:27.620 | INFO     | mofgraph2vec.model.nn_lightning:training_step:37 - The training loss at this step is 1.3156732320785522\n",
      "2023-03-08 18:51:27.629 | INFO     | mofgraph2vec.model.nn_lightning:training_step:37 - The training loss at this step is 0.839809000492096\n",
      "2023-03-08 18:51:27.641 | INFO     | mofgraph2vec.model.nn_lightning:training_step:37 - The training loss at this step is 1.057434320449829\n",
      "2023-03-08 18:51:27.654 | INFO     | mofgraph2vec.model.nn_lightning:training_step:37 - The training loss at this step is 1.0301873683929443\n",
      "2023-03-08 18:51:27.673 | INFO     | mofgraph2vec.model.nn_lightning:training_step:37 - The training loss at this step is 0.9591920971870422\n",
      "2023-03-08 18:51:27.705 | INFO     | mofgraph2vec.model.nn_lightning:training_step:37 - The training loss at this step is 1.2032469511032104\n",
      "2023-03-08 18:51:27.716 | INFO     | mofgraph2vec.model.nn_lightning:training_step:37 - The training loss at this step is 0.8215157985687256\n",
      "2023-03-08 18:51:31.035 | INFO     | mofgraph2vec.model.nn_lightning:training_step:37 - The training loss at this step is 1.5140396356582642\n",
      "2023-03-08 18:51:31.047 | INFO     | mofgraph2vec.model.nn_lightning:training_step:37 - The training loss at this step is 0.7102342247962952\n",
      "2023-03-08 18:51:31.058 | INFO     | mofgraph2vec.model.nn_lightning:training_step:37 - The training loss at this step is 0.9547111988067627\n",
      "2023-03-08 18:51:31.068 | INFO     | mofgraph2vec.model.nn_lightning:training_step:37 - The training loss at this step is 0.8755462169647217\n",
      "2023-03-08 18:51:31.079 | INFO     | mofgraph2vec.model.nn_lightning:training_step:37 - The training loss at this step is 1.1223422288894653\n",
      "2023-03-08 18:51:31.090 | INFO     | mofgraph2vec.model.nn_lightning:training_step:37 - The training loss at this step is 1.1555585861206055\n",
      "2023-03-08 18:51:31.100 | INFO     | mofgraph2vec.model.nn_lightning:training_step:37 - The training loss at this step is 0.8586816787719727\n",
      "2023-03-08 18:51:31.113 | INFO     | mofgraph2vec.model.nn_lightning:training_step:37 - The training loss at this step is 1.3909543752670288\n",
      "2023-03-08 18:51:31.125 | INFO     | mofgraph2vec.model.nn_lightning:training_step:37 - The training loss at this step is 1.3282233476638794\n",
      "2023-03-08 18:51:31.137 | INFO     | mofgraph2vec.model.nn_lightning:training_step:37 - The training loss at this step is 0.9667577743530273\n",
      "2023-03-08 18:51:31.148 | INFO     | mofgraph2vec.model.nn_lightning:training_step:37 - The training loss at this step is 1.2075670957565308\n",
      "2023-03-08 18:51:31.159 | INFO     | mofgraph2vec.model.nn_lightning:training_step:37 - The training loss at this step is 1.5293182134628296\n",
      "2023-03-08 18:51:31.169 | INFO     | mofgraph2vec.model.nn_lightning:training_step:37 - The training loss at this step is 0.5939935445785522\n",
      "2023-03-08 18:51:31.180 | INFO     | mofgraph2vec.model.nn_lightning:training_step:37 - The training loss at this step is 1.1044195890426636\n",
      "2023-03-08 18:51:31.193 | INFO     | mofgraph2vec.model.nn_lightning:training_step:37 - The training loss at this step is 0.9821842908859253\n",
      "2023-03-08 18:51:31.228 | INFO     | mofgraph2vec.model.nn_lightning:training_step:37 - The training loss at this step is 1.4638537168502808\n",
      "2023-03-08 18:51:31.246 | INFO     | mofgraph2vec.model.nn_lightning:training_step:37 - The training loss at this step is 1.0131325721740723\n",
      "2023-03-08 18:51:31.258 | INFO     | mofgraph2vec.model.nn_lightning:training_step:37 - The training loss at this step is 1.0994088649749756\n",
      "2023-03-08 18:51:31.268 | INFO     | mofgraph2vec.model.nn_lightning:training_step:37 - The training loss at this step is 0.8295135498046875\n",
      "2023-03-08 18:51:31.279 | INFO     | mofgraph2vec.model.nn_lightning:training_step:37 - The training loss at this step is 1.1080902814865112\n",
      "2023-03-08 18:51:31.290 | INFO     | mofgraph2vec.model.nn_lightning:training_step:37 - The training loss at this step is 1.0169508457183838\n",
      "2023-03-08 18:51:31.300 | INFO     | mofgraph2vec.model.nn_lightning:training_step:37 - The training loss at this step is 0.7363061308860779\n"
     ]
    },
    {
     "data": {
      "application/vnd.jupyter.widget-view+json": {
       "model_id": "69b92fa4573249d9938195956b499637",
       "version_major": 2,
       "version_minor": 0
      },
      "text/plain": [
       "Validation: 0it [00:00, ?it/s]"
      ]
     },
     "metadata": {},
     "output_type": "display_data"
    },
    {
     "name": "stderr",
     "output_type": "stream",
     "text": [
      "2023-03-08 18:51:34.664 | INFO     | mofgraph2vec.model.nn_lightning:training_step:37 - The training loss at this step is 1.2160959243774414\n",
      "2023-03-08 18:51:34.678 | INFO     | mofgraph2vec.model.nn_lightning:training_step:37 - The training loss at this step is 1.1994267702102661\n",
      "2023-03-08 18:51:34.689 | INFO     | mofgraph2vec.model.nn_lightning:training_step:37 - The training loss at this step is 0.6643903255462646\n",
      "2023-03-08 18:51:34.699 | INFO     | mofgraph2vec.model.nn_lightning:training_step:37 - The training loss at this step is 0.8989432454109192\n",
      "2023-03-08 18:51:34.710 | INFO     | mofgraph2vec.model.nn_lightning:training_step:37 - The training loss at this step is 0.8071016669273376\n",
      "2023-03-08 18:51:34.721 | INFO     | mofgraph2vec.model.nn_lightning:training_step:37 - The training loss at this step is 1.0649206638336182\n",
      "2023-03-08 18:51:34.731 | INFO     | mofgraph2vec.model.nn_lightning:training_step:37 - The training loss at this step is 1.2328139543533325\n",
      "2023-03-08 18:51:34.743 | INFO     | mofgraph2vec.model.nn_lightning:training_step:37 - The training loss at this step is 1.1558990478515625\n",
      "2023-03-08 18:51:34.754 | INFO     | mofgraph2vec.model.nn_lightning:training_step:37 - The training loss at this step is 0.6688021421432495\n",
      "2023-03-08 18:51:34.766 | INFO     | mofgraph2vec.model.nn_lightning:training_step:37 - The training loss at this step is 0.8312995433807373\n",
      "2023-03-08 18:51:34.778 | INFO     | mofgraph2vec.model.nn_lightning:training_step:37 - The training loss at this step is 1.0891621112823486\n",
      "2023-03-08 18:51:34.789 | INFO     | mofgraph2vec.model.nn_lightning:training_step:37 - The training loss at this step is 1.0363837480545044\n",
      "2023-03-08 18:51:34.798 | INFO     | mofgraph2vec.model.nn_lightning:training_step:37 - The training loss at this step is 1.063912272453308\n",
      "2023-03-08 18:51:34.809 | INFO     | mofgraph2vec.model.nn_lightning:training_step:37 - The training loss at this step is 0.981644868850708\n",
      "2023-03-08 18:51:34.819 | INFO     | mofgraph2vec.model.nn_lightning:training_step:37 - The training loss at this step is 1.5456303358078003\n",
      "2023-03-08 18:51:34.832 | INFO     | mofgraph2vec.model.nn_lightning:training_step:37 - The training loss at this step is 1.2805675268173218\n",
      "2023-03-08 18:51:34.843 | INFO     | mofgraph2vec.model.nn_lightning:training_step:37 - The training loss at this step is 1.0244505405426025\n",
      "2023-03-08 18:51:34.854 | INFO     | mofgraph2vec.model.nn_lightning:training_step:37 - The training loss at this step is 1.8585193157196045\n",
      "2023-03-08 18:51:34.863 | INFO     | mofgraph2vec.model.nn_lightning:training_step:37 - The training loss at this step is 0.8040613532066345\n",
      "2023-03-08 18:51:34.874 | INFO     | mofgraph2vec.model.nn_lightning:training_step:37 - The training loss at this step is 0.7982417345046997\n",
      "2023-03-08 18:51:34.916 | INFO     | mofgraph2vec.model.nn_lightning:training_step:37 - The training loss at this step is 0.9045328497886658\n",
      "2023-03-08 18:51:34.929 | INFO     | mofgraph2vec.model.nn_lightning:training_step:37 - The training loss at this step is 1.003485918045044\n",
      "2023-03-08 18:51:34.941 | INFO     | mofgraph2vec.model.nn_lightning:training_step:37 - The training loss at this step is 1.2718563079833984\n",
      "2023-03-08 18:51:34.951 | INFO     | mofgraph2vec.model.nn_lightning:training_step:37 - The training loss at this step is 1.2041116952896118\n",
      "2023-03-08 18:51:34.962 | INFO     | mofgraph2vec.model.nn_lightning:training_step:37 - The training loss at this step is 1.3765896558761597\n",
      "2023-03-08 18:51:34.973 | INFO     | mofgraph2vec.model.nn_lightning:training_step:37 - The training loss at this step is 0.7839002013206482\n",
      "2023-03-08 18:51:34.983 | INFO     | mofgraph2vec.model.nn_lightning:training_step:37 - The training loss at this step is 0.9495379328727722\n",
      "2023-03-08 18:51:34.994 | INFO     | mofgraph2vec.model.nn_lightning:training_step:37 - The training loss at this step is 1.0444128513336182\n",
      "2023-03-08 18:51:41.588 | INFO     | mofgraph2vec.model.nn_lightning:training_step:37 - The training loss at this step is 1.0836024284362793\n",
      "2023-03-08 18:51:41.600 | INFO     | mofgraph2vec.model.nn_lightning:training_step:37 - The training loss at this step is 1.0214214324951172\n",
      "2023-03-08 18:51:41.611 | INFO     | mofgraph2vec.model.nn_lightning:training_step:37 - The training loss at this step is 0.7762638330459595\n",
      "2023-03-08 18:51:41.622 | INFO     | mofgraph2vec.model.nn_lightning:training_step:37 - The training loss at this step is 0.9650877714157104\n",
      "2023-03-08 18:51:41.631 | INFO     | mofgraph2vec.model.nn_lightning:training_step:37 - The training loss at this step is 1.3641157150268555\n",
      "2023-03-08 18:51:41.643 | INFO     | mofgraph2vec.model.nn_lightning:training_step:37 - The training loss at this step is 0.8378315567970276\n",
      "2023-03-08 18:51:41.653 | INFO     | mofgraph2vec.model.nn_lightning:training_step:37 - The training loss at this step is 1.1775603294372559\n",
      "2023-03-08 18:51:41.663 | INFO     | mofgraph2vec.model.nn_lightning:training_step:37 - The training loss at this step is 0.9319615364074707\n",
      "2023-03-08 18:51:41.674 | INFO     | mofgraph2vec.model.nn_lightning:training_step:37 - The training loss at this step is 1.3703124523162842\n",
      "2023-03-08 18:51:41.710 | INFO     | mofgraph2vec.model.nn_lightning:training_step:37 - The training loss at this step is 0.9601589441299438\n",
      "2023-03-08 18:51:41.726 | INFO     | mofgraph2vec.model.nn_lightning:training_step:37 - The training loss at this step is 1.2214508056640625\n",
      "2023-03-08 18:51:41.737 | INFO     | mofgraph2vec.model.nn_lightning:training_step:37 - The training loss at this step is 0.8334051966667175\n",
      "2023-03-08 18:51:41.746 | INFO     | mofgraph2vec.model.nn_lightning:training_step:37 - The training loss at this step is 1.1956355571746826\n",
      "2023-03-08 18:51:41.757 | INFO     | mofgraph2vec.model.nn_lightning:training_step:37 - The training loss at this step is 1.1104261875152588\n"
     ]
    },
    {
     "data": {
      "application/vnd.jupyter.widget-view+json": {
       "model_id": "45c5681d9b064843b13a6b708be060a0",
       "version_major": 2,
       "version_minor": 0
      },
      "text/plain": [
       "Validation: 0it [00:00, ?it/s]"
      ]
     },
     "metadata": {},
     "output_type": "display_data"
    },
    {
     "name": "stderr",
     "output_type": "stream",
     "text": [
      "2023-03-08 18:51:45.090 | INFO     | mofgraph2vec.model.nn_lightning:training_step:37 - The training loss at this step is 1.0233489274978638\n",
      "2023-03-08 18:51:45.105 | INFO     | mofgraph2vec.model.nn_lightning:training_step:37 - The training loss at this step is 0.8120164275169373\n",
      "2023-03-08 18:51:45.115 | INFO     | mofgraph2vec.model.nn_lightning:training_step:37 - The training loss at this step is 0.8403489589691162\n",
      "2023-03-08 18:51:45.128 | INFO     | mofgraph2vec.model.nn_lightning:training_step:37 - The training loss at this step is 1.3486640453338623\n",
      "2023-03-08 18:51:45.139 | INFO     | mofgraph2vec.model.nn_lightning:training_step:37 - The training loss at this step is 0.8626147508621216\n",
      "2023-03-08 18:51:45.150 | INFO     | mofgraph2vec.model.nn_lightning:training_step:37 - The training loss at this step is 0.8688062429428101\n",
      "2023-03-08 18:51:45.195 | INFO     | mofgraph2vec.model.nn_lightning:training_step:37 - The training loss at this step is 1.0665985345840454\n",
      "2023-03-08 18:51:45.208 | INFO     | mofgraph2vec.model.nn_lightning:training_step:37 - The training loss at this step is 1.3350950479507446\n",
      "2023-03-08 18:51:45.223 | INFO     | mofgraph2vec.model.nn_lightning:training_step:37 - The training loss at this step is 1.2544701099395752\n",
      "2023-03-08 18:51:45.235 | INFO     | mofgraph2vec.model.nn_lightning:training_step:37 - The training loss at this step is 0.9418787360191345\n",
      "2023-03-08 18:51:45.245 | INFO     | mofgraph2vec.model.nn_lightning:training_step:37 - The training loss at this step is 1.4404497146606445\n",
      "2023-03-08 18:51:45.257 | INFO     | mofgraph2vec.model.nn_lightning:training_step:37 - The training loss at this step is 0.6942991614341736\n",
      "2023-03-08 18:51:45.269 | INFO     | mofgraph2vec.model.nn_lightning:training_step:37 - The training loss at this step is 1.2013243436813354\n",
      "2023-03-08 18:51:45.287 | INFO     | mofgraph2vec.model.nn_lightning:training_step:37 - The training loss at this step is 0.9294698238372803\n",
      "2023-03-08 18:51:45.304 | INFO     | mofgraph2vec.model.nn_lightning:training_step:37 - The training loss at this step is 1.039652943611145\n",
      "2023-03-08 18:51:45.353 | INFO     | mofgraph2vec.model.nn_lightning:training_step:37 - The training loss at this step is 1.141931414604187\n",
      "2023-03-08 18:51:45.381 | INFO     | mofgraph2vec.model.nn_lightning:training_step:37 - The training loss at this step is 1.075354814529419\n",
      "2023-03-08 18:51:45.397 | INFO     | mofgraph2vec.model.nn_lightning:training_step:37 - The training loss at this step is 0.6057614684104919\n",
      "2023-03-08 18:51:45.412 | INFO     | mofgraph2vec.model.nn_lightning:training_step:37 - The training loss at this step is 1.1015242338180542\n",
      "2023-03-08 18:51:45.427 | INFO     | mofgraph2vec.model.nn_lightning:training_step:37 - The training loss at this step is 1.1018915176391602\n",
      "2023-03-08 18:51:45.443 | INFO     | mofgraph2vec.model.nn_lightning:training_step:37 - The training loss at this step is 1.3074744939804077\n",
      "2023-03-08 18:51:45.458 | INFO     | mofgraph2vec.model.nn_lightning:training_step:37 - The training loss at this step is 0.8289888501167297\n",
      "2023-03-08 18:51:45.471 | INFO     | mofgraph2vec.model.nn_lightning:training_step:37 - The training loss at this step is 1.1557387113571167\n",
      "2023-03-08 18:51:45.484 | INFO     | mofgraph2vec.model.nn_lightning:training_step:37 - The training loss at this step is 1.4179611206054688\n",
      "2023-03-08 18:51:45.498 | INFO     | mofgraph2vec.model.nn_lightning:training_step:37 - The training loss at this step is 1.0798875093460083\n",
      "2023-03-08 18:51:45.511 | INFO     | mofgraph2vec.model.nn_lightning:training_step:37 - The training loss at this step is 1.123996376991272\n",
      "2023-03-08 18:51:45.525 | INFO     | mofgraph2vec.model.nn_lightning:training_step:37 - The training loss at this step is 0.9857178926467896\n",
      "2023-03-08 18:51:45.543 | INFO     | mofgraph2vec.model.nn_lightning:training_step:37 - The training loss at this step is 1.0347129106521606\n",
      "2023-03-08 18:51:45.563 | INFO     | mofgraph2vec.model.nn_lightning:training_step:37 - The training loss at this step is 1.0445945262908936\n",
      "2023-03-08 18:51:45.611 | INFO     | mofgraph2vec.model.nn_lightning:training_step:37 - The training loss at this step is 0.8382567167282104\n",
      "2023-03-08 18:51:45.629 | INFO     | mofgraph2vec.model.nn_lightning:training_step:37 - The training loss at this step is 1.2355796098709106\n",
      "2023-03-08 18:51:45.643 | INFO     | mofgraph2vec.model.nn_lightning:training_step:37 - The training loss at this step is 1.1095423698425293\n",
      "2023-03-08 18:51:45.655 | INFO     | mofgraph2vec.model.nn_lightning:training_step:37 - The training loss at this step is 0.7157810926437378\n",
      "2023-03-08 18:51:45.666 | INFO     | mofgraph2vec.model.nn_lightning:training_step:37 - The training loss at this step is 1.1387985944747925\n",
      "2023-03-08 18:51:45.678 | INFO     | mofgraph2vec.model.nn_lightning:training_step:37 - The training loss at this step is 0.8360798954963684\n",
      "2023-03-08 18:51:45.691 | INFO     | mofgraph2vec.model.nn_lightning:training_step:37 - The training loss at this step is 1.4226176738739014\n",
      "2023-03-08 18:51:49.027 | INFO     | mofgraph2vec.model.nn_lightning:training_step:37 - The training loss at this step is 1.0893548727035522\n",
      "2023-03-08 18:51:49.038 | INFO     | mofgraph2vec.model.nn_lightning:training_step:37 - The training loss at this step is 0.8456460237503052\n",
      "2023-03-08 18:51:49.050 | INFO     | mofgraph2vec.model.nn_lightning:training_step:37 - The training loss at this step is 1.0765260457992554\n",
      "2023-03-08 18:51:49.065 | INFO     | mofgraph2vec.model.nn_lightning:training_step:37 - The training loss at this step is 1.1537423133850098\n",
      "2023-03-08 18:51:49.077 | INFO     | mofgraph2vec.model.nn_lightning:training_step:37 - The training loss at this step is 1.272111415863037\n",
      "2023-03-08 18:51:49.089 | INFO     | mofgraph2vec.model.nn_lightning:training_step:37 - The training loss at this step is 1.2333083152770996\n"
     ]
    },
    {
     "data": {
      "application/vnd.jupyter.widget-view+json": {
       "model_id": "72302ad36012405d8d888c5721e8ebdd",
       "version_major": 2,
       "version_minor": 0
      },
      "text/plain": [
       "Validation: 0it [00:00, ?it/s]"
      ]
     },
     "metadata": {},
     "output_type": "display_data"
    },
    {
     "name": "stderr",
     "output_type": "stream",
     "text": [
      "2023-03-08 18:51:52.575 | INFO     | mofgraph2vec.model.nn_lightning:training_step:37 - The training loss at this step is 0.8591034412384033\n",
      "2023-03-08 18:51:52.586 | INFO     | mofgraph2vec.model.nn_lightning:training_step:37 - The training loss at this step is 0.9276033043861389\n",
      "2023-03-08 18:51:52.630 | INFO     | mofgraph2vec.model.nn_lightning:training_step:37 - The training loss at this step is 1.4239037036895752\n",
      "2023-03-08 18:51:52.658 | INFO     | mofgraph2vec.model.nn_lightning:training_step:37 - The training loss at this step is 0.9194003939628601\n",
      "2023-03-08 18:51:52.673 | INFO     | mofgraph2vec.model.nn_lightning:training_step:37 - The training loss at this step is 0.9495004415512085\n",
      "2023-03-08 18:51:52.686 | INFO     | mofgraph2vec.model.nn_lightning:training_step:37 - The training loss at this step is 1.0087997913360596\n",
      "2023-03-08 18:51:52.699 | INFO     | mofgraph2vec.model.nn_lightning:training_step:37 - The training loss at this step is 0.9180966019630432\n",
      "2023-03-08 18:51:52.712 | INFO     | mofgraph2vec.model.nn_lightning:training_step:37 - The training loss at this step is 1.4077147245407104\n",
      "2023-03-08 18:51:52.727 | INFO     | mofgraph2vec.model.nn_lightning:training_step:37 - The training loss at this step is 1.0460715293884277\n",
      "2023-03-08 18:51:52.742 | INFO     | mofgraph2vec.model.nn_lightning:training_step:37 - The training loss at this step is 1.1498650312423706\n",
      "2023-03-08 18:51:52.755 | INFO     | mofgraph2vec.model.nn_lightning:training_step:37 - The training loss at this step is 0.7033559679985046\n",
      "2023-03-08 18:51:52.766 | INFO     | mofgraph2vec.model.nn_lightning:training_step:37 - The training loss at this step is 1.4911491870880127\n",
      "2023-03-08 18:51:52.782 | INFO     | mofgraph2vec.model.nn_lightning:training_step:37 - The training loss at this step is 1.2190535068511963\n",
      "2023-03-08 18:51:52.795 | INFO     | mofgraph2vec.model.nn_lightning:training_step:37 - The training loss at this step is 1.1535968780517578\n",
      "2023-03-08 18:51:52.810 | INFO     | mofgraph2vec.model.nn_lightning:training_step:37 - The training loss at this step is 0.8529161214828491\n",
      "2023-03-08 18:51:52.825 | INFO     | mofgraph2vec.model.nn_lightning:training_step:37 - The training loss at this step is 1.054914116859436\n",
      "2023-03-08 18:51:52.836 | INFO     | mofgraph2vec.model.nn_lightning:training_step:37 - The training loss at this step is 0.9356774091720581\n",
      "2023-03-08 18:51:52.850 | INFO     | mofgraph2vec.model.nn_lightning:training_step:37 - The training loss at this step is 0.9728033542633057\n",
      "2023-03-08 18:51:52.864 | INFO     | mofgraph2vec.model.nn_lightning:training_step:37 - The training loss at this step is 0.6719191074371338\n",
      "2023-03-08 18:51:52.882 | INFO     | mofgraph2vec.model.nn_lightning:training_step:37 - The training loss at this step is 1.0640156269073486\n",
      "2023-03-08 18:51:52.896 | INFO     | mofgraph2vec.model.nn_lightning:training_step:37 - The training loss at this step is 0.8241168260574341\n",
      "2023-03-08 18:51:52.940 | INFO     | mofgraph2vec.model.nn_lightning:training_step:37 - The training loss at this step is 1.0993683338165283\n",
      "2023-03-08 18:51:52.958 | INFO     | mofgraph2vec.model.nn_lightning:training_step:37 - The training loss at this step is 1.0668574571609497\n",
      "2023-03-08 18:51:52.972 | INFO     | mofgraph2vec.model.nn_lightning:training_step:37 - The training loss at this step is 1.1036757230758667\n",
      "2023-03-08 18:51:52.988 | INFO     | mofgraph2vec.model.nn_lightning:training_step:37 - The training loss at this step is 1.3542487621307373\n",
      "2023-03-08 18:51:52.999 | INFO     | mofgraph2vec.model.nn_lightning:training_step:37 - The training loss at this step is 0.7816873788833618\n",
      "2023-03-08 18:51:53.013 | INFO     | mofgraph2vec.model.nn_lightning:training_step:37 - The training loss at this step is 1.1591763496398926\n",
      "2023-03-08 18:51:53.027 | INFO     | mofgraph2vec.model.nn_lightning:training_step:37 - The training loss at this step is 1.2421951293945312\n",
      "2023-03-08 18:51:53.040 | INFO     | mofgraph2vec.model.nn_lightning:training_step:37 - The training loss at this step is 1.1733089685440063\n",
      "2023-03-08 18:51:53.051 | INFO     | mofgraph2vec.model.nn_lightning:training_step:37 - The training loss at this step is 1.0838567018508911\n",
      "2023-03-08 18:51:53.065 | INFO     | mofgraph2vec.model.nn_lightning:training_step:37 - The training loss at this step is 0.91107177734375\n",
      "2023-03-08 18:51:53.078 | INFO     | mofgraph2vec.model.nn_lightning:training_step:37 - The training loss at this step is 1.6675537824630737\n",
      "2023-03-08 18:51:53.091 | INFO     | mofgraph2vec.model.nn_lightning:training_step:37 - The training loss at this step is 1.0981829166412354\n",
      "2023-03-08 18:51:53.105 | INFO     | mofgraph2vec.model.nn_lightning:training_step:37 - The training loss at this step is 1.1928642988204956\n",
      "2023-03-08 18:51:53.115 | INFO     | mofgraph2vec.model.nn_lightning:training_step:37 - The training loss at this step is 0.722917377948761\n",
      "2023-03-08 18:51:53.130 | INFO     | mofgraph2vec.model.nn_lightning:training_step:37 - The training loss at this step is 0.8338203430175781\n",
      "2023-03-08 18:51:53.142 | INFO     | mofgraph2vec.model.nn_lightning:training_step:37 - The training loss at this step is 0.9498395323753357\n",
      "2023-03-08 18:51:53.155 | INFO     | mofgraph2vec.model.nn_lightning:training_step:37 - The training loss at this step is 1.2125959396362305\n",
      "2023-03-08 18:51:53.166 | INFO     | mofgraph2vec.model.nn_lightning:training_step:37 - The training loss at this step is 0.699617326259613\n",
      "2023-03-08 18:51:53.178 | INFO     | mofgraph2vec.model.nn_lightning:training_step:37 - The training loss at this step is 1.4232637882232666\n",
      "2023-03-08 18:51:53.217 | INFO     | mofgraph2vec.model.nn_lightning:training_step:37 - The training loss at this step is 1.123734474182129\n",
      "2023-03-08 18:51:53.233 | INFO     | mofgraph2vec.model.nn_lightning:training_step:37 - The training loss at this step is 0.5846391320228577\n"
     ]
    },
    {
     "data": {
      "application/vnd.jupyter.widget-view+json": {
       "model_id": "25f193d40b19471e9770462602558607",
       "version_major": 2,
       "version_minor": 0
      },
      "text/plain": [
       "Validation: 0it [00:00, ?it/s]"
      ]
     },
     "metadata": {},
     "output_type": "display_data"
    },
    {
     "name": "stderr",
     "output_type": "stream",
     "text": [
      "2023-03-08 18:51:56.678 | INFO     | mofgraph2vec.model.nn_lightning:training_step:37 - The training loss at this step is 1.2661731243133545\n",
      "2023-03-08 18:51:56.689 | INFO     | mofgraph2vec.model.nn_lightning:training_step:37 - The training loss at this step is 1.1431989669799805\n",
      "2023-03-08 18:52:03.431 | INFO     | mofgraph2vec.model.nn_lightning:training_step:37 - The training loss at this step is 1.328447937965393\n",
      "2023-03-08 18:52:03.443 | INFO     | mofgraph2vec.model.nn_lightning:training_step:37 - The training loss at this step is 1.1461588144302368\n",
      "2023-03-08 18:52:03.458 | INFO     | mofgraph2vec.model.nn_lightning:training_step:37 - The training loss at this step is 0.9036963582038879\n",
      "2023-03-08 18:52:03.470 | INFO     | mofgraph2vec.model.nn_lightning:training_step:37 - The training loss at this step is 1.0192265510559082\n",
      "2023-03-08 18:52:03.486 | INFO     | mofgraph2vec.model.nn_lightning:training_step:37 - The training loss at this step is 1.283092975616455\n",
      "2023-03-08 18:52:03.500 | INFO     | mofgraph2vec.model.nn_lightning:training_step:37 - The training loss at this step is 1.1607962846755981\n",
      "2023-03-08 18:52:03.515 | INFO     | mofgraph2vec.model.nn_lightning:training_step:37 - The training loss at this step is 0.9662609696388245\n",
      "2023-03-08 18:52:03.531 | INFO     | mofgraph2vec.model.nn_lightning:training_step:37 - The training loss at this step is 0.9673501253128052\n",
      "2023-03-08 18:52:03.544 | INFO     | mofgraph2vec.model.nn_lightning:training_step:37 - The training loss at this step is 0.7965613007545471\n",
      "2023-03-08 18:52:03.558 | INFO     | mofgraph2vec.model.nn_lightning:training_step:37 - The training loss at this step is 1.1065673828125\n",
      "2023-03-08 18:52:03.574 | INFO     | mofgraph2vec.model.nn_lightning:training_step:37 - The training loss at this step is 1.151195764541626\n",
      "2023-03-08 18:52:03.590 | INFO     | mofgraph2vec.model.nn_lightning:training_step:37 - The training loss at this step is 1.1751071214675903\n",
      "2023-03-08 18:52:03.641 | INFO     | mofgraph2vec.model.nn_lightning:training_step:37 - The training loss at this step is 1.2478941679000854\n",
      "2023-03-08 18:52:03.654 | INFO     | mofgraph2vec.model.nn_lightning:training_step:37 - The training loss at this step is 0.5888728499412537\n",
      "2023-03-08 18:52:03.665 | INFO     | mofgraph2vec.model.nn_lightning:training_step:37 - The training loss at this step is 0.8478495478630066\n",
      "2023-03-08 18:52:03.678 | INFO     | mofgraph2vec.model.nn_lightning:training_step:37 - The training loss at this step is 1.2053660154342651\n",
      "2023-03-08 18:52:03.692 | INFO     | mofgraph2vec.model.nn_lightning:training_step:37 - The training loss at this step is 0.7552400827407837\n",
      "2023-03-08 18:52:03.709 | INFO     | mofgraph2vec.model.nn_lightning:training_step:37 - The training loss at this step is 0.8453608751296997\n",
      "2023-03-08 18:52:03.723 | INFO     | mofgraph2vec.model.nn_lightning:training_step:37 - The training loss at this step is 0.8278177380561829\n",
      "2023-03-08 18:52:03.734 | INFO     | mofgraph2vec.model.nn_lightning:training_step:37 - The training loss at this step is 0.9095091819763184\n",
      "2023-03-08 18:52:03.748 | INFO     | mofgraph2vec.model.nn_lightning:training_step:37 - The training loss at this step is 1.0823560953140259\n",
      "2023-03-08 18:52:03.761 | INFO     | mofgraph2vec.model.nn_lightning:training_step:37 - The training loss at this step is 0.9717913269996643\n",
      "2023-03-08 18:52:03.775 | INFO     | mofgraph2vec.model.nn_lightning:training_step:37 - The training loss at this step is 1.045320987701416\n",
      "2023-03-08 18:52:03.790 | INFO     | mofgraph2vec.model.nn_lightning:training_step:37 - The training loss at this step is 1.0420092344284058\n",
      "2023-03-08 18:52:03.815 | INFO     | mofgraph2vec.model.nn_lightning:training_step:37 - The training loss at this step is 1.4978617429733276\n",
      "2023-03-08 18:52:03.832 | INFO     | mofgraph2vec.model.nn_lightning:training_step:37 - The training loss at this step is 1.0926992893218994\n",
      "2023-03-08 18:52:03.845 | INFO     | mofgraph2vec.model.nn_lightning:training_step:37 - The training loss at this step is 0.8971292972564697\n",
      "2023-03-08 18:52:03.861 | INFO     | mofgraph2vec.model.nn_lightning:training_step:37 - The training loss at this step is 1.1383737325668335\n",
      "2023-03-08 18:52:03.876 | INFO     | mofgraph2vec.model.nn_lightning:training_step:37 - The training loss at this step is 1.7112337350845337\n",
      "2023-03-08 18:52:03.891 | INFO     | mofgraph2vec.model.nn_lightning:training_step:37 - The training loss at this step is 0.944653332233429\n",
      "2023-03-08 18:52:03.902 | INFO     | mofgraph2vec.model.nn_lightning:training_step:37 - The training loss at this step is 1.2038986682891846\n",
      "2023-03-08 18:52:03.949 | INFO     | mofgraph2vec.model.nn_lightning:training_step:37 - The training loss at this step is 1.0435094833374023\n",
      "2023-03-08 18:52:03.961 | INFO     | mofgraph2vec.model.nn_lightning:training_step:37 - The training loss at this step is 1.3296494483947754\n",
      "2023-03-08 18:52:03.974 | INFO     | mofgraph2vec.model.nn_lightning:training_step:37 - The training loss at this step is 1.0953527688980103\n",
      "2023-03-08 18:52:03.986 | INFO     | mofgraph2vec.model.nn_lightning:training_step:37 - The training loss at this step is 0.7459640502929688\n",
      "2023-03-08 18:52:03.997 | INFO     | mofgraph2vec.model.nn_lightning:training_step:37 - The training loss at this step is 1.0483795404434204\n",
      "2023-03-08 18:52:04.013 | INFO     | mofgraph2vec.model.nn_lightning:training_step:37 - The training loss at this step is 0.9728944897651672\n",
      "2023-03-08 18:52:04.026 | INFO     | mofgraph2vec.model.nn_lightning:training_step:37 - The training loss at this step is 0.916066586971283\n",
      "2023-03-08 18:52:04.039 | INFO     | mofgraph2vec.model.nn_lightning:training_step:37 - The training loss at this step is 1.0191699266433716\n",
      "2023-03-08 18:52:04.054 | INFO     | mofgraph2vec.model.nn_lightning:training_step:37 - The training loss at this step is 0.5203667283058167\n"
     ]
    },
    {
     "data": {
      "application/vnd.jupyter.widget-view+json": {
       "model_id": "7970cfa423454923b7b6a3d6b8b95182",
       "version_major": 2,
       "version_minor": 0
      },
      "text/plain": [
       "Validation: 0it [00:00, ?it/s]"
      ]
     },
     "metadata": {},
     "output_type": "display_data"
    },
    {
     "name": "stderr",
     "output_type": "stream",
     "text": [
      "2023-03-08 18:52:07.524 | INFO     | mofgraph2vec.model.nn_lightning:training_step:37 - The training loss at this step is 0.8671973347663879\n",
      "2023-03-08 18:52:07.536 | INFO     | mofgraph2vec.model.nn_lightning:training_step:37 - The training loss at this step is 1.920587182044983\n",
      "2023-03-08 18:52:07.550 | INFO     | mofgraph2vec.model.nn_lightning:training_step:37 - The training loss at this step is 0.9788632392883301\n",
      "2023-03-08 18:52:07.564 | INFO     | mofgraph2vec.model.nn_lightning:training_step:37 - The training loss at this step is 1.139176368713379\n",
      "2023-03-08 18:52:07.579 | INFO     | mofgraph2vec.model.nn_lightning:training_step:37 - The training loss at this step is 1.137252926826477\n",
      "2023-03-08 18:52:07.595 | INFO     | mofgraph2vec.model.nn_lightning:training_step:37 - The training loss at this step is 0.8854814171791077\n",
      "2023-03-08 18:52:07.610 | INFO     | mofgraph2vec.model.nn_lightning:training_step:37 - The training loss at this step is 1.2353378534317017\n",
      "2023-03-08 18:52:07.623 | INFO     | mofgraph2vec.model.nn_lightning:training_step:37 - The training loss at this step is 0.9958521723747253\n",
      "2023-03-08 18:52:07.639 | INFO     | mofgraph2vec.model.nn_lightning:training_step:37 - The training loss at this step is 0.8118392825126648\n",
      "2023-03-08 18:52:07.655 | INFO     | mofgraph2vec.model.nn_lightning:training_step:37 - The training loss at this step is 0.9374105334281921\n",
      "2023-03-08 18:52:11.002 | INFO     | mofgraph2vec.model.nn_lightning:training_step:37 - The training loss at this step is 0.6845380067825317\n",
      "2023-03-08 18:52:11.015 | INFO     | mofgraph2vec.model.nn_lightning:training_step:37 - The training loss at this step is 0.9786328673362732\n",
      "2023-03-08 18:52:11.027 | INFO     | mofgraph2vec.model.nn_lightning:training_step:37 - The training loss at this step is 1.1737350225448608\n",
      "2023-03-08 18:52:11.044 | INFO     | mofgraph2vec.model.nn_lightning:training_step:37 - The training loss at this step is 1.3443896770477295\n",
      "2023-03-08 18:52:11.061 | INFO     | mofgraph2vec.model.nn_lightning:training_step:37 - The training loss at this step is 1.296415090560913\n",
      "2023-03-08 18:52:11.079 | INFO     | mofgraph2vec.model.nn_lightning:training_step:37 - The training loss at this step is 1.059167742729187\n",
      "2023-03-08 18:52:11.097 | INFO     | mofgraph2vec.model.nn_lightning:training_step:37 - The training loss at this step is 0.9171216487884521\n",
      "2023-03-08 18:52:11.113 | INFO     | mofgraph2vec.model.nn_lightning:training_step:37 - The training loss at this step is 0.7407821416854858\n",
      "2023-03-08 18:52:11.130 | INFO     | mofgraph2vec.model.nn_lightning:training_step:37 - The training loss at this step is 1.081265926361084\n",
      "2023-03-08 18:52:11.146 | INFO     | mofgraph2vec.model.nn_lightning:training_step:37 - The training loss at this step is 1.0753470659255981\n",
      "2023-03-08 18:52:11.161 | INFO     | mofgraph2vec.model.nn_lightning:training_step:37 - The training loss at this step is 1.4789714813232422\n",
      "2023-03-08 18:52:11.176 | INFO     | mofgraph2vec.model.nn_lightning:training_step:37 - The training loss at this step is 1.0850411653518677\n",
      "2023-03-08 18:52:11.191 | INFO     | mofgraph2vec.model.nn_lightning:training_step:37 - The training loss at this step is 1.0722945928573608\n",
      "2023-03-08 18:52:11.234 | INFO     | mofgraph2vec.model.nn_lightning:training_step:37 - The training loss at this step is 0.9670723080635071\n",
      "2023-03-08 18:52:11.254 | INFO     | mofgraph2vec.model.nn_lightning:training_step:37 - The training loss at this step is 1.0653049945831299\n",
      "2023-03-08 18:52:11.263 | INFO     | mofgraph2vec.model.nn_lightning:training_step:37 - The training loss at this step is 0.7831864953041077\n",
      "2023-03-08 18:52:11.277 | INFO     | mofgraph2vec.model.nn_lightning:training_step:37 - The training loss at this step is 0.9494410157203674\n",
      "2023-03-08 18:52:11.291 | INFO     | mofgraph2vec.model.nn_lightning:training_step:37 - The training loss at this step is 1.0529966354370117\n",
      "2023-03-08 18:52:11.303 | INFO     | mofgraph2vec.model.nn_lightning:training_step:37 - The training loss at this step is 1.066710114479065\n",
      "2023-03-08 18:52:11.317 | INFO     | mofgraph2vec.model.nn_lightning:training_step:37 - The training loss at this step is 0.9283690452575684\n",
      "2023-03-08 18:52:11.334 | INFO     | mofgraph2vec.model.nn_lightning:training_step:37 - The training loss at this step is 1.0762563943862915\n",
      "2023-03-08 18:52:11.348 | INFO     | mofgraph2vec.model.nn_lightning:training_step:37 - The training loss at this step is 1.4970544576644897\n",
      "2023-03-08 18:52:11.361 | INFO     | mofgraph2vec.model.nn_lightning:training_step:37 - The training loss at this step is 1.177581787109375\n",
      "2023-03-08 18:52:11.374 | INFO     | mofgraph2vec.model.nn_lightning:training_step:37 - The training loss at this step is 0.7102710604667664\n",
      "2023-03-08 18:52:11.388 | INFO     | mofgraph2vec.model.nn_lightning:training_step:37 - The training loss at this step is 1.0191335678100586\n",
      "2023-03-08 18:52:11.406 | INFO     | mofgraph2vec.model.nn_lightning:training_step:37 - The training loss at this step is 1.036287546157837\n",
      "2023-03-08 18:52:11.415 | INFO     | mofgraph2vec.model.nn_lightning:training_step:37 - The training loss at this step is 0.8811401128768921\n",
      "2023-03-08 18:52:11.428 | INFO     | mofgraph2vec.model.nn_lightning:training_step:37 - The training loss at this step is 0.8774855136871338\n",
      "2023-03-08 18:52:11.441 | INFO     | mofgraph2vec.model.nn_lightning:training_step:37 - The training loss at this step is 0.9792107343673706\n",
      "2023-03-08 18:52:11.452 | INFO     | mofgraph2vec.model.nn_lightning:training_step:37 - The training loss at this step is 1.0693947076797485\n",
      "2023-03-08 18:52:11.462 | INFO     | mofgraph2vec.model.nn_lightning:training_step:37 - The training loss at this step is 1.3341856002807617\n",
      "2023-03-08 18:52:11.475 | INFO     | mofgraph2vec.model.nn_lightning:training_step:37 - The training loss at this step is 0.6959003210067749\n"
     ]
    },
    {
     "data": {
      "application/vnd.jupyter.widget-view+json": {
       "model_id": "d8c786df18f04ccbb70c00a6e4811001",
       "version_major": 2,
       "version_minor": 0
      },
      "text/plain": [
       "Validation: 0it [00:00, ?it/s]"
      ]
     },
     "metadata": {},
     "output_type": "display_data"
    },
    {
     "name": "stderr",
     "output_type": "stream",
     "text": [
      "2023-03-08 18:52:14.983 | INFO     | mofgraph2vec.model.nn_lightning:training_step:37 - The training loss at this step is 1.242128849029541\n",
      "2023-03-08 18:52:14.995 | INFO     | mofgraph2vec.model.nn_lightning:training_step:37 - The training loss at this step is 1.188897728919983\n",
      "2023-03-08 18:52:15.009 | INFO     | mofgraph2vec.model.nn_lightning:training_step:37 - The training loss at this step is 1.1585900783538818\n",
      "2023-03-08 18:52:15.026 | INFO     | mofgraph2vec.model.nn_lightning:training_step:37 - The training loss at this step is 1.0232431888580322\n",
      "2023-03-08 18:52:15.041 | INFO     | mofgraph2vec.model.nn_lightning:training_step:37 - The training loss at this step is 0.8691186904907227\n",
      "2023-03-08 18:52:15.057 | INFO     | mofgraph2vec.model.nn_lightning:training_step:37 - The training loss at this step is 0.6816338300704956\n",
      "2023-03-08 18:52:15.071 | INFO     | mofgraph2vec.model.nn_lightning:training_step:37 - The training loss at this step is 0.8184149265289307\n",
      "2023-03-08 18:52:15.086 | INFO     | mofgraph2vec.model.nn_lightning:training_step:37 - The training loss at this step is 1.086686134338379\n",
      "2023-03-08 18:52:15.099 | INFO     | mofgraph2vec.model.nn_lightning:training_step:37 - The training loss at this step is 1.0315498113632202\n",
      "2023-03-08 18:52:15.115 | INFO     | mofgraph2vec.model.nn_lightning:training_step:37 - The training loss at this step is 0.7258313298225403\n",
      "2023-03-08 18:52:15.129 | INFO     | mofgraph2vec.model.nn_lightning:training_step:37 - The training loss at this step is 1.0094387531280518\n",
      "2023-03-08 18:52:15.147 | INFO     | mofgraph2vec.model.nn_lightning:training_step:37 - The training loss at this step is 0.8600640296936035\n",
      "2023-03-08 18:52:15.160 | INFO     | mofgraph2vec.model.nn_lightning:training_step:37 - The training loss at this step is 0.9972642660140991\n",
      "2023-03-08 18:52:15.210 | INFO     | mofgraph2vec.model.nn_lightning:training_step:37 - The training loss at this step is 1.1422991752624512\n",
      "2023-03-08 18:52:15.222 | INFO     | mofgraph2vec.model.nn_lightning:training_step:37 - The training loss at this step is 1.0972278118133545\n",
      "2023-03-08 18:52:15.234 | INFO     | mofgraph2vec.model.nn_lightning:training_step:37 - The training loss at this step is 0.9611092805862427\n",
      "2023-03-08 18:52:15.261 | INFO     | mofgraph2vec.model.nn_lightning:training_step:37 - The training loss at this step is 1.3453502655029297\n",
      "2023-03-08 18:52:15.280 | INFO     | mofgraph2vec.model.nn_lightning:training_step:37 - The training loss at this step is 0.9810283184051514\n",
      "2023-03-08 18:52:22.016 | INFO     | mofgraph2vec.model.nn_lightning:training_step:37 - The training loss at this step is 0.9042624235153198\n",
      "2023-03-08 18:52:22.027 | INFO     | mofgraph2vec.model.nn_lightning:training_step:37 - The training loss at this step is 1.2919121980667114\n",
      "2023-03-08 18:52:22.044 | INFO     | mofgraph2vec.model.nn_lightning:training_step:37 - The training loss at this step is 0.9237731695175171\n",
      "2023-03-08 18:52:22.060 | INFO     | mofgraph2vec.model.nn_lightning:training_step:37 - The training loss at this step is 0.7787173986434937\n",
      "2023-03-08 18:52:22.077 | INFO     | mofgraph2vec.model.nn_lightning:training_step:37 - The training loss at this step is 1.1618311405181885\n",
      "2023-03-08 18:52:22.094 | INFO     | mofgraph2vec.model.nn_lightning:training_step:37 - The training loss at this step is 0.7705659866333008\n",
      "2023-03-08 18:52:22.108 | INFO     | mofgraph2vec.model.nn_lightning:training_step:37 - The training loss at this step is 1.0412929058074951\n",
      "2023-03-08 18:52:22.123 | INFO     | mofgraph2vec.model.nn_lightning:training_step:37 - The training loss at this step is 1.3514623641967773\n",
      "2023-03-08 18:52:22.138 | INFO     | mofgraph2vec.model.nn_lightning:training_step:37 - The training loss at this step is 1.0784448385238647\n",
      "2023-03-08 18:52:22.151 | INFO     | mofgraph2vec.model.nn_lightning:training_step:37 - The training loss at this step is 1.4651532173156738\n",
      "2023-03-08 18:52:22.168 | INFO     | mofgraph2vec.model.nn_lightning:training_step:37 - The training loss at this step is 1.1069350242614746\n",
      "2023-03-08 18:52:22.182 | INFO     | mofgraph2vec.model.nn_lightning:training_step:37 - The training loss at this step is 0.9617939591407776\n",
      "2023-03-08 18:52:22.198 | INFO     | mofgraph2vec.model.nn_lightning:training_step:37 - The training loss at this step is 0.9644311666488647\n",
      "2023-03-08 18:52:22.211 | INFO     | mofgraph2vec.model.nn_lightning:training_step:37 - The training loss at this step is 1.2854443788528442\n",
      "2023-03-08 18:52:22.224 | INFO     | mofgraph2vec.model.nn_lightning:training_step:37 - The training loss at this step is 1.3757178783416748\n",
      "2023-03-08 18:52:22.236 | INFO     | mofgraph2vec.model.nn_lightning:training_step:37 - The training loss at this step is 1.2040143013000488\n",
      "2023-03-08 18:52:22.279 | INFO     | mofgraph2vec.model.nn_lightning:training_step:37 - The training loss at this step is 1.168428897857666\n",
      "2023-03-08 18:52:22.292 | INFO     | mofgraph2vec.model.nn_lightning:training_step:37 - The training loss at this step is 0.9689938426017761\n",
      "2023-03-08 18:52:22.305 | INFO     | mofgraph2vec.model.nn_lightning:training_step:37 - The training loss at this step is 1.2872017621994019\n",
      "2023-03-08 18:52:22.316 | INFO     | mofgraph2vec.model.nn_lightning:training_step:37 - The training loss at this step is 1.0556962490081787\n",
      "2023-03-08 18:52:22.328 | INFO     | mofgraph2vec.model.nn_lightning:training_step:37 - The training loss at this step is 1.3652231693267822\n",
      "2023-03-08 18:52:22.341 | INFO     | mofgraph2vec.model.nn_lightning:training_step:37 - The training loss at this step is 0.7031141519546509\n",
      "2023-03-08 18:52:22.355 | INFO     | mofgraph2vec.model.nn_lightning:training_step:37 - The training loss at this step is 0.6531665325164795\n",
      "2023-03-08 18:52:22.364 | INFO     | mofgraph2vec.model.nn_lightning:training_step:37 - The training loss at this step is 1.8684780597686768\n"
     ]
    },
    {
     "data": {
      "application/vnd.jupyter.widget-view+json": {
       "model_id": "1b7e739ba814476eae5690f87fa5ea5b",
       "version_major": 2,
       "version_minor": 0
      },
      "text/plain": [
       "Validation: 0it [00:00, ?it/s]"
      ]
     },
     "metadata": {},
     "output_type": "display_data"
    },
    {
     "name": "stderr",
     "output_type": "stream",
     "text": [
      "2023-03-08 18:52:25.815 | INFO     | mofgraph2vec.model.nn_lightning:training_step:37 - The training loss at this step is 0.9266758561134338\n",
      "2023-03-08 18:52:25.827 | INFO     | mofgraph2vec.model.nn_lightning:training_step:37 - The training loss at this step is 1.1669502258300781\n",
      "2023-03-08 18:52:25.842 | INFO     | mofgraph2vec.model.nn_lightning:training_step:37 - The training loss at this step is 1.0465428829193115\n",
      "2023-03-08 18:52:25.860 | INFO     | mofgraph2vec.model.nn_lightning:training_step:37 - The training loss at this step is 1.221411943435669\n",
      "2023-03-08 18:52:25.883 | INFO     | mofgraph2vec.model.nn_lightning:training_step:37 - The training loss at this step is 0.9246145486831665\n",
      "2023-03-08 18:52:25.900 | INFO     | mofgraph2vec.model.nn_lightning:training_step:37 - The training loss at this step is 0.8847296833992004\n",
      "2023-03-08 18:52:25.912 | INFO     | mofgraph2vec.model.nn_lightning:training_step:37 - The training loss at this step is 1.1446526050567627\n",
      "2023-03-08 18:52:25.926 | INFO     | mofgraph2vec.model.nn_lightning:training_step:37 - The training loss at this step is 1.1213513612747192\n",
      "2023-03-08 18:52:25.940 | INFO     | mofgraph2vec.model.nn_lightning:training_step:37 - The training loss at this step is 1.1952552795410156\n",
      "2023-03-08 18:52:25.952 | INFO     | mofgraph2vec.model.nn_lightning:training_step:37 - The training loss at this step is 1.0574144124984741\n",
      "2023-03-08 18:52:26.006 | INFO     | mofgraph2vec.model.nn_lightning:training_step:37 - The training loss at this step is 1.1033761501312256\n",
      "2023-03-08 18:52:26.018 | INFO     | mofgraph2vec.model.nn_lightning:training_step:37 - The training loss at this step is 1.0657410621643066\n",
      "2023-03-08 18:52:26.029 | INFO     | mofgraph2vec.model.nn_lightning:training_step:37 - The training loss at this step is 1.049911379814148\n",
      "2023-03-08 18:52:26.043 | INFO     | mofgraph2vec.model.nn_lightning:training_step:37 - The training loss at this step is 1.7651143074035645\n",
      "2023-03-08 18:52:26.057 | INFO     | mofgraph2vec.model.nn_lightning:training_step:37 - The training loss at this step is 0.8983380794525146\n",
      "2023-03-08 18:52:26.070 | INFO     | mofgraph2vec.model.nn_lightning:training_step:37 - The training loss at this step is 1.2100019454956055\n",
      "2023-03-08 18:52:26.084 | INFO     | mofgraph2vec.model.nn_lightning:training_step:37 - The training loss at this step is 1.2574570178985596\n",
      "2023-03-08 18:52:26.100 | INFO     | mofgraph2vec.model.nn_lightning:training_step:37 - The training loss at this step is 1.064298391342163\n",
      "2023-03-08 18:52:26.114 | INFO     | mofgraph2vec.model.nn_lightning:training_step:37 - The training loss at this step is 0.9589895606040955\n",
      "2023-03-08 18:52:26.129 | INFO     | mofgraph2vec.model.nn_lightning:training_step:37 - The training loss at this step is 1.2619633674621582\n",
      "2023-03-08 18:52:26.146 | INFO     | mofgraph2vec.model.nn_lightning:training_step:37 - The training loss at this step is 1.0846940279006958\n",
      "2023-03-08 18:52:26.160 | INFO     | mofgraph2vec.model.nn_lightning:training_step:37 - The training loss at this step is 1.4002870321273804\n",
      "2023-03-08 18:52:26.174 | INFO     | mofgraph2vec.model.nn_lightning:training_step:37 - The training loss at this step is 1.1051061153411865\n",
      "2023-03-08 18:52:26.185 | INFO     | mofgraph2vec.model.nn_lightning:training_step:37 - The training loss at this step is 0.6601011157035828\n",
      "2023-03-08 18:52:26.201 | INFO     | mofgraph2vec.model.nn_lightning:training_step:37 - The training loss at this step is 1.286686658859253\n",
      "2023-03-08 18:52:26.212 | INFO     | mofgraph2vec.model.nn_lightning:training_step:37 - The training loss at this step is 0.9360095262527466\n",
      "2023-03-08 18:52:29.742 | INFO     | mofgraph2vec.model.nn_lightning:training_step:37 - The training loss at this step is 0.8717910051345825\n",
      "2023-03-08 18:52:29.754 | INFO     | mofgraph2vec.model.nn_lightning:training_step:37 - The training loss at this step is 0.7405602335929871\n",
      "2023-03-08 18:52:29.767 | INFO     | mofgraph2vec.model.nn_lightning:training_step:37 - The training loss at this step is 0.8493772149085999\n",
      "2023-03-08 18:52:29.796 | INFO     | mofgraph2vec.model.nn_lightning:training_step:37 - The training loss at this step is 1.0345723628997803\n",
      "2023-03-08 18:52:29.814 | INFO     | mofgraph2vec.model.nn_lightning:training_step:37 - The training loss at this step is 0.828601598739624\n",
      "2023-03-08 18:52:29.829 | INFO     | mofgraph2vec.model.nn_lightning:training_step:37 - The training loss at this step is 1.1343207359313965\n",
      "2023-03-08 18:52:29.842 | INFO     | mofgraph2vec.model.nn_lightning:training_step:37 - The training loss at this step is 0.9035497307777405\n",
      "2023-03-08 18:52:29.856 | INFO     | mofgraph2vec.model.nn_lightning:training_step:37 - The training loss at this step is 1.1564643383026123\n",
      "2023-03-08 18:52:29.869 | INFO     | mofgraph2vec.model.nn_lightning:training_step:37 - The training loss at this step is 0.894111156463623\n",
      "2023-03-08 18:52:29.880 | INFO     | mofgraph2vec.model.nn_lightning:training_step:37 - The training loss at this step is 0.7902929782867432\n",
      "2023-03-08 18:52:29.893 | INFO     | mofgraph2vec.model.nn_lightning:training_step:37 - The training loss at this step is 0.9584640860557556\n",
      "2023-03-08 18:52:29.907 | INFO     | mofgraph2vec.model.nn_lightning:training_step:37 - The training loss at this step is 1.3011459112167358\n",
      "2023-03-08 18:52:29.919 | INFO     | mofgraph2vec.model.nn_lightning:training_step:37 - The training loss at this step is 0.9551064968109131\n",
      "2023-03-08 18:52:29.929 | INFO     | mofgraph2vec.model.nn_lightning:training_step:37 - The training loss at this step is 1.1413369178771973\n",
      "2023-03-08 18:52:29.943 | INFO     | mofgraph2vec.model.nn_lightning:training_step:37 - The training loss at this step is 0.8048955798149109\n",
      "2023-03-08 18:52:29.955 | INFO     | mofgraph2vec.model.nn_lightning:training_step:37 - The training loss at this step is 1.566197156906128\n"
     ]
    },
    {
     "data": {
      "application/vnd.jupyter.widget-view+json": {
       "model_id": "c85fc21a3a5d464f9284f88734a72ab4",
       "version_major": 2,
       "version_minor": 0
      },
      "text/plain": [
       "Validation: 0it [00:00, ?it/s]"
      ]
     },
     "metadata": {},
     "output_type": "display_data"
    },
    {
     "name": "stderr",
     "output_type": "stream",
     "text": [
      "2023-03-08 18:52:33.425 | INFO     | mofgraph2vec.model.nn_lightning:training_step:37 - The training loss at this step is 1.3901230096817017\n",
      "2023-03-08 18:52:33.437 | INFO     | mofgraph2vec.model.nn_lightning:training_step:37 - The training loss at this step is 1.2936248779296875\n",
      "2023-03-08 18:52:33.450 | INFO     | mofgraph2vec.model.nn_lightning:training_step:37 - The training loss at this step is 1.2456772327423096\n",
      "2023-03-08 18:52:33.464 | INFO     | mofgraph2vec.model.nn_lightning:training_step:37 - The training loss at this step is 1.3910306692123413\n",
      "2023-03-08 18:52:33.480 | INFO     | mofgraph2vec.model.nn_lightning:training_step:37 - The training loss at this step is 1.003443956375122\n",
      "2023-03-08 18:52:33.506 | INFO     | mofgraph2vec.model.nn_lightning:training_step:37 - The training loss at this step is 1.056443452835083\n",
      "2023-03-08 18:52:33.524 | INFO     | mofgraph2vec.model.nn_lightning:training_step:37 - The training loss at this step is 1.3466852903366089\n",
      "2023-03-08 18:52:33.541 | INFO     | mofgraph2vec.model.nn_lightning:training_step:37 - The training loss at this step is 1.2340914011001587\n",
      "2023-03-08 18:52:33.552 | INFO     | mofgraph2vec.model.nn_lightning:training_step:37 - The training loss at this step is 0.7994529008865356\n",
      "2023-03-08 18:52:33.572 | INFO     | mofgraph2vec.model.nn_lightning:training_step:37 - The training loss at this step is 0.9609723091125488\n",
      "2023-03-08 18:52:33.586 | INFO     | mofgraph2vec.model.nn_lightning:training_step:37 - The training loss at this step is 1.0882771015167236\n",
      "2023-03-08 18:52:33.604 | INFO     | mofgraph2vec.model.nn_lightning:training_step:37 - The training loss at this step is 1.3761727809906006\n",
      "2023-03-08 18:52:33.618 | INFO     | mofgraph2vec.model.nn_lightning:training_step:37 - The training loss at this step is 0.7342459559440613\n",
      "2023-03-08 18:52:33.639 | INFO     | mofgraph2vec.model.nn_lightning:training_step:37 - The training loss at this step is 1.1372607946395874\n",
      "2023-03-08 18:52:33.655 | INFO     | mofgraph2vec.model.nn_lightning:training_step:37 - The training loss at this step is 0.9934085607528687\n",
      "2023-03-08 18:52:33.720 | INFO     | mofgraph2vec.model.nn_lightning:training_step:37 - The training loss at this step is 0.9934587478637695\n",
      "2023-03-08 18:52:33.732 | INFO     | mofgraph2vec.model.nn_lightning:training_step:37 - The training loss at this step is 1.1446812152862549\n",
      "2023-03-08 18:52:33.747 | INFO     | mofgraph2vec.model.nn_lightning:training_step:37 - The training loss at this step is 0.8405368328094482\n",
      "2023-03-08 18:52:33.772 | INFO     | mofgraph2vec.model.nn_lightning:training_step:37 - The training loss at this step is 1.1502138376235962\n",
      "2023-03-08 18:52:33.789 | INFO     | mofgraph2vec.model.nn_lightning:training_step:37 - The training loss at this step is 0.8847880363464355\n",
      "2023-03-08 18:52:33.804 | INFO     | mofgraph2vec.model.nn_lightning:training_step:37 - The training loss at this step is 1.1978092193603516\n",
      "2023-03-08 18:52:33.819 | INFO     | mofgraph2vec.model.nn_lightning:training_step:37 - The training loss at this step is 1.2737467288970947\n",
      "2023-03-08 18:52:33.842 | INFO     | mofgraph2vec.model.nn_lightning:training_step:37 - The training loss at this step is 1.2521729469299316\n",
      "2023-03-08 18:52:33.861 | INFO     | mofgraph2vec.model.nn_lightning:training_step:37 - The training loss at this step is 0.9436805248260498\n",
      "2023-03-08 18:52:33.878 | INFO     | mofgraph2vec.model.nn_lightning:training_step:37 - The training loss at this step is 0.734571635723114\n",
      "2023-03-08 18:52:33.894 | INFO     | mofgraph2vec.model.nn_lightning:training_step:37 - The training loss at this step is 0.9013174772262573\n",
      "2023-03-08 18:52:33.910 | INFO     | mofgraph2vec.model.nn_lightning:training_step:37 - The training loss at this step is 1.0418890714645386\n",
      "2023-03-08 18:52:33.928 | INFO     | mofgraph2vec.model.nn_lightning:training_step:37 - The training loss at this step is 1.4101568460464478\n",
      "2023-03-08 18:52:33.944 | INFO     | mofgraph2vec.model.nn_lightning:training_step:37 - The training loss at this step is 0.6632195711135864\n",
      "2023-03-08 18:52:33.961 | INFO     | mofgraph2vec.model.nn_lightning:training_step:37 - The training loss at this step is 0.7513537406921387\n",
      "2023-03-08 18:52:33.978 | INFO     | mofgraph2vec.model.nn_lightning:training_step:37 - The training loss at this step is 0.8919732570648193\n",
      "2023-03-08 18:52:33.998 | INFO     | mofgraph2vec.model.nn_lightning:training_step:37 - The training loss at this step is 0.946397602558136\n",
      "2023-03-08 18:52:34.048 | INFO     | mofgraph2vec.model.nn_lightning:training_step:37 - The training loss at this step is 1.4601410627365112\n",
      "2023-03-08 18:52:34.071 | INFO     | mofgraph2vec.model.nn_lightning:training_step:37 - The training loss at this step is 0.8669170141220093\n",
      "2023-03-08 18:52:40.923 | INFO     | mofgraph2vec.model.nn_lightning:training_step:37 - The training loss at this step is 1.232442855834961\n",
      "2023-03-08 18:52:40.935 | INFO     | mofgraph2vec.model.nn_lightning:training_step:37 - The training loss at this step is 0.782413899898529\n",
      "2023-03-08 18:52:40.947 | INFO     | mofgraph2vec.model.nn_lightning:training_step:37 - The training loss at this step is 1.0463721752166748\n",
      "2023-03-08 18:52:40.960 | INFO     | mofgraph2vec.model.nn_lightning:training_step:37 - The training loss at this step is 0.8349296450614929\n",
      "2023-03-08 18:52:40.974 | INFO     | mofgraph2vec.model.nn_lightning:training_step:37 - The training loss at this step is 0.9601497650146484\n",
      "2023-03-08 18:52:40.985 | INFO     | mofgraph2vec.model.nn_lightning:training_step:37 - The training loss at this step is 1.0268970727920532\n",
      "2023-03-08 18:52:41.004 | INFO     | mofgraph2vec.model.nn_lightning:training_step:37 - The training loss at this step is 0.832638680934906\n",
      "2023-03-08 18:52:41.022 | INFO     | mofgraph2vec.model.nn_lightning:training_step:37 - The training loss at this step is 1.736360788345337\n"
     ]
    },
    {
     "data": {
      "application/vnd.jupyter.widget-view+json": {
       "model_id": "aa5c2959cd6e4313b4de6d5c0cc2a080",
       "version_major": 2,
       "version_minor": 0
      },
      "text/plain": [
       "Validation: 0it [00:00, ?it/s]"
      ]
     },
     "metadata": {},
     "output_type": "display_data"
    },
    {
     "name": "stderr",
     "output_type": "stream",
     "text": [
      "2023-03-08 18:52:44.501 | INFO     | mofgraph2vec.model.nn_lightning:training_step:37 - The training loss at this step is 1.5145392417907715\n",
      "2023-03-08 18:52:44.511 | INFO     | mofgraph2vec.model.nn_lightning:training_step:37 - The training loss at this step is 1.1466084718704224\n",
      "2023-03-08 18:52:44.526 | INFO     | mofgraph2vec.model.nn_lightning:training_step:37 - The training loss at this step is 1.18243408203125\n",
      "2023-03-08 18:52:44.539 | INFO     | mofgraph2vec.model.nn_lightning:training_step:37 - The training loss at this step is 1.0785571336746216\n",
      "2023-03-08 18:52:44.559 | INFO     | mofgraph2vec.model.nn_lightning:training_step:37 - The training loss at this step is 0.7771189212799072\n",
      "2023-03-08 18:52:44.576 | INFO     | mofgraph2vec.model.nn_lightning:training_step:37 - The training loss at this step is 1.1827422380447388\n",
      "2023-03-08 18:52:44.591 | INFO     | mofgraph2vec.model.nn_lightning:training_step:37 - The training loss at this step is 1.1673855781555176\n",
      "2023-03-08 18:52:44.604 | INFO     | mofgraph2vec.model.nn_lightning:training_step:37 - The training loss at this step is 1.3265025615692139\n",
      "2023-03-08 18:52:44.620 | INFO     | mofgraph2vec.model.nn_lightning:training_step:37 - The training loss at this step is 0.8422853946685791\n",
      "2023-03-08 18:52:44.632 | INFO     | mofgraph2vec.model.nn_lightning:training_step:37 - The training loss at this step is 1.2166926860809326\n",
      "2023-03-08 18:52:44.646 | INFO     | mofgraph2vec.model.nn_lightning:training_step:37 - The training loss at this step is 0.904053270816803\n",
      "2023-03-08 18:52:44.662 | INFO     | mofgraph2vec.model.nn_lightning:training_step:37 - The training loss at this step is 1.07387375831604\n",
      "2023-03-08 18:52:44.677 | INFO     | mofgraph2vec.model.nn_lightning:training_step:37 - The training loss at this step is 0.9344397783279419\n",
      "2023-03-08 18:52:44.692 | INFO     | mofgraph2vec.model.nn_lightning:training_step:37 - The training loss at this step is 1.2461836338043213\n",
      "2023-03-08 18:52:44.752 | INFO     | mofgraph2vec.model.nn_lightning:training_step:37 - The training loss at this step is 1.5664689540863037\n",
      "2023-03-08 18:52:44.764 | INFO     | mofgraph2vec.model.nn_lightning:training_step:37 - The training loss at this step is 0.9001351594924927\n",
      "2023-03-08 18:52:44.776 | INFO     | mofgraph2vec.model.nn_lightning:training_step:37 - The training loss at this step is 0.9338721036911011\n",
      "2023-03-08 18:52:44.791 | INFO     | mofgraph2vec.model.nn_lightning:training_step:37 - The training loss at this step is 0.9872715473175049\n",
      "2023-03-08 18:52:44.805 | INFO     | mofgraph2vec.model.nn_lightning:training_step:37 - The training loss at this step is 1.1444791555404663\n",
      "2023-03-08 18:52:44.818 | INFO     | mofgraph2vec.model.nn_lightning:training_step:37 - The training loss at this step is 1.2317657470703125\n",
      "2023-03-08 18:52:44.832 | INFO     | mofgraph2vec.model.nn_lightning:training_step:37 - The training loss at this step is 1.0461492538452148\n",
      "2023-03-08 18:52:44.846 | INFO     | mofgraph2vec.model.nn_lightning:training_step:37 - The training loss at this step is 0.9292780160903931\n",
      "2023-03-08 18:52:44.860 | INFO     | mofgraph2vec.model.nn_lightning:training_step:37 - The training loss at this step is 1.3037418127059937\n",
      "2023-03-08 18:52:44.874 | INFO     | mofgraph2vec.model.nn_lightning:training_step:37 - The training loss at this step is 1.2861138582229614\n",
      "2023-03-08 18:52:44.889 | INFO     | mofgraph2vec.model.nn_lightning:training_step:37 - The training loss at this step is 0.8999642729759216\n",
      "2023-03-08 18:52:44.903 | INFO     | mofgraph2vec.model.nn_lightning:training_step:37 - The training loss at this step is 1.0401989221572876\n",
      "2023-03-08 18:52:44.916 | INFO     | mofgraph2vec.model.nn_lightning:training_step:37 - The training loss at this step is 0.7508476972579956\n",
      "2023-03-08 18:52:44.938 | INFO     | mofgraph2vec.model.nn_lightning:training_step:37 - The training loss at this step is 0.7210156917572021\n",
      "2023-03-08 18:52:44.955 | INFO     | mofgraph2vec.model.nn_lightning:training_step:37 - The training loss at this step is 1.1698482036590576\n",
      "2023-03-08 18:52:44.968 | INFO     | mofgraph2vec.model.nn_lightning:training_step:37 - The training loss at this step is 0.9125305414199829\n",
      "2023-03-08 18:52:44.981 | INFO     | mofgraph2vec.model.nn_lightning:training_step:37 - The training loss at this step is 1.1637966632843018\n",
      "2023-03-08 18:52:44.994 | INFO     | mofgraph2vec.model.nn_lightning:training_step:37 - The training loss at this step is 0.9054547548294067\n",
      "2023-03-08 18:52:45.008 | INFO     | mofgraph2vec.model.nn_lightning:training_step:37 - The training loss at this step is 0.6997399926185608\n",
      "2023-03-08 18:52:45.049 | INFO     | mofgraph2vec.model.nn_lightning:training_step:37 - The training loss at this step is 1.1853983402252197\n",
      "2023-03-08 18:52:45.066 | INFO     | mofgraph2vec.model.nn_lightning:training_step:37 - The training loss at this step is 0.9115140438079834\n",
      "2023-03-08 18:52:45.077 | INFO     | mofgraph2vec.model.nn_lightning:training_step:37 - The training loss at this step is 0.9570947885513306\n",
      "2023-03-08 18:52:45.089 | INFO     | mofgraph2vec.model.nn_lightning:training_step:37 - The training loss at this step is 0.8285260200500488\n",
      "2023-03-08 18:52:45.101 | INFO     | mofgraph2vec.model.nn_lightning:training_step:37 - The training loss at this step is 1.2064520120620728\n",
      "2023-03-08 18:52:45.114 | INFO     | mofgraph2vec.model.nn_lightning:training_step:37 - The training loss at this step is 0.9667956829071045\n",
      "2023-03-08 18:52:45.129 | INFO     | mofgraph2vec.model.nn_lightning:training_step:37 - The training loss at this step is 0.8788995742797852\n",
      "2023-03-08 18:52:45.141 | INFO     | mofgraph2vec.model.nn_lightning:training_step:37 - The training loss at this step is 1.0597257614135742\n",
      "2023-03-08 18:52:45.153 | INFO     | mofgraph2vec.model.nn_lightning:training_step:37 - The training loss at this step is 1.2449945211410522\n"
     ]
    },
    {
     "data": {
      "application/vnd.jupyter.widget-view+json": {
       "model_id": "35d2dfef56714380ab33cfe12fab2a71",
       "version_major": 2,
       "version_minor": 0
      },
      "text/plain": [
       "Validation: 0it [00:00, ?it/s]"
      ]
     },
     "metadata": {},
     "output_type": "display_data"
    },
    {
     "name": "stderr",
     "output_type": "stream",
     "text": [
      "2023-03-08 18:52:52.053 | INFO     | mofgraph2vec.model.nn_lightning:training_step:37 - The training loss at this step is 1.1956195831298828\n",
      "2023-03-08 18:52:52.066 | INFO     | mofgraph2vec.model.nn_lightning:training_step:37 - The training loss at this step is 0.8463529944419861\n",
      "2023-03-08 18:52:52.084 | INFO     | mofgraph2vec.model.nn_lightning:training_step:37 - The training loss at this step is 0.8093299269676208\n",
      "2023-03-08 18:52:52.097 | INFO     | mofgraph2vec.model.nn_lightning:training_step:37 - The training loss at this step is 1.0205456018447876\n",
      "2023-03-08 18:52:52.112 | INFO     | mofgraph2vec.model.nn_lightning:training_step:37 - The training loss at this step is 0.8723477721214294\n",
      "2023-03-08 18:52:52.126 | INFO     | mofgraph2vec.model.nn_lightning:training_step:37 - The training loss at this step is 1.061658263206482\n",
      "2023-03-08 18:52:52.141 | INFO     | mofgraph2vec.model.nn_lightning:training_step:37 - The training loss at this step is 1.0653605461120605\n",
      "2023-03-08 18:52:52.155 | INFO     | mofgraph2vec.model.nn_lightning:training_step:37 - The training loss at this step is 0.9516863226890564\n",
      "2023-03-08 18:52:52.170 | INFO     | mofgraph2vec.model.nn_lightning:training_step:37 - The training loss at this step is 1.2107291221618652\n",
      "2023-03-08 18:52:52.184 | INFO     | mofgraph2vec.model.nn_lightning:training_step:37 - The training loss at this step is 1.2801425457000732\n",
      "2023-03-08 18:52:52.235 | INFO     | mofgraph2vec.model.nn_lightning:training_step:37 - The training loss at this step is 1.3173154592514038\n",
      "2023-03-08 18:52:52.251 | INFO     | mofgraph2vec.model.nn_lightning:training_step:37 - The training loss at this step is 0.8473944067955017\n",
      "2023-03-08 18:52:52.261 | INFO     | mofgraph2vec.model.nn_lightning:training_step:37 - The training loss at this step is 0.5812708139419556\n",
      "2023-03-08 18:52:52.275 | INFO     | mofgraph2vec.model.nn_lightning:training_step:37 - The training loss at this step is 1.2666376829147339\n",
      "2023-03-08 18:52:52.291 | INFO     | mofgraph2vec.model.nn_lightning:training_step:37 - The training loss at this step is 1.1307003498077393\n",
      "2023-03-08 18:52:52.308 | INFO     | mofgraph2vec.model.nn_lightning:training_step:37 - The training loss at this step is 1.0359697341918945\n",
      "2023-03-08 18:52:52.322 | INFO     | mofgraph2vec.model.nn_lightning:training_step:37 - The training loss at this step is 1.3512870073318481\n",
      "2023-03-08 18:52:52.336 | INFO     | mofgraph2vec.model.nn_lightning:training_step:37 - The training loss at this step is 1.2678120136260986\n",
      "2023-03-08 18:52:52.350 | INFO     | mofgraph2vec.model.nn_lightning:training_step:37 - The training loss at this step is 0.8283701539039612\n",
      "2023-03-08 18:52:52.362 | INFO     | mofgraph2vec.model.nn_lightning:training_step:37 - The training loss at this step is 0.9751215577125549\n",
      "2023-03-08 18:52:52.377 | INFO     | mofgraph2vec.model.nn_lightning:training_step:37 - The training loss at this step is 1.0108575820922852\n",
      "2023-03-08 18:52:52.394 | INFO     | mofgraph2vec.model.nn_lightning:training_step:37 - The training loss at this step is 1.0395762920379639\n",
      "2023-03-08 18:52:52.409 | INFO     | mofgraph2vec.model.nn_lightning:training_step:37 - The training loss at this step is 1.0714399814605713\n",
      "2023-03-08 18:52:52.426 | INFO     | mofgraph2vec.model.nn_lightning:training_step:37 - The training loss at this step is 1.0283032655715942\n",
      "2023-03-08 18:52:52.441 | INFO     | mofgraph2vec.model.nn_lightning:training_step:37 - The training loss at this step is 1.2946687936782837\n",
      "2023-03-08 18:52:52.458 | INFO     | mofgraph2vec.model.nn_lightning:training_step:37 - The training loss at this step is 0.9070574045181274\n",
      "2023-03-08 18:52:52.476 | INFO     | mofgraph2vec.model.nn_lightning:training_step:37 - The training loss at this step is 1.3203153610229492\n",
      "2023-03-08 18:52:52.491 | INFO     | mofgraph2vec.model.nn_lightning:training_step:37 - The training loss at this step is 1.118984580039978\n",
      "2023-03-08 18:52:52.536 | INFO     | mofgraph2vec.model.nn_lightning:training_step:37 - The training loss at this step is 1.2091203927993774\n",
      "2023-03-08 18:52:52.557 | INFO     | mofgraph2vec.model.nn_lightning:training_step:37 - The training loss at this step is 1.0444908142089844\n",
      "2023-03-08 18:52:52.571 | INFO     | mofgraph2vec.model.nn_lightning:training_step:37 - The training loss at this step is 0.768579363822937\n",
      "2023-03-08 18:52:52.582 | INFO     | mofgraph2vec.model.nn_lightning:training_step:37 - The training loss at this step is 0.801213800907135\n",
      "2023-03-08 18:52:52.595 | INFO     | mofgraph2vec.model.nn_lightning:training_step:37 - The training loss at this step is 1.0202970504760742\n",
      "2023-03-08 18:52:52.608 | INFO     | mofgraph2vec.model.nn_lightning:training_step:37 - The training loss at this step is 1.0242209434509277\n",
      "2023-03-08 18:52:52.622 | INFO     | mofgraph2vec.model.nn_lightning:training_step:37 - The training loss at this step is 0.41203057765960693\n",
      "2023-03-08 18:52:52.633 | INFO     | mofgraph2vec.model.nn_lightning:training_step:37 - The training loss at this step is 1.4518389701843262\n",
      "2023-03-08 18:52:52.659 | INFO     | mofgraph2vec.model.nn_lightning:training_step:37 - The training loss at this step is 1.3934189081192017\n",
      "2023-03-08 18:52:52.672 | INFO     | mofgraph2vec.model.nn_lightning:training_step:37 - The training loss at this step is 1.5803289413452148\n",
      "2023-03-08 18:52:52.686 | INFO     | mofgraph2vec.model.nn_lightning:training_step:37 - The training loss at this step is 1.095943808555603\n",
      "2023-03-08 18:52:52.699 | INFO     | mofgraph2vec.model.nn_lightning:training_step:37 - The training loss at this step is 0.9894614219665527\n",
      "2023-03-08 18:52:52.711 | INFO     | mofgraph2vec.model.nn_lightning:training_step:37 - The training loss at this step is 0.884526789188385\n",
      "2023-03-08 18:52:52.723 | INFO     | mofgraph2vec.model.nn_lightning:training_step:37 - The training loss at this step is 0.5733425617218018\n"
     ]
    },
    {
     "data": {
      "application/vnd.jupyter.widget-view+json": {
       "model_id": "a34c2490cd884579b147deccd9be2a9d",
       "version_major": 2,
       "version_minor": 0
      },
      "text/plain": [
       "Validation: 0it [00:00, ?it/s]"
      ]
     },
     "metadata": {},
     "output_type": "display_data"
    },
    {
     "name": "stderr",
     "output_type": "stream",
     "text": [
      "2023-03-08 18:52:56.219 | INFO     | mofgraph2vec.model.nn_lightning:training_step:37 - The training loss at this step is 1.0861908197402954\n",
      "2023-03-08 18:52:56.229 | INFO     | mofgraph2vec.model.nn_lightning:training_step:37 - The training loss at this step is 1.8856723308563232\n",
      "2023-03-08 18:52:56.243 | INFO     | mofgraph2vec.model.nn_lightning:training_step:37 - The training loss at this step is 1.1408921480178833\n",
      "2023-03-08 18:52:56.257 | INFO     | mofgraph2vec.model.nn_lightning:training_step:37 - The training loss at this step is 0.9301092624664307\n",
      "2023-03-08 18:52:56.271 | INFO     | mofgraph2vec.model.nn_lightning:training_step:37 - The training loss at this step is 1.144545078277588\n",
      "2023-03-08 18:52:56.289 | INFO     | mofgraph2vec.model.nn_lightning:training_step:37 - The training loss at this step is 1.4392470121383667\n",
      "2023-03-08 18:52:56.303 | INFO     | mofgraph2vec.model.nn_lightning:training_step:37 - The training loss at this step is 0.9983166456222534\n",
      "2023-03-08 18:52:56.316 | INFO     | mofgraph2vec.model.nn_lightning:training_step:37 - The training loss at this step is 0.8538097739219666\n",
      "2023-03-08 18:53:03.105 | INFO     | mofgraph2vec.model.nn_lightning:training_step:37 - The training loss at this step is 0.9451138973236084\n",
      "2023-03-08 18:53:03.117 | INFO     | mofgraph2vec.model.nn_lightning:training_step:37 - The training loss at this step is 0.8722596168518066\n",
      "2023-03-08 18:53:03.128 | INFO     | mofgraph2vec.model.nn_lightning:training_step:37 - The training loss at this step is 1.3637505769729614\n",
      "2023-03-08 18:53:03.141 | INFO     | mofgraph2vec.model.nn_lightning:training_step:37 - The training loss at this step is 1.0671451091766357\n",
      "2023-03-08 18:53:03.157 | INFO     | mofgraph2vec.model.nn_lightning:training_step:37 - The training loss at this step is 1.0542256832122803\n",
      "2023-03-08 18:53:03.172 | INFO     | mofgraph2vec.model.nn_lightning:training_step:37 - The training loss at this step is 0.8572684526443481\n",
      "2023-03-08 18:53:03.192 | INFO     | mofgraph2vec.model.nn_lightning:training_step:37 - The training loss at this step is 0.7110207080841064\n",
      "2023-03-08 18:53:03.208 | INFO     | mofgraph2vec.model.nn_lightning:training_step:37 - The training loss at this step is 1.0011485815048218\n",
      "2023-03-08 18:53:03.225 | INFO     | mofgraph2vec.model.nn_lightning:training_step:37 - The training loss at this step is 0.8120678067207336\n",
      "2023-03-08 18:53:03.242 | INFO     | mofgraph2vec.model.nn_lightning:training_step:37 - The training loss at this step is 1.1938492059707642\n",
      "2023-03-08 18:53:03.258 | INFO     | mofgraph2vec.model.nn_lightning:training_step:37 - The training loss at this step is 1.3813207149505615\n",
      "2023-03-08 18:53:03.274 | INFO     | mofgraph2vec.model.nn_lightning:training_step:37 - The training loss at this step is 1.1136540174484253\n",
      "2023-03-08 18:53:03.290 | INFO     | mofgraph2vec.model.nn_lightning:training_step:37 - The training loss at this step is 0.9905937910079956\n",
      "2023-03-08 18:53:03.306 | INFO     | mofgraph2vec.model.nn_lightning:training_step:37 - The training loss at this step is 1.2308814525604248\n",
      "2023-03-08 18:53:03.352 | INFO     | mofgraph2vec.model.nn_lightning:training_step:37 - The training loss at this step is 1.1378684043884277\n",
      "2023-03-08 18:53:03.370 | INFO     | mofgraph2vec.model.nn_lightning:training_step:37 - The training loss at this step is 1.1911333799362183\n",
      "2023-03-08 18:53:03.382 | INFO     | mofgraph2vec.model.nn_lightning:training_step:37 - The training loss at this step is 0.8108307123184204\n",
      "2023-03-08 18:53:03.398 | INFO     | mofgraph2vec.model.nn_lightning:training_step:37 - The training loss at this step is 1.105694055557251\n",
      "2023-03-08 18:53:03.414 | INFO     | mofgraph2vec.model.nn_lightning:training_step:37 - The training loss at this step is 1.467678189277649\n",
      "2023-03-08 18:53:03.427 | INFO     | mofgraph2vec.model.nn_lightning:training_step:37 - The training loss at this step is 0.8846051692962646\n",
      "2023-03-08 18:53:03.442 | INFO     | mofgraph2vec.model.nn_lightning:training_step:37 - The training loss at this step is 0.9375741481781006\n",
      "2023-03-08 18:53:03.455 | INFO     | mofgraph2vec.model.nn_lightning:training_step:37 - The training loss at this step is 0.8537629842758179\n",
      "2023-03-08 18:53:03.471 | INFO     | mofgraph2vec.model.nn_lightning:training_step:37 - The training loss at this step is 1.1994435787200928\n",
      "2023-03-08 18:53:03.484 | INFO     | mofgraph2vec.model.nn_lightning:training_step:37 - The training loss at this step is 0.9723326563835144\n",
      "2023-03-08 18:53:03.496 | INFO     | mofgraph2vec.model.nn_lightning:training_step:37 - The training loss at this step is 0.9617526531219482\n",
      "2023-03-08 18:53:03.508 | INFO     | mofgraph2vec.model.nn_lightning:training_step:37 - The training loss at this step is 0.5618974566459656\n",
      "2023-03-08 18:53:03.521 | INFO     | mofgraph2vec.model.nn_lightning:training_step:37 - The training loss at this step is 1.2043837308883667\n",
      "2023-03-08 18:53:03.535 | INFO     | mofgraph2vec.model.nn_lightning:training_step:37 - The training loss at this step is 0.8650715947151184\n",
      "2023-03-08 18:53:03.552 | INFO     | mofgraph2vec.model.nn_lightning:training_step:37 - The training loss at this step is 1.1495943069458008\n",
      "2023-03-08 18:53:03.567 | INFO     | mofgraph2vec.model.nn_lightning:training_step:37 - The training loss at this step is 0.9318068623542786\n",
      "2023-03-08 18:53:03.578 | INFO     | mofgraph2vec.model.nn_lightning:training_step:37 - The training loss at this step is 0.9402410984039307\n",
      "2023-03-08 18:53:03.591 | INFO     | mofgraph2vec.model.nn_lightning:training_step:37 - The training loss at this step is 0.7816762328147888\n",
      "2023-03-08 18:53:03.605 | INFO     | mofgraph2vec.model.nn_lightning:training_step:37 - The training loss at this step is 1.203521966934204\n",
      "2023-03-08 18:53:03.617 | INFO     | mofgraph2vec.model.nn_lightning:training_step:37 - The training loss at this step is 1.1489696502685547\n"
     ]
    },
    {
     "data": {
      "application/vnd.jupyter.widget-view+json": {
       "model_id": "5b9ec1f553a94f978f7d5c26cf72ad84",
       "version_major": 2,
       "version_minor": 0
      },
      "text/plain": [
       "Validation: 0it [00:00, ?it/s]"
      ]
     },
     "metadata": {},
     "output_type": "display_data"
    },
    {
     "name": "stderr",
     "output_type": "stream",
     "text": [
      "2023-03-08 18:53:07.086 | INFO     | mofgraph2vec.model.nn_lightning:training_step:37 - The training loss at this step is 1.3111414909362793\n",
      "2023-03-08 18:53:07.098 | INFO     | mofgraph2vec.model.nn_lightning:training_step:37 - The training loss at this step is 1.371440052986145\n",
      "2023-03-08 18:53:07.109 | INFO     | mofgraph2vec.model.nn_lightning:training_step:37 - The training loss at this step is 1.3117154836654663\n",
      "2023-03-08 18:53:07.126 | INFO     | mofgraph2vec.model.nn_lightning:training_step:37 - The training loss at this step is 0.8927476406097412\n",
      "2023-03-08 18:53:07.138 | INFO     | mofgraph2vec.model.nn_lightning:training_step:37 - The training loss at this step is 1.1432342529296875\n",
      "2023-03-08 18:53:07.150 | INFO     | mofgraph2vec.model.nn_lightning:training_step:37 - The training loss at this step is 0.9876459836959839\n",
      "2023-03-08 18:53:07.163 | INFO     | mofgraph2vec.model.nn_lightning:training_step:37 - The training loss at this step is 1.127102017402649\n",
      "2023-03-08 18:53:07.177 | INFO     | mofgraph2vec.model.nn_lightning:training_step:37 - The training loss at this step is 1.05097234249115\n",
      "2023-03-08 18:53:07.192 | INFO     | mofgraph2vec.model.nn_lightning:training_step:37 - The training loss at this step is 0.7698526978492737\n",
      "2023-03-08 18:53:07.205 | INFO     | mofgraph2vec.model.nn_lightning:training_step:37 - The training loss at this step is 1.0806514024734497\n",
      "2023-03-08 18:53:07.219 | INFO     | mofgraph2vec.model.nn_lightning:training_step:37 - The training loss at this step is 0.9003466963768005\n",
      "2023-03-08 18:53:07.260 | INFO     | mofgraph2vec.model.nn_lightning:training_step:37 - The training loss at this step is 1.2116886377334595\n",
      "2023-03-08 18:53:07.279 | INFO     | mofgraph2vec.model.nn_lightning:training_step:37 - The training loss at this step is 1.0682199001312256\n",
      "2023-03-08 18:53:07.291 | INFO     | mofgraph2vec.model.nn_lightning:training_step:37 - The training loss at this step is 0.9427986741065979\n",
      "2023-03-08 18:53:07.304 | INFO     | mofgraph2vec.model.nn_lightning:training_step:37 - The training loss at this step is 0.8658673763275146\n",
      "2023-03-08 18:53:07.319 | INFO     | mofgraph2vec.model.nn_lightning:training_step:37 - The training loss at this step is 1.148119330406189\n",
      "2023-03-08 18:53:10.818 | INFO     | mofgraph2vec.model.nn_lightning:training_step:37 - The training loss at this step is 1.3794622421264648\n",
      "2023-03-08 18:53:10.829 | INFO     | mofgraph2vec.model.nn_lightning:training_step:37 - The training loss at this step is 1.0792036056518555\n",
      "2023-03-08 18:53:10.842 | INFO     | mofgraph2vec.model.nn_lightning:training_step:37 - The training loss at this step is 0.9075860977172852\n",
      "2023-03-08 18:53:10.876 | INFO     | mofgraph2vec.model.nn_lightning:training_step:37 - The training loss at this step is 1.2518064975738525\n",
      "2023-03-08 18:53:10.892 | INFO     | mofgraph2vec.model.nn_lightning:training_step:37 - The training loss at this step is 0.8837688565254211\n",
      "2023-03-08 18:53:10.905 | INFO     | mofgraph2vec.model.nn_lightning:training_step:37 - The training loss at this step is 0.812259316444397\n",
      "2023-03-08 18:53:10.920 | INFO     | mofgraph2vec.model.nn_lightning:training_step:37 - The training loss at this step is 0.6960064768791199\n",
      "2023-03-08 18:53:10.938 | INFO     | mofgraph2vec.model.nn_lightning:training_step:37 - The training loss at this step is 0.7909510135650635\n",
      "2023-03-08 18:53:10.953 | INFO     | mofgraph2vec.model.nn_lightning:training_step:37 - The training loss at this step is 0.9574604630470276\n",
      "2023-03-08 18:53:11.008 | INFO     | mofgraph2vec.model.nn_lightning:training_step:37 - The training loss at this step is 1.150490403175354\n",
      "2023-03-08 18:53:11.020 | INFO     | mofgraph2vec.model.nn_lightning:training_step:37 - The training loss at this step is 1.2391695976257324\n",
      "2023-03-08 18:53:11.033 | INFO     | mofgraph2vec.model.nn_lightning:training_step:37 - The training loss at this step is 1.4434868097305298\n",
      "2023-03-08 18:53:11.045 | INFO     | mofgraph2vec.model.nn_lightning:training_step:37 - The training loss at this step is 0.8582733273506165\n",
      "2023-03-08 18:53:11.059 | INFO     | mofgraph2vec.model.nn_lightning:training_step:37 - The training loss at this step is 1.1301885843276978\n",
      "2023-03-08 18:53:11.074 | INFO     | mofgraph2vec.model.nn_lightning:training_step:37 - The training loss at this step is 0.8442330956459045\n",
      "2023-03-08 18:53:11.088 | INFO     | mofgraph2vec.model.nn_lightning:training_step:37 - The training loss at this step is 0.9941874742507935\n",
      "2023-03-08 18:53:11.102 | INFO     | mofgraph2vec.model.nn_lightning:training_step:37 - The training loss at this step is 0.939350426197052\n",
      "2023-03-08 18:53:11.112 | INFO     | mofgraph2vec.model.nn_lightning:training_step:37 - The training loss at this step is 1.0282642841339111\n",
      "2023-03-08 18:53:11.124 | INFO     | mofgraph2vec.model.nn_lightning:training_step:37 - The training loss at this step is 0.9803751111030579\n",
      "2023-03-08 18:53:11.136 | INFO     | mofgraph2vec.model.nn_lightning:training_step:37 - The training loss at this step is 1.1618651151657104\n",
      "2023-03-08 18:53:11.149 | INFO     | mofgraph2vec.model.nn_lightning:training_step:37 - The training loss at this step is 1.3298170566558838\n",
      "2023-03-08 18:53:11.161 | INFO     | mofgraph2vec.model.nn_lightning:training_step:37 - The training loss at this step is 0.8926005959510803\n",
      "2023-03-08 18:53:11.174 | INFO     | mofgraph2vec.model.nn_lightning:training_step:37 - The training loss at this step is 1.2642184495925903\n",
      "2023-03-08 18:53:11.187 | INFO     | mofgraph2vec.model.nn_lightning:training_step:37 - The training loss at this step is 1.0967402458190918\n",
      "2023-03-08 18:53:11.198 | INFO     | mofgraph2vec.model.nn_lightning:training_step:37 - The training loss at this step is 0.9548398852348328\n",
      "2023-03-08 18:53:11.209 | INFO     | mofgraph2vec.model.nn_lightning:training_step:37 - The training loss at this step is 1.1479626893997192\n"
     ]
    },
    {
     "data": {
      "application/vnd.jupyter.widget-view+json": {
       "model_id": "1d1898f9b5264f428671cdf03de0a2d7",
       "version_major": 2,
       "version_minor": 0
      },
      "text/plain": [
       "Validation: 0it [00:00, ?it/s]"
      ]
     },
     "metadata": {},
     "output_type": "display_data"
    },
    {
     "name": "stderr",
     "output_type": "stream",
     "text": [
      "2023-03-08 18:53:14.733 | INFO     | mofgraph2vec.model.nn_lightning:training_step:37 - The training loss at this step is 0.96794593334198\n",
      "2023-03-08 18:53:14.745 | INFO     | mofgraph2vec.model.nn_lightning:training_step:37 - The training loss at this step is 1.1727558374404907\n",
      "2023-03-08 18:53:14.760 | INFO     | mofgraph2vec.model.nn_lightning:training_step:37 - The training loss at this step is 1.0191479921340942\n",
      "2023-03-08 18:53:14.774 | INFO     | mofgraph2vec.model.nn_lightning:training_step:37 - The training loss at this step is 1.0672898292541504\n",
      "2023-03-08 18:53:14.789 | INFO     | mofgraph2vec.model.nn_lightning:training_step:37 - The training loss at this step is 0.9867168664932251\n",
      "2023-03-08 18:53:14.805 | INFO     | mofgraph2vec.model.nn_lightning:training_step:37 - The training loss at this step is 0.831339955329895\n",
      "2023-03-08 18:53:14.819 | INFO     | mofgraph2vec.model.nn_lightning:training_step:37 - The training loss at this step is 1.0361028909683228\n",
      "2023-03-08 18:53:14.831 | INFO     | mofgraph2vec.model.nn_lightning:training_step:37 - The training loss at this step is 0.7210461497306824\n",
      "2023-03-08 18:53:14.847 | INFO     | mofgraph2vec.model.nn_lightning:training_step:37 - The training loss at this step is 1.1150339841842651\n",
      "2023-03-08 18:53:14.864 | INFO     | mofgraph2vec.model.nn_lightning:training_step:37 - The training loss at this step is 1.5225062370300293\n",
      "2023-03-08 18:53:14.878 | INFO     | mofgraph2vec.model.nn_lightning:training_step:37 - The training loss at this step is 1.2262738943099976\n",
      "2023-03-08 18:53:14.892 | INFO     | mofgraph2vec.model.nn_lightning:training_step:37 - The training loss at this step is 1.1753618717193604\n",
      "2023-03-08 18:53:14.906 | INFO     | mofgraph2vec.model.nn_lightning:training_step:37 - The training loss at this step is 0.8802400231361389\n",
      "2023-03-08 18:53:14.919 | INFO     | mofgraph2vec.model.nn_lightning:training_step:37 - The training loss at this step is 1.414798378944397\n",
      "2023-03-08 18:53:14.965 | INFO     | mofgraph2vec.model.nn_lightning:training_step:37 - The training loss at this step is 1.2004499435424805\n",
      "2023-03-08 18:53:14.982 | INFO     | mofgraph2vec.model.nn_lightning:training_step:37 - The training loss at this step is 1.0951422452926636\n",
      "2023-03-08 18:53:14.995 | INFO     | mofgraph2vec.model.nn_lightning:training_step:37 - The training loss at this step is 0.8095506429672241\n",
      "2023-03-08 18:53:15.008 | INFO     | mofgraph2vec.model.nn_lightning:training_step:37 - The training loss at this step is 0.759126603603363\n",
      "2023-03-08 18:53:15.024 | INFO     | mofgraph2vec.model.nn_lightning:training_step:37 - The training loss at this step is 1.149314284324646\n",
      "2023-03-08 18:53:15.041 | INFO     | mofgraph2vec.model.nn_lightning:training_step:37 - The training loss at this step is 1.0216071605682373\n",
      "2023-03-08 18:53:15.055 | INFO     | mofgraph2vec.model.nn_lightning:training_step:37 - The training loss at this step is 0.6735222935676575\n",
      "2023-03-08 18:53:15.069 | INFO     | mofgraph2vec.model.nn_lightning:training_step:37 - The training loss at this step is 1.4744170904159546\n",
      "2023-03-08 18:53:15.082 | INFO     | mofgraph2vec.model.nn_lightning:training_step:37 - The training loss at this step is 1.2318954467773438\n",
      "2023-03-08 18:53:15.096 | INFO     | mofgraph2vec.model.nn_lightning:training_step:37 - The training loss at this step is 1.1908612251281738\n",
      "2023-03-08 18:53:21.904 | INFO     | mofgraph2vec.model.nn_lightning:training_step:37 - The training loss at this step is 1.199686050415039\n",
      "2023-03-08 18:53:21.917 | INFO     | mofgraph2vec.model.nn_lightning:training_step:37 - The training loss at this step is 0.8540984988212585\n",
      "2023-03-08 18:53:21.967 | INFO     | mofgraph2vec.model.nn_lightning:training_step:37 - The training loss at this step is 0.9608330726623535\n",
      "2023-03-08 18:53:21.979 | INFO     | mofgraph2vec.model.nn_lightning:training_step:37 - The training loss at this step is 0.9718111157417297\n",
      "2023-03-08 18:53:21.990 | INFO     | mofgraph2vec.model.nn_lightning:training_step:37 - The training loss at this step is 0.8927952647209167\n",
      "2023-03-08 18:53:22.003 | INFO     | mofgraph2vec.model.nn_lightning:training_step:37 - The training loss at this step is 1.2483782768249512\n",
      "2023-03-08 18:53:22.016 | INFO     | mofgraph2vec.model.nn_lightning:training_step:37 - The training loss at this step is 1.0984876155853271\n",
      "2023-03-08 18:53:22.028 | INFO     | mofgraph2vec.model.nn_lightning:training_step:37 - The training loss at this step is 1.3189336061477661\n",
      "2023-03-08 18:53:22.041 | INFO     | mofgraph2vec.model.nn_lightning:training_step:37 - The training loss at this step is 0.937773585319519\n",
      "2023-03-08 18:53:22.054 | INFO     | mofgraph2vec.model.nn_lightning:training_step:37 - The training loss at this step is 1.2121018171310425\n",
      "2023-03-08 18:53:22.067 | INFO     | mofgraph2vec.model.nn_lightning:training_step:37 - The training loss at this step is 0.7125518918037415\n",
      "2023-03-08 18:53:22.080 | INFO     | mofgraph2vec.model.nn_lightning:training_step:37 - The training loss at this step is 0.9994792342185974\n",
      "2023-03-08 18:53:22.091 | INFO     | mofgraph2vec.model.nn_lightning:training_step:37 - The training loss at this step is 1.1605395078659058\n",
      "2023-03-08 18:53:22.105 | INFO     | mofgraph2vec.model.nn_lightning:training_step:37 - The training loss at this step is 0.8505632877349854\n",
      "2023-03-08 18:53:22.118 | INFO     | mofgraph2vec.model.nn_lightning:training_step:37 - The training loss at this step is 1.0225801467895508\n",
      "2023-03-08 18:53:22.133 | INFO     | mofgraph2vec.model.nn_lightning:training_step:37 - The training loss at this step is 1.1321214437484741\n",
      "2023-03-08 18:53:22.144 | INFO     | mofgraph2vec.model.nn_lightning:training_step:37 - The training loss at this step is 0.7939502596855164\n",
      "2023-03-08 18:53:22.156 | INFO     | mofgraph2vec.model.nn_lightning:training_step:37 - The training loss at this step is 1.1443750858306885\n"
     ]
    },
    {
     "data": {
      "application/vnd.jupyter.widget-view+json": {
       "model_id": "e3eb854a052e4030aecd0e21cf7b1846",
       "version_major": 2,
       "version_minor": 0
      },
      "text/plain": [
       "Validation: 0it [00:00, ?it/s]"
      ]
     },
     "metadata": {},
     "output_type": "display_data"
    },
    {
     "name": "stderr",
     "output_type": "stream",
     "text": [
      "2023-03-08 18:53:25.634 | INFO     | mofgraph2vec.model.nn_lightning:training_step:37 - The training loss at this step is 0.8136988878250122\n",
      "2023-03-08 18:53:25.644 | INFO     | mofgraph2vec.model.nn_lightning:training_step:37 - The training loss at this step is 0.9849315285682678\n",
      "2023-03-08 18:53:25.658 | INFO     | mofgraph2vec.model.nn_lightning:training_step:37 - The training loss at this step is 1.1092809438705444\n",
      "2023-03-08 18:53:25.670 | INFO     | mofgraph2vec.model.nn_lightning:training_step:37 - The training loss at this step is 0.8662527799606323\n",
      "2023-03-08 18:53:25.682 | INFO     | mofgraph2vec.model.nn_lightning:training_step:37 - The training loss at this step is 0.9474532604217529\n",
      "2023-03-08 18:53:25.694 | INFO     | mofgraph2vec.model.nn_lightning:training_step:37 - The training loss at this step is 1.0437607765197754\n",
      "2023-03-08 18:53:25.708 | INFO     | mofgraph2vec.model.nn_lightning:training_step:37 - The training loss at this step is 1.1928861141204834\n",
      "2023-03-08 18:53:25.747 | INFO     | mofgraph2vec.model.nn_lightning:training_step:37 - The training loss at this step is 1.1555086374282837\n",
      "2023-03-08 18:53:25.765 | INFO     | mofgraph2vec.model.nn_lightning:training_step:37 - The training loss at this step is 1.4481807947158813\n",
      "2023-03-08 18:53:25.787 | INFO     | mofgraph2vec.model.nn_lightning:training_step:37 - The training loss at this step is 1.209129810333252\n",
      "2023-03-08 18:53:25.801 | INFO     | mofgraph2vec.model.nn_lightning:training_step:37 - The training loss at this step is 1.2007136344909668\n",
      "2023-03-08 18:53:25.827 | INFO     | mofgraph2vec.model.nn_lightning:training_step:37 - The training loss at this step is 0.8888933062553406\n",
      "2023-03-08 18:53:25.843 | INFO     | mofgraph2vec.model.nn_lightning:training_step:37 - The training loss at this step is 0.9378005862236023\n",
      "2023-03-08 18:53:25.859 | INFO     | mofgraph2vec.model.nn_lightning:training_step:37 - The training loss at this step is 1.289198875427246\n",
      "2023-03-08 18:53:25.874 | INFO     | mofgraph2vec.model.nn_lightning:training_step:37 - The training loss at this step is 0.9394285678863525\n",
      "2023-03-08 18:53:25.888 | INFO     | mofgraph2vec.model.nn_lightning:training_step:37 - The training loss at this step is 0.8300799131393433\n",
      "2023-03-08 18:53:25.900 | INFO     | mofgraph2vec.model.nn_lightning:training_step:37 - The training loss at this step is 1.1926721334457397\n",
      "2023-03-08 18:53:25.912 | INFO     | mofgraph2vec.model.nn_lightning:training_step:37 - The training loss at this step is 0.75298011302948\n",
      "2023-03-08 18:53:25.925 | INFO     | mofgraph2vec.model.nn_lightning:training_step:37 - The training loss at this step is 1.0157840251922607\n",
      "2023-03-08 18:53:25.941 | INFO     | mofgraph2vec.model.nn_lightning:training_step:37 - The training loss at this step is 0.8991930484771729\n",
      "2023-03-08 18:53:25.954 | INFO     | mofgraph2vec.model.nn_lightning:training_step:37 - The training loss at this step is 1.0472148656845093\n",
      "2023-03-08 18:53:25.964 | INFO     | mofgraph2vec.model.nn_lightning:training_step:37 - The training loss at this step is 1.0867509841918945\n",
      "2023-03-08 18:53:25.979 | INFO     | mofgraph2vec.model.nn_lightning:training_step:37 - The training loss at this step is 1.1371822357177734\n",
      "2023-03-08 18:53:25.992 | INFO     | mofgraph2vec.model.nn_lightning:training_step:37 - The training loss at this step is 0.8888779282569885\n",
      "2023-03-08 18:53:26.005 | INFO     | mofgraph2vec.model.nn_lightning:training_step:37 - The training loss at this step is 1.0328398942947388\n",
      "2023-03-08 18:53:26.019 | INFO     | mofgraph2vec.model.nn_lightning:training_step:37 - The training loss at this step is 1.0802990198135376\n",
      "2023-03-08 18:53:26.030 | INFO     | mofgraph2vec.model.nn_lightning:training_step:37 - The training loss at this step is 1.0169322490692139\n",
      "2023-03-08 18:53:26.079 | INFO     | mofgraph2vec.model.nn_lightning:training_step:37 - The training loss at this step is 1.165529489517212\n",
      "2023-03-08 18:53:26.090 | INFO     | mofgraph2vec.model.nn_lightning:training_step:37 - The training loss at this step is 1.038825273513794\n",
      "2023-03-08 18:53:26.104 | INFO     | mofgraph2vec.model.nn_lightning:training_step:37 - The training loss at this step is 0.7629023194313049\n",
      "2023-03-08 18:53:26.117 | INFO     | mofgraph2vec.model.nn_lightning:training_step:37 - The training loss at this step is 1.2122219800949097\n",
      "2023-03-08 18:53:26.127 | INFO     | mofgraph2vec.model.nn_lightning:training_step:37 - The training loss at this step is 1.0301175117492676\n",
      "2023-03-08 18:53:29.589 | INFO     | mofgraph2vec.model.nn_lightning:training_step:37 - The training loss at this step is 0.7415405511856079\n",
      "2023-03-08 18:53:29.601 | INFO     | mofgraph2vec.model.nn_lightning:training_step:37 - The training loss at this step is 0.9300920367240906\n",
      "2023-03-08 18:53:29.616 | INFO     | mofgraph2vec.model.nn_lightning:training_step:37 - The training loss at this step is 1.1814957857131958\n",
      "2023-03-08 18:53:29.626 | INFO     | mofgraph2vec.model.nn_lightning:training_step:37 - The training loss at this step is 1.3288359642028809\n",
      "2023-03-08 18:53:29.638 | INFO     | mofgraph2vec.model.nn_lightning:training_step:37 - The training loss at this step is 1.353643536567688\n",
      "2023-03-08 18:53:29.650 | INFO     | mofgraph2vec.model.nn_lightning:training_step:37 - The training loss at this step is 1.2959660291671753\n",
      "2023-03-08 18:53:29.662 | INFO     | mofgraph2vec.model.nn_lightning:training_step:37 - The training loss at this step is 1.2316133975982666\n",
      "2023-03-08 18:53:29.676 | INFO     | mofgraph2vec.model.nn_lightning:training_step:37 - The training loss at this step is 1.3080756664276123\n",
      "2023-03-08 18:53:29.689 | INFO     | mofgraph2vec.model.nn_lightning:training_step:37 - The training loss at this step is 0.7339106798171997\n",
      "2023-03-08 18:53:29.700 | INFO     | mofgraph2vec.model.nn_lightning:training_step:37 - The training loss at this step is 1.3854864835739136\n"
     ]
    },
    {
     "data": {
      "application/vnd.jupyter.widget-view+json": {
       "model_id": "21eb70c0ce894b379d901e75762c8f59",
       "version_major": 2,
       "version_minor": 0
      },
      "text/plain": [
       "Validation: 0it [00:00, ?it/s]"
      ]
     },
     "metadata": {},
     "output_type": "display_data"
    },
    {
     "name": "stderr",
     "output_type": "stream",
     "text": [
      "2023-03-08 18:53:33.208 | INFO     | mofgraph2vec.model.nn_lightning:training_step:37 - The training loss at this step is 0.8116873502731323\n",
      "2023-03-08 18:53:33.220 | INFO     | mofgraph2vec.model.nn_lightning:training_step:37 - The training loss at this step is 0.7823868989944458\n",
      "2023-03-08 18:53:33.234 | INFO     | mofgraph2vec.model.nn_lightning:training_step:37 - The training loss at this step is 0.9638052582740784\n",
      "2023-03-08 18:53:33.247 | INFO     | mofgraph2vec.model.nn_lightning:training_step:37 - The training loss at this step is 1.206012487411499\n",
      "2023-03-08 18:53:33.262 | INFO     | mofgraph2vec.model.nn_lightning:training_step:37 - The training loss at this step is 1.3917996883392334\n",
      "2023-03-08 18:53:33.279 | INFO     | mofgraph2vec.model.nn_lightning:training_step:37 - The training loss at this step is 0.9311351776123047\n",
      "2023-03-08 18:53:33.294 | INFO     | mofgraph2vec.model.nn_lightning:training_step:37 - The training loss at this step is 1.39827561378479\n",
      "2023-03-08 18:53:33.311 | INFO     | mofgraph2vec.model.nn_lightning:training_step:37 - The training loss at this step is 1.2926843166351318\n",
      "2023-03-08 18:53:33.325 | INFO     | mofgraph2vec.model.nn_lightning:training_step:37 - The training loss at this step is 1.0221965312957764\n",
      "2023-03-08 18:53:33.338 | INFO     | mofgraph2vec.model.nn_lightning:training_step:37 - The training loss at this step is 1.072553038597107\n",
      "2023-03-08 18:53:33.353 | INFO     | mofgraph2vec.model.nn_lightning:training_step:37 - The training loss at this step is 0.767155647277832\n",
      "2023-03-08 18:53:33.365 | INFO     | mofgraph2vec.model.nn_lightning:training_step:37 - The training loss at this step is 1.0678845643997192\n",
      "2023-03-08 18:53:33.378 | INFO     | mofgraph2vec.model.nn_lightning:training_step:37 - The training loss at this step is 1.010402798652649\n",
      "2023-03-08 18:53:33.391 | INFO     | mofgraph2vec.model.nn_lightning:training_step:37 - The training loss at this step is 1.3455243110656738\n",
      "2023-03-08 18:53:33.444 | INFO     | mofgraph2vec.model.nn_lightning:training_step:37 - The training loss at this step is 0.9523249268531799\n",
      "2023-03-08 18:53:33.455 | INFO     | mofgraph2vec.model.nn_lightning:training_step:37 - The training loss at this step is 1.4405893087387085\n",
      "2023-03-08 18:53:33.468 | INFO     | mofgraph2vec.model.nn_lightning:training_step:37 - The training loss at this step is 1.0016233921051025\n",
      "2023-03-08 18:53:33.482 | INFO     | mofgraph2vec.model.nn_lightning:training_step:37 - The training loss at this step is 1.2074158191680908\n",
      "2023-03-08 18:53:33.498 | INFO     | mofgraph2vec.model.nn_lightning:training_step:37 - The training loss at this step is 1.1332453489303589\n",
      "2023-03-08 18:53:33.510 | INFO     | mofgraph2vec.model.nn_lightning:training_step:37 - The training loss at this step is 0.8542506694793701\n",
      "2023-03-08 18:53:33.524 | INFO     | mofgraph2vec.model.nn_lightning:training_step:37 - The training loss at this step is 1.3324000835418701\n",
      "2023-03-08 18:53:33.538 | INFO     | mofgraph2vec.model.nn_lightning:training_step:37 - The training loss at this step is 0.9833895564079285\n",
      "2023-03-08 18:53:33.552 | INFO     | mofgraph2vec.model.nn_lightning:training_step:37 - The training loss at this step is 0.9951039552688599\n",
      "2023-03-08 18:53:33.566 | INFO     | mofgraph2vec.model.nn_lightning:training_step:37 - The training loss at this step is 0.5864735245704651\n",
      "2023-03-08 18:53:33.584 | INFO     | mofgraph2vec.model.nn_lightning:training_step:37 - The training loss at this step is 0.8694944381713867\n",
      "2023-03-08 18:53:33.597 | INFO     | mofgraph2vec.model.nn_lightning:training_step:37 - The training loss at this step is 0.8762589693069458\n",
      "2023-03-08 18:53:33.610 | INFO     | mofgraph2vec.model.nn_lightning:training_step:37 - The training loss at this step is 0.9562221765518188\n",
      "2023-03-08 18:53:33.629 | INFO     | mofgraph2vec.model.nn_lightning:training_step:37 - The training loss at this step is 1.2474894523620605\n",
      "2023-03-08 18:53:33.645 | INFO     | mofgraph2vec.model.nn_lightning:training_step:37 - The training loss at this step is 1.275367259979248\n",
      "2023-03-08 18:53:33.658 | INFO     | mofgraph2vec.model.nn_lightning:training_step:37 - The training loss at this step is 1.1686129570007324\n",
      "2023-03-08 18:53:33.672 | INFO     | mofgraph2vec.model.nn_lightning:training_step:37 - The training loss at this step is 1.531467080116272\n",
      "2023-03-08 18:53:33.721 | INFO     | mofgraph2vec.model.nn_lightning:training_step:37 - The training loss at this step is 1.030375599861145\n",
      "2023-03-08 18:53:33.739 | INFO     | mofgraph2vec.model.nn_lightning:training_step:37 - The training loss at this step is 1.1165002584457397\n",
      "2023-03-08 18:53:33.752 | INFO     | mofgraph2vec.model.nn_lightning:training_step:37 - The training loss at this step is 0.7608904838562012\n",
      "2023-03-08 18:53:33.764 | INFO     | mofgraph2vec.model.nn_lightning:training_step:37 - The training loss at this step is 1.1337387561798096\n",
      "2023-03-08 18:53:33.775 | INFO     | mofgraph2vec.model.nn_lightning:training_step:37 - The training loss at this step is 0.9950448274612427\n",
      "2023-03-08 18:53:33.790 | INFO     | mofgraph2vec.model.nn_lightning:training_step:37 - The training loss at this step is 0.8790876269340515\n",
      "2023-03-08 18:53:33.818 | INFO     | mofgraph2vec.model.nn_lightning:training_step:37 - The training loss at this step is 0.8444582223892212\n",
      "2023-03-08 18:53:33.836 | INFO     | mofgraph2vec.model.nn_lightning:training_step:37 - The training loss at this step is 1.07011878490448\n",
      "2023-03-08 18:53:33.849 | INFO     | mofgraph2vec.model.nn_lightning:training_step:37 - The training loss at this step is 1.0877578258514404\n",
      "2023-03-08 18:53:40.683 | INFO     | mofgraph2vec.model.nn_lightning:training_step:37 - The training loss at this step is 0.8022889494895935\n",
      "2023-03-08 18:53:40.693 | INFO     | mofgraph2vec.model.nn_lightning:training_step:37 - The training loss at this step is 0.7128279805183411\n"
     ]
    },
    {
     "data": {
      "application/vnd.jupyter.widget-view+json": {
       "model_id": "1b129898104e4d6c940ac9312048be11",
       "version_major": 2,
       "version_minor": 0
      },
      "text/plain": [
       "Validation: 0it [00:00, ?it/s]"
      ]
     },
     "metadata": {},
     "output_type": "display_data"
    },
    {
     "name": "stderr",
     "output_type": "stream",
     "text": [
      "2023-03-08 18:53:44.185 | INFO     | mofgraph2vec.model.nn_lightning:training_step:37 - The training loss at this step is 0.9770697355270386\n",
      "2023-03-08 18:53:44.195 | INFO     | mofgraph2vec.model.nn_lightning:training_step:37 - The training loss at this step is 1.0658172369003296\n",
      "2023-03-08 18:53:44.242 | INFO     | mofgraph2vec.model.nn_lightning:training_step:37 - The training loss at this step is 0.9542023539543152\n",
      "2023-03-08 18:53:44.253 | INFO     | mofgraph2vec.model.nn_lightning:training_step:37 - The training loss at this step is 1.11946439743042\n",
      "2023-03-08 18:53:44.266 | INFO     | mofgraph2vec.model.nn_lightning:training_step:37 - The training loss at this step is 0.7916166186332703\n",
      "2023-03-08 18:53:44.277 | INFO     | mofgraph2vec.model.nn_lightning:training_step:37 - The training loss at this step is 1.1322855949401855\n",
      "2023-03-08 18:53:44.291 | INFO     | mofgraph2vec.model.nn_lightning:training_step:37 - The training loss at this step is 1.0336992740631104\n",
      "2023-03-08 18:53:44.304 | INFO     | mofgraph2vec.model.nn_lightning:training_step:37 - The training loss at this step is 0.9529976844787598\n",
      "2023-03-08 18:53:44.317 | INFO     | mofgraph2vec.model.nn_lightning:training_step:37 - The training loss at this step is 1.3964600563049316\n",
      "2023-03-08 18:53:44.330 | INFO     | mofgraph2vec.model.nn_lightning:training_step:37 - The training loss at this step is 1.1304250955581665\n",
      "2023-03-08 18:53:44.342 | INFO     | mofgraph2vec.model.nn_lightning:training_step:37 - The training loss at this step is 1.2019128799438477\n",
      "2023-03-08 18:53:44.354 | INFO     | mofgraph2vec.model.nn_lightning:training_step:37 - The training loss at this step is 0.8776426911354065\n",
      "2023-03-08 18:53:44.368 | INFO     | mofgraph2vec.model.nn_lightning:training_step:37 - The training loss at this step is 1.1087267398834229\n",
      "2023-03-08 18:53:44.380 | INFO     | mofgraph2vec.model.nn_lightning:training_step:37 - The training loss at this step is 0.9792410731315613\n",
      "2023-03-08 18:53:44.392 | INFO     | mofgraph2vec.model.nn_lightning:training_step:37 - The training loss at this step is 0.9483985304832458\n",
      "2023-03-08 18:53:44.405 | INFO     | mofgraph2vec.model.nn_lightning:training_step:37 - The training loss at this step is 1.606487512588501\n",
      "2023-03-08 18:53:44.419 | INFO     | mofgraph2vec.model.nn_lightning:training_step:37 - The training loss at this step is 1.0507186651229858\n",
      "2023-03-08 18:53:44.432 | INFO     | mofgraph2vec.model.nn_lightning:training_step:37 - The training loss at this step is 0.9126583933830261\n",
      "2023-03-08 18:53:44.443 | INFO     | mofgraph2vec.model.nn_lightning:training_step:37 - The training loss at this step is 0.8849247694015503\n",
      "2023-03-08 18:53:44.455 | INFO     | mofgraph2vec.model.nn_lightning:training_step:37 - The training loss at this step is 0.9404275417327881\n",
      "2023-03-08 18:53:44.469 | INFO     | mofgraph2vec.model.nn_lightning:training_step:37 - The training loss at this step is 1.310744285583496\n",
      "2023-03-08 18:53:44.481 | INFO     | mofgraph2vec.model.nn_lightning:training_step:37 - The training loss at this step is 1.1453182697296143\n",
      "2023-03-08 18:53:44.530 | INFO     | mofgraph2vec.model.nn_lightning:training_step:37 - The training loss at this step is 1.1080034971237183\n",
      "2023-03-08 18:53:44.541 | INFO     | mofgraph2vec.model.nn_lightning:training_step:37 - The training loss at this step is 0.8740270137786865\n",
      "2023-03-08 18:53:44.552 | INFO     | mofgraph2vec.model.nn_lightning:training_step:37 - The training loss at this step is 1.0683666467666626\n",
      "2023-03-08 18:53:44.566 | INFO     | mofgraph2vec.model.nn_lightning:training_step:37 - The training loss at this step is 1.4019806385040283\n",
      "2023-03-08 18:53:44.576 | INFO     | mofgraph2vec.model.nn_lightning:training_step:37 - The training loss at this step is 1.0422749519348145\n",
      "2023-03-08 18:53:44.589 | INFO     | mofgraph2vec.model.nn_lightning:training_step:37 - The training loss at this step is 1.3212510347366333\n",
      "2023-03-08 18:53:44.602 | INFO     | mofgraph2vec.model.nn_lightning:training_step:37 - The training loss at this step is 1.2086104154586792\n",
      "2023-03-08 18:53:44.615 | INFO     | mofgraph2vec.model.nn_lightning:training_step:37 - The training loss at this step is 1.2910590171813965\n",
      "2023-03-08 18:53:44.627 | INFO     | mofgraph2vec.model.nn_lightning:training_step:37 - The training loss at this step is 0.7724921703338623\n",
      "2023-03-08 18:53:44.639 | INFO     | mofgraph2vec.model.nn_lightning:training_step:37 - The training loss at this step is 0.82014000415802\n",
      "2023-03-08 18:53:44.651 | INFO     | mofgraph2vec.model.nn_lightning:training_step:37 - The training loss at this step is 1.2434111833572388\n",
      "2023-03-08 18:53:44.663 | INFO     | mofgraph2vec.model.nn_lightning:training_step:37 - The training loss at this step is 0.9532929062843323\n",
      "2023-03-08 18:53:44.675 | INFO     | mofgraph2vec.model.nn_lightning:training_step:37 - The training loss at this step is 0.5849102139472961\n",
      "2023-03-08 18:53:44.688 | INFO     | mofgraph2vec.model.nn_lightning:training_step:37 - The training loss at this step is 1.3054966926574707\n",
      "2023-03-08 18:53:44.701 | INFO     | mofgraph2vec.model.nn_lightning:training_step:37 - The training loss at this step is 1.1962049007415771\n",
      "2023-03-08 18:53:44.711 | INFO     | mofgraph2vec.model.nn_lightning:training_step:37 - The training loss at this step is 0.7689599394798279\n",
      "2023-03-08 18:53:44.723 | INFO     | mofgraph2vec.model.nn_lightning:training_step:37 - The training loss at this step is 0.7245998978614807\n",
      "2023-03-08 18:53:44.760 | INFO     | mofgraph2vec.model.nn_lightning:training_step:37 - The training loss at this step is 0.8162405490875244\n",
      "2023-03-08 18:53:44.777 | INFO     | mofgraph2vec.model.nn_lightning:training_step:37 - The training loss at this step is 1.200934648513794\n",
      "2023-03-08 18:53:44.787 | INFO     | mofgraph2vec.model.nn_lightning:training_step:37 - The training loss at this step is 0.4891014099121094\n"
     ]
    },
    {
     "data": {
      "application/vnd.jupyter.widget-view+json": {
       "model_id": "f40148f7e66c4650ab3e0c056d1ba4a6",
       "version_major": 2,
       "version_minor": 0
      },
      "text/plain": [
       "Validation: 0it [00:00, ?it/s]"
      ]
     },
     "metadata": {},
     "output_type": "display_data"
    },
    {
     "name": "stderr",
     "output_type": "stream",
     "text": [
      "2023-03-08 18:53:48.248 | INFO     | mofgraph2vec.model.nn_lightning:training_step:37 - The training loss at this step is 1.4911943674087524\n",
      "2023-03-08 18:53:48.258 | INFO     | mofgraph2vec.model.nn_lightning:training_step:37 - The training loss at this step is 0.9238252639770508\n",
      "2023-03-08 18:53:48.271 | INFO     | mofgraph2vec.model.nn_lightning:training_step:37 - The training loss at this step is 0.9528941512107849\n",
      "2023-03-08 18:53:48.284 | INFO     | mofgraph2vec.model.nn_lightning:training_step:37 - The training loss at this step is 1.1669632196426392\n",
      "2023-03-08 18:53:48.297 | INFO     | mofgraph2vec.model.nn_lightning:training_step:37 - The training loss at this step is 1.4419727325439453\n",
      "2023-03-08 18:53:48.310 | INFO     | mofgraph2vec.model.nn_lightning:training_step:37 - The training loss at this step is 1.0967001914978027\n",
      "2023-03-08 18:53:51.685 | INFO     | mofgraph2vec.model.nn_lightning:training_step:37 - The training loss at this step is 0.9720814228057861\n",
      "2023-03-08 18:53:51.698 | INFO     | mofgraph2vec.model.nn_lightning:training_step:37 - The training loss at this step is 1.2665655612945557\n",
      "2023-03-08 18:53:51.709 | INFO     | mofgraph2vec.model.nn_lightning:training_step:37 - The training loss at this step is 1.0329735279083252\n",
      "2023-03-08 18:53:51.721 | INFO     | mofgraph2vec.model.nn_lightning:training_step:37 - The training loss at this step is 1.020729899406433\n",
      "2023-03-08 18:53:51.734 | INFO     | mofgraph2vec.model.nn_lightning:training_step:37 - The training loss at this step is 0.8772661089897156\n",
      "2023-03-08 18:53:51.747 | INFO     | mofgraph2vec.model.nn_lightning:training_step:37 - The training loss at this step is 0.8336507678031921\n",
      "2023-03-08 18:53:51.762 | INFO     | mofgraph2vec.model.nn_lightning:training_step:37 - The training loss at this step is 1.1779658794403076\n",
      "2023-03-08 18:53:51.773 | INFO     | mofgraph2vec.model.nn_lightning:training_step:37 - The training loss at this step is 1.0042572021484375\n",
      "2023-03-08 18:53:51.813 | INFO     | mofgraph2vec.model.nn_lightning:training_step:37 - The training loss at this step is 0.9057698249816895\n",
      "2023-03-08 18:53:51.832 | INFO     | mofgraph2vec.model.nn_lightning:training_step:37 - The training loss at this step is 1.1258878707885742\n",
      "2023-03-08 18:53:51.843 | INFO     | mofgraph2vec.model.nn_lightning:training_step:37 - The training loss at this step is 1.0208642482757568\n",
      "2023-03-08 18:53:51.857 | INFO     | mofgraph2vec.model.nn_lightning:training_step:37 - The training loss at this step is 1.0289227962493896\n",
      "2023-03-08 18:53:51.869 | INFO     | mofgraph2vec.model.nn_lightning:training_step:37 - The training loss at this step is 0.8493343591690063\n",
      "2023-03-08 18:53:51.882 | INFO     | mofgraph2vec.model.nn_lightning:training_step:37 - The training loss at this step is 1.0650171041488647\n",
      "2023-03-08 18:53:51.892 | INFO     | mofgraph2vec.model.nn_lightning:training_step:37 - The training loss at this step is 1.1092312335968018\n",
      "2023-03-08 18:53:51.905 | INFO     | mofgraph2vec.model.nn_lightning:training_step:37 - The training loss at this step is 0.9536435604095459\n",
      "2023-03-08 18:53:51.918 | INFO     | mofgraph2vec.model.nn_lightning:training_step:37 - The training loss at this step is 0.8094784021377563\n",
      "2023-03-08 18:53:51.931 | INFO     | mofgraph2vec.model.nn_lightning:training_step:37 - The training loss at this step is 1.548977017402649\n",
      "2023-03-08 18:53:51.943 | INFO     | mofgraph2vec.model.nn_lightning:training_step:37 - The training loss at this step is 0.9938778281211853\n",
      "2023-03-08 18:53:51.955 | INFO     | mofgraph2vec.model.nn_lightning:training_step:37 - The training loss at this step is 1.072797179222107\n",
      "2023-03-08 18:53:51.968 | INFO     | mofgraph2vec.model.nn_lightning:training_step:37 - The training loss at this step is 0.8461140990257263\n",
      "2023-03-08 18:53:51.979 | INFO     | mofgraph2vec.model.nn_lightning:training_step:37 - The training loss at this step is 0.6433768272399902\n",
      "2023-03-08 18:53:51.991 | INFO     | mofgraph2vec.model.nn_lightning:training_step:37 - The training loss at this step is 1.4363901615142822\n",
      "2023-03-08 18:53:52.004 | INFO     | mofgraph2vec.model.nn_lightning:training_step:37 - The training loss at this step is 1.28923761844635\n",
      "2023-03-08 18:53:52.017 | INFO     | mofgraph2vec.model.nn_lightning:training_step:37 - The training loss at this step is 1.4753111600875854\n",
      "2023-03-08 18:53:52.030 | INFO     | mofgraph2vec.model.nn_lightning:training_step:37 - The training loss at this step is 0.8664527535438538\n",
      "2023-03-08 18:53:52.042 | INFO     | mofgraph2vec.model.nn_lightning:training_step:37 - The training loss at this step is 0.8161381483078003\n",
      "2023-03-08 18:53:52.092 | INFO     | mofgraph2vec.model.nn_lightning:training_step:37 - The training loss at this step is 1.1625206470489502\n",
      "2023-03-08 18:53:52.110 | INFO     | mofgraph2vec.model.nn_lightning:training_step:37 - The training loss at this step is 1.1212513446807861\n",
      "2023-03-08 18:53:52.120 | INFO     | mofgraph2vec.model.nn_lightning:training_step:37 - The training loss at this step is 1.4002701044082642\n",
      "2023-03-08 18:53:52.132 | INFO     | mofgraph2vec.model.nn_lightning:training_step:37 - The training loss at this step is 1.0427954196929932\n",
      "2023-03-08 18:53:52.142 | INFO     | mofgraph2vec.model.nn_lightning:training_step:37 - The training loss at this step is 1.008686900138855\n",
      "2023-03-08 18:53:52.155 | INFO     | mofgraph2vec.model.nn_lightning:training_step:37 - The training loss at this step is 0.6009126305580139\n",
      "2023-03-08 18:53:52.168 | INFO     | mofgraph2vec.model.nn_lightning:training_step:37 - The training loss at this step is 1.0498956441879272\n",
      "2023-03-08 18:53:52.179 | INFO     | mofgraph2vec.model.nn_lightning:training_step:37 - The training loss at this step is 0.9642855525016785\n",
      "2023-03-08 18:53:52.190 | INFO     | mofgraph2vec.model.nn_lightning:training_step:37 - The training loss at this step is 0.4790784418582916\n"
     ]
    },
    {
     "data": {
      "application/vnd.jupyter.widget-view+json": {
       "model_id": "e9656049fec643f5aab0a508dc5ed663",
       "version_major": 2,
       "version_minor": 0
      },
      "text/plain": [
       "Validation: 0it [00:00, ?it/s]"
      ]
     },
     "metadata": {},
     "output_type": "display_data"
    },
    {
     "name": "stderr",
     "output_type": "stream",
     "text": [
      "2023-03-08 18:53:55.654 | INFO     | mofgraph2vec.model.nn_lightning:training_step:37 - The training loss at this step is 1.0381150245666504\n",
      "2023-03-08 18:53:55.667 | INFO     | mofgraph2vec.model.nn_lightning:training_step:37 - The training loss at this step is 0.8031427264213562\n",
      "2023-03-08 18:53:55.679 | INFO     | mofgraph2vec.model.nn_lightning:training_step:37 - The training loss at this step is 1.2663452625274658\n",
      "2023-03-08 18:53:55.691 | INFO     | mofgraph2vec.model.nn_lightning:training_step:37 - The training loss at this step is 0.9344647526741028\n",
      "2023-03-08 18:53:55.704 | INFO     | mofgraph2vec.model.nn_lightning:training_step:37 - The training loss at this step is 1.5189528465270996\n",
      "2023-03-08 18:53:55.717 | INFO     | mofgraph2vec.model.nn_lightning:training_step:37 - The training loss at this step is 0.8093985915184021\n",
      "2023-03-08 18:53:55.727 | INFO     | mofgraph2vec.model.nn_lightning:training_step:37 - The training loss at this step is 0.7578414082527161\n",
      "2023-03-08 18:53:55.742 | INFO     | mofgraph2vec.model.nn_lightning:training_step:37 - The training loss at this step is 1.1976383924484253\n",
      "2023-03-08 18:53:55.755 | INFO     | mofgraph2vec.model.nn_lightning:training_step:37 - The training loss at this step is 0.7623822093009949\n",
      "2023-03-08 18:53:55.768 | INFO     | mofgraph2vec.model.nn_lightning:training_step:37 - The training loss at this step is 1.3354976177215576\n",
      "2023-03-08 18:53:55.781 | INFO     | mofgraph2vec.model.nn_lightning:training_step:37 - The training loss at this step is 1.2197362184524536\n",
      "2023-03-08 18:53:55.793 | INFO     | mofgraph2vec.model.nn_lightning:training_step:37 - The training loss at this step is 1.1160533428192139\n",
      "2023-03-08 18:53:55.808 | INFO     | mofgraph2vec.model.nn_lightning:training_step:37 - The training loss at this step is 1.171523928642273\n",
      "2023-03-08 18:53:55.854 | INFO     | mofgraph2vec.model.nn_lightning:training_step:37 - The training loss at this step is 0.8629738092422485\n",
      "2023-03-08 18:54:02.631 | INFO     | mofgraph2vec.model.nn_lightning:training_step:37 - The training loss at this step is 1.0595616102218628\n",
      "2023-03-08 18:54:02.642 | INFO     | mofgraph2vec.model.nn_lightning:training_step:37 - The training loss at this step is 0.5080241560935974\n",
      "2023-03-08 18:54:02.652 | INFO     | mofgraph2vec.model.nn_lightning:training_step:37 - The training loss at this step is 1.3536486625671387\n",
      "2023-03-08 18:54:02.665 | INFO     | mofgraph2vec.model.nn_lightning:training_step:37 - The training loss at this step is 0.9744018316268921\n",
      "2023-03-08 18:54:02.678 | INFO     | mofgraph2vec.model.nn_lightning:training_step:37 - The training loss at this step is 0.9183809757232666\n",
      "2023-03-08 18:54:02.689 | INFO     | mofgraph2vec.model.nn_lightning:training_step:37 - The training loss at this step is 1.0631712675094604\n",
      "2023-03-08 18:54:02.701 | INFO     | mofgraph2vec.model.nn_lightning:training_step:37 - The training loss at this step is 0.8059303760528564\n",
      "2023-03-08 18:54:02.713 | INFO     | mofgraph2vec.model.nn_lightning:training_step:37 - The training loss at this step is 0.9709769487380981\n",
      "2023-03-08 18:54:02.725 | INFO     | mofgraph2vec.model.nn_lightning:training_step:37 - The training loss at this step is 0.9576188325881958\n",
      "2023-03-08 18:54:02.738 | INFO     | mofgraph2vec.model.nn_lightning:training_step:37 - The training loss at this step is 0.9629895091056824\n",
      "2023-03-08 18:54:02.750 | INFO     | mofgraph2vec.model.nn_lightning:training_step:37 - The training loss at this step is 1.0435588359832764\n",
      "2023-03-08 18:54:02.763 | INFO     | mofgraph2vec.model.nn_lightning:training_step:37 - The training loss at this step is 1.3404903411865234\n",
      "2023-03-08 18:54:02.776 | INFO     | mofgraph2vec.model.nn_lightning:training_step:37 - The training loss at this step is 1.2626845836639404\n",
      "2023-03-08 18:54:02.788 | INFO     | mofgraph2vec.model.nn_lightning:training_step:37 - The training loss at this step is 1.3032374382019043\n",
      "2023-03-08 18:54:02.831 | INFO     | mofgraph2vec.model.nn_lightning:training_step:37 - The training loss at this step is 1.402721881866455\n",
      "2023-03-08 18:54:02.845 | INFO     | mofgraph2vec.model.nn_lightning:training_step:37 - The training loss at this step is 1.0449987649917603\n",
      "2023-03-08 18:54:02.858 | INFO     | mofgraph2vec.model.nn_lightning:training_step:37 - The training loss at this step is 1.5412598848342896\n",
      "2023-03-08 18:54:02.871 | INFO     | mofgraph2vec.model.nn_lightning:training_step:37 - The training loss at this step is 0.9432331323623657\n",
      "2023-03-08 18:54:02.883 | INFO     | mofgraph2vec.model.nn_lightning:training_step:37 - The training loss at this step is 0.8809868693351746\n",
      "2023-03-08 18:54:02.894 | INFO     | mofgraph2vec.model.nn_lightning:training_step:37 - The training loss at this step is 1.058812141418457\n",
      "2023-03-08 18:54:02.906 | INFO     | mofgraph2vec.model.nn_lightning:training_step:37 - The training loss at this step is 0.9850981831550598\n",
      "2023-03-08 18:54:02.917 | INFO     | mofgraph2vec.model.nn_lightning:training_step:37 - The training loss at this step is 1.100066065788269\n",
      "2023-03-08 18:54:02.928 | INFO     | mofgraph2vec.model.nn_lightning:training_step:37 - The training loss at this step is 0.9363918304443359\n",
      "2023-03-08 18:54:02.938 | INFO     | mofgraph2vec.model.nn_lightning:training_step:37 - The training loss at this step is 1.1926201581954956\n",
      "2023-03-08 18:54:02.950 | INFO     | mofgraph2vec.model.nn_lightning:training_step:37 - The training loss at this step is 0.9813299179077148\n",
      "2023-03-08 18:54:02.960 | INFO     | mofgraph2vec.model.nn_lightning:training_step:37 - The training loss at this step is 0.815933108329773\n",
      "2023-03-08 18:54:02.971 | INFO     | mofgraph2vec.model.nn_lightning:training_step:37 - The training loss at this step is 1.0006707906723022\n",
      "2023-03-08 18:54:02.982 | INFO     | mofgraph2vec.model.nn_lightning:training_step:37 - The training loss at this step is 1.2509026527404785\n"
     ]
    },
    {
     "data": {
      "application/vnd.jupyter.widget-view+json": {
       "model_id": "539ee3b2a4e34943bffbb7a277c93580",
       "version_major": 2,
       "version_minor": 0
      },
      "text/plain": [
       "Validation: 0it [00:00, ?it/s]"
      ]
     },
     "metadata": {},
     "output_type": "display_data"
    },
    {
     "name": "stderr",
     "output_type": "stream",
     "text": [
      "2023-03-08 18:54:06.518 | INFO     | mofgraph2vec.model.nn_lightning:training_step:37 - The training loss at this step is 1.0979294776916504\n",
      "2023-03-08 18:54:06.533 | INFO     | mofgraph2vec.model.nn_lightning:training_step:37 - The training loss at this step is 0.8836269974708557\n",
      "2023-03-08 18:54:06.545 | INFO     | mofgraph2vec.model.nn_lightning:training_step:37 - The training loss at this step is 1.369708776473999\n",
      "2023-03-08 18:54:06.570 | INFO     | mofgraph2vec.model.nn_lightning:training_step:37 - The training loss at this step is 0.9827731847763062\n",
      "2023-03-08 18:54:06.589 | INFO     | mofgraph2vec.model.nn_lightning:training_step:37 - The training loss at this step is 1.2839114665985107\n",
      "2023-03-08 18:54:06.602 | INFO     | mofgraph2vec.model.nn_lightning:training_step:37 - The training loss at this step is 1.2248706817626953\n",
      "2023-03-08 18:54:06.613 | INFO     | mofgraph2vec.model.nn_lightning:training_step:37 - The training loss at this step is 1.057022213935852\n",
      "2023-03-08 18:54:06.624 | INFO     | mofgraph2vec.model.nn_lightning:training_step:37 - The training loss at this step is 1.250734806060791\n",
      "2023-03-08 18:54:06.636 | INFO     | mofgraph2vec.model.nn_lightning:training_step:37 - The training loss at this step is 1.1757194995880127\n",
      "2023-03-08 18:54:06.681 | INFO     | mofgraph2vec.model.nn_lightning:training_step:37 - The training loss at this step is 1.2853989601135254\n",
      "2023-03-08 18:54:06.692 | INFO     | mofgraph2vec.model.nn_lightning:training_step:37 - The training loss at this step is 0.7403145432472229\n",
      "2023-03-08 18:54:06.704 | INFO     | mofgraph2vec.model.nn_lightning:training_step:37 - The training loss at this step is 1.0967345237731934\n",
      "2023-03-08 18:54:06.716 | INFO     | mofgraph2vec.model.nn_lightning:training_step:37 - The training loss at this step is 1.0762470960617065\n",
      "2023-03-08 18:54:06.727 | INFO     | mofgraph2vec.model.nn_lightning:training_step:37 - The training loss at this step is 1.1580926179885864\n",
      "2023-03-08 18:54:06.740 | INFO     | mofgraph2vec.model.nn_lightning:training_step:37 - The training loss at this step is 0.8528307676315308\n",
      "2023-03-08 18:54:06.752 | INFO     | mofgraph2vec.model.nn_lightning:training_step:37 - The training loss at this step is 0.6520935297012329\n",
      "2023-03-08 18:54:06.766 | INFO     | mofgraph2vec.model.nn_lightning:training_step:37 - The training loss at this step is 1.3277900218963623\n",
      "2023-03-08 18:54:06.778 | INFO     | mofgraph2vec.model.nn_lightning:training_step:37 - The training loss at this step is 0.9237802028656006\n",
      "2023-03-08 18:54:06.790 | INFO     | mofgraph2vec.model.nn_lightning:training_step:37 - The training loss at this step is 1.2557024955749512\n",
      "2023-03-08 18:54:06.803 | INFO     | mofgraph2vec.model.nn_lightning:training_step:37 - The training loss at this step is 1.168319582939148\n",
      "2023-03-08 18:54:06.816 | INFO     | mofgraph2vec.model.nn_lightning:training_step:37 - The training loss at this step is 1.3914477825164795\n",
      "2023-03-08 18:54:06.829 | INFO     | mofgraph2vec.model.nn_lightning:training_step:37 - The training loss at this step is 1.0396826267242432\n",
      "2023-03-08 18:54:10.289 | INFO     | mofgraph2vec.model.nn_lightning:training_step:37 - The training loss at this step is 0.781389594078064\n",
      "2023-03-08 18:54:10.300 | INFO     | mofgraph2vec.model.nn_lightning:training_step:37 - The training loss at this step is 0.9739760756492615\n",
      "2023-03-08 18:54:10.311 | INFO     | mofgraph2vec.model.nn_lightning:training_step:37 - The training loss at this step is 0.8094626665115356\n",
      "2023-03-08 18:54:10.322 | INFO     | mofgraph2vec.model.nn_lightning:training_step:37 - The training loss at this step is 0.9860639572143555\n",
      "2023-03-08 18:54:10.346 | INFO     | mofgraph2vec.model.nn_lightning:training_step:37 - The training loss at this step is 1.1784098148345947\n",
      "2023-03-08 18:54:10.359 | INFO     | mofgraph2vec.model.nn_lightning:training_step:37 - The training loss at this step is 0.9788987636566162\n",
      "2023-03-08 18:54:10.370 | INFO     | mofgraph2vec.model.nn_lightning:training_step:37 - The training loss at this step is 0.8266308307647705\n",
      "2023-03-08 18:54:10.383 | INFO     | mofgraph2vec.model.nn_lightning:training_step:37 - The training loss at this step is 1.0350269079208374\n",
      "2023-03-08 18:54:10.396 | INFO     | mofgraph2vec.model.nn_lightning:training_step:37 - The training loss at this step is 0.9162644743919373\n",
      "2023-03-08 18:54:10.406 | INFO     | mofgraph2vec.model.nn_lightning:training_step:37 - The training loss at this step is 0.894302487373352\n",
      "2023-03-08 18:54:10.418 | INFO     | mofgraph2vec.model.nn_lightning:training_step:37 - The training loss at this step is 1.237304925918579\n",
      "2023-03-08 18:54:10.430 | INFO     | mofgraph2vec.model.nn_lightning:training_step:37 - The training loss at this step is 1.2165614366531372\n",
      "2023-03-08 18:54:10.442 | INFO     | mofgraph2vec.model.nn_lightning:training_step:37 - The training loss at this step is 0.8612247705459595\n",
      "2023-03-08 18:54:10.454 | INFO     | mofgraph2vec.model.nn_lightning:training_step:37 - The training loss at this step is 1.0252912044525146\n",
      "2023-03-08 18:54:10.465 | INFO     | mofgraph2vec.model.nn_lightning:training_step:37 - The training loss at this step is 1.2487263679504395\n",
      "2023-03-08 18:54:10.478 | INFO     | mofgraph2vec.model.nn_lightning:training_step:37 - The training loss at this step is 1.1515281200408936\n",
      "2023-03-08 18:54:10.489 | INFO     | mofgraph2vec.model.nn_lightning:training_step:37 - The training loss at this step is 0.9828788638114929\n",
      "2023-03-08 18:54:10.500 | INFO     | mofgraph2vec.model.nn_lightning:training_step:37 - The training loss at this step is 0.8358974456787109\n",
      "2023-03-08 18:54:10.511 | INFO     | mofgraph2vec.model.nn_lightning:training_step:37 - The training loss at this step is 0.8691052198410034\n",
      "2023-03-08 18:54:10.553 | INFO     | mofgraph2vec.model.nn_lightning:training_step:37 - The training loss at this step is 1.1081587076187134\n"
     ]
    },
    {
     "data": {
      "application/vnd.jupyter.widget-view+json": {
       "model_id": "91c50f4493614b1db246883866edc511",
       "version_major": 2,
       "version_minor": 0
      },
      "text/plain": [
       "Validation: 0it [00:00, ?it/s]"
      ]
     },
     "metadata": {},
     "output_type": "display_data"
    },
    {
     "name": "stderr",
     "output_type": "stream",
     "text": [
      "2023-03-08 18:54:14.045 | INFO     | mofgraph2vec.model.nn_lightning:training_step:37 - The training loss at this step is 1.1417582035064697\n",
      "2023-03-08 18:54:14.057 | INFO     | mofgraph2vec.model.nn_lightning:training_step:37 - The training loss at this step is 0.9702305793762207\n",
      "2023-03-08 18:54:14.070 | INFO     | mofgraph2vec.model.nn_lightning:training_step:37 - The training loss at this step is 0.9537368416786194\n",
      "2023-03-08 18:54:14.083 | INFO     | mofgraph2vec.model.nn_lightning:training_step:37 - The training loss at this step is 0.8000089526176453\n",
      "2023-03-08 18:54:14.096 | INFO     | mofgraph2vec.model.nn_lightning:training_step:37 - The training loss at this step is 1.1131515502929688\n",
      "2023-03-08 18:54:14.108 | INFO     | mofgraph2vec.model.nn_lightning:training_step:37 - The training loss at this step is 0.9926841259002686\n",
      "2023-03-08 18:54:14.120 | INFO     | mofgraph2vec.model.nn_lightning:training_step:37 - The training loss at this step is 1.2311253547668457\n",
      "2023-03-08 18:54:14.133 | INFO     | mofgraph2vec.model.nn_lightning:training_step:37 - The training loss at this step is 1.233801245689392\n",
      "2023-03-08 18:54:14.147 | INFO     | mofgraph2vec.model.nn_lightning:training_step:37 - The training loss at this step is 1.1862423419952393\n",
      "2023-03-08 18:54:14.159 | INFO     | mofgraph2vec.model.nn_lightning:training_step:37 - The training loss at this step is 1.0286991596221924\n",
      "2023-03-08 18:54:14.171 | INFO     | mofgraph2vec.model.nn_lightning:training_step:37 - The training loss at this step is 1.2020041942596436\n",
      "2023-03-08 18:54:14.184 | INFO     | mofgraph2vec.model.nn_lightning:training_step:37 - The training loss at this step is 1.2652114629745483\n",
      "2023-03-08 18:54:14.196 | INFO     | mofgraph2vec.model.nn_lightning:training_step:37 - The training loss at this step is 1.0125395059585571\n",
      "2023-03-08 18:54:14.210 | INFO     | mofgraph2vec.model.nn_lightning:training_step:37 - The training loss at this step is 1.1058728694915771\n",
      "2023-03-08 18:54:14.221 | INFO     | mofgraph2vec.model.nn_lightning:training_step:37 - The training loss at this step is 1.2479832172393799\n",
      "2023-03-08 18:54:14.258 | INFO     | mofgraph2vec.model.nn_lightning:training_step:37 - The training loss at this step is 0.8583499193191528\n",
      "2023-03-08 18:54:14.277 | INFO     | mofgraph2vec.model.nn_lightning:training_step:37 - The training loss at this step is 1.058203935623169\n",
      "2023-03-08 18:54:14.288 | INFO     | mofgraph2vec.model.nn_lightning:training_step:37 - The training loss at this step is 1.0672798156738281\n",
      "2023-03-08 18:54:14.299 | INFO     | mofgraph2vec.model.nn_lightning:training_step:37 - The training loss at this step is 1.2579563856124878\n",
      "2023-03-08 18:54:14.312 | INFO     | mofgraph2vec.model.nn_lightning:training_step:37 - The training loss at this step is 1.1920299530029297\n",
      "2023-03-08 18:54:14.325 | INFO     | mofgraph2vec.model.nn_lightning:training_step:37 - The training loss at this step is 1.0382766723632812\n",
      "2023-03-08 18:54:14.339 | INFO     | mofgraph2vec.model.nn_lightning:training_step:37 - The training loss at this step is 0.7367293834686279\n",
      "2023-03-08 18:54:14.351 | INFO     | mofgraph2vec.model.nn_lightning:training_step:37 - The training loss at this step is 1.229067325592041\n",
      "2023-03-08 18:54:14.362 | INFO     | mofgraph2vec.model.nn_lightning:training_step:37 - The training loss at this step is 1.05751633644104\n",
      "2023-03-08 18:54:14.373 | INFO     | mofgraph2vec.model.nn_lightning:training_step:37 - The training loss at this step is 1.1518843173980713\n",
      "2023-03-08 18:54:14.385 | INFO     | mofgraph2vec.model.nn_lightning:training_step:37 - The training loss at this step is 1.1608937978744507\n",
      "2023-03-08 18:54:14.398 | INFO     | mofgraph2vec.model.nn_lightning:training_step:37 - The training loss at this step is 0.8030440807342529\n",
      "2023-03-08 18:54:14.411 | INFO     | mofgraph2vec.model.nn_lightning:training_step:37 - The training loss at this step is 1.0478639602661133\n",
      "2023-03-08 18:54:14.432 | INFO     | mofgraph2vec.model.nn_lightning:training_step:37 - The training loss at this step is 1.2837575674057007\n",
      "2023-03-08 18:54:14.452 | INFO     | mofgraph2vec.model.nn_lightning:training_step:37 - The training loss at this step is 1.183707356452942\n",
      "2023-03-08 18:54:21.208 | INFO     | mofgraph2vec.model.nn_lightning:training_step:37 - The training loss at this step is 0.7431082725524902\n",
      "2023-03-08 18:54:21.221 | INFO     | mofgraph2vec.model.nn_lightning:training_step:37 - The training loss at this step is 1.099027395248413\n",
      "2023-03-08 18:54:21.234 | INFO     | mofgraph2vec.model.nn_lightning:training_step:37 - The training loss at this step is 0.9680211544036865\n",
      "2023-03-08 18:54:21.246 | INFO     | mofgraph2vec.model.nn_lightning:training_step:37 - The training loss at this step is 0.8485439419746399\n",
      "2023-03-08 18:54:21.257 | INFO     | mofgraph2vec.model.nn_lightning:training_step:37 - The training loss at this step is 0.9781830906867981\n",
      "2023-03-08 18:54:21.270 | INFO     | mofgraph2vec.model.nn_lightning:training_step:37 - The training loss at this step is 1.1198623180389404\n",
      "2023-03-08 18:54:21.281 | INFO     | mofgraph2vec.model.nn_lightning:training_step:37 - The training loss at this step is 1.0185891389846802\n",
      "2023-03-08 18:54:21.294 | INFO     | mofgraph2vec.model.nn_lightning:training_step:37 - The training loss at this step is 0.7067468166351318\n",
      "2023-03-08 18:54:21.305 | INFO     | mofgraph2vec.model.nn_lightning:training_step:37 - The training loss at this step is 0.9653325080871582\n",
      "2023-03-08 18:54:21.316 | INFO     | mofgraph2vec.model.nn_lightning:training_step:37 - The training loss at this step is 0.9971834421157837\n",
      "2023-03-08 18:54:21.328 | INFO     | mofgraph2vec.model.nn_lightning:training_step:37 - The training loss at this step is 1.0695648193359375\n",
      "2023-03-08 18:54:21.337 | INFO     | mofgraph2vec.model.nn_lightning:training_step:37 - The training loss at this step is 0.805145800113678\n"
     ]
    },
    {
     "data": {
      "application/vnd.jupyter.widget-view+json": {
       "model_id": "61ab76b442d94723a524b5f617916037",
       "version_major": 2,
       "version_minor": 0
      },
      "text/plain": [
       "Validation: 0it [00:00, ?it/s]"
      ]
     },
     "metadata": {},
     "output_type": "display_data"
    },
    {
     "name": "stderr",
     "output_type": "stream",
     "text": [
      "2023-03-08 18:54:24.825 | INFO     | mofgraph2vec.model.nn_lightning:training_step:37 - The training loss at this step is 1.182960033416748\n",
      "2023-03-08 18:54:24.837 | INFO     | mofgraph2vec.model.nn_lightning:training_step:37 - The training loss at this step is 1.1783419847488403\n",
      "2023-03-08 18:54:24.851 | INFO     | mofgraph2vec.model.nn_lightning:training_step:37 - The training loss at this step is 1.1033222675323486\n",
      "2023-03-08 18:54:24.862 | INFO     | mofgraph2vec.model.nn_lightning:training_step:37 - The training loss at this step is 0.5945141315460205\n",
      "2023-03-08 18:54:24.874 | INFO     | mofgraph2vec.model.nn_lightning:training_step:37 - The training loss at this step is 0.8931006789207458\n",
      "2023-03-08 18:54:24.886 | INFO     | mofgraph2vec.model.nn_lightning:training_step:37 - The training loss at this step is 0.7852292060852051\n",
      "2023-03-08 18:54:24.900 | INFO     | mofgraph2vec.model.nn_lightning:training_step:37 - The training loss at this step is 0.8291062712669373\n",
      "2023-03-08 18:54:24.912 | INFO     | mofgraph2vec.model.nn_lightning:training_step:37 - The training loss at this step is 1.00714111328125\n",
      "2023-03-08 18:54:24.927 | INFO     | mofgraph2vec.model.nn_lightning:training_step:37 - The training loss at this step is 1.0325820446014404\n",
      "2023-03-08 18:54:24.938 | INFO     | mofgraph2vec.model.nn_lightning:training_step:37 - The training loss at this step is 1.0309815406799316\n",
      "2023-03-08 18:54:24.951 | INFO     | mofgraph2vec.model.nn_lightning:training_step:37 - The training loss at this step is 1.1562424898147583\n",
      "2023-03-08 18:54:24.962 | INFO     | mofgraph2vec.model.nn_lightning:training_step:37 - The training loss at this step is 1.0185809135437012\n",
      "2023-03-08 18:54:24.976 | INFO     | mofgraph2vec.model.nn_lightning:training_step:37 - The training loss at this step is 1.2483354806900024\n",
      "2023-03-08 18:54:25.019 | INFO     | mofgraph2vec.model.nn_lightning:training_step:37 - The training loss at this step is 0.6949453353881836\n",
      "2023-03-08 18:54:25.032 | INFO     | mofgraph2vec.model.nn_lightning:training_step:37 - The training loss at this step is 1.1864302158355713\n",
      "2023-03-08 18:54:25.044 | INFO     | mofgraph2vec.model.nn_lightning:training_step:37 - The training loss at this step is 1.040562629699707\n",
      "2023-03-08 18:54:25.056 | INFO     | mofgraph2vec.model.nn_lightning:training_step:37 - The training loss at this step is 0.9512302875518799\n",
      "2023-03-08 18:54:25.069 | INFO     | mofgraph2vec.model.nn_lightning:training_step:37 - The training loss at this step is 1.138936161994934\n",
      "2023-03-08 18:54:25.082 | INFO     | mofgraph2vec.model.nn_lightning:training_step:37 - The training loss at this step is 1.0273675918579102\n",
      "2023-03-08 18:54:25.093 | INFO     | mofgraph2vec.model.nn_lightning:training_step:37 - The training loss at this step is 1.0359015464782715\n",
      "2023-03-08 18:54:25.106 | INFO     | mofgraph2vec.model.nn_lightning:training_step:37 - The training loss at this step is 0.9943059682846069\n",
      "2023-03-08 18:54:25.119 | INFO     | mofgraph2vec.model.nn_lightning:training_step:37 - The training loss at this step is 1.3868765830993652\n",
      "2023-03-08 18:54:25.141 | INFO     | mofgraph2vec.model.nn_lightning:training_step:37 - The training loss at this step is 1.0255236625671387\n",
      "2023-03-08 18:54:25.155 | INFO     | mofgraph2vec.model.nn_lightning:training_step:37 - The training loss at this step is 0.8632603883743286\n",
      "2023-03-08 18:54:25.169 | INFO     | mofgraph2vec.model.nn_lightning:training_step:37 - The training loss at this step is 1.8325722217559814\n",
      "2023-03-08 18:54:25.181 | INFO     | mofgraph2vec.model.nn_lightning:training_step:37 - The training loss at this step is 0.7681319713592529\n",
      "2023-03-08 18:54:25.192 | INFO     | mofgraph2vec.model.nn_lightning:training_step:37 - The training loss at this step is 0.9326316118240356\n",
      "2023-03-08 18:54:25.204 | INFO     | mofgraph2vec.model.nn_lightning:training_step:37 - The training loss at this step is 0.7628560066223145\n",
      "2023-03-08 18:54:25.216 | INFO     | mofgraph2vec.model.nn_lightning:training_step:37 - The training loss at this step is 0.935713529586792\n",
      "2023-03-08 18:54:25.229 | INFO     | mofgraph2vec.model.nn_lightning:training_step:37 - The training loss at this step is 1.013871192932129\n",
      "2023-03-08 18:54:25.242 | INFO     | mofgraph2vec.model.nn_lightning:training_step:37 - The training loss at this step is 1.5325387716293335\n",
      "2023-03-08 18:54:25.254 | INFO     | mofgraph2vec.model.nn_lightning:training_step:37 - The training loss at this step is 1.071800947189331\n",
      "2023-03-08 18:54:25.293 | INFO     | mofgraph2vec.model.nn_lightning:training_step:37 - The training loss at this step is 1.2347499132156372\n",
      "2023-03-08 18:54:25.310 | INFO     | mofgraph2vec.model.nn_lightning:training_step:37 - The training loss at this step is 1.3654859066009521\n",
      "2023-03-08 18:54:25.321 | INFO     | mofgraph2vec.model.nn_lightning:training_step:37 - The training loss at this step is 1.2901854515075684\n",
      "2023-03-08 18:54:25.332 | INFO     | mofgraph2vec.model.nn_lightning:training_step:37 - The training loss at this step is 1.0018861293792725\n",
      "2023-03-08 18:54:25.345 | INFO     | mofgraph2vec.model.nn_lightning:training_step:37 - The training loss at this step is 0.6781771183013916\n",
      "2023-03-08 18:54:25.360 | INFO     | mofgraph2vec.model.nn_lightning:training_step:37 - The training loss at this step is 0.904547929763794\n",
      "2023-03-08 18:54:28.750 | INFO     | mofgraph2vec.model.nn_lightning:training_step:37 - The training loss at this step is 1.0585898160934448\n",
      "2023-03-08 18:54:28.760 | INFO     | mofgraph2vec.model.nn_lightning:training_step:37 - The training loss at this step is 1.2483259439468384\n",
      "2023-03-08 18:54:28.772 | INFO     | mofgraph2vec.model.nn_lightning:training_step:37 - The training loss at this step is 1.2079198360443115\n",
      "2023-03-08 18:54:28.783 | INFO     | mofgraph2vec.model.nn_lightning:training_step:37 - The training loss at this step is 0.2558434307575226\n"
     ]
    },
    {
     "data": {
      "application/vnd.jupyter.widget-view+json": {
       "model_id": "e5d5d9feb63442c384b2bf427ea9bc8e",
       "version_major": 2,
       "version_minor": 0
      },
      "text/plain": [
       "Validation: 0it [00:00, ?it/s]"
      ]
     },
     "metadata": {},
     "output_type": "display_data"
    },
    {
     "name": "stderr",
     "output_type": "stream",
     "text": [
      "2023-03-08 18:54:32.294 | INFO     | mofgraph2vec.model.nn_lightning:training_step:37 - The training loss at this step is 1.0397032499313354\n",
      "2023-03-08 18:54:32.306 | INFO     | mofgraph2vec.model.nn_lightning:training_step:37 - The training loss at this step is 1.0437806844711304\n",
      "2023-03-08 18:54:32.320 | INFO     | mofgraph2vec.model.nn_lightning:training_step:37 - The training loss at this step is 0.8699284195899963\n",
      "2023-03-08 18:54:32.332 | INFO     | mofgraph2vec.model.nn_lightning:training_step:37 - The training loss at this step is 0.9154943227767944\n",
      "2023-03-08 18:54:32.345 | INFO     | mofgraph2vec.model.nn_lightning:training_step:37 - The training loss at this step is 0.8425097465515137\n",
      "2023-03-08 18:54:32.357 | INFO     | mofgraph2vec.model.nn_lightning:training_step:37 - The training loss at this step is 1.095348834991455\n",
      "2023-03-08 18:54:32.370 | INFO     | mofgraph2vec.model.nn_lightning:training_step:37 - The training loss at this step is 1.1571261882781982\n",
      "2023-03-08 18:54:32.383 | INFO     | mofgraph2vec.model.nn_lightning:training_step:37 - The training loss at this step is 1.021672010421753\n",
      "2023-03-08 18:54:32.395 | INFO     | mofgraph2vec.model.nn_lightning:training_step:37 - The training loss at this step is 1.1252310276031494\n",
      "2023-03-08 18:54:32.407 | INFO     | mofgraph2vec.model.nn_lightning:training_step:37 - The training loss at this step is 0.9735650420188904\n",
      "2023-03-08 18:54:32.467 | INFO     | mofgraph2vec.model.nn_lightning:training_step:37 - The training loss at this step is 0.7573710680007935\n",
      "2023-03-08 18:54:32.485 | INFO     | mofgraph2vec.model.nn_lightning:training_step:37 - The training loss at this step is 1.1707127094268799\n",
      "2023-03-08 18:54:32.499 | INFO     | mofgraph2vec.model.nn_lightning:training_step:37 - The training loss at this step is 0.7336418032646179\n",
      "2023-03-08 18:54:32.512 | INFO     | mofgraph2vec.model.nn_lightning:training_step:37 - The training loss at this step is 1.0830193758010864\n",
      "2023-03-08 18:54:32.525 | INFO     | mofgraph2vec.model.nn_lightning:training_step:37 - The training loss at this step is 1.0791620016098022\n",
      "2023-03-08 18:54:32.538 | INFO     | mofgraph2vec.model.nn_lightning:training_step:37 - The training loss at this step is 1.0903719663619995\n",
      "2023-03-08 18:54:32.551 | INFO     | mofgraph2vec.model.nn_lightning:training_step:37 - The training loss at this step is 0.9434815645217896\n",
      "2023-03-08 18:54:32.565 | INFO     | mofgraph2vec.model.nn_lightning:training_step:37 - The training loss at this step is 1.2659871578216553\n",
      "2023-03-08 18:54:32.577 | INFO     | mofgraph2vec.model.nn_lightning:training_step:37 - The training loss at this step is 1.2911021709442139\n",
      "2023-03-08 18:54:32.589 | INFO     | mofgraph2vec.model.nn_lightning:training_step:37 - The training loss at this step is 1.12314772605896\n",
      "2023-03-08 18:54:32.602 | INFO     | mofgraph2vec.model.nn_lightning:training_step:37 - The training loss at this step is 1.0642268657684326\n",
      "2023-03-08 18:54:32.616 | INFO     | mofgraph2vec.model.nn_lightning:training_step:37 - The training loss at this step is 1.1446080207824707\n",
      "2023-03-08 18:54:32.630 | INFO     | mofgraph2vec.model.nn_lightning:training_step:37 - The training loss at this step is 1.029065489768982\n",
      "2023-03-08 18:54:32.644 | INFO     | mofgraph2vec.model.nn_lightning:training_step:37 - The training loss at this step is 0.9696511030197144\n",
      "2023-03-08 18:54:32.658 | INFO     | mofgraph2vec.model.nn_lightning:training_step:37 - The training loss at this step is 0.8261587023735046\n",
      "2023-03-08 18:54:32.672 | INFO     | mofgraph2vec.model.nn_lightning:training_step:37 - The training loss at this step is 0.7344379425048828\n",
      "2023-03-08 18:54:32.687 | INFO     | mofgraph2vec.model.nn_lightning:training_step:37 - The training loss at this step is 1.3332536220550537\n",
      "2023-03-08 18:54:32.700 | INFO     | mofgraph2vec.model.nn_lightning:training_step:37 - The training loss at this step is 1.4044009447097778\n",
      "2023-03-08 18:54:32.742 | INFO     | mofgraph2vec.model.nn_lightning:training_step:37 - The training loss at this step is 0.8499310612678528\n",
      "2023-03-08 18:54:32.762 | INFO     | mofgraph2vec.model.nn_lightning:training_step:37 - The training loss at this step is 0.8061014413833618\n",
      "2023-03-08 18:54:32.771 | INFO     | mofgraph2vec.model.nn_lightning:training_step:37 - The training loss at this step is 0.9220268130302429\n",
      "2023-03-08 18:54:32.784 | INFO     | mofgraph2vec.model.nn_lightning:training_step:37 - The training loss at this step is 1.1005467176437378\n",
      "2023-03-08 18:54:32.797 | INFO     | mofgraph2vec.model.nn_lightning:training_step:37 - The training loss at this step is 1.0968997478485107\n",
      "2023-03-08 18:54:32.809 | INFO     | mofgraph2vec.model.nn_lightning:training_step:37 - The training loss at this step is 1.215360164642334\n",
      "2023-03-08 18:54:32.822 | INFO     | mofgraph2vec.model.nn_lightning:training_step:37 - The training loss at this step is 1.5270646810531616\n",
      "2023-03-08 18:54:32.836 | INFO     | mofgraph2vec.model.nn_lightning:training_step:37 - The training loss at this step is 0.8455314040184021\n",
      "2023-03-08 18:54:32.847 | INFO     | mofgraph2vec.model.nn_lightning:training_step:37 - The training loss at this step is 1.0912736654281616\n",
      "2023-03-08 18:54:32.860 | INFO     | mofgraph2vec.model.nn_lightning:training_step:37 - The training loss at this step is 1.1296672821044922\n",
      "2023-03-08 18:54:32.871 | INFO     | mofgraph2vec.model.nn_lightning:training_step:37 - The training loss at this step is 1.3366405963897705\n",
      "2023-03-08 18:54:32.883 | INFO     | mofgraph2vec.model.nn_lightning:training_step:37 - The training loss at this step is 1.031352162361145\n",
      "2023-03-08 18:54:32.895 | INFO     | mofgraph2vec.model.nn_lightning:training_step:37 - The training loss at this step is 0.9653618931770325\n",
      "2023-03-08 18:54:32.906 | INFO     | mofgraph2vec.model.nn_lightning:training_step:37 - The training loss at this step is 0.8647722005844116\n"
     ]
    },
    {
     "data": {
      "application/vnd.jupyter.widget-view+json": {
       "model_id": "356375a047d849fba888e009c7366f0b",
       "version_major": 2,
       "version_minor": 0
      },
      "text/plain": [
       "Validation: 0it [00:00, ?it/s]"
      ]
     },
     "metadata": {},
     "output_type": "display_data"
    },
    {
     "name": "stderr",
     "output_type": "stream",
     "text": [
      "2023-03-08 18:54:36.399 | INFO     | mofgraph2vec.model.nn_lightning:training_step:37 - The training loss at this step is 0.9513724446296692\n",
      "2023-03-08 18:54:36.413 | INFO     | mofgraph2vec.model.nn_lightning:training_step:37 - The training loss at this step is 1.0482639074325562\n",
      "2023-03-08 18:54:36.425 | INFO     | mofgraph2vec.model.nn_lightning:training_step:37 - The training loss at this step is 0.8504948616027832\n",
      "2023-03-08 18:54:36.449 | INFO     | mofgraph2vec.model.nn_lightning:training_step:37 - The training loss at this step is 1.0648385286331177\n",
      "2023-03-08 18:54:43.250 | INFO     | mofgraph2vec.model.nn_lightning:training_step:37 - The training loss at this step is 0.8000958561897278\n",
      "2023-03-08 18:54:43.265 | INFO     | mofgraph2vec.model.nn_lightning:training_step:37 - The training loss at this step is 1.0208981037139893\n",
      "2023-03-08 18:54:43.278 | INFO     | mofgraph2vec.model.nn_lightning:training_step:37 - The training loss at this step is 0.6716651916503906\n",
      "2023-03-08 18:54:43.292 | INFO     | mofgraph2vec.model.nn_lightning:training_step:37 - The training loss at this step is 0.9868316650390625\n",
      "2023-03-08 18:54:43.307 | INFO     | mofgraph2vec.model.nn_lightning:training_step:37 - The training loss at this step is 1.103054165840149\n",
      "2023-03-08 18:54:43.321 | INFO     | mofgraph2vec.model.nn_lightning:training_step:37 - The training loss at this step is 1.2015178203582764\n",
      "2023-03-08 18:54:43.336 | INFO     | mofgraph2vec.model.nn_lightning:training_step:37 - The training loss at this step is 0.9416462779045105\n",
      "2023-03-08 18:54:43.351 | INFO     | mofgraph2vec.model.nn_lightning:training_step:37 - The training loss at this step is 0.9999417066574097\n",
      "2023-03-08 18:54:43.366 | INFO     | mofgraph2vec.model.nn_lightning:training_step:37 - The training loss at this step is 1.1995102167129517\n",
      "2023-03-08 18:54:43.380 | INFO     | mofgraph2vec.model.nn_lightning:training_step:37 - The training loss at this step is 1.0855571031570435\n",
      "2023-03-08 18:54:43.394 | INFO     | mofgraph2vec.model.nn_lightning:training_step:37 - The training loss at this step is 0.9846078753471375\n",
      "2023-03-08 18:54:43.409 | INFO     | mofgraph2vec.model.nn_lightning:training_step:37 - The training loss at this step is 1.0204938650131226\n",
      "2023-03-08 18:54:43.423 | INFO     | mofgraph2vec.model.nn_lightning:training_step:37 - The training loss at this step is 1.1685391664505005\n",
      "2023-03-08 18:54:43.438 | INFO     | mofgraph2vec.model.nn_lightning:training_step:37 - The training loss at this step is 1.122678279876709\n",
      "2023-03-08 18:54:43.452 | INFO     | mofgraph2vec.model.nn_lightning:training_step:37 - The training loss at this step is 0.7520341873168945\n",
      "2023-03-08 18:54:43.469 | INFO     | mofgraph2vec.model.nn_lightning:training_step:37 - The training loss at this step is 0.7514013648033142\n",
      "2023-03-08 18:54:43.512 | INFO     | mofgraph2vec.model.nn_lightning:training_step:37 - The training loss at this step is 0.9097501039505005\n",
      "2023-03-08 18:54:43.531 | INFO     | mofgraph2vec.model.nn_lightning:training_step:37 - The training loss at this step is 0.8775755167007446\n",
      "2023-03-08 18:54:43.543 | INFO     | mofgraph2vec.model.nn_lightning:training_step:37 - The training loss at this step is 0.9879395961761475\n",
      "2023-03-08 18:54:43.556 | INFO     | mofgraph2vec.model.nn_lightning:training_step:37 - The training loss at this step is 1.379037618637085\n",
      "2023-03-08 18:54:43.571 | INFO     | mofgraph2vec.model.nn_lightning:training_step:37 - The training loss at this step is 0.9359512329101562\n",
      "2023-03-08 18:54:43.585 | INFO     | mofgraph2vec.model.nn_lightning:training_step:37 - The training loss at this step is 1.2760834693908691\n",
      "2023-03-08 18:54:43.599 | INFO     | mofgraph2vec.model.nn_lightning:training_step:37 - The training loss at this step is 1.0398390293121338\n",
      "2023-03-08 18:54:43.615 | INFO     | mofgraph2vec.model.nn_lightning:training_step:37 - The training loss at this step is 1.3223620653152466\n",
      "2023-03-08 18:54:43.628 | INFO     | mofgraph2vec.model.nn_lightning:training_step:37 - The training loss at this step is 1.3484278917312622\n",
      "2023-03-08 18:54:43.642 | INFO     | mofgraph2vec.model.nn_lightning:training_step:37 - The training loss at this step is 0.9927281141281128\n",
      "2023-03-08 18:54:43.655 | INFO     | mofgraph2vec.model.nn_lightning:training_step:37 - The training loss at this step is 1.1920785903930664\n",
      "2023-03-08 18:54:43.671 | INFO     | mofgraph2vec.model.nn_lightning:training_step:37 - The training loss at this step is 1.1306755542755127\n",
      "2023-03-08 18:54:43.684 | INFO     | mofgraph2vec.model.nn_lightning:training_step:37 - The training loss at this step is 1.2566990852355957\n",
      "2023-03-08 18:54:43.697 | INFO     | mofgraph2vec.model.nn_lightning:training_step:37 - The training loss at this step is 1.1889926195144653\n",
      "2023-03-08 18:54:43.710 | INFO     | mofgraph2vec.model.nn_lightning:training_step:37 - The training loss at this step is 0.8348082304000854\n",
      "2023-03-08 18:54:43.721 | INFO     | mofgraph2vec.model.nn_lightning:training_step:37 - The training loss at this step is 1.1997071504592896\n",
      "2023-03-08 18:54:43.733 | INFO     | mofgraph2vec.model.nn_lightning:training_step:37 - The training loss at this step is 1.1135362386703491\n",
      "2023-03-08 18:54:43.746 | INFO     | mofgraph2vec.model.nn_lightning:training_step:37 - The training loss at this step is 1.2387292385101318\n",
      "2023-03-08 18:54:43.759 | INFO     | mofgraph2vec.model.nn_lightning:training_step:37 - The training loss at this step is 1.0078058242797852\n",
      "2023-03-08 18:54:43.771 | INFO     | mofgraph2vec.model.nn_lightning:training_step:37 - The training loss at this step is 0.7236505150794983\n",
      "2023-03-08 18:54:43.811 | INFO     | mofgraph2vec.model.nn_lightning:training_step:37 - The training loss at this step is 1.410906195640564\n",
      "2023-03-08 18:54:43.830 | INFO     | mofgraph2vec.model.nn_lightning:training_step:37 - The training loss at this step is 1.3696295022964478\n"
     ]
    },
    {
     "data": {
      "application/vnd.jupyter.widget-view+json": {
       "model_id": "896dad7308574b7dab78d33d642ba770",
       "version_major": 2,
       "version_minor": 0
      },
      "text/plain": [
       "Validation: 0it [00:00, ?it/s]"
      ]
     },
     "metadata": {},
     "output_type": "display_data"
    },
    {
     "name": "stderr",
     "output_type": "stream",
     "text": [
      "2023-03-08 18:54:47.354 | INFO     | mofgraph2vec.model.nn_lightning:training_step:37 - The training loss at this step is 1.2945103645324707\n",
      "2023-03-08 18:54:47.365 | INFO     | mofgraph2vec.model.nn_lightning:training_step:37 - The training loss at this step is 1.168320655822754\n",
      "2023-03-08 18:54:47.379 | INFO     | mofgraph2vec.model.nn_lightning:training_step:37 - The training loss at this step is 0.9386675953865051\n",
      "2023-03-08 18:54:47.391 | INFO     | mofgraph2vec.model.nn_lightning:training_step:37 - The training loss at this step is 1.0339380502700806\n",
      "2023-03-08 18:54:47.406 | INFO     | mofgraph2vec.model.nn_lightning:training_step:37 - The training loss at this step is 0.8773443102836609\n",
      "2023-03-08 18:54:47.419 | INFO     | mofgraph2vec.model.nn_lightning:training_step:37 - The training loss at this step is 1.0578653812408447\n",
      "2023-03-08 18:54:47.438 | INFO     | mofgraph2vec.model.nn_lightning:training_step:37 - The training loss at this step is 0.9150530099868774\n",
      "2023-03-08 18:54:47.454 | INFO     | mofgraph2vec.model.nn_lightning:training_step:37 - The training loss at this step is 0.8085511326789856\n",
      "2023-03-08 18:54:47.467 | INFO     | mofgraph2vec.model.nn_lightning:training_step:37 - The training loss at this step is 1.14273202419281\n",
      "2023-03-08 18:54:47.481 | INFO     | mofgraph2vec.model.nn_lightning:training_step:37 - The training loss at this step is 1.0174587965011597\n",
      "2023-03-08 18:54:47.492 | INFO     | mofgraph2vec.model.nn_lightning:training_step:37 - The training loss at this step is 1.2245732545852661\n",
      "2023-03-08 18:54:47.507 | INFO     | mofgraph2vec.model.nn_lightning:training_step:37 - The training loss at this step is 1.1744855642318726\n",
      "2023-03-08 18:54:50.913 | INFO     | mofgraph2vec.model.nn_lightning:training_step:37 - The training loss at this step is 1.2125293016433716\n",
      "2023-03-08 18:54:50.926 | INFO     | mofgraph2vec.model.nn_lightning:training_step:37 - The training loss at this step is 1.2086679935455322\n",
      "2023-03-08 18:54:50.937 | INFO     | mofgraph2vec.model.nn_lightning:training_step:37 - The training loss at this step is 0.529708743095398\n",
      "2023-03-08 18:54:50.950 | INFO     | mofgraph2vec.model.nn_lightning:training_step:37 - The training loss at this step is 0.8718143701553345\n",
      "2023-03-08 18:54:50.964 | INFO     | mofgraph2vec.model.nn_lightning:training_step:37 - The training loss at this step is 1.0720700025558472\n",
      "2023-03-08 18:54:50.977 | INFO     | mofgraph2vec.model.nn_lightning:training_step:37 - The training loss at this step is 1.0474425554275513\n",
      "2023-03-08 18:54:50.992 | INFO     | mofgraph2vec.model.nn_lightning:training_step:37 - The training loss at this step is 0.9459472298622131\n",
      "2023-03-08 18:54:51.008 | INFO     | mofgraph2vec.model.nn_lightning:training_step:37 - The training loss at this step is 1.113023042678833\n",
      "2023-03-08 18:54:51.023 | INFO     | mofgraph2vec.model.nn_lightning:training_step:37 - The training loss at this step is 0.8531476259231567\n",
      "2023-03-08 18:54:51.036 | INFO     | mofgraph2vec.model.nn_lightning:training_step:37 - The training loss at this step is 1.0863003730773926\n",
      "2023-03-08 18:54:51.051 | INFO     | mofgraph2vec.model.nn_lightning:training_step:37 - The training loss at this step is 1.3754184246063232\n",
      "2023-03-08 18:54:51.070 | INFO     | mofgraph2vec.model.nn_lightning:training_step:37 - The training loss at this step is 0.9273228645324707\n",
      "2023-03-08 18:54:51.086 | INFO     | mofgraph2vec.model.nn_lightning:training_step:37 - The training loss at this step is 1.4435739517211914\n",
      "2023-03-08 18:54:51.101 | INFO     | mofgraph2vec.model.nn_lightning:training_step:37 - The training loss at this step is 0.5456219911575317\n",
      "2023-03-08 18:54:51.115 | INFO     | mofgraph2vec.model.nn_lightning:training_step:37 - The training loss at this step is 1.4639004468917847\n",
      "2023-03-08 18:54:51.130 | INFO     | mofgraph2vec.model.nn_lightning:training_step:37 - The training loss at this step is 1.257867693901062\n",
      "2023-03-08 18:54:51.143 | INFO     | mofgraph2vec.model.nn_lightning:training_step:37 - The training loss at this step is 1.0929012298583984\n",
      "2023-03-08 18:54:51.156 | INFO     | mofgraph2vec.model.nn_lightning:training_step:37 - The training loss at this step is 1.1545430421829224\n",
      "2023-03-08 18:54:51.198 | INFO     | mofgraph2vec.model.nn_lightning:training_step:37 - The training loss at this step is 1.0877550840377808\n",
      "2023-03-08 18:54:51.218 | INFO     | mofgraph2vec.model.nn_lightning:training_step:37 - The training loss at this step is 0.9043791890144348\n",
      "2023-03-08 18:54:51.231 | INFO     | mofgraph2vec.model.nn_lightning:training_step:37 - The training loss at this step is 1.1976393461227417\n",
      "2023-03-08 18:54:51.243 | INFO     | mofgraph2vec.model.nn_lightning:training_step:37 - The training loss at this step is 1.0865106582641602\n",
      "2023-03-08 18:54:51.256 | INFO     | mofgraph2vec.model.nn_lightning:training_step:37 - The training loss at this step is 0.9574563503265381\n",
      "2023-03-08 18:54:51.269 | INFO     | mofgraph2vec.model.nn_lightning:training_step:37 - The training loss at this step is 1.0024226903915405\n",
      "2023-03-08 18:54:51.282 | INFO     | mofgraph2vec.model.nn_lightning:training_step:37 - The training loss at this step is 0.9640237092971802\n",
      "2023-03-08 18:54:51.296 | INFO     | mofgraph2vec.model.nn_lightning:training_step:37 - The training loss at this step is 0.7871712446212769\n",
      "2023-03-08 18:54:51.308 | INFO     | mofgraph2vec.model.nn_lightning:training_step:37 - The training loss at this step is 0.9235287308692932\n",
      "2023-03-08 18:54:51.320 | INFO     | mofgraph2vec.model.nn_lightning:training_step:37 - The training loss at this step is 1.3450393676757812\n",
      "2023-03-08 18:54:51.332 | INFO     | mofgraph2vec.model.nn_lightning:training_step:37 - The training loss at this step is 1.1170837879180908\n",
      "2023-03-08 18:54:51.348 | INFO     | mofgraph2vec.model.nn_lightning:training_step:37 - The training loss at this step is 1.1153522729873657\n"
     ]
    },
    {
     "data": {
      "application/vnd.jupyter.widget-view+json": {
       "model_id": "4a6f6eb15e1d4de7a6b68e50c5dadab3",
       "version_major": 2,
       "version_minor": 0
      },
      "text/plain": [
       "Validation: 0it [00:00, ?it/s]"
      ]
     },
     "metadata": {},
     "output_type": "display_data"
    },
    {
     "name": "stderr",
     "output_type": "stream",
     "text": [
      "2023-03-08 18:54:54.818 | INFO     | mofgraph2vec.model.nn_lightning:training_step:37 - The training loss at this step is 1.1049506664276123\n",
      "2023-03-08 18:54:54.830 | INFO     | mofgraph2vec.model.nn_lightning:training_step:37 - The training loss at this step is 1.1279826164245605\n",
      "2023-03-08 18:54:54.845 | INFO     | mofgraph2vec.model.nn_lightning:training_step:37 - The training loss at this step is 1.030166745185852\n",
      "2023-03-08 18:54:54.856 | INFO     | mofgraph2vec.model.nn_lightning:training_step:37 - The training loss at this step is 1.0738223791122437\n",
      "2023-03-08 18:54:54.869 | INFO     | mofgraph2vec.model.nn_lightning:training_step:37 - The training loss at this step is 1.0418354272842407\n",
      "2023-03-08 18:54:54.882 | INFO     | mofgraph2vec.model.nn_lightning:training_step:37 - The training loss at this step is 1.2227425575256348\n",
      "2023-03-08 18:54:54.895 | INFO     | mofgraph2vec.model.nn_lightning:training_step:37 - The training loss at this step is 0.967566192150116\n",
      "2023-03-08 18:54:54.907 | INFO     | mofgraph2vec.model.nn_lightning:training_step:37 - The training loss at this step is 1.17108952999115\n",
      "2023-03-08 18:54:54.922 | INFO     | mofgraph2vec.model.nn_lightning:training_step:37 - The training loss at this step is 1.3605097532272339\n",
      "2023-03-08 18:54:54.953 | INFO     | mofgraph2vec.model.nn_lightning:training_step:37 - The training loss at this step is 0.9297380447387695\n",
      "2023-03-08 18:54:54.983 | INFO     | mofgraph2vec.model.nn_lightning:training_step:37 - The training loss at this step is 0.9053767919540405\n",
      "2023-03-08 18:54:54.996 | INFO     | mofgraph2vec.model.nn_lightning:training_step:37 - The training loss at this step is 0.7444519996643066\n",
      "2023-03-08 18:54:55.008 | INFO     | mofgraph2vec.model.nn_lightning:training_step:37 - The training loss at this step is 1.1916128396987915\n",
      "2023-03-08 18:54:55.022 | INFO     | mofgraph2vec.model.nn_lightning:training_step:37 - The training loss at this step is 0.5973462462425232\n",
      "2023-03-08 18:54:55.037 | INFO     | mofgraph2vec.model.nn_lightning:training_step:37 - The training loss at this step is 0.7091727256774902\n",
      "2023-03-08 18:54:55.049 | INFO     | mofgraph2vec.model.nn_lightning:training_step:37 - The training loss at this step is 1.0536409616470337\n",
      "2023-03-08 18:54:55.062 | INFO     | mofgraph2vec.model.nn_lightning:training_step:37 - The training loss at this step is 0.9991337060928345\n",
      "2023-03-08 18:54:55.074 | INFO     | mofgraph2vec.model.nn_lightning:training_step:37 - The training loss at this step is 1.2214332818984985\n",
      "2023-03-08 18:54:55.089 | INFO     | mofgraph2vec.model.nn_lightning:training_step:37 - The training loss at this step is 1.1535677909851074\n",
      "2023-03-08 18:54:55.116 | INFO     | mofgraph2vec.model.nn_lightning:training_step:37 - The training loss at this step is 0.8418131470680237\n",
      "2023-03-08 18:55:01.928 | INFO     | mofgraph2vec.model.nn_lightning:training_step:37 - The training loss at this step is 0.6908719539642334\n",
      "2023-03-08 18:55:01.940 | INFO     | mofgraph2vec.model.nn_lightning:training_step:37 - The training loss at this step is 0.7356070876121521\n",
      "2023-03-08 18:55:01.953 | INFO     | mofgraph2vec.model.nn_lightning:training_step:37 - The training loss at this step is 0.8241663575172424\n",
      "2023-03-08 18:55:01.966 | INFO     | mofgraph2vec.model.nn_lightning:training_step:37 - The training loss at this step is 0.9785890579223633\n",
      "2023-03-08 18:55:01.980 | INFO     | mofgraph2vec.model.nn_lightning:training_step:37 - The training loss at this step is 0.9598864316940308\n",
      "2023-03-08 18:55:01.991 | INFO     | mofgraph2vec.model.nn_lightning:training_step:37 - The training loss at this step is 1.328987717628479\n",
      "2023-03-08 18:55:02.004 | INFO     | mofgraph2vec.model.nn_lightning:training_step:37 - The training loss at this step is 1.0170849561691284\n",
      "2023-03-08 18:55:02.017 | INFO     | mofgraph2vec.model.nn_lightning:training_step:37 - The training loss at this step is 1.339789628982544\n",
      "2023-03-08 18:55:02.031 | INFO     | mofgraph2vec.model.nn_lightning:training_step:37 - The training loss at this step is 1.46164870262146\n",
      "2023-03-08 18:55:02.043 | INFO     | mofgraph2vec.model.nn_lightning:training_step:37 - The training loss at this step is 0.8245139122009277\n",
      "2023-03-08 18:55:02.054 | INFO     | mofgraph2vec.model.nn_lightning:training_step:37 - The training loss at this step is 1.431689739227295\n",
      "2023-03-08 18:55:02.069 | INFO     | mofgraph2vec.model.nn_lightning:training_step:37 - The training loss at this step is 1.2195063829421997\n",
      "2023-03-08 18:55:02.080 | INFO     | mofgraph2vec.model.nn_lightning:training_step:37 - The training loss at this step is 0.9627782106399536\n",
      "2023-03-08 18:55:02.092 | INFO     | mofgraph2vec.model.nn_lightning:training_step:37 - The training loss at this step is 1.291630506515503\n",
      "2023-03-08 18:55:02.102 | INFO     | mofgraph2vec.model.nn_lightning:training_step:37 - The training loss at this step is 0.9792338609695435\n",
      "2023-03-08 18:55:02.114 | INFO     | mofgraph2vec.model.nn_lightning:training_step:37 - The training loss at this step is 0.8917801976203918\n",
      "2023-03-08 18:55:02.127 | INFO     | mofgraph2vec.model.nn_lightning:training_step:37 - The training loss at this step is 1.2429437637329102\n",
      "2023-03-08 18:55:02.137 | INFO     | mofgraph2vec.model.nn_lightning:training_step:37 - The training loss at this step is 0.8388217687606812\n",
      "2023-03-08 18:55:02.151 | INFO     | mofgraph2vec.model.nn_lightning:training_step:37 - The training loss at this step is 1.67087721824646\n",
      "2023-03-08 18:55:02.197 | INFO     | mofgraph2vec.model.nn_lightning:training_step:37 - The training loss at this step is 1.3653292655944824\n",
      "2023-03-08 18:55:02.208 | INFO     | mofgraph2vec.model.nn_lightning:training_step:37 - The training loss at this step is 0.7560662031173706\n",
      "2023-03-08 18:55:02.220 | INFO     | mofgraph2vec.model.nn_lightning:training_step:37 - The training loss at this step is 1.184075117111206\n"
     ]
    },
    {
     "data": {
      "application/vnd.jupyter.widget-view+json": {
       "model_id": "60c1a3e37e9141c4a04a1b0b7e29e9d9",
       "version_major": 2,
       "version_minor": 0
      },
      "text/plain": [
       "Validation: 0it [00:00, ?it/s]"
      ]
     },
     "metadata": {},
     "output_type": "display_data"
    },
    {
     "name": "stderr",
     "output_type": "stream",
     "text": [
      "2023-03-08 18:55:05.714 | INFO     | mofgraph2vec.model.nn_lightning:training_step:37 - The training loss at this step is 0.7104106545448303\n",
      "2023-03-08 18:55:05.728 | INFO     | mofgraph2vec.model.nn_lightning:training_step:37 - The training loss at this step is 0.9060673713684082\n",
      "2023-03-08 18:55:05.741 | INFO     | mofgraph2vec.model.nn_lightning:training_step:37 - The training loss at this step is 1.1091294288635254\n",
      "2023-03-08 18:55:05.754 | INFO     | mofgraph2vec.model.nn_lightning:training_step:37 - The training loss at this step is 1.1061756610870361\n",
      "2023-03-08 18:55:05.768 | INFO     | mofgraph2vec.model.nn_lightning:training_step:37 - The training loss at this step is 1.599861979484558\n",
      "2023-03-08 18:55:05.781 | INFO     | mofgraph2vec.model.nn_lightning:training_step:37 - The training loss at this step is 1.0530961751937866\n",
      "2023-03-08 18:55:05.796 | INFO     | mofgraph2vec.model.nn_lightning:training_step:37 - The training loss at this step is 0.8074803948402405\n",
      "2023-03-08 18:55:05.808 | INFO     | mofgraph2vec.model.nn_lightning:training_step:37 - The training loss at this step is 0.9536575675010681\n",
      "2023-03-08 18:55:05.821 | INFO     | mofgraph2vec.model.nn_lightning:training_step:37 - The training loss at this step is 0.5856163501739502\n",
      "2023-03-08 18:55:05.833 | INFO     | mofgraph2vec.model.nn_lightning:training_step:37 - The training loss at this step is 0.8940566778182983\n",
      "2023-03-08 18:55:05.846 | INFO     | mofgraph2vec.model.nn_lightning:training_step:37 - The training loss at this step is 1.2900785207748413\n",
      "2023-03-08 18:55:05.858 | INFO     | mofgraph2vec.model.nn_lightning:training_step:37 - The training loss at this step is 1.1212364435195923\n",
      "2023-03-08 18:55:05.872 | INFO     | mofgraph2vec.model.nn_lightning:training_step:37 - The training loss at this step is 1.0237843990325928\n",
      "2023-03-08 18:55:05.885 | INFO     | mofgraph2vec.model.nn_lightning:training_step:37 - The training loss at this step is 0.8722423315048218\n",
      "2023-03-08 18:55:05.934 | INFO     | mofgraph2vec.model.nn_lightning:training_step:37 - The training loss at this step is 1.091188669204712\n",
      "2023-03-08 18:55:05.946 | INFO     | mofgraph2vec.model.nn_lightning:training_step:37 - The training loss at this step is 1.2206385135650635\n",
      "2023-03-08 18:55:05.960 | INFO     | mofgraph2vec.model.nn_lightning:training_step:37 - The training loss at this step is 1.3116483688354492\n",
      "2023-03-08 18:55:05.970 | INFO     | mofgraph2vec.model.nn_lightning:training_step:37 - The training loss at this step is 0.8224913477897644\n",
      "2023-03-08 18:55:05.983 | INFO     | mofgraph2vec.model.nn_lightning:training_step:37 - The training loss at this step is 1.094490647315979\n",
      "2023-03-08 18:55:05.996 | INFO     | mofgraph2vec.model.nn_lightning:training_step:37 - The training loss at this step is 1.061877727508545\n",
      "2023-03-08 18:55:06.007 | INFO     | mofgraph2vec.model.nn_lightning:training_step:37 - The training loss at this step is 1.0635483264923096\n",
      "2023-03-08 18:55:06.019 | INFO     | mofgraph2vec.model.nn_lightning:training_step:37 - The training loss at this step is 0.9015067219734192\n",
      "2023-03-08 18:55:06.032 | INFO     | mofgraph2vec.model.nn_lightning:training_step:37 - The training loss at this step is 0.6888797879219055\n",
      "2023-03-08 18:55:06.045 | INFO     | mofgraph2vec.model.nn_lightning:training_step:37 - The training loss at this step is 1.3079628944396973\n",
      "2023-03-08 18:55:06.058 | INFO     | mofgraph2vec.model.nn_lightning:training_step:37 - The training loss at this step is 1.4186242818832397\n",
      "2023-03-08 18:55:06.071 | INFO     | mofgraph2vec.model.nn_lightning:training_step:37 - The training loss at this step is 1.1382158994674683\n",
      "2023-03-08 18:55:06.083 | INFO     | mofgraph2vec.model.nn_lightning:training_step:37 - The training loss at this step is 1.1218926906585693\n",
      "2023-03-08 18:55:06.097 | INFO     | mofgraph2vec.model.nn_lightning:training_step:37 - The training loss at this step is 1.0151126384735107\n",
      "2023-03-08 18:55:09.534 | INFO     | mofgraph2vec.model.nn_lightning:training_step:37 - The training loss at this step is 0.6035958528518677\n",
      "2023-03-08 18:55:09.546 | INFO     | mofgraph2vec.model.nn_lightning:training_step:37 - The training loss at this step is 0.9376600980758667\n",
      "2023-03-08 18:55:09.557 | INFO     | mofgraph2vec.model.nn_lightning:training_step:37 - The training loss at this step is 1.141322135925293\n",
      "2023-03-08 18:55:09.570 | INFO     | mofgraph2vec.model.nn_lightning:training_step:37 - The training loss at this step is 0.8631284236907959\n",
      "2023-03-08 18:55:09.581 | INFO     | mofgraph2vec.model.nn_lightning:training_step:37 - The training loss at this step is 0.9357163906097412\n",
      "2023-03-08 18:55:09.594 | INFO     | mofgraph2vec.model.nn_lightning:training_step:37 - The training loss at this step is 1.2496827840805054\n",
      "2023-03-08 18:55:09.607 | INFO     | mofgraph2vec.model.nn_lightning:training_step:37 - The training loss at this step is 1.2156851291656494\n",
      "2023-03-08 18:55:09.618 | INFO     | mofgraph2vec.model.nn_lightning:training_step:37 - The training loss at this step is 1.151790976524353\n",
      "2023-03-08 18:55:09.629 | INFO     | mofgraph2vec.model.nn_lightning:training_step:37 - The training loss at this step is 1.2683229446411133\n",
      "2023-03-08 18:55:09.640 | INFO     | mofgraph2vec.model.nn_lightning:training_step:37 - The training loss at this step is 1.1852641105651855\n",
      "2023-03-08 18:55:09.653 | INFO     | mofgraph2vec.model.nn_lightning:training_step:37 - The training loss at this step is 1.4082281589508057\n",
      "2023-03-08 18:55:09.664 | INFO     | mofgraph2vec.model.nn_lightning:training_step:37 - The training loss at this step is 0.8265550136566162\n",
      "2023-03-08 18:55:09.677 | INFO     | mofgraph2vec.model.nn_lightning:training_step:37 - The training loss at this step is 0.9637024998664856\n",
      "2023-03-08 18:55:09.686 | INFO     | mofgraph2vec.model.nn_lightning:training_step:37 - The training loss at this step is 0.7733980417251587\n"
     ]
    },
    {
     "data": {
      "application/vnd.jupyter.widget-view+json": {
       "model_id": "7085c5a73923469a807627511551c025",
       "version_major": 2,
       "version_minor": 0
      },
      "text/plain": [
       "Validation: 0it [00:00, ?it/s]"
      ]
     },
     "metadata": {},
     "output_type": "display_data"
    },
    {
     "name": "stderr",
     "output_type": "stream",
     "text": [
      "2023-03-08 18:55:13.257 | INFO     | mofgraph2vec.model.nn_lightning:training_step:37 - The training loss at this step is 0.838620662689209\n",
      "2023-03-08 18:55:13.268 | INFO     | mofgraph2vec.model.nn_lightning:training_step:37 - The training loss at this step is 1.1637972593307495\n",
      "2023-03-08 18:55:13.283 | INFO     | mofgraph2vec.model.nn_lightning:training_step:37 - The training loss at this step is 0.8360809683799744\n",
      "2023-03-08 18:55:13.296 | INFO     | mofgraph2vec.model.nn_lightning:training_step:37 - The training loss at this step is 0.8519582748413086\n",
      "2023-03-08 18:55:13.307 | INFO     | mofgraph2vec.model.nn_lightning:training_step:37 - The training loss at this step is 1.1422607898712158\n",
      "2023-03-08 18:55:13.319 | INFO     | mofgraph2vec.model.nn_lightning:training_step:37 - The training loss at this step is 1.0518321990966797\n",
      "2023-03-08 18:55:13.331 | INFO     | mofgraph2vec.model.nn_lightning:training_step:37 - The training loss at this step is 1.0129585266113281\n",
      "2023-03-08 18:55:13.371 | INFO     | mofgraph2vec.model.nn_lightning:training_step:37 - The training loss at this step is 1.0676312446594238\n",
      "2023-03-08 18:55:13.390 | INFO     | mofgraph2vec.model.nn_lightning:training_step:37 - The training loss at this step is 0.9728715419769287\n",
      "2023-03-08 18:55:13.402 | INFO     | mofgraph2vec.model.nn_lightning:training_step:37 - The training loss at this step is 0.9096727967262268\n",
      "2023-03-08 18:55:13.413 | INFO     | mofgraph2vec.model.nn_lightning:training_step:37 - The training loss at this step is 0.9135217666625977\n",
      "2023-03-08 18:55:13.426 | INFO     | mofgraph2vec.model.nn_lightning:training_step:37 - The training loss at this step is 0.8825358152389526\n",
      "2023-03-08 18:55:13.441 | INFO     | mofgraph2vec.model.nn_lightning:training_step:37 - The training loss at this step is 0.8614906668663025\n",
      "2023-03-08 18:55:13.452 | INFO     | mofgraph2vec.model.nn_lightning:training_step:37 - The training loss at this step is 1.4690614938735962\n",
      "2023-03-08 18:55:13.464 | INFO     | mofgraph2vec.model.nn_lightning:training_step:37 - The training loss at this step is 1.4821274280548096\n",
      "2023-03-08 18:55:13.481 | INFO     | mofgraph2vec.model.nn_lightning:training_step:37 - The training loss at this step is 0.9653676152229309\n",
      "2023-03-08 18:55:13.494 | INFO     | mofgraph2vec.model.nn_lightning:training_step:37 - The training loss at this step is 1.2466325759887695\n",
      "2023-03-08 18:55:13.507 | INFO     | mofgraph2vec.model.nn_lightning:training_step:37 - The training loss at this step is 0.826371967792511\n",
      "2023-03-08 18:55:13.521 | INFO     | mofgraph2vec.model.nn_lightning:training_step:37 - The training loss at this step is 0.8327762484550476\n",
      "2023-03-08 18:55:13.533 | INFO     | mofgraph2vec.model.nn_lightning:training_step:37 - The training loss at this step is 0.8841286897659302\n",
      "2023-03-08 18:55:13.547 | INFO     | mofgraph2vec.model.nn_lightning:training_step:37 - The training loss at this step is 1.1636804342269897\n",
      "2023-03-08 18:55:13.560 | INFO     | mofgraph2vec.model.nn_lightning:training_step:37 - The training loss at this step is 1.2363241910934448\n",
      "2023-03-08 18:55:13.575 | INFO     | mofgraph2vec.model.nn_lightning:training_step:37 - The training loss at this step is 1.2336331605911255\n",
      "2023-03-08 18:55:13.587 | INFO     | mofgraph2vec.model.nn_lightning:training_step:37 - The training loss at this step is 1.0832767486572266\n",
      "2023-03-08 18:55:13.602 | INFO     | mofgraph2vec.model.nn_lightning:training_step:37 - The training loss at this step is 0.8927643895149231\n",
      "2023-03-08 18:55:13.614 | INFO     | mofgraph2vec.model.nn_lightning:training_step:37 - The training loss at this step is 1.1139205694198608\n",
      "2023-03-08 18:55:13.657 | INFO     | mofgraph2vec.model.nn_lightning:training_step:37 - The training loss at this step is 1.245384931564331\n",
      "2023-03-08 18:55:13.675 | INFO     | mofgraph2vec.model.nn_lightning:training_step:37 - The training loss at this step is 0.9325782060623169\n",
      "2023-03-08 18:55:13.687 | INFO     | mofgraph2vec.model.nn_lightning:training_step:37 - The training loss at this step is 1.1401044130325317\n",
      "2023-03-08 18:55:13.699 | INFO     | mofgraph2vec.model.nn_lightning:training_step:37 - The training loss at this step is 0.7779853940010071\n",
      "2023-03-08 18:55:13.712 | INFO     | mofgraph2vec.model.nn_lightning:training_step:37 - The training loss at this step is 1.2670902013778687\n",
      "2023-03-08 18:55:13.723 | INFO     | mofgraph2vec.model.nn_lightning:training_step:37 - The training loss at this step is 1.0823354721069336\n",
      "2023-03-08 18:55:13.735 | INFO     | mofgraph2vec.model.nn_lightning:training_step:37 - The training loss at this step is 0.7899583578109741\n",
      "2023-03-08 18:55:13.747 | INFO     | mofgraph2vec.model.nn_lightning:training_step:37 - The training loss at this step is 1.4547573328018188\n",
      "2023-03-08 18:55:13.759 | INFO     | mofgraph2vec.model.nn_lightning:training_step:37 - The training loss at this step is 0.9879482984542847\n",
      "2023-03-08 18:55:13.773 | INFO     | mofgraph2vec.model.nn_lightning:training_step:37 - The training loss at this step is 0.9641225934028625\n",
      "2023-03-08 18:55:20.546 | INFO     | mofgraph2vec.model.nn_lightning:training_step:37 - The training loss at this step is 1.058699131011963\n",
      "2023-03-08 18:55:20.557 | INFO     | mofgraph2vec.model.nn_lightning:training_step:37 - The training loss at this step is 1.241269826889038\n",
      "2023-03-08 18:55:20.571 | INFO     | mofgraph2vec.model.nn_lightning:training_step:37 - The training loss at this step is 0.8063732981681824\n",
      "2023-03-08 18:55:20.581 | INFO     | mofgraph2vec.model.nn_lightning:training_step:37 - The training loss at this step is 1.158280849456787\n",
      "2023-03-08 18:55:20.592 | INFO     | mofgraph2vec.model.nn_lightning:training_step:37 - The training loss at this step is 1.1811100244522095\n",
      "2023-03-08 18:55:20.602 | INFO     | mofgraph2vec.model.nn_lightning:training_step:37 - The training loss at this step is 0.8142572641372681\n"
     ]
    },
    {
     "data": {
      "application/vnd.jupyter.widget-view+json": {
       "model_id": "94405cca9b6b485099a07bfbc835d3ec",
       "version_major": 2,
       "version_minor": 0
      },
      "text/plain": [
       "Validation: 0it [00:00, ?it/s]"
      ]
     },
     "metadata": {},
     "output_type": "display_data"
    },
    {
     "name": "stderr",
     "output_type": "stream",
     "text": [
      "2023-03-08 18:55:24.209 | INFO     | mofgraph2vec.model.nn_lightning:training_step:37 - The training loss at this step is 0.9060799479484558\n",
      "2023-03-08 18:55:24.220 | INFO     | mofgraph2vec.model.nn_lightning:training_step:37 - The training loss at this step is 1.0853338241577148\n",
      "2023-03-08 18:55:24.235 | INFO     | mofgraph2vec.model.nn_lightning:training_step:37 - The training loss at this step is 1.1836744546890259\n",
      "2023-03-08 18:55:24.251 | INFO     | mofgraph2vec.model.nn_lightning:training_step:37 - The training loss at this step is 1.018084168434143\n",
      "2023-03-08 18:55:24.266 | INFO     | mofgraph2vec.model.nn_lightning:training_step:37 - The training loss at this step is 0.9284811019897461\n",
      "2023-03-08 18:55:24.279 | INFO     | mofgraph2vec.model.nn_lightning:training_step:37 - The training loss at this step is 1.0339484214782715\n",
      "2023-03-08 18:55:24.292 | INFO     | mofgraph2vec.model.nn_lightning:training_step:37 - The training loss at this step is 0.9356014132499695\n",
      "2023-03-08 18:55:24.305 | INFO     | mofgraph2vec.model.nn_lightning:training_step:37 - The training loss at this step is 1.1211875677108765\n",
      "2023-03-08 18:55:24.321 | INFO     | mofgraph2vec.model.nn_lightning:training_step:37 - The training loss at this step is 1.2581909894943237\n",
      "2023-03-08 18:55:24.333 | INFO     | mofgraph2vec.model.nn_lightning:training_step:37 - The training loss at this step is 1.0755749940872192\n",
      "2023-03-08 18:55:24.349 | INFO     | mofgraph2vec.model.nn_lightning:training_step:37 - The training loss at this step is 0.9655733108520508\n",
      "2023-03-08 18:55:24.363 | INFO     | mofgraph2vec.model.nn_lightning:training_step:37 - The training loss at this step is 1.0689926147460938\n",
      "2023-03-08 18:55:24.375 | INFO     | mofgraph2vec.model.nn_lightning:training_step:37 - The training loss at this step is 1.220836877822876\n",
      "2023-03-08 18:55:24.388 | INFO     | mofgraph2vec.model.nn_lightning:training_step:37 - The training loss at this step is 0.9061608910560608\n",
      "2023-03-08 18:55:24.400 | INFO     | mofgraph2vec.model.nn_lightning:training_step:37 - The training loss at this step is 1.4550724029541016\n",
      "2023-03-08 18:55:24.447 | INFO     | mofgraph2vec.model.nn_lightning:training_step:37 - The training loss at this step is 1.0855034589767456\n",
      "2023-03-08 18:55:24.464 | INFO     | mofgraph2vec.model.nn_lightning:training_step:37 - The training loss at this step is 0.8974003791809082\n",
      "2023-03-08 18:55:24.477 | INFO     | mofgraph2vec.model.nn_lightning:training_step:37 - The training loss at this step is 1.1199302673339844\n",
      "2023-03-08 18:55:24.491 | INFO     | mofgraph2vec.model.nn_lightning:training_step:37 - The training loss at this step is 0.6144304275512695\n",
      "2023-03-08 18:55:24.504 | INFO     | mofgraph2vec.model.nn_lightning:training_step:37 - The training loss at this step is 0.9866104125976562\n",
      "2023-03-08 18:55:24.519 | INFO     | mofgraph2vec.model.nn_lightning:training_step:37 - The training loss at this step is 1.14511239528656\n",
      "2023-03-08 18:55:24.534 | INFO     | mofgraph2vec.model.nn_lightning:training_step:37 - The training loss at this step is 1.044623613357544\n",
      "2023-03-08 18:55:24.547 | INFO     | mofgraph2vec.model.nn_lightning:training_step:37 - The training loss at this step is 1.3541433811187744\n",
      "2023-03-08 18:55:24.562 | INFO     | mofgraph2vec.model.nn_lightning:training_step:37 - The training loss at this step is 1.2805137634277344\n",
      "2023-03-08 18:55:24.575 | INFO     | mofgraph2vec.model.nn_lightning:training_step:37 - The training loss at this step is 1.0857057571411133\n",
      "2023-03-08 18:55:24.588 | INFO     | mofgraph2vec.model.nn_lightning:training_step:37 - The training loss at this step is 0.8870965242385864\n",
      "2023-03-08 18:55:24.602 | INFO     | mofgraph2vec.model.nn_lightning:training_step:37 - The training loss at this step is 0.9473084211349487\n",
      "2023-03-08 18:55:24.616 | INFO     | mofgraph2vec.model.nn_lightning:training_step:37 - The training loss at this step is 0.7455933094024658\n",
      "2023-03-08 18:55:24.629 | INFO     | mofgraph2vec.model.nn_lightning:training_step:37 - The training loss at this step is 1.0961569547653198\n",
      "2023-03-08 18:55:24.645 | INFO     | mofgraph2vec.model.nn_lightning:training_step:37 - The training loss at this step is 0.8492294549942017\n",
      "2023-03-08 18:55:24.657 | INFO     | mofgraph2vec.model.nn_lightning:training_step:37 - The training loss at this step is 0.9468919038772583\n",
      "2023-03-08 18:55:24.670 | INFO     | mofgraph2vec.model.nn_lightning:training_step:37 - The training loss at this step is 1.182020664215088\n",
      "2023-03-08 18:55:24.712 | INFO     | mofgraph2vec.model.nn_lightning:training_step:37 - The training loss at this step is 0.9656142592430115\n",
      "2023-03-08 18:55:24.732 | INFO     | mofgraph2vec.model.nn_lightning:training_step:37 - The training loss at this step is 0.925312876701355\n",
      "2023-03-08 18:55:24.747 | INFO     | mofgraph2vec.model.nn_lightning:training_step:37 - The training loss at this step is 1.025439977645874\n",
      "2023-03-08 18:55:24.760 | INFO     | mofgraph2vec.model.nn_lightning:training_step:37 - The training loss at this step is 1.3051468133926392\n",
      "2023-03-08 18:55:24.774 | INFO     | mofgraph2vec.model.nn_lightning:training_step:37 - The training loss at this step is 1.2447595596313477\n",
      "2023-03-08 18:55:24.787 | INFO     | mofgraph2vec.model.nn_lightning:training_step:37 - The training loss at this step is 1.0893934965133667\n",
      "2023-03-08 18:55:24.799 | INFO     | mofgraph2vec.model.nn_lightning:training_step:37 - The training loss at this step is 1.0984867811203003\n",
      "2023-03-08 18:55:24.813 | INFO     | mofgraph2vec.model.nn_lightning:training_step:37 - The training loss at this step is 1.1045022010803223\n",
      "2023-03-08 18:55:24.834 | INFO     | mofgraph2vec.model.nn_lightning:training_step:37 - The training loss at this step is 0.7529535293579102\n",
      "2023-03-08 18:55:24.847 | INFO     | mofgraph2vec.model.nn_lightning:training_step:37 - The training loss at this step is 1.2496331930160522\n"
     ]
    },
    {
     "data": {
      "application/vnd.jupyter.widget-view+json": {
       "model_id": "ef9faf8201674f1cb7e10d85780e6b16",
       "version_major": 2,
       "version_minor": 0
      },
      "text/plain": [
       "Validation: 0it [00:00, ?it/s]"
      ]
     },
     "metadata": {},
     "output_type": "display_data"
    },
    {
     "name": "stderr",
     "output_type": "stream",
     "text": [
      "2023-03-08 18:55:28.362 | INFO     | mofgraph2vec.model.nn_lightning:training_step:37 - The training loss at this step is 1.0612372159957886\n",
      "2023-03-08 18:55:28.376 | INFO     | mofgraph2vec.model.nn_lightning:training_step:37 - The training loss at this step is 1.0110466480255127\n",
      "2023-03-08 18:55:31.768 | INFO     | mofgraph2vec.model.nn_lightning:training_step:37 - The training loss at this step is 1.2372097969055176\n",
      "2023-03-08 18:55:31.780 | INFO     | mofgraph2vec.model.nn_lightning:training_step:37 - The training loss at this step is 1.0975215435028076\n",
      "2023-03-08 18:55:31.794 | INFO     | mofgraph2vec.model.nn_lightning:training_step:37 - The training loss at this step is 1.4209222793579102\n",
      "2023-03-08 18:55:31.805 | INFO     | mofgraph2vec.model.nn_lightning:training_step:37 - The training loss at this step is 1.0565869808197021\n",
      "2023-03-08 18:55:31.817 | INFO     | mofgraph2vec.model.nn_lightning:training_step:37 - The training loss at this step is 0.8080039620399475\n",
      "2023-03-08 18:55:31.858 | INFO     | mofgraph2vec.model.nn_lightning:training_step:37 - The training loss at this step is 1.145385503768921\n",
      "2023-03-08 18:55:31.876 | INFO     | mofgraph2vec.model.nn_lightning:training_step:37 - The training loss at this step is 0.9721775650978088\n",
      "2023-03-08 18:55:31.886 | INFO     | mofgraph2vec.model.nn_lightning:training_step:37 - The training loss at this step is 0.8607770204544067\n",
      "2023-03-08 18:55:31.898 | INFO     | mofgraph2vec.model.nn_lightning:training_step:37 - The training loss at this step is 1.3011966943740845\n",
      "2023-03-08 18:55:31.911 | INFO     | mofgraph2vec.model.nn_lightning:training_step:37 - The training loss at this step is 1.2771022319793701\n",
      "2023-03-08 18:55:31.923 | INFO     | mofgraph2vec.model.nn_lightning:training_step:37 - The training loss at this step is 0.705723762512207\n",
      "2023-03-08 18:55:31.934 | INFO     | mofgraph2vec.model.nn_lightning:training_step:37 - The training loss at this step is 0.9096982479095459\n",
      "2023-03-08 18:55:31.947 | INFO     | mofgraph2vec.model.nn_lightning:training_step:37 - The training loss at this step is 1.3147963285446167\n",
      "2023-03-08 18:55:31.957 | INFO     | mofgraph2vec.model.nn_lightning:training_step:37 - The training loss at this step is 1.0265401601791382\n",
      "2023-03-08 18:55:31.969 | INFO     | mofgraph2vec.model.nn_lightning:training_step:37 - The training loss at this step is 0.984526515007019\n",
      "2023-03-08 18:55:31.981 | INFO     | mofgraph2vec.model.nn_lightning:training_step:37 - The training loss at this step is 0.9477020502090454\n",
      "2023-03-08 18:55:31.995 | INFO     | mofgraph2vec.model.nn_lightning:training_step:37 - The training loss at this step is 1.2112845182418823\n",
      "2023-03-08 18:55:32.007 | INFO     | mofgraph2vec.model.nn_lightning:training_step:37 - The training loss at this step is 0.879676103591919\n",
      "2023-03-08 18:55:32.022 | INFO     | mofgraph2vec.model.nn_lightning:training_step:37 - The training loss at this step is 1.0487083196640015\n",
      "2023-03-08 18:55:32.033 | INFO     | mofgraph2vec.model.nn_lightning:training_step:37 - The training loss at this step is 0.6743359565734863\n",
      "2023-03-08 18:55:32.046 | INFO     | mofgraph2vec.model.nn_lightning:training_step:37 - The training loss at this step is 0.8935940265655518\n",
      "2023-03-08 18:55:32.058 | INFO     | mofgraph2vec.model.nn_lightning:training_step:37 - The training loss at this step is 1.0176527500152588\n",
      "2023-03-08 18:55:32.070 | INFO     | mofgraph2vec.model.nn_lightning:training_step:37 - The training loss at this step is 1.3425168991088867\n",
      "2023-03-08 18:55:32.082 | INFO     | mofgraph2vec.model.nn_lightning:training_step:37 - The training loss at this step is 0.9859727621078491\n",
      "2023-03-08 18:55:32.095 | INFO     | mofgraph2vec.model.nn_lightning:training_step:37 - The training loss at this step is 0.9549492597579956\n",
      "2023-03-08 18:55:32.106 | INFO     | mofgraph2vec.model.nn_lightning:training_step:37 - The training loss at this step is 1.6368389129638672\n",
      "2023-03-08 18:55:32.118 | INFO     | mofgraph2vec.model.nn_lightning:training_step:37 - The training loss at this step is 1.1113210916519165\n",
      "2023-03-08 18:55:32.157 | INFO     | mofgraph2vec.model.nn_lightning:training_step:37 - The training loss at this step is 1.0592594146728516\n",
      "2023-03-08 18:55:32.174 | INFO     | mofgraph2vec.model.nn_lightning:training_step:37 - The training loss at this step is 1.262510895729065\n",
      "2023-03-08 18:55:32.184 | INFO     | mofgraph2vec.model.nn_lightning:training_step:37 - The training loss at this step is 1.047706961631775\n",
      "2023-03-08 18:55:32.195 | INFO     | mofgraph2vec.model.nn_lightning:training_step:37 - The training loss at this step is 0.9465250372886658\n",
      "2023-03-08 18:55:32.205 | INFO     | mofgraph2vec.model.nn_lightning:training_step:37 - The training loss at this step is 1.283979892730713\n",
      "2023-03-08 18:55:32.217 | INFO     | mofgraph2vec.model.nn_lightning:training_step:37 - The training loss at this step is 1.202453851699829\n",
      "2023-03-08 18:55:32.228 | INFO     | mofgraph2vec.model.nn_lightning:training_step:37 - The training loss at this step is 0.9075632691383362\n",
      "2023-03-08 18:55:32.239 | INFO     | mofgraph2vec.model.nn_lightning:training_step:37 - The training loss at this step is 0.7682173848152161\n",
      "2023-03-08 18:55:32.251 | INFO     | mofgraph2vec.model.nn_lightning:training_step:37 - The training loss at this step is 0.547598123550415\n",
      "2023-03-08 18:55:32.265 | INFO     | mofgraph2vec.model.nn_lightning:training_step:37 - The training loss at this step is 0.8757190108299255\n",
      "2023-03-08 18:55:32.276 | INFO     | mofgraph2vec.model.nn_lightning:training_step:37 - The training loss at this step is 1.2133891582489014\n",
      "2023-03-08 18:55:32.289 | INFO     | mofgraph2vec.model.nn_lightning:training_step:37 - The training loss at this step is 0.947319507598877\n",
      "2023-03-08 18:55:32.300 | INFO     | mofgraph2vec.model.nn_lightning:training_step:37 - The training loss at this step is 1.3641908168792725\n"
     ]
    },
    {
     "data": {
      "application/vnd.jupyter.widget-view+json": {
       "model_id": "7540ae671f3e4d708dc93b74a71180f7",
       "version_major": 2,
       "version_minor": 0
      },
      "text/plain": [
       "Validation: 0it [00:00, ?it/s]"
      ]
     },
     "metadata": {},
     "output_type": "display_data"
    },
    {
     "name": "stderr",
     "output_type": "stream",
     "text": [
      "2023-03-08 18:55:35.813 | INFO     | mofgraph2vec.model.nn_lightning:training_step:37 - The training loss at this step is 0.9882997870445251\n",
      "2023-03-08 18:55:35.825 | INFO     | mofgraph2vec.model.nn_lightning:training_step:37 - The training loss at this step is 0.769302248954773\n",
      "2023-03-08 18:55:35.852 | INFO     | mofgraph2vec.model.nn_lightning:training_step:37 - The training loss at this step is 0.8693268299102783\n",
      "2023-03-08 18:55:35.870 | INFO     | mofgraph2vec.model.nn_lightning:training_step:37 - The training loss at this step is 1.2127282619476318\n",
      "2023-03-08 18:55:35.882 | INFO     | mofgraph2vec.model.nn_lightning:training_step:37 - The training loss at this step is 1.0192283391952515\n",
      "2023-03-08 18:55:35.893 | INFO     | mofgraph2vec.model.nn_lightning:training_step:37 - The training loss at this step is 1.1514639854431152\n",
      "2023-03-08 18:55:35.905 | INFO     | mofgraph2vec.model.nn_lightning:training_step:37 - The training loss at this step is 1.0173377990722656\n",
      "2023-03-08 18:55:35.917 | INFO     | mofgraph2vec.model.nn_lightning:training_step:37 - The training loss at this step is 0.8705674409866333\n",
      "2023-03-08 18:55:35.932 | INFO     | mofgraph2vec.model.nn_lightning:training_step:37 - The training loss at this step is 1.1422960758209229\n",
      "2023-03-08 18:55:35.943 | INFO     | mofgraph2vec.model.nn_lightning:training_step:37 - The training loss at this step is 1.2185121774673462\n",
      "2023-03-08 18:55:42.702 | INFO     | mofgraph2vec.model.nn_lightning:training_step:37 - The training loss at this step is 0.6644647121429443\n",
      "2023-03-08 18:55:42.713 | INFO     | mofgraph2vec.model.nn_lightning:training_step:37 - The training loss at this step is 0.9665634632110596\n",
      "2023-03-08 18:55:42.726 | INFO     | mofgraph2vec.model.nn_lightning:training_step:37 - The training loss at this step is 1.237037181854248\n",
      "2023-03-08 18:55:42.739 | INFO     | mofgraph2vec.model.nn_lightning:training_step:37 - The training loss at this step is 1.4204305410385132\n",
      "2023-03-08 18:55:42.751 | INFO     | mofgraph2vec.model.nn_lightning:training_step:37 - The training loss at this step is 1.0894784927368164\n",
      "2023-03-08 18:55:42.764 | INFO     | mofgraph2vec.model.nn_lightning:training_step:37 - The training loss at this step is 0.9256731271743774\n",
      "2023-03-08 18:55:42.776 | INFO     | mofgraph2vec.model.nn_lightning:training_step:37 - The training loss at this step is 1.348220705986023\n",
      "2023-03-08 18:55:42.792 | INFO     | mofgraph2vec.model.nn_lightning:training_step:37 - The training loss at this step is 1.2189668416976929\n",
      "2023-03-08 18:55:42.803 | INFO     | mofgraph2vec.model.nn_lightning:training_step:37 - The training loss at this step is 1.3320149183273315\n",
      "2023-03-08 18:55:42.815 | INFO     | mofgraph2vec.model.nn_lightning:training_step:37 - The training loss at this step is 1.0227727890014648\n",
      "2023-03-08 18:55:42.829 | INFO     | mofgraph2vec.model.nn_lightning:training_step:37 - The training loss at this step is 1.0285910367965698\n",
      "2023-03-08 18:55:42.842 | INFO     | mofgraph2vec.model.nn_lightning:training_step:37 - The training loss at this step is 0.8165462613105774\n",
      "2023-03-08 18:55:42.855 | INFO     | mofgraph2vec.model.nn_lightning:training_step:37 - The training loss at this step is 0.9389183521270752\n",
      "2023-03-08 18:55:42.869 | INFO     | mofgraph2vec.model.nn_lightning:training_step:37 - The training loss at this step is 0.973111629486084\n",
      "2023-03-08 18:55:42.881 | INFO     | mofgraph2vec.model.nn_lightning:training_step:37 - The training loss at this step is 0.9791300296783447\n",
      "2023-03-08 18:55:42.893 | INFO     | mofgraph2vec.model.nn_lightning:training_step:37 - The training loss at this step is 1.116675615310669\n",
      "2023-03-08 18:55:42.940 | INFO     | mofgraph2vec.model.nn_lightning:training_step:37 - The training loss at this step is 1.1199902296066284\n",
      "2023-03-08 18:55:42.955 | INFO     | mofgraph2vec.model.nn_lightning:training_step:37 - The training loss at this step is 1.3565585613250732\n",
      "2023-03-08 18:55:42.967 | INFO     | mofgraph2vec.model.nn_lightning:training_step:37 - The training loss at this step is 1.0631744861602783\n",
      "2023-03-08 18:55:42.980 | INFO     | mofgraph2vec.model.nn_lightning:training_step:37 - The training loss at this step is 1.0185317993164062\n",
      "2023-03-08 18:55:42.993 | INFO     | mofgraph2vec.model.nn_lightning:training_step:37 - The training loss at this step is 0.9215096235275269\n",
      "2023-03-08 18:55:43.004 | INFO     | mofgraph2vec.model.nn_lightning:training_step:37 - The training loss at this step is 1.0122383832931519\n",
      "2023-03-08 18:55:43.015 | INFO     | mofgraph2vec.model.nn_lightning:training_step:37 - The training loss at this step is 0.549089789390564\n",
      "2023-03-08 18:55:43.027 | INFO     | mofgraph2vec.model.nn_lightning:training_step:37 - The training loss at this step is 1.024297833442688\n",
      "2023-03-08 18:55:43.050 | INFO     | mofgraph2vec.model.nn_lightning:training_step:37 - The training loss at this step is 1.3068937063217163\n",
      "2023-03-08 18:55:43.062 | INFO     | mofgraph2vec.model.nn_lightning:training_step:37 - The training loss at this step is 0.9500733613967896\n",
      "2023-03-08 18:55:43.073 | INFO     | mofgraph2vec.model.nn_lightning:training_step:37 - The training loss at this step is 1.3653671741485596\n",
      "2023-03-08 18:55:43.086 | INFO     | mofgraph2vec.model.nn_lightning:training_step:37 - The training loss at this step is 1.022326111793518\n",
      "2023-03-08 18:55:43.097 | INFO     | mofgraph2vec.model.nn_lightning:training_step:37 - The training loss at this step is 0.9626025557518005\n",
      "2023-03-08 18:55:43.108 | INFO     | mofgraph2vec.model.nn_lightning:training_step:37 - The training loss at this step is 0.8540310263633728\n",
      "2023-03-08 18:55:43.121 | INFO     | mofgraph2vec.model.nn_lightning:training_step:37 - The training loss at this step is 1.1239696741104126\n",
      "2023-03-08 18:55:43.131 | INFO     | mofgraph2vec.model.nn_lightning:training_step:37 - The training loss at this step is 1.0338122844696045\n"
     ]
    },
    {
     "data": {
      "application/vnd.jupyter.widget-view+json": {
       "model_id": "0c132b7e56f649d2b8d2645eed6e8ff2",
       "version_major": 2,
       "version_minor": 0
      },
      "text/plain": [
       "Validation: 0it [00:00, ?it/s]"
      ]
     },
     "metadata": {},
     "output_type": "display_data"
    },
    {
     "name": "stderr",
     "output_type": "stream",
     "text": [
      "2023-03-08 18:55:46.628 | INFO     | mofgraph2vec.model.nn_lightning:training_step:37 - The training loss at this step is 1.2466355562210083\n",
      "2023-03-08 18:55:46.638 | INFO     | mofgraph2vec.model.nn_lightning:training_step:37 - The training loss at this step is 1.3035922050476074\n",
      "2023-03-08 18:55:46.652 | INFO     | mofgraph2vec.model.nn_lightning:training_step:37 - The training loss at this step is 0.8014949560165405\n",
      "2023-03-08 18:55:46.663 | INFO     | mofgraph2vec.model.nn_lightning:training_step:37 - The training loss at this step is 1.0763986110687256\n",
      "2023-03-08 18:55:46.705 | INFO     | mofgraph2vec.model.nn_lightning:training_step:37 - The training loss at this step is 1.3130525350570679\n",
      "2023-03-08 18:55:46.723 | INFO     | mofgraph2vec.model.nn_lightning:training_step:37 - The training loss at this step is 1.0553431510925293\n",
      "2023-03-08 18:55:46.737 | INFO     | mofgraph2vec.model.nn_lightning:training_step:37 - The training loss at this step is 1.2371717691421509\n",
      "2023-03-08 18:55:46.748 | INFO     | mofgraph2vec.model.nn_lightning:training_step:37 - The training loss at this step is 1.1030696630477905\n",
      "2023-03-08 18:55:46.760 | INFO     | mofgraph2vec.model.nn_lightning:training_step:37 - The training loss at this step is 0.846894383430481\n",
      "2023-03-08 18:55:46.772 | INFO     | mofgraph2vec.model.nn_lightning:training_step:37 - The training loss at this step is 1.211716651916504\n",
      "2023-03-08 18:55:46.786 | INFO     | mofgraph2vec.model.nn_lightning:training_step:37 - The training loss at this step is 0.6167171597480774\n",
      "2023-03-08 18:55:46.797 | INFO     | mofgraph2vec.model.nn_lightning:training_step:37 - The training loss at this step is 1.0582444667816162\n",
      "2023-03-08 18:55:46.810 | INFO     | mofgraph2vec.model.nn_lightning:training_step:37 - The training loss at this step is 1.0883982181549072\n",
      "2023-03-08 18:55:46.824 | INFO     | mofgraph2vec.model.nn_lightning:training_step:37 - The training loss at this step is 0.8289727568626404\n",
      "2023-03-08 18:55:46.838 | INFO     | mofgraph2vec.model.nn_lightning:training_step:37 - The training loss at this step is 1.275356650352478\n",
      "2023-03-08 18:55:46.852 | INFO     | mofgraph2vec.model.nn_lightning:training_step:37 - The training loss at this step is 0.5995994210243225\n",
      "2023-03-08 18:55:46.863 | INFO     | mofgraph2vec.model.nn_lightning:training_step:37 - The training loss at this step is 0.9527667164802551\n",
      "2023-03-08 18:55:46.875 | INFO     | mofgraph2vec.model.nn_lightning:training_step:37 - The training loss at this step is 1.3397588729858398\n",
      "2023-03-08 18:55:50.334 | INFO     | mofgraph2vec.model.nn_lightning:training_step:37 - The training loss at this step is 0.972941517829895\n",
      "2023-03-08 18:55:50.348 | INFO     | mofgraph2vec.model.nn_lightning:training_step:37 - The training loss at this step is 1.3184863328933716\n",
      "2023-03-08 18:55:50.359 | INFO     | mofgraph2vec.model.nn_lightning:training_step:37 - The training loss at this step is 1.43351411819458\n",
      "2023-03-08 18:55:50.371 | INFO     | mofgraph2vec.model.nn_lightning:training_step:37 - The training loss at this step is 1.0676594972610474\n",
      "2023-03-08 18:55:50.384 | INFO     | mofgraph2vec.model.nn_lightning:training_step:37 - The training loss at this step is 1.6714131832122803\n",
      "2023-03-08 18:55:50.394 | INFO     | mofgraph2vec.model.nn_lightning:training_step:37 - The training loss at this step is 1.0531445741653442\n",
      "2023-03-08 18:55:50.406 | INFO     | mofgraph2vec.model.nn_lightning:training_step:37 - The training loss at this step is 0.9992642402648926\n",
      "2023-03-08 18:55:50.418 | INFO     | mofgraph2vec.model.nn_lightning:training_step:37 - The training loss at this step is 0.6056026220321655\n",
      "2023-03-08 18:55:50.428 | INFO     | mofgraph2vec.model.nn_lightning:training_step:37 - The training loss at this step is 0.5987844467163086\n",
      "2023-03-08 18:55:50.443 | INFO     | mofgraph2vec.model.nn_lightning:training_step:37 - The training loss at this step is 1.0237659215927124\n",
      "2023-03-08 18:55:50.454 | INFO     | mofgraph2vec.model.nn_lightning:training_step:37 - The training loss at this step is 0.9765266180038452\n",
      "2023-03-08 18:55:50.467 | INFO     | mofgraph2vec.model.nn_lightning:training_step:37 - The training loss at this step is 0.8795356154441833\n",
      "2023-03-08 18:55:50.479 | INFO     | mofgraph2vec.model.nn_lightning:training_step:37 - The training loss at this step is 0.8053433895111084\n",
      "2023-03-08 18:55:50.492 | INFO     | mofgraph2vec.model.nn_lightning:training_step:37 - The training loss at this step is 1.1310474872589111\n",
      "2023-03-08 18:55:50.504 | INFO     | mofgraph2vec.model.nn_lightning:training_step:37 - The training loss at this step is 1.1251022815704346\n",
      "2023-03-08 18:55:50.514 | INFO     | mofgraph2vec.model.nn_lightning:training_step:37 - The training loss at this step is 0.9337133169174194\n",
      "2023-03-08 18:55:50.525 | INFO     | mofgraph2vec.model.nn_lightning:training_step:37 - The training loss at this step is 0.9625295996665955\n",
      "2023-03-08 18:55:50.537 | INFO     | mofgraph2vec.model.nn_lightning:training_step:37 - The training loss at this step is 0.9134880304336548\n",
      "2023-03-08 18:55:50.549 | INFO     | mofgraph2vec.model.nn_lightning:training_step:37 - The training loss at this step is 1.2548890113830566\n",
      "2023-03-08 18:55:50.589 | INFO     | mofgraph2vec.model.nn_lightning:training_step:37 - The training loss at this step is 0.949844241142273\n",
      "2023-03-08 18:55:50.608 | INFO     | mofgraph2vec.model.nn_lightning:training_step:37 - The training loss at this step is 1.2445971965789795\n",
      "2023-03-08 18:55:50.619 | INFO     | mofgraph2vec.model.nn_lightning:training_step:37 - The training loss at this step is 1.1859420537948608\n",
      "2023-03-08 18:55:50.629 | INFO     | mofgraph2vec.model.nn_lightning:training_step:37 - The training loss at this step is 1.0281144380569458\n",
      "2023-03-08 18:55:50.639 | INFO     | mofgraph2vec.model.nn_lightning:training_step:37 - The training loss at this step is 0.6620417237281799\n"
     ]
    },
    {
     "data": {
      "application/vnd.jupyter.widget-view+json": {
       "model_id": "2039b17434c14defa9cafda1e2c23f27",
       "version_major": 2,
       "version_minor": 0
      },
      "text/plain": [
       "Validation: 0it [00:00, ?it/s]"
      ]
     },
     "metadata": {},
     "output_type": "display_data"
    },
    {
     "name": "stderr",
     "output_type": "stream",
     "text": [
      "2023-03-08 18:55:54.177 | INFO     | mofgraph2vec.model.nn_lightning:training_step:37 - The training loss at this step is 0.9753825664520264\n",
      "2023-03-08 18:55:54.193 | INFO     | mofgraph2vec.model.nn_lightning:training_step:37 - The training loss at this step is 1.3026305437088013\n",
      "2023-03-08 18:55:54.203 | INFO     | mofgraph2vec.model.nn_lightning:training_step:37 - The training loss at this step is 1.0311821699142456\n",
      "2023-03-08 18:55:54.218 | INFO     | mofgraph2vec.model.nn_lightning:training_step:37 - The training loss at this step is 1.216131329536438\n",
      "2023-03-08 18:55:54.231 | INFO     | mofgraph2vec.model.nn_lightning:training_step:37 - The training loss at this step is 1.4066376686096191\n",
      "2023-03-08 18:55:54.244 | INFO     | mofgraph2vec.model.nn_lightning:training_step:37 - The training loss at this step is 0.9172794222831726\n",
      "2023-03-08 18:55:54.256 | INFO     | mofgraph2vec.model.nn_lightning:training_step:37 - The training loss at this step is 0.9360359907150269\n",
      "2023-03-08 18:55:54.267 | INFO     | mofgraph2vec.model.nn_lightning:training_step:37 - The training loss at this step is 0.6412051916122437\n",
      "2023-03-08 18:55:54.280 | INFO     | mofgraph2vec.model.nn_lightning:training_step:37 - The training loss at this step is 0.9323059320449829\n",
      "2023-03-08 18:55:54.308 | INFO     | mofgraph2vec.model.nn_lightning:training_step:37 - The training loss at this step is 0.9755948185920715\n",
      "2023-03-08 18:55:54.325 | INFO     | mofgraph2vec.model.nn_lightning:training_step:37 - The training loss at this step is 1.0081297159194946\n",
      "2023-03-08 18:55:54.338 | INFO     | mofgraph2vec.model.nn_lightning:training_step:37 - The training loss at this step is 1.040925145149231\n",
      "2023-03-08 18:55:54.349 | INFO     | mofgraph2vec.model.nn_lightning:training_step:37 - The training loss at this step is 1.2713960409164429\n",
      "2023-03-08 18:55:54.362 | INFO     | mofgraph2vec.model.nn_lightning:training_step:37 - The training loss at this step is 1.3037000894546509\n",
      "2023-03-08 18:55:54.402 | INFO     | mofgraph2vec.model.nn_lightning:training_step:37 - The training loss at this step is 0.7124518752098083\n",
      "2023-03-08 18:55:54.420 | INFO     | mofgraph2vec.model.nn_lightning:training_step:37 - The training loss at this step is 0.8911397457122803\n",
      "2023-03-08 18:55:54.431 | INFO     | mofgraph2vec.model.nn_lightning:training_step:37 - The training loss at this step is 1.0228557586669922\n",
      "2023-03-08 18:55:54.443 | INFO     | mofgraph2vec.model.nn_lightning:training_step:37 - The training loss at this step is 0.9628190994262695\n",
      "2023-03-08 18:55:54.456 | INFO     | mofgraph2vec.model.nn_lightning:training_step:37 - The training loss at this step is 0.8913133144378662\n",
      "2023-03-08 18:55:54.469 | INFO     | mofgraph2vec.model.nn_lightning:training_step:37 - The training loss at this step is 1.0036967992782593\n",
      "2023-03-08 18:55:54.483 | INFO     | mofgraph2vec.model.nn_lightning:training_step:37 - The training loss at this step is 0.9234729409217834\n",
      "2023-03-08 18:55:54.496 | INFO     | mofgraph2vec.model.nn_lightning:training_step:37 - The training loss at this step is 1.2660361528396606\n",
      "2023-03-08 18:55:54.519 | INFO     | mofgraph2vec.model.nn_lightning:training_step:37 - The training loss at this step is 1.343463659286499\n",
      "2023-03-08 18:55:54.532 | INFO     | mofgraph2vec.model.nn_lightning:training_step:37 - The training loss at this step is 0.9122089147567749\n",
      "2023-03-08 18:55:54.544 | INFO     | mofgraph2vec.model.nn_lightning:training_step:37 - The training loss at this step is 1.3244487047195435\n",
      "2023-03-08 18:55:54.556 | INFO     | mofgraph2vec.model.nn_lightning:training_step:37 - The training loss at this step is 1.1833107471466064\n",
      "2023-03-08 18:56:01.307 | INFO     | mofgraph2vec.model.nn_lightning:training_step:37 - The training loss at this step is 1.2889025211334229\n",
      "2023-03-08 18:56:01.319 | INFO     | mofgraph2vec.model.nn_lightning:training_step:37 - The training loss at this step is 0.9508640766143799\n",
      "2023-03-08 18:56:01.330 | INFO     | mofgraph2vec.model.nn_lightning:training_step:37 - The training loss at this step is 0.9289931654930115\n",
      "2023-03-08 18:56:01.341 | INFO     | mofgraph2vec.model.nn_lightning:training_step:37 - The training loss at this step is 1.1109980344772339\n",
      "2023-03-08 18:56:01.352 | INFO     | mofgraph2vec.model.nn_lightning:training_step:37 - The training loss at this step is 1.1956543922424316\n",
      "2023-03-08 18:56:01.366 | INFO     | mofgraph2vec.model.nn_lightning:training_step:37 - The training loss at this step is 1.1456438302993774\n",
      "2023-03-08 18:56:01.378 | INFO     | mofgraph2vec.model.nn_lightning:training_step:37 - The training loss at this step is 0.9187227487564087\n",
      "2023-03-08 18:56:01.391 | INFO     | mofgraph2vec.model.nn_lightning:training_step:37 - The training loss at this step is 1.6019316911697388\n",
      "2023-03-08 18:56:01.403 | INFO     | mofgraph2vec.model.nn_lightning:training_step:37 - The training loss at this step is 0.6099078059196472\n",
      "2023-03-08 18:56:01.415 | INFO     | mofgraph2vec.model.nn_lightning:training_step:37 - The training loss at this step is 1.0491430759429932\n",
      "2023-03-08 18:56:01.427 | INFO     | mofgraph2vec.model.nn_lightning:training_step:37 - The training loss at this step is 0.8467904925346375\n",
      "2023-03-08 18:56:01.438 | INFO     | mofgraph2vec.model.nn_lightning:training_step:37 - The training loss at this step is 0.8709243535995483\n",
      "2023-03-08 18:56:01.449 | INFO     | mofgraph2vec.model.nn_lightning:training_step:37 - The training loss at this step is 1.172292947769165\n",
      "2023-03-08 18:56:01.460 | INFO     | mofgraph2vec.model.nn_lightning:training_step:37 - The training loss at this step is 0.9816313982009888\n",
      "2023-03-08 18:56:01.474 | INFO     | mofgraph2vec.model.nn_lightning:training_step:37 - The training loss at this step is 1.0256273746490479\n",
      "2023-03-08 18:56:01.484 | INFO     | mofgraph2vec.model.nn_lightning:training_step:37 - The training loss at this step is 0.9488076567649841\n"
     ]
    },
    {
     "data": {
      "application/vnd.jupyter.widget-view+json": {
       "model_id": "ebe8652c64044a38b4083067f67d39e2",
       "version_major": 2,
       "version_minor": 0
      },
      "text/plain": [
       "Validation: 0it [00:00, ?it/s]"
      ]
     },
     "metadata": {},
     "output_type": "display_data"
    },
    {
     "name": "stderr",
     "output_type": "stream",
     "text": [
      "2023-03-08 18:56:04.989 | INFO     | mofgraph2vec.model.nn_lightning:training_step:37 - The training loss at this step is 1.3193142414093018\n",
      "2023-03-08 18:56:05.001 | INFO     | mofgraph2vec.model.nn_lightning:training_step:37 - The training loss at this step is 1.474139928817749\n",
      "2023-03-08 18:56:05.015 | INFO     | mofgraph2vec.model.nn_lightning:training_step:37 - The training loss at this step is 1.232894778251648\n",
      "2023-03-08 18:56:05.026 | INFO     | mofgraph2vec.model.nn_lightning:training_step:37 - The training loss at this step is 1.2632299661636353\n",
      "2023-03-08 18:56:05.038 | INFO     | mofgraph2vec.model.nn_lightning:training_step:37 - The training loss at this step is 1.013400673866272\n",
      "2023-03-08 18:56:05.051 | INFO     | mofgraph2vec.model.nn_lightning:training_step:37 - The training loss at this step is 1.0606893301010132\n",
      "2023-03-08 18:56:05.064 | INFO     | mofgraph2vec.model.nn_lightning:training_step:37 - The training loss at this step is 1.0565847158432007\n",
      "2023-03-08 18:56:05.077 | INFO     | mofgraph2vec.model.nn_lightning:training_step:37 - The training loss at this step is 1.2226810455322266\n",
      "2023-03-08 18:56:05.088 | INFO     | mofgraph2vec.model.nn_lightning:training_step:37 - The training loss at this step is 1.211734652519226\n",
      "2023-03-08 18:56:05.101 | INFO     | mofgraph2vec.model.nn_lightning:training_step:37 - The training loss at this step is 1.3087868690490723\n",
      "2023-03-08 18:56:05.144 | INFO     | mofgraph2vec.model.nn_lightning:training_step:37 - The training loss at this step is 1.3558542728424072\n",
      "2023-03-08 18:56:05.161 | INFO     | mofgraph2vec.model.nn_lightning:training_step:37 - The training loss at this step is 1.0696316957473755\n",
      "2023-03-08 18:56:05.172 | INFO     | mofgraph2vec.model.nn_lightning:training_step:37 - The training loss at this step is 1.0430357456207275\n",
      "2023-03-08 18:56:05.184 | INFO     | mofgraph2vec.model.nn_lightning:training_step:37 - The training loss at this step is 1.1977174282073975\n",
      "2023-03-08 18:56:05.198 | INFO     | mofgraph2vec.model.nn_lightning:training_step:37 - The training loss at this step is 0.7051833868026733\n",
      "2023-03-08 18:56:05.211 | INFO     | mofgraph2vec.model.nn_lightning:training_step:37 - The training loss at this step is 0.9400163292884827\n",
      "2023-03-08 18:56:05.223 | INFO     | mofgraph2vec.model.nn_lightning:training_step:37 - The training loss at this step is 1.1445177793502808\n",
      "2023-03-08 18:56:05.235 | INFO     | mofgraph2vec.model.nn_lightning:training_step:37 - The training loss at this step is 1.1653281450271606\n",
      "2023-03-08 18:56:05.249 | INFO     | mofgraph2vec.model.nn_lightning:training_step:37 - The training loss at this step is 0.8335921764373779\n",
      "2023-03-08 18:56:05.261 | INFO     | mofgraph2vec.model.nn_lightning:training_step:37 - The training loss at this step is 0.9394391179084778\n",
      "2023-03-08 18:56:05.274 | INFO     | mofgraph2vec.model.nn_lightning:training_step:37 - The training loss at this step is 1.3992464542388916\n",
      "2023-03-08 18:56:05.286 | INFO     | mofgraph2vec.model.nn_lightning:training_step:37 - The training loss at this step is 1.004098892211914\n",
      "2023-03-08 18:56:05.299 | INFO     | mofgraph2vec.model.nn_lightning:training_step:37 - The training loss at this step is 0.7707107067108154\n",
      "2023-03-08 18:56:05.313 | INFO     | mofgraph2vec.model.nn_lightning:training_step:37 - The training loss at this step is 0.8626819849014282\n",
      "2023-03-08 18:56:05.325 | INFO     | mofgraph2vec.model.nn_lightning:training_step:37 - The training loss at this step is 1.0497668981552124\n",
      "2023-03-08 18:56:05.337 | INFO     | mofgraph2vec.model.nn_lightning:training_step:37 - The training loss at this step is 0.9231640696525574\n",
      "2023-03-08 18:56:05.349 | INFO     | mofgraph2vec.model.nn_lightning:training_step:37 - The training loss at this step is 0.9244909882545471\n",
      "2023-03-08 18:56:05.362 | INFO     | mofgraph2vec.model.nn_lightning:training_step:37 - The training loss at this step is 0.9353275895118713\n",
      "2023-03-08 18:56:05.376 | INFO     | mofgraph2vec.model.nn_lightning:training_step:37 - The training loss at this step is 0.7974596619606018\n",
      "2023-03-08 18:56:05.424 | INFO     | mofgraph2vec.model.nn_lightning:training_step:37 - The training loss at this step is 1.14506196975708\n",
      "2023-03-08 18:56:05.435 | INFO     | mofgraph2vec.model.nn_lightning:training_step:37 - The training loss at this step is 1.0388492345809937\n",
      "2023-03-08 18:56:05.447 | INFO     | mofgraph2vec.model.nn_lightning:training_step:37 - The training loss at this step is 0.7134168148040771\n",
      "2023-03-08 18:56:05.458 | INFO     | mofgraph2vec.model.nn_lightning:training_step:37 - The training loss at this step is 1.1606173515319824\n",
      "2023-03-08 18:56:05.470 | INFO     | mofgraph2vec.model.nn_lightning:training_step:37 - The training loss at this step is 0.9149075746536255\n",
      "2023-03-08 18:56:08.843 | INFO     | mofgraph2vec.model.nn_lightning:training_step:37 - The training loss at this step is 1.2417030334472656\n",
      "2023-03-08 18:56:08.853 | INFO     | mofgraph2vec.model.nn_lightning:training_step:37 - The training loss at this step is 0.7081871628761292\n",
      "2023-03-08 18:56:08.865 | INFO     | mofgraph2vec.model.nn_lightning:training_step:37 - The training loss at this step is 1.2419967651367188\n",
      "2023-03-08 18:56:08.879 | INFO     | mofgraph2vec.model.nn_lightning:training_step:37 - The training loss at this step is 0.8129362463951111\n",
      "2023-03-08 18:56:08.889 | INFO     | mofgraph2vec.model.nn_lightning:training_step:37 - The training loss at this step is 0.8670598268508911\n",
      "2023-03-08 18:56:08.902 | INFO     | mofgraph2vec.model.nn_lightning:training_step:37 - The training loss at this step is 0.828305721282959\n",
      "2023-03-08 18:56:08.914 | INFO     | mofgraph2vec.model.nn_lightning:training_step:37 - The training loss at this step is 1.2476862668991089\n",
      "2023-03-08 18:56:08.924 | INFO     | mofgraph2vec.model.nn_lightning:training_step:37 - The training loss at this step is 1.4529006481170654\n"
     ]
    },
    {
     "data": {
      "application/vnd.jupyter.widget-view+json": {
       "model_id": "2198353aed884766b87c9d594e8c0493",
       "version_major": 2,
       "version_minor": 0
      },
      "text/plain": [
       "Validation: 0it [00:00, ?it/s]"
      ]
     },
     "metadata": {},
     "output_type": "display_data"
    },
    {
     "name": "stderr",
     "output_type": "stream",
     "text": [
      "2023-03-08 18:56:12.451 | INFO     | mofgraph2vec.model.nn_lightning:training_step:37 - The training loss at this step is 0.8118753433227539\n",
      "2023-03-08 18:56:12.464 | INFO     | mofgraph2vec.model.nn_lightning:training_step:37 - The training loss at this step is 1.5018141269683838\n",
      "2023-03-08 18:56:12.486 | INFO     | mofgraph2vec.model.nn_lightning:training_step:37 - The training loss at this step is 1.0344455242156982\n",
      "2023-03-08 18:56:12.506 | INFO     | mofgraph2vec.model.nn_lightning:training_step:37 - The training loss at this step is 1.09987473487854\n",
      "2023-03-08 18:56:12.518 | INFO     | mofgraph2vec.model.nn_lightning:training_step:37 - The training loss at this step is 1.01393723487854\n",
      "2023-03-08 18:56:12.532 | INFO     | mofgraph2vec.model.nn_lightning:training_step:37 - The training loss at this step is 1.1465749740600586\n",
      "2023-03-08 18:56:12.545 | INFO     | mofgraph2vec.model.nn_lightning:training_step:37 - The training loss at this step is 0.8866204619407654\n",
      "2023-03-08 18:56:12.560 | INFO     | mofgraph2vec.model.nn_lightning:training_step:37 - The training loss at this step is 0.7407606244087219\n",
      "2023-03-08 18:56:12.610 | INFO     | mofgraph2vec.model.nn_lightning:training_step:37 - The training loss at this step is 0.8622748851776123\n",
      "2023-03-08 18:56:12.625 | INFO     | mofgraph2vec.model.nn_lightning:training_step:37 - The training loss at this step is 0.928424060344696\n",
      "2023-03-08 18:56:12.635 | INFO     | mofgraph2vec.model.nn_lightning:training_step:37 - The training loss at this step is 0.8699290752410889\n",
      "2023-03-08 18:56:12.648 | INFO     | mofgraph2vec.model.nn_lightning:training_step:37 - The training loss at this step is 1.2432278394699097\n",
      "2023-03-08 18:56:12.659 | INFO     | mofgraph2vec.model.nn_lightning:training_step:37 - The training loss at this step is 1.2050671577453613\n",
      "2023-03-08 18:56:12.671 | INFO     | mofgraph2vec.model.nn_lightning:training_step:37 - The training loss at this step is 1.1058214902877808\n",
      "2023-03-08 18:56:12.684 | INFO     | mofgraph2vec.model.nn_lightning:training_step:37 - The training loss at this step is 1.24160897731781\n",
      "2023-03-08 18:56:12.695 | INFO     | mofgraph2vec.model.nn_lightning:training_step:37 - The training loss at this step is 1.0655487775802612\n",
      "2023-03-08 18:56:12.707 | INFO     | mofgraph2vec.model.nn_lightning:training_step:37 - The training loss at this step is 0.7455600500106812\n",
      "2023-03-08 18:56:12.720 | INFO     | mofgraph2vec.model.nn_lightning:training_step:37 - The training loss at this step is 1.389846682548523\n",
      "2023-03-08 18:56:12.735 | INFO     | mofgraph2vec.model.nn_lightning:training_step:37 - The training loss at this step is 0.7569912672042847\n",
      "2023-03-08 18:56:12.748 | INFO     | mofgraph2vec.model.nn_lightning:training_step:37 - The training loss at this step is 1.0462965965270996\n",
      "2023-03-08 18:56:12.758 | INFO     | mofgraph2vec.model.nn_lightning:training_step:37 - The training loss at this step is 1.177211046218872\n",
      "2023-03-08 18:56:12.771 | INFO     | mofgraph2vec.model.nn_lightning:training_step:37 - The training loss at this step is 0.9572342038154602\n",
      "2023-03-08 18:56:12.784 | INFO     | mofgraph2vec.model.nn_lightning:training_step:37 - The training loss at this step is 0.7947602868080139\n",
      "2023-03-08 18:56:12.798 | INFO     | mofgraph2vec.model.nn_lightning:training_step:37 - The training loss at this step is 1.0543650388717651\n",
      "2023-03-08 18:56:12.820 | INFO     | mofgraph2vec.model.nn_lightning:training_step:37 - The training loss at this step is 1.0641679763793945\n",
      "2023-03-08 18:56:12.835 | INFO     | mofgraph2vec.model.nn_lightning:training_step:37 - The training loss at this step is 1.2949057817459106\n",
      "2023-03-08 18:56:12.865 | INFO     | mofgraph2vec.model.nn_lightning:training_step:37 - The training loss at this step is 1.2843663692474365\n",
      "2023-03-08 18:56:12.896 | INFO     | mofgraph2vec.model.nn_lightning:training_step:37 - The training loss at this step is 1.1229037046432495\n",
      "2023-03-08 18:56:12.909 | INFO     | mofgraph2vec.model.nn_lightning:training_step:37 - The training loss at this step is 1.1269066333770752\n",
      "2023-03-08 18:56:12.924 | INFO     | mofgraph2vec.model.nn_lightning:training_step:37 - The training loss at this step is 0.8698824644088745\n",
      "2023-03-08 18:56:12.940 | INFO     | mofgraph2vec.model.nn_lightning:training_step:37 - The training loss at this step is 1.2925069332122803\n",
      "2023-03-08 18:56:12.952 | INFO     | mofgraph2vec.model.nn_lightning:training_step:37 - The training loss at this step is 0.8327990174293518\n",
      "2023-03-08 18:56:12.965 | INFO     | mofgraph2vec.model.nn_lightning:training_step:37 - The training loss at this step is 0.998060941696167\n",
      "2023-03-08 18:56:12.978 | INFO     | mofgraph2vec.model.nn_lightning:training_step:37 - The training loss at this step is 0.7950844168663025\n",
      "2023-03-08 18:56:12.989 | INFO     | mofgraph2vec.model.nn_lightning:training_step:37 - The training loss at this step is 1.1887717247009277\n",
      "2023-03-08 18:56:13.001 | INFO     | mofgraph2vec.model.nn_lightning:training_step:37 - The training loss at this step is 0.8871169686317444\n",
      "2023-03-08 18:56:13.013 | INFO     | mofgraph2vec.model.nn_lightning:training_step:37 - The training loss at this step is 1.0827691555023193\n",
      "2023-03-08 18:56:13.024 | INFO     | mofgraph2vec.model.nn_lightning:training_step:37 - The training loss at this step is 1.0790821313858032\n",
      "2023-03-08 18:56:13.035 | INFO     | mofgraph2vec.model.nn_lightning:training_step:37 - The training loss at this step is 1.243070125579834\n",
      "2023-03-08 18:56:13.047 | INFO     | mofgraph2vec.model.nn_lightning:training_step:37 - The training loss at this step is 0.8046225309371948\n",
      "2023-03-08 18:56:13.060 | INFO     | mofgraph2vec.model.nn_lightning:training_step:37 - The training loss at this step is 1.2295483350753784\n",
      "2023-03-08 18:56:13.070 | INFO     | mofgraph2vec.model.nn_lightning:training_step:37 - The training loss at this step is 0.9645041227340698\n"
     ]
    },
    {
     "data": {
      "application/vnd.jupyter.widget-view+json": {
       "model_id": "8046e7d427ab445a864f9dbc0b35869b",
       "version_major": 2,
       "version_minor": 0
      },
      "text/plain": [
       "Validation: 0it [00:00, ?it/s]"
      ]
     },
     "metadata": {},
     "output_type": "display_data"
    },
    {
     "name": "stderr",
     "output_type": "stream",
     "text": [
      "`Trainer.fit` stopped: `max_epochs=50` reached.\n"
     ]
    }
   ],
   "source": [
    "trainer.fit(pl_model, datamodule=dm)"
   ]
  },
  {
   "attachments": {},
   "cell_type": "markdown",
   "metadata": {},
   "source": [
    "## Evaluate model performance"
   ]
  },
  {
   "cell_type": "code",
   "execution_count": 11,
   "metadata": {},
   "outputs": [
    {
     "name": "stderr",
     "output_type": "stream",
     "text": [
      "/Users/xiaoqi/opt/anaconda3/envs/mofgraph2vec/lib/python3.8/site-packages/pytorch_lightning/trainer/connectors/data_connector.py:224: PossibleUserWarning: The dataloader, predict_dataloader 0, does not have many workers which may be a bottleneck. Consider increasing the value of the `num_workers` argument` (try 8 which is the number of cpus on this machine) in the `DataLoader` init to improve performance.\n",
      "  rank_zero_warn(\n"
     ]
    },
    {
     "data": {
      "application/vnd.jupyter.widget-view+json": {
       "model_id": "b4c09559631e42d39cfd0475838d3ed3",
       "version_major": 2,
       "version_minor": 0
      },
      "text/plain": [
       "Predicting: 42it [00:00, ?it/s]"
      ]
     },
     "metadata": {},
     "output_type": "display_data"
    }
   ],
   "source": [
    "predictions = trainer.predict(loaded_model, dataloaders=dm.test_dataloader())"
   ]
  },
  {
   "cell_type": "code",
   "execution_count": 12,
   "metadata": {},
   "outputs": [],
   "source": [
    "true, pred = predictions[0][0], predictions[0][1]"
   ]
  },
  {
   "cell_type": "code",
   "execution_count": 51,
   "metadata": {},
   "outputs": [],
   "source": [
    "true = np.concatenate([pred[0].view(-1).numpy() for pred in predictions])\n",
    "pred = np.concatenate([pred[1].view(-1).numpy() for pred in predictions])"
   ]
  },
  {
   "cell_type": "code",
   "execution_count": 60,
   "metadata": {},
   "outputs": [],
   "source": [
    "test_values = pd.DataFrame(np.vstack((true, pred)).T, columns=[\"True\", \"Pred\"])"
   ]
  },
  {
   "cell_type": "code",
   "execution_count": 61,
   "metadata": {},
   "outputs": [
    {
     "data": {
      "text/html": [
       "<div>\n",
       "<style scoped>\n",
       "    .dataframe tbody tr th:only-of-type {\n",
       "        vertical-align: middle;\n",
       "    }\n",
       "\n",
       "    .dataframe tbody tr th {\n",
       "        vertical-align: top;\n",
       "    }\n",
       "\n",
       "    .dataframe thead th {\n",
       "        text-align: right;\n",
       "    }\n",
       "</style>\n",
       "<table border=\"1\" class=\"dataframe\">\n",
       "  <thead>\n",
       "    <tr style=\"text-align: right;\">\n",
       "      <th></th>\n",
       "      <th>True</th>\n",
       "      <th>Pred</th>\n",
       "    </tr>\n",
       "  </thead>\n",
       "  <tbody>\n",
       "    <tr>\n",
       "      <th>0</th>\n",
       "      <td>-2.876325</td>\n",
       "      <td>-3.354292</td>\n",
       "    </tr>\n",
       "    <tr>\n",
       "      <th>1</th>\n",
       "      <td>-4.213840</td>\n",
       "      <td>-3.420505</td>\n",
       "    </tr>\n",
       "    <tr>\n",
       "      <th>2</th>\n",
       "      <td>-3.596943</td>\n",
       "      <td>-3.372930</td>\n",
       "    </tr>\n",
       "    <tr>\n",
       "      <th>3</th>\n",
       "      <td>-2.659049</td>\n",
       "      <td>-3.338466</td>\n",
       "    </tr>\n",
       "    <tr>\n",
       "      <th>4</th>\n",
       "      <td>-4.238126</td>\n",
       "      <td>-3.548428</td>\n",
       "    </tr>\n",
       "    <tr>\n",
       "      <th>...</th>\n",
       "      <td>...</td>\n",
       "      <td>...</td>\n",
       "    </tr>\n",
       "    <tr>\n",
       "      <th>321</th>\n",
       "      <td>-4.498700</td>\n",
       "      <td>-3.478082</td>\n",
       "    </tr>\n",
       "    <tr>\n",
       "      <th>322</th>\n",
       "      <td>-4.108487</td>\n",
       "      <td>-3.403150</td>\n",
       "    </tr>\n",
       "    <tr>\n",
       "      <th>323</th>\n",
       "      <td>-4.133581</td>\n",
       "      <td>-3.515440</td>\n",
       "    </tr>\n",
       "    <tr>\n",
       "      <th>324</th>\n",
       "      <td>-2.734680</td>\n",
       "      <td>-3.272298</td>\n",
       "    </tr>\n",
       "    <tr>\n",
       "      <th>325</th>\n",
       "      <td>-1.723596</td>\n",
       "      <td>-3.414014</td>\n",
       "    </tr>\n",
       "  </tbody>\n",
       "</table>\n",
       "<p>326 rows × 2 columns</p>\n",
       "</div>"
      ],
      "text/plain": [
       "         True      Pred\n",
       "0   -2.876325 -3.354292\n",
       "1   -4.213840 -3.420505\n",
       "2   -3.596943 -3.372930\n",
       "3   -2.659049 -3.338466\n",
       "4   -4.238126 -3.548428\n",
       "..        ...       ...\n",
       "321 -4.498700 -3.478082\n",
       "322 -4.108487 -3.403150\n",
       "323 -4.133581 -3.515440\n",
       "324 -2.734680 -3.272298\n",
       "325 -1.723596 -3.414014\n",
       "\n",
       "[326 rows x 2 columns]"
      ]
     },
     "execution_count": 61,
     "metadata": {},
     "output_type": "execute_result"
    }
   ],
   "source": [
    "test_values"
   ]
  },
  {
   "cell_type": "code",
   "execution_count": 18,
   "metadata": {},
   "outputs": [
    {
     "name": "stderr",
     "output_type": "stream",
     "text": [
      "/Users/xiaoqi/opt/anaconda3/envs/mofgraph2vec/lib/python3.8/site-packages/numpy/ma/core.py:2826: FutureWarning: The input object of type 'Tensor' is an array-like implementing one of the corresponding protocols (`__array__`, `__array_interface__` or `__array_struct__`); but not a sequence (or 0-D). In the future, this object will be coerced as if it was first converted using `np.array(obj)`. To retain the old behaviour, you have to either modify the type 'Tensor', or assign to an empty array created with `np.empty(correct_shape, dtype=object)`.\n",
      "  _data = np.array(data, dtype=dtype, copy=copy,\n",
      "/Users/xiaoqi/opt/anaconda3/envs/mofgraph2vec/lib/python3.8/site-packages/numpy/ma/core.py:2826: VisibleDeprecationWarning: Creating an ndarray from ragged nested sequences (which is a list-or-tuple of lists-or-tuples-or ndarrays with different lengths or shapes) is deprecated. If you meant to do this, you must specify 'dtype=object' when creating the ndarray.\n",
      "  _data = np.array(data, dtype=dtype, copy=copy,\n"
     ]
    },
    {
     "data": {
      "text/plain": [
       "<matplotlib.collections.PathCollection at 0x7fa33c977880>"
      ]
     },
     "execution_count": 18,
     "metadata": {},
     "output_type": "execute_result"
    },
    {
     "data": {
      "image/png": "[encoded data removed]",
      "text/plain": [
       "<Figure size 640x480 with 1 Axes>"
      ]
     },
     "metadata": {},
     "output_type": "display_data"
    }
   ],
   "source": [
    "plt.scatter(true, pred) #, yerr=pred_std.reshape(-1,))"
   ]
  },
  {
   "attachments": {},
   "cell_type": "markdown",
   "metadata": {},
   "source": [
    "# Get embedding"
   ]
  },
  {
   "cell_type": "code",
   "execution_count": 10,
   "metadata": {},
   "outputs": [
    {
     "name": "stderr",
     "output_type": "stream",
     "text": [
      "/Users/xiaoqi/opt/anaconda3/envs/mofgraph2vec/lib/python3.8/site-packages/pytorch_lightning/utilities/parsing.py:262: UserWarning: Attribute 'model' is an instance of `nn.Module` and is already saved during checkpointing. It is recommended to ignore them using `self.save_hyperparameters(ignore=['model'])`.\n",
      "  rank_zero_warn(\n"
     ]
    }
   ],
   "source": [
    "loaded_model = VecLightningModule.load_from_checkpoint(\"lightning_logs/version_6/checkpoints/epoch=49-step=2100.ckpt\")"
   ]
  },
  {
   "cell_type": "code",
   "execution_count": null,
   "metadata": {},
   "outputs": [],
   "source": [
    "pl_model.model.eval()\n",
    "params = pl_model.model.parameters()"
   ]
  },
  {
   "cell_type": "code",
   "execution_count": null,
   "metadata": {},
   "outputs": [],
   "source": [
    "pl_model.model.embedding.weight"
   ]
  },
  {
   "cell_type": "code",
   "execution_count": null,
   "metadata": {},
   "outputs": [],
   "source": [
    "df_vector = pd.read_csv(\"../data/embedding_example/embedding-dv.csv\").set_index(\"type\")"
   ]
  },
  {
   "cell_type": "code",
   "execution_count": null,
   "metadata": {},
   "outputs": [],
   "source": [
    "vec = torch.Tensor(df_vector.loc[\"RSM0001\"].values)"
   ]
  },
  {
   "cell_type": "code",
   "execution_count": null,
   "metadata": {},
   "outputs": [],
   "source": [
    "embedd_vec = pl_model.model.get_embedding(vec).detach().numpy()"
   ]
  },
  {
   "cell_type": "code",
   "execution_count": null,
   "metadata": {},
   "outputs": [],
   "source": [
    "plt.scatter(vec, embedd_vec)"
   ]
  },
  {
   "cell_type": "code",
   "execution_count": null,
   "metadata": {},
   "outputs": [],
   "source": []
  }
 ],
 "metadata": {
  "kernelspec": {
   "display_name": "mofgraph2vec",
   "language": "python",
   "name": "python3"
  },
  "language_info": {
   "codemirror_mode": {
    "name": "ipython",
    "version": 3
   },
   "file_extension": ".py",
   "mimetype": "text/x-python",
   "name": "python",
   "nbconvert_exporter": "python",
   "pygments_lexer": "ipython3",
   "version": "3.8.16"
  },
  "orig_nbformat": 4,
  "vscode": {
   "interpreter": {
    "hash": "368a83da866b9402d886ea1b61fd69704c8f3d8a9de7c33a5da24e5026c853b5"
   }
  }
 },
 "nbformat": 4,
 "nbformat_minor": 2
}
