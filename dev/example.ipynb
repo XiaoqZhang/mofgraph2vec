{
 "cells": [
  {
   "cell_type": "code",
   "execution_count": 1,
   "metadata": {},
   "outputs": [],
   "source": [
    "from gensim.models.doc2vec import Doc2Vec\n",
    "from mofgraph2vec.featurize.mof2doc import MOF2doc"
   ]
  },
  {
   "cell_type": "code",
   "execution_count": 2,
   "metadata": {},
   "outputs": [],
   "source": [
    "MODEl_PATH = \"../../data/pretrained_models/arc/embedding_model.pt\" # path to the downloaded pre-trained model\n",
    "arc_model = Doc2Vec.load(MODEl_PATH)"
   ]
  },
  {
   "cell_type": "code",
   "execution_count": 3,
   "metadata": {},
   "outputs": [
    {
     "data": {
      "text/plain": [
       "[('DB0-m29_o99_o510_f0_pts.sym.10_repeat', 0.9925633072853088),\n",
       " ('DB0-m29_o99_o51_f0_pts.sym.11_repeat', 0.9919106960296631),\n",
       " ('DB0-m29_o99_o109_f0_pts.sym.67_repeat', 0.9912633895874023),\n",
       " ('DB0-m29_o90_o44_f0_pts.sym.16_repeat', 0.9910812377929688),\n",
       " ('DB0-m29_o99_o86_f0_pts.sym.10_repeat', 0.9900442361831665),\n",
       " ('DB0-m29_o88_o90_f0_pts.sym.18_repeat', 0.9897626638412476),\n",
       " ('DB0-m29_o90_o83_f0_pts.sym.12_repeat', 0.9895037412643433),\n",
       " ('DB0-m29_o90_o51_f0_pts.sym.15_repeat', 0.9890480637550354),\n",
       " ('DB0-m29_o99_o430_f0_pts.sym.63_repeat', 0.9882462620735168),\n",
       " ('DB0-m29_o99_o1510_f0_pts.sym.5_repeat', 0.9882069230079651)]"
      ]
     },
     "execution_count": 3,
     "metadata": {},
     "output_type": "execute_result"
    }
   ],
   "source": [
    "recommendations = arc_model.dv.most_similar(\"DB0-m29_o99_o43_f0_pts.sym.9_repeat\", topn=10)\n",
    "recommendations"
   ]
  },
  {
   "cell_type": "code",
   "execution_count": null,
   "metadata": {},
   "outputs": [],
   "source": []
  }
 ],
 "metadata": {
  "kernelspec": {
   "display_name": "mofgraph2vec",
   "language": "python",
   "name": "python3"
  },
  "language_info": {
   "codemirror_mode": {
    "name": "ipython",
    "version": 3
   },
   "file_extension": ".py",
   "mimetype": "text/x-python",
   "name": "python",
   "nbconvert_exporter": "python",
   "pygments_lexer": "ipython3",
   "version": "3.8.16"
  }
 },
 "nbformat": 4,
 "nbformat_minor": 2
}
