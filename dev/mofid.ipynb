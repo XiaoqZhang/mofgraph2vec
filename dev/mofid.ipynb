{
 "cells": [
  {
   "cell_type": "code",
   "execution_count": 1,
   "metadata": {},
   "outputs": [],
   "source": [
    "import os\n",
    "from tqdm import tqdm\n",
    "import numpy as np\n",
    "from collections import Counter\n",
    "from gensim.models.doc2vec import Doc2Vec, TaggedDocument\n",
    "from mofgraph2vec.utils.saving import save_embedding"
   ]
  },
  {
   "cell_type": "code",
   "execution_count": 2,
   "metadata": {},
   "outputs": [],
   "source": [
    "def smi_tokenizer(smi):\n",
    "    \"\"\"\n",
    "    Tokenize a SMILES molecule or reaction\n",
    "    \"\"\"\n",
    "    import re\n",
    "    pattern =  \"(\\[[^\\]]+]|Br?|Cl?|N|O|S|P|F|I|b|c|n|o|s|p|\\(|\\)|\\.|=|#|-|\\+|\\\\\\\\|\\/|:|~|@|\\?|>|\\*|\\$|\\%[0-9]{2}|[0-9])\"\n",
    "    regex = re.compile(pattern)\n",
    "    tokens = [token for token in regex.findall(smi)]\n",
    "    assert smi == ''.join(tokens)\n",
    "    return ' '.join(tokens)"
   ]
  },
  {
   "cell_type": "code",
   "execution_count": 13,
   "metadata": {},
   "outputs": [
    {
     "name": "stderr",
     "output_type": "stream",
     "text": [
      "100%|██████████| 3254/3254 [00:00<00:00, 3368.94it/s]\n",
      "100%|██████████| 20375/20375 [00:07<00:00, 2652.88it/s]\n"
     ]
    }
   ],
   "source": [
    "cif_path = [\"../data/bbs\", \"../data/bbs_qmof/\"]\n",
    "\n",
    "ori_mofids = []\n",
    "cif_names = []\n",
    "for path in cif_path:\n",
    "    cif_list = os.listdir(path)\n",
    "    for c in tqdm(cif_list):\n",
    "        with open(os.path.join(path, c, \"python_mofid.txt\")) as file:\n",
    "            ori_mofids.append(file.readline().split()[0])\n",
    "            cif_names.append(c.rstrip(\".cif\"))"
   ]
  },
  {
   "cell_type": "code",
   "execution_count": 14,
   "metadata": {},
   "outputs": [],
   "source": [
    "tok_mofids = [smi_tokenizer(id).split() for id in ori_mofids]"
   ]
  },
  {
   "cell_type": "code",
   "execution_count": 15,
   "metadata": {},
   "outputs": [
    {
     "data": {
      "text/plain": [
       "(23629, 23629)"
      ]
     },
     "execution_count": 15,
     "metadata": {},
     "output_type": "execute_result"
    }
   ],
   "source": [
    "len(tok_mofids), len(cif_names)"
   ]
  },
  {
   "cell_type": "code",
   "execution_count": 19,
   "metadata": {},
   "outputs": [],
   "source": [
    "documents = []\n",
    "for i, tok in enumerate(tok_mofids):\n",
    "    documents.append(TaggedDocument(words=tok, tags=[cif_names[i].rstrip(\".cif\")]))"
   ]
  },
  {
   "cell_type": "code",
   "execution_count": 26,
   "metadata": {},
   "outputs": [],
   "source": [
    "model = Doc2Vec(\n",
    "    documents, vector_size=500, window=50, min_count=0, workers=4, alpha=3e-2\n",
    ")\n",
    "\n",
    "model.build_vocab(documents)\n"
   ]
  },
  {
   "cell_type": "code",
   "execution_count": 27,
   "metadata": {},
   "outputs": [],
   "source": [
    "model.train(documents, total_examples=model.corpus_count, epochs=150)"
   ]
  },
  {
   "cell_type": "code",
   "execution_count": 28,
   "metadata": {},
   "outputs": [
    {
     "name": "stderr",
     "output_type": "stream",
     "text": [
      "2023-06-09 11:58:41.777 | DEBUG    | mofgraph2vec.utils.saving:save_embedding:50 - Pass to DataFrame\n",
      "2023-06-09 11:58:44.830 | DEBUG    | mofgraph2vec.utils.saving:save_embedding:52 - Sort values\n",
      "2023-06-09 11:58:44.867 | DEBUG    | mofgraph2vec.utils.saving:save_embedding:54 - Save to csv\n",
      "2023-06-09 11:58:52.844 | DEBUG    | mofgraph2vec.utils.saving:save_embedding:56 - Finished\n"
     ]
    }
   ],
   "source": [
    "save_embedding(\n",
    "    True,\n",
    "    \"./\", \n",
    "    model, \n",
    "    documents, \n",
    "    500, \n",
    "    None,\n",
    "    None\n",
    ")"
   ]
  },
  {
   "cell_type": "code",
   "execution_count": null,
   "metadata": {},
   "outputs": [],
   "source": []
  }
 ],
 "metadata": {
  "kernelspec": {
   "display_name": "Python 3",
   "language": "python",
   "name": "python3"
  },
  "language_info": {
   "codemirror_mode": {
    "name": "ipython",
    "version": 3
   },
   "file_extension": ".py",
   "mimetype": "text/x-python",
   "name": "python",
   "nbconvert_exporter": "python",
   "pygments_lexer": "ipython3",
   "version": "3.8.16"
  },
  "orig_nbformat": 4
 },
 "nbformat": 4,
 "nbformat_minor": 2
}
