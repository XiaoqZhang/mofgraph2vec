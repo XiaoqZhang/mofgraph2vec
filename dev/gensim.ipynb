{
 "cells": [
  {
   "cell_type": "code",
   "execution_count": 1,
   "metadata": {},
   "outputs": [],
   "source": [
    "import os\n",
    "import json\n",
    "import re\n",
    "from hydra.utils import instantiate\n",
    "from loguru import logger\n",
    "from omegaconf import DictConfig\n",
    "from pymatgen.core import Structure\n",
    "from tqdm import tqdm\n",
    "from collections import Counter\n",
    "\n",
    "from gensim.models.doc2vec import Doc2Vec\n",
    "from mofgraph2vec.utils.saving import save_embedding\n",
    "from sklearn.model_selection import train_test_split\n",
    "from gensim.models.doc2vec import TaggedDocument\n",
    "from mofgraph2vec.utils.saving import save_embedding"
   ]
  },
  {
   "cell_type": "code",
   "execution_count": 2,
   "metadata": {},
   "outputs": [],
   "source": [
    "with open(\"./rsm_bb.json\") as file:\n",
    "    bb_data = json.load(file)"
   ]
  },
  {
   "cell_type": "code",
   "execution_count": 3,
   "metadata": {},
   "outputs": [
    {
     "data": {
      "text/plain": [
       "3143"
      ]
     },
     "execution_count": 3,
     "metadata": {},
     "output_type": "execute_result"
    }
   ],
   "source": [
    "len(bb_data)"
   ]
  },
  {
   "cell_type": "code",
   "execution_count": 4,
   "metadata": {},
   "outputs": [
    {
     "name": "stderr",
     "output_type": "stream",
     "text": [
      "6it [00:00, 30.81it/s]/Users/xiaoqi/opt/miniconda3/envs/mofgraph2vec/lib/python3.8/site-packages/pymatgen/io/cif.py:1147: UserWarning: Issues encountered while parsing CIF: Some fractional coordinates rounded to ideal values to avoid issues with finite precision.\n",
      "  warnings.warn(\"Issues encountered while parsing CIF: \" + \"\\n\".join(self.warnings))\n",
      "3143it [01:19, 39.66it/s]\n"
     ]
    }
   ],
   "source": [
    "documents = []\n",
    "for i, data in tqdm(enumerate(bb_data)):\n",
    "    py_cif = Structure.from_file(os.path.join(\"../data/cifs/rsm/\", bb_data[i][\"name\"]+\".cif\"))\n",
    "    composition = str(py_cif.composition).split()\n",
    "    opt = re.compile(\"([a-zA-Z]+)([0-9]+)\")\n",
    "    composition = [opt.match(c).groups() for c in composition]\n",
    "    nodes = list(Counter(bb_data[i][\"nodes\"]).keys())\n",
    "    linkers = list(Counter(bb_data[i][\"linkers\"]).keys())\n",
    "    words = composition + nodes + linkers\n",
    "\n",
    "    doc = TaggedDocument(words=words, tags=[bb_data[i][\"name\"]])\n",
    "    documents.append(doc)"
   ]
  },
  {
   "cell_type": "code",
   "execution_count": 5,
   "metadata": {},
   "outputs": [
    {
     "data": {
      "text/plain": [
       "TaggedDocument(words=[('Cu', '6'), ('H', '36'), ('C', '84'), ('O', '24'), '[C]1O[Cu]234O[C]O[Cu]2(O1)(O[C]O3)O[C]O4', '[O]C(=O)c1cc(C([O])=O)cc(C2=Cc3cc4c(cc3=C2)C=C(c2cc(C([O])=O)cc(C([O])=O)c2)C=4)c1'], tags=['RSM1933'])"
      ]
     },
     "execution_count": 5,
     "metadata": {},
     "output_type": "execute_result"
    }
   ],
   "source": [
    "documents[2]"
   ]
  },
  {
   "cell_type": "code",
   "execution_count": 6,
   "metadata": {},
   "outputs": [],
   "source": [
    "model = Doc2Vec(\n",
    "    vector_size = 128,\n",
    "    window = 100,\n",
    "    min_count = 0,\n",
    "    dm = 1,\n",
    "    sample = 1.0,\n",
    "    workers = 4,\n",
    "    alpha = 1.5e-2,\n",
    "    epochs = 100,\n",
    "    seed = 1234\n",
    ")\n",
    "model.build_vocab(documents)"
   ]
  },
  {
   "cell_type": "code",
   "execution_count": 7,
   "metadata": {},
   "outputs": [],
   "source": [
    "model.train(\n",
    "    documents, \n",
    "    total_examples=model.corpus_count, \n",
    "    epochs=model.epochs, \n",
    ")"
   ]
  },
  {
   "cell_type": "code",
   "execution_count": 8,
   "metadata": {},
   "outputs": [],
   "source": [
    "save_embedding(\n",
    "    True,\n",
    "    \"test/tmp/\", \n",
    "    model, \n",
    "    documents, \n",
    "    model.vector_size,\n",
    "    None,\n",
    "    None\n",
    "    )"
   ]
  },
  {
   "cell_type": "code",
   "execution_count": null,
   "metadata": {},
   "outputs": [],
   "source": []
  }
 ],
 "metadata": {
  "kernelspec": {
   "display_name": "Python 3",
   "language": "python",
   "name": "python3"
  },
  "language_info": {
   "codemirror_mode": {
    "name": "ipython",
    "version": 3
   },
   "file_extension": ".py",
   "mimetype": "text/x-python",
   "name": "python",
   "nbconvert_exporter": "python",
   "pygments_lexer": "ipython3",
   "version": "3.8.16"
  },
  "orig_nbformat": 4
 },
 "nbformat": 4,
 "nbformat_minor": 2
}
