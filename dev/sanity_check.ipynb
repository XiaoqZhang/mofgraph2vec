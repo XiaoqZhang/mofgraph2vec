{
 "cells": [
  {
   "cell_type": "code",
   "execution_count": 1,
   "metadata": {},
   "outputs": [],
   "source": [
    "%load_ext autoreload\n",
    "%autoreload 2"
   ]
  },
  {
   "cell_type": "code",
   "execution_count": 2,
   "metadata": {},
   "outputs": [
    {
     "name": "stderr",
     "output_type": "stream",
     "text": [
      "/home/xiazhang/anaconda3/envs/mof2vec/lib/python3.8/site-packages/tqdm/auto.py:22: TqdmWarning: IProgress not found. Please update jupyter and ipywidgets. See https://ipywidgets.readthedocs.io/en/stable/user_install.html\n",
      "  from .autonotebook import tqdm as notebook_tqdm\n"
     ]
    }
   ],
   "source": [
    "from mofgraph2vec.data.datamodule import DataModuleFactory\n",
    "from omegaconf import OmegaConf\n",
    "import matplotlib.pyplot as plt\n",
    "import torch\n",
    "import numpy as np\n",
    "import pickle"
   ]
  },
  {
   "cell_type": "code",
   "execution_count": 3,
   "metadata": {},
   "outputs": [],
   "source": [
    "config = OmegaConf.load(\"../conf/config.yaml\")\n",
    "config.doc2label_data = OmegaConf.load(\"../conf/doc2label_data/rsm.yaml\")\n",
    "config.doc2label_model = OmegaConf.load(\"../conf/doc2label_model/ensemble.yaml\")"
   ]
  },
  {
   "cell_type": "code",
   "execution_count": 4,
   "metadata": {},
   "outputs": [],
   "source": [
    "config.doc2label_data.label_path = \"../data/data.csv\"\n",
    "config.doc2label_data.embedding_path = \"/scratch/xiazhang/mofgraph2vec/experiments/workflow/wandb/run-20230214_040352-7k3fr8qv/tmp/embedding.csv\""
   ]
  },
  {
   "cell_type": "code",
   "execution_count": 5,
   "metadata": {},
   "outputs": [
    {
     "name": "stderr",
     "output_type": "stream",
     "text": [
      "2023-02-14 09:08:53.115 | INFO     | mofgraph2vec.data.datamodule:__init__:64 - Train: 2637 Valid: 294 Test: 326\n"
     ]
    }
   ],
   "source": [
    "dmf = DataModuleFactory(**config.doc2label_data)"
   ]
  },
  {
   "cell_type": "code",
   "execution_count": 6,
   "metadata": {},
   "outputs": [],
   "source": [
    "train_ds = dmf.get_train_dataset()\n",
    "valid_ds = dmf.get_valid_dataset()\n",
    "test_ds = dmf.get_test_dataset()"
   ]
  },
  {
   "cell_type": "code",
   "execution_count": 7,
   "metadata": {},
   "outputs": [],
   "source": [
    "model = pickle.load(open(\"/scratch/xiazhang/mofgraph2vec/experiments/workflow/wandb/run-20230214_040352-7k3fr8qv/files/../tmp/best_model.pkl\", 'rb'))"
   ]
  },
  {
   "cell_type": "code",
   "execution_count": 14,
   "metadata": {},
   "outputs": [],
   "source": [
    "pred = model.get_prediction(train_ds.vectors, transform=dmf.transform, target_transform=dmf.target_transform)"
   ]
  },
  {
   "cell_type": "code",
   "execution_count": 13,
   "metadata": {},
   "outputs": [],
   "source": [
    "trues = train_ds.labels"
   ]
  },
  {
   "cell_type": "code",
   "execution_count": 15,
   "metadata": {},
   "outputs": [
    {
     "data": {
      "text/plain": [
       "[<matplotlib.lines.Line2D at 0x7f30a9e77190>]"
      ]
     },
     "execution_count": 15,
     "metadata": {},
     "output_type": "execute_result"
    },
    {
     "data": {
      "image/png": "[encoded data removed]",
      "text/plain": [
       "<Figure size 640x480 with 1 Axes>"
      ]
     },
     "metadata": {},
     "output_type": "display_data"
    }
   ],
   "source": [
    "plt.scatter(trues, pred)\n",
    "plt.plot([0,1.0], [0,1.0], \"r--\")"
   ]
  },
  {
   "cell_type": "code",
   "execution_count": 17,
   "metadata": {},
   "outputs": [
    {
     "data": {
      "text/plain": [
       "{'test_mse': 28.339534667764365,\n",
       " 'test_mae': 5.322275696646677,\n",
       " 'test_r2': -136470.9404755959}"
      ]
     },
     "execution_count": 17,
     "metadata": {},
     "output_type": "execute_result"
    }
   ],
   "source": [
    "model.test(train_ds.vectors, train_ds.labels, dmf.transform, dmf.target_transform)"
   ]
  },
  {
   "cell_type": "code",
   "execution_count": null,
   "metadata": {},
   "outputs": [],
   "source": []
  }
 ],
 "metadata": {
  "kernelspec": {
   "display_name": "mof2vec",
   "language": "python",
   "name": "python3"
  },
  "language_info": {
   "codemirror_mode": {
    "name": "ipython",
    "version": 3
   },
   "file_extension": ".py",
   "mimetype": "text/x-python",
   "name": "python",
   "nbconvert_exporter": "python",
   "pygments_lexer": "ipython3",
   "version": "3.8.16"
  },
  "orig_nbformat": 4,
  "vscode": {
   "interpreter": {
    "hash": "eeeee70f966c7589f9014bee21db8061dc5e8e86b7feeeeb6b6b598ff33a3614"
   }
  }
 },
 "nbformat": 4,
 "nbformat_minor": 2
}
