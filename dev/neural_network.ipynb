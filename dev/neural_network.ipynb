{
 "cells": [
  {
   "cell_type": "code",
   "execution_count": 2,
   "metadata": {},
   "outputs": [],
   "source": [
    "import torch\n",
    "import torch.nn as nn\n",
    "import torch.nn.functional as F\n",
    "import pandas as pd\n",
    "import matplotlib.pyplot as plt\n",
    "from sklearn.model_selection import train_test_split\n",
    "from sklearn.preprocessing import MinMaxScaler\n",
    "from sklearn.metrics import mean_squared_error\n",
    "from sklearn.kernel_ridge import KernelRidge"
   ]
  },
  {
   "cell_type": "code",
   "execution_count": 61,
   "metadata": {},
   "outputs": [],
   "source": [
    "embedding_path = \"../experiments/workflow/wandb/offline-run-20230511_222802-32gyt2yh/tmp/embedding_dv.csv\"\n",
    "label_path = \"../data/data.csv\"\n",
    "id_column = \"cif.label\"\n",
    "target = \"logKH_CO2\""
   ]
  },
  {
   "cell_type": "code",
   "execution_count": 62,
   "metadata": {},
   "outputs": [
    {
     "data": {
      "text/html": [
       "<div>\n",
       "<style scoped>\n",
       "    .dataframe tbody tr th:only-of-type {\n",
       "        vertical-align: middle;\n",
       "    }\n",
       "\n",
       "    .dataframe tbody tr th {\n",
       "        vertical-align: top;\n",
       "    }\n",
       "\n",
       "    .dataframe thead th {\n",
       "        text-align: right;\n",
       "    }\n",
       "</style>\n",
       "<table border=\"1\" class=\"dataframe\">\n",
       "  <thead>\n",
       "    <tr style=\"text-align: right;\">\n",
       "      <th></th>\n",
       "      <th>type</th>\n",
       "      <th>x_0</th>\n",
       "      <th>x_1</th>\n",
       "      <th>x_2</th>\n",
       "      <th>x_3</th>\n",
       "      <th>x_4</th>\n",
       "      <th>x_5</th>\n",
       "      <th>x_6</th>\n",
       "      <th>x_7</th>\n",
       "      <th>x_8</th>\n",
       "      <th>...</th>\n",
       "      <th>x_119</th>\n",
       "      <th>x_120</th>\n",
       "      <th>x_121</th>\n",
       "      <th>x_122</th>\n",
       "      <th>x_123</th>\n",
       "      <th>x_124</th>\n",
       "      <th>x_125</th>\n",
       "      <th>x_126</th>\n",
       "      <th>x_127</th>\n",
       "      <th>logKH_CO2</th>\n",
       "    </tr>\n",
       "  </thead>\n",
       "  <tbody>\n",
       "    <tr>\n",
       "      <th>0</th>\n",
       "      <td>RSM0001</td>\n",
       "      <td>0.102612</td>\n",
       "      <td>0.072050</td>\n",
       "      <td>-0.034977</td>\n",
       "      <td>0.004111</td>\n",
       "      <td>0.114863</td>\n",
       "      <td>-0.081922</td>\n",
       "      <td>-0.015612</td>\n",
       "      <td>0.295485</td>\n",
       "      <td>-0.319612</td>\n",
       "      <td>...</td>\n",
       "      <td>-0.034360</td>\n",
       "      <td>0.089289</td>\n",
       "      <td>-0.130934</td>\n",
       "      <td>0.382795</td>\n",
       "      <td>0.065420</td>\n",
       "      <td>-0.051555</td>\n",
       "      <td>-0.136035</td>\n",
       "      <td>-0.421288</td>\n",
       "      <td>0.019107</td>\n",
       "      <td>-3.804233</td>\n",
       "    </tr>\n",
       "    <tr>\n",
       "      <th>1</th>\n",
       "      <td>RSM0002</td>\n",
       "      <td>0.346892</td>\n",
       "      <td>0.481182</td>\n",
       "      <td>0.038204</td>\n",
       "      <td>-0.232912</td>\n",
       "      <td>0.034055</td>\n",
       "      <td>-0.120156</td>\n",
       "      <td>-0.246855</td>\n",
       "      <td>0.085906</td>\n",
       "      <td>-0.177270</td>\n",
       "      <td>...</td>\n",
       "      <td>-0.087687</td>\n",
       "      <td>-0.058271</td>\n",
       "      <td>0.007946</td>\n",
       "      <td>0.094269</td>\n",
       "      <td>0.188917</td>\n",
       "      <td>0.076348</td>\n",
       "      <td>-0.260514</td>\n",
       "      <td>0.153950</td>\n",
       "      <td>-0.123107</td>\n",
       "      <td>-3.239400</td>\n",
       "    </tr>\n",
       "    <tr>\n",
       "      <th>2</th>\n",
       "      <td>RSM0003</td>\n",
       "      <td>0.221942</td>\n",
       "      <td>0.434560</td>\n",
       "      <td>0.073304</td>\n",
       "      <td>-0.249969</td>\n",
       "      <td>-0.120470</td>\n",
       "      <td>-0.152858</td>\n",
       "      <td>-0.241768</td>\n",
       "      <td>0.278346</td>\n",
       "      <td>-0.377520</td>\n",
       "      <td>...</td>\n",
       "      <td>0.149407</td>\n",
       "      <td>-0.111832</td>\n",
       "      <td>0.145833</td>\n",
       "      <td>0.256955</td>\n",
       "      <td>0.133413</td>\n",
       "      <td>0.014466</td>\n",
       "      <td>-0.380352</td>\n",
       "      <td>0.115316</td>\n",
       "      <td>-0.211523</td>\n",
       "      <td>-3.717419</td>\n",
       "    </tr>\n",
       "    <tr>\n",
       "      <th>3</th>\n",
       "      <td>RSM0004</td>\n",
       "      <td>0.414539</td>\n",
       "      <td>0.253319</td>\n",
       "      <td>-0.035338</td>\n",
       "      <td>-0.072951</td>\n",
       "      <td>0.259356</td>\n",
       "      <td>0.054976</td>\n",
       "      <td>0.022072</td>\n",
       "      <td>0.224314</td>\n",
       "      <td>-0.340947</td>\n",
       "      <td>...</td>\n",
       "      <td>-0.030032</td>\n",
       "      <td>0.029633</td>\n",
       "      <td>0.244588</td>\n",
       "      <td>0.179329</td>\n",
       "      <td>0.118986</td>\n",
       "      <td>-0.141401</td>\n",
       "      <td>-0.093432</td>\n",
       "      <td>-0.166796</td>\n",
       "      <td>-0.263204</td>\n",
       "      <td>-3.269990</td>\n",
       "    </tr>\n",
       "    <tr>\n",
       "      <th>4</th>\n",
       "      <td>RSM0008</td>\n",
       "      <td>0.237583</td>\n",
       "      <td>0.375270</td>\n",
       "      <td>0.006462</td>\n",
       "      <td>0.009740</td>\n",
       "      <td>-0.009141</td>\n",
       "      <td>-0.079222</td>\n",
       "      <td>-0.103903</td>\n",
       "      <td>-0.073470</td>\n",
       "      <td>-0.001866</td>\n",
       "      <td>...</td>\n",
       "      <td>0.053949</td>\n",
       "      <td>-0.052754</td>\n",
       "      <td>0.187827</td>\n",
       "      <td>0.167157</td>\n",
       "      <td>0.151249</td>\n",
       "      <td>-0.156836</td>\n",
       "      <td>0.026840</td>\n",
       "      <td>0.101744</td>\n",
       "      <td>-0.112862</td>\n",
       "      <td>-0.954231</td>\n",
       "    </tr>\n",
       "  </tbody>\n",
       "</table>\n",
       "<p>5 rows × 130 columns</p>\n",
       "</div>"
      ],
      "text/plain": [
       "      type       x_0       x_1       x_2       x_3       x_4       x_5  \\\n",
       "0  RSM0001  0.102612  0.072050 -0.034977  0.004111  0.114863 -0.081922   \n",
       "1  RSM0002  0.346892  0.481182  0.038204 -0.232912  0.034055 -0.120156   \n",
       "2  RSM0003  0.221942  0.434560  0.073304 -0.249969 -0.120470 -0.152858   \n",
       "3  RSM0004  0.414539  0.253319 -0.035338 -0.072951  0.259356  0.054976   \n",
       "4  RSM0008  0.237583  0.375270  0.006462  0.009740 -0.009141 -0.079222   \n",
       "\n",
       "        x_6       x_7       x_8  ...     x_119     x_120     x_121     x_122  \\\n",
       "0 -0.015612  0.295485 -0.319612  ... -0.034360  0.089289 -0.130934  0.382795   \n",
       "1 -0.246855  0.085906 -0.177270  ... -0.087687 -0.058271  0.007946  0.094269   \n",
       "2 -0.241768  0.278346 -0.377520  ...  0.149407 -0.111832  0.145833  0.256955   \n",
       "3  0.022072  0.224314 -0.340947  ... -0.030032  0.029633  0.244588  0.179329   \n",
       "4 -0.103903 -0.073470 -0.001866  ...  0.053949 -0.052754  0.187827  0.167157   \n",
       "\n",
       "      x_123     x_124     x_125     x_126     x_127  logKH_CO2  \n",
       "0  0.065420 -0.051555 -0.136035 -0.421288  0.019107  -3.804233  \n",
       "1  0.188917  0.076348 -0.260514  0.153950 -0.123107  -3.239400  \n",
       "2  0.133413  0.014466 -0.380352  0.115316 -0.211523  -3.717419  \n",
       "3  0.118986 -0.141401 -0.093432 -0.166796 -0.263204  -3.269990  \n",
       "4  0.151249 -0.156836  0.026840  0.101744 -0.112862  -0.954231  \n",
       "\n",
       "[5 rows x 130 columns]"
      ]
     },
     "execution_count": 62,
     "metadata": {},
     "output_type": "execute_result"
    }
   ],
   "source": [
    "df = pd.read_csv(embedding_path)\n",
    "df_label = pd.read_csv(label_path)\n",
    "df_label = df_label.rename(columns={id_column: \"type\"})\n",
    "subdf_label = df_label[[\"type\", target]]\n",
    "df = df.merge(subdf_label)\n",
    "df.head()"
   ]
  },
  {
   "cell_type": "code",
   "execution_count": 5,
   "metadata": {},
   "outputs": [],
   "source": [
    "X = df.drop(['type', target], axis=1).values\n",
    "y = df[target].values\n",
    "X_train, X_test, y_train, y_test = train_test_split(X, y, test_size=0.2, random_state=42)\n",
    "# Random state ensures that the splits that you generate are reproducible. \n",
    "# Scikit-learn uses random permutations to generate the splits. \n",
    "# The random state that you provide is used as a seed to the random number generator.\n",
    "# This ensures that the random numbers are generated in the same order."
   ]
  },
  {
   "cell_type": "code",
   "execution_count": 63,
   "metadata": {},
   "outputs": [],
   "source": [
    "x_scaler = MinMaxScaler().fit(X_train)\n",
    "y_scaler = MinMaxScaler().fit(y_train.reshape(-1,1))\n",
    "\n",
    "X_train_scaled = x_scaler.transform(X_train)\n",
    "y_train_scaled = y_scaler.transform(y_train.reshape(-1,1))\n",
    "\n",
    "X_test_scaled = x_scaler.transform(X_test)\n",
    "y_test_scaled = y_scaler.transform(y_test.reshape(-1,1))"
   ]
  },
  {
   "cell_type": "code",
   "execution_count": 50,
   "metadata": {},
   "outputs": [],
   "source": [
    "X_train = torch.FloatTensor(X_train)\n",
    "X_train_scaled = torch.FloatTensor(X_train_scaled)\n",
    "X_test = torch.FloatTensor(X_test)\n",
    "X_test_scaled = torch.FloatTensor(X_test_scaled)\n",
    "\n",
    "y_train = torch.FloatTensor(y_train)\n",
    "y_train_scaled = torch.FloatTensor(y_train_scaled)\n",
    "y_test = torch.FloatTensor(y_test)\n",
    "y_test_scaled = torch.FloatTensor(y_test_scaled)"
   ]
  },
  {
   "cell_type": "code",
   "execution_count": 51,
   "metadata": {},
   "outputs": [],
   "source": [
    "class ANN(nn.Module):\n",
    "    def __init__(self):\n",
    "        super().__init__()\n",
    "        self.fc1 = nn.Linear(in_features=512, out_features=1000)\n",
    "        self.fc2 = nn.Linear(in_features=1000, out_features=1000)\n",
    "        self.fc3 = nn.Linear(in_features=1000, out_features=1000)\n",
    "        self.fc4 = nn.Linear(in_features=1000, out_features=1000)\n",
    "        self.output = nn.Linear(in_features=1000, out_features=1)\n",
    " \n",
    "    def forward(self, x):\n",
    "        x = F.relu(self.fc1(x))\n",
    "        x = F.relu(self.fc2(x))\n",
    "        x = F.relu(self.fc3(x))\n",
    "        x = F.relu(self.fc4(x))\n",
    "        x = self.output(x)\n",
    "        return x"
   ]
  },
  {
   "cell_type": "code",
   "execution_count": 71,
   "metadata": {},
   "outputs": [
    {
     "data": {
      "text/plain": [
       "ANN(\n",
       "  (fc1): Linear(in_features=512, out_features=1000, bias=True)\n",
       "  (fc2): Linear(in_features=1000, out_features=1000, bias=True)\n",
       "  (fc3): Linear(in_features=1000, out_features=1000, bias=True)\n",
       "  (fc4): Linear(in_features=1000, out_features=1000, bias=True)\n",
       "  (output): Linear(in_features=1000, out_features=1, bias=True)\n",
       ")"
      ]
     },
     "execution_count": 71,
     "metadata": {},
     "output_type": "execute_result"
    }
   ],
   "source": [
    "model = ANN()\n",
    "model"
   ]
  },
  {
   "cell_type": "code",
   "execution_count": 73,
   "metadata": {},
   "outputs": [],
   "source": [
    "criterion = nn.MSELoss()\n",
    "optimizer = torch.optim.Adam(model.parameters(), lr=0.9e-3)"
   ]
  },
  {
   "cell_type": "code",
   "execution_count": 72,
   "metadata": {},
   "outputs": [
    {
     "name": "stdout",
     "output_type": "stream",
     "text": [
      "Epoch: 0 Loss: 15.04889591623729\n",
      "Epoch: 10 Loss: 15.04889591623729\n",
      "Epoch: 20 Loss: 15.04889591623729\n",
      "Epoch: 30 Loss: 15.04889591623729\n",
      "Epoch: 40 Loss: 15.04889591623729\n",
      "Epoch: 50 Loss: 15.04889591623729\n",
      "Epoch: 60 Loss: 15.04889591623729\n",
      "Epoch: 70 Loss: 15.04889591623729\n",
      "Epoch: 80 Loss: 15.04889591623729\n",
      "Epoch: 90 Loss: 15.04889591623729\n",
      "Epoch: 100 Loss: 15.04889591623729\n",
      "Epoch: 110 Loss: 15.04889591623729\n",
      "Epoch: 120 Loss: 15.04889591623729\n",
      "Epoch: 130 Loss: 15.04889591623729\n",
      "Epoch: 140 Loss: 15.04889591623729\n",
      "Epoch: 150 Loss: 15.04889591623729\n",
      "Epoch: 160 Loss: 15.04889591623729\n",
      "Epoch: 170 Loss: 15.04889591623729\n",
      "Epoch: 180 Loss: 15.04889591623729\n",
      "Epoch: 190 Loss: 15.04889591623729\n",
      "Epoch: 200 Loss: 15.04889591623729\n",
      "Epoch: 210 Loss: 15.04889591623729\n",
      "Epoch: 220 Loss: 15.04889591623729\n",
      "Epoch: 230 Loss: 15.04889591623729\n",
      "Epoch: 240 Loss: 15.04889591623729\n",
      "Epoch: 250 Loss: 15.04889591623729\n",
      "Epoch: 260 Loss: 15.04889591623729\n",
      "Epoch: 270 Loss: 15.04889591623729\n",
      "Epoch: 280 Loss: 15.04889591623729\n",
      "Epoch: 290 Loss: 15.04889591623729\n",
      "Epoch: 300 Loss: 15.04889591623729\n",
      "Epoch: 310 Loss: 15.04889591623729\n",
      "Epoch: 320 Loss: 15.04889591623729\n",
      "Epoch: 330 Loss: 15.04889591623729\n",
      "Epoch: 340 Loss: 15.04889591623729\n",
      "Epoch: 350 Loss: 15.04889591623729\n",
      "Epoch: 360 Loss: 15.04889591623729\n",
      "Epoch: 370 Loss: 15.04889591623729\n",
      "Epoch: 380 Loss: 15.04889591623729\n",
      "Epoch: 390 Loss: 15.04889591623729\n",
      "Epoch: 400 Loss: 15.04889591623729\n",
      "Epoch: 410 Loss: 15.04889591623729\n",
      "Epoch: 420 Loss: 15.04889591623729\n",
      "Epoch: 430 Loss: 15.04889591623729\n",
      "Epoch: 440 Loss: 15.04889591623729\n",
      "Epoch: 450 Loss: 15.04889591623729\n",
      "Epoch: 460 Loss: 15.04889591623729\n",
      "Epoch: 470 Loss: 15.04889591623729\n",
      "Epoch: 480 Loss: 15.04889591623729\n",
      "Epoch: 490 Loss: 15.04889591623729\n"
     ]
    }
   ],
   "source": [
    "epochs = 500\n",
    "loss_arr = []\n",
    "loss_arr_scaled = []\n",
    "\n",
    "for i in range(epochs):\n",
    "    y_hat = model.forward(X_train_scaled)\n",
    "    loss = criterion(y_hat, y_train_scaled.view(-1,1))\n",
    "    loss_arr.append(loss.detach().numpy())\n",
    "    loss_scaled = mean_squared_error(y_scaler.inverse_transform(y_hat.detach().numpy()), y_scaler.inverse_transform(y_train_scaled))\n",
    "    loss_arr_scaled.append(loss_scaled)\n",
    " \n",
    "    if i % 10 == 0:\n",
    "        print(f'Epoch: {i} Loss: {loss_scaled}')\n",
    " \n",
    "    optimizer.zero_grad()\n",
    "    loss.backward()\n",
    "    optimizer.step()"
   ]
  },
  {
   "cell_type": "code",
   "execution_count": 69,
   "metadata": {},
   "outputs": [
    {
     "data": {
      "text/plain": [
       "[<matplotlib.lines.Line2D at 0x28fe51160>]"
      ]
     },
     "execution_count": 69,
     "metadata": {},
     "output_type": "execute_result"
    },
    {
     "data": {
      "image/png": "[encoded data removed]",
      "text/plain": [
       "<Figure size 640x480 with 1 Axes>"
      ]
     },
     "metadata": {},
     "output_type": "display_data"
    }
   ],
   "source": [
    "plt.title('Loss VS Epoch')\n",
    "plt.xlabel(\"Loss\")\n",
    "plt.xlabel(\"Epoch\")\n",
    "plt.plot(loss_arr)"
   ]
  },
  {
   "cell_type": "code",
   "execution_count": 60,
   "metadata": {},
   "outputs": [],
   "source": [
    "preds = []\n",
    "with torch.no_grad():\n",
    "    for val in X_test_scaled:\n",
    "        y_hat = model.forward(val)\n",
    "        preds.append(y_scaler.inverse_transform(y_hat.detach().numpy().reshape(-1,1)))"
   ]
  },
  {
   "cell_type": "code",
   "execution_count": 61,
   "metadata": {},
   "outputs": [
    {
     "data": {
      "text/plain": [
       "<matplotlib.collections.PathCollection at 0x2aa4739d0>"
      ]
     },
     "execution_count": 61,
     "metadata": {},
     "output_type": "execute_result"
    },
    {
     "data": {
      "image/png": "[encoded data removed]",
      "text/plain": [
       "<Figure size 640x480 with 1 Axes>"
      ]
     },
     "metadata": {},
     "output_type": "display_data"
    }
   ],
   "source": [
    "plt.scatter(y_test, preds)\n",
    "#plt.xlim([-7,0])\n",
    "#plt.ylim([-7,0])"
   ]
  },
  {
   "attachments": {},
   "cell_type": "markdown",
   "metadata": {},
   "source": [
    "# KRR"
   ]
  },
  {
   "cell_type": "code",
   "execution_count": 54,
   "metadata": {},
   "outputs": [],
   "source": [
    "from sklearn.metrics import mean_absolute_error, mean_squared_error, r2_score\n",
    "import numpy as np\n",
    "from sklearn.model_selection import RandomizedSearchCV"
   ]
  },
  {
   "cell_type": "code",
   "execution_count": 113,
   "metadata": {},
   "outputs": [],
   "source": [
    "alpha = 0.1\n",
    "gamma = 0.1\n",
    "kernel = 'laplacian'"
   ]
  },
  {
   "cell_type": "code",
   "execution_count": 127,
   "metadata": {},
   "outputs": [],
   "source": [
    "param_grid = {\n",
    "                'alpha': np.logspace(-2, 0, 100),\n",
    "                'gamma': np.logspace(-3, 0, 100)\n",
    "            }"
   ]
  },
  {
   "cell_type": "code",
   "execution_count": 128,
   "metadata": {},
   "outputs": [],
   "source": [
    "krr = KernelRidge(kernel=kernel)\n",
    "random_krr = RandomizedSearchCV(krr, param_distributions=param_grid, n_iter=10,\n",
    "                        cv=10, verbose=2, n_jobs=6\n",
    ")"
   ]
  },
  {
   "cell_type": "code",
   "execution_count": 129,
   "metadata": {},
   "outputs": [
    {
     "name": "stdout",
     "output_type": "stream",
     "text": [
      "Fitting 10 folds for each of 10 candidates, totalling 100 fits\n",
      "[CV] END alpha=0.2848035868435802, gamma=0.01747528400007684; total time=   3.0s\n",
      "[CV] END alpha=0.2848035868435802, gamma=0.01747528400007684; total time=   3.0s\n",
      "[CV] END alpha=0.2848035868435802, gamma=0.01747528400007684; total time=   3.0s\n",
      "[CV] END alpha=0.2848035868435802, gamma=0.01747528400007684; total time=   3.1s\n",
      "[CV] END alpha=0.2848035868435802, gamma=0.01747528400007684; total time=   3.1s\n",
      "[CV] END alpha=0.2848035868435802, gamma=0.01747528400007684; total time=   3.3s\n",
      "[CV] END alpha=0.2848035868435802, gamma=0.01747528400007684; total time=   3.2s\n",
      "[CV] END alpha=0.2848035868435802, gamma=0.01747528400007684; total time=   3.3s\n",
      "[CV] END alpha=0.6579332246575682, gamma=0.004037017258596553; total time=   3.1s\n",
      "[CV] END alpha=0.2848035868435802, gamma=0.01747528400007684; total time=   3.2s\n",
      "[CV] END alpha=0.2848035868435802, gamma=0.01747528400007684; total time=   3.2s\n",
      "[CV] END alpha=0.6579332246575682, gamma=0.004037017258596553; total time=   3.2s\n",
      "[CV] END alpha=0.6579332246575682, gamma=0.004037017258596553; total time=   2.9s\n",
      "[CV] END alpha=0.6579332246575682, gamma=0.004037017258596553; total time=   2.9s\n",
      "[CV] END alpha=0.6579332246575682, gamma=0.004037017258596553; total time=   3.0s\n",
      "[CV] END alpha=0.6579332246575682, gamma=0.004037017258596553; total time=   3.0s\n",
      "[CV] END alpha=0.6579332246575682, gamma=0.004037017258596553; total time=   3.0s\n",
      "[CV] END alpha=0.6579332246575682, gamma=0.004037017258596553; total time=   3.0s\n",
      "[CV] END alpha=0.6579332246575682, gamma=0.004037017258596553; total time=   2.9s\n",
      "[CV] END alpha=0.6579332246575682, gamma=0.004037017258596553; total time=   2.9s\n",
      "[CV] END alpha=0.22570197196339203, gamma=0.010722672220103232; total time=   2.9s\n",
      "[CV] END alpha=0.22570197196339203, gamma=0.010722672220103232; total time=   2.9s\n",
      "[CV] END alpha=0.22570197196339203, gamma=0.010722672220103232; total time=   2.9s\n",
      "[CV] END alpha=0.22570197196339203, gamma=0.010722672220103232; total time=   2.9s\n",
      "[CV] END alpha=0.22570197196339203, gamma=0.010722672220103232; total time=   2.9s\n",
      "[CV] END alpha=0.22570197196339203, gamma=0.010722672220103232; total time=   2.9s\n",
      "[CV] END alpha=0.22570197196339203, gamma=0.010722672220103232; total time=   2.9s\n",
      "[CV] END alpha=0.22570197196339203, gamma=0.010722672220103232; total time=   2.9s\n",
      "[CV] END alpha=0.22570197196339203, gamma=0.010722672220103232; total time=   2.9s\n",
      "[CV] END alpha=0.22570197196339203, gamma=0.010722672220103232; total time=   2.9s\n",
      "[CV] END alpha=0.41320124001153385, gamma=0.0037649358067924675; total time=   2.9s\n",
      "[CV] END alpha=0.41320124001153385, gamma=0.0037649358067924675; total time=   2.9s\n",
      "[CV] END alpha=0.41320124001153385, gamma=0.0037649358067924675; total time=   2.9s\n",
      "[CV] END alpha=0.41320124001153385, gamma=0.0037649358067924675; total time=   2.9s\n",
      "[CV] END alpha=0.41320124001153385, gamma=0.0037649358067924675; total time=   2.9s\n",
      "[CV] END alpha=0.41320124001153385, gamma=0.0037649358067924675; total time=   2.9s\n",
      "[CV] END alpha=0.41320124001153385, gamma=0.0037649358067924675; total time=   2.9s\n",
      "[CV] END alpha=0.41320124001153385, gamma=0.0037649358067924675; total time=   2.9s\n",
      "[CV] END alpha=0.41320124001153385, gamma=0.0037649358067924675; total time=   2.9s\n",
      "[CV] END alpha=0.046415888336127795, gamma=0.7054802310718645; total time=   3.0s\n",
      "[CV] END alpha=0.41320124001153385, gamma=0.0037649358067924675; total time=   3.0s\n",
      "[CV] END alpha=0.046415888336127795, gamma=0.7054802310718645; total time=   2.9s\n",
      "[CV] END alpha=0.046415888336127795, gamma=0.7054802310718645; total time=   3.0s\n",
      "[CV] END alpha=0.046415888336127795, gamma=0.7054802310718645; total time=   3.0s\n",
      "[CV] END alpha=0.046415888336127795, gamma=0.7054802310718645; total time=   3.0s\n",
      "[CV] END alpha=0.046415888336127795, gamma=0.7054802310718645; total time=   3.0s\n",
      "[CV] END alpha=0.046415888336127795, gamma=0.7054802310718645; total time=   3.0s\n",
      "[CV] END alpha=0.046415888336127795, gamma=0.7054802310718645; total time=   3.0s\n",
      "[CV] END alpha=0.025353644939701114, gamma=0.2009233002565048; total time=   2.9s\n",
      "[CV] END alpha=0.046415888336127795, gamma=0.7054802310718645; total time=   3.0s\n",
      "[CV] END alpha=0.046415888336127795, gamma=0.7054802310718645; total time=   3.0s\n",
      "[CV] END alpha=0.025353644939701114, gamma=0.2009233002565048; total time=   3.0s\n",
      "[CV] END alpha=0.025353644939701114, gamma=0.2009233002565048; total time=   3.0s\n",
      "[CV] END alpha=0.025353644939701114, gamma=0.2009233002565048; total time=   2.9s\n",
      "[CV] END alpha=0.025353644939701114, gamma=0.2009233002565048; total time=   2.9s\n",
      "[CV] END alpha=0.025353644939701114, gamma=0.2009233002565048; total time=   2.9s\n",
      "[CV] END alpha=0.025353644939701114, gamma=0.2009233002565048; total time=   3.0s\n",
      "[CV] END alpha=0.025353644939701114, gamma=0.2009233002565048; total time=   2.9s\n",
      "[CV] END alpha=0.025353644939701114, gamma=0.2009233002565048; total time=   3.0s\n",
      "[CV] END alpha=0.025353644939701114, gamma=0.2009233002565048; total time=   2.9s\n",
      "[CV] END alpha=0.016681005372000592, gamma=0.07564633275546291; total time=   3.0s\n",
      "[CV] END alpha=0.016681005372000592, gamma=0.07564633275546291; total time=   3.0s\n",
      "[CV] END alpha=0.016681005372000592, gamma=0.07564633275546291; total time=   3.0s\n",
      "[CV] END alpha=0.016681005372000592, gamma=0.07564633275546291; total time=   3.0s\n",
      "[CV] END alpha=0.016681005372000592, gamma=0.07564633275546291; total time=   3.0s\n",
      "[CV] END alpha=0.016681005372000592, gamma=0.07564633275546291; total time=   3.0s\n",
      "[CV] END alpha=0.016681005372000592, gamma=0.07564633275546291; total time=   3.0s\n",
      "[CV] END alpha=0.016681005372000592, gamma=0.07564633275546291; total time=   3.0s\n",
      "[CV] END alpha=0.016681005372000592, gamma=0.07564633275546291; total time=   3.0s\n",
      "[CV] END alpha=0.6280291441834256, gamma=0.03274549162877728; total time=   3.0s\n",
      "[CV] END alpha=0.016681005372000592, gamma=0.07564633275546291; total time=   3.1s\n",
      "[CV] END alpha=0.6280291441834256, gamma=0.03274549162877728; total time=   3.0s\n",
      "[CV] END alpha=0.6280291441834256, gamma=0.03274549162877728; total time=   3.1s\n",
      "[CV] END alpha=0.6280291441834256, gamma=0.03274549162877728; total time=   3.0s\n",
      "[CV] END alpha=0.6280291441834256, gamma=0.03274549162877728; total time=   3.0s\n",
      "[CV] END alpha=0.6280291441834256, gamma=0.03274549162877728; total time=   3.0s\n",
      "[CV] END alpha=0.6280291441834256, gamma=0.03274549162877728; total time=   3.0s\n",
      "[CV] END alpha=0.6280291441834256, gamma=0.03274549162877728; total time=   3.1s\n",
      "[CV] END alpha=0.6280291441834256, gamma=0.03274549162877728; total time=   3.2s\n",
      "[CV] END alpha=0.6280291441834256, gamma=0.03274549162877728; total time=   3.3s\n",
      "[CV] END alpha=0.11768119524349985, gamma=0.1873817422860385; total time=   3.2s\n",
      "[CV] END alpha=0.11768119524349985, gamma=0.1873817422860385; total time=   3.2s\n",
      "[CV] END alpha=0.11768119524349985, gamma=0.1873817422860385; total time=   3.2s\n",
      "[CV] END alpha=0.11768119524349985, gamma=0.1873817422860385; total time=   3.5s\n",
      "[CV] END alpha=0.11768119524349985, gamma=0.1873817422860385; total time=   3.2s\n",
      "[CV] END alpha=0.11768119524349985, gamma=0.1873817422860385; total time=   3.3s\n",
      "[CV] END alpha=0.11768119524349985, gamma=0.1873817422860385; total time=   3.5s\n",
      "[CV] END alpha=0.11768119524349985, gamma=0.1873817422860385; total time=   3.5s\n",
      "[CV] END alpha=0.11768119524349985, gamma=0.1873817422860385; total time=   3.3s\n",
      "[CV] END alpha=0.11768119524349985, gamma=0.1873817422860385; total time=   3.5s\n",
      "[CV] END alpha=0.09770099572992257, gamma=0.02009233002565047; total time=   3.4s\n",
      "[CV] END alpha=0.09770099572992257, gamma=0.02009233002565047; total time=   3.2s\n",
      "[CV] END alpha=0.09770099572992257, gamma=0.02009233002565047; total time=   3.3s\n",
      "[CV] END alpha=0.09770099572992257, gamma=0.02009233002565047; total time=   3.3s\n",
      "[CV] END alpha=0.09770099572992257, gamma=0.02009233002565047; total time=   3.4s\n",
      "[CV] END alpha=0.09770099572992257, gamma=0.02009233002565047; total time=   3.4s\n",
      "[CV] END alpha=0.09770099572992257, gamma=0.02009233002565047; total time=   2.7s\n",
      "[CV] END alpha=0.09770099572992257, gamma=0.02009233002565047; total time=   2.7s\n",
      "[CV] END alpha=0.09770099572992257, gamma=0.02009233002565047; total time=   2.6s\n",
      "[CV] END alpha=0.09770099572992257, gamma=0.02009233002565047; total time=   2.5s\n"
     ]
    },
    {
     "data": {
      "text/html": [
       "<style>#sk-container-id-21 {color: black;background-color: white;}#sk-container-id-21 pre{padding: 0;}#sk-container-id-21 div.sk-toggleable {background-color: white;}#sk-container-id-21 label.sk-toggleable__label {cursor: pointer;display: block;width: 100%;margin-bottom: 0;padding: 0.3em;box-sizing: border-box;text-align: center;}#sk-container-id-21 label.sk-toggleable__label-arrow:before {content: \"▸\";float: left;margin-right: 0.25em;color: #696969;}#sk-container-id-21 label.sk-toggleable__label-arrow:hover:before {color: black;}#sk-container-id-21 div.sk-estimator:hover label.sk-toggleable__label-arrow:before {color: black;}#sk-container-id-21 div.sk-toggleable__content {max-height: 0;max-width: 0;overflow: hidden;text-align: left;background-color: #f0f8ff;}#sk-container-id-21 div.sk-toggleable__content pre {margin: 0.2em;color: black;border-radius: 0.25em;background-color: #f0f8ff;}#sk-container-id-21 input.sk-toggleable__control:checked~div.sk-toggleable__content {max-height: 200px;max-width: 100%;overflow: auto;}#sk-container-id-21 input.sk-toggleable__control:checked~label.sk-toggleable__label-arrow:before {content: \"▾\";}#sk-container-id-21 div.sk-estimator input.sk-toggleable__control:checked~label.sk-toggleable__label {background-color: #d4ebff;}#sk-container-id-21 div.sk-label input.sk-toggleable__control:checked~label.sk-toggleable__label {background-color: #d4ebff;}#sk-container-id-21 input.sk-hidden--visually {border: 0;clip: rect(1px 1px 1px 1px);clip: rect(1px, 1px, 1px, 1px);height: 1px;margin: -1px;overflow: hidden;padding: 0;position: absolute;width: 1px;}#sk-container-id-21 div.sk-estimator {font-family: monospace;background-color: #f0f8ff;border: 1px dotted black;border-radius: 0.25em;box-sizing: border-box;margin-bottom: 0.5em;}#sk-container-id-21 div.sk-estimator:hover {background-color: #d4ebff;}#sk-container-id-21 div.sk-parallel-item::after {content: \"\";width: 100%;border-bottom: 1px solid gray;flex-grow: 1;}#sk-container-id-21 div.sk-label:hover label.sk-toggleable__label {background-color: #d4ebff;}#sk-container-id-21 div.sk-serial::before {content: \"\";position: absolute;border-left: 1px solid gray;box-sizing: border-box;top: 0;bottom: 0;left: 50%;z-index: 0;}#sk-container-id-21 div.sk-serial {display: flex;flex-direction: column;align-items: center;background-color: white;padding-right: 0.2em;padding-left: 0.2em;position: relative;}#sk-container-id-21 div.sk-item {position: relative;z-index: 1;}#sk-container-id-21 div.sk-parallel {display: flex;align-items: stretch;justify-content: center;background-color: white;position: relative;}#sk-container-id-21 div.sk-item::before, #sk-container-id-21 div.sk-parallel-item::before {content: \"\";position: absolute;border-left: 1px solid gray;box-sizing: border-box;top: 0;bottom: 0;left: 50%;z-index: -1;}#sk-container-id-21 div.sk-parallel-item {display: flex;flex-direction: column;z-index: 1;position: relative;background-color: white;}#sk-container-id-21 div.sk-parallel-item:first-child::after {align-self: flex-end;width: 50%;}#sk-container-id-21 div.sk-parallel-item:last-child::after {align-self: flex-start;width: 50%;}#sk-container-id-21 div.sk-parallel-item:only-child::after {width: 0;}#sk-container-id-21 div.sk-dashed-wrapped {border: 1px dashed gray;margin: 0 0.4em 0.5em 0.4em;box-sizing: border-box;padding-bottom: 0.4em;background-color: white;}#sk-container-id-21 div.sk-label label {font-family: monospace;font-weight: bold;display: inline-block;line-height: 1.2em;}#sk-container-id-21 div.sk-label-container {text-align: center;}#sk-container-id-21 div.sk-container {/* jupyter's `normalize.less` sets `[hidden] { display: none; }` but bootstrap.min.css set `[hidden] { display: none !important; }` so we also need the `!important` here to be able to override the default hidden behavior on the sphinx rendered scikit-learn.org. See: https://github.com/scikit-learn/scikit-learn/issues/21755 */display: inline-block !important;position: relative;}#sk-container-id-21 div.sk-text-repr-fallback {display: none;}</style><div id=\"sk-container-id-21\" class=\"sk-top-container\"><div class=\"sk-text-repr-fallback\"><pre>RandomizedSearchCV(cv=10, estimator=KernelRidge(kernel=&#x27;laplacian&#x27;), n_jobs=6,\n",
       "                   param_distributions={&#x27;alpha&#x27;: array([0.01      , 0.01047616, 0.01097499, 0.01149757, 0.01204504,\n",
       "       0.01261857, 0.01321941, 0.01384886, 0.01450829, 0.01519911,\n",
       "       0.01592283, 0.01668101, 0.01747528, 0.01830738, 0.0191791 ,\n",
       "       0.02009233, 0.02104904, 0.02205131, 0.0231013 , 0.02420128,\n",
       "       0.02535364, 0.02656088, 0.02...\n",
       "       0.09326033, 0.1       , 0.10722672, 0.1149757 , 0.12328467,\n",
       "       0.13219411, 0.14174742, 0.15199111, 0.16297508, 0.17475284,\n",
       "       0.18738174, 0.2009233 , 0.21544347, 0.23101297, 0.24770764,\n",
       "       0.26560878, 0.28480359, 0.30538555, 0.32745492, 0.35111917,\n",
       "       0.37649358, 0.40370173, 0.43287613, 0.46415888, 0.49770236,\n",
       "       0.53366992, 0.57223677, 0.61359073, 0.65793322, 0.70548023,\n",
       "       0.75646333, 0.81113083, 0.869749  , 0.93260335, 1.        ])},\n",
       "                   verbose=2)</pre><b>In a Jupyter environment, please rerun this cell to show the HTML representation or trust the notebook. <br />On GitHub, the HTML representation is unable to render, please try loading this page with nbviewer.org.</b></div><div class=\"sk-container\" hidden><div class=\"sk-item sk-dashed-wrapped\"><div class=\"sk-label-container\"><div class=\"sk-label sk-toggleable\"><input class=\"sk-toggleable__control sk-hidden--visually\" id=\"sk-estimator-id-43\" type=\"checkbox\" ><label for=\"sk-estimator-id-43\" class=\"sk-toggleable__label sk-toggleable__label-arrow\">RandomizedSearchCV</label><div class=\"sk-toggleable__content\"><pre>RandomizedSearchCV(cv=10, estimator=KernelRidge(kernel=&#x27;laplacian&#x27;), n_jobs=6,\n",
       "                   param_distributions={&#x27;alpha&#x27;: array([0.01      , 0.01047616, 0.01097499, 0.01149757, 0.01204504,\n",
       "       0.01261857, 0.01321941, 0.01384886, 0.01450829, 0.01519911,\n",
       "       0.01592283, 0.01668101, 0.01747528, 0.01830738, 0.0191791 ,\n",
       "       0.02009233, 0.02104904, 0.02205131, 0.0231013 , 0.02420128,\n",
       "       0.02535364, 0.02656088, 0.02...\n",
       "       0.09326033, 0.1       , 0.10722672, 0.1149757 , 0.12328467,\n",
       "       0.13219411, 0.14174742, 0.15199111, 0.16297508, 0.17475284,\n",
       "       0.18738174, 0.2009233 , 0.21544347, 0.23101297, 0.24770764,\n",
       "       0.26560878, 0.28480359, 0.30538555, 0.32745492, 0.35111917,\n",
       "       0.37649358, 0.40370173, 0.43287613, 0.46415888, 0.49770236,\n",
       "       0.53366992, 0.57223677, 0.61359073, 0.65793322, 0.70548023,\n",
       "       0.75646333, 0.81113083, 0.869749  , 0.93260335, 1.        ])},\n",
       "                   verbose=2)</pre></div></div></div><div class=\"sk-parallel\"><div class=\"sk-parallel-item\"><div class=\"sk-item\"><div class=\"sk-label-container\"><div class=\"sk-label sk-toggleable\"><input class=\"sk-toggleable__control sk-hidden--visually\" id=\"sk-estimator-id-44\" type=\"checkbox\" ><label for=\"sk-estimator-id-44\" class=\"sk-toggleable__label sk-toggleable__label-arrow\">estimator: KernelRidge</label><div class=\"sk-toggleable__content\"><pre>KernelRidge(kernel=&#x27;laplacian&#x27;)</pre></div></div></div><div class=\"sk-serial\"><div class=\"sk-item\"><div class=\"sk-estimator sk-toggleable\"><input class=\"sk-toggleable__control sk-hidden--visually\" id=\"sk-estimator-id-45\" type=\"checkbox\" ><label for=\"sk-estimator-id-45\" class=\"sk-toggleable__label sk-toggleable__label-arrow\">KernelRidge</label><div class=\"sk-toggleable__content\"><pre>KernelRidge(kernel=&#x27;laplacian&#x27;)</pre></div></div></div></div></div></div></div></div></div></div>"
      ],
      "text/plain": [
       "RandomizedSearchCV(cv=10, estimator=KernelRidge(kernel='laplacian'), n_jobs=6,\n",
       "                   param_distributions={'alpha': array([0.01      , 0.01047616, 0.01097499, 0.01149757, 0.01204504,\n",
       "       0.01261857, 0.01321941, 0.01384886, 0.01450829, 0.01519911,\n",
       "       0.01592283, 0.01668101, 0.01747528, 0.01830738, 0.0191791 ,\n",
       "       0.02009233, 0.02104904, 0.02205131, 0.0231013 , 0.02420128,\n",
       "       0.02535364, 0.02656088, 0.02...\n",
       "       0.09326033, 0.1       , 0.10722672, 0.1149757 , 0.12328467,\n",
       "       0.13219411, 0.14174742, 0.15199111, 0.16297508, 0.17475284,\n",
       "       0.18738174, 0.2009233 , 0.21544347, 0.23101297, 0.24770764,\n",
       "       0.26560878, 0.28480359, 0.30538555, 0.32745492, 0.35111917,\n",
       "       0.37649358, 0.40370173, 0.43287613, 0.46415888, 0.49770236,\n",
       "       0.53366992, 0.57223677, 0.61359073, 0.65793322, 0.70548023,\n",
       "       0.75646333, 0.81113083, 0.869749  , 0.93260335, 1.        ])},\n",
       "                   verbose=2)"
      ]
     },
     "execution_count": 129,
     "metadata": {},
     "output_type": "execute_result"
    }
   ],
   "source": [
    "random_krr.fit(X_train_scaled, y_train_scaled)"
   ]
  },
  {
   "cell_type": "code",
   "execution_count": 130,
   "metadata": {},
   "outputs": [],
   "source": [
    "y_train_pred = y_scaler.inverse_transform(random_krr.best_estimator_.predict(X_train_scaled).reshape(-1,1))\n",
    "y_test_pred = y_scaler.inverse_transform(random_krr.best_estimator_.predict(X_test_scaled).reshape(-1,1))"
   ]
  },
  {
   "cell_type": "code",
   "execution_count": 134,
   "metadata": {},
   "outputs": [
    {
     "name": "stdout",
     "output_type": "stream",
     "text": [
      "Train/test MAE:  0.48406563011823356 0.7518896897844239\n",
      "Train/test MSE:  0.6683639750047873 0.9711608423549994\n",
      "Train/test r2:  0.5774546688189779 0.17668702796588853\n"
     ]
    }
   ],
   "source": [
    "print('Train/test MAE: ', mean_absolute_error(y_train, y_train_pred),\n",
    "\t  mean_absolute_error(y_test, y_test_pred))\n",
    "print('Train/test MSE: ', mean_squared_error(y_train, y_train_pred, squared=False),\n",
    "\t  mean_squared_error(y_test, y_test_pred, squared=False))\n",
    "print('Train/test r2: ', r2_score(y_true=y_train, y_pred=y_train_pred),\n",
    "\t  r2_score(y_true=y_test, y_pred=y_test_pred))"
   ]
  },
  {
   "cell_type": "code",
   "execution_count": 133,
   "metadata": {},
   "outputs": [
    {
     "data": {
      "text/plain": [
       "<matplotlib.collections.PathCollection at 0x2a1c7a3d0>"
      ]
     },
     "execution_count": 133,
     "metadata": {},
     "output_type": "execute_result"
    },
    {
     "data": {
      "image/png": "[encoded data removed]",
      "text/plain": [
       "<Figure size 640x480 with 1 Axes>"
      ]
     },
     "metadata": {},
     "output_type": "display_data"
    }
   ],
   "source": [
    "plt.scatter(y_train, y_train_pred)\n",
    "plt.scatter(y_test, y_test_pred)"
   ]
  },
  {
   "cell_type": "code",
   "execution_count": null,
   "metadata": {},
   "outputs": [],
   "source": []
  }
 ],
 "metadata": {
  "kernelspec": {
   "display_name": "Python 3",
   "language": "python",
   "name": "python3"
  },
  "language_info": {
   "codemirror_mode": {
    "name": "ipython",
    "version": 3
   },
   "file_extension": ".py",
   "mimetype": "text/x-python",
   "name": "python",
   "nbconvert_exporter": "python",
   "pygments_lexer": "ipython3",
   "version": "3.8.16"
  },
  "orig_nbformat": 4
 },
 "nbformat": 4,
 "nbformat_minor": 2
}
