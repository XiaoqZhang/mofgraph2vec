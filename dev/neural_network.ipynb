{
 "cells": [
  {
   "cell_type": "code",
   "execution_count": 44,
   "metadata": {},
   "outputs": [],
   "source": [
    "import torch\n",
    "import torch.nn as nn\n",
    "import torch.nn.functional as F\n",
    "import pandas as pd\n",
    "import matplotlib.pyplot as plt\n",
    "from sklearn.model_selection import train_test_split\n",
    "from sklearn.preprocessing import MinMaxScaler\n",
    "from sklearn.metrics import mean_squared_error"
   ]
  },
  {
   "cell_type": "code",
   "execution_count": 2,
   "metadata": {},
   "outputs": [],
   "source": [
    "embedding_path = \"../experiments/workflow/wandb/offline-run-20230508_143829-3mwdcblz/tmp/embedding_dv.csv\"\n",
    "label_path = \"../data/data.csv\"\n",
    "id_column = \"cif.label\"\n",
    "target = \"logKH_CO2\""
   ]
  },
  {
   "cell_type": "code",
   "execution_count": 3,
   "metadata": {},
   "outputs": [
    {
     "data": {
      "text/html": [
       "<div>\n",
       "<style scoped>\n",
       "    .dataframe tbody tr th:only-of-type {\n",
       "        vertical-align: middle;\n",
       "    }\n",
       "\n",
       "    .dataframe tbody tr th {\n",
       "        vertical-align: top;\n",
       "    }\n",
       "\n",
       "    .dataframe thead th {\n",
       "        text-align: right;\n",
       "    }\n",
       "</style>\n",
       "<table border=\"1\" class=\"dataframe\">\n",
       "  <thead>\n",
       "    <tr style=\"text-align: right;\">\n",
       "      <th></th>\n",
       "      <th>type</th>\n",
       "      <th>x_0</th>\n",
       "      <th>x_1</th>\n",
       "      <th>x_2</th>\n",
       "      <th>x_3</th>\n",
       "      <th>x_4</th>\n",
       "      <th>x_5</th>\n",
       "      <th>x_6</th>\n",
       "      <th>x_7</th>\n",
       "      <th>x_8</th>\n",
       "      <th>...</th>\n",
       "      <th>x_503</th>\n",
       "      <th>x_504</th>\n",
       "      <th>x_505</th>\n",
       "      <th>x_506</th>\n",
       "      <th>x_507</th>\n",
       "      <th>x_508</th>\n",
       "      <th>x_509</th>\n",
       "      <th>x_510</th>\n",
       "      <th>x_511</th>\n",
       "      <th>logKH_CO2</th>\n",
       "    </tr>\n",
       "  </thead>\n",
       "  <tbody>\n",
       "    <tr>\n",
       "      <th>0</th>\n",
       "      <td>RSM0001</td>\n",
       "      <td>-0.000090</td>\n",
       "      <td>-0.008808</td>\n",
       "      <td>0.008476</td>\n",
       "      <td>-0.004680</td>\n",
       "      <td>0.001171</td>\n",
       "      <td>0.003509</td>\n",
       "      <td>0.003101</td>\n",
       "      <td>0.002185</td>\n",
       "      <td>-0.001265</td>\n",
       "      <td>...</td>\n",
       "      <td>0.002771</td>\n",
       "      <td>0.007326</td>\n",
       "      <td>-0.000566</td>\n",
       "      <td>-0.001298</td>\n",
       "      <td>-0.003287</td>\n",
       "      <td>-0.000845</td>\n",
       "      <td>0.003749</td>\n",
       "      <td>-0.000543</td>\n",
       "      <td>0.007207</td>\n",
       "      <td>-3.804233</td>\n",
       "    </tr>\n",
       "    <tr>\n",
       "      <th>1</th>\n",
       "      <td>RSM0002</td>\n",
       "      <td>-0.014816</td>\n",
       "      <td>0.048047</td>\n",
       "      <td>-0.028551</td>\n",
       "      <td>0.056591</td>\n",
       "      <td>-0.041182</td>\n",
       "      <td>-0.008326</td>\n",
       "      <td>0.028034</td>\n",
       "      <td>-0.000843</td>\n",
       "      <td>-0.028751</td>\n",
       "      <td>...</td>\n",
       "      <td>0.013054</td>\n",
       "      <td>0.006607</td>\n",
       "      <td>-0.041299</td>\n",
       "      <td>-0.013893</td>\n",
       "      <td>-0.030329</td>\n",
       "      <td>-0.034649</td>\n",
       "      <td>0.018037</td>\n",
       "      <td>-0.004587</td>\n",
       "      <td>-0.001710</td>\n",
       "      <td>-3.239400</td>\n",
       "    </tr>\n",
       "    <tr>\n",
       "      <th>2</th>\n",
       "      <td>RSM0003</td>\n",
       "      <td>-0.017697</td>\n",
       "      <td>-0.010393</td>\n",
       "      <td>0.009807</td>\n",
       "      <td>-0.060608</td>\n",
       "      <td>-0.013578</td>\n",
       "      <td>0.035471</td>\n",
       "      <td>-0.011896</td>\n",
       "      <td>-0.011485</td>\n",
       "      <td>-0.049476</td>\n",
       "      <td>...</td>\n",
       "      <td>0.005600</td>\n",
       "      <td>0.028285</td>\n",
       "      <td>-0.014694</td>\n",
       "      <td>-0.006315</td>\n",
       "      <td>-0.086815</td>\n",
       "      <td>-0.026850</td>\n",
       "      <td>0.034843</td>\n",
       "      <td>0.032827</td>\n",
       "      <td>-0.009051</td>\n",
       "      <td>-3.717419</td>\n",
       "    </tr>\n",
       "    <tr>\n",
       "      <th>3</th>\n",
       "      <td>RSM0004</td>\n",
       "      <td>-0.000710</td>\n",
       "      <td>-0.000649</td>\n",
       "      <td>-0.000651</td>\n",
       "      <td>-0.002822</td>\n",
       "      <td>-0.002524</td>\n",
       "      <td>-0.001295</td>\n",
       "      <td>0.003440</td>\n",
       "      <td>0.007084</td>\n",
       "      <td>-0.006925</td>\n",
       "      <td>...</td>\n",
       "      <td>-0.000611</td>\n",
       "      <td>0.010334</td>\n",
       "      <td>-0.009937</td>\n",
       "      <td>-0.003137</td>\n",
       "      <td>-0.000225</td>\n",
       "      <td>-0.002345</td>\n",
       "      <td>-0.002026</td>\n",
       "      <td>0.005210</td>\n",
       "      <td>-0.008790</td>\n",
       "      <td>-3.269990</td>\n",
       "    </tr>\n",
       "    <tr>\n",
       "      <th>4</th>\n",
       "      <td>RSM0008</td>\n",
       "      <td>0.007796</td>\n",
       "      <td>-0.016131</td>\n",
       "      <td>-0.009239</td>\n",
       "      <td>-0.022878</td>\n",
       "      <td>0.003324</td>\n",
       "      <td>-0.004076</td>\n",
       "      <td>-0.001362</td>\n",
       "      <td>0.017125</td>\n",
       "      <td>-0.004574</td>\n",
       "      <td>...</td>\n",
       "      <td>0.003727</td>\n",
       "      <td>0.006260</td>\n",
       "      <td>0.005077</td>\n",
       "      <td>-0.009179</td>\n",
       "      <td>-0.008601</td>\n",
       "      <td>0.008788</td>\n",
       "      <td>-0.006972</td>\n",
       "      <td>0.005466</td>\n",
       "      <td>0.005958</td>\n",
       "      <td>-0.954231</td>\n",
       "    </tr>\n",
       "  </tbody>\n",
       "</table>\n",
       "<p>5 rows × 514 columns</p>\n",
       "</div>"
      ],
      "text/plain": [
       "      type       x_0       x_1       x_2       x_3       x_4       x_5  \\\n",
       "0  RSM0001 -0.000090 -0.008808  0.008476 -0.004680  0.001171  0.003509   \n",
       "1  RSM0002 -0.014816  0.048047 -0.028551  0.056591 -0.041182 -0.008326   \n",
       "2  RSM0003 -0.017697 -0.010393  0.009807 -0.060608 -0.013578  0.035471   \n",
       "3  RSM0004 -0.000710 -0.000649 -0.000651 -0.002822 -0.002524 -0.001295   \n",
       "4  RSM0008  0.007796 -0.016131 -0.009239 -0.022878  0.003324 -0.004076   \n",
       "\n",
       "        x_6       x_7       x_8  ...     x_503     x_504     x_505     x_506  \\\n",
       "0  0.003101  0.002185 -0.001265  ...  0.002771  0.007326 -0.000566 -0.001298   \n",
       "1  0.028034 -0.000843 -0.028751  ...  0.013054  0.006607 -0.041299 -0.013893   \n",
       "2 -0.011896 -0.011485 -0.049476  ...  0.005600  0.028285 -0.014694 -0.006315   \n",
       "3  0.003440  0.007084 -0.006925  ... -0.000611  0.010334 -0.009937 -0.003137   \n",
       "4 -0.001362  0.017125 -0.004574  ...  0.003727  0.006260  0.005077 -0.009179   \n",
       "\n",
       "      x_507     x_508     x_509     x_510     x_511  logKH_CO2  \n",
       "0 -0.003287 -0.000845  0.003749 -0.000543  0.007207  -3.804233  \n",
       "1 -0.030329 -0.034649  0.018037 -0.004587 -0.001710  -3.239400  \n",
       "2 -0.086815 -0.026850  0.034843  0.032827 -0.009051  -3.717419  \n",
       "3 -0.000225 -0.002345 -0.002026  0.005210 -0.008790  -3.269990  \n",
       "4 -0.008601  0.008788 -0.006972  0.005466  0.005958  -0.954231  \n",
       "\n",
       "[5 rows x 514 columns]"
      ]
     },
     "execution_count": 3,
     "metadata": {},
     "output_type": "execute_result"
    }
   ],
   "source": [
    "df = pd.read_csv(embedding_path)\n",
    "df_label = pd.read_csv(label_path)\n",
    "df_label = df_label.rename(columns={id_column: \"type\"})\n",
    "subdf_label = df_label[[\"type\", target]]\n",
    "df = df.merge(subdf_label)\n",
    "df.head()"
   ]
  },
  {
   "cell_type": "code",
   "execution_count": 4,
   "metadata": {},
   "outputs": [],
   "source": [
    "X = df.drop(['type', target], axis=1).values\n",
    "y = df[target].values\n",
    "X_train, X_test, y_train, y_test = train_test_split(X, y, test_size=0.2, random_state=42)\n",
    "# Random state ensures that the splits that you generate are reproducible. \n",
    "# Scikit-learn uses random permutations to generate the splits. \n",
    "# The random state that you provide is used as a seed to the random number generator.\n",
    "# This ensures that the random numbers are generated in the same order."
   ]
  },
  {
   "cell_type": "code",
   "execution_count": 49,
   "metadata": {},
   "outputs": [],
   "source": [
    "x_scaler = MinMaxScaler().fit(X_train)\n",
    "y_scaler = MinMaxScaler().fit(y_train.reshape(-1,1))\n",
    "\n",
    "X_train_scaled = x_scaler.transform(X_train)\n",
    "y_train_scaled = y_scaler.transform(y_train.reshape(-1,1))\n",
    "\n",
    "X_test_scaled = x_scaler.transform(X_test)\n",
    "y_test_scaled = y_scaler.transform(y_test.reshape(-1,1))"
   ]
  },
  {
   "cell_type": "code",
   "execution_count": 50,
   "metadata": {},
   "outputs": [],
   "source": [
    "X_train = torch.FloatTensor(X_train)\n",
    "X_train_scaled = torch.FloatTensor(X_train_scaled)\n",
    "X_test = torch.FloatTensor(X_test)\n",
    "X_test_scaled = torch.FloatTensor(X_test_scaled)\n",
    "\n",
    "y_train = torch.FloatTensor(y_train)\n",
    "y_train_scaled = torch.FloatTensor(y_train_scaled)\n",
    "y_test = torch.FloatTensor(y_test)\n",
    "y_test_scaled = torch.FloatTensor(y_test_scaled)"
   ]
  },
  {
   "cell_type": "code",
   "execution_count": 51,
   "metadata": {},
   "outputs": [],
   "source": [
    "class ANN(nn.Module):\n",
    "    def __init__(self):\n",
    "        super().__init__()\n",
    "        self.fc1 = nn.Linear(in_features=512, out_features=1000)\n",
    "        self.fc2 = nn.Linear(in_features=1000, out_features=1000)\n",
    "        self.fc3 = nn.Linear(in_features=1000, out_features=1000)\n",
    "        self.fc4 = nn.Linear(in_features=1000, out_features=1000)\n",
    "        self.output = nn.Linear(in_features=1000, out_features=1)\n",
    " \n",
    "    def forward(self, x):\n",
    "        x = F.relu(self.fc1(x))\n",
    "        x = F.relu(self.fc2(x))\n",
    "        x = F.relu(self.fc3(x))\n",
    "        x = F.relu(self.fc4(x))\n",
    "        x = self.output(x)\n",
    "        return x"
   ]
  },
  {
   "cell_type": "code",
   "execution_count": 71,
   "metadata": {},
   "outputs": [
    {
     "data": {
      "text/plain": [
       "ANN(\n",
       "  (fc1): Linear(in_features=512, out_features=1000, bias=True)\n",
       "  (fc2): Linear(in_features=1000, out_features=1000, bias=True)\n",
       "  (fc3): Linear(in_features=1000, out_features=1000, bias=True)\n",
       "  (fc4): Linear(in_features=1000, out_features=1000, bias=True)\n",
       "  (output): Linear(in_features=1000, out_features=1, bias=True)\n",
       ")"
      ]
     },
     "execution_count": 71,
     "metadata": {},
     "output_type": "execute_result"
    }
   ],
   "source": [
    "model = ANN()\n",
    "model"
   ]
  },
  {
   "cell_type": "code",
   "execution_count": 73,
   "metadata": {},
   "outputs": [],
   "source": [
    "criterion = nn.MSELoss()\n",
    "optimizer = torch.optim.Adam(model.parameters(), lr=0.9e-3)"
   ]
  },
  {
   "cell_type": "code",
   "execution_count": 72,
   "metadata": {},
   "outputs": [
    {
     "name": "stdout",
     "output_type": "stream",
     "text": [
      "Epoch: 0 Loss: 15.04889591623729\n",
      "Epoch: 10 Loss: 15.04889591623729\n",
      "Epoch: 20 Loss: 15.04889591623729\n",
      "Epoch: 30 Loss: 15.04889591623729\n",
      "Epoch: 40 Loss: 15.04889591623729\n",
      "Epoch: 50 Loss: 15.04889591623729\n",
      "Epoch: 60 Loss: 15.04889591623729\n",
      "Epoch: 70 Loss: 15.04889591623729\n",
      "Epoch: 80 Loss: 15.04889591623729\n",
      "Epoch: 90 Loss: 15.04889591623729\n",
      "Epoch: 100 Loss: 15.04889591623729\n",
      "Epoch: 110 Loss: 15.04889591623729\n",
      "Epoch: 120 Loss: 15.04889591623729\n",
      "Epoch: 130 Loss: 15.04889591623729\n",
      "Epoch: 140 Loss: 15.04889591623729\n",
      "Epoch: 150 Loss: 15.04889591623729\n",
      "Epoch: 160 Loss: 15.04889591623729\n",
      "Epoch: 170 Loss: 15.04889591623729\n",
      "Epoch: 180 Loss: 15.04889591623729\n",
      "Epoch: 190 Loss: 15.04889591623729\n",
      "Epoch: 200 Loss: 15.04889591623729\n",
      "Epoch: 210 Loss: 15.04889591623729\n",
      "Epoch: 220 Loss: 15.04889591623729\n",
      "Epoch: 230 Loss: 15.04889591623729\n",
      "Epoch: 240 Loss: 15.04889591623729\n",
      "Epoch: 250 Loss: 15.04889591623729\n",
      "Epoch: 260 Loss: 15.04889591623729\n",
      "Epoch: 270 Loss: 15.04889591623729\n",
      "Epoch: 280 Loss: 15.04889591623729\n",
      "Epoch: 290 Loss: 15.04889591623729\n",
      "Epoch: 300 Loss: 15.04889591623729\n",
      "Epoch: 310 Loss: 15.04889591623729\n",
      "Epoch: 320 Loss: 15.04889591623729\n",
      "Epoch: 330 Loss: 15.04889591623729\n",
      "Epoch: 340 Loss: 15.04889591623729\n",
      "Epoch: 350 Loss: 15.04889591623729\n",
      "Epoch: 360 Loss: 15.04889591623729\n",
      "Epoch: 370 Loss: 15.04889591623729\n",
      "Epoch: 380 Loss: 15.04889591623729\n",
      "Epoch: 390 Loss: 15.04889591623729\n",
      "Epoch: 400 Loss: 15.04889591623729\n",
      "Epoch: 410 Loss: 15.04889591623729\n",
      "Epoch: 420 Loss: 15.04889591623729\n",
      "Epoch: 430 Loss: 15.04889591623729\n",
      "Epoch: 440 Loss: 15.04889591623729\n",
      "Epoch: 450 Loss: 15.04889591623729\n",
      "Epoch: 460 Loss: 15.04889591623729\n",
      "Epoch: 470 Loss: 15.04889591623729\n",
      "Epoch: 480 Loss: 15.04889591623729\n",
      "Epoch: 490 Loss: 15.04889591623729\n"
     ]
    }
   ],
   "source": [
    "epochs = 500\n",
    "loss_arr = []\n",
    "loss_arr_scaled = []\n",
    "\n",
    "for i in range(epochs):\n",
    "    y_hat = model.forward(X_train_scaled)\n",
    "    loss = criterion(y_hat, y_train_scaled.view(-1,1))\n",
    "    loss_arr.append(loss.detach().numpy())\n",
    "    loss_scaled = mean_squared_error(y_scaler.inverse_transform(y_hat.detach().numpy()), y_scaler.inverse_transform(y_train_scaled))\n",
    "    loss_arr_scaled.append(loss_scaled)\n",
    " \n",
    "    if i % 10 == 0:\n",
    "        print(f'Epoch: {i} Loss: {loss_scaled}')\n",
    " \n",
    "    optimizer.zero_grad()\n",
    "    loss.backward()\n",
    "    optimizer.step()"
   ]
  },
  {
   "cell_type": "code",
   "execution_count": 69,
   "metadata": {},
   "outputs": [
    {
     "data": {
      "text/plain": [
       "[<matplotlib.lines.Line2D at 0x28fe51160>]"
      ]
     },
     "execution_count": 69,
     "metadata": {},
     "output_type": "execute_result"
    },
    {
     "data": {
      "image/png": "[encoded data removed]",
      "text/plain": [
       "<Figure size 640x480 with 1 Axes>"
      ]
     },
     "metadata": {},
     "output_type": "display_data"
    }
   ],
   "source": [
    "plt.title('Loss VS Epoch')\n",
    "plt.xlabel(\"Loss\")\n",
    "plt.xlabel(\"Epoch\")\n",
    "plt.plot(loss_arr)"
   ]
  },
  {
   "cell_type": "code",
   "execution_count": 60,
   "metadata": {},
   "outputs": [],
   "source": [
    "preds = []\n",
    "with torch.no_grad():\n",
    "    for val in X_test_scaled:\n",
    "        y_hat = model.forward(val)\n",
    "        preds.append(y_scaler.inverse_transform(y_hat.detach().numpy().reshape(-1,1)))"
   ]
  },
  {
   "cell_type": "code",
   "execution_count": 61,
   "metadata": {},
   "outputs": [
    {
     "data": {
      "text/plain": [
       "<matplotlib.collections.PathCollection at 0x2aa4739d0>"
      ]
     },
     "execution_count": 61,
     "metadata": {},
     "output_type": "execute_result"
    },
    {
     "data": {
      "image/png": "[encoded data removed]",
      "text/plain": [
       "<Figure size 640x480 with 1 Axes>"
      ]
     },
     "metadata": {},
     "output_type": "display_data"
    }
   ],
   "source": [
    "plt.scatter(y_test, preds)\n",
    "#plt.xlim([-7,0])\n",
    "#plt.ylim([-7,0])"
   ]
  },
  {
   "cell_type": "code",
   "execution_count": null,
   "metadata": {},
   "outputs": [],
   "source": []
  }
 ],
 "metadata": {
  "kernelspec": {
   "display_name": "Python 3",
   "language": "python",
   "name": "python3"
  },
  "language_info": {
   "codemirror_mode": {
    "name": "ipython",
    "version": 3
   },
   "file_extension": ".py",
   "mimetype": "text/x-python",
   "name": "python",
   "nbconvert_exporter": "python",
   "pygments_lexer": "ipython3",
   "version": "3.8.16"
  },
  "orig_nbformat": 4
 },
 "nbformat": 4,
 "nbformat_minor": 2
}
