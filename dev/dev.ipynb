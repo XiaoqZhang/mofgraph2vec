{
 "cells": [
  {
   "cell_type": "code",
   "execution_count": 1,
   "metadata": {},
   "outputs": [],
   "source": [
    "%load_ext autoreload\n",
    "%autoreload 2"
   ]
  },
  {
   "cell_type": "code",
   "execution_count": 2,
   "metadata": {},
   "outputs": [
    {
     "name": "stderr",
     "output_type": "stream",
     "text": [
      "/Users/xiaoqi/opt/anaconda3/envs/mofgraph2vec/lib/python3.8/site-packages/tqdm/auto.py:22: TqdmWarning: IProgress not found. Please update jupyter and ipywidgets. See https://ipywidgets.readthedocs.io/en/stable/user_install.html\n",
      "  from .autonotebook import tqdm as notebook_tqdm\n"
     ]
    }
   ],
   "source": [
    "from pymatgen.core.structure import Structure, Lattice\n",
    "from pymatgen.analysis.graphs import StructureGraph\n",
    "from pymatgen.analysis.local_env import CutOffDictNN\n",
    "import networkx as nx\n",
    "import hashlib\n",
    "from torch_geometric.utils.convert import to_networkx\n",
    "from torch_geometric.data import Data\n",
    "import numpy as np\n",
    "import torch\n",
    "import os\n",
    "import yaml\n",
    "from glob import glob\n",
    "import random\n"
   ]
  },
  {
   "cell_type": "code",
   "execution_count": 3,
   "metadata": {},
   "outputs": [],
   "source": [
    "from mofgraph2vec.graph.mof2doc import MOF2doc"
   ]
  },
  {
   "cell_type": "code",
   "execution_count": 4,
   "metadata": {},
   "outputs": [],
   "source": [
    "doc = MOF2doc(cif_path= \"../data/cifs/\", wl_step = 5)"
   ]
  },
  {
   "cell_type": "code",
   "execution_count": 5,
   "metadata": {},
   "outputs": [
    {
     "name": "stderr",
     "output_type": "stream",
     "text": [
      "100%|██████████| 3260/3260 [00:11<00:00, 273.57it/s]\n"
     ]
    }
   ],
   "source": [
    "data = doc.get_documents()"
   ]
  },
  {
   "cell_type": "code",
   "execution_count": 6,
   "metadata": {},
   "outputs": [],
   "source": [
    "k_foldes = 5\n",
    "random.shuffle(data)\n",
    "num = int(len(data)/k_foldes)"
   ]
  },
  {
   "cell_type": "code",
   "execution_count": 32,
   "metadata": {},
   "outputs": [],
   "source": [
    "slices = []\n",
    "for k in range(k_foldes):\n",
    "    if k == (k_foldes -1):\n",
    "        slices.append(data[k*num:])\n",
    "    else:\n",
    "        slices.append(data[k*num: (k+1)*num])"
   ]
  },
  {
   "cell_type": "code",
   "execution_count": 34,
   "metadata": {},
   "outputs": [
    {
     "data": {
      "text/plain": [
       "5"
      ]
     },
     "execution_count": 34,
     "metadata": {},
     "output_type": "execute_result"
    }
   ],
   "source": [
    "len(slices)"
   ]
  },
  {
   "cell_type": "code",
   "execution_count": 43,
   "metadata": {},
   "outputs": [
    {
     "name": "stdout",
     "output_type": "stream",
     "text": [
      "652 2608\n",
      "652 2608\n",
      "652 2608\n",
      "652 2608\n",
      "652 2608\n"
     ]
    }
   ],
   "source": [
    "indexes = np.arange(k_foldes)\n",
    "\n",
    "for k in range(k_foldes):\n",
    "    valid_data = slices[k]\n",
    "    training_data = [d for id in indexes if id != k for d in slices[id]]\n",
    "    print(len(valid_data), len(training_data))"
   ]
  },
  {
   "cell_type": "code",
   "execution_count": 42,
   "metadata": {},
   "outputs": [
    {
     "data": {
      "text/plain": [
       "['RSM3663']"
      ]
     },
     "execution_count": 42,
     "metadata": {},
     "output_type": "execute_result"
    }
   ],
   "source": [
    "training_data[0]"
   ]
  },
  {
   "cell_type": "code",
   "execution_count": 3,
   "metadata": {},
   "outputs": [],
   "source": [
    "with open(os.path.join(\"../src/mofgraph2vec/graph/tunedvesta.yml\"), \"r\", encoding=\"utf8\") as handle:\n",
    "    _VESTA_CUTOFFS = yaml.load(handle, Loader=yaml.UnsafeLoader) \n",
    "\n",
    "def _get_distance(\n",
    "    lattice, frac_coords_0, frac_coords_1, jimage\n",
    "):\n",
    "    \"\"\"Get the distance between two fractional coordinates taking into account periodic boundary conditions.\n",
    "    Parameters\n",
    "    ----------\n",
    "    lattice : Lattice\n",
    "        pymatgen Lattice object\n",
    "    frac_coords_0 : np.array\n",
    "        fractional coordinates of the first atom\n",
    "    frac_coords_1 : np.array\n",
    "        fractional coordinates of the second atom\n",
    "    jimage : Tuple[int, int, int]\n",
    "        image of the second atom\n",
    "    Returns\n",
    "    -------\n",
    "    float\n",
    "        Distance between the two atoms\n",
    "    \"\"\"\n",
    "    jimage = np.array(jimage)\n",
    "    mapped_vec = lattice.get_cartesian_coords(jimage + frac_coords_1 - frac_coords_0)\n",
    "    return np.linalg.norm(mapped_vec)"
   ]
  },
  {
   "cell_type": "code",
   "execution_count": 4,
   "metadata": {},
   "outputs": [],
   "source": [
    "strategy = CutOffDictNN(cut_off_dict=_VESTA_CUTOFFS)"
   ]
  },
  {
   "cell_type": "code",
   "execution_count": 5,
   "metadata": {},
   "outputs": [],
   "source": [
    "structure = Structure.from_file(\"../data/cifs/RSM0001.cif\").get_primitive_structure()\n",
    "sg = StructureGraph.with_local_env_strategy(structure, strategy)"
   ]
  },
  {
   "cell_type": "code",
   "execution_count": 52,
   "metadata": {},
   "outputs": [],
   "source": [
    "path = \"../data/cifs/RSM0001.cif\""
   ]
  },
  {
   "cell_type": "code",
   "execution_count": 54,
   "metadata": {},
   "outputs": [],
   "source": [
    "meta_path = path.replace(\"cifs\", \"meta\")\n",
    "meta_path = meta_path.replace(\".cif\", \".pt\")"
   ]
  },
  {
   "cell_type": "code",
   "execution_count": 6,
   "metadata": {},
   "outputs": [
    {
     "data": {
      "text/plain": [
       "OutMultiEdgeView([(0, 10, 0), (0, 12, 0), (0, 11, 0), (0, 8, 0), (0, 7, 0), (0, 9, 0), (1, 4, 0), (2, 5, 0), (3, 6, 0), (4, 9, 0), (4, 8, 0), (5, 11, 0), (5, 12, 0), (6, 7, 0), (6, 10, 0)])"
      ]
     },
     "execution_count": 6,
     "metadata": {},
     "output_type": "execute_result"
    }
   ],
   "source": [
    "sg.graph.edges"
   ]
  },
  {
   "cell_type": "code",
   "execution_count": 9,
   "metadata": {},
   "outputs": [],
   "source": [
    "    def _get_node_features(structure: Structure):\n",
    "        x = [site.specie.Z for site in structure]\n",
    "        return np.vstack(x)\n",
    "\n",
    "    def _get_edge_index_and_lengths(sg: StructureGraph):\n",
    "        edge_idx = []\n",
    "        distances = []\n",
    "\n",
    "        lattice = sg.structure.lattice\n",
    "        structure = sg.structure\n",
    "        for edge in sg.graph.edges(keys=True, data=True):\n",
    "            fc_0 = structure.frac_coords[edge[0]]\n",
    "            fc_1 = structure.frac_coords[edge[1]]\n",
    "            d = _get_distance(lattice, fc_0, fc_1, edge[-1][\"to_jimage\"])\n",
    "            distances.append(d)\n",
    "            edge_idx.append([edge[0], edge[1]])\n",
    "\n",
    "        return (\n",
    "            np.array(edge_idx).T,\n",
    "            np.array(distances)\n",
    "        )"
   ]
  },
  {
   "cell_type": "code",
   "execution_count": 10,
   "metadata": {},
   "outputs": [
    {
     "name": "stdout",
     "output_type": "stream",
     "text": [
      "(0, 10, 0, {'to_jimage': (0, 0, 0)})\n",
      "(0, 12, 0, {'to_jimage': (0, 1, -1)})\n",
      "(0, 11, 0, {'to_jimage': (0, 1, 0)})\n",
      "(0, 8, 0, {'to_jimage': (1, 0, -1)})\n",
      "(0, 7, 0, {'to_jimage': (1, 0, 0)})\n",
      "(0, 9, 0, {'to_jimage': (1, 1, -1)})\n",
      "(1, 4, 0, {'to_jimage': (1, 0, 0)})\n",
      "(2, 5, 0, {'to_jimage': (-1, 0, 0)})\n",
      "(3, 6, 0, {'to_jimage': (0, 0, 0)})\n",
      "(4, 9, 0, {'to_jimage': (0, 0, -1)})\n",
      "(4, 8, 0, {'to_jimage': (0, 0, -1)})\n",
      "(5, 11, 0, {'to_jimage': (0, 1, 0)})\n",
      "(5, 12, 0, {'to_jimage': (0, 1, 0)})\n",
      "(6, 7, 0, {'to_jimage': (0, 0, 0)})\n",
      "(6, 10, 0, {'to_jimage': (0, 0, 0)})\n"
     ]
    }
   ],
   "source": [
    "x = _get_node_features(structure)\n",
    "edge_idx, edge_attr = _get_edge_index_and_lengths(sg)"
   ]
  },
  {
   "cell_type": "code",
   "execution_count": 12,
   "metadata": {},
   "outputs": [
    {
     "data": {
      "text/plain": [
       "(2, 15)"
      ]
     },
     "execution_count": 12,
     "metadata": {},
     "output_type": "execute_result"
    }
   ],
   "source": [
    "edge_idx.shape"
   ]
  },
  {
   "cell_type": "code",
   "execution_count": 13,
   "metadata": {},
   "outputs": [],
   "source": [
    "data = Data(\n",
    "            x=x, \n",
    "            edge_index=torch.Tensor(edge_idx),\n",
    "            edge_attr=edge_attr\n",
    "        )"
   ]
  },
  {
   "cell_type": "code",
   "execution_count": 14,
   "metadata": {},
   "outputs": [],
   "source": [
    "graph = to_networkx(data)"
   ]
  },
  {
   "cell_type": "code",
   "execution_count": 23,
   "metadata": {},
   "outputs": [
    {
     "data": {
      "text/plain": [
       "array([64,  1,  1,  1,  6,  6,  6,  8,  8,  8,  8,  8,  8])"
      ]
     },
     "execution_count": 23,
     "metadata": {},
     "output_type": "execute_result"
    }
   ],
   "source": [
    "features = data.x.flatten()\n",
    "features"
   ]
  },
  {
   "cell_type": "code",
   "execution_count": 24,
   "metadata": {},
   "outputs": [
    {
     "data": {
      "text/plain": [
       "64"
      ]
     },
     "execution_count": 24,
     "metadata": {},
     "output_type": "execute_result"
    }
   ],
   "source": [
    "features[0]"
   ]
  },
  {
   "cell_type": "code",
   "execution_count": 30,
   "metadata": {},
   "outputs": [],
   "source": [
    "new_features = []\n",
    "\n",
    "for node in graph.nodes:\n",
    "    nebs = graph.neighbors(node)\n",
    "    degs = [features[int(neb)] for neb in nebs]\n",
    "    neb_features = sorted([str(deg) for deg in degs])\n",
    "    nn_features = [str(features[node])]+sorted([str(deg) for deg in degs if len(degs)>0])\n",
    "    nn_features = \"_\".join(nn_features)\n",
    "    hash_object = hashlib.md5(nn_features.encode())\n",
    "    hashing = hash_object.hexdigest()\n",
    "    new_features.append(hashing)"
   ]
  },
  {
   "cell_type": "code",
   "execution_count": 49,
   "metadata": {},
   "outputs": [
    {
     "data": {
      "text/plain": [
       "array([64,  1,  1,  1,  6,  6,  6,  8,  8,  8,  8,  8,  8])"
      ]
     },
     "execution_count": 49,
     "metadata": {},
     "output_type": "execute_result"
    }
   ],
   "source": [
    "data.x.flatten()"
   ]
  },
  {
   "cell_type": "code",
   "execution_count": 50,
   "metadata": {},
   "outputs": [],
   "source": [
    "features_to_WL = {}\n",
    "for i, item in enumerate(data.x.flatten()):\n",
    "    features_to_WL.update({i: item})"
   ]
  },
  {
   "cell_type": "code",
   "execution_count": 51,
   "metadata": {},
   "outputs": [
    {
     "data": {
      "text/plain": [
       "{0: 64,\n",
       " 1: 1,\n",
       " 2: 1,\n",
       " 3: 1,\n",
       " 4: 6,\n",
       " 5: 6,\n",
       " 6: 6,\n",
       " 7: 8,\n",
       " 8: 8,\n",
       " 9: 8,\n",
       " 10: 8,\n",
       " 11: 8,\n",
       " 12: 8}"
      ]
     },
     "execution_count": 51,
     "metadata": {},
     "output_type": "execute_result"
    }
   ],
   "source": [
    "features_to_WL"
   ]
  },
  {
   "cell_type": "code",
   "execution_count": 44,
   "metadata": {},
   "outputs": [],
   "source": [
    "class WeisfeilerLehmanMachine:\n",
    "    \"\"\"\n",
    "    Weisfeiler Lehman feature extractor class.\n",
    "    \"\"\"\n",
    "    def __init__(self, graph, features, iterations):\n",
    "        \"\"\"\n",
    "        Initialization method which also executes feature extraction.\n",
    "        :param graph: The Nx graph object.\n",
    "        :param features: Feature hash table.\n",
    "        :param iterations: Number of WL iterations.\n",
    "        \"\"\"\n",
    "        self.iterations = iterations\n",
    "        self.graph = graph\n",
    "        self.features = features\n",
    "        self.nodes = self.graph.nodes()\n",
    "        self.extracted_features = [str(v) for k, v in features.items()]\n",
    "        self.do_recursions()\n",
    "\n",
    "    def do_a_recursion(self):\n",
    "        \"\"\"\n",
    "        The method does a single WL recursion.\n",
    "        :return new_features: The hash table with extracted WL features.\n",
    "        \"\"\"\n",
    "        new_features = {}\n",
    "        for node in self.nodes:\n",
    "            nebs = self.graph.neighbors(node)\n",
    "            degs = [self.features[neb] for neb in nebs]\n",
    "            features = [str(self.features[node])]+sorted([str(deg) for deg in degs])\n",
    "            features = \"_\".join(features)\n",
    "            hash_object = hashlib.md5(features.encode())\n",
    "            hashing = hash_object.hexdigest()\n",
    "            new_features[node] = hashing\n",
    "        self.extracted_features = self.extracted_features + list(new_features.values())\n",
    "        return new_features\n",
    "\n",
    "    def do_recursions(self):\n",
    "        \"\"\"\n",
    "        The method does a series of WL recursions.\n",
    "        \"\"\"\n",
    "        for _ in range(self.iterations):\n",
    "            self.features = self.do_a_recursion()\n",
    "            print(self.features)"
   ]
  },
  {
   "cell_type": "code",
   "execution_count": 45,
   "metadata": {},
   "outputs": [
    {
     "name": "stdout",
     "output_type": "stream",
     "text": [
      "{0: 'b687ea24da315fef802670d6e98e7453', 1: '291dd475d0224126a68550d7c406f3b1', 2: '291dd475d0224126a68550d7c406f3b1', 3: '291dd475d0224126a68550d7c406f3b1', 4: '29b8c03f8d52a63d11887d6a70570940', 5: '29b8c03f8d52a63d11887d6a70570940', 6: '29b8c03f8d52a63d11887d6a70570940', 7: 'c9f0f895fb98ab9159f51fd0297e236d', 8: 'c9f0f895fb98ab9159f51fd0297e236d', 9: 'c9f0f895fb98ab9159f51fd0297e236d', 10: 'c9f0f895fb98ab9159f51fd0297e236d', 11: 'c9f0f895fb98ab9159f51fd0297e236d', 12: 'c9f0f895fb98ab9159f51fd0297e236d'}\n",
      "{0: '3fa24e606490fe53d6b0f1ce52c9bc2d', 1: '2f72d8013c247d7dc696ad360ec04f96', 2: '2f72d8013c247d7dc696ad360ec04f96', 3: '2f72d8013c247d7dc696ad360ec04f96', 4: '4d2b25f2a9de9d1b45ec81e0f23804a3', 5: '4d2b25f2a9de9d1b45ec81e0f23804a3', 6: '4d2b25f2a9de9d1b45ec81e0f23804a3', 7: '815e6212def15fe76ed27cec7a393d59', 8: '815e6212def15fe76ed27cec7a393d59', 9: '815e6212def15fe76ed27cec7a393d59', 10: '815e6212def15fe76ed27cec7a393d59', 11: '815e6212def15fe76ed27cec7a393d59', 12: '815e6212def15fe76ed27cec7a393d59'}\n",
      "{0: 'db0062e38f46aacedc639a2047d78182', 1: '955be52072e5121d49a3d4c63baccd12', 2: '955be52072e5121d49a3d4c63baccd12', 3: '955be52072e5121d49a3d4c63baccd12', 4: '7dfb22e0777f2e044884752b540e5fc2', 5: '7dfb22e0777f2e044884752b540e5fc2', 6: '7dfb22e0777f2e044884752b540e5fc2', 7: 'deb77b7fcd6ee6af0b2c992355eaeea9', 8: 'deb77b7fcd6ee6af0b2c992355eaeea9', 9: 'deb77b7fcd6ee6af0b2c992355eaeea9', 10: 'deb77b7fcd6ee6af0b2c992355eaeea9', 11: 'deb77b7fcd6ee6af0b2c992355eaeea9', 12: 'deb77b7fcd6ee6af0b2c992355eaeea9'}\n",
      "{0: '30cae3518145eb0a0849e508998af0de', 1: '834cf02f8b983d8008e87201752d5eb8', 2: '834cf02f8b983d8008e87201752d5eb8', 3: '834cf02f8b983d8008e87201752d5eb8', 4: 'b62d0e0ac9bd09efaa4dc9c250b33883', 5: 'b62d0e0ac9bd09efaa4dc9c250b33883', 6: 'b62d0e0ac9bd09efaa4dc9c250b33883', 7: 'cdc1fcf2f64a1f7812b7c996746a8e6b', 8: 'cdc1fcf2f64a1f7812b7c996746a8e6b', 9: 'cdc1fcf2f64a1f7812b7c996746a8e6b', 10: 'cdc1fcf2f64a1f7812b7c996746a8e6b', 11: 'cdc1fcf2f64a1f7812b7c996746a8e6b', 12: 'cdc1fcf2f64a1f7812b7c996746a8e6b'}\n"
     ]
    }
   ],
   "source": [
    "machine = WeisfeilerLehmanMachine(graph, features_to_WL, 4)"
   ]
  },
  {
   "cell_type": "code",
   "execution_count": 112,
   "metadata": {},
   "outputs": [],
   "source": [
    "from glob import glob\n",
    "import random"
   ]
  },
  {
   "cell_type": "code",
   "execution_count": 117,
   "metadata": {},
   "outputs": [],
   "source": [
    "from pathlib import Path\n",
    "from typing import Callable, Dict, List, Tuple, Union\n",
    "from typing_extensions import TypeAlias\n",
    "PathType: TypeAlias = Union[Path, str]"
   ]
  },
  {
   "cell_type": "code",
   "execution_count": 118,
   "metadata": {},
   "outputs": [],
   "source": [
    "cifs = glob(\"../data/cifs/*.cif\")"
   ]
  },
  {
   "cell_type": "code",
   "execution_count": 61,
   "metadata": {},
   "outputs": [],
   "source": [
    "name = cifs[0].split(\"/\")[-1].rstrip(\".cif\")"
   ]
  },
  {
   "cell_type": "code",
   "execution_count": 62,
   "metadata": {},
   "outputs": [
    {
     "data": {
      "text/plain": [
       "'RSM0008'"
      ]
     },
     "execution_count": 62,
     "metadata": {},
     "output_type": "execute_result"
    }
   ],
   "source": [
    "name"
   ]
  },
  {
   "cell_type": "code",
   "execution_count": 66,
   "metadata": {},
   "outputs": [],
   "source": [
    "base = os.path.basename(\"../../../data/vec/embedding.csv\")"
   ]
  },
  {
   "cell_type": "code",
   "execution_count": 67,
   "metadata": {},
   "outputs": [
    {
     "data": {
      "text/plain": [
       "('embedding', '.csv')"
      ]
     },
     "execution_count": 67,
     "metadata": {},
     "output_type": "execute_result"
    }
   ],
   "source": [
    "os.path.splitext(base)"
   ]
  },
  {
   "cell_type": "code",
   "execution_count": 75,
   "metadata": {},
   "outputs": [],
   "source": [
    "sims = [('g_RSM1099', 0.9754330515861511), ('g_RSM0566', 0.9705005884170532), ('g_RSM0390', 0.9640724658966064)]"
   ]
  },
  {
   "cell_type": "code",
   "execution_count": 78,
   "metadata": {},
   "outputs": [
    {
     "data": {
      "text/plain": [
       "2"
      ]
     },
     "execution_count": 78,
     "metadata": {},
     "output_type": "execute_result"
    }
   ],
   "source": [
    "[docid for docid, sim in sims].index('g_RSM0390')"
   ]
  },
  {
   "cell_type": "code",
   "execution_count": 98,
   "metadata": {},
   "outputs": [],
   "source": [
    "data = [0,1,0,3,4,0,1,1,0]"
   ]
  },
  {
   "cell_type": "code",
   "execution_count": 99,
   "metadata": {},
   "outputs": [],
   "source": [
    "from collections import Counter"
   ]
  },
  {
   "cell_type": "code",
   "execution_count": 100,
   "metadata": {},
   "outputs": [
    {
     "data": {
      "text/plain": [
       "Counter({0: 4, 1: 3, 3: 1, 4: 1})"
      ]
     },
     "execution_count": 100,
     "metadata": {},
     "output_type": "execute_result"
    }
   ],
   "source": [
    "dis = Counter(data)\n",
    "dis"
   ]
  },
  {
   "cell_type": "code",
   "execution_count": 101,
   "metadata": {},
   "outputs": [],
   "source": [
    "times_count = [dis[word] for idx, word in enumerate(dis)]"
   ]
  },
  {
   "cell_type": "code",
   "execution_count": 102,
   "metadata": {},
   "outputs": [
    {
     "data": {
      "text/plain": [
       "[4, 3, 1, 1]"
      ]
     },
     "execution_count": 102,
     "metadata": {},
     "output_type": "execute_result"
    }
   ],
   "source": [
    "times_count"
   ]
  },
  {
   "cell_type": "code",
   "execution_count": 107,
   "metadata": {},
   "outputs": [
    {
     "data": {
      "text/plain": [
       "0.5"
      ]
     },
     "execution_count": 107,
     "metadata": {},
     "output_type": "execute_result"
    }
   ],
   "source": [
    "np.sum(np.array(times_count)<3)/len(times_count)"
   ]
  },
  {
   "cell_type": "code",
   "execution_count": 27,
   "metadata": {},
   "outputs": [],
   "source": [
    "from mofgraph2vec.graph.mof2doc import MOF2doc"
   ]
  },
  {
   "cell_type": "code",
   "execution_count": 42,
   "metadata": {},
   "outputs": [],
   "source": [
    "doc = MOF2doc(\n",
    "    \"../data/cifs/\",\n",
    "    1,\n",
    "    1000\n",
    ")"
   ]
  },
  {
   "cell_type": "code",
   "execution_count": null,
   "metadata": {},
   "outputs": [],
   "source": []
  },
  {
   "cell_type": "code",
   "execution_count": 43,
   "metadata": {},
   "outputs": [
    {
     "name": "stderr",
     "output_type": "stream",
     "text": [
      "2023-01-30 12:27:14.109 | INFO     | mofgraph2vec.graph.mof2doc:get_documents:31 - Converting graphs to tokens. \n",
      "100%|██████████| 1000/1000 [00:03<00:00, 277.08it/s]\n"
     ]
    }
   ],
   "source": [
    "documents = doc.get_documents()"
   ]
  },
  {
   "cell_type": "code",
   "execution_count": 44,
   "metadata": {},
   "outputs": [
    {
     "data": {
      "text/plain": [
       "0.32193176783340716"
      ]
     },
     "execution_count": 44,
     "metadata": {},
     "output_type": "execute_result"
    }
   ],
   "source": [
    "doc.distribution_analysis(4)"
   ]
  },
  {
   "cell_type": "code",
   "execution_count": null,
   "metadata": {},
   "outputs": [],
   "source": []
  }
 ],
 "metadata": {
  "kernelspec": {
   "display_name": "mofgraph2vec",
   "language": "python",
   "name": "python3"
  },
  "language_info": {
   "codemirror_mode": {
    "name": "ipython",
    "version": 3
   },
   "file_extension": ".py",
   "mimetype": "text/x-python",
   "name": "python",
   "nbconvert_exporter": "python",
   "pygments_lexer": "ipython3",
   "version": "3.8.16 (default, Jan 17 2023, 16:42:09) \n[Clang 14.0.6 ]"
  },
  "orig_nbformat": 4,
  "vscode": {
   "interpreter": {
    "hash": "368a83da866b9402d886ea1b61fd69704c8f3d8a9de7c33a5da24e5026c853b5"
   }
  }
 },
 "nbformat": 4,
 "nbformat_minor": 2
}
